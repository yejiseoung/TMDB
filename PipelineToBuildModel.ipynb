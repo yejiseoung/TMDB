{
 "cells": [
  {
   "cell_type": "markdown",
   "id": "27fd888c",
   "metadata": {
    "toc": true
   },
   "source": [
    "<h1>Table of Contents<span class=\"tocSkip\"></span></h1>\n",
    "<div class=\"toc\"><ul class=\"toc-item\"><li><ul class=\"toc-item\"><li><span><a href=\"#Introduction\" data-toc-modified-id=\"Introduction-0.1\"><span class=\"toc-item-num\">0.1&nbsp;&nbsp;</span>Introduction</a></span></li><li><span><a href=\"#Import-&amp;-Load-data\" data-toc-modified-id=\"Import-&amp;-Load-data-0.2\"><span class=\"toc-item-num\">0.2&nbsp;&nbsp;</span>Import &amp; Load data</a></span></li></ul></li><li><span><a href=\"#Separate-dataset-into-train-and-test\" data-toc-modified-id=\"Separate-dataset-into-train-and-test-1\"><span class=\"toc-item-num\">1&nbsp;&nbsp;</span>Separate dataset into train and test</a></span></li><li><span><a href=\"#Target\" data-toc-modified-id=\"Target-2\"><span class=\"toc-item-num\">2&nbsp;&nbsp;</span>Target</a></span></li><li><span><a href=\"#Configuration\" data-toc-modified-id=\"Configuration-3\"><span class=\"toc-item-num\">3&nbsp;&nbsp;</span>Configuration</a></span></li><li><span><a href=\"#Pipeline\" data-toc-modified-id=\"Pipeline-4\"><span class=\"toc-item-num\">4&nbsp;&nbsp;</span>Pipeline</a></span></li><li><span><a href=\"#Score-new-data-(test.csv)\" data-toc-modified-id=\"Score-new-data-(test.csv)-5\"><span class=\"toc-item-num\">5&nbsp;&nbsp;</span>Score new data (test.csv)</a></span></li><li><span><a href=\"#Conclusion\" data-toc-modified-id=\"Conclusion-6\"><span class=\"toc-item-num\">6&nbsp;&nbsp;</span>Conclusion</a></span></li></ul></div>"
   ]
  },
  {
   "cell_type": "markdown",
   "id": "70a7e090",
   "metadata": {},
   "source": [
    "# TMBD_Pipeline to Build a Model"
   ]
  },
  {
   "cell_type": "markdown",
   "id": "97354e0b",
   "metadata": {},
   "source": [
    "### Introduction"
   ]
  },
  {
   "cell_type": "markdown",
   "id": "2d1de59a",
   "metadata": {},
   "source": [
    "In the previous notebooks, I cleaned data and explored dataset. \n",
    "\n",
    "In this notebook, I will use open source to engineer features because it is efficient when building a model and deploying the production. "
   ]
  },
  {
   "cell_type": "markdown",
   "id": "99ef533d",
   "metadata": {},
   "source": [
    "### Import & Load data"
   ]
  },
  {
   "cell_type": "code",
   "execution_count": 1,
   "id": "86ea9069",
   "metadata": {},
   "outputs": [
    {
     "data": {
      "text/plain": [
       "'/Users/yejiseoung/Dropbox/My Mac (Yejis-MacBook-Pro.local)/Documents/Projects/TMDB'"
      ]
     },
     "execution_count": 1,
     "metadata": {},
     "output_type": "execute_result"
    }
   ],
   "source": [
    "import numpy as np\n",
    "import pandas as pd\n",
    "import matplotlib.pyplot as plt\n",
    "\n",
    "from sklearn.metrics import mean_squared_error, r2_score\n",
    "from sklearn.model_selection import train_test_split\n",
    "\n",
    "pd.set_option('display.max_columns', 100)\n",
    "\n",
    "from pathlib import Path\n",
    "import os\n",
    "os.getcwd()"
   ]
  },
  {
   "cell_type": "code",
   "execution_count": 2,
   "id": "a48b5d11",
   "metadata": {},
   "outputs": [],
   "source": [
    "path = Path('/Users/yejiseoung/Dropbox/My Mac (Yejis-MacBook-Pro.local)/Documents/Projects/TMDB/datasets/')"
   ]
  },
  {
   "cell_type": "code",
   "execution_count": 3,
   "id": "fc9a83ec",
   "metadata": {},
   "outputs": [],
   "source": [
    "from sklearn.pipeline import Pipeline \n",
    "\n",
    "from sklearn.preprocessing import MinMaxScaler\n",
    "\n",
    "# from feature-engine\n",
    "from feature_engine.imputation import (\n",
    "    AddMissingIndicator,\n",
    "    MeanMedianImputer,\n",
    "    CategoricalImputer\n",
    ")\n",
    "\n",
    "\n",
    "from feature_engine.encoding import (\n",
    "    OrdinalEncoder\n",
    ")\n",
    "\n",
    "from feature_engine.transformation import LogTransformer\n",
    "\n",
    "from feature_engine.selection import DropFeatures\n",
    "from feature_engine.wrappers import SklearnTransformerWrapper\n",
    "\n",
    "import preprocessors as pp\n",
    "\n",
    "import optuna\n",
    "from optuna import trial\n",
    "\n",
    "from lightgbm import LGBMRegressor\n",
    "import joblib"
   ]
  },
  {
   "cell_type": "code",
   "execution_count": 4,
   "id": "96df68c8",
   "metadata": {},
   "outputs": [
    {
     "data": {
      "text/plain": [
       "((3000, 19), (4398, 18))"
      ]
     },
     "execution_count": 4,
     "metadata": {},
     "output_type": "execute_result"
    }
   ],
   "source": [
    "df_train = pd.read_csv(path/'engineered_train.csv')\n",
    "df_test = pd.read_csv(path/'engineered_test.csv')\n",
    "df_train.shape, df_test.shape"
   ]
  },
  {
   "cell_type": "markdown",
   "id": "b12d8ca1",
   "metadata": {},
   "source": [
    "## Separate dataset into train and test\n",
    "\n",
    "It is important to separate the data into training and testing set, because when we engineer features, some techniques learn parameters from data. This is to avoid over-fitting. \n",
    "\n",
    "Our feature engineering techniques will learn:\n",
    "\n",
    "- mean\n",
    "- mode\n",
    "- log-transformation for numerical variables\n",
    "- category frequency\n",
    "- and category to number mappings\n",
    "\n",
    "from the train set. "
   ]
  },
  {
   "cell_type": "code",
   "execution_count": 5,
   "id": "34dcb019",
   "metadata": {},
   "outputs": [
    {
     "data": {
      "text/plain": [
       "((2400, 17), (600, 17))"
      ]
     },
     "execution_count": 5,
     "metadata": {},
     "output_type": "execute_result"
    }
   ],
   "source": [
    "X_train, X_test, y_train, y_test = train_test_split(\n",
    "    df_train.drop(['id', 'revenue'], axis=1),\n",
    "    df_train['revenue'],\n",
    "    test_size=0.2, \n",
    "    random_state=42)\n",
    "\n",
    "X_train.shape, X_test.shape"
   ]
  },
  {
   "cell_type": "markdown",
   "id": "105e8cf1",
   "metadata": {},
   "source": [
    "## Target\n",
    "\n",
    "We apply the logarithm"
   ]
  },
  {
   "cell_type": "code",
   "execution_count": 6,
   "id": "92679456",
   "metadata": {},
   "outputs": [],
   "source": [
    "y_train = np.log(y_train)\n",
    "y_test = np.log(y_test)"
   ]
  },
  {
   "cell_type": "markdown",
   "id": "5c0bf118",
   "metadata": {},
   "source": [
    "## Configuration\n",
    "\n",
    "In order to make a pipeline, I need to determine configuration. "
   ]
  },
  {
   "cell_type": "code",
   "execution_count": 7,
   "id": "61711a81",
   "metadata": {},
   "outputs": [],
   "source": [
    "# categorical variables with NA with set\n",
    "CATEGORICAL_VARS_WITH_NA_FREQUENT = ['num_genres', 'num_spoken_lang']\n",
    "\n",
    "CATEGORICAL_VARS_WITH_NA_MISSING = ['num_pro_comps', 'num_keywords']\n",
    "\n",
    "\n",
    "# numerical variables with NA in train set\n",
    "NUMERICAL_VARS_WITH_NA = ['budget',\n",
    "                          'runtime',\n",
    "                          'num_cast']\n",
    "\n",
    "TEMPORAL_VARS = ['release_year', 'release_month', 'release_day', 'release_dayofweek']\n",
    "BINARY_VARS = ['is_collection', 'is_homepage', 'is_English']\n",
    "\n",
    "# variables to log transform\n",
    "NUMERICAL_LOG_VARS = ['budget', 'popularity', 'num_cast']\n",
    "\n",
    "# variables to map\n",
    "genre = ['num_genres']\n",
    "comps = ['num_pro_comps']\n",
    "count = ['num_pro_count']\n",
    "lang = ['num_spoken_lang']\n",
    "keywords = ['num_keywords']\n",
    "crew = ['num_crew']\n",
    "\n",
    "# variables to map\n",
    "genre_mappings = {'1': 1, '2': 2, '3': 3, '4': 4, '>4': 5}\n",
    "comps_mappings = {'1': 1, '2': 2, '3':3, '4': 4, '5': 5, '>5': 6, 'Missing': 0}\n",
    "count_mappings = {'1': 1, '2': 2, '>2': 3}\n",
    "lang_mappings = {'1': 1, '2': 2, '3': 3, '>3': 4}\n",
    "keywords_mappings = {'<5': 1, '<10': 2, '<15': 3, '<20': 4, '>30': 5, 'Missing': 0}\n",
    "crew_mappings = {'small': 1, 'medium': 2, 'large': 3, 'missing': 0}"
   ]
  },
  {
   "cell_type": "markdown",
   "id": "65158ecb",
   "metadata": {},
   "source": [
    "## Pipeline\n",
    "\n",
    "Here, we set up missing value imputation methods, variable transformation for numerical variables, and categorical variables mappings. \n",
    "\n",
    "For mappings, I wrote `preprocessors.py` to create pipeline. \n",
    "\n",
    "Finally, I will use LightGBM Regressor to build a model. We found the best parameters for this dataset in hyperparameter tuning notebook. "
   ]
  },
  {
   "cell_type": "code",
   "execution_count": 8,
   "id": "b1a09920",
   "metadata": {},
   "outputs": [],
   "source": [
    "params = {'n_estimators': 10000,\n",
    " 'num_leaves': 15,\n",
    " 'boosting': 'gbdt',\n",
    " 'max_depth': 5,\n",
    " 'max_bin': 32,\n",
    " 'min_data_in_leaf': 1,\n",
    " 'min_data_in_bin': 1,\n",
    " 'min_gain_to_split': 3.87,\n",
    " 'learning_rate': 0.13559623067878163,\n",
    " 'random_state': 0,\n",
    " 'feature_fraction': 0.4629352923314487,\n",
    " 'bagging_fraction': 0.8352156581622462,\n",
    " 'bagging_freq': 7,\n",
    " 'lambda_l1': 4.339454011245544e-08,\n",
    " 'lambda_l2': 0.0031662095674507883}"
   ]
  },
  {
   "cell_type": "code",
   "execution_count": 9,
   "id": "8b694267",
   "metadata": {},
   "outputs": [],
   "source": [
    "# set up the pipeline\n",
    "\n",
    "pipe = Pipeline([\n",
    "    # ==== IMPUTATION ======\n",
    "    # impute categorical variables with string missing\n",
    "    ('missing_imputation', CategoricalImputer(\n",
    "        imputation_method='missing', variables=CATEGORICAL_VARS_WITH_NA_MISSING)),\n",
    "\n",
    "    ('frequent_imputation', CategoricalImputer(\n",
    "        imputation_method='frequent', variables=CATEGORICAL_VARS_WITH_NA_FREQUENT)),\n",
    "    \n",
    "    # add missing indicator\n",
    "    ('missing_indicator', AddMissingIndicator(\n",
    "        variables=NUMERICAL_VARS_WITH_NA)),\n",
    "    \n",
    "    # impute numerical variabls with the mean\n",
    "    ('mean_imputation', MeanMedianImputer(\n",
    "        imputation_method='mean', variables=NUMERICAL_VARS_WITH_NA)),\n",
    "    \n",
    "    \n",
    "    # ===== VARIABLE TRANSFORMATION ====\n",
    "    ('log', LogTransformer(variables=NUMERICAL_LOG_VARS)),\n",
    "    \n",
    "    \n",
    "    # === mappers ===\n",
    "    ('mapper_genre', pp.Mapper(\n",
    "        variables=genre, mappings=genre_mappings)),\n",
    "    \n",
    "    ('mapper_comps', pp.Mapper(\n",
    "        variables=comps, mappings=comps_mappings)),\n",
    "    \n",
    "    ('mapper_count', pp.Mapper(\n",
    "        variables=count, mappings=count_mappings)), \n",
    "    \n",
    "    ('mapper_lang', pp.Mapper(\n",
    "        variables=lang, mappings=lang_mappings)),\n",
    "    \n",
    "    ('mapper_keywords', pp.Mapper(\n",
    "        variables=keywords, mappings=keywords_mappings)),\n",
    "    \n",
    "    ('mapper_crew', pp.Mapper(\n",
    "        variables=crew, mappings=crew_mappings)),\n",
    "    \n",
    "    # ===== Feature Scaling =======\n",
    "    ('scaler', MinMaxScaler()),\n",
    "    \n",
    "    ('lgb', LGBMRegressor(n_jobs=-1, **params))\n",
    "])"
   ]
  },
  {
   "cell_type": "code",
   "execution_count": 10,
   "id": "4e0a3621",
   "metadata": {
    "code_folding": []
   },
   "outputs": [
    {
     "data": {
      "text/plain": [
       "Pipeline(steps=[('missing_imputation',\n",
       "                 CategoricalImputer(variables=['num_pro_comps',\n",
       "                                               'num_keywords'])),\n",
       "                ('frequent_imputation',\n",
       "                 CategoricalImputer(imputation_method='frequent',\n",
       "                                    variables=['num_genres',\n",
       "                                               'num_spoken_lang'])),\n",
       "                ('missing_indicator',\n",
       "                 AddMissingIndicator(variables=['budget', 'runtime',\n",
       "                                                'num_cast'])),\n",
       "                ('mean_imputation',\n",
       "                 MeanMedianImputer(imputation...\n",
       "                ('lgb',\n",
       "                 LGBMRegressor(bagging_fraction=0.8352156581622462,\n",
       "                               bagging_freq=7, boosting='gbdt',\n",
       "                               feature_fraction=0.4629352923314487,\n",
       "                               lambda_l1=4.339454011245544e-08,\n",
       "                               lambda_l2=0.0031662095674507883,\n",
       "                               learning_rate=0.13559623067878163, max_bin=32,\n",
       "                               max_depth=5, min_data_in_bin=1,\n",
       "                               min_data_in_leaf=1, min_gain_to_split=3.87,\n",
       "                               n_estimators=10000, num_leaves=15,\n",
       "                               random_state=0))])"
      ]
     },
     "execution_count": 10,
     "metadata": {},
     "output_type": "execute_result"
    }
   ],
   "source": [
    "# train the pipeline\n",
    "pipe.fit(X_train, y_train)"
   ]
  },
  {
   "cell_type": "code",
   "execution_count": 11,
   "id": "27f6d21a",
   "metadata": {},
   "outputs": [
    {
     "name": "stdout",
     "output_type": "stream",
     "text": [
      "train rmse: 1.7075463132310413\n",
      "test rmse: 1.981864758237628\n"
     ]
    }
   ],
   "source": [
    "\n",
    "# make predictions for train set\n",
    "pred = pipe.predict(X_train)\n",
    "\n",
    "# rmse\n",
    "print('train rmse: {}'.format(mean_squared_error(y_train, pred, squared=False)))\n",
    "\n",
    "\n",
    "# make predictions for test set\n",
    "pred_test = pipe.predict(X_test)\n",
    "\n",
    "# rmse\n",
    "print('test rmse: {}'.format(mean_squared_error(y_test, pred_test, squared=False)))\n"
   ]
  },
  {
   "cell_type": "code",
   "execution_count": 12,
   "id": "aa95cb29",
   "metadata": {
    "scrolled": true
   },
   "outputs": [
    {
     "data": {
      "text/plain": [
       "<matplotlib.collections.PathCollection at 0x7fcf1822c2e0>"
      ]
     },
     "execution_count": 12,
     "metadata": {},
     "output_type": "execute_result"
    },
    {
     "data": {
      "image/png": "[encoded data removed]",
      "text/plain": [
       "<Figure size 432x288 with 1 Axes>"
      ]
     },
     "metadata": {
      "needs_background": "light"
     },
     "output_type": "display_data"
    }
   ],
   "source": [
    "plt.scatter(y_test, pipe.predict(X_test))\n"
   ]
  },
  {
   "cell_type": "code",
   "execution_count": 13,
   "id": "0240e5e8",
   "metadata": {},
   "outputs": [
    {
     "data": {
      "text/plain": [
       "['/Users/yejiseoung/Dropbox/My Mac (Yejis-MacBook-Pro.local)/Documents/Projects/TMDB/datasets/tmbd_pipe.joblib']"
      ]
     },
     "execution_count": 13,
     "metadata": {},
     "output_type": "execute_result"
    }
   ],
   "source": [
    "# now let's save the pipe\n",
    "joblib.dump(pipe, path/'tmbd_pipe.joblib')"
   ]
  },
  {
   "cell_type": "markdown",
   "id": "88e53745",
   "metadata": {},
   "source": [
    "## Score new data (test.csv)"
   ]
  },
  {
   "cell_type": "markdown",
   "id": "6a1b5184",
   "metadata": {},
   "source": [
    "We created pipeline to build lgb model, and now we can use the model to predict revenue for new data (test.csv)"
   ]
  },
  {
   "cell_type": "code",
   "execution_count": 14,
   "id": "c21f9cce",
   "metadata": {
    "scrolled": true
   },
   "outputs": [
    {
     "data": {
      "text/html": [
       "<div>\n",
       "<style scoped>\n",
       "    .dataframe tbody tr th:only-of-type {\n",
       "        vertical-align: middle;\n",
       "    }\n",
       "\n",
       "    .dataframe tbody tr th {\n",
       "        vertical-align: top;\n",
       "    }\n",
       "\n",
       "    .dataframe thead th {\n",
       "        text-align: right;\n",
       "    }\n",
       "</style>\n",
       "<table border=\"1\" class=\"dataframe\">\n",
       "  <thead>\n",
       "    <tr style=\"text-align: right;\">\n",
       "      <th></th>\n",
       "      <th>id</th>\n",
       "      <th>budget</th>\n",
       "      <th>popularity</th>\n",
       "      <th>runtime</th>\n",
       "      <th>is_collection</th>\n",
       "      <th>num_genres</th>\n",
       "      <th>is_homepage</th>\n",
       "      <th>is_English</th>\n",
       "      <th>num_pro_comps</th>\n",
       "      <th>num_pro_count</th>\n",
       "      <th>num_spoken_lang</th>\n",
       "      <th>num_keywords</th>\n",
       "      <th>num_cast</th>\n",
       "      <th>num_crew</th>\n",
       "      <th>release_month</th>\n",
       "      <th>release_day</th>\n",
       "      <th>release_year</th>\n",
       "      <th>release_dayofweek</th>\n",
       "    </tr>\n",
       "  </thead>\n",
       "  <tbody>\n",
       "    <tr>\n",
       "      <th>0</th>\n",
       "      <td>3001</td>\n",
       "      <td>NaN</td>\n",
       "      <td>3.851534</td>\n",
       "      <td>90.0</td>\n",
       "      <td>1</td>\n",
       "      <td>4</td>\n",
       "      <td>1</td>\n",
       "      <td>0</td>\n",
       "      <td>NaN</td>\n",
       "      <td>2</td>\n",
       "      <td>2</td>\n",
       "      <td>&lt;5</td>\n",
       "      <td>7.0</td>\n",
       "      <td>small</td>\n",
       "      <td>7.0</td>\n",
       "      <td>14.0</td>\n",
       "      <td>2007.0</td>\n",
       "      <td>5.0</td>\n",
       "    </tr>\n",
       "    <tr>\n",
       "      <th>1</th>\n",
       "      <td>3002</td>\n",
       "      <td>88000.0</td>\n",
       "      <td>3.559789</td>\n",
       "      <td>65.0</td>\n",
       "      <td>0</td>\n",
       "      <td>2</td>\n",
       "      <td>0</td>\n",
       "      <td>1</td>\n",
       "      <td>1</td>\n",
       "      <td>1</td>\n",
       "      <td>1</td>\n",
       "      <td>&lt;10</td>\n",
       "      <td>10.0</td>\n",
       "      <td>small</td>\n",
       "      <td>5.0</td>\n",
       "      <td>19.0</td>\n",
       "      <td>1958.0</td>\n",
       "      <td>6.0</td>\n",
       "    </tr>\n",
       "  </tbody>\n",
       "</table>\n",
       "</div>"
      ],
      "text/plain": [
       "     id   budget  popularity  runtime  is_collection num_genres  is_homepage  \\\n",
       "0  3001      NaN    3.851534     90.0              1          4            1   \n",
       "1  3002  88000.0    3.559789     65.0              0          2            0   \n",
       "\n",
       "   is_English num_pro_comps num_pro_count num_spoken_lang num_keywords  \\\n",
       "0           0           NaN             2               2           <5   \n",
       "1           1             1             1               1          <10   \n",
       "\n",
       "   num_cast num_crew  release_month  release_day  release_year  \\\n",
       "0       7.0    small            7.0         14.0        2007.0   \n",
       "1      10.0    small            5.0         19.0        1958.0   \n",
       "\n",
       "   release_dayofweek  \n",
       "0                5.0  \n",
       "1                6.0  "
      ]
     },
     "execution_count": 14,
     "metadata": {},
     "output_type": "execute_result"
    }
   ],
   "source": [
    "df_test.head(2)"
   ]
  },
  {
   "cell_type": "markdown",
   "id": "8302b12b",
   "metadata": {},
   "source": [
    "There is a situation where we don't have any missing values in certain variables in training set, but we have missing observations in test set. "
   ]
  },
  {
   "cell_type": "code",
   "execution_count": 15,
   "id": "6f9610d9",
   "metadata": {},
   "outputs": [
    {
     "data": {
      "text/plain": [
       "['release_month', 'release_day', 'release_year', 'release_dayofweek']"
      ]
     },
     "execution_count": 15,
     "metadata": {},
     "output_type": "execute_result"
    }
   ],
   "source": [
    "# create a list of missing values for test set\n",
    "new_vars_with_na = [var for var in X_train.columns\n",
    "                   if var not in CATEGORICAL_VARS_WITH_NA_FREQUENT + \n",
    "                   CATEGORICAL_VARS_WITH_NA_MISSING +\n",
    "                   NUMERICAL_VARS_WITH_NA\n",
    "                   and df_test[var].isnull().mean()>0]\n",
    "\n",
    "new_vars_with_na"
   ]
  },
  {
   "cell_type": "code",
   "execution_count": 16,
   "id": "e5907489",
   "metadata": {},
   "outputs": [
    {
     "data": {
      "text/plain": [
       "release_month        0.000227\n",
       "release_day          0.000227\n",
       "release_year         0.000227\n",
       "release_dayofweek    0.000227\n",
       "dtype: float64"
      ]
     },
     "execution_count": 16,
     "metadata": {},
     "output_type": "execute_result"
    }
   ],
   "source": [
    "df_test[new_vars_with_na].isnull().mean()"
   ]
  },
  {
   "cell_type": "markdown",
   "id": "54982fed",
   "metadata": {},
   "source": [
    "As we can see that the missing observations in test set are negligible, so I would impute missing values with median of training set."
   ]
  },
  {
   "cell_type": "code",
   "execution_count": 17,
   "id": "1911fcac",
   "metadata": {},
   "outputs": [],
   "source": [
    "### ==== Add missing imputation method for test set=====\n",
    "# categorical variables with NA with set\n",
    "CATEGORICAL_VARS_WITH_NA_FREQUENT = ['num_genres', 'num_spoken_lang']\n",
    "\n",
    "CATEGORICAL_VARS_WITH_NA_MISSING = ['num_pro_comps', 'num_keywords']\n",
    "\n",
    "\n",
    "# numerical variables with NA in train set\n",
    "NUMERICAL_VARS_WITH_NA = ['budget',\n",
    "                          'runtime',\n",
    "                          'num_cast']\n",
    "\n",
    "# config for test set\n",
    "NEW_VARS_WITH_NA = ['release_year', 'release_month', 'release_day', 'release_dayofweek']\n",
    "\n",
    "# temporal and binary variables\n",
    "TEMPORAL_VARS = ['release_year', 'release_month', 'release_day', 'release_dayofweek']\n",
    "BINARY_VARS = ['is_collection', 'is_homepage', 'is_English']\n",
    "\n",
    "# variables to log transform\n",
    "NUMERICAL_LOG_VARS = ['budget', 'popularity', 'num_cast']\n",
    "\n",
    "# variables to map\n",
    "genre = ['num_genres']\n",
    "comps = ['num_pro_comps']\n",
    "count = ['num_pro_count']\n",
    "lang = ['num_spoken_lang']\n",
    "keywords = ['num_keywords']\n",
    "crew = ['num_crew']\n",
    "\n",
    "# variables to map\n",
    "genre_mappings = {'1': 1, '2': 2, '3': 3, '4': 4, '>4': 5}\n",
    "comps_mappings = {'1': 1, '2': 2, '3':3, '4': 4, '5': 5, '>5': 6, 'Missing': 0}\n",
    "count_mappings = {'1': 1, '2': 2, '>2': 3}\n",
    "lang_mappings = {'1': 1, '2': 2, '3': 3, '>3': 4}\n",
    "keywords_mappings = {'<5': 1, '<10': 2, '<15': 3, '<20': 4, '>30': 5, 'Missing': 0}\n",
    "crew_mappings = {'small': 1, 'medium': 2, 'large': 3, 'missing': 0}"
   ]
  },
  {
   "cell_type": "code",
   "execution_count": 18,
   "id": "1a86c280",
   "metadata": {},
   "outputs": [],
   "source": [
    "# set up the pipeline\n",
    "\n",
    "pipe = Pipeline([\n",
    "    # ==== IMPUTATION ======\n",
    "    # impute categorical variables with string missing\n",
    "    ('missing_imputation', CategoricalImputer(\n",
    "        imputation_method='missing', variables=CATEGORICAL_VARS_WITH_NA_MISSING)),\n",
    "\n",
    "    ('frequent_imputation', CategoricalImputer(\n",
    "        imputation_method='frequent', variables=CATEGORICAL_VARS_WITH_NA_FREQUENT)),\n",
    "    \n",
    "    # add missing indicator\n",
    "    ('missing_indicator', AddMissingIndicator(\n",
    "        variables=NUMERICAL_VARS_WITH_NA)),\n",
    "    \n",
    "    # impute numerical variabls with the mean\n",
    "    ('mean_imputation', MeanMedianImputer(\n",
    "        imputation_method='mean', variables=NUMERICAL_VARS_WITH_NA)),\n",
    "    \n",
    "    # impute missing values with the median for testing set\n",
    "    ('median_imputation', MeanMedianImputer(\n",
    "        imputation_method='median', variables=NEW_VARS_WITH_NA)),\n",
    "    \n",
    "    \n",
    "    # ===== VARIABLE TRANSFORMATION ====\n",
    "    ('log', LogTransformer(variables=NUMERICAL_LOG_VARS)),\n",
    "    \n",
    "    \n",
    "    # === mappers ===\n",
    "    ('mapper_genre', pp.Mapper(\n",
    "        variables=genre, mappings=genre_mappings)),\n",
    "    \n",
    "    ('mapper_comps', pp.Mapper(\n",
    "        variables=comps, mappings=comps_mappings)),\n",
    "    \n",
    "    ('mapper_count', pp.Mapper(\n",
    "        variables=count, mappings=count_mappings)), \n",
    "    \n",
    "    ('mapper_lang', pp.Mapper(\n",
    "        variables=lang, mappings=lang_mappings)),\n",
    "    \n",
    "    ('mapper_keywords', pp.Mapper(\n",
    "        variables=keywords, mappings=keywords_mappings)),\n",
    "    \n",
    "    ('mapper_crew', pp.Mapper(\n",
    "        variables=crew, mappings=crew_mappings)),\n",
    "    \n",
    "    # ===== Feature Scaling =======\n",
    "    ('scaler', MinMaxScaler()),\n",
    "    \n",
    "    ('lgb', LGBMRegressor(n_jobs=-1, **params))\n",
    "])"
   ]
  },
  {
   "cell_type": "code",
   "execution_count": 19,
   "id": "226e379e",
   "metadata": {},
   "outputs": [
    {
     "data": {
      "text/plain": [
       "Pipeline(steps=[('missing_imputation',\n",
       "                 CategoricalImputer(variables=['num_pro_comps',\n",
       "                                               'num_keywords'])),\n",
       "                ('frequent_imputation',\n",
       "                 CategoricalImputer(imputation_method='frequent',\n",
       "                                    variables=['num_genres',\n",
       "                                               'num_spoken_lang'])),\n",
       "                ('missing_indicator',\n",
       "                 AddMissingIndicator(variables=['budget', 'runtime',\n",
       "                                                'num_cast'])),\n",
       "                ('mean_imputation',\n",
       "                 MeanMedianImputer(imputation...\n",
       "                ('lgb',\n",
       "                 LGBMRegressor(bagging_fraction=0.8352156581622462,\n",
       "                               bagging_freq=7, boosting='gbdt',\n",
       "                               feature_fraction=0.4629352923314487,\n",
       "                               lambda_l1=4.339454011245544e-08,\n",
       "                               lambda_l2=0.0031662095674507883,\n",
       "                               learning_rate=0.13559623067878163, max_bin=32,\n",
       "                               max_depth=5, min_data_in_bin=1,\n",
       "                               min_data_in_leaf=1, min_gain_to_split=3.87,\n",
       "                               n_estimators=10000, num_leaves=15,\n",
       "                               random_state=0))])"
      ]
     },
     "execution_count": 19,
     "metadata": {},
     "output_type": "execute_result"
    }
   ],
   "source": [
    "# train the pipeline\n",
    "pipe.fit(X_train, y_train)"
   ]
  },
  {
   "cell_type": "code",
   "execution_count": 20,
   "id": "d63cd0bb",
   "metadata": {},
   "outputs": [
    {
     "name": "stdout",
     "output_type": "stream",
     "text": [
      "train rmse: 1.7075463132310413\n",
      "test rmse: 1.981864758237628\n"
     ]
    }
   ],
   "source": [
    "# make predictions for train set\n",
    "pred = pipe.predict(X_train)\n",
    "\n",
    "# rmse\n",
    "print('train rmse: {}'.format(mean_squared_error(y_train, pred, squared=False)))\n",
    "\n",
    "\n",
    "# make predictions for test set\n",
    "pred_test = pipe.predict(X_test)\n",
    "\n",
    "# rmse\n",
    "print('test rmse: {}'.format(mean_squared_error(y_test, pred_test, squared=False)))"
   ]
  },
  {
   "cell_type": "code",
   "execution_count": 21,
   "id": "002ef48e",
   "metadata": {},
   "outputs": [],
   "source": [
    "new_preds = pipe.predict(df_test.drop(['id'], axis=1))"
   ]
  },
  {
   "cell_type": "code",
   "execution_count": 22,
   "id": "3695282a",
   "metadata": {},
   "outputs": [
    {
     "data": {
      "text/plain": [
       "<AxesSubplot:>"
      ]
     },
     "execution_count": 22,
     "metadata": {},
     "output_type": "execute_result"
    },
    {
     "data": {
      "image/png": "[encoded data removed]",
      "text/plain": [
       "<Figure size 432x288 with 1 Axes>"
      ]
     },
     "metadata": {
      "needs_background": "light"
     },
     "output_type": "display_data"
    }
   ],
   "source": [
    "# let's plot the predicted revenue of movies\n",
    "pd.Series(np.exp(new_preds)).hist(bins=50)"
   ]
  },
  {
   "cell_type": "markdown",
   "id": "0ddb1ca9",
   "metadata": {},
   "source": [
    "When submitted the predicted values for test set, I got 2.06 rmse in Kaggle (580th). I might be able to try to get a better model, but it is not my primary purpose of this project. Therefore, I will use this model to deploy the production. "
   ]
  },
  {
   "cell_type": "markdown",
   "id": "3dfa2b18",
   "metadata": {},
   "source": [
    "## Conclusion\n",
    "\n",
    "Now we are ready for deployment!"
   ]
  }
 ],
 "metadata": {
  "kernelspec": {
   "display_name": "Python 3",
   "language": "python",
   "name": "python3"
  },
  "language_info": {
   "codemirror_mode": {
    "name": "ipython",
    "version": 3
   },
   "file_extension": ".py",
   "mimetype": "text/x-python",
   "name": "python",
   "nbconvert_exporter": "python",
   "pygments_lexer": "ipython3",
   "version": "3.8.8"
  },
  "toc": {
   "base_numbering": 1,
   "nav_menu": {},
   "number_sections": true,
   "sideBar": true,
   "skip_h1_title": true,
   "title_cell": "Table of Contents",
   "title_sidebar": "Contents",
   "toc_cell": true,
   "toc_position": {
    "height": "calc(100% - 180px)",
    "left": "10px",
    "top": "150px",
    "width": "205.21739196777344px"
   },
   "toc_section_display": true,
   "toc_window_display": false
  },
  "varInspector": {
   "cols": {
    "lenName": 16,
    "lenType": 16,
    "lenVar": 40
   },
   "kernels_config": {
    "python": {
     "delete_cmd_postfix": "",
     "delete_cmd_prefix": "del ",
     "library": "var_list.py",
     "varRefreshCmd": "print(var_dic_list())"
    },
    "r": {
     "delete_cmd_postfix": ") ",
     "delete_cmd_prefix": "rm(",
     "library": "var_list.r",
     "varRefreshCmd": "cat(var_dic_list()) "
    }
   },
   "types_to_exclude": [
    "module",
    "function",
    "builtin_function_or_method",
    "instance",
    "_Feature"
   ],
   "window_display": false
  }
 },
 "nbformat": 4,
 "nbformat_minor": 5
}
