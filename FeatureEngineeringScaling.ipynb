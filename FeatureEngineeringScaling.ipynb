{
 "cells": [
  {
   "cell_type": "markdown",
   "id": "019ae866",
   "metadata": {
    "toc": true
   },
   "source": [
    "<h1>Table of Contents<span class=\"tocSkip\"></span></h1>\n",
    "<div class=\"toc\"><ul class=\"toc-item\"><li><ul class=\"toc-item\"><li><span><a href=\"#Introduction\" data-toc-modified-id=\"Introduction-0.1\"><span class=\"toc-item-num\">0.1&nbsp;&nbsp;</span>Introduction</a></span></li><li><span><a href=\"#Import-&amp;-Load-data\" data-toc-modified-id=\"Import-&amp;-Load-data-0.2\"><span class=\"toc-item-num\">0.2&nbsp;&nbsp;</span>Import &amp; Load data</a></span></li></ul></li><li><span><a href=\"#Feature-Engineering\" data-toc-modified-id=\"Feature-Engineering-1\"><span class=\"toc-item-num\">1&nbsp;&nbsp;</span>Feature Engineering</a></span><ul class=\"toc-item\"><li><span><a href=\"#Split-training-and-test-set\" data-toc-modified-id=\"Split-training-and-test-set-1.1\"><span class=\"toc-item-num\">1.1&nbsp;&nbsp;</span>Split training and test set</a></span></li><li><span><a href=\"#Missing-values\" data-toc-modified-id=\"Missing-values-1.2\"><span class=\"toc-item-num\">1.2&nbsp;&nbsp;</span>Missing values</a></span><ul class=\"toc-item\"><li><span><a href=\"#Categorical-variables\" data-toc-modified-id=\"Categorical-variables-1.2.1\"><span class=\"toc-item-num\">1.2.1&nbsp;&nbsp;</span>Categorical variables</a></span></li><li><span><a href=\"#Numerical-variables\" data-toc-modified-id=\"Numerical-variables-1.2.2\"><span class=\"toc-item-num\">1.2.2&nbsp;&nbsp;</span>Numerical variables</a></span></li></ul></li><li><span><a href=\"#Numeric-variable-transformation\" data-toc-modified-id=\"Numeric-variable-transformation-1.3\"><span class=\"toc-item-num\">1.3&nbsp;&nbsp;</span>Numeric variable transformation</a></span></li><li><span><a href=\"#Encoding-of-categorical-variables\" data-toc-modified-id=\"Encoding-of-categorical-variables-1.4\"><span class=\"toc-item-num\">1.4&nbsp;&nbsp;</span>Encoding of categorical variables</a></span></li></ul></li><li><span><a href=\"#Feature-Scaling\" data-toc-modified-id=\"Feature-Scaling-2\"><span class=\"toc-item-num\">2&nbsp;&nbsp;</span>Feature Scaling</a></span></li><li><span><a href=\"#Conclusion\" data-toc-modified-id=\"Conclusion-3\"><span class=\"toc-item-num\">3&nbsp;&nbsp;</span>Conclusion</a></span></li></ul></div>"
   ]
  },
  {
   "cell_type": "markdown",
   "id": "1c794da3",
   "metadata": {},
   "source": [
    "# TMDB_Feature Engineering and Feature Scaling"
   ]
  },
  {
   "cell_type": "markdown",
   "id": "7403597a",
   "metadata": {},
   "source": [
    "### Introduction\n",
    "\n",
    "We've cleaned data and explored data, and created new variables in the previous notebooks (TMDB_Cleaning_FeatureEngineering.ipynb and TMDB_EDA_FeatureEngineering).\n",
    "\n",
    "In this notebook, I will perform feature engineering and feature scaling. "
   ]
  },
  {
   "cell_type": "markdown",
   "id": "9d2b3b57",
   "metadata": {},
   "source": [
    "### Import & Load data"
   ]
  },
  {
   "cell_type": "code",
   "execution_count": 34,
   "id": "fab9e6bf",
   "metadata": {},
   "outputs": [
    {
     "data": {
      "text/plain": [
       "'/Users/yejiseoung/Dropbox/My Mac (Yejis-MacBook-Pro.local)/Documents/Projects/TMDB'"
      ]
     },
     "execution_count": 34,
     "metadata": {},
     "output_type": "execute_result"
    }
   ],
   "source": [
    "import numpy as np\n",
    "import pandas as pd\n",
    "\n",
    "pd.set_option('display.max_columns', 100)\n",
    "\n",
    "import warnings\n",
    "warnings.filterwarnings('ignore')\n",
    "\n",
    "# to save the trained scaler class\n",
    "import joblib \n",
    "\n",
    "from pathlib import Path\n",
    "import os\n",
    "os.getcwd()"
   ]
  },
  {
   "cell_type": "code",
   "execution_count": 2,
   "id": "f05c4aa0",
   "metadata": {},
   "outputs": [],
   "source": [
    "# for the model\n",
    "from sklearn.model_selection import train_test_split\n",
    "from sklearn.ensemble import RandomForestRegressor\n",
    "from sklearn.metrics import mean_squared_error\n",
    "\n",
    "from sklearn.pipeline import Pipeline\n",
    "\n",
    "# for feature engineering\n",
    "from feature_engine import encoding as ce\n",
    "\n",
    "# feature scaling\n",
    "from sklearn.preprocessing import StandardScaler, MinMaxScaler"
   ]
  },
  {
   "cell_type": "code",
   "execution_count": 3,
   "id": "f8ba3ddf",
   "metadata": {},
   "outputs": [],
   "source": [
    "path = Path('/Users/yejiseoung/Dropbox/My Mac (Yejis-MacBook-Pro.local)/Documents/Projects/TMDB/datasets/')"
   ]
  },
  {
   "cell_type": "code",
   "execution_count": 4,
   "id": "d696640a",
   "metadata": {},
   "outputs": [
    {
     "name": "stdout",
     "output_type": "stream",
     "text": [
      "(3000, 23)\n"
     ]
    },
    {
     "data": {
      "text/html": [
       "<div>\n",
       "<style scoped>\n",
       "    .dataframe tbody tr th:only-of-type {\n",
       "        vertical-align: middle;\n",
       "    }\n",
       "\n",
       "    .dataframe tbody tr th {\n",
       "        vertical-align: top;\n",
       "    }\n",
       "\n",
       "    .dataframe thead th {\n",
       "        text-align: right;\n",
       "    }\n",
       "</style>\n",
       "<table border=\"1\" class=\"dataframe\">\n",
       "  <thead>\n",
       "    <tr style=\"text-align: right;\">\n",
       "      <th></th>\n",
       "      <th>id</th>\n",
       "      <th>budget</th>\n",
       "      <th>popularity</th>\n",
       "      <th>runtime</th>\n",
       "      <th>revenue</th>\n",
       "      <th>is_collection</th>\n",
       "      <th>num_genres</th>\n",
       "      <th>is_homepage</th>\n",
       "      <th>is_English</th>\n",
       "      <th>num_pro_comps</th>\n",
       "      <th>num_pro_count</th>\n",
       "      <th>num_spoken_lang</th>\n",
       "      <th>num_keywords</th>\n",
       "      <th>num_cast</th>\n",
       "      <th>num_crew</th>\n",
       "      <th>release_month</th>\n",
       "      <th>release_day</th>\n",
       "      <th>release_year</th>\n",
       "      <th>release_dayofweek</th>\n",
       "      <th>budget_year_ratio</th>\n",
       "      <th>runtime_to_mean_year</th>\n",
       "      <th>popularity_to_mean_year</th>\n",
       "      <th>budget_to_mean_year</th>\n",
       "    </tr>\n",
       "  </thead>\n",
       "  <tbody>\n",
       "    <tr>\n",
       "      <th>0</th>\n",
       "      <td>1</td>\n",
       "      <td>14000000.0</td>\n",
       "      <td>6.575393</td>\n",
       "      <td>93.0</td>\n",
       "      <td>12314651</td>\n",
       "      <td>1</td>\n",
       "      <td>1</td>\n",
       "      <td>0</td>\n",
       "      <td>1</td>\n",
       "      <td>3</td>\n",
       "      <td>1</td>\n",
       "      <td>1</td>\n",
       "      <td>&lt;5</td>\n",
       "      <td>24</td>\n",
       "      <td>medium</td>\n",
       "      <td>2</td>\n",
       "      <td>20</td>\n",
       "      <td>2015</td>\n",
       "      <td>4</td>\n",
       "      <td>3.448085</td>\n",
       "      <td>0.830821</td>\n",
       "      <td>0.642915</td>\n",
       "      <td>0.324913</td>\n",
       "    </tr>\n",
       "    <tr>\n",
       "      <th>1</th>\n",
       "      <td>2</td>\n",
       "      <td>40000000.0</td>\n",
       "      <td>8.248895</td>\n",
       "      <td>113.0</td>\n",
       "      <td>95149435</td>\n",
       "      <td>1</td>\n",
       "      <td>4</td>\n",
       "      <td>0</td>\n",
       "      <td>1</td>\n",
       "      <td>1</td>\n",
       "      <td>1</td>\n",
       "      <td>1</td>\n",
       "      <td>&lt;5</td>\n",
       "      <td>20</td>\n",
       "      <td>small</td>\n",
       "      <td>8</td>\n",
       "      <td>6</td>\n",
       "      <td>2004</td>\n",
       "      <td>4</td>\n",
       "      <td>9.960120</td>\n",
       "      <td>1.075080</td>\n",
       "      <td>0.984041</td>\n",
       "      <td>1.014210</td>\n",
       "    </tr>\n",
       "    <tr>\n",
       "      <th>2</th>\n",
       "      <td>3</td>\n",
       "      <td>3300000.0</td>\n",
       "      <td>64.299990</td>\n",
       "      <td>105.0</td>\n",
       "      <td>13092000</td>\n",
       "      <td>0</td>\n",
       "      <td>1</td>\n",
       "      <td>1</td>\n",
       "      <td>1</td>\n",
       "      <td>3</td>\n",
       "      <td>1</td>\n",
       "      <td>1</td>\n",
       "      <td>&lt;15</td>\n",
       "      <td>51</td>\n",
       "      <td>medium</td>\n",
       "      <td>10</td>\n",
       "      <td>10</td>\n",
       "      <td>2014</td>\n",
       "      <td>4</td>\n",
       "      <td>0.813570</td>\n",
       "      <td>0.979870</td>\n",
       "      <td>6.073148</td>\n",
       "      <td>0.091796</td>\n",
       "    </tr>\n",
       "    <tr>\n",
       "      <th>3</th>\n",
       "      <td>4</td>\n",
       "      <td>1200000.0</td>\n",
       "      <td>3.174936</td>\n",
       "      <td>122.0</td>\n",
       "      <td>16000000</td>\n",
       "      <td>0</td>\n",
       "      <td>2</td>\n",
       "      <td>1</td>\n",
       "      <td>0</td>\n",
       "      <td>NaN</td>\n",
       "      <td>1</td>\n",
       "      <td>2</td>\n",
       "      <td>&lt;10</td>\n",
       "      <td>7</td>\n",
       "      <td>small</td>\n",
       "      <td>3</td>\n",
       "      <td>9</td>\n",
       "      <td>2012</td>\n",
       "      <td>4</td>\n",
       "      <td>0.296432</td>\n",
       "      <td>1.133127</td>\n",
       "      <td>0.387724</td>\n",
       "      <td>0.030480</td>\n",
       "    </tr>\n",
       "    <tr>\n",
       "      <th>4</th>\n",
       "      <td>5</td>\n",
       "      <td>NaN</td>\n",
       "      <td>1.148070</td>\n",
       "      <td>118.0</td>\n",
       "      <td>3923970</td>\n",
       "      <td>0</td>\n",
       "      <td>2</td>\n",
       "      <td>0</td>\n",
       "      <td>0</td>\n",
       "      <td>NaN</td>\n",
       "      <td>1</td>\n",
       "      <td>1</td>\n",
       "      <td>&lt;5</td>\n",
       "      <td>4</td>\n",
       "      <td>small</td>\n",
       "      <td>2</td>\n",
       "      <td>5</td>\n",
       "      <td>2009</td>\n",
       "      <td>3</td>\n",
       "      <td>NaN</td>\n",
       "      <td>1.107001</td>\n",
       "      <td>0.145631</td>\n",
       "      <td>NaN</td>\n",
       "    </tr>\n",
       "  </tbody>\n",
       "</table>\n",
       "</div>"
      ],
      "text/plain": [
       "   id      budget  popularity  runtime   revenue  is_collection num_genres  \\\n",
       "0   1  14000000.0    6.575393     93.0  12314651              1          1   \n",
       "1   2  40000000.0    8.248895    113.0  95149435              1          4   \n",
       "2   3   3300000.0   64.299990    105.0  13092000              0          1   \n",
       "3   4   1200000.0    3.174936    122.0  16000000              0          2   \n",
       "4   5         NaN    1.148070    118.0   3923970              0          2   \n",
       "\n",
       "   is_homepage  is_English num_pro_comps num_pro_count num_spoken_lang  \\\n",
       "0            0           1             3             1               1   \n",
       "1            0           1             1             1               1   \n",
       "2            1           1             3             1               1   \n",
       "3            1           0           NaN             1               2   \n",
       "4            0           0           NaN             1               1   \n",
       "\n",
       "  num_keywords  num_cast num_crew  release_month  release_day  release_year  \\\n",
       "0           <5        24   medium              2           20          2015   \n",
       "1           <5        20    small              8            6          2004   \n",
       "2          <15        51   medium             10           10          2014   \n",
       "3          <10         7    small              3            9          2012   \n",
       "4           <5         4    small              2            5          2009   \n",
       "\n",
       "   release_dayofweek  budget_year_ratio  runtime_to_mean_year  \\\n",
       "0                  4           3.448085              0.830821   \n",
       "1                  4           9.960120              1.075080   \n",
       "2                  4           0.813570              0.979870   \n",
       "3                  4           0.296432              1.133127   \n",
       "4                  3                NaN              1.107001   \n",
       "\n",
       "   popularity_to_mean_year  budget_to_mean_year  \n",
       "0                 0.642915             0.324913  \n",
       "1                 0.984041             1.014210  \n",
       "2                 6.073148             0.091796  \n",
       "3                 0.387724             0.030480  \n",
       "4                 0.145631                  NaN  "
      ]
     },
     "execution_count": 4,
     "metadata": {},
     "output_type": "execute_result"
    }
   ],
   "source": [
    "data = pd.read_csv(path/'engineered_train.csv')\n",
    "print(data.shape)\n",
    "data.head()"
   ]
  },
  {
   "cell_type": "code",
   "execution_count": 5,
   "id": "d10f54de",
   "metadata": {},
   "outputs": [
    {
     "name": "stdout",
     "output_type": "stream",
     "text": [
      "The number of binary variables: 3\n",
      "The number of temporal variables: 4\n",
      "The number of categorical variables: 6\n",
      "The number of numerical variables: 8\n"
     ]
    }
   ],
   "source": [
    "# create lists for binary, temporal, categorical, continuous variables\n",
    "temp_vars = ['release_year', 'release_month', 'release_day', 'release_dayofweek']\n",
    "binary_vars = ['is_collection', 'is_homepage', 'is_English']\n",
    "\n",
    "cat_vars = [var for var in data.columns\n",
    "           if data[var].dtypes == 'O' and var not in temp_vars]\n",
    "num_vars = [var for var in data.columns\n",
    "           if data[var].dtypes != 'O' and var not in binary_vars and var not in temp_vars\n",
    "            and var != 'revenue' and var != 'id']\n",
    "\n",
    "print('The number of binary variables: {}'.format(len(binary_vars)))\n",
    "print('The number of temporal variables: {}'.format(len(temp_vars)))\n",
    "print('The number of categorical variables: {}'.format(len(cat_vars)))\n",
    "print('The number of numerical variables: {}'.format(len(num_vars)))"
   ]
  },
  {
   "cell_type": "code",
   "execution_count": 6,
   "id": "9347859e",
   "metadata": {},
   "outputs": [
    {
     "name": "stdout",
     "output_type": "stream",
     "text": [
      "The number of missing variables: 8\n",
      "We have misisng values in ['budget', 'runtime', 'num_genres', 'num_pro_comps', 'num_spoken_lang', 'budget_year_ratio', 'runtime_to_mean_year', 'budget_to_mean_year']\n"
     ]
    }
   ],
   "source": [
    "# create a list of the variables that have missing values\n",
    "vars_with_na = [var for var in data.columns if data[var].isnull().mean() > 0]\n",
    "\n",
    "print('The number of missing variables: {}'.format(len(vars_with_na)))\n",
    "print('We have misisng values in {}'.format(vars_with_na))"
   ]
  },
  {
   "cell_type": "code",
   "execution_count": 7,
   "id": "40a73cf1",
   "metadata": {},
   "outputs": [
    {
     "name": "stdout",
     "output_type": "stream",
     "text": [
      "The number of categorical variables with na:  3\n",
      "The number of numerical variables with na:  5\n"
     ]
    }
   ],
   "source": [
    "# Determine which variables are numerical or which are categorical\n",
    "cat_na = [var for var in cat_vars if var in vars_with_na]\n",
    "num_na = [var for var in num_vars if var in vars_with_na]\n",
    "\n",
    "print('The number of categorical variables with na: ', len(cat_na))\n",
    "print('The number of numerical variables with na: ', len(num_na))"
   ]
  },
  {
   "cell_type": "code",
   "execution_count": 8,
   "id": "063f4815",
   "metadata": {},
   "outputs": [
    {
     "name": "stdout",
     "output_type": "stream",
     "text": [
      "The number of categorical variables without na:  3\n",
      "The number of numerical variables without na:  3\n"
     ]
    }
   ],
   "source": [
    "# Determine which variables are numerical or which are categorical\n",
    "cat_not_na = [var for var in cat_vars if var not in cat_na]\n",
    "num_not_na = [var for var in num_vars if var not in num_na]\n",
    "\n",
    "print('The number of categorical variables without na: ', len(cat_not_na))\n",
    "print('The number of numerical variables without na: ', len(num_not_na))"
   ]
  },
  {
   "cell_type": "code",
   "execution_count": 9,
   "id": "fb8de8c3",
   "metadata": {},
   "outputs": [
    {
     "data": {
      "text/plain": [
       "['num_genres', 'num_pro_comps', 'num_spoken_lang']"
      ]
     },
     "execution_count": 9,
     "metadata": {},
     "output_type": "execute_result"
    }
   ],
   "source": [
    "cat_na"
   ]
  },
  {
   "cell_type": "code",
   "execution_count": 10,
   "id": "7a6f622c",
   "metadata": {},
   "outputs": [
    {
     "data": {
      "text/plain": [
       "budget_to_mean_year     0.270667\n",
       "budget_year_ratio       0.270667\n",
       "budget                  0.270667\n",
       "num_pro_comps           0.052000\n",
       "num_spoken_lang         0.006667\n",
       "runtime_to_mean_year    0.004667\n",
       "runtime                 0.004667\n",
       "num_genres              0.002333\n",
       "dtype: float64"
      ]
     },
     "execution_count": 10,
     "metadata": {},
     "output_type": "execute_result"
    }
   ],
   "source": [
    "data.isnull().mean().sort_values(ascending=False)[:8]"
   ]
  },
  {
   "cell_type": "markdown",
   "id": "ef9df2bb",
   "metadata": {},
   "source": [
    "## Feature Engineering\n",
    "\n",
    "We have 3 categorical variables and 5 numerical variables which have missing values. We use different imputation methods for categorical and numerical variables. \n",
    "\n",
    "Here, I will explore which method is best for this dataset. In order to do this, we need a baseline model. "
   ]
  },
  {
   "cell_type": "markdown",
   "id": "a456367a",
   "metadata": {},
   "source": [
    "### Split training and test set"
   ]
  },
  {
   "cell_type": "markdown",
   "id": "1771902a",
   "metadata": {},
   "source": [
    "We need to split training and test set before using imputation methods. When we engineer features, some techniques learn parameters from data. It is important to learn these parameters only from the train set. This is to avoid over-fitting. "
   ]
  },
  {
   "cell_type": "code",
   "execution_count": 11,
   "id": "411b9939",
   "metadata": {},
   "outputs": [],
   "source": [
    "# log transformation for target\n",
    "data['revenue'] = np.log1p(data['revenue'])"
   ]
  },
  {
   "cell_type": "code",
   "execution_count": 12,
   "id": "12cfffed",
   "metadata": {},
   "outputs": [
    {
     "data": {
      "text/plain": [
       "((2400, 21), (600, 21))"
      ]
     },
     "execution_count": 12,
     "metadata": {},
     "output_type": "execute_result"
    }
   ],
   "source": [
    "X_train, X_test, y_train, y_test = train_test_split(\n",
    "    data.drop(['id','revenue'], axis=1), # drop id and target variable\n",
    "    data['revenue'], # target\n",
    "    test_size=0.2, # percentage of test set\n",
    "    random_state=0 # set seed for reproducibility\n",
    ")\n",
    "\n",
    "X_train.shape, X_test.shape"
   ]
  },
  {
   "cell_type": "markdown",
   "id": "e771126c",
   "metadata": {},
   "source": [
    "### Missing values"
   ]
  },
  {
   "cell_type": "markdown",
   "id": "3f65a51a",
   "metadata": {},
   "source": [
    "#### Categorical variables"
   ]
  },
  {
   "cell_type": "code",
   "execution_count": 13,
   "id": "332d31a9",
   "metadata": {},
   "outputs": [
    {
     "data": {
      "text/plain": [
       "num_pro_comps      0.052000\n",
       "num_spoken_lang    0.006667\n",
       "num_genres         0.002333\n",
       "dtype: float64"
      ]
     },
     "execution_count": 13,
     "metadata": {},
     "output_type": "execute_result"
    }
   ],
   "source": [
    "data[cat_na].isnull().mean().sort_values(ascending=False)"
   ]
  },
  {
   "cell_type": "markdown",
   "id": "b966a5cf",
   "metadata": {},
   "source": [
    "We can see that categorical variables with missing values have small percentage of missing values in data. So, I will replace missing data with the most frequent category in those variables that contain fewere observations without values. "
   ]
  },
  {
   "cell_type": "code",
   "execution_count": 14,
   "id": "7523da79",
   "metadata": {},
   "outputs": [
    {
     "name": "stdout",
     "output_type": "stream",
     "text": [
      "num_genres 2\n",
      "num_pro_comps 1\n",
      "num_spoken_lang 1\n"
     ]
    }
   ],
   "source": [
    "# replace missing values with frequent category\n",
    "\n",
    "for var in cat_na:\n",
    "    \n",
    "    # there can be more than 1 mode in a variable\n",
    "    # we take the first one with [0]\n",
    "    mode = X_train[var].mode()[0]\n",
    "    \n",
    "    print(var, mode)\n",
    "    \n",
    "    X_train[var].fillna(mode, inplace=True)\n",
    "    X_test[var].fillna(mode, inplace=True)"
   ]
  },
  {
   "cell_type": "code",
   "execution_count": 15,
   "id": "7b24435f",
   "metadata": {},
   "outputs": [
    {
     "data": {
      "text/plain": [
       "num_genres         0\n",
       "num_pro_comps      0\n",
       "num_spoken_lang    0\n",
       "dtype: int64"
      ]
     },
     "execution_count": 15,
     "metadata": {},
     "output_type": "execute_result"
    }
   ],
   "source": [
    "# check that we have no misisng values in the engineered variables\n",
    "X_train[cat_na].isnull().sum()"
   ]
  },
  {
   "cell_type": "markdown",
   "id": "af0d62ea",
   "metadata": {},
   "source": [
    "#### Numerical variables"
   ]
  },
  {
   "cell_type": "markdown",
   "id": "071dc803",
   "metadata": {},
   "source": [
    "To engineer missing values in numerical variables, I will:\n",
    "\n",
    "- add a binary misisng indicator variable\n",
    "- and then replace the missing values in the original variable with the median"
   ]
  },
  {
   "cell_type": "code",
   "execution_count": 16,
   "id": "c49d7396",
   "metadata": {},
   "outputs": [
    {
     "data": {
      "text/html": [
       "<div>\n",
       "<style scoped>\n",
       "    .dataframe tbody tr th:only-of-type {\n",
       "        vertical-align: middle;\n",
       "    }\n",
       "\n",
       "    .dataframe tbody tr th {\n",
       "        vertical-align: top;\n",
       "    }\n",
       "\n",
       "    .dataframe thead th {\n",
       "        text-align: right;\n",
       "    }\n",
       "</style>\n",
       "<table border=\"1\" class=\"dataframe\">\n",
       "  <thead>\n",
       "    <tr style=\"text-align: right;\">\n",
       "      <th></th>\n",
       "      <th>budget</th>\n",
       "      <th>runtime</th>\n",
       "      <th>budget_year_ratio</th>\n",
       "      <th>runtime_to_mean_year</th>\n",
       "      <th>budget_to_mean_year</th>\n",
       "    </tr>\n",
       "  </thead>\n",
       "  <tbody>\n",
       "    <tr>\n",
       "      <th>2370</th>\n",
       "      <td>150000000.0</td>\n",
       "      <td>99.0</td>\n",
       "      <td>37.054018</td>\n",
       "      <td>0.919505</td>\n",
       "      <td>3.809942</td>\n",
       "    </tr>\n",
       "    <tr>\n",
       "      <th>1774</th>\n",
       "      <td>35000000.0</td>\n",
       "      <td>122.0</td>\n",
       "      <td>8.741257</td>\n",
       "      <td>1.160886</td>\n",
       "      <td>0.927538</td>\n",
       "    </tr>\n",
       "    <tr>\n",
       "      <th>731</th>\n",
       "      <td>4000000.0</td>\n",
       "      <td>108.0</td>\n",
       "      <td>1.033835</td>\n",
       "      <td>0.911392</td>\n",
       "      <td>0.730371</td>\n",
       "    </tr>\n",
       "    <tr>\n",
       "      <th>271</th>\n",
       "      <td>72500000.0</td>\n",
       "      <td>116.0</td>\n",
       "      <td>18.016737</td>\n",
       "      <td>1.068036</td>\n",
       "      <td>2.024387</td>\n",
       "    </tr>\n",
       "    <tr>\n",
       "      <th>1077</th>\n",
       "      <td>20000000.0</td>\n",
       "      <td>96.0</td>\n",
       "      <td>5.101520</td>\n",
       "      <td>0.858603</td>\n",
       "      <td>1.314708</td>\n",
       "    </tr>\n",
       "  </tbody>\n",
       "</table>\n",
       "</div>"
      ],
      "text/plain": [
       "           budget  runtime  budget_year_ratio  runtime_to_mean_year  \\\n",
       "2370  150000000.0     99.0          37.054018              0.919505   \n",
       "1774   35000000.0    122.0           8.741257              1.160886   \n",
       "731     4000000.0    108.0           1.033835              0.911392   \n",
       "271    72500000.0    116.0          18.016737              1.068036   \n",
       "1077   20000000.0     96.0           5.101520              0.858603   \n",
       "\n",
       "      budget_to_mean_year  \n",
       "2370             3.809942  \n",
       "1774             0.927538  \n",
       "731              0.730371  \n",
       "271              2.024387  \n",
       "1077             1.314708  "
      ]
     },
     "execution_count": 16,
     "metadata": {},
     "output_type": "execute_result"
    }
   ],
   "source": [
    "X_train[num_na].head()"
   ]
  },
  {
   "cell_type": "code",
   "execution_count": 17,
   "id": "60ad9731",
   "metadata": {},
   "outputs": [
    {
     "data": {
      "text/plain": [
       "budget                  0.269167\n",
       "budget_year_ratio       0.269167\n",
       "budget_to_mean_year     0.269167\n",
       "runtime                 0.003750\n",
       "runtime_to_mean_year    0.003750\n",
       "dtype: float64"
      ]
     },
     "execution_count": 17,
     "metadata": {},
     "output_type": "execute_result"
    }
   ],
   "source": [
    "X_train[num_na].isnull().mean().sort_values(ascending=False)"
   ]
  },
  {
   "cell_type": "code",
   "execution_count": 18,
   "id": "ebde6988",
   "metadata": {},
   "outputs": [
    {
     "name": "stdout",
     "output_type": "stream",
     "text": [
      "budget 16000000.0\n",
      "runtime 104.0\n",
      "budget_year_ratio 4.0648041563804895\n",
      "runtime_to_mean_year 0.9636711281070746\n",
      "budget_to_mean_year 0.6558648997010403\n"
     ]
    }
   ],
   "source": [
    "# replace missing values as we described above\n",
    "\n",
    "for var in num_na:\n",
    "    \n",
    "    # calculate the median using the train set\n",
    "    median_val = X_train[var].median()\n",
    "    \n",
    "    print(var, median_val)\n",
    "    \n",
    "    # add binary missing indicator (in train and test)\n",
    "    X_train[var + '_na'] = np.where(X_train[var].isnull(), 1, 0)\n",
    "    X_test[var + '_na'] = np.where(X_test[var].isnull(), 1, 0)\n",
    "    \n",
    "    # replace missing values by the median in train and test\n",
    "    X_train[var].fillna(median_val, inplace=True)\n",
    "    X_test[var].fillna(median_val, inplace=True)\n"
   ]
  },
  {
   "cell_type": "code",
   "execution_count": 19,
   "id": "97d9615c",
   "metadata": {},
   "outputs": [
    {
     "data": {
      "text/plain": [
       "budget                  0.0\n",
       "runtime                 0.0\n",
       "num_genres              0.0\n",
       "num_pro_comps           0.0\n",
       "num_spoken_lang         0.0\n",
       "budget_year_ratio       0.0\n",
       "runtime_to_mean_year    0.0\n",
       "budget_to_mean_year     0.0\n",
       "dtype: float64"
      ]
     },
     "execution_count": 19,
     "metadata": {},
     "output_type": "execute_result"
    }
   ],
   "source": [
    "# check that we have no more missing values in the engineered variables\n",
    "X_train[vars_with_na].isnull().mean()"
   ]
  },
  {
   "cell_type": "code",
   "execution_count": 20,
   "id": "c6251130",
   "metadata": {},
   "outputs": [
    {
     "data": {
      "text/plain": [
       "[]"
      ]
     },
     "execution_count": 20,
     "metadata": {},
     "output_type": "execute_result"
    }
   ],
   "source": [
    "# check that test set does not contain null values \n",
    "[var for var in X_test.columns if X_test[var].isnull().mean()>0]"
   ]
  },
  {
   "cell_type": "code",
   "execution_count": 21,
   "id": "62faeb9e",
   "metadata": {},
   "outputs": [
    {
     "data": {
      "text/html": [
       "<div>\n",
       "<style scoped>\n",
       "    .dataframe tbody tr th:only-of-type {\n",
       "        vertical-align: middle;\n",
       "    }\n",
       "\n",
       "    .dataframe tbody tr th {\n",
       "        vertical-align: top;\n",
       "    }\n",
       "\n",
       "    .dataframe thead th {\n",
       "        text-align: right;\n",
       "    }\n",
       "</style>\n",
       "<table border=\"1\" class=\"dataframe\">\n",
       "  <thead>\n",
       "    <tr style=\"text-align: right;\">\n",
       "      <th></th>\n",
       "      <th>budget_na</th>\n",
       "      <th>runtime_na</th>\n",
       "      <th>budget_year_ratio_na</th>\n",
       "      <th>runtime_to_mean_year_na</th>\n",
       "      <th>budget_to_mean_year_na</th>\n",
       "    </tr>\n",
       "  </thead>\n",
       "  <tbody>\n",
       "    <tr>\n",
       "      <th>2370</th>\n",
       "      <td>0</td>\n",
       "      <td>0</td>\n",
       "      <td>0</td>\n",
       "      <td>0</td>\n",
       "      <td>0</td>\n",
       "    </tr>\n",
       "    <tr>\n",
       "      <th>1774</th>\n",
       "      <td>0</td>\n",
       "      <td>0</td>\n",
       "      <td>0</td>\n",
       "      <td>0</td>\n",
       "      <td>0</td>\n",
       "    </tr>\n",
       "  </tbody>\n",
       "</table>\n",
       "</div>"
      ],
      "text/plain": [
       "      budget_na  runtime_na  budget_year_ratio_na  runtime_to_mean_year_na  \\\n",
       "2370          0           0                     0                        0   \n",
       "1774          0           0                     0                        0   \n",
       "\n",
       "      budget_to_mean_year_na  \n",
       "2370                       0  \n",
       "1774                       0  "
      ]
     },
     "execution_count": 21,
     "metadata": {},
     "output_type": "execute_result"
    }
   ],
   "source": [
    "# check the binary missing indicator variables\n",
    "X_train[['budget_na', 'runtime_na', 'budget_year_ratio_na', 'runtime_to_mean_year_na', 'budget_to_mean_year_na']].head(2)"
   ]
  },
  {
   "cell_type": "markdown",
   "id": "d6676a45",
   "metadata": {},
   "source": [
    "### Numeric variable transformation "
   ]
  },
  {
   "cell_type": "markdown",
   "id": "de98d64e",
   "metadata": {},
   "source": [
    "In the previous notebook, we observed that some numerical variables are not normally distributed (`runtime`, `runtime_to_mean_year` are normally distributed). \n",
    "\n",
    "So, we will transform with the logarithm the positive numerical variables in order to get a more Gaussian-like distribution"
   ]
  },
  {
   "cell_type": "code",
   "execution_count": 22,
   "id": "b8416fec",
   "metadata": {},
   "outputs": [],
   "source": [
    "log_trans = ['budget','popularity', 'num_cast', 'budget_year_ratio',\n",
    "             'popularity_to_mean_year', 'budget_to_mean_year']"
   ]
  },
  {
   "cell_type": "code",
   "execution_count": 23,
   "id": "4578dc19",
   "metadata": {},
   "outputs": [],
   "source": [
    "for var in log_trans:\n",
    "    X_train[var] = np.log1p(X_train[var])\n",
    "    X_test[var] = np.log1p(X_test[var])"
   ]
  },
  {
   "cell_type": "code",
   "execution_count": 24,
   "id": "8f3738c7",
   "metadata": {},
   "outputs": [
    {
     "data": {
      "text/plain": [
       "[]"
      ]
     },
     "execution_count": 24,
     "metadata": {},
     "output_type": "execute_result"
    }
   ],
   "source": [
    "# check that train set does not contain null values\n",
    "[var for var in log_trans if X_train[var].isnull().mean()>0]"
   ]
  },
  {
   "cell_type": "code",
   "execution_count": 25,
   "id": "3e928a17",
   "metadata": {},
   "outputs": [
    {
     "data": {
      "text/plain": [
       "[]"
      ]
     },
     "execution_count": 25,
     "metadata": {},
     "output_type": "execute_result"
    }
   ],
   "source": [
    "# check that test set does not contain null values\n",
    "[var for var in log_trans if X_test[var].isnull().mean()>0]"
   ]
  },
  {
   "cell_type": "markdown",
   "id": "a1a01c9c",
   "metadata": {},
   "source": [
    "### Encoding of categorical variables"
   ]
  },
  {
   "cell_type": "markdown",
   "id": "33cde2fc",
   "metadata": {},
   "source": [
    "We need to transform the strings of the categorical variables into numbers. By doing so, we capture the monotonic relationship between the label and the target"
   ]
  },
  {
   "cell_type": "code",
   "execution_count": 26,
   "id": "704e55f2",
   "metadata": {},
   "outputs": [
    {
     "name": "stdout",
     "output_type": "stream",
     "text": [
      "num_genres\n",
      "['1' '3' '2' '4' '>4']\n",
      "\n",
      "num_pro_comps\n",
      "['5' '2' '1' '3' '>5' '4']\n",
      "\n",
      "num_pro_count\n",
      "['2' '1' '>2']\n",
      "\n",
      "num_spoken_lang\n",
      "['1' '3' '2' '>3']\n",
      "\n",
      "num_keywords\n",
      "['<15' '<5' '<10' '<20' '>30']\n",
      "\n",
      "num_crew\n",
      "['medium' 'small' 'large' 'missing']\n",
      "\n"
     ]
    }
   ],
   "source": [
    "for var in cat_vars:\n",
    "    print(var)\n",
    "    print(X_train[var].unique())\n",
    "    print()"
   ]
  },
  {
   "cell_type": "code",
   "execution_count": 27,
   "id": "18807975",
   "metadata": {},
   "outputs": [],
   "source": [
    "def replace_categories(train, test, y_train, var, target):\n",
    "    tmp = pd.concat([X_train, y_train], axis=1)\n",
    "    \n",
    "    # order the categories in a variable from that with the lowest\n",
    "    # revenue, to that with the highest\n",
    "    ordered_labels = tmp.groupby([var])[target].mean().sort_values().index\n",
    "    \n",
    "    # create a dictionary of ordered categories to integer values\n",
    "    ordinal_label = {k: i for i, k in enumerate(ordered_labels, 0)}\n",
    "    \n",
    "    print(var, ordinal_label)\n",
    "    print()\n",
    "    \n",
    "    # use the dictionary to replace the categorical strings by integers\n",
    "    train[var] = train[var].map(ordinal_label)\n",
    "    test[var] = test[var].map(ordinal_label)"
   ]
  },
  {
   "cell_type": "code",
   "execution_count": 28,
   "id": "04c7574f",
   "metadata": {},
   "outputs": [
    {
     "name": "stdout",
     "output_type": "stream",
     "text": [
      "num_genres {'1': 0, '2': 1, '3': 2, '4': 3, '>4': 4}\n",
      "\n",
      "num_pro_comps {'1': 0, '2': 1, '3': 2, '4': 3, '>5': 4, '5': 5}\n",
      "\n",
      "num_pro_count {'>2': 0, '1': 1, '2': 2}\n",
      "\n",
      "num_spoken_lang {'1': 0, '2': 1, '3': 2, '>3': 3}\n",
      "\n",
      "num_keywords {'<5': 0, '<10': 1, '<15': 2, '<20': 3, '>30': 4}\n",
      "\n",
      "num_crew {'small': 0, 'medium': 1, 'missing': 2, 'large': 3}\n",
      "\n"
     ]
    }
   ],
   "source": [
    "for var in cat_vars:\n",
    "    replace_categories(X_train, X_test, y_train, var, 'revenue')"
   ]
  },
  {
   "cell_type": "code",
   "execution_count": 29,
   "id": "16cefc5c",
   "metadata": {},
   "outputs": [
    {
     "data": {
      "text/plain": [
       "[]"
      ]
     },
     "execution_count": 29,
     "metadata": {},
     "output_type": "execute_result"
    }
   ],
   "source": [
    "# check missing values in train set\n",
    "[var for var in X_train.columns if X_train[var].isnull().mean()>0]"
   ]
  },
  {
   "cell_type": "code",
   "execution_count": 30,
   "id": "8533c9d0",
   "metadata": {},
   "outputs": [
    {
     "data": {
      "text/plain": [
       "[]"
      ]
     },
     "execution_count": 30,
     "metadata": {},
     "output_type": "execute_result"
    }
   ],
   "source": [
    "# check missing values in test set\n",
    "[var for var in X_test.columns if X_test[var].isnull().mean()>0]"
   ]
  },
  {
   "cell_type": "markdown",
   "id": "882ecef0",
   "metadata": {},
   "source": [
    "## Feature Scaling"
   ]
  },
  {
   "cell_type": "markdown",
   "id": "fa718d15",
   "metadata": {},
   "source": [
    "I will use tree-based models later, so feature scaling might not be important here, because we won't use linear models. \n",
    "\n",
    "However, I will use MinMaxScaler here."
   ]
  },
  {
   "cell_type": "code",
   "execution_count": 31,
   "id": "4af0fe91",
   "metadata": {},
   "outputs": [],
   "source": [
    "# create scaler\n",
    "scaler = MinMaxScaler()\n",
    "\n",
    "# fit the scaler to the train set\n",
    "scaler.fit(X_train)\n",
    "\n",
    "X_train = pd.DataFrame(\n",
    "    scaler.transform(X_train),\n",
    "    columns=X_train.columns)\n",
    "\n",
    "X_test = pd.DataFrame(\n",
    "    scaler.transform(X_test),\n",
    "    columns=X_test.columns)"
   ]
  },
  {
   "cell_type": "code",
   "execution_count": 32,
   "id": "561980e6",
   "metadata": {},
   "outputs": [
    {
     "data": {
      "text/html": [
       "<div>\n",
       "<style scoped>\n",
       "    .dataframe tbody tr th:only-of-type {\n",
       "        vertical-align: middle;\n",
       "    }\n",
       "\n",
       "    .dataframe tbody tr th {\n",
       "        vertical-align: top;\n",
       "    }\n",
       "\n",
       "    .dataframe thead th {\n",
       "        text-align: right;\n",
       "    }\n",
       "</style>\n",
       "<table border=\"1\" class=\"dataframe\">\n",
       "  <thead>\n",
       "    <tr style=\"text-align: right;\">\n",
       "      <th></th>\n",
       "      <th>budget</th>\n",
       "      <th>popularity</th>\n",
       "      <th>runtime</th>\n",
       "      <th>is_collection</th>\n",
       "      <th>num_genres</th>\n",
       "      <th>is_homepage</th>\n",
       "      <th>is_English</th>\n",
       "      <th>num_pro_comps</th>\n",
       "      <th>num_pro_count</th>\n",
       "      <th>num_spoken_lang</th>\n",
       "      <th>num_keywords</th>\n",
       "      <th>num_cast</th>\n",
       "      <th>num_crew</th>\n",
       "      <th>release_month</th>\n",
       "      <th>release_day</th>\n",
       "      <th>release_year</th>\n",
       "      <th>release_dayofweek</th>\n",
       "      <th>budget_year_ratio</th>\n",
       "      <th>runtime_to_mean_year</th>\n",
       "      <th>popularity_to_mean_year</th>\n",
       "      <th>budget_to_mean_year</th>\n",
       "      <th>budget_na</th>\n",
       "      <th>runtime_na</th>\n",
       "      <th>budget_year_ratio_na</th>\n",
       "      <th>runtime_to_mean_year_na</th>\n",
       "      <th>budget_to_mean_year_na</th>\n",
       "    </tr>\n",
       "  </thead>\n",
       "  <tbody>\n",
       "    <tr>\n",
       "      <th>count</th>\n",
       "      <td>2400.000000</td>\n",
       "      <td>2400.000000</td>\n",
       "      <td>2400.000000</td>\n",
       "      <td>2400.000000</td>\n",
       "      <td>2400.000000</td>\n",
       "      <td>2400.000000</td>\n",
       "      <td>2400.000000</td>\n",
       "      <td>2400.000000</td>\n",
       "      <td>2400.000000</td>\n",
       "      <td>2400.000000</td>\n",
       "      <td>2400.000000</td>\n",
       "      <td>2400.000000</td>\n",
       "      <td>2400.000000</td>\n",
       "      <td>2400.000000</td>\n",
       "      <td>2400.000000</td>\n",
       "      <td>2400.000000</td>\n",
       "      <td>2400.000000</td>\n",
       "      <td>2400.000000</td>\n",
       "      <td>2400.000000</td>\n",
       "      <td>2400.000000</td>\n",
       "      <td>2400.000000</td>\n",
       "      <td>2400.000000</td>\n",
       "      <td>2400.000000</td>\n",
       "      <td>2400.000000</td>\n",
       "      <td>2400.000000</td>\n",
       "      <td>2400.000000</td>\n",
       "    </tr>\n",
       "    <tr>\n",
       "      <th>mean</th>\n",
       "      <td>0.822163</td>\n",
       "      <td>0.347542</td>\n",
       "      <td>0.297704</td>\n",
       "      <td>0.199583</td>\n",
       "      <td>0.374063</td>\n",
       "      <td>0.314167</td>\n",
       "      <td>0.855833</td>\n",
       "      <td>0.314500</td>\n",
       "      <td>0.548958</td>\n",
       "      <td>0.141250</td>\n",
       "      <td>0.222188</td>\n",
       "      <td>0.562832</td>\n",
       "      <td>0.165972</td>\n",
       "      <td>0.527235</td>\n",
       "      <td>0.469847</td>\n",
       "      <td>0.814171</td>\n",
       "      <td>0.538611</td>\n",
       "      <td>0.364054</td>\n",
       "      <td>0.277014</td>\n",
       "      <td>0.230709</td>\n",
       "      <td>0.229799</td>\n",
       "      <td>0.269167</td>\n",
       "      <td>0.003750</td>\n",
       "      <td>0.269167</td>\n",
       "      <td>0.003750</td>\n",
       "      <td>0.269167</td>\n",
       "    </tr>\n",
       "    <tr>\n",
       "      <th>std</th>\n",
       "      <td>0.092300</td>\n",
       "      <td>0.129445</td>\n",
       "      <td>0.064728</td>\n",
       "      <td>0.399770</td>\n",
       "      <td>0.274297</td>\n",
       "      <td>0.464280</td>\n",
       "      <td>0.351332</td>\n",
       "      <td>0.301265</td>\n",
       "      <td>0.251297</td>\n",
       "      <td>0.256998</td>\n",
       "      <td>0.270920</td>\n",
       "      <td>0.135655</td>\n",
       "      <td>0.273579</td>\n",
       "      <td>0.308467</td>\n",
       "      <td>0.286422</td>\n",
       "      <td>0.166279</td>\n",
       "      <td>0.224820</td>\n",
       "      <td>0.186777</td>\n",
       "      <td>0.064721</td>\n",
       "      <td>0.121066</td>\n",
       "      <td>0.155886</td>\n",
       "      <td>0.443619</td>\n",
       "      <td>0.061135</td>\n",
       "      <td>0.443619</td>\n",
       "      <td>0.061135</td>\n",
       "      <td>0.443619</td>\n",
       "    </tr>\n",
       "    <tr>\n",
       "      <th>min</th>\n",
       "      <td>0.000000</td>\n",
       "      <td>0.000000</td>\n",
       "      <td>0.000000</td>\n",
       "      <td>0.000000</td>\n",
       "      <td>0.000000</td>\n",
       "      <td>0.000000</td>\n",
       "      <td>0.000000</td>\n",
       "      <td>0.000000</td>\n",
       "      <td>0.000000</td>\n",
       "      <td>0.000000</td>\n",
       "      <td>0.000000</td>\n",
       "      <td>0.000000</td>\n",
       "      <td>0.000000</td>\n",
       "      <td>0.000000</td>\n",
       "      <td>0.000000</td>\n",
       "      <td>0.000000</td>\n",
       "      <td>0.000000</td>\n",
       "      <td>0.000000</td>\n",
       "      <td>0.000000</td>\n",
       "      <td>0.000000</td>\n",
       "      <td>0.000000</td>\n",
       "      <td>0.000000</td>\n",
       "      <td>0.000000</td>\n",
       "      <td>0.000000</td>\n",
       "      <td>0.000000</td>\n",
       "      <td>0.000000</td>\n",
       "    </tr>\n",
       "    <tr>\n",
       "      <th>25%</th>\n",
       "      <td>0.803649</td>\n",
       "      <td>0.285344</td>\n",
       "      <td>0.253823</td>\n",
       "      <td>0.000000</td>\n",
       "      <td>0.250000</td>\n",
       "      <td>0.000000</td>\n",
       "      <td>1.000000</td>\n",
       "      <td>0.000000</td>\n",
       "      <td>0.500000</td>\n",
       "      <td>0.000000</td>\n",
       "      <td>0.000000</td>\n",
       "      <td>0.491453</td>\n",
       "      <td>0.000000</td>\n",
       "      <td>0.272727</td>\n",
       "      <td>0.233333</td>\n",
       "      <td>0.741935</td>\n",
       "      <td>0.333333</td>\n",
       "      <td>0.258012</td>\n",
       "      <td>0.233684</td>\n",
       "      <td>0.146740</td>\n",
       "      <td>0.133812</td>\n",
       "      <td>0.000000</td>\n",
       "      <td>0.000000</td>\n",
       "      <td>0.000000</td>\n",
       "      <td>0.000000</td>\n",
       "      <td>0.000000</td>\n",
       "    </tr>\n",
       "    <tr>\n",
       "      <th>50%</th>\n",
       "      <td>0.833832</td>\n",
       "      <td>0.374250</td>\n",
       "      <td>0.284404</td>\n",
       "      <td>0.000000</td>\n",
       "      <td>0.250000</td>\n",
       "      <td>0.000000</td>\n",
       "      <td>1.000000</td>\n",
       "      <td>0.200000</td>\n",
       "      <td>0.500000</td>\n",
       "      <td>0.000000</td>\n",
       "      <td>0.250000</td>\n",
       "      <td>0.560339</td>\n",
       "      <td>0.000000</td>\n",
       "      <td>0.545455</td>\n",
       "      <td>0.466667</td>\n",
       "      <td>0.860215</td>\n",
       "      <td>0.666667</td>\n",
       "      <td>0.356279</td>\n",
       "      <td>0.264315</td>\n",
       "      <td>0.236521</td>\n",
       "      <td>0.205218</td>\n",
       "      <td>0.000000</td>\n",
       "      <td>0.000000</td>\n",
       "      <td>0.000000</td>\n",
       "      <td>0.000000</td>\n",
       "      <td>0.000000</td>\n",
       "    </tr>\n",
       "    <tr>\n",
       "      <th>75%</th>\n",
       "      <td>0.866808</td>\n",
       "      <td>0.435091</td>\n",
       "      <td>0.327217</td>\n",
       "      <td>0.000000</td>\n",
       "      <td>0.500000</td>\n",
       "      <td>1.000000</td>\n",
       "      <td>1.000000</td>\n",
       "      <td>0.400000</td>\n",
       "      <td>0.500000</td>\n",
       "      <td>0.333333</td>\n",
       "      <td>0.250000</td>\n",
       "      <td>0.636614</td>\n",
       "      <td>0.333333</td>\n",
       "      <td>0.818182</td>\n",
       "      <td>0.700000</td>\n",
       "      <td>0.935484</td>\n",
       "      <td>0.666667</td>\n",
       "      <td>0.467522</td>\n",
       "      <td>0.307237</td>\n",
       "      <td>0.312301</td>\n",
       "      <td>0.293678</td>\n",
       "      <td>1.000000</td>\n",
       "      <td>0.000000</td>\n",
       "      <td>1.000000</td>\n",
       "      <td>0.000000</td>\n",
       "      <td>1.000000</td>\n",
       "    </tr>\n",
       "    <tr>\n",
       "      <th>max</th>\n",
       "      <td>1.000000</td>\n",
       "      <td>1.000000</td>\n",
       "      <td>1.000000</td>\n",
       "      <td>1.000000</td>\n",
       "      <td>1.000000</td>\n",
       "      <td>1.000000</td>\n",
       "      <td>1.000000</td>\n",
       "      <td>1.000000</td>\n",
       "      <td>1.000000</td>\n",
       "      <td>1.000000</td>\n",
       "      <td>1.000000</td>\n",
       "      <td>1.000000</td>\n",
       "      <td>1.000000</td>\n",
       "      <td>1.000000</td>\n",
       "      <td>1.000000</td>\n",
       "      <td>1.000000</td>\n",
       "      <td>1.000000</td>\n",
       "      <td>1.000000</td>\n",
       "      <td>1.000000</td>\n",
       "      <td>1.000000</td>\n",
       "      <td>1.000000</td>\n",
       "      <td>1.000000</td>\n",
       "      <td>1.000000</td>\n",
       "      <td>1.000000</td>\n",
       "      <td>1.000000</td>\n",
       "      <td>1.000000</td>\n",
       "    </tr>\n",
       "  </tbody>\n",
       "</table>\n",
       "</div>"
      ],
      "text/plain": [
       "            budget   popularity      runtime  is_collection   num_genres  \\\n",
       "count  2400.000000  2400.000000  2400.000000    2400.000000  2400.000000   \n",
       "mean      0.822163     0.347542     0.297704       0.199583     0.374063   \n",
       "std       0.092300     0.129445     0.064728       0.399770     0.274297   \n",
       "min       0.000000     0.000000     0.000000       0.000000     0.000000   \n",
       "25%       0.803649     0.285344     0.253823       0.000000     0.250000   \n",
       "50%       0.833832     0.374250     0.284404       0.000000     0.250000   \n",
       "75%       0.866808     0.435091     0.327217       0.000000     0.500000   \n",
       "max       1.000000     1.000000     1.000000       1.000000     1.000000   \n",
       "\n",
       "       is_homepage   is_English  num_pro_comps  num_pro_count  \\\n",
       "count  2400.000000  2400.000000    2400.000000    2400.000000   \n",
       "mean      0.314167     0.855833       0.314500       0.548958   \n",
       "std       0.464280     0.351332       0.301265       0.251297   \n",
       "min       0.000000     0.000000       0.000000       0.000000   \n",
       "25%       0.000000     1.000000       0.000000       0.500000   \n",
       "50%       0.000000     1.000000       0.200000       0.500000   \n",
       "75%       1.000000     1.000000       0.400000       0.500000   \n",
       "max       1.000000     1.000000       1.000000       1.000000   \n",
       "\n",
       "       num_spoken_lang  num_keywords     num_cast     num_crew  release_month  \\\n",
       "count      2400.000000   2400.000000  2400.000000  2400.000000    2400.000000   \n",
       "mean          0.141250      0.222188     0.562832     0.165972       0.527235   \n",
       "std           0.256998      0.270920     0.135655     0.273579       0.308467   \n",
       "min           0.000000      0.000000     0.000000     0.000000       0.000000   \n",
       "25%           0.000000      0.000000     0.491453     0.000000       0.272727   \n",
       "50%           0.000000      0.250000     0.560339     0.000000       0.545455   \n",
       "75%           0.333333      0.250000     0.636614     0.333333       0.818182   \n",
       "max           1.000000      1.000000     1.000000     1.000000       1.000000   \n",
       "\n",
       "       release_day  release_year  release_dayofweek  budget_year_ratio  \\\n",
       "count  2400.000000   2400.000000        2400.000000        2400.000000   \n",
       "mean      0.469847      0.814171           0.538611           0.364054   \n",
       "std       0.286422      0.166279           0.224820           0.186777   \n",
       "min       0.000000      0.000000           0.000000           0.000000   \n",
       "25%       0.233333      0.741935           0.333333           0.258012   \n",
       "50%       0.466667      0.860215           0.666667           0.356279   \n",
       "75%       0.700000      0.935484           0.666667           0.467522   \n",
       "max       1.000000      1.000000           1.000000           1.000000   \n",
       "\n",
       "       runtime_to_mean_year  popularity_to_mean_year  budget_to_mean_year  \\\n",
       "count           2400.000000              2400.000000          2400.000000   \n",
       "mean               0.277014                 0.230709             0.229799   \n",
       "std                0.064721                 0.121066             0.155886   \n",
       "min                0.000000                 0.000000             0.000000   \n",
       "25%                0.233684                 0.146740             0.133812   \n",
       "50%                0.264315                 0.236521             0.205218   \n",
       "75%                0.307237                 0.312301             0.293678   \n",
       "max                1.000000                 1.000000             1.000000   \n",
       "\n",
       "         budget_na   runtime_na  budget_year_ratio_na  \\\n",
       "count  2400.000000  2400.000000           2400.000000   \n",
       "mean      0.269167     0.003750              0.269167   \n",
       "std       0.443619     0.061135              0.443619   \n",
       "min       0.000000     0.000000              0.000000   \n",
       "25%       0.000000     0.000000              0.000000   \n",
       "50%       0.000000     0.000000              0.000000   \n",
       "75%       1.000000     0.000000              1.000000   \n",
       "max       1.000000     1.000000              1.000000   \n",
       "\n",
       "       runtime_to_mean_year_na  budget_to_mean_year_na  \n",
       "count              2400.000000             2400.000000  \n",
       "mean                  0.003750                0.269167  \n",
       "std                   0.061135                0.443619  \n",
       "min                   0.000000                0.000000  \n",
       "25%                   0.000000                0.000000  \n",
       "50%                   0.000000                0.000000  \n",
       "75%                   0.000000                1.000000  \n",
       "max                   1.000000                1.000000  "
      ]
     },
     "execution_count": 32,
     "metadata": {},
     "output_type": "execute_result"
    }
   ],
   "source": [
    "X_train.describe()"
   ]
  },
  {
   "cell_type": "markdown",
   "id": "7a2be4d7",
   "metadata": {},
   "source": [
    "## Conclusion"
   ]
  },
  {
   "cell_type": "code",
   "execution_count": 35,
   "id": "4999691f",
   "metadata": {},
   "outputs": [],
   "source": [
    "# Let's now save the train and test sets for the next step\n",
    "X_train.to_csv(path/'xtrain.csv', index=False)\n",
    "X_test.to_csv(path/'xtest.csv', index=False)\n",
    "\n",
    "y_train.to_csv(path/'ytrain.csv', index=False)\n",
    "y_test.to_csv(path/'ytest.csv', index=False)"
   ]
  },
  {
   "cell_type": "code",
   "execution_count": 36,
   "id": "edf127e1",
   "metadata": {},
   "outputs": [
    {
     "data": {
      "text/plain": [
       "['minmax_scaler.joblib']"
      ]
     },
     "execution_count": 36,
     "metadata": {},
     "output_type": "execute_result"
    }
   ],
   "source": [
    "# let's ave the scaler\n",
    "joblib.dump(scaler, 'minmax_scaler.joblib')"
   ]
  }
 ],
 "metadata": {
  "kernelspec": {
   "display_name": "Python 3",
   "language": "python",
   "name": "python3"
  },
  "language_info": {
   "codemirror_mode": {
    "name": "ipython",
    "version": 3
   },
   "file_extension": ".py",
   "mimetype": "text/x-python",
   "name": "python",
   "nbconvert_exporter": "python",
   "pygments_lexer": "ipython3",
   "version": "3.8.8"
  },
  "toc": {
   "base_numbering": 1,
   "nav_menu": {},
   "number_sections": true,
   "sideBar": true,
   "skip_h1_title": true,
   "title_cell": "Table of Contents",
   "title_sidebar": "Contents",
   "toc_cell": true,
   "toc_position": {},
   "toc_section_display": true,
   "toc_window_display": false
  },
  "varInspector": {
   "cols": {
    "lenName": 16,
    "lenType": 16,
    "lenVar": 40
   },
   "kernels_config": {
    "python": {
     "delete_cmd_postfix": "",
     "delete_cmd_prefix": "del ",
     "library": "var_list.py",
     "varRefreshCmd": "print(var_dic_list())"
    },
    "r": {
     "delete_cmd_postfix": ") ",
     "delete_cmd_prefix": "rm(",
     "library": "var_list.r",
     "varRefreshCmd": "cat(var_dic_list()) "
    }
   },
   "types_to_exclude": [
    "module",
    "function",
    "builtin_function_or_method",
    "instance",
    "_Feature"
   ],
   "window_display": false
  }
 },
 "nbformat": 4,
 "nbformat_minor": 5
}
