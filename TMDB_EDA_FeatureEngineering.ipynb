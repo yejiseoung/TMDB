{
 "cells": [
  {
   "cell_type": "markdown",
   "id": "5a9c892e",
   "metadata": {
    "toc": true
   },
   "source": [
    "<h1>Table of Contents<span class=\"tocSkip\"></span></h1>\n",
    "<div class=\"toc\"><ul class=\"toc-item\"><li><ul class=\"toc-item\"><li><span><a href=\"#Introduction\" data-toc-modified-id=\"Introduction-0.1\"><span class=\"toc-item-num\">0.1&nbsp;&nbsp;</span>Introduction</a></span></li><li><span><a href=\"#Import-&amp;-Load-data\" data-toc-modified-id=\"Import-&amp;-Load-data-0.2\"><span class=\"toc-item-num\">0.2&nbsp;&nbsp;</span>Import &amp; Load data</a></span></li></ul></li><li><span><a href=\"#EDA\" data-toc-modified-id=\"EDA-1\"><span class=\"toc-item-num\">1&nbsp;&nbsp;</span>EDA</a></span><ul class=\"toc-item\"><li><span><a href=\"#Target-variable---revenue\" data-toc-modified-id=\"Target-variable---revenue-1.1\"><span class=\"toc-item-num\">1.1&nbsp;&nbsp;</span>Target variable - revenue</a></span></li><li><span><a href=\"#Variable-Types\" data-toc-modified-id=\"Variable-Types-1.2\"><span class=\"toc-item-num\">1.2&nbsp;&nbsp;</span>Variable Types</a></span></li><li><span><a href=\"#Missing-values\" data-toc-modified-id=\"Missing-values-1.3\"><span class=\"toc-item-num\">1.3&nbsp;&nbsp;</span>Missing values</a></span></li><li><span><a href=\"#Relationship-between-missing-data-and-Revenue-(target)\" data-toc-modified-id=\"Relationship-between-missing-data-and-Revenue-(target)-1.4\"><span class=\"toc-item-num\">1.4&nbsp;&nbsp;</span>Relationship between missing data and Revenue (target)</a></span></li><li><span><a href=\"#Numerical-variables\" data-toc-modified-id=\"Numerical-variables-1.5\"><span class=\"toc-item-num\">1.5&nbsp;&nbsp;</span>Numerical variables</a></span></li><li><span><a href=\"#Temporal-variables\" data-toc-modified-id=\"Temporal-variables-1.6\"><span class=\"toc-item-num\">1.6&nbsp;&nbsp;</span>Temporal variables</a></span></li></ul></li></ul></div>"
   ]
  },
  {
   "cell_type": "markdown",
   "id": "a8bcbffe",
   "metadata": {},
   "source": [
    "# TMDB_EDA_FeatureEngineering"
   ]
  },
  {
   "cell_type": "markdown",
   "id": "bb1b3942",
   "metadata": {},
   "source": [
    "### Introduction\n",
    "\n",
    "In the previous notebook (TMDB_Cleaning_FeatureEngineering.ipynb), I cleaned dataset and extracted useful information from original variables and created new features. \n",
    "\n",
    "In this notebook, I will explore the cleaned dataset, and create some visualizations to see ditributions, the correlations between variables. If necessary, I will perform feature engineering. "
   ]
  },
  {
   "cell_type": "markdown",
   "id": "3257bec5",
   "metadata": {},
   "source": [
    "### Import & Load data"
   ]
  },
  {
   "cell_type": "code",
   "execution_count": 1,
   "id": "85fea506",
   "metadata": {},
   "outputs": [
    {
     "data": {
      "text/plain": [
       "'/Users/yejiseoung/Dropbox/My Mac (Yejis-MacBook-Pro.local)/Documents/Projects/TMDB'"
      ]
     },
     "execution_count": 1,
     "metadata": {},
     "output_type": "execute_result"
    }
   ],
   "source": [
    "import numpy as np\n",
    "import pandas as pd\n",
    "import matplotlib.pyplot as plt\n",
    "import seaborn as sns\n",
    "\n",
    "import scipy.stats as stats\n",
    "import warnings\n",
    "warnings.filterwarnings('ignore')\n",
    "\n",
    "from pathlib import Path\n",
    "import os\n",
    "os.getcwd()"
   ]
  },
  {
   "cell_type": "code",
   "execution_count": 2,
   "id": "ed184e51",
   "metadata": {},
   "outputs": [],
   "source": [
    "path = Path('/Users/yejiseoung/Dropbox/My Mac (Yejis-MacBook-Pro.local)/Documents/Projects/TMDB/datasets')"
   ]
  },
  {
   "cell_type": "code",
   "execution_count": 3,
   "id": "3d7d5f29",
   "metadata": {},
   "outputs": [
    {
     "name": "stdout",
     "output_type": "stream",
     "text": [
      "(3000, 19)\n"
     ]
    },
    {
     "data": {
      "text/html": [
       "<div>\n",
       "<style scoped>\n",
       "    .dataframe tbody tr th:only-of-type {\n",
       "        vertical-align: middle;\n",
       "    }\n",
       "\n",
       "    .dataframe tbody tr th {\n",
       "        vertical-align: top;\n",
       "    }\n",
       "\n",
       "    .dataframe thead th {\n",
       "        text-align: right;\n",
       "    }\n",
       "</style>\n",
       "<table border=\"1\" class=\"dataframe\">\n",
       "  <thead>\n",
       "    <tr style=\"text-align: right;\">\n",
       "      <th></th>\n",
       "      <th>id</th>\n",
       "      <th>budget</th>\n",
       "      <th>popularity</th>\n",
       "      <th>runtime</th>\n",
       "      <th>revenue</th>\n",
       "      <th>is_collection</th>\n",
       "      <th>num_genres</th>\n",
       "      <th>is_homepage</th>\n",
       "      <th>is_English</th>\n",
       "      <th>num_pro_comps</th>\n",
       "      <th>num_pro_count</th>\n",
       "      <th>num_spoken_lang</th>\n",
       "      <th>num_keywords</th>\n",
       "      <th>num_cast</th>\n",
       "      <th>num_crew</th>\n",
       "      <th>release_month</th>\n",
       "      <th>release_day</th>\n",
       "      <th>release_year</th>\n",
       "      <th>release_dayofweek</th>\n",
       "    </tr>\n",
       "  </thead>\n",
       "  <tbody>\n",
       "    <tr>\n",
       "      <th>0</th>\n",
       "      <td>1</td>\n",
       "      <td>14000000.0</td>\n",
       "      <td>6.575393</td>\n",
       "      <td>93.0</td>\n",
       "      <td>12314651</td>\n",
       "      <td>1</td>\n",
       "      <td>1</td>\n",
       "      <td>0</td>\n",
       "      <td>1</td>\n",
       "      <td>3</td>\n",
       "      <td>1</td>\n",
       "      <td>1</td>\n",
       "      <td>&lt;5</td>\n",
       "      <td>24</td>\n",
       "      <td>medium</td>\n",
       "      <td>2</td>\n",
       "      <td>20</td>\n",
       "      <td>2015</td>\n",
       "      <td>4</td>\n",
       "    </tr>\n",
       "    <tr>\n",
       "      <th>1</th>\n",
       "      <td>2</td>\n",
       "      <td>40000000.0</td>\n",
       "      <td>8.248895</td>\n",
       "      <td>113.0</td>\n",
       "      <td>95149435</td>\n",
       "      <td>1</td>\n",
       "      <td>4</td>\n",
       "      <td>0</td>\n",
       "      <td>1</td>\n",
       "      <td>1</td>\n",
       "      <td>1</td>\n",
       "      <td>1</td>\n",
       "      <td>&lt;5</td>\n",
       "      <td>20</td>\n",
       "      <td>small</td>\n",
       "      <td>8</td>\n",
       "      <td>6</td>\n",
       "      <td>2004</td>\n",
       "      <td>4</td>\n",
       "    </tr>\n",
       "    <tr>\n",
       "      <th>2</th>\n",
       "      <td>3</td>\n",
       "      <td>3300000.0</td>\n",
       "      <td>64.299990</td>\n",
       "      <td>105.0</td>\n",
       "      <td>13092000</td>\n",
       "      <td>0</td>\n",
       "      <td>1</td>\n",
       "      <td>1</td>\n",
       "      <td>1</td>\n",
       "      <td>3</td>\n",
       "      <td>1</td>\n",
       "      <td>1</td>\n",
       "      <td>&lt;15</td>\n",
       "      <td>51</td>\n",
       "      <td>medium</td>\n",
       "      <td>10</td>\n",
       "      <td>10</td>\n",
       "      <td>2014</td>\n",
       "      <td>4</td>\n",
       "    </tr>\n",
       "    <tr>\n",
       "      <th>3</th>\n",
       "      <td>4</td>\n",
       "      <td>1200000.0</td>\n",
       "      <td>3.174936</td>\n",
       "      <td>122.0</td>\n",
       "      <td>16000000</td>\n",
       "      <td>0</td>\n",
       "      <td>2</td>\n",
       "      <td>1</td>\n",
       "      <td>0</td>\n",
       "      <td>NaN</td>\n",
       "      <td>1</td>\n",
       "      <td>2</td>\n",
       "      <td>&lt;10</td>\n",
       "      <td>7</td>\n",
       "      <td>small</td>\n",
       "      <td>3</td>\n",
       "      <td>9</td>\n",
       "      <td>2012</td>\n",
       "      <td>4</td>\n",
       "    </tr>\n",
       "    <tr>\n",
       "      <th>4</th>\n",
       "      <td>5</td>\n",
       "      <td>NaN</td>\n",
       "      <td>1.148070</td>\n",
       "      <td>118.0</td>\n",
       "      <td>3923970</td>\n",
       "      <td>0</td>\n",
       "      <td>2</td>\n",
       "      <td>0</td>\n",
       "      <td>0</td>\n",
       "      <td>NaN</td>\n",
       "      <td>1</td>\n",
       "      <td>1</td>\n",
       "      <td>&lt;5</td>\n",
       "      <td>4</td>\n",
       "      <td>small</td>\n",
       "      <td>2</td>\n",
       "      <td>5</td>\n",
       "      <td>2009</td>\n",
       "      <td>3</td>\n",
       "    </tr>\n",
       "  </tbody>\n",
       "</table>\n",
       "</div>"
      ],
      "text/plain": [
       "   id      budget  popularity  runtime   revenue  is_collection num_genres  \\\n",
       "0   1  14000000.0    6.575393     93.0  12314651              1          1   \n",
       "1   2  40000000.0    8.248895    113.0  95149435              1          4   \n",
       "2   3   3300000.0   64.299990    105.0  13092000              0          1   \n",
       "3   4   1200000.0    3.174936    122.0  16000000              0          2   \n",
       "4   5         NaN    1.148070    118.0   3923970              0          2   \n",
       "\n",
       "   is_homepage  is_English num_pro_comps num_pro_count num_spoken_lang  \\\n",
       "0            0           1             3             1               1   \n",
       "1            0           1             1             1               1   \n",
       "2            1           1             3             1               1   \n",
       "3            1           0           NaN             1               2   \n",
       "4            0           0           NaN             1               1   \n",
       "\n",
       "  num_keywords  num_cast num_crew  release_month  release_day  release_year  \\\n",
       "0           <5        24   medium              2           20          2015   \n",
       "1           <5        20    small              8            6          2004   \n",
       "2          <15        51   medium             10           10          2014   \n",
       "3          <10         7    small              3            9          2012   \n",
       "4           <5         4    small              2            5          2009   \n",
       "\n",
       "   release_dayofweek  \n",
       "0                  4  \n",
       "1                  4  \n",
       "2                  4  \n",
       "3                  4  \n",
       "4                  3  "
      ]
     },
     "execution_count": 3,
     "metadata": {},
     "output_type": "execute_result"
    }
   ],
   "source": [
    "data = pd.read_csv(path/'cleaned_train.csv')\n",
    "print(data.shape)\n",
    "data.head()"
   ]
  },
  {
   "cell_type": "code",
   "execution_count": 4,
   "id": "38121ef5",
   "metadata": {},
   "outputs": [],
   "source": [
    "data_test = pd.read_csv(path/'cleaned_test.csv')"
   ]
  },
  {
   "cell_type": "markdown",
   "id": "3341e5b1",
   "metadata": {},
   "source": [
    "## EDA"
   ]
  },
  {
   "cell_type": "markdown",
   "id": "3324f421",
   "metadata": {},
   "source": [
    "### Target variable - revenue"
   ]
  },
  {
   "cell_type": "markdown",
   "id": "8b70f5d4",
   "metadata": {},
   "source": [
    "Let's start exploring the target distribution"
   ]
  },
  {
   "cell_type": "code",
   "execution_count": 5,
   "id": "fcb40d35",
   "metadata": {},
   "outputs": [
    {
     "data": {
      "image/png": "[encoded data removed]",
      "text/plain": [
       "<Figure size 720x360 with 1 Axes>"
      ]
     },
     "metadata": {
      "needs_background": "light"
     },
     "output_type": "display_data"
    }
   ],
   "source": [
    "ax = data['revenue'].hist(bins=50, density=True, figsize=(10,5))\n",
    "ax.set_ylabel('The number of film')\n",
    "ax.set_xlabel('Revenue')\n",
    "ax.ticklabel_format(style='plain')\n",
    "plt.show()"
   ]
  },
  {
   "cell_type": "markdown",
   "id": "737f0f6f",
   "metadata": {},
   "source": [
    "We can see the target is continuous variable, and the distribution is skewed towards the right. \n",
    "\n",
    "We can improve the value spread with a log transformation"
   ]
  },
  {
   "cell_type": "code",
   "execution_count": 6,
   "id": "45bd55a4",
   "metadata": {},
   "outputs": [
    {
     "data": {
      "image/png": "[encoded data removed]",
      "text/plain": [
       "<Figure size 720x360 with 1 Axes>"
      ]
     },
     "metadata": {
      "needs_background": "light"
     },
     "output_type": "display_data"
    }
   ],
   "source": [
    "ax = np.log(data['revenue']).hist(bins=50, density=True, figsize=(10,5))\n",
    "ax.set_ylabel('The number of film')\n",
    "ax.set_xlabel('Revenue')\n",
    "ax.ticklabel_format(style='plain')\n",
    "plt.show()"
   ]
  },
  {
   "cell_type": "markdown",
   "id": "6064b5df",
   "metadata": {},
   "source": [
    "Even though it is still skewed towards the left, this distribution looks more Gaussian"
   ]
  },
  {
   "cell_type": "markdown",
   "id": "12429f15",
   "metadata": {},
   "source": [
    "### Variable Types"
   ]
  },
  {
   "cell_type": "markdown",
   "id": "c846c318",
   "metadata": {},
   "source": [
    "Let's identify the categorical and numerical variables."
   ]
  },
  {
   "cell_type": "code",
   "execution_count": 7,
   "id": "d650c660",
   "metadata": {},
   "outputs": [
    {
     "data": {
      "text/html": [
       "<div>\n",
       "<style scoped>\n",
       "    .dataframe tbody tr th:only-of-type {\n",
       "        vertical-align: middle;\n",
       "    }\n",
       "\n",
       "    .dataframe tbody tr th {\n",
       "        vertical-align: top;\n",
       "    }\n",
       "\n",
       "    .dataframe thead th {\n",
       "        text-align: right;\n",
       "    }\n",
       "</style>\n",
       "<table border=\"1\" class=\"dataframe\">\n",
       "  <thead>\n",
       "    <tr style=\"text-align: right;\">\n",
       "      <th></th>\n",
       "      <th>id</th>\n",
       "      <th>budget</th>\n",
       "      <th>popularity</th>\n",
       "      <th>runtime</th>\n",
       "      <th>revenue</th>\n",
       "      <th>is_collection</th>\n",
       "      <th>num_genres</th>\n",
       "      <th>is_homepage</th>\n",
       "      <th>is_English</th>\n",
       "      <th>num_pro_comps</th>\n",
       "      <th>num_pro_count</th>\n",
       "      <th>num_spoken_lang</th>\n",
       "      <th>num_keywords</th>\n",
       "      <th>num_cast</th>\n",
       "      <th>num_crew</th>\n",
       "      <th>release_month</th>\n",
       "      <th>release_day</th>\n",
       "      <th>release_year</th>\n",
       "      <th>release_dayofweek</th>\n",
       "    </tr>\n",
       "  </thead>\n",
       "  <tbody>\n",
       "    <tr>\n",
       "      <th>0</th>\n",
       "      <td>1</td>\n",
       "      <td>14000000.0</td>\n",
       "      <td>6.575393</td>\n",
       "      <td>93.0</td>\n",
       "      <td>12314651</td>\n",
       "      <td>1</td>\n",
       "      <td>1</td>\n",
       "      <td>0</td>\n",
       "      <td>1</td>\n",
       "      <td>3</td>\n",
       "      <td>1</td>\n",
       "      <td>1</td>\n",
       "      <td>&lt;5</td>\n",
       "      <td>24</td>\n",
       "      <td>medium</td>\n",
       "      <td>2</td>\n",
       "      <td>20</td>\n",
       "      <td>2015</td>\n",
       "      <td>4</td>\n",
       "    </tr>\n",
       "    <tr>\n",
       "      <th>1</th>\n",
       "      <td>2</td>\n",
       "      <td>40000000.0</td>\n",
       "      <td>8.248895</td>\n",
       "      <td>113.0</td>\n",
       "      <td>95149435</td>\n",
       "      <td>1</td>\n",
       "      <td>4</td>\n",
       "      <td>0</td>\n",
       "      <td>1</td>\n",
       "      <td>1</td>\n",
       "      <td>1</td>\n",
       "      <td>1</td>\n",
       "      <td>&lt;5</td>\n",
       "      <td>20</td>\n",
       "      <td>small</td>\n",
       "      <td>8</td>\n",
       "      <td>6</td>\n",
       "      <td>2004</td>\n",
       "      <td>4</td>\n",
       "    </tr>\n",
       "  </tbody>\n",
       "</table>\n",
       "</div>"
      ],
      "text/plain": [
       "   id      budget  popularity  runtime   revenue  is_collection num_genres  \\\n",
       "0   1  14000000.0    6.575393     93.0  12314651              1          1   \n",
       "1   2  40000000.0    8.248895    113.0  95149435              1          4   \n",
       "\n",
       "   is_homepage  is_English num_pro_comps num_pro_count num_spoken_lang  \\\n",
       "0            0           1             3             1               1   \n",
       "1            0           1             1             1               1   \n",
       "\n",
       "  num_keywords  num_cast num_crew  release_month  release_day  release_year  \\\n",
       "0           <5        24   medium              2           20          2015   \n",
       "1           <5        20    small              8            6          2004   \n",
       "\n",
       "   release_dayofweek  \n",
       "0                  4  \n",
       "1                  4  "
      ]
     },
     "execution_count": 7,
     "metadata": {},
     "output_type": "execute_result"
    }
   ],
   "source": [
    "data.head(2)"
   ]
  },
  {
   "cell_type": "markdown",
   "id": "672411e9",
   "metadata": {},
   "source": [
    "We can say `is_collection`, `is_homepage`, `is_English` are binary variables even though their dtypes are int64. Also, datetime values including year, month, dayofweek should be categorical variables. \n",
    "\n",
    "We need to change the dtypes of those variables I just mentioned"
   ]
  },
  {
   "cell_type": "code",
   "execution_count": 8,
   "id": "0cb1683f",
   "metadata": {},
   "outputs": [],
   "source": [
    "change_cols = ['is_collection', 'is_homepage', 'is_English', 'release_year', 'release_month', 'release_day', 'release_dayofweek']\n",
    "\n",
    "for col in change_cols:\n",
    "    data[col] = data[col].astype('O')\n",
    "    data_test[col] = data_test[col].astype('O')"
   ]
  },
  {
   "cell_type": "markdown",
   "id": "ec24c0bd",
   "metadata": {},
   "source": [
    "Let's create two lists of categorical and numerical variables"
   ]
  },
  {
   "cell_type": "code",
   "execution_count": 9,
   "id": "df11f04c",
   "metadata": {},
   "outputs": [
    {
     "name": "stdout",
     "output_type": "stream",
     "text": [
      "The number of categorical variables: 13\n",
      "The number of numerical variables: 4\n"
     ]
    }
   ],
   "source": [
    "# create two lists for categorical and numerical variables\n",
    "cat_vars = [var for var in data.columns if data[var].dtypes == 'O']\n",
    "num_vars = [var for var in data.columns if var != 'revenue' and var != 'id' and var not in cat_vars]\n",
    "\n",
    "print('The number of categorical variables: {}'.format(len(cat_vars)))\n",
    "print('The number of numerical variables: {}'.format(len(num_vars)))"
   ]
  },
  {
   "cell_type": "markdown",
   "id": "96d4ff54",
   "metadata": {},
   "source": [
    "### Missing values"
   ]
  },
  {
   "cell_type": "markdown",
   "id": "631eb326",
   "metadata": {},
   "source": [
    "Let's find out which variables contain missing values"
   ]
  },
  {
   "cell_type": "code",
   "execution_count": 10,
   "id": "604621ae",
   "metadata": {},
   "outputs": [
    {
     "data": {
      "text/plain": [
       "budget               0.270667\n",
       "num_pro_comps        0.052000\n",
       "num_spoken_lang      0.006667\n",
       "runtime              0.004667\n",
       "num_genres           0.002333\n",
       "release_year         0.000000\n",
       "release_day          0.000000\n",
       "release_month        0.000000\n",
       "num_crew             0.000000\n",
       "num_cast             0.000000\n",
       "num_keywords         0.000000\n",
       "id                   0.000000\n",
       "num_pro_count        0.000000\n",
       "is_English           0.000000\n",
       "is_homepage          0.000000\n",
       "is_collection        0.000000\n",
       "revenue              0.000000\n",
       "popularity           0.000000\n",
       "release_dayofweek    0.000000\n",
       "dtype: float64"
      ]
     },
     "execution_count": 10,
     "metadata": {},
     "output_type": "execute_result"
    }
   ],
   "source": [
    "# make a list of the variables that have missing values\n",
    "vars_with_na = [var for var in data.columns if data[var].isnull().mean()>0]\n",
    "\n",
    "# explore percentage of missing values\n",
    "data.isnull().mean().sort_values(ascending=False)"
   ]
  },
  {
   "cell_type": "markdown",
   "id": "00ff7d46",
   "metadata": {},
   "source": [
    "There are 5 variables with a small percentage of missing values. In order to train a machine learning model, we need to impute the missing data in thses variables."
   ]
  },
  {
   "cell_type": "code",
   "execution_count": 11,
   "id": "228335f6",
   "metadata": {},
   "outputs": [
    {
     "name": "stdout",
     "output_type": "stream",
     "text": [
      "The number of categorical variables with na:  3\n",
      "The number of numerical variables with na:  2\n"
     ]
    }
   ],
   "source": [
    "# Determine which variables are numerical or which are categorical\n",
    "cat_na = [var for var in cat_vars if var in vars_with_na]\n",
    "num_na = [var for var in num_vars if var in vars_with_na]\n",
    "\n",
    "print('The number of categorical variables with na: ', len(cat_na))\n",
    "print('The number of numerical variables with na: ', len(num_na))"
   ]
  },
  {
   "cell_type": "code",
   "execution_count": 12,
   "id": "301a4093",
   "metadata": {},
   "outputs": [
    {
     "data": {
      "text/plain": [
       "['num_genres', 'num_pro_comps', 'num_spoken_lang']"
      ]
     },
     "execution_count": 12,
     "metadata": {},
     "output_type": "execute_result"
    }
   ],
   "source": [
    "cat_na"
   ]
  },
  {
   "cell_type": "code",
   "execution_count": 13,
   "id": "efaf7d9f",
   "metadata": {},
   "outputs": [
    {
     "data": {
      "text/plain": [
       "['budget', 'runtime']"
      ]
     },
     "execution_count": 13,
     "metadata": {},
     "output_type": "execute_result"
    }
   ],
   "source": [
    "num_na"
   ]
  },
  {
   "cell_type": "markdown",
   "id": "70c025f5",
   "metadata": {},
   "source": [
    "### Relationship between missing data and Revenue (target)\n",
    "\n",
    "Let's evalute the revenue of the file in those observations where the information is misisng. "
   ]
  },
  {
   "cell_type": "code",
   "execution_count": 14,
   "id": "e7c8d635",
   "metadata": {},
   "outputs": [],
   "source": [
    "def analyze_na_value(df, var):\n",
    "    \"\"\" Function to evaluate the relationship between missing data and target variable\"\"\"\n",
    "    # copy dataframe, so that we do not override the original data. \n",
    "    df = df.copy()\n",
    "    \n",
    "    # Make an interim variable that indicates 1 \n",
    "    # if the value was missing or 0 otherwise\n",
    "    df[var] = np.where(df[var].isnull(), 1, 0)\n",
    "    \n",
    "    # determin the median revenue in the groups 1 and 0,\n",
    "    # and the standard deviation of the revenue, \n",
    "    # and capture the results in a temporary dataset\n",
    "    tmp = df.groupby([var])['revenue'].agg(['mean', 'std'])\n",
    "    \n",
    "    # plot into a bar graph\n",
    "    tmp.plot(kind='barh', y='mean', legend=False,\n",
    "            xerr='std', title='Revenue')\n",
    "    \n",
    "    plt.show()"
   ]
  },
  {
   "cell_type": "code",
   "execution_count": 15,
   "id": "a6e7a15f",
   "metadata": {},
   "outputs": [
    {
     "data": {
      "image/png": "[encoded data removed]",
      "text/plain": [
       "<Figure size 432x288 with 1 Axes>"
      ]
     },
     "metadata": {
      "needs_background": "light"
     },
     "output_type": "display_data"
    },
    {
     "data": {
      "image/png": "[encoded data removed]",
      "text/plain": [
       "<Figure size 432x288 with 1 Axes>"
      ]
     },
     "metadata": {
      "needs_background": "light"
     },
     "output_type": "display_data"
    },
    {
     "data": {
      "image/png": "[encoded data removed]",
      "text/plain": [
       "<Figure size 432x288 with 1 Axes>"
      ]
     },
     "metadata": {
      "needs_background": "light"
     },
     "output_type": "display_data"
    },
    {
     "data": {
      "image/png": "[encoded data removed]",
      "text/plain": [
       "<Figure size 432x288 with 1 Axes>"
      ]
     },
     "metadata": {
      "needs_background": "light"
     },
     "output_type": "display_data"
    },
    {
     "data": {
      "image/png": "[encoded data removed]",
      "text/plain": [
       "<Figure size 432x288 with 1 Axes>"
      ]
     },
     "metadata": {
      "needs_background": "light"
     },
     "output_type": "display_data"
    }
   ],
   "source": [
    "# run the funtion on each variable with missing data\n",
    "\n",
    "for var in vars_with_na:\n",
    "    analyze_na_value(data, var)"
   ]
  },
  {
   "cell_type": "markdown",
   "id": "85d006f9",
   "metadata": {},
   "source": [
    "We can see that the average revenue in films where the information is missing, differs from the average revenue in films where information exists. This suggests that data being missing could be a good predictor of revenue. "
   ]
  },
  {
   "cell_type": "markdown",
   "id": "4f186fc5",
   "metadata": {},
   "source": [
    "### Numerical variables"
   ]
  },
  {
   "cell_type": "markdown",
   "id": "5a27c884",
   "metadata": {},
   "source": [
    "We have 4 numerical variables. Let's explore numerical variables"
   ]
  },
  {
   "cell_type": "code",
   "execution_count": 16,
   "id": "b4793b53",
   "metadata": {},
   "outputs": [
    {
     "name": "stdout",
     "output_type": "stream",
     "text": [
      "Number of numerical variables:  4\n"
     ]
    },
    {
     "data": {
      "text/html": [
       "<div>\n",
       "<style scoped>\n",
       "    .dataframe tbody tr th:only-of-type {\n",
       "        vertical-align: middle;\n",
       "    }\n",
       "\n",
       "    .dataframe tbody tr th {\n",
       "        vertical-align: top;\n",
       "    }\n",
       "\n",
       "    .dataframe thead th {\n",
       "        text-align: right;\n",
       "    }\n",
       "</style>\n",
       "<table border=\"1\" class=\"dataframe\">\n",
       "  <thead>\n",
       "    <tr style=\"text-align: right;\">\n",
       "      <th></th>\n",
       "      <th>budget</th>\n",
       "      <th>popularity</th>\n",
       "      <th>runtime</th>\n",
       "      <th>num_cast</th>\n",
       "    </tr>\n",
       "  </thead>\n",
       "  <tbody>\n",
       "    <tr>\n",
       "      <th>0</th>\n",
       "      <td>14000000.0</td>\n",
       "      <td>6.575393</td>\n",
       "      <td>93.0</td>\n",
       "      <td>24</td>\n",
       "    </tr>\n",
       "    <tr>\n",
       "      <th>1</th>\n",
       "      <td>40000000.0</td>\n",
       "      <td>8.248895</td>\n",
       "      <td>113.0</td>\n",
       "      <td>20</td>\n",
       "    </tr>\n",
       "    <tr>\n",
       "      <th>2</th>\n",
       "      <td>3300000.0</td>\n",
       "      <td>64.299990</td>\n",
       "      <td>105.0</td>\n",
       "      <td>51</td>\n",
       "    </tr>\n",
       "    <tr>\n",
       "      <th>3</th>\n",
       "      <td>1200000.0</td>\n",
       "      <td>3.174936</td>\n",
       "      <td>122.0</td>\n",
       "      <td>7</td>\n",
       "    </tr>\n",
       "    <tr>\n",
       "      <th>4</th>\n",
       "      <td>NaN</td>\n",
       "      <td>1.148070</td>\n",
       "      <td>118.0</td>\n",
       "      <td>4</td>\n",
       "    </tr>\n",
       "  </tbody>\n",
       "</table>\n",
       "</div>"
      ],
      "text/plain": [
       "       budget  popularity  runtime  num_cast\n",
       "0  14000000.0    6.575393     93.0        24\n",
       "1  40000000.0    8.248895    113.0        20\n",
       "2   3300000.0   64.299990    105.0        51\n",
       "3   1200000.0    3.174936    122.0         7\n",
       "4         NaN    1.148070    118.0         4"
      ]
     },
     "execution_count": 16,
     "metadata": {},
     "output_type": "execute_result"
    }
   ],
   "source": [
    "print('Number of numerical variables: ', len(num_vars))\n",
    "\n",
    "data[num_vars].head()"
   ]
  },
  {
   "cell_type": "code",
   "execution_count": 17,
   "id": "981df936",
   "metadata": {},
   "outputs": [],
   "source": [
    "def num_plots(df, var):\n",
    "    \"\"\"Function to create histogram, Q-Q plot, and boxplot for numerical variables\"\"\"\n",
    "    plt.figure(figsize=(16, 4))\n",
    "\n",
    "    plt.subplot(1, 3, 1)\n",
    "    df[var].hist(bins=50)\n",
    "    plt.title('Histogram')\n",
    "    plt.xlabel(var)\n",
    "    \n",
    "    plt.subplot(1, 3, 2)\n",
    "    stats.probplot(df[var], plot=plt)\n",
    "    \n",
    "    plt.subplot(1, 3, 3)\n",
    "    sns.boxplot(y=df[var])\n",
    "    plt.title('Boxplot')\n",
    "    \n",
    "    plt.show()"
   ]
  },
  {
   "cell_type": "code",
   "execution_count": 18,
   "id": "6749b75c",
   "metadata": {},
   "outputs": [
    {
     "data": {
      "image/png": "[encoded data removed]",
      "text/plain": [
       "<Figure size 1152x288 with 3 Axes>"
      ]
     },
     "metadata": {
      "needs_background": "light"
     },
     "output_type": "display_data"
    },
    {
     "data": {
      "image/png": "[encoded data removed]",
      "text/plain": [
       "<Figure size 1152x288 with 3 Axes>"
      ]
     },
     "metadata": {
      "needs_background": "light"
     },
     "output_type": "display_data"
    },
    {
     "data": {
      "image/png": "[encoded data removed]",
      "text/plain": [
       "<Figure size 1152x288 with 3 Axes>"
      ]
     },
     "metadata": {
      "needs_background": "light"
     },
     "output_type": "display_data"
    },
    {
     "data": {
      "image/png": "[encoded data removed]",
      "text/plain": [
       "<Figure size 1152x288 with 3 Axes>"
      ]
     },
     "metadata": {
      "needs_background": "light"
     },
     "output_type": "display_data"
    }
   ],
   "source": [
    "for var in num_vars:\n",
    "    num_plots(data, var)"
   ]
  },
  {
   "cell_type": "markdown",
   "id": "ac295e52",
   "metadata": {},
   "source": [
    "- `budget` shows skewed distribution towards the right.\n",
    "- `popularity` indicates right-skewed distribution.\n",
    "- `runtime` has Gaussian distribution.\n",
    "- `num_cast` shows right-skewed distribution."
   ]
  },
  {
   "cell_type": "markdown",
   "id": "e4b697d9",
   "metadata": {},
   "source": [
    "### Temporal variables\n",
    "\n",
    "We have year, month, and dayofweek variables in the dataset"
   ]
  },
  {
   "cell_type": "code",
   "execution_count": 22,
   "id": "97434d7b",
   "metadata": {},
   "outputs": [
    {
     "data": {
      "text/html": [
       "<div>\n",
       "<style scoped>\n",
       "    .dataframe tbody tr th:only-of-type {\n",
       "        vertical-align: middle;\n",
       "    }\n",
       "\n",
       "    .dataframe tbody tr th {\n",
       "        vertical-align: top;\n",
       "    }\n",
       "\n",
       "    .dataframe thead th {\n",
       "        text-align: right;\n",
       "    }\n",
       "</style>\n",
       "<table border=\"1\" class=\"dataframe\">\n",
       "  <thead>\n",
       "    <tr style=\"text-align: right;\">\n",
       "      <th></th>\n",
       "      <th>release_year</th>\n",
       "      <th>release_month</th>\n",
       "      <th>release_day</th>\n",
       "      <th>release_dayofweek</th>\n",
       "    </tr>\n",
       "  </thead>\n",
       "  <tbody>\n",
       "    <tr>\n",
       "      <th>0</th>\n",
       "      <td>2015</td>\n",
       "      <td>2</td>\n",
       "      <td>20</td>\n",
       "      <td>4</td>\n",
       "    </tr>\n",
       "    <tr>\n",
       "      <th>1</th>\n",
       "      <td>2004</td>\n",
       "      <td>8</td>\n",
       "      <td>6</td>\n",
       "      <td>4</td>\n",
       "    </tr>\n",
       "    <tr>\n",
       "      <th>2</th>\n",
       "      <td>2014</td>\n",
       "      <td>10</td>\n",
       "      <td>10</td>\n",
       "      <td>4</td>\n",
       "    </tr>\n",
       "    <tr>\n",
       "      <th>3</th>\n",
       "      <td>2012</td>\n",
       "      <td>3</td>\n",
       "      <td>9</td>\n",
       "      <td>4</td>\n",
       "    </tr>\n",
       "    <tr>\n",
       "      <th>4</th>\n",
       "      <td>2009</td>\n",
       "      <td>2</td>\n",
       "      <td>5</td>\n",
       "      <td>3</td>\n",
       "    </tr>\n",
       "  </tbody>\n",
       "</table>\n",
       "</div>"
      ],
      "text/plain": [
       "  release_year release_month release_day release_dayofweek\n",
       "0         2015             2          20                 4\n",
       "1         2004             8           6                 4\n",
       "2         2014            10          10                 4\n",
       "3         2012             3           9                 4\n",
       "4         2009             2           5                 3"
      ]
     },
     "execution_count": 22,
     "metadata": {},
     "output_type": "execute_result"
    }
   ],
   "source": [
    "data[['release_year', 'release_month', 'release_day', 'release_dayofweek']].head()"
   ]
  },
  {
   "cell_type": "code",
   "execution_count": 23,
   "id": "251019e2",
   "metadata": {},
   "outputs": [
    {
     "data": {
      "image/png": "[encoded data removed]",
      "text/plain": [
       "<Figure size 432x288 with 1 Axes>"
      ]
     },
     "metadata": {
      "needs_background": "light"
     },
     "output_type": "display_data"
    }
   ],
   "source": [
    "data.groupby('release_year')['revenue'].median().plot();\n",
    "plt.title('The relationship between release_year and revenue');"
   ]
  },
  {
   "cell_type": "markdown",
   "id": "12a1ad5f",
   "metadata": {},
   "source": [
    "It shows two peaks: between 1970 to 1980 and between 1990 and 2010. "
   ]
  },
  {
   "cell_type": "code",
   "execution_count": null,
   "id": "c659bea1",
   "metadata": {},
   "outputs": [],
   "source": []
  }
 ],
 "metadata": {
  "kernelspec": {
   "display_name": "Python 3",
   "language": "python",
   "name": "python3"
  },
  "language_info": {
   "codemirror_mode": {
    "name": "ipython",
    "version": 3
   },
   "file_extension": ".py",
   "mimetype": "text/x-python",
   "name": "python",
   "nbconvert_exporter": "python",
   "pygments_lexer": "ipython3",
   "version": "3.8.8"
  },
  "toc": {
   "base_numbering": 1,
   "nav_menu": {},
   "number_sections": true,
   "sideBar": true,
   "skip_h1_title": true,
   "title_cell": "Table of Contents",
   "title_sidebar": "Contents",
   "toc_cell": true,
   "toc_position": {},
   "toc_section_display": true,
   "toc_window_display": false
  },
  "varInspector": {
   "cols": {
    "lenName": 16,
    "lenType": 16,
    "lenVar": 40
   },
   "kernels_config": {
    "python": {
     "delete_cmd_postfix": "",
     "delete_cmd_prefix": "del ",
     "library": "var_list.py",
     "varRefreshCmd": "print(var_dic_list())"
    },
    "r": {
     "delete_cmd_postfix": ") ",
     "delete_cmd_prefix": "rm(",
     "library": "var_list.r",
     "varRefreshCmd": "cat(var_dic_list()) "
    }
   },
   "types_to_exclude": [
    "module",
    "function",
    "builtin_function_or_method",
    "instance",
    "_Feature"
   ],
   "window_display": false
  }
 },
 "nbformat": 4,
 "nbformat_minor": 5
}
