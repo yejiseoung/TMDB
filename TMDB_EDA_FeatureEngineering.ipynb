{
 "cells": [
  {
   "cell_type": "markdown",
   "id": "253caf68",
   "metadata": {
    "toc": true
   },
   "source": [
    "<h1>Table of Contents<span class=\"tocSkip\"></span></h1>\n",
    "<div class=\"toc\"><ul class=\"toc-item\"><li><span><a href=\"#EDA-&amp;-Feature-Engineering\" data-toc-modified-id=\"EDA-&amp;-Feature-Engineering-1\"><span class=\"toc-item-num\">1&nbsp;&nbsp;</span>EDA &amp; Feature Engineering</a></span><ul class=\"toc-item\"><li><span><a href=\"#belongs_to_collection\" data-toc-modified-id=\"belongs_to_collection-1.1\"><span class=\"toc-item-num\">1.1&nbsp;&nbsp;</span>belongs_to_collection</a></span></li><li><span><a href=\"#Genres\" data-toc-modified-id=\"Genres-1.2\"><span class=\"toc-item-num\">1.2&nbsp;&nbsp;</span>Genres</a></span><ul class=\"toc-item\"><li><span><a href=\"#Note-that-I-will-perform-rare-label-encoding-later-after-splitting-training-and-validation-set,-because-it-learns-the-parameters-from-train,-and-apply-to-validation-and-test-set-later.\" data-toc-modified-id=\"Note-that-I-will-perform-rare-label-encoding-later-after-splitting-training-and-validation-set,-because-it-learns-the-parameters-from-train,-and-apply-to-validation-and-test-set-later.-1.2.1\"><span class=\"toc-item-num\">1.2.1&nbsp;&nbsp;</span>Note that I will perform rare label encoding later after splitting training and validation set, because it learns the parameters from train, and apply to validation and test set later.</a></span></li></ul></li><li><span><a href=\"#homepage\" data-toc-modified-id=\"homepage-1.3\"><span class=\"toc-item-num\">1.3&nbsp;&nbsp;</span>homepage</a></span></li><li><span><a href=\"#original_language\" data-toc-modified-id=\"original_language-1.4\"><span class=\"toc-item-num\">1.4&nbsp;&nbsp;</span>original_language</a></span></li><li><span><a href=\"#Drop-unuseful-variables\" data-toc-modified-id=\"Drop-unuseful-variables-1.5\"><span class=\"toc-item-num\">1.5&nbsp;&nbsp;</span>Drop unuseful variables</a></span></li><li><span><a href=\"#production_companies\" data-toc-modified-id=\"production_companies-1.6\"><span class=\"toc-item-num\">1.6&nbsp;&nbsp;</span>production_companies</a></span><ul class=\"toc-item\"><li><span><a href=\"#Note-that-I-will-perform-rare-label-encoding-later-after-splitting-training-and-validation-set\" data-toc-modified-id=\"Note-that-I-will-perform-rare-label-encoding-later-after-splitting-training-and-validation-set-1.6.1\"><span class=\"toc-item-num\">1.6.1&nbsp;&nbsp;</span>Note that I will perform rare label encoding later after splitting training and validation set</a></span></li></ul></li><li><span><a href=\"#production_countries\" data-toc-modified-id=\"production_countries-1.7\"><span class=\"toc-item-num\">1.7&nbsp;&nbsp;</span>production_countries</a></span><ul class=\"toc-item\"><li><span><a href=\"#Note-that-I-will-encode-more-than-3-countries-as-&quot;rare&quot;-after-splitting-training-and-validation-set\" data-toc-modified-id=\"Note-that-I-will-encode-more-than-3-countries-as-&quot;rare&quot;-after-splitting-training-and-validation-set-1.7.1\"><span class=\"toc-item-num\">1.7.1&nbsp;&nbsp;</span>Note that I will encode more than 3 countries as \"rare\" after splitting training and validation set</a></span></li></ul></li><li><span><a href=\"#spoken_languages\" data-toc-modified-id=\"spoken_languages-1.8\"><span class=\"toc-item-num\">1.8&nbsp;&nbsp;</span>spoken_languages</a></span><ul class=\"toc-item\"><li><span><a href=\"#Note-that-more-than-4-languages-usage-can-be-rare-labels.\" data-toc-modified-id=\"Note-that-more-than-4-languages-usage-can-be-rare-labels.-1.8.1\"><span class=\"toc-item-num\">1.8.1&nbsp;&nbsp;</span>Note that more than 4 languages usage can be rare labels.</a></span></li></ul></li><li><span><a href=\"#Keywords\" data-toc-modified-id=\"Keywords-1.9\"><span class=\"toc-item-num\">1.9&nbsp;&nbsp;</span>Keywords</a></span></li><li><span><a href=\"#cast\" data-toc-modified-id=\"cast-1.10\"><span class=\"toc-item-num\">1.10&nbsp;&nbsp;</span>cast</a></span></li><li><span><a href=\"#crew\" data-toc-modified-id=\"crew-1.11\"><span class=\"toc-item-num\">1.11&nbsp;&nbsp;</span>crew</a></span></li><li><span><a href=\"#release_date\" data-toc-modified-id=\"release_date-1.12\"><span class=\"toc-item-num\">1.12&nbsp;&nbsp;</span>release_date</a></span></li><li><span><a href=\"#runtime\" data-toc-modified-id=\"runtime-1.13\"><span class=\"toc-item-num\">1.13&nbsp;&nbsp;</span>runtime</a></span></li><li><span><a href=\"#budget\" data-toc-modified-id=\"budget-1.14\"><span class=\"toc-item-num\">1.14&nbsp;&nbsp;</span>budget</a></span></li><li><span><a href=\"#popularity\" data-toc-modified-id=\"popularity-1.15\"><span class=\"toc-item-num\">1.15&nbsp;&nbsp;</span>popularity</a></span></li><li><span><a href=\"#status\" data-toc-modified-id=\"status-1.16\"><span class=\"toc-item-num\">1.16&nbsp;&nbsp;</span>status</a></span></li><li><span><a href=\"#target-variable---revenue\" data-toc-modified-id=\"target-variable---revenue-1.17\"><span class=\"toc-item-num\">1.17&nbsp;&nbsp;</span>target variable - revenue</a></span></li></ul></li><li><span><a href=\"#Base-Model\" data-toc-modified-id=\"Base-Model-2\"><span class=\"toc-item-num\">2&nbsp;&nbsp;</span>Base Model</a></span></li></ul></div>"
   ]
  },
  {
   "cell_type": "markdown",
   "id": "1489f388",
   "metadata": {},
   "source": [
    "# TMDB"
   ]
  },
  {
   "cell_type": "code",
   "execution_count": 1,
   "id": "543f81fb",
   "metadata": {},
   "outputs": [
    {
     "data": {
      "text/plain": [
       "'/Users/yejiseoung/Dropbox/My Mac (Yejis-MacBook-Pro.local)/Documents/Projects/TMDB'"
      ]
     },
     "execution_count": 1,
     "metadata": {},
     "output_type": "execute_result"
    }
   ],
   "source": [
    "import numpy as np\n",
    "import pandas as pd\n",
    "import matplotlib.pyplot as plt\n",
    "import seaborn as sns\n",
    "\n",
    "from pathlib import Path\n",
    "import os\n",
    "os.getcwd()"
   ]
  },
  {
   "cell_type": "code",
   "execution_count": 2,
   "id": "cb109897",
   "metadata": {},
   "outputs": [],
   "source": [
    "import datetime\n",
    "import lightgbm as lgb\n",
    "from scipy import stats\n",
    "from scipy.sparse import hstack, csr_matrix\n",
    "from sklearn.model_selection import train_test_split, KFold\n",
    "from wordcloud import WordCloud\n",
    "from collections import Counter\n",
    "from nltk.corpus import stopwords\n",
    "from nltk.util import ngrams\n",
    "from sklearn.feature_extraction.text import TfidfVectorizer, CountVectorizer\n",
    "from sklearn.preprocessing import StandardScaler\n",
    "stop = set(stopwords.words('english'))\n",
    "\n",
    "import plotly.graph_objs as go\n",
    "import plotly.tools as tls\n",
    "import xgboost as xgb\n",
    "from sklearn import model_selection\n",
    "from sklearn.metrics import accuracy_score, mean_squared_error\n",
    "\n",
    "import json\n",
    "import ast\n",
    "#import eli5\n",
    "#import shap\n",
    "from catboost import CatBoostRegressor\n",
    "from urllib.request import urlopen\n",
    "from PIL import Image\n",
    "from sklearn.preprocessing import LabelEncoder\n",
    "import time\n",
    "from sklearn.linear_model import LinearRegression\n"
   ]
  },
  {
   "cell_type": "code",
   "execution_count": 3,
   "id": "0760c667",
   "metadata": {},
   "outputs": [],
   "source": [
    "pd.set_option('display.max_columns', 100)\n",
    "pd.set_option('display.max_rows', 100)"
   ]
  },
  {
   "cell_type": "code",
   "execution_count": 4,
   "id": "24cbac12",
   "metadata": {},
   "outputs": [],
   "source": [
    "path = Path('/Users/yejiseoung/Dropbox/My Mac (Yejis-MacBook-Pro.local)/Documents/Projects/TMDB/datasets')"
   ]
  },
  {
   "cell_type": "code",
   "execution_count": 5,
   "id": "60d5a3b1",
   "metadata": {},
   "outputs": [
    {
     "name": "stdout",
     "output_type": "stream",
     "text": [
      "(3000, 23)\n"
     ]
    },
    {
     "data": {
      "text/html": [
       "<div>\n",
       "<style scoped>\n",
       "    .dataframe tbody tr th:only-of-type {\n",
       "        vertical-align: middle;\n",
       "    }\n",
       "\n",
       "    .dataframe tbody tr th {\n",
       "        vertical-align: top;\n",
       "    }\n",
       "\n",
       "    .dataframe thead th {\n",
       "        text-align: right;\n",
       "    }\n",
       "</style>\n",
       "<table border=\"1\" class=\"dataframe\">\n",
       "  <thead>\n",
       "    <tr style=\"text-align: right;\">\n",
       "      <th></th>\n",
       "      <th>id</th>\n",
       "      <th>belongs_to_collection</th>\n",
       "      <th>budget</th>\n",
       "      <th>genres</th>\n",
       "      <th>homepage</th>\n",
       "      <th>imdb_id</th>\n",
       "      <th>original_language</th>\n",
       "      <th>original_title</th>\n",
       "      <th>overview</th>\n",
       "      <th>popularity</th>\n",
       "      <th>poster_path</th>\n",
       "      <th>production_companies</th>\n",
       "      <th>production_countries</th>\n",
       "      <th>release_date</th>\n",
       "      <th>runtime</th>\n",
       "      <th>spoken_languages</th>\n",
       "      <th>status</th>\n",
       "      <th>tagline</th>\n",
       "      <th>title</th>\n",
       "      <th>Keywords</th>\n",
       "      <th>cast</th>\n",
       "      <th>crew</th>\n",
       "      <th>revenue</th>\n",
       "    </tr>\n",
       "  </thead>\n",
       "  <tbody>\n",
       "    <tr>\n",
       "      <th>0</th>\n",
       "      <td>1</td>\n",
       "      <td>[{'id': 313576, 'name': 'Hot Tub Time Machine ...</td>\n",
       "      <td>14000000</td>\n",
       "      <td>[{'id': 35, 'name': 'Comedy'}]</td>\n",
       "      <td>NaN</td>\n",
       "      <td>tt2637294</td>\n",
       "      <td>en</td>\n",
       "      <td>Hot Tub Time Machine 2</td>\n",
       "      <td>When Lou, who has become the \"father of the In...</td>\n",
       "      <td>6.575393</td>\n",
       "      <td>/tQtWuwvMf0hCc2QR2tkolwl7c3c.jpg</td>\n",
       "      <td>[{'name': 'Paramount Pictures', 'id': 4}, {'na...</td>\n",
       "      <td>[{'iso_3166_1': 'US', 'name': 'United States o...</td>\n",
       "      <td>2/20/15</td>\n",
       "      <td>93.0</td>\n",
       "      <td>[{'iso_639_1': 'en', 'name': 'English'}]</td>\n",
       "      <td>Released</td>\n",
       "      <td>The Laws of Space and Time are About to be Vio...</td>\n",
       "      <td>Hot Tub Time Machine 2</td>\n",
       "      <td>[{'id': 4379, 'name': 'time travel'}, {'id': 9...</td>\n",
       "      <td>[{'cast_id': 4, 'character': 'Lou', 'credit_id...</td>\n",
       "      <td>[{'credit_id': '59ac067c92514107af02c8c8', 'de...</td>\n",
       "      <td>12314651</td>\n",
       "    </tr>\n",
       "    <tr>\n",
       "      <th>1</th>\n",
       "      <td>2</td>\n",
       "      <td>[{'id': 107674, 'name': 'The Princess Diaries ...</td>\n",
       "      <td>40000000</td>\n",
       "      <td>[{'id': 35, 'name': 'Comedy'}, {'id': 18, 'nam...</td>\n",
       "      <td>NaN</td>\n",
       "      <td>tt0368933</td>\n",
       "      <td>en</td>\n",
       "      <td>The Princess Diaries 2: Royal Engagement</td>\n",
       "      <td>Mia Thermopolis is now a college graduate and ...</td>\n",
       "      <td>8.248895</td>\n",
       "      <td>/w9Z7A0GHEhIp7etpj0vyKOeU1Wx.jpg</td>\n",
       "      <td>[{'name': 'Walt Disney Pictures', 'id': 2}]</td>\n",
       "      <td>[{'iso_3166_1': 'US', 'name': 'United States o...</td>\n",
       "      <td>8/6/04</td>\n",
       "      <td>113.0</td>\n",
       "      <td>[{'iso_639_1': 'en', 'name': 'English'}]</td>\n",
       "      <td>Released</td>\n",
       "      <td>It can take a lifetime to find true love; she'...</td>\n",
       "      <td>The Princess Diaries 2: Royal Engagement</td>\n",
       "      <td>[{'id': 2505, 'name': 'coronation'}, {'id': 42...</td>\n",
       "      <td>[{'cast_id': 1, 'character': 'Mia Thermopolis'...</td>\n",
       "      <td>[{'credit_id': '52fe43fe9251416c7502563d', 'de...</td>\n",
       "      <td>95149435</td>\n",
       "    </tr>\n",
       "  </tbody>\n",
       "</table>\n",
       "</div>"
      ],
      "text/plain": [
       "   id                              belongs_to_collection    budget  \\\n",
       "0   1  [{'id': 313576, 'name': 'Hot Tub Time Machine ...  14000000   \n",
       "1   2  [{'id': 107674, 'name': 'The Princess Diaries ...  40000000   \n",
       "\n",
       "                                              genres homepage    imdb_id  \\\n",
       "0                     [{'id': 35, 'name': 'Comedy'}]      NaN  tt2637294   \n",
       "1  [{'id': 35, 'name': 'Comedy'}, {'id': 18, 'nam...      NaN  tt0368933   \n",
       "\n",
       "  original_language                            original_title  \\\n",
       "0                en                    Hot Tub Time Machine 2   \n",
       "1                en  The Princess Diaries 2: Royal Engagement   \n",
       "\n",
       "                                            overview  popularity  \\\n",
       "0  When Lou, who has become the \"father of the In...    6.575393   \n",
       "1  Mia Thermopolis is now a college graduate and ...    8.248895   \n",
       "\n",
       "                        poster_path  \\\n",
       "0  /tQtWuwvMf0hCc2QR2tkolwl7c3c.jpg   \n",
       "1  /w9Z7A0GHEhIp7etpj0vyKOeU1Wx.jpg   \n",
       "\n",
       "                                production_companies  \\\n",
       "0  [{'name': 'Paramount Pictures', 'id': 4}, {'na...   \n",
       "1        [{'name': 'Walt Disney Pictures', 'id': 2}]   \n",
       "\n",
       "                                production_countries release_date  runtime  \\\n",
       "0  [{'iso_3166_1': 'US', 'name': 'United States o...      2/20/15     93.0   \n",
       "1  [{'iso_3166_1': 'US', 'name': 'United States o...       8/6/04    113.0   \n",
       "\n",
       "                           spoken_languages    status  \\\n",
       "0  [{'iso_639_1': 'en', 'name': 'English'}]  Released   \n",
       "1  [{'iso_639_1': 'en', 'name': 'English'}]  Released   \n",
       "\n",
       "                                             tagline  \\\n",
       "0  The Laws of Space and Time are About to be Vio...   \n",
       "1  It can take a lifetime to find true love; she'...   \n",
       "\n",
       "                                      title  \\\n",
       "0                    Hot Tub Time Machine 2   \n",
       "1  The Princess Diaries 2: Royal Engagement   \n",
       "\n",
       "                                            Keywords  \\\n",
       "0  [{'id': 4379, 'name': 'time travel'}, {'id': 9...   \n",
       "1  [{'id': 2505, 'name': 'coronation'}, {'id': 42...   \n",
       "\n",
       "                                                cast  \\\n",
       "0  [{'cast_id': 4, 'character': 'Lou', 'credit_id...   \n",
       "1  [{'cast_id': 1, 'character': 'Mia Thermopolis'...   \n",
       "\n",
       "                                                crew   revenue  \n",
       "0  [{'credit_id': '59ac067c92514107af02c8c8', 'de...  12314651  \n",
       "1  [{'credit_id': '52fe43fe9251416c7502563d', 'de...  95149435  "
      ]
     },
     "execution_count": 5,
     "metadata": {},
     "output_type": "execute_result"
    }
   ],
   "source": [
    "data = pd.read_csv(path/'train.csv')\n",
    "print(data.shape)\n",
    "data.head(2)"
   ]
  },
  {
   "cell_type": "code",
   "execution_count": 6,
   "id": "bf1c1ed6",
   "metadata": {},
   "outputs": [
    {
     "data": {
      "text/plain": [
       "(4398, 22)"
      ]
     },
     "execution_count": 6,
     "metadata": {},
     "output_type": "execute_result"
    }
   ],
   "source": [
    "data_test = pd.read_csv(path/'test.csv')\n",
    "data_test.shape"
   ]
  },
  {
   "cell_type": "markdown",
   "id": "4ca0e89b",
   "metadata": {},
   "source": [
    "Missing values?"
   ]
  },
  {
   "cell_type": "code",
   "execution_count": 7,
   "id": "e2cde5b7",
   "metadata": {},
   "outputs": [],
   "source": [
    "missing_vars = [var for var in data.columns if data[var].isnull().sum()>0]"
   ]
  },
  {
   "cell_type": "code",
   "execution_count": 8,
   "id": "9757b29b",
   "metadata": {},
   "outputs": [
    {
     "data": {
      "image/png": "[encoded data removed]",
      "text/plain": [
       "<Figure size 432x288 with 1 Axes>"
      ]
     },
     "metadata": {
      "needs_background": "light"
     },
     "output_type": "display_data"
    }
   ],
   "source": [
    "data[missing_vars].isnull().mean().sort_values(ascending=True).plot(kind='barh')\n",
    "plt.axvline(x=0.2, linewidth=0.5, color='red');"
   ]
  },
  {
   "cell_type": "markdown",
   "id": "4c57168c",
   "metadata": {},
   "source": [
    "`belongs_to_collection` and `homepage` have a lot of missing values in the variable. Other 11 variables have less than 20% of missing values.\n",
    "\n",
    "What about test set?"
   ]
  },
  {
   "cell_type": "code",
   "execution_count": 9,
   "id": "d84754e8",
   "metadata": {},
   "outputs": [
    {
     "data": {
      "image/png": "[encoded data removed]",
      "text/plain": [
       "<Figure size 432x288 with 1 Axes>"
      ]
     },
     "metadata": {
      "needs_background": "light"
     },
     "output_type": "display_data"
    }
   ],
   "source": [
    "missing_vars_test = [var for var in data_test.columns if data_test[var].isnull().sum()>0]\n",
    "\n",
    "data_test[missing_vars_test].isnull().mean().sort_values(ascending=True).plot(kind='barh')\n",
    "plt.axvline(x=0.2, linewidth=0.5, color='red');"
   ]
  },
  {
   "cell_type": "code",
   "execution_count": 10,
   "id": "0b7a6554",
   "metadata": {},
   "outputs": [
    {
     "data": {
      "text/plain": [
       "(13, 16)"
      ]
     },
     "execution_count": 10,
     "metadata": {},
     "output_type": "execute_result"
    }
   ],
   "source": [
    "len(missing_vars), len(missing_vars_test)"
   ]
  },
  {
   "cell_type": "code",
   "execution_count": 11,
   "id": "b4781ae8",
   "metadata": {
    "scrolled": true
   },
   "outputs": [
    {
     "data": {
      "text/plain": [
       "{'release_date', 'status', 'title'}"
      ]
     },
     "execution_count": 11,
     "metadata": {},
     "output_type": "execute_result"
    }
   ],
   "source": [
    "set(missing_vars_test).difference(set(missing_vars))"
   ]
  },
  {
   "cell_type": "markdown",
   "id": "9c100135",
   "metadata": {},
   "source": [
    "Test set has more variables which have missing values: release_date, status, title"
   ]
  },
  {
   "cell_type": "markdown",
   "id": "0fe9ad2c",
   "metadata": {},
   "source": [
    "## EDA & Feature Engineering"
   ]
  },
  {
   "cell_type": "markdown",
   "id": "5e27d44f",
   "metadata": {},
   "source": [
    "In this section, I explore the dataset. \n",
    "\n",
    "We have 8 variables which have dictionary values in column: 'belongs_to_collection', 'genres','production_companies','production_countries', 'spoken_languages', 'Keywords','cast', 'crew'.\n",
    "\n",
    "So, I will figure out if we can extract meaningful information from those variables. Also, if I need to perform feature engineering to extract useful features, I will do here. "
   ]
  },
  {
   "cell_type": "markdown",
   "id": "79d1c082",
   "metadata": {},
   "source": [
    "### belongs_to_collection"
   ]
  },
  {
   "cell_type": "code",
   "execution_count": 12,
   "id": "7ff0d0db",
   "metadata": {},
   "outputs": [],
   "source": [
    "def data_dict(data):\n",
    "    \"\"\"Function to analyze dictionary values in columns\"\"\"\n",
    "    for col in dict_columns:\n",
    "        data[col] = data[col].apply(lambda x: {} if pd.isnull(x) else ast.literal_eval(x))\n",
    "    return data\n",
    "    \n",
    "dict_columns = ['belongs_to_collection', 'genres', 'production_companies',\n",
    "               'production_countries', 'spoken_languages', 'Keywords',\n",
    "               'cast', 'crew']\n",
    "\n",
    "df_train = data_dict(data)\n",
    "df_test = data_dict(data_test)"
   ]
  },
  {
   "cell_type": "code",
   "execution_count": 13,
   "id": "849dd0bf",
   "metadata": {},
   "outputs": [
    {
     "data": {
      "text/plain": [
       "0    2396\n",
       "1     604\n",
       "Name: belongs_to_collection, dtype: int64"
      ]
     },
     "execution_count": 13,
     "metadata": {},
     "output_type": "execute_result"
    }
   ],
   "source": [
    "df_train['belongs_to_collection'].apply(lambda x: len(x) if x != np.nan else 0).value_counts()"
   ]
  },
  {
   "cell_type": "markdown",
   "id": "e45652a5",
   "metadata": {},
   "source": [
    "`belongs_to_collection` has more than 80% of missing values. 2396 are missing and 604 contain information including id, name, poster_path, backdrop_path. \n",
    "\n",
    "I think only `name` information which shows whether the movie belongs to collection is useful. "
   ]
  },
  {
   "cell_type": "code",
   "execution_count": 14,
   "id": "d781139c",
   "metadata": {},
   "outputs": [
    {
     "name": "stdout",
     "output_type": "stream",
     "text": [
      "0 [{'id': 313576, 'name': 'Hot Tub Time Machine Collection', 'poster_path': '/iEhb00TGPucF0b4joM1ieyY026U.jpg', 'backdrop_path': '/noeTVcgpBiD48fDjFVic1Vz7ope.jpg'}]\n",
      "1 [{'id': 107674, 'name': 'The Princess Diaries Collection', 'poster_path': '/wt5AMbxPTS4Kfjx7Fgm149qPfZl.jpg', 'backdrop_path': '/zSEtYD77pKRJlUPx34BJgUG9v1c.jpg'}]\n",
      "2 {}\n",
      "3 {}\n",
      "4 {}\n"
     ]
    }
   ],
   "source": [
    "for i, e in enumerate(data['belongs_to_collection'][:5]):\n",
    "    print(i, e)"
   ]
  },
  {
   "cell_type": "markdown",
   "id": "b910fb71",
   "metadata": {},
   "source": [
    "Therefore, I will create `is_collection` feature which indicates whether the movie belongs to the collection or not, and drop the original `belongs_to_collection` feature"
   ]
  },
  {
   "cell_type": "code",
   "execution_count": 15,
   "id": "7b514727",
   "metadata": {},
   "outputs": [],
   "source": [
    "df_train['is_collection'] = df_train['belongs_to_collection'].apply(lambda x: len(x) if x != {} else 0)\n",
    "df_test['is_collection'] = df_test['belongs_to_collection'].apply(lambda x: len(x) if x != {} else 0)\n",
    "\n",
    "# drop belongs_to_collection\n",
    "df_train.drop('belongs_to_collection', axis=1, inplace=True)\n",
    "df_test.drop('belongs_to_collection', axis=1, inplace=True)"
   ]
  },
  {
   "cell_type": "code",
   "execution_count": 16,
   "id": "319f2673",
   "metadata": {},
   "outputs": [
    {
     "data": {
      "text/html": [
       "<div>\n",
       "<style scoped>\n",
       "    .dataframe tbody tr th:only-of-type {\n",
       "        vertical-align: middle;\n",
       "    }\n",
       "\n",
       "    .dataframe tbody tr th {\n",
       "        vertical-align: top;\n",
       "    }\n",
       "\n",
       "    .dataframe thead th {\n",
       "        text-align: right;\n",
       "    }\n",
       "</style>\n",
       "<table border=\"1\" class=\"dataframe\">\n",
       "  <thead>\n",
       "    <tr style=\"text-align: right;\">\n",
       "      <th></th>\n",
       "      <th>id</th>\n",
       "      <th>budget</th>\n",
       "      <th>genres</th>\n",
       "      <th>homepage</th>\n",
       "      <th>imdb_id</th>\n",
       "      <th>original_language</th>\n",
       "      <th>original_title</th>\n",
       "      <th>overview</th>\n",
       "      <th>popularity</th>\n",
       "      <th>poster_path</th>\n",
       "      <th>production_companies</th>\n",
       "      <th>production_countries</th>\n",
       "      <th>release_date</th>\n",
       "      <th>runtime</th>\n",
       "      <th>spoken_languages</th>\n",
       "      <th>status</th>\n",
       "      <th>tagline</th>\n",
       "      <th>title</th>\n",
       "      <th>Keywords</th>\n",
       "      <th>cast</th>\n",
       "      <th>crew</th>\n",
       "      <th>revenue</th>\n",
       "      <th>is_collection</th>\n",
       "    </tr>\n",
       "  </thead>\n",
       "  <tbody>\n",
       "    <tr>\n",
       "      <th>0</th>\n",
       "      <td>1</td>\n",
       "      <td>14000000</td>\n",
       "      <td>[{'id': 35, 'name': 'Comedy'}]</td>\n",
       "      <td>NaN</td>\n",
       "      <td>tt2637294</td>\n",
       "      <td>en</td>\n",
       "      <td>Hot Tub Time Machine 2</td>\n",
       "      <td>When Lou, who has become the \"father of the In...</td>\n",
       "      <td>6.575393</td>\n",
       "      <td>/tQtWuwvMf0hCc2QR2tkolwl7c3c.jpg</td>\n",
       "      <td>[{'name': 'Paramount Pictures', 'id': 4}, {'na...</td>\n",
       "      <td>[{'iso_3166_1': 'US', 'name': 'United States o...</td>\n",
       "      <td>2/20/15</td>\n",
       "      <td>93.0</td>\n",
       "      <td>[{'iso_639_1': 'en', 'name': 'English'}]</td>\n",
       "      <td>Released</td>\n",
       "      <td>The Laws of Space and Time are About to be Vio...</td>\n",
       "      <td>Hot Tub Time Machine 2</td>\n",
       "      <td>[{'id': 4379, 'name': 'time travel'}, {'id': 9...</td>\n",
       "      <td>[{'cast_id': 4, 'character': 'Lou', 'credit_id...</td>\n",
       "      <td>[{'credit_id': '59ac067c92514107af02c8c8', 'de...</td>\n",
       "      <td>12314651</td>\n",
       "      <td>1</td>\n",
       "    </tr>\n",
       "    <tr>\n",
       "      <th>1</th>\n",
       "      <td>2</td>\n",
       "      <td>40000000</td>\n",
       "      <td>[{'id': 35, 'name': 'Comedy'}, {'id': 18, 'nam...</td>\n",
       "      <td>NaN</td>\n",
       "      <td>tt0368933</td>\n",
       "      <td>en</td>\n",
       "      <td>The Princess Diaries 2: Royal Engagement</td>\n",
       "      <td>Mia Thermopolis is now a college graduate and ...</td>\n",
       "      <td>8.248895</td>\n",
       "      <td>/w9Z7A0GHEhIp7etpj0vyKOeU1Wx.jpg</td>\n",
       "      <td>[{'name': 'Walt Disney Pictures', 'id': 2}]</td>\n",
       "      <td>[{'iso_3166_1': 'US', 'name': 'United States o...</td>\n",
       "      <td>8/6/04</td>\n",
       "      <td>113.0</td>\n",
       "      <td>[{'iso_639_1': 'en', 'name': 'English'}]</td>\n",
       "      <td>Released</td>\n",
       "      <td>It can take a lifetime to find true love; she'...</td>\n",
       "      <td>The Princess Diaries 2: Royal Engagement</td>\n",
       "      <td>[{'id': 2505, 'name': 'coronation'}, {'id': 42...</td>\n",
       "      <td>[{'cast_id': 1, 'character': 'Mia Thermopolis'...</td>\n",
       "      <td>[{'credit_id': '52fe43fe9251416c7502563d', 'de...</td>\n",
       "      <td>95149435</td>\n",
       "      <td>1</td>\n",
       "    </tr>\n",
       "  </tbody>\n",
       "</table>\n",
       "</div>"
      ],
      "text/plain": [
       "   id    budget                                             genres homepage  \\\n",
       "0   1  14000000                     [{'id': 35, 'name': 'Comedy'}]      NaN   \n",
       "1   2  40000000  [{'id': 35, 'name': 'Comedy'}, {'id': 18, 'nam...      NaN   \n",
       "\n",
       "     imdb_id original_language                            original_title  \\\n",
       "0  tt2637294                en                    Hot Tub Time Machine 2   \n",
       "1  tt0368933                en  The Princess Diaries 2: Royal Engagement   \n",
       "\n",
       "                                            overview  popularity  \\\n",
       "0  When Lou, who has become the \"father of the In...    6.575393   \n",
       "1  Mia Thermopolis is now a college graduate and ...    8.248895   \n",
       "\n",
       "                        poster_path  \\\n",
       "0  /tQtWuwvMf0hCc2QR2tkolwl7c3c.jpg   \n",
       "1  /w9Z7A0GHEhIp7etpj0vyKOeU1Wx.jpg   \n",
       "\n",
       "                                production_companies  \\\n",
       "0  [{'name': 'Paramount Pictures', 'id': 4}, {'na...   \n",
       "1        [{'name': 'Walt Disney Pictures', 'id': 2}]   \n",
       "\n",
       "                                production_countries release_date  runtime  \\\n",
       "0  [{'iso_3166_1': 'US', 'name': 'United States o...      2/20/15     93.0   \n",
       "1  [{'iso_3166_1': 'US', 'name': 'United States o...       8/6/04    113.0   \n",
       "\n",
       "                           spoken_languages    status  \\\n",
       "0  [{'iso_639_1': 'en', 'name': 'English'}]  Released   \n",
       "1  [{'iso_639_1': 'en', 'name': 'English'}]  Released   \n",
       "\n",
       "                                             tagline  \\\n",
       "0  The Laws of Space and Time are About to be Vio...   \n",
       "1  It can take a lifetime to find true love; she'...   \n",
       "\n",
       "                                      title  \\\n",
       "0                    Hot Tub Time Machine 2   \n",
       "1  The Princess Diaries 2: Royal Engagement   \n",
       "\n",
       "                                            Keywords  \\\n",
       "0  [{'id': 4379, 'name': 'time travel'}, {'id': 9...   \n",
       "1  [{'id': 2505, 'name': 'coronation'}, {'id': 42...   \n",
       "\n",
       "                                                cast  \\\n",
       "0  [{'cast_id': 4, 'character': 'Lou', 'credit_id...   \n",
       "1  [{'cast_id': 1, 'character': 'Mia Thermopolis'...   \n",
       "\n",
       "                                                crew   revenue  is_collection  \n",
       "0  [{'credit_id': '59ac067c92514107af02c8c8', 'de...  12314651              1  \n",
       "1  [{'credit_id': '52fe43fe9251416c7502563d', 'de...  95149435              1  "
      ]
     },
     "execution_count": 16,
     "metadata": {},
     "output_type": "execute_result"
    }
   ],
   "source": [
    "df_train.head(2)"
   ]
  },
  {
   "cell_type": "code",
   "execution_count": 17,
   "id": "6802123a",
   "metadata": {},
   "outputs": [
    {
     "data": {
      "text/plain": [
       "0.0"
      ]
     },
     "execution_count": 17,
     "metadata": {},
     "output_type": "execute_result"
    }
   ],
   "source": [
    "# check if is_collection has missing value\n",
    "df_train['is_collection'].isnull().mean()"
   ]
  },
  {
   "cell_type": "code",
   "execution_count": 18,
   "id": "883d5027",
   "metadata": {},
   "outputs": [
    {
     "data": {
      "text/plain": [
       "0.0"
      ]
     },
     "execution_count": 18,
     "metadata": {},
     "output_type": "execute_result"
    }
   ],
   "source": [
    "df_test['is_collection'].isnull().mean()"
   ]
  },
  {
   "cell_type": "markdown",
   "id": "18349cf1",
   "metadata": {},
   "source": [
    "### Genres"
   ]
  },
  {
   "cell_type": "code",
   "execution_count": 19,
   "id": "98c46152",
   "metadata": {},
   "outputs": [
    {
     "name": "stdout",
     "output_type": "stream",
     "text": [
      "0 [{'id': 35, 'name': 'Comedy'}]\n",
      "1 [{'id': 35, 'name': 'Comedy'}, {'id': 18, 'name': 'Drama'}, {'id': 10751, 'name': 'Family'}, {'id': 10749, 'name': 'Romance'}]\n",
      "2 [{'id': 18, 'name': 'Drama'}]\n",
      "3 [{'id': 53, 'name': 'Thriller'}, {'id': 18, 'name': 'Drama'}]\n",
      "4 [{'id': 28, 'name': 'Action'}, {'id': 53, 'name': 'Thriller'}]\n"
     ]
    }
   ],
   "source": [
    "for i, e in enumerate(df_train['genres'][:5]):\n",
    "    print(i, e)"
   ]
  },
  {
   "cell_type": "markdown",
   "id": "a1e05cc7",
   "metadata": {},
   "source": [
    "We can see that some movies have multiple genres. \n",
    "\n",
    "Let's figure out how many genres the movie has?"
   ]
  },
  {
   "cell_type": "code",
   "execution_count": 20,
   "id": "4872bf13",
   "metadata": {},
   "outputs": [
    {
     "data": {
      "text/plain": [
       "2    972\n",
       "3    900\n",
       "1    593\n",
       "4    393\n",
       "5    111\n",
       "6     21\n",
       "0      7\n",
       "7      3\n",
       "Name: genres, dtype: int64"
      ]
     },
     "execution_count": 20,
     "metadata": {},
     "output_type": "execute_result"
    }
   ],
   "source": [
    "df_train['genres'].apply(lambda x: len(x) if x != {} else 0).value_counts()"
   ]
  },
  {
   "cell_type": "code",
   "execution_count": 22,
   "id": "b714d6f3",
   "metadata": {},
   "outputs": [
    {
     "data": {
      "text/plain": [
       "2    0.324000\n",
       "3    0.300000\n",
       "1    0.197667\n",
       "4    0.131000\n",
       "5    0.037000\n",
       "6    0.007000\n",
       "0    0.002333\n",
       "7    0.001000\n",
       "Name: genres, dtype: float64"
      ]
     },
     "execution_count": 22,
     "metadata": {},
     "output_type": "execute_result"
    }
   ],
   "source": [
    "df_train['genres'].apply(lambda x: len(x) if x != {} else 0).value_counts() / len(df_train)"
   ]
  },
  {
   "cell_type": "markdown",
   "id": "c2509e1f",
   "metadata": {},
   "source": [
    "We can consider more then 5 genres are rare label, because they have less than 5%. "
   ]
  },
  {
   "cell_type": "markdown",
   "id": "4f4adfb4",
   "metadata": {},
   "source": [
    "what about test?"
   ]
  },
  {
   "cell_type": "code",
   "execution_count": 21,
   "id": "b82c53fe",
   "metadata": {},
   "outputs": [
    {
     "data": {
      "text/plain": [
       "2    1407\n",
       "3    1308\n",
       "1     895\n",
       "4     574\n",
       "5     169\n",
       "6      27\n",
       "0      16\n",
       "8       1\n",
       "7       1\n",
       "Name: genres, dtype: int64"
      ]
     },
     "execution_count": 21,
     "metadata": {},
     "output_type": "execute_result"
    }
   ],
   "source": [
    "df_test['genres'].apply(lambda x: len(x) if x != {} else 0).value_counts()"
   ]
  },
  {
   "cell_type": "code",
   "execution_count": 23,
   "id": "2f188c62",
   "metadata": {},
   "outputs": [
    {
     "data": {
      "text/plain": [
       "2    0.469000\n",
       "3    0.436000\n",
       "1    0.298333\n",
       "4    0.191333\n",
       "5    0.056333\n",
       "6    0.009000\n",
       "0    0.005333\n",
       "8    0.000333\n",
       "7    0.000333\n",
       "Name: genres, dtype: float64"
      ]
     },
     "execution_count": 23,
     "metadata": {},
     "output_type": "execute_result"
    }
   ],
   "source": [
    "df_test['genres'].apply(lambda x: len(x) if x != {} else 0).value_counts() / len(df_train)"
   ]
  },
  {
   "cell_type": "markdown",
   "id": "a6d554fd",
   "metadata": {},
   "source": [
    "Rare values are categories within a categorical variable that are present only in a small percentage of the observations. I consider any value below 5% can be a rare label. \n",
    "\n",
    "So, as we can see above, more than 5 genres can be rare labels.\n",
    "\n",
    "#### Note that I will perform rare label encoding later after splitting training and validation set, because it learns the parameters from train, and apply to validation and test set later. "
   ]
  },
  {
   "cell_type": "markdown",
   "id": "481c5024",
   "metadata": {},
   "source": [
    "I will perform the following steps: \n",
    "\n",
    "    1) Extract the number of genres, `num_genres` from `genres`\n",
    "    2) Make `num_genres` a categorical variable. \n",
    "    3) Make 0 value to missing value\n",
    "    4) Drop the original `genres` column from both df_train and df_test dataset\n",
    "   "
   ]
  },
  {
   "cell_type": "code",
   "execution_count": 27,
   "id": "18d43c9e",
   "metadata": {},
   "outputs": [
    {
     "data": {
      "text/html": [
       "<div>\n",
       "<style scoped>\n",
       "    .dataframe tbody tr th:only-of-type {\n",
       "        vertical-align: middle;\n",
       "    }\n",
       "\n",
       "    .dataframe tbody tr th {\n",
       "        vertical-align: top;\n",
       "    }\n",
       "\n",
       "    .dataframe thead th {\n",
       "        text-align: right;\n",
       "    }\n",
       "</style>\n",
       "<table border=\"1\" class=\"dataframe\">\n",
       "  <thead>\n",
       "    <tr style=\"text-align: right;\">\n",
       "      <th></th>\n",
       "      <th>id</th>\n",
       "      <th>budget</th>\n",
       "      <th>genres</th>\n",
       "      <th>homepage</th>\n",
       "      <th>imdb_id</th>\n",
       "      <th>original_language</th>\n",
       "      <th>original_title</th>\n",
       "      <th>overview</th>\n",
       "      <th>popularity</th>\n",
       "      <th>poster_path</th>\n",
       "      <th>production_companies</th>\n",
       "      <th>production_countries</th>\n",
       "      <th>release_date</th>\n",
       "      <th>runtime</th>\n",
       "      <th>spoken_languages</th>\n",
       "      <th>status</th>\n",
       "      <th>tagline</th>\n",
       "      <th>title</th>\n",
       "      <th>Keywords</th>\n",
       "      <th>cast</th>\n",
       "      <th>crew</th>\n",
       "      <th>revenue</th>\n",
       "      <th>is_collection</th>\n",
       "      <th>num_genres</th>\n",
       "    </tr>\n",
       "  </thead>\n",
       "  <tbody>\n",
       "    <tr>\n",
       "      <th>0</th>\n",
       "      <td>1</td>\n",
       "      <td>14000000</td>\n",
       "      <td>[{'id': 35, 'name': 'Comedy'}]</td>\n",
       "      <td>NaN</td>\n",
       "      <td>tt2637294</td>\n",
       "      <td>en</td>\n",
       "      <td>Hot Tub Time Machine 2</td>\n",
       "      <td>When Lou, who has become the \"father of the In...</td>\n",
       "      <td>6.575393</td>\n",
       "      <td>/tQtWuwvMf0hCc2QR2tkolwl7c3c.jpg</td>\n",
       "      <td>[{'name': 'Paramount Pictures', 'id': 4}, {'na...</td>\n",
       "      <td>[{'iso_3166_1': 'US', 'name': 'United States o...</td>\n",
       "      <td>2/20/15</td>\n",
       "      <td>93.0</td>\n",
       "      <td>[{'iso_639_1': 'en', 'name': 'English'}]</td>\n",
       "      <td>Released</td>\n",
       "      <td>The Laws of Space and Time are About to be Vio...</td>\n",
       "      <td>Hot Tub Time Machine 2</td>\n",
       "      <td>[{'id': 4379, 'name': 'time travel'}, {'id': 9...</td>\n",
       "      <td>[{'cast_id': 4, 'character': 'Lou', 'credit_id...</td>\n",
       "      <td>[{'credit_id': '59ac067c92514107af02c8c8', 'de...</td>\n",
       "      <td>12314651</td>\n",
       "      <td>1</td>\n",
       "      <td>1</td>\n",
       "    </tr>\n",
       "    <tr>\n",
       "      <th>1</th>\n",
       "      <td>2</td>\n",
       "      <td>40000000</td>\n",
       "      <td>[{'id': 35, 'name': 'Comedy'}, {'id': 18, 'nam...</td>\n",
       "      <td>NaN</td>\n",
       "      <td>tt0368933</td>\n",
       "      <td>en</td>\n",
       "      <td>The Princess Diaries 2: Royal Engagement</td>\n",
       "      <td>Mia Thermopolis is now a college graduate and ...</td>\n",
       "      <td>8.248895</td>\n",
       "      <td>/w9Z7A0GHEhIp7etpj0vyKOeU1Wx.jpg</td>\n",
       "      <td>[{'name': 'Walt Disney Pictures', 'id': 2}]</td>\n",
       "      <td>[{'iso_3166_1': 'US', 'name': 'United States o...</td>\n",
       "      <td>8/6/04</td>\n",
       "      <td>113.0</td>\n",
       "      <td>[{'iso_639_1': 'en', 'name': 'English'}]</td>\n",
       "      <td>Released</td>\n",
       "      <td>It can take a lifetime to find true love; she'...</td>\n",
       "      <td>The Princess Diaries 2: Royal Engagement</td>\n",
       "      <td>[{'id': 2505, 'name': 'coronation'}, {'id': 42...</td>\n",
       "      <td>[{'cast_id': 1, 'character': 'Mia Thermopolis'...</td>\n",
       "      <td>[{'credit_id': '52fe43fe9251416c7502563d', 'de...</td>\n",
       "      <td>95149435</td>\n",
       "      <td>1</td>\n",
       "      <td>4</td>\n",
       "    </tr>\n",
       "    <tr>\n",
       "      <th>2</th>\n",
       "      <td>3</td>\n",
       "      <td>3300000</td>\n",
       "      <td>[{'id': 18, 'name': 'Drama'}]</td>\n",
       "      <td>http://sonyclassics.com/whiplash/</td>\n",
       "      <td>tt2582802</td>\n",
       "      <td>en</td>\n",
       "      <td>Whiplash</td>\n",
       "      <td>Under the direction of a ruthless instructor, ...</td>\n",
       "      <td>64.299990</td>\n",
       "      <td>/lIv1QinFqz4dlp5U4lQ6HaiskOZ.jpg</td>\n",
       "      <td>[{'name': 'Bold Films', 'id': 2266}, {'name': ...</td>\n",
       "      <td>[{'iso_3166_1': 'US', 'name': 'United States o...</td>\n",
       "      <td>10/10/14</td>\n",
       "      <td>105.0</td>\n",
       "      <td>[{'iso_639_1': 'en', 'name': 'English'}]</td>\n",
       "      <td>Released</td>\n",
       "      <td>The road to greatness can take you to the edge.</td>\n",
       "      <td>Whiplash</td>\n",
       "      <td>[{'id': 1416, 'name': 'jazz'}, {'id': 1523, 'n...</td>\n",
       "      <td>[{'cast_id': 5, 'character': 'Andrew Neimann',...</td>\n",
       "      <td>[{'credit_id': '54d5356ec3a3683ba0000039', 'de...</td>\n",
       "      <td>13092000</td>\n",
       "      <td>0</td>\n",
       "      <td>1</td>\n",
       "    </tr>\n",
       "    <tr>\n",
       "      <th>3</th>\n",
       "      <td>4</td>\n",
       "      <td>1200000</td>\n",
       "      <td>[{'id': 53, 'name': 'Thriller'}, {'id': 18, 'n...</td>\n",
       "      <td>http://kahaanithefilm.com/</td>\n",
       "      <td>tt1821480</td>\n",
       "      <td>hi</td>\n",
       "      <td>Kahaani</td>\n",
       "      <td>Vidya Bagchi (Vidya Balan) arrives in Kolkata ...</td>\n",
       "      <td>3.174936</td>\n",
       "      <td>/aTXRaPrWSinhcmCrcfJK17urp3F.jpg</td>\n",
       "      <td>{}</td>\n",
       "      <td>[{'iso_3166_1': 'IN', 'name': 'India'}]</td>\n",
       "      <td>3/9/12</td>\n",
       "      <td>122.0</td>\n",
       "      <td>[{'iso_639_1': 'en', 'name': 'English'}, {'iso...</td>\n",
       "      <td>Released</td>\n",
       "      <td>NaN</td>\n",
       "      <td>Kahaani</td>\n",
       "      <td>[{'id': 10092, 'name': 'mystery'}, {'id': 1054...</td>\n",
       "      <td>[{'cast_id': 1, 'character': 'Vidya Bagchi', '...</td>\n",
       "      <td>[{'credit_id': '52fe48779251416c9108d6eb', 'de...</td>\n",
       "      <td>16000000</td>\n",
       "      <td>0</td>\n",
       "      <td>2</td>\n",
       "    </tr>\n",
       "    <tr>\n",
       "      <th>4</th>\n",
       "      <td>5</td>\n",
       "      <td>0</td>\n",
       "      <td>[{'id': 28, 'name': 'Action'}, {'id': 53, 'nam...</td>\n",
       "      <td>NaN</td>\n",
       "      <td>tt1380152</td>\n",
       "      <td>ko</td>\n",
       "      <td>마린보이</td>\n",
       "      <td>Marine Boy is the story of a former national s...</td>\n",
       "      <td>1.148070</td>\n",
       "      <td>/m22s7zvkVFDU9ir56PiiqIEWFdT.jpg</td>\n",
       "      <td>{}</td>\n",
       "      <td>[{'iso_3166_1': 'KR', 'name': 'South Korea'}]</td>\n",
       "      <td>2/5/09</td>\n",
       "      <td>118.0</td>\n",
       "      <td>[{'iso_639_1': 'ko', 'name': '한국어/조선말'}]</td>\n",
       "      <td>Released</td>\n",
       "      <td>NaN</td>\n",
       "      <td>Marine Boy</td>\n",
       "      <td>{}</td>\n",
       "      <td>[{'cast_id': 3, 'character': 'Chun-soo', 'cred...</td>\n",
       "      <td>[{'credit_id': '52fe464b9251416c75073b43', 'de...</td>\n",
       "      <td>3923970</td>\n",
       "      <td>0</td>\n",
       "      <td>2</td>\n",
       "    </tr>\n",
       "  </tbody>\n",
       "</table>\n",
       "</div>"
      ],
      "text/plain": [
       "   id    budget                                             genres  \\\n",
       "0   1  14000000                     [{'id': 35, 'name': 'Comedy'}]   \n",
       "1   2  40000000  [{'id': 35, 'name': 'Comedy'}, {'id': 18, 'nam...   \n",
       "2   3   3300000                      [{'id': 18, 'name': 'Drama'}]   \n",
       "3   4   1200000  [{'id': 53, 'name': 'Thriller'}, {'id': 18, 'n...   \n",
       "4   5         0  [{'id': 28, 'name': 'Action'}, {'id': 53, 'nam...   \n",
       "\n",
       "                            homepage    imdb_id original_language  \\\n",
       "0                                NaN  tt2637294                en   \n",
       "1                                NaN  tt0368933                en   \n",
       "2  http://sonyclassics.com/whiplash/  tt2582802                en   \n",
       "3         http://kahaanithefilm.com/  tt1821480                hi   \n",
       "4                                NaN  tt1380152                ko   \n",
       "\n",
       "                             original_title  \\\n",
       "0                    Hot Tub Time Machine 2   \n",
       "1  The Princess Diaries 2: Royal Engagement   \n",
       "2                                  Whiplash   \n",
       "3                                   Kahaani   \n",
       "4                                      마린보이   \n",
       "\n",
       "                                            overview  popularity  \\\n",
       "0  When Lou, who has become the \"father of the In...    6.575393   \n",
       "1  Mia Thermopolis is now a college graduate and ...    8.248895   \n",
       "2  Under the direction of a ruthless instructor, ...   64.299990   \n",
       "3  Vidya Bagchi (Vidya Balan) arrives in Kolkata ...    3.174936   \n",
       "4  Marine Boy is the story of a former national s...    1.148070   \n",
       "\n",
       "                        poster_path  \\\n",
       "0  /tQtWuwvMf0hCc2QR2tkolwl7c3c.jpg   \n",
       "1  /w9Z7A0GHEhIp7etpj0vyKOeU1Wx.jpg   \n",
       "2  /lIv1QinFqz4dlp5U4lQ6HaiskOZ.jpg   \n",
       "3  /aTXRaPrWSinhcmCrcfJK17urp3F.jpg   \n",
       "4  /m22s7zvkVFDU9ir56PiiqIEWFdT.jpg   \n",
       "\n",
       "                                production_companies  \\\n",
       "0  [{'name': 'Paramount Pictures', 'id': 4}, {'na...   \n",
       "1        [{'name': 'Walt Disney Pictures', 'id': 2}]   \n",
       "2  [{'name': 'Bold Films', 'id': 2266}, {'name': ...   \n",
       "3                                                 {}   \n",
       "4                                                 {}   \n",
       "\n",
       "                                production_countries release_date  runtime  \\\n",
       "0  [{'iso_3166_1': 'US', 'name': 'United States o...      2/20/15     93.0   \n",
       "1  [{'iso_3166_1': 'US', 'name': 'United States o...       8/6/04    113.0   \n",
       "2  [{'iso_3166_1': 'US', 'name': 'United States o...     10/10/14    105.0   \n",
       "3            [{'iso_3166_1': 'IN', 'name': 'India'}]       3/9/12    122.0   \n",
       "4      [{'iso_3166_1': 'KR', 'name': 'South Korea'}]       2/5/09    118.0   \n",
       "\n",
       "                                    spoken_languages    status  \\\n",
       "0           [{'iso_639_1': 'en', 'name': 'English'}]  Released   \n",
       "1           [{'iso_639_1': 'en', 'name': 'English'}]  Released   \n",
       "2           [{'iso_639_1': 'en', 'name': 'English'}]  Released   \n",
       "3  [{'iso_639_1': 'en', 'name': 'English'}, {'iso...  Released   \n",
       "4           [{'iso_639_1': 'ko', 'name': '한국어/조선말'}]  Released   \n",
       "\n",
       "                                             tagline  \\\n",
       "0  The Laws of Space and Time are About to be Vio...   \n",
       "1  It can take a lifetime to find true love; she'...   \n",
       "2    The road to greatness can take you to the edge.   \n",
       "3                                                NaN   \n",
       "4                                                NaN   \n",
       "\n",
       "                                      title  \\\n",
       "0                    Hot Tub Time Machine 2   \n",
       "1  The Princess Diaries 2: Royal Engagement   \n",
       "2                                  Whiplash   \n",
       "3                                   Kahaani   \n",
       "4                                Marine Boy   \n",
       "\n",
       "                                            Keywords  \\\n",
       "0  [{'id': 4379, 'name': 'time travel'}, {'id': 9...   \n",
       "1  [{'id': 2505, 'name': 'coronation'}, {'id': 42...   \n",
       "2  [{'id': 1416, 'name': 'jazz'}, {'id': 1523, 'n...   \n",
       "3  [{'id': 10092, 'name': 'mystery'}, {'id': 1054...   \n",
       "4                                                 {}   \n",
       "\n",
       "                                                cast  \\\n",
       "0  [{'cast_id': 4, 'character': 'Lou', 'credit_id...   \n",
       "1  [{'cast_id': 1, 'character': 'Mia Thermopolis'...   \n",
       "2  [{'cast_id': 5, 'character': 'Andrew Neimann',...   \n",
       "3  [{'cast_id': 1, 'character': 'Vidya Bagchi', '...   \n",
       "4  [{'cast_id': 3, 'character': 'Chun-soo', 'cred...   \n",
       "\n",
       "                                                crew   revenue  is_collection  \\\n",
       "0  [{'credit_id': '59ac067c92514107af02c8c8', 'de...  12314651              1   \n",
       "1  [{'credit_id': '52fe43fe9251416c7502563d', 'de...  95149435              1   \n",
       "2  [{'credit_id': '54d5356ec3a3683ba0000039', 'de...  13092000              0   \n",
       "3  [{'credit_id': '52fe48779251416c9108d6eb', 'de...  16000000              0   \n",
       "4  [{'credit_id': '52fe464b9251416c75073b43', 'de...   3923970              0   \n",
       "\n",
       "   num_genres  \n",
       "0           1  \n",
       "1           4  \n",
       "2           1  \n",
       "3           2  \n",
       "4           2  "
      ]
     },
     "execution_count": 27,
     "metadata": {},
     "output_type": "execute_result"
    }
   ],
   "source": [
    "# 1) Extract the num_genres from genres \n",
    "df_train['num_genres'] = df_train['genres'].apply(lambda x: len(x) if x != {} else 0)\n",
    "df_test['num_genres'] = df_test['genres'].apply(lambda x: len(x) if x != {} else 0)\n",
    "\n",
    "df_train.head(5)"
   ]
  },
  {
   "cell_type": "code",
   "execution_count": 32,
   "id": "7e097756",
   "metadata": {},
   "outputs": [],
   "source": [
    "# 2) Make `num_genres` a categorical variable. \n",
    "df_train['num_genres'] = df_train['num_genres'].astype('O')\n",
    "df_test['num_genres'] = df_test['num_genres'].astype('O')"
   ]
  },
  {
   "cell_type": "code",
   "execution_count": 40,
   "id": "3fcb5672",
   "metadata": {},
   "outputs": [],
   "source": [
    "# 3) Make 0 value to missing values\n",
    "df_train['num_genres'] = df_train['num_genres'].replace(0, 'missing')\n",
    "df_test['num_genres'] = df_test['num_genres'].replace(0, 'missing')"
   ]
  },
  {
   "cell_type": "code",
   "execution_count": 35,
   "id": "b445d7e6",
   "metadata": {},
   "outputs": [],
   "source": [
    "# 4) drop the original column from df_train and df_test\n",
    "df_train.drop('genres', axis=1, inplace=True)\n",
    "df_test.drop('genres', axis=1, inplace=True)"
   ]
  },
  {
   "cell_type": "markdown",
   "id": "54a448eb",
   "metadata": {},
   "source": [
    "### homepage"
   ]
  },
  {
   "cell_type": "markdown",
   "id": "f88072db",
   "metadata": {},
   "source": [
    "We found above, there are a lot of missing values in homepage variable both in training and test set. It might be better to create `is_homepage` column which indicates whether it has homepage or not. \n"
   ]
  },
  {
   "cell_type": "code",
   "execution_count": 43,
   "id": "10b4d07c",
   "metadata": {},
   "outputs": [
    {
     "data": {
      "text/plain": [
       "0.6846666666666666"
      ]
     },
     "execution_count": 43,
     "metadata": {},
     "output_type": "execute_result"
    }
   ],
   "source": [
    "df_train['homepage'].isnull().mean()"
   ]
  },
  {
   "cell_type": "code",
   "execution_count": 86,
   "id": "e55a0205",
   "metadata": {},
   "outputs": [],
   "source": [
    "df_train['is_homepage'] = np.where(df_train['homepage'].isnull(), 0, 1)\n",
    "df_test['is_homepage'] = np.where(df_test['homepage'].isnull(), 0, 1)"
   ]
  },
  {
   "cell_type": "code",
   "execution_count": 87,
   "id": "1a580714",
   "metadata": {},
   "outputs": [],
   "source": [
    "# drop original homepage column\n",
    "df_train.drop('homepage', axis=1, inplace=True)\n",
    "df_test.drop('homepage', axis=1, inplace=True)"
   ]
  },
  {
   "cell_type": "markdown",
   "id": "6b0f0067",
   "metadata": {},
   "source": [
    "### original_language"
   ]
  },
  {
   "cell_type": "markdown",
   "id": "56357f5a",
   "metadata": {},
   "source": [
    "`Original_langauge` has high cardinality. highly cardinal variables tend to have many infrequent or rare categories\n",
    "\n",
    "We found that the majority of movies' original language is English. So, I will create a variable which indicates whether the movie is in English or not."
   ]
  },
  {
   "cell_type": "code",
   "execution_count": 100,
   "id": "69c444bc",
   "metadata": {},
   "outputs": [
    {
     "data": {
      "text/plain": [
       "<AxesSubplot:>"
      ]
     },
     "execution_count": 100,
     "metadata": {},
     "output_type": "execute_result"
    },
    {
     "data": {
      "image/png": "[encoded data removed]",
      "text/plain": [
       "<Figure size 576x360 with 1 Axes>"
      ]
     },
     "metadata": {
      "needs_background": "light"
     },
     "output_type": "display_data"
    }
   ],
   "source": [
    "(df_train['original_language'].value_counts() /len(df_train)).plot(kind='bar', figsize=(8,5))"
   ]
  },
  {
   "cell_type": "code",
   "execution_count": 101,
   "id": "59dfa77d",
   "metadata": {},
   "outputs": [
    {
     "data": {
      "text/plain": [
       "<AxesSubplot:>"
      ]
     },
     "execution_count": 101,
     "metadata": {},
     "output_type": "execute_result"
    },
    {
     "data": {
      "image/png": "[encoded data removed]",
      "text/plain": [
       "<Figure size 576x360 with 1 Axes>"
      ]
     },
     "metadata": {
      "needs_background": "light"
     },
     "output_type": "display_data"
    }
   ],
   "source": [
    "(df_test['original_language'].value_counts() / len(df_test)).plot(kind='bar', figsize=(8,5))"
   ]
  },
  {
   "cell_type": "code",
   "execution_count": 102,
   "id": "1f797401",
   "metadata": {},
   "outputs": [],
   "source": [
    "# create is_English variable\n",
    "df_train['is_English'] = np.where((df_train['original_language'] == 'en'), 1, 0)\n",
    "df_test['is_English'] = np.where((df_test['original_language'] == 'en'), 1, 0)"
   ]
  },
  {
   "cell_type": "code",
   "execution_count": 106,
   "id": "cc732b96",
   "metadata": {},
   "outputs": [],
   "source": [
    "# drop original language column\n",
    "df_train.drop('original_language', axis=1, inplace=True)\n",
    "df_test.drop('original_language', axis=1, inplace=True)"
   ]
  },
  {
   "cell_type": "markdown",
   "id": "c5a670f5",
   "metadata": {},
   "source": [
    "### Drop unuseful variables"
   ]
  },
  {
   "cell_type": "markdown",
   "id": "26579cc2",
   "metadata": {},
   "source": [
    "I think `original_title`, `overview`, `poster_path`, `tagline`, `title` are useful to keep when building a machine learning model, so I will drop those variables"
   ]
  },
  {
   "cell_type": "code",
   "execution_count": 107,
   "id": "8616b03a",
   "metadata": {},
   "outputs": [],
   "source": [
    "df_train.drop(['original_title', 'overview', 'poster_path', 'tagline', 'title'], axis=1, inplace=True)\n",
    "df_test.drop(['original_title', 'overview', 'poster_path', 'tagline', 'title'], axis=1, inplace=True)"
   ]
  },
  {
   "cell_type": "markdown",
   "id": "388e8f0c",
   "metadata": {},
   "source": [
    "### production_companies"
   ]
  },
  {
   "cell_type": "code",
   "execution_count": 108,
   "id": "d36a77eb",
   "metadata": {},
   "outputs": [
    {
     "name": "stdout",
     "output_type": "stream",
     "text": [
      "0 [{'name': 'Paramount Pictures', 'id': 4}, {'name': 'United Artists', 'id': 60}, {'name': 'Metro-Goldwyn-Mayer (MGM)', 'id': 8411}]\n",
      "1 [{'name': 'Walt Disney Pictures', 'id': 2}]\n",
      "2 [{'name': 'Bold Films', 'id': 2266}, {'name': 'Blumhouse Productions', 'id': 3172}, {'name': 'Right of Way Films', 'id': 32157}]\n",
      "3 {}\n",
      "4 {}\n"
     ]
    }
   ],
   "source": [
    "for i, e in enumerate(df_train['production_companies'][:5]):\n",
    "    print(i, e)"
   ]
  },
  {
   "cell_type": "code",
   "execution_count": 113,
   "id": "927df0e4",
   "metadata": {},
   "outputs": [
    {
     "data": {
      "text/plain": [
       "1     0.258333\n",
       "2     0.244667\n",
       "3     0.194000\n",
       "4     0.104000\n",
       "5     0.055333\n",
       "0     0.052000\n",
       "6     0.039333\n",
       "7     0.020667\n",
       "8     0.014000\n",
       "9     0.009667\n",
       "10    0.002333\n",
       "11    0.002333\n",
       "12    0.001000\n",
       "16    0.000667\n",
       "15    0.000667\n",
       "14    0.000333\n",
       "13    0.000333\n",
       "17    0.000333\n",
       "Name: production_companies, dtype: float64"
      ]
     },
     "execution_count": 113,
     "metadata": {},
     "output_type": "execute_result"
    }
   ],
   "source": [
    "df_train['production_companies'].apply(lambda x: len(x) if x != {} else 0).value_counts() / len(df_train)"
   ]
  },
  {
   "cell_type": "markdown",
   "id": "92eaed1e",
   "metadata": {},
   "source": [
    "__Insight__\n",
    "- 0 value can be missing values. \n",
    "- More than 5 production companies can be encoded as rare labels because they have less than 5% values\n",
    "\n",
    "Therefore, I will perform the following steps:\n",
    "\n",
    "- 1) Extract the number of production companies and create a new variable called `num_pro_comps`\n",
    "- 2) Convert `num_pro_comps` dtypes to categorical variable (object)\n",
    "- 3) Change 0 value to 'missing' label\n",
    "- 4) Drop the original column `production_companies`\n",
    "\n",
    "#### Note that I will perform rare label encoding later after splitting training and validation set"
   ]
  },
  {
   "cell_type": "code",
   "execution_count": 114,
   "id": "ca5124e6",
   "metadata": {},
   "outputs": [],
   "source": [
    "# 1) Extract the number of production companies and create a new variable called num_pro_comps\n",
    "df_train['num_pro_comps'] = df_train['production_companies'].apply(lambda x: len(x) if x != {} else 0)\n",
    "df_test['num_pro_comps'] = df_test['production_companies'].apply(lambda x: len(x) if x != {} else 0)"
   ]
  },
  {
   "cell_type": "code",
   "execution_count": 116,
   "id": "1a7f5234",
   "metadata": {},
   "outputs": [],
   "source": [
    "# 2) Extract the number of production companies and create a new variable called num_pro_comps\n",
    "df_train['num_pro_comps'] = df_train['num_pro_comps'].astype('O')\n",
    "df_test['num_pro_comps'] = df_test['num_pro_comps'].astype('O')"
   ]
  },
  {
   "cell_type": "code",
   "execution_count": 117,
   "id": "0bff0100",
   "metadata": {},
   "outputs": [],
   "source": [
    "# 3) Change 0 value to 'missing' label\n",
    "df_train['num_pro_comps'] = df_train['num_pro_comps'].replace(0, 'missing')\n",
    "df_test['num_pro_comps'] = df_test['num_pro_comps'].replace(0, 'missing')"
   ]
  },
  {
   "cell_type": "code",
   "execution_count": 119,
   "id": "92e00ec0",
   "metadata": {},
   "outputs": [],
   "source": [
    "# 4) Drop the original column production_companies\n",
    "df_train.drop('production_companies', axis=1, inplace=True)\n",
    "df_test.drop('production_companies', axis=1, inplace=True)"
   ]
  },
  {
   "cell_type": "markdown",
   "id": "8ea30789",
   "metadata": {},
   "source": [
    "### production_countries"
   ]
  },
  {
   "cell_type": "code",
   "execution_count": 121,
   "id": "e8de058b",
   "metadata": {},
   "outputs": [
    {
     "name": "stdout",
     "output_type": "stream",
     "text": [
      "0 [{'iso_3166_1': 'US', 'name': 'United States of America'}]\n",
      "1 [{'iso_3166_1': 'US', 'name': 'United States of America'}]\n",
      "2 [{'iso_3166_1': 'US', 'name': 'United States of America'}]\n",
      "3 [{'iso_3166_1': 'IN', 'name': 'India'}]\n",
      "4 [{'iso_3166_1': 'KR', 'name': 'South Korea'}]\n"
     ]
    }
   ],
   "source": [
    "for i, e in enumerate(df_train['production_countries'][:5]):\n",
    "    print(i, e)"
   ]
  },
  {
   "cell_type": "code",
   "execution_count": 124,
   "id": "1b3bdbc9",
   "metadata": {},
   "outputs": [
    {
     "data": {
      "text/plain": [
       "1    0.759000\n",
       "2    0.175000\n",
       "3    0.038667\n",
       "4    0.019000\n",
       "5    0.007000\n",
       "6    0.001000\n",
       "8    0.000333\n",
       "Name: production_countries, dtype: float64"
      ]
     },
     "execution_count": 124,
     "metadata": {},
     "output_type": "execute_result"
    }
   ],
   "source": [
    "df_train['production_countries'].apply(lambda x: len(x) if x != {} else 1).value_counts() / len(df_train)"
   ]
  },
  {
   "cell_type": "markdown",
   "id": "3fcaee8e",
   "metadata": {},
   "source": [
    "The majority production countries is one or two countries. More than 3 countries can be considered as rare labels. "
   ]
  },
  {
   "cell_type": "markdown",
   "id": "7efeddd2",
   "metadata": {},
   "source": [
    "Let's perform the following steps:\n",
    "\n",
    "- 1) Extract the number of production countries and create new variable called `num_pro_count'\n",
    "- 2) Convert the dtype as object\n",
    "- 3) Drop the original column `production_countries`\n",
    "\n",
    "#### Note that I will encode more than 3 countries as \"rare\" after splitting training and validation set"
   ]
  },
  {
   "cell_type": "code",
   "execution_count": 125,
   "id": "88b6320b",
   "metadata": {},
   "outputs": [],
   "source": [
    "# 1) Extract the number of production countries and create new variable called `num_pro_count'\n",
    "df_train['num_pro_count'] = df_train['production_countries'].apply(lambda x: len(x) if x != {} else 0)\n",
    "df_test['num_pro_count'] = df_test['production_countries'].apply(lambda x: len(x) if x != {} else 0)\n",
    "\n",
    "# 2) Convert the dtype as object\n",
    "df_train['num_pro_count'] = df_train['num_pro_count'].astype('O')\n",
    "df_test['num_pro_count'] = df_test['num_pro_count'].astype('O')\n",
    "\n",
    "# 3) Drop the original column production_countries\n",
    "df_train.drop('production_countries', axis=1, inplace=True)\n",
    "df_test.drop('production_countries', axis=1, inplace=True)"
   ]
  },
  {
   "cell_type": "markdown",
   "id": "e06d524f",
   "metadata": {},
   "source": [
    "### spoken_languages"
   ]
  },
  {
   "cell_type": "markdown",
   "id": "c405900d",
   "metadata": {},
   "source": [
    "I will extract the number of spoken languages from `spoken_lanuages`. The procedure is the same as the above"
   ]
  },
  {
   "cell_type": "code",
   "execution_count": 127,
   "id": "bdb1af61",
   "metadata": {},
   "outputs": [
    {
     "data": {
      "text/plain": [
       "1    2105\n",
       "2     549\n",
       "3     216\n",
       "4      72\n",
       "5      23\n",
       "0      20\n",
       "6       6\n",
       "7       6\n",
       "8       2\n",
       "9       1\n",
       "Name: spoken_languages, dtype: int64"
      ]
     },
     "execution_count": 127,
     "metadata": {},
     "output_type": "execute_result"
    }
   ],
   "source": [
    "df_train['spoken_languages'].apply(lambda x: len(x) if x != {} else 0).value_counts()"
   ]
  },
  {
   "cell_type": "code",
   "execution_count": 133,
   "id": "735b02e6",
   "metadata": {},
   "outputs": [],
   "source": [
    "# 1) Extract the number of spoken languages and create new variable called `num_spoken_lang'\n",
    "df_train['num_spoken_lang'] = df_train['spoken_languages'].apply(lambda x: len(x) if x != {} else 0)\n",
    "df_test['num_spoken_lang'] = df_test['spoken_languages'].apply(lambda x: len(x) if x != {} else 0)\n",
    "\n",
    "# 2) Convert the dtype as object\n",
    "df_train['num_spoken_lang'] = df_train['num_spoken_lang'].astype('O')\n",
    "df_test['num_spoken_lang'] = df_test['num_spoken_lang'].astype('O')\n",
    "\n",
    "# 3) 0 value can be missing value\n",
    "df_train['num_spoken_lang'] = df_train['num_spoken_lang'].replace(0, 'missing')\n",
    "df_test['num_spoken_lang'] = df_test['num_spoken_lang'].replace(0, 'missing')\n",
    "\n",
    "# 3) Drop the original column production_countries\n",
    "df_train.drop('spoken_languages', axis=1, inplace=True)\n",
    "df_test.drop('spoken_languages', axis=1, inplace=True)"
   ]
  },
  {
   "cell_type": "code",
   "execution_count": 135,
   "id": "48e4874f",
   "metadata": {},
   "outputs": [
    {
     "data": {
      "text/plain": [
       "1          0.701667\n",
       "2          0.183000\n",
       "3          0.072000\n",
       "4          0.024000\n",
       "5          0.007667\n",
       "missing    0.006667\n",
       "6          0.002000\n",
       "7          0.002000\n",
       "8          0.000667\n",
       "9          0.000333\n",
       "Name: num_spoken_lang, dtype: float64"
      ]
     },
     "execution_count": 135,
     "metadata": {},
     "output_type": "execute_result"
    }
   ],
   "source": [
    "df_train['num_spoken_lang'].value_counts() / len(df_train)"
   ]
  },
  {
   "cell_type": "markdown",
   "id": "5038ec85",
   "metadata": {},
   "source": [
    "#### Note that more than 4 languages usage can be rare labels. "
   ]
  },
  {
   "cell_type": "markdown",
   "id": "c77a76bb",
   "metadata": {},
   "source": [
    "### Keywords"
   ]
  },
  {
   "cell_type": "code",
   "execution_count": 141,
   "id": "5d036f7e",
   "metadata": {
    "scrolled": true
   },
   "outputs": [
    {
     "data": {
      "text/plain": [
       "5      293\n",
       "0      276\n",
       "4      248\n",
       "3      228\n",
       "6      227\n",
       "2      207\n",
       "7      192\n",
       "1      187\n",
       "8      161\n",
       "9      134\n",
       "11     132\n",
       "10     125\n",
       "12     100\n",
       "13      85\n",
       "15      59\n",
       "14      59\n",
       "16      58\n",
       "17      45\n",
       "18      29\n",
       "20      24\n",
       "21      23\n",
       "19      22\n",
       "22      17\n",
       "23      15\n",
       "24      12\n",
       "27      12\n",
       "25       6\n",
       "26       5\n",
       "28       2\n",
       "30       2\n",
       "32       2\n",
       "29       2\n",
       "31       2\n",
       "37       2\n",
       "39       1\n",
       "97       1\n",
       "43       1\n",
       "40       1\n",
       "33       1\n",
       "38       1\n",
       "149      1\n",
       "Name: Keywords, dtype: int64"
      ]
     },
     "execution_count": 141,
     "metadata": {},
     "output_type": "execute_result"
    }
   ],
   "source": [
    "df_train['Keywords'].apply(lambda x: len(x) if x != {} else 0).value_counts()"
   ]
  },
  {
   "cell_type": "code",
   "execution_count": 142,
   "id": "4f6d4dd3",
   "metadata": {},
   "outputs": [
    {
     "name": "stdout",
     "output_type": "stream",
     "text": [
      "0 [{'id': 4379, 'name': 'time travel'}, {'id': 9663, 'name': 'sequel'}, {'id': 11830, 'name': 'hot tub'}, {'id': 179431, 'name': 'duringcreditsstinger'}]\n",
      "1 [{'id': 2505, 'name': 'coronation'}, {'id': 4263, 'name': 'duty'}, {'id': 6038, 'name': 'marriage'}, {'id': 13072, 'name': 'falling in love'}]\n",
      "2 [{'id': 1416, 'name': 'jazz'}, {'id': 1523, 'name': 'obsession'}, {'id': 1640, 'name': 'conservatory'}, {'id': 2176, 'name': 'music teacher'}, {'id': 14512, 'name': 'new york city'}, {'id': 14819, 'name': 'violence'}, {'id': 33896, 'name': 'montage'}, {'id': 156823, 'name': 'drummer'}, {'id': 170418, 'name': 'public humiliation'}, {'id': 176095, 'name': 'jazz band'}, {'id': 206298, 'name': 'young adult'}, {'id': 207739, 'name': 'music school'}]\n",
      "3 [{'id': 10092, 'name': 'mystery'}, {'id': 10540, 'name': 'bollywood'}, {'id': 11734, 'name': 'police corruption'}, {'id': 14536, 'name': 'crime'}, {'id': 14636, 'name': 'india'}, {'id': 208364, 'name': 'missing husband'}, {'id': 220935, 'name': 'nerve gas'}]\n",
      "4 {}\n"
     ]
    }
   ],
   "source": [
    "for i, e in enumerate(df_train['Keywords'][:5]):\n",
    "    print(i, e)"
   ]
  },
  {
   "cell_type": "code",
   "execution_count": 143,
   "id": "fdd072ec",
   "metadata": {},
   "outputs": [],
   "source": [
    "# 1) Extract the number of keywords and create new variable called `n_keywords'\n",
    "df_train['n_keywords'] = df_train['Keywords'].apply(lambda x: len(x) if x != {} else 0)\n",
    "df_test['n_keywords'] = df_test['Keywords'].apply(lambda x: len(x) if x != {} else 0)\n",
    "\n",
    "# 2) Convert the dtype as object\n",
    "df_train['n_keywords'] = df_train['n_keywords'].astype('O')\n",
    "df_test['n_keywords'] = df_test['n_keywords'].astype('O')\n",
    "\n",
    "# 3) Drop the original column production_countries\n",
    "df_train.drop('Keywords', axis=1, inplace=True)\n",
    "df_test.drop('Keywords', axis=1, inplace=True)"
   ]
  },
  {
   "cell_type": "code",
   "execution_count": 145,
   "id": "db59c4f1",
   "metadata": {},
   "outputs": [
    {
     "data": {
      "text/plain": [
       "<AxesSubplot:>"
      ]
     },
     "execution_count": 145,
     "metadata": {},
     "output_type": "execute_result"
    },
    {
     "data": {
      "image/png": "[encoded data removed]",
      "text/plain": [
       "<Figure size 720x504 with 1 Axes>"
      ]
     },
     "metadata": {
      "needs_background": "light"
     },
     "output_type": "display_data"
    }
   ],
   "source": [
    "df_train['n_keywords'].value_counts().sort_values(ascending=False).plot(kind='bar', figsize=(10, 7))"
   ]
  },
  {
   "cell_type": "markdown",
   "id": "56c89fa6",
   "metadata": {},
   "source": [
    "We can create num_keywords' range"
   ]
  },
  {
   "cell_type": "code",
   "execution_count": 156,
   "id": "a82c42e1",
   "metadata": {},
   "outputs": [],
   "source": [
    "# set up bins\n",
    "bins = [0, 5, 10, 15, 20, 150]\n",
    "\n",
    "# set up labels\n",
    "labels = ['<5', '<10', '<15', '<20', '>30']\n",
    "\n",
    "# create num_keyword column\n",
    "df_train['num_keywords'] = pd.cut(df_train['n_keywords'], bins=bins, labels=labels, include_lowest=True)\n",
    "df_test['num_keywords'] = pd.cut(df_test['n_keywords'], bins=bins, labels=labels, include_lowest=True)"
   ]
  },
  {
   "cell_type": "code",
   "execution_count": 158,
   "id": "67bc1939",
   "metadata": {},
   "outputs": [
    {
     "data": {
      "image/png": "[encoded data removed]",
      "text/plain": [
       "<Figure size 432x288 with 1 Axes>"
      ]
     },
     "metadata": {
      "needs_background": "light"
     },
     "output_type": "display_data"
    }
   ],
   "source": [
    "df_train['num_keywords'].value_counts().sort_values(ascending=False).plot(kind='bar');"
   ]
  },
  {
   "cell_type": "code",
   "execution_count": 159,
   "id": "3d3eaf1d",
   "metadata": {},
   "outputs": [
    {
     "data": {
      "image/png": "[encoded data removed]",
      "text/plain": [
       "<Figure size 432x288 with 1 Axes>"
      ]
     },
     "metadata": {
      "needs_background": "light"
     },
     "output_type": "display_data"
    }
   ],
   "source": [
    "df_test['num_keywords'].value_counts().sort_values(ascending=False).plot(kind='bar');"
   ]
  },
  {
   "cell_type": "code",
   "execution_count": 161,
   "id": "388016ae",
   "metadata": {},
   "outputs": [],
   "source": [
    "# drop n_keywords\n",
    "df_train.drop('n_keywords', axis=1, inplace=True)\n",
    "df_test.drop('n_keywords', axis=1, inplace=True)"
   ]
  },
  {
   "cell_type": "markdown",
   "id": "71edf9a1",
   "metadata": {},
   "source": [
    "### cast\n",
    "\n",
    "`cast` has names of actor or actress, genders, and character information. I would like to extract the number of casting people and the number of genders"
   ]
  },
  {
   "cell_type": "code",
   "execution_count": 168,
   "id": "fbe847ba",
   "metadata": {},
   "outputs": [
    {
     "data": {
      "text/plain": [
       "15    212\n",
       "16    165\n",
       "10    135\n",
       "13    129\n",
       "12    124\n",
       "11    122\n",
       "17    118\n",
       "9     118\n",
       "18    115\n",
       "14    110\n",
       "Name: cast, dtype: int64"
      ]
     },
     "execution_count": 168,
     "metadata": {},
     "output_type": "execute_result"
    }
   ],
   "source": [
    "# The number of casted people in movies\n",
    "df_train['cast'].apply(lambda x: len(x) if x != {} else 0).value_counts()[:10]"
   ]
  },
  {
   "cell_type": "code",
   "execution_count": 170,
   "id": "b2b33f62",
   "metadata": {},
   "outputs": [
    {
     "name": "stdout",
     "output_type": "stream",
     "text": [
      "0 {'cast_id': 4, 'character': 'Lou', 'credit_id': '52fe4ee7c3a36847f82afae7', 'gender': 2, 'id': 52997, 'name': 'Rob Corddry', 'order': 0, 'profile_path': '/k2zJL0V1nEZuFT08xUdOd3ucfXz.jpg'}\n",
      "1 {'cast_id': 5, 'character': 'Nick', 'credit_id': '52fe4ee7c3a36847f82afaeb', 'gender': 2, 'id': 64342, 'name': 'Craig Robinson', 'order': 1, 'profile_path': '/tVaRMkJXOEVhYxtnnFuhqW0Rjzz.jpg'}\n",
      "2 {'cast_id': 6, 'character': 'Jacob', 'credit_id': '52fe4ee7c3a36847f82afaef', 'gender': 2, 'id': 54729, 'name': 'Clark Duke', 'order': 2, 'profile_path': '/oNzK0umwm5Wn0wyEbOy6TVJCSBn.jpg'}\n",
      "3 {'cast_id': 7, 'character': 'Adam Jr.', 'credit_id': '52fe4ee7c3a36847f82afaf3', 'gender': 2, 'id': 36801, 'name': 'Adam Scott', 'order': 3, 'profile_path': '/5gb65xz8bzd42yjMAl4zwo4cvKw.jpg'}\n",
      "4 {'cast_id': 8, 'character': 'Hot Tub Repairman', 'credit_id': '52fe4ee7c3a36847f82afaf7', 'gender': 2, 'id': 54812, 'name': 'Chevy Chase', 'order': 4, 'profile_path': '/svjpyYtPwtjvRxX9IZnOmOkhDOt.jpg'}\n",
      "5 {'cast_id': 9, 'character': 'Jill', 'credit_id': '52fe4ee7c3a36847f82afafb', 'gender': 1, 'id': 94098, 'name': 'Gillian Jacobs', 'order': 5, 'profile_path': '/rBnhe5vhNPnhRUdtYahBWx90fJM.jpg'}\n",
      "6 {'cast_id': 10, 'character': 'Sophie', 'credit_id': '52fe4ee7c3a36847f82afaff', 'gender': 1, 'id': 1159009, 'name': 'Bianca Haase', 'order': 6, 'profile_path': '/4x3nbtD8q8phAJPmoGWXPvz0iM.jpg'}\n",
      "7 {'cast_id': 11, 'character': 'Kelly', 'credit_id': '5524ec51c3a3687df3000dbb', 'gender': 1, 'id': 86624, 'name': 'Collette Wolfe', 'order': 7, 'profile_path': '/aSD4h5379b2eEw3bLou9ByLimmq.jpg'}\n",
      "8 {'cast_id': 13, 'character': 'Brad', 'credit_id': '5524ec8ec3a3687ded000d72', 'gender': 2, 'id': 466505, 'name': 'Kumail Nanjiani', 'order': 9, 'profile_path': '/x4nAztHY72SVciRfxEsbhIVTsIu.jpg'}\n",
      "9 {'cast_id': 14, 'character': 'Courtney', 'credit_id': '5524ec9bc3a3687df8000d13', 'gender': 1, 'id': 70776, 'name': 'Kellee Stewart', 'order': 10, 'profile_path': '/w3xmsEPmJc1Cf0dQ4aIn8YmlHbk.jpg'}\n",
      "10 {'cast_id': 15, 'character': 'Terry', 'credit_id': '5524eca892514171cb008237', 'gender': 2, 'id': 347335, 'name': 'Josh Heald', 'order': 11, 'profile_path': '/pwXJIenrDMrG7t3zNfLvr8w1RGU.jpg'}\n",
      "11 {'cast_id': 16, 'character': 'Susan', 'credit_id': '5524ecb7925141720c001116', 'gender': 0, 'id': 1451392, 'name': 'Gretchen Koerner', 'order': 12, 'profile_path': '/muULPexCTJGyJba4yKzxronpD50.jpg'}\n",
      "12 {'cast_id': 17, 'character': 'Herself', 'credit_id': '5524ecc3c3a3687ded000d74', 'gender': 1, 'id': 98879, 'name': 'Lisa Loeb', 'order': 13, 'profile_path': '/bGqg58ca0bZR38z9HliUMmeNGE.jpg'}\n",
      "13 {'cast_id': 18, 'character': 'Herself', 'credit_id': '5524ecd3c3a3687e11000ed3', 'gender': 1, 'id': 1394648, 'name': 'Jessica Williams', 'order': 14, 'profile_path': '/A4syKjkcYB92wLEhH0c0hC3BCpz.jpg'}\n",
      "14 {'cast_id': 19, 'character': 'Himself', 'credit_id': '5524ece6925141718d001009', 'gender': 0, 'id': 1451393, 'name': 'Bruce Buffer', 'order': 15, 'profile_path': None}\n",
      "15 {'cast_id': 20, 'character': 'Shot Girl', 'credit_id': '5524ecf5c3a3687e08000dc2', 'gender': 0, 'id': 1451394, 'name': 'Mariana Paola Vicente', 'order': 16, 'profile_path': '/ckPllza8624UHWGHCbLShkLxCD1.jpg'}\n",
      "16 {'cast_id': 33, 'character': 'Choozy Doozy Host', 'credit_id': '555844da9251412afe0013a9', 'gender': 2, 'id': 2224, 'name': 'Christian Slater', 'order': 17, 'profile_path': '/3ElLWjnvchMS6Q4cIQOK8QNAoMG.jpg'}\n",
      "17 {'cast_id': 35, 'character': 'Gary Winkle', 'credit_id': '55872027c3a3683853005074', 'gender': 0, 'id': 185805, 'name': 'Jason Jones', 'order': 18, 'profile_path': '/aIoCw6vo8AGMdsQRAI5g2t0yJT3.jpg'}\n",
      "18 {'cast_id': 36, 'character': 'Bridesmaid', 'credit_id': '55efe971c3a368090c00cd1b', 'gender': 0, 'id': 1507448, 'name': 'Olivia Jordan', 'order': 19, 'profile_path': '/szMukAEiIDeasel0lvyaeyKuych.jpg'}\n",
      "19 {'cast_id': 37, 'character': 'Christine', 'credit_id': '55efe980c3a36871bf008176', 'gender': 1, 'id': 1334091, 'name': 'Christine Bently', 'order': 20, 'profile_path': '/oUZltnGa55OXE52hfyPTfCshuNy.jpg'}\n",
      "20 {'cast_id': 38, 'character': 'Excited Girl', 'credit_id': '55efe98e9251413e3201d316', 'gender': 0, 'id': 557803, 'name': 'Stacey Asaro', 'order': 21, 'profile_path': '/qTPdlr1dXf3kNdyHuDsgtGC0HCC.jpg'}\n",
      "21 {'cast_id': 64, 'character': 'Adam (uncredited)', 'credit_id': '58f2135ac3a3682e95008b91', 'gender': 2, 'id': 3036, 'name': 'John Cusack', 'order': 22, 'profile_path': '/uKydQYuZ9TnCzvbQLtj6j98vWAT.jpg'}\n",
      "22 {'cast_id': 65, 'character': 'J-Bird', 'credit_id': '59ac0240c3a3682cc802c399', 'gender': 2, 'id': 59256, 'name': 'Adam Herschman', 'order': 23, 'profile_path': '/wZMwiuX1DslF6hDS50z9OTN6z1X.jpg'}\n",
      "23 {'cast_id': 66, 'character': 'Bridesmaid', 'credit_id': '59ac02cd925141079d02b1b4', 'gender': 1, 'id': 129714, 'name': 'Kisha Sierra', 'order': 24, 'profile_path': None}\n"
     ]
    }
   ],
   "source": [
    "for i, e in enumerate(df_train['cast'][0]):\n",
    "    print(i, e)"
   ]
  },
  {
   "cell_type": "code",
   "execution_count": 171,
   "id": "56ec3c2b",
   "metadata": {},
   "outputs": [],
   "source": [
    "# the number of casted people\n",
    "df_train['num_cast'] = df_train['cast'].apply(lambda x: len(x) if x != {} else 0)\n",
    "df_test['num_cast'] = df_test['cast'].apply(lambda x: len(x) if x != {} else 0)"
   ]
  },
  {
   "cell_type": "markdown",
   "id": "faa38b7e",
   "metadata": {},
   "source": [
    "- `gender` information \n",
    "- 0: unspecified\n",
    "- 1: female\n",
    "- 2: male"
   ]
  },
  {
   "cell_type": "code",
   "execution_count": 179,
   "id": "c39f2a2f",
   "metadata": {},
   "outputs": [],
   "source": [
    "# the number of each gender \n",
    "df_train['num_g_unspecified'] = df_train['cast'].apply(lambda x: sum([1 for i in x if i['gender']==0]))\n",
    "df_train['num_g_female'] = df_train['cast'].apply(lambda x: sum([1 for i in x if i['gender']==1]))\n",
    "df_train['num_g_male'] = df_train['cast'].apply(lambda x: sum([1 for i in x if i['gender']==2]))\n",
    "\n",
    "df_test['num_g_unspecified'] = df_test['cast'].apply(lambda x: sum([1 for i in x if i['gender']==0]))\n",
    "df_test['num_g_female'] = df_test['cast'].apply(lambda x: sum([1 for i in x if i['gender']==1]))\n",
    "df_test['num_g_male'] = df_test['cast'].apply(lambda x: sum([1 for i in x if i['gender']==2]))"
   ]
  },
  {
   "cell_type": "code",
   "execution_count": 240,
   "id": "180daeb4",
   "metadata": {},
   "outputs": [
    {
     "name": "stdout",
     "output_type": "stream",
     "text": [
      "There are 2635 data which we do not know gender information\n",
      "(3000, 21)\n"
     ]
    }
   ],
   "source": [
    "print('There are {} data which we do not know gender information'.format(len(df_train[df_train['num_g_unspecified']!=0])))\n",
    "print(df_train.shape)"
   ]
  },
  {
   "cell_type": "markdown",
   "id": "0a25ce1f",
   "metadata": {},
   "source": [
    "2635 data out of 3000 do not provide gender information correctly, so I will remove all gender information from dataset. "
   ]
  },
  {
   "cell_type": "code",
   "execution_count": 181,
   "id": "21efc898",
   "metadata": {},
   "outputs": [],
   "source": [
    "# drop all gender information and original cast column\n",
    "df_train.drop(['num_g_unspecified', 'num_g_female', 'num_g_male', 'cast'], axis=1, inplace=True)\n",
    "df_test.drop(['num_g_unspecified', 'num_g_female', 'num_g_male', 'cast'], axis=1, inplace=True)"
   ]
  },
  {
   "cell_type": "markdown",
   "id": "a174ecec",
   "metadata": {},
   "source": [
    "### crew\n",
    "\n",
    "`crew` contains name, department, gender, job title. I would like to extract the number of crew members for the movies and the number of genders. "
   ]
  },
  {
   "cell_type": "code",
   "execution_count": 188,
   "id": "c745ada2",
   "metadata": {},
   "outputs": [
    {
     "name": "stdout",
     "output_type": "stream",
     "text": [
      "0 {'credit_id': '59ac067c92514107af02c8c8', 'department': 'Directing', 'gender': 0, 'id': 1449071, 'job': 'First Assistant Director', 'name': 'Kelly Cantley', 'profile_path': None}\n",
      "1 {'credit_id': '52fe4ee7c3a36847f82afad7', 'department': 'Directing', 'gender': 2, 'id': 3227, 'job': 'Director', 'name': 'Steve Pink', 'profile_path': '/myHOgo8mQSCiCAZNGMRdHVr03jr.jpg'}\n",
      "2 {'credit_id': '5524ed25c3a3687ded000d88', 'department': 'Writing', 'gender': 2, 'id': 347335, 'job': 'Writer', 'name': 'Josh Heald', 'profile_path': '/pwXJIenrDMrG7t3zNfLvr8w1RGU.jpg'}\n",
      "3 {'credit_id': '5524ed2d925141720c001128', 'department': 'Writing', 'gender': 2, 'id': 347335, 'job': 'Characters', 'name': 'Josh Heald', 'profile_path': '/pwXJIenrDMrG7t3zNfLvr8w1RGU.jpg'}\n",
      "4 {'credit_id': '5524ed3d92514166c1004a5d', 'department': 'Production', 'gender': 2, 'id': 57822, 'job': 'Producer', 'name': 'Andrew Panay', 'profile_path': None}\n",
      "5 {'credit_id': '5524ed4bc3a3687df3000dd2', 'department': 'Production', 'gender': 0, 'id': 1451395, 'job': 'Associate Producer', 'name': 'Adam Blum', 'profile_path': None}\n",
      "6 {'credit_id': '5524ed5a925141720c00112c', 'department': 'Production', 'gender': 2, 'id': 52997, 'job': 'Executive Producer', 'name': 'Rob Corddry', 'profile_path': '/k2zJL0V1nEZuFT08xUdOd3ucfXz.jpg'}\n",
      "7 {'credit_id': '5524ed85c3a3687e0e000f56', 'department': 'Production', 'gender': 0, 'id': 62807, 'job': 'Executive Producer', 'name': 'Ben Ormand', 'profile_path': None}\n",
      "8 {'credit_id': '5524ed9fc3a3687e0e000f59', 'department': 'Sound', 'gender': 2, 'id': 23486, 'job': 'Original Music Composer', 'name': 'Christophe Beck', 'profile_path': '/2fnJUmCk6IEpVIptpYaUk31epHx.jpg'}\n",
      "9 {'credit_id': '5524eda6c3a3687e03000d28', 'department': 'Camera', 'gender': 2, 'id': 6117, 'job': 'Director of Photography', 'name': 'Declan Quinn', 'profile_path': None}\n",
      "10 {'credit_id': '5524edb4925141720c00113d', 'department': 'Editing', 'gender': 0, 'id': 1451396, 'job': 'Editor', 'name': 'Jamie Gross', 'profile_path': None}\n",
      "11 {'credit_id': '5524edc1925141727600102e', 'department': 'Production', 'gender': 0, 'id': 22219, 'job': 'Casting', 'name': 'Susie Farris', 'profile_path': None}\n",
      "12 {'credit_id': '5524edd192514171cb008257', 'department': 'Art', 'gender': 0, 'id': 1002643, 'job': 'Production Design', 'name': 'Ryan Berg', 'profile_path': None}\n",
      "13 {'credit_id': '555ad9be9251411e5b00d485', 'department': 'Production', 'gender': 2, 'id': 57431, 'job': 'Executive Producer', 'name': 'Matt Moore', 'profile_path': None}\n",
      "14 {'credit_id': '5677e93bc3a36816890087dc', 'department': 'Directing', 'gender': 0, 'id': 1551818, 'job': 'Script Supervisor', 'name': 'Nicole Garcea', 'profile_path': None}\n",
      "15 {'credit_id': '5677e96a92514179e10093d0', 'department': 'Production', 'gender': 0, 'id': 1551819, 'job': 'Production Coordinator', 'name': 'Jason Salzman', 'profile_path': None}\n",
      "16 {'credit_id': '5677e98492514179d2008cd9', 'department': 'Costume & Make-Up', 'gender': 0, 'id': 1422996, 'job': 'Costume Design', 'name': 'Carol Cutshall', 'profile_path': None}\n",
      "17 {'credit_id': '5677e9d5c3a368168e009414', 'department': 'Art', 'gender': 2, 'id': 500199, 'job': 'Set Decoration', 'name': 'Tim Cohn', 'profile_path': None}\n",
      "18 {'credit_id': '5677f89d9251417845001a61', 'department': 'Costume & Make-Up', 'gender': 0, 'id': 1527917, 'job': 'Hair Department Head', 'name': 'Voni Hinkle', 'profile_path': None}\n",
      "19 {'credit_id': '5677f8b392514179dd0089fb', 'department': 'Costume & Make-Up', 'gender': 0, 'id': 1431554, 'job': 'Makeup Department Head', 'name': 'Remi Savva', 'profile_path': None}\n",
      "20 {'credit_id': '5677f8d1c3a3681689008a4b', 'department': 'Art', 'gender': 0, 'id': 66495, 'job': 'Art Direction', 'name': 'Jason Baldwin Stewart', 'profile_path': None}\n",
      "21 {'credit_id': '5677f8eec3a3681685008dd5', 'department': 'Production', 'gender': 0, 'id': 1412466, 'job': 'Production Supervisor', 'name': 'Korey Budd', 'profile_path': None}\n",
      "22 {'credit_id': '5677f90a9251417845001a7d', 'department': 'Sound', 'gender': 0, 'id': 1401562, 'job': 'Sound Re-Recording Mixer', 'name': 'Gary C. Bourgeois', 'profile_path': None}\n",
      "23 {'credit_id': '5677f91e9251417845001a84', 'department': 'Sound', 'gender': 0, 'id': 1396794, 'job': 'Sound Re-Recording Mixer', 'name': 'Gabriel J. Serrano', 'profile_path': None}\n",
      "24 {'credit_id': '5677f938c3a3681680008dd4', 'department': 'Editing', 'gender': 0, 'id': 13168, 'job': 'Dialogue Editor', 'name': 'Victoria Rose Sampson', 'profile_path': None}\n",
      "25 {'credit_id': '5677f94e92514179dd008a1f', 'department': 'Sound', 'gender': 0, 'id': 1551839, 'job': 'Production Sound Mixer', 'name': 'Michael B. Koff', 'profile_path': None}\n",
      "26 {'credit_id': '5677f968c3a368168e009698', 'department': 'Sound', 'gender': 0, 'id': 113052, 'job': 'Sound Effects Editor', 'name': 'Randall Guth', 'profile_path': None}\n",
      "27 {'credit_id': '5677f98dc3a3681685008e02', 'department': 'Crew', 'gender': 2, 'id': 1442535, 'job': 'Stunt Coordinator', 'name': 'Chuck Picerni Jr.', 'profile_path': '/yE5QtXUzcrnCzMRctZL8F5g842B.jpg'}\n",
      "28 {'credit_id': '5677f9a692514179dd008a49', 'department': 'Camera', 'gender': 0, 'id': 1437305, 'job': 'Camera Operator', 'name': 'Michael Applebaum', 'profile_path': None}\n",
      "29 {'credit_id': '5677f9bd9251417845001aae', 'department': 'Camera', 'gender': 0, 'id': 1401765, 'job': 'Still Photographer', 'name': 'Steve Dietl', 'profile_path': None}\n",
      "30 {'credit_id': '5677f9e592514179e7008bf7', 'department': 'Lighting', 'gender': 0, 'id': 1402721, 'job': 'Rigging Gaffer', 'name': 'Tarik Naim Alherimi', 'profile_path': None}\n",
      "31 {'credit_id': '5677f9f4c3a368167c0090ed', 'department': 'Lighting', 'gender': 0, 'id': 1402719, 'job': 'Gaffer', 'name': 'Paul Olinde', 'profile_path': None}\n",
      "32 {'credit_id': '5677fa21c3a368168e0096ca', 'department': 'Sound', 'gender': 0, 'id': 1551840, 'job': 'Music Supervisor', 'name': 'Steve Griffen', 'profile_path': None}\n",
      "33 {'credit_id': '5677fa31c3a3681680008e04', 'department': 'Sound', 'gender': 0, 'id': 1551841, 'job': 'Music Editor', 'name': 'Matt Fausak', 'profile_path': None}\n",
      "34 {'credit_id': '5677fa4392514179dd008a76', 'department': 'Sound', 'gender': 0, 'id': 1551840, 'job': 'Music Editor', 'name': 'Steve Griffen', 'profile_path': None}\n",
      "35 {'credit_id': '5677fa609251417845001acf', 'department': 'Costume & Make-Up', 'gender': 0, 'id': 1403416, 'job': 'Costume Supervisor', 'name': 'Shonta T. McCray', 'profile_path': None}\n",
      "36 {'credit_id': '5677fa8492514179d2008fb3', 'department': 'Camera', 'gender': 0, 'id': 1425831, 'job': 'Steadicam Operator', 'name': 'Mark Karavite', 'profile_path': None}\n",
      "37 {'credit_id': '5677fab2c3a3681689008ac3', 'department': 'Camera', 'gender': 0, 'id': 1551842, 'job': 'First Assistant Camera', 'name': 'Joe Waistell', 'profile_path': None}\n",
      "38 {'credit_id': '5677faecc3a368168e0096fe', 'department': 'Sound', 'gender': 0, 'id': 58362, 'job': 'Supervising Sound Editor', 'name': 'Michael Hilkene', 'profile_path': None}\n",
      "39 {'credit_id': '59ac0368c3a3682c0a02c484', 'department': 'Crew', 'gender': 0, 'id': 1881584, 'job': 'Additional Writing', 'name': 'John Karnay', 'profile_path': None}\n",
      "40 {'credit_id': '59ac0411c3a3682bf0028966', 'department': 'Costume & Make-Up', 'gender': 0, 'id': 1431552, 'job': 'Hairstylist', 'name': 'Daina Daigle', 'profile_path': None}\n",
      "41 {'credit_id': '59ac0504925141072302b8fb', 'department': 'Costume & Make-Up', 'gender': 0, 'id': 1712001, 'job': 'Makeup Artist', 'name': 'Allison Gordin', 'profile_path': None}\n",
      "42 {'credit_id': '59ac0570c3a3682bf0028aac', 'department': 'Costume & Make-Up', 'gender': 0, 'id': 578725, 'job': 'Makeup Artist', 'name': 'Darryl Lucas', 'profile_path': None}\n",
      "43 {'credit_id': '59ac05a4925141077e02c97e', 'department': 'Costume & Make-Up', 'gender': 0, 'id': 1463274, 'job': 'Makeup Artist', 'name': 'Annabelle MacNeal', 'profile_path': None}\n",
      "44 {'credit_id': '59ac05c6925141076502d106', 'department': 'Costume & Make-Up', 'gender': 0, 'id': 1881586, 'job': 'Makeup Artist', 'name': 'Marina Savva', 'profile_path': None}\n",
      "45 {'credit_id': '59ac0615c3a3682c480296aa', 'department': 'Costume & Make-Up', 'gender': 0, 'id': 1406267, 'job': 'Hairstylist', 'name': 'Carl G. Variste', 'profile_path': None}\n",
      "46 {'credit_id': '59ac06ba925141076502d1fa', 'department': 'Directing', 'gender': 0, 'id': 1798593, 'job': 'First Assistant Director', 'name': 'Josh King', 'profile_path': None}\n",
      "47 {'credit_id': '59ac06f1c3a3682c2202aca0', 'department': 'Art', 'gender': 0, 'id': 1415083, 'job': 'Greensman', 'name': 'Scott C. Bivona', 'profile_path': None}\n",
      "48 {'credit_id': '59ac072c925141076502d260', 'department': 'Art', 'gender': 0, 'id': 1881587, 'job': 'Title Designer', 'name': 'Eunha Choi', 'profile_path': None}\n",
      "49 {'credit_id': '59ac077c925141077e02cb62', 'department': 'Art', 'gender': 0, 'id': 1585302, 'job': 'Construction Coordinator', 'name': 'Daniel Coe', 'profile_path': None}\n",
      "50 {'credit_id': '59ac07e0925141078a02d842', 'department': 'Art', 'gender': 0, 'id': 1495523, 'job': 'Set Designer', 'name': 'Spencer Davison', 'profile_path': None}\n",
      "51 {'credit_id': '59ac0862925141072f02cf6f', 'department': 'Art', 'gender': 0, 'id': 1881589, 'job': 'Painter', 'name': 'Sonia L. Garcia', 'profile_path': None}\n",
      "52 {'credit_id': '59ac08e0c3a3682bf0028e51', 'department': 'Art', 'gender': 0, 'id': 1424896, 'job': 'Art Department Coordinator', 'name': 'Caleb Guillotte', 'profile_path': None}\n",
      "53 {'credit_id': '59ac0920c3a3682c2202af36', 'department': 'Art', 'gender': 0, 'id': 1393375, 'job': 'Leadman', 'name': \"Pat A. O'Connor\", 'profile_path': None}\n",
      "54 {'credit_id': '59ac095592514107af02cc39', 'department': 'Art', 'gender': 0, 'id': 1881592, 'job': 'Set Designer', 'name': 'Brendan Turrill', 'profile_path': None}\n",
      "55 {'credit_id': '59ac0989925141072302bdfa', 'department': 'Art', 'gender': 2, 'id': 76497, 'job': 'Property Master', 'name': 'Brook Yeaton', 'profile_path': None}\n",
      "56 {'credit_id': '59ac0a2cc3a3682c9c02add1', 'department': 'Sound', 'gender': 0, 'id': 1881596, 'job': 'Boom Operator', 'name': 'Matthew Armstrong', 'profile_path': None}\n",
      "57 {'credit_id': '59ac0aa8925141072f02d282', 'department': 'Visual Effects', 'gender': 2, 'id': 1558086, 'job': 'Special Effects Supervisor', 'name': 'Matt Kutcher', 'profile_path': None}\n",
      "58 {'credit_id': '59ac0b2ac3a3682c2202b192', 'department': 'Crew', 'gender': 2, 'id': 1558087, 'job': 'Special Effects Coordinator', 'name': 'Eric Roberts', 'profile_path': None}\n",
      "59 {'credit_id': '59ac0b7ac3a3682c2202b1fb', 'department': 'Visual Effects', 'gender': 0, 'id': 1392098, 'job': 'Visual Effects Supervisor', 'name': 'Rocco Passionino', 'profile_path': None}\n",
      "60 {'credit_id': '59ac0bbe925141077e02d0c4', 'department': 'Visual Effects', 'gender': 0, 'id': 1558716, 'job': 'Visual Effects Coordinator', 'name': 'Joseph Payo', 'profile_path': None}\n",
      "61 {'credit_id': '59ac0bf2c3a3682cc802cefa', 'department': 'Visual Effects', 'gender': 0, 'id': 1408784, 'job': 'Visual Effects Producer', 'name': 'Chris Roff', 'profile_path': None}\n",
      "62 {'credit_id': '59ac0c51c3a3682c48029d99', 'department': 'Lighting', 'gender': 0, 'id': 1881600, 'job': 'Best Boy Electric', 'name': 'Ulyan Atamanyuk', 'profile_path': None}\n",
      "63 {'credit_id': '59ac0cbac3a3682c0a02cff6', 'department': 'Camera', 'gender': 0, 'id': 1881602, 'job': 'Key Grip', 'name': 'Chris Ekstrom', 'profile_path': None}\n",
      "64 {'credit_id': '59ac0d54925141072f02d5e6', 'department': 'Lighting', 'gender': 0, 'id': 1484984, 'job': 'Best Boy Electric', 'name': 'Brad Garris', 'profile_path': None}\n",
      "65 {'credit_id': '59ac0db0925141078a02df86', 'department': 'Camera', 'gender': 0, 'id': 1881603, 'job': 'Dolly Grip', 'name': 'Kendell Joseph', 'profile_path': None}\n",
      "66 {'credit_id': '59ac0e5a925141077e02d39f', 'department': 'Camera', 'gender': 0, 'id': 1549179, 'job': 'Dolly Grip', 'name': 'Spencer Wilcox', 'profile_path': None}\n",
      "67 {'credit_id': '59ac0e9f925141079d02bee6', 'department': 'Costume & Make-Up', 'gender': 0, 'id': 1552626, 'job': 'Key Costumer', 'name': 'Sarah P. Koeppe', 'profile_path': None}\n",
      "68 {'credit_id': '59ac0ec1c3a3682bf0029524', 'department': 'Costume & Make-Up', 'gender': 0, 'id': 1881605, 'job': 'Seamstress', 'name': 'Catherine Rodi', 'profile_path': None}\n",
      "69 {'credit_id': '59ac0eef925141070702c7ff', 'department': 'Costume & Make-Up', 'gender': 0, 'id': 1463801, 'job': 'Seamstress', 'name': 'Giselle Spence', 'profile_path': None}\n",
      "70 {'credit_id': '59ac0f5dc3a3682c4802a0f5', 'department': 'Production', 'gender': 0, 'id': 1400837, 'job': 'Location Manager', 'name': 'John A. Johnston', 'profile_path': None}\n",
      "71 {'credit_id': '59ac0ff2c3a3682c4802a196', 'department': 'Crew', 'gender': 0, 'id': 1844322, 'job': 'Production Controller', 'name': 'Gail Marks', 'profile_path': None}\n"
     ]
    }
   ],
   "source": [
    "for i, e in enumerate(df_train['crew'][0]):\n",
    "    print(i, e)"
   ]
  },
  {
   "cell_type": "code",
   "execution_count": 187,
   "id": "b47987b6",
   "metadata": {},
   "outputs": [
    {
     "data": {
      "text/plain": [
       "2      179\n",
       "11     127\n",
       "3      126\n",
       "10     126\n",
       "12     110\n",
       "      ... \n",
       "154      1\n",
       "156      1\n",
       "172      1\n",
       "194      1\n",
       "183      1\n",
       "Name: crew, Length: 153, dtype: int64"
      ]
     },
     "execution_count": 187,
     "metadata": {},
     "output_type": "execute_result"
    }
   ],
   "source": [
    "df_train['crew'].apply(lambda x: len(x) if x!={} else 0).value_counts()"
   ]
  },
  {
   "cell_type": "markdown",
   "id": "501ef422",
   "metadata": {},
   "source": [
    "There are 16 of 0 value in `num_crew` and this should be missing value. "
   ]
  },
  {
   "cell_type": "code",
   "execution_count": 191,
   "id": "40614b09",
   "metadata": {},
   "outputs": [
    {
     "data": {
      "text/plain": [
       "(0, 194)"
      ]
     },
     "execution_count": 191,
     "metadata": {},
     "output_type": "execute_result"
    }
   ],
   "source": [
    "df_train['num_crew'].min(), df_train['num_crew'].max()"
   ]
  },
  {
   "cell_type": "code",
   "execution_count": 192,
   "id": "8537b145",
   "metadata": {
    "scrolled": true
   },
   "outputs": [
    {
     "data": {
      "text/plain": [
       "16"
      ]
     },
     "execution_count": 192,
     "metadata": {},
     "output_type": "execute_result"
    }
   ],
   "source": [
    "len(df_train[df_train['num_crew']==0])"
   ]
  },
  {
   "cell_type": "code",
   "execution_count": 233,
   "id": "299b5da8",
   "metadata": {},
   "outputs": [],
   "source": [
    "# 1) extract the number of crew people\n",
    "df_train['n_crew'] = df_train['crew'].apply(lambda x: len(x) if x != {} else 0)\n",
    "df_test['n_crew'] = df_test['crew'].apply(lambda x: len(x) if x != {} else 0)\n",
    "\n",
    "\n",
    "# 2) create num_crew range category which indicate small-size crew, medium size crew, large size crew\n",
    "bins = [0, 20, 80, 200]\n",
    "labels = ['small', 'medium', 'large']\n",
    "df_train['num_crew'] = pd.cut(df_train['n_crew'], bins=bins, labels=labels, include_lowest=False)\n",
    "df_test['num_crew'] = pd.cut(df_test['n_crew'], bins=bins, labels=labels, include_lowest=False)\n",
    "\n",
    "\n",
    "# 3) convert dtype to Object\n",
    "df_train['num_crew'] = df_train['num_crew'].astype('O')\n",
    "df_test['num_crew'] = df_test['num_crew'].astype('O')\n",
    "\n",
    "\n",
    "# 4) encode np.nan (originally 0 value) as 'missing'\n",
    "df_train['num_crew'].fillna('missing', inplace=True)\n",
    "df_test['num_crew'].fillna('missing', inplace=True)"
   ]
  },
  {
   "cell_type": "code",
   "execution_count": 222,
   "id": "9497a672",
   "metadata": {},
   "outputs": [
    {
     "data": {
      "image/png": "[encoded data removed]",
      "text/plain": [
       "<Figure size 1440x504 with 1 Axes>"
      ]
     },
     "metadata": {
      "needs_background": "light"
     },
     "output_type": "display_data"
    }
   ],
   "source": [
    "df_train['n_crew'].value_counts().plot(kind='bar', figsize=(20, 7))\n",
    "plt.title('The number of crew members before feature engineering', fontsize=15);"
   ]
  },
  {
   "cell_type": "code",
   "execution_count": 224,
   "id": "5dcaaaa4",
   "metadata": {},
   "outputs": [
    {
     "data": {
      "image/png": "[encoded data removed]",
      "text/plain": [
       "<Figure size 576x360 with 1 Axes>"
      ]
     },
     "metadata": {
      "needs_background": "light"
     },
     "output_type": "display_data"
    }
   ],
   "source": [
    "df_train['num_crew'].value_counts().plot(kind='bar', figsize=(8, 5))\n",
    "plt.title('The number of crew members after feature engineering', fontsize=15);"
   ]
  },
  {
   "cell_type": "code",
   "execution_count": 225,
   "id": "de3e7aed",
   "metadata": {},
   "outputs": [],
   "source": [
    "# extract gender information from crew\n",
    "df_train['num_g_unspecified_crew'] = df_train['crew'].apply(lambda x: sum([1 for i in x if i['gender']==0]))\n",
    "df_train['num_g_female_crew'] = df_train['crew'].apply(lambda x: sum([1 for i in x if i['gender']==1]))\n",
    "df_train['num_g_male_crew'] = df_train['crew'].apply(lambda x: sum([1 for i in x if i['gender']==2]))\n",
    "\n",
    "df_test['num_g_unspecified_crew'] = df_test['crew'].apply(lambda x: sum([1 for i in x if i['gender']==0]))\n",
    "df_test['num_g_female_crew'] = df_test['crew'].apply(lambda x: sum([1 for i in x if i['gender']==1]))\n",
    "df_test['num_g_male_crew'] = df_test['crew'].apply(lambda x: sum([1 for i in x if i['gender']==2]))"
   ]
  },
  {
   "cell_type": "code",
   "execution_count": 229,
   "id": "1ada4803",
   "metadata": {},
   "outputs": [
    {
     "data": {
      "text/plain": [
       "2671"
      ]
     },
     "execution_count": 229,
     "metadata": {},
     "output_type": "execute_result"
    }
   ],
   "source": [
    "len(df_train[df_train['num_g_unspecified_crew']!=0])"
   ]
  },
  {
   "cell_type": "code",
   "execution_count": 230,
   "id": "7a3268c3",
   "metadata": {},
   "outputs": [
    {
     "data": {
      "text/plain": [
       "(3000, 26)"
      ]
     },
     "execution_count": 230,
     "metadata": {},
     "output_type": "execute_result"
    }
   ],
   "source": [
    "df_train.shape"
   ]
  },
  {
   "cell_type": "markdown",
   "id": "54dd5ad1",
   "metadata": {},
   "source": [
    "I found that there are a lot of unspecified gender information for crew members, 2,671 out of 3000, so I think the gender information of crew members are not useful. I will remove all from the dataset. "
   ]
  },
  {
   "cell_type": "code",
   "execution_count": 231,
   "id": "125f2ef6",
   "metadata": {},
   "outputs": [],
   "source": [
    "# drop gender information for crew members and original crew column\n",
    "df_train.drop(['crew', 'num_g_unspecified_crew', 'num_g_female_crew', 'num_g_male_crew', 'n_crew'], \n",
    "              axis=1, inplace=True)\n",
    "df_test.drop(['crew', 'num_g_unspecified_crew', 'num_g_female_crew', 'num_g_male_crew', 'n_crew'], \n",
    "              axis=1, inplace=True)"
   ]
  },
  {
   "cell_type": "markdown",
   "id": "13c9694b",
   "metadata": {},
   "source": [
    "### release_date"
   ]
  },
  {
   "cell_type": "markdown",
   "id": "0ce05543",
   "metadata": {},
   "source": [
    "`release_date` has month-date-year format. I would like to extract `year` and `month` information from it. "
   ]
  },
  {
   "cell_type": "code",
   "execution_count": 257,
   "id": "3b5ccee3",
   "metadata": {},
   "outputs": [],
   "source": [
    "# 1) convert dtype of release_date as datetime64\n",
    "df_train['release_date'] = df_train['release_date'].astype('datetime64')\n",
    "df_test['release_date'] = df_test['release_date'].astype('datetime64')\n",
    "\n",
    "\n",
    "# 2) Extract year and month information \n",
    "df_train['release_year'] = df_train['release_date'].dt.year\n",
    "df_train['release_month'] = df_train['release_date'].dt.month\n",
    "\n",
    "df_test['release_year'] = df_test['release_date'].dt.year\n",
    "df_test['release_month'] = df_test['release_date'].dt.month"
   ]
  },
  {
   "cell_type": "code",
   "execution_count": 259,
   "id": "bf81e2cd",
   "metadata": {},
   "outputs": [],
   "source": [
    "# 3) drop release_date\n",
    "df_train.drop('release_date', axis=1, inplace=True)\n",
    "df_test.drop('release_date', axis=1, inplace=True)"
   ]
  },
  {
   "cell_type": "markdown",
   "id": "03fe9dd9",
   "metadata": {},
   "source": [
    "### runtime"
   ]
  },
  {
   "cell_type": "code",
   "execution_count": 269,
   "id": "78e40dd3",
   "metadata": {
    "scrolled": true
   },
   "outputs": [
    {
     "data": {
      "text/plain": [
       "['runtime']"
      ]
     },
     "execution_count": 269,
     "metadata": {},
     "output_type": "execute_result"
    }
   ],
   "source": [
    "# check if there is misisng values\n",
    "[var for var in df_train.columns if df_train[var].isnull().mean()>0]"
   ]
  },
  {
   "cell_type": "code",
   "execution_count": 270,
   "id": "34ca079b",
   "metadata": {
    "scrolled": true
   },
   "outputs": [
    {
     "data": {
      "text/plain": [
       "['runtime', 'status', 'release_year', 'release_month']"
      ]
     },
     "execution_count": 270,
     "metadata": {},
     "output_type": "execute_result"
    }
   ],
   "source": [
    "[var for var in df_test.columns if df_test[var].isnull().mean()>0]"
   ]
  },
  {
   "cell_type": "markdown",
   "id": "e5f41ba0",
   "metadata": {},
   "source": [
    "Both training and test data have missing values in `runtime`"
   ]
  },
  {
   "cell_type": "code",
   "execution_count": 271,
   "id": "4b60052c",
   "metadata": {
    "scrolled": true
   },
   "outputs": [
    {
     "data": {
      "text/plain": [
       "0.0006666666666666666"
      ]
     },
     "execution_count": 271,
     "metadata": {},
     "output_type": "execute_result"
    }
   ],
   "source": [
    "df_train['runtime'].isnull().mean()"
   ]
  },
  {
   "cell_type": "code",
   "execution_count": 272,
   "id": "32ec981a",
   "metadata": {
    "scrolled": false
   },
   "outputs": [
    {
     "data": {
      "text/plain": [
       "0.0009095043201455207"
      ]
     },
     "execution_count": 272,
     "metadata": {},
     "output_type": "execute_result"
    }
   ],
   "source": [
    "df_test['runtime'].isnull().mean()"
   ]
  },
  {
   "cell_type": "markdown",
   "id": "7a507bda",
   "metadata": {},
   "source": [
    "Also, there are 12 data that have 0 value in runtime. This does not make sense, and they can be missing values. "
   ]
  },
  {
   "cell_type": "code",
   "execution_count": 274,
   "id": "01bf99e4",
   "metadata": {
    "scrolled": true
   },
   "outputs": [
    {
     "data": {
      "text/plain": [
       "12"
      ]
     },
     "execution_count": 274,
     "metadata": {},
     "output_type": "execute_result"
    }
   ],
   "source": [
    "len(df_train[df_train['runtime']==0])"
   ]
  },
  {
   "cell_type": "code",
   "execution_count": 275,
   "id": "c29810aa",
   "metadata": {},
   "outputs": [
    {
     "data": {
      "text/plain": [
       "9"
      ]
     },
     "execution_count": 275,
     "metadata": {},
     "output_type": "execute_result"
    }
   ],
   "source": [
    "len(df_test[df_test['runtime']==0])"
   ]
  },
  {
   "cell_type": "markdown",
   "id": "c5b1b38b",
   "metadata": {},
   "source": [
    "I will encode 0 values in runtime as NaN"
   ]
  },
  {
   "cell_type": "code",
   "execution_count": 289,
   "id": "3d2f1a9b",
   "metadata": {},
   "outputs": [],
   "source": [
    "df_train['runtime'] = df_train['runtime'].replace(0, np.nan)\n",
    "df_test['runtime'] = df_test['runtime'].replace(0, np.nan)"
   ]
  },
  {
   "cell_type": "code",
   "execution_count": 290,
   "id": "24bfc5c9",
   "metadata": {},
   "outputs": [
    {
     "name": "stdout",
     "output_type": "stream",
     "text": [
      "0.004666666666666667\n",
      "0.0029558890404729424\n"
     ]
    }
   ],
   "source": [
    "# check the proportion of misisng value\n",
    "print(df_train['runtime'].isnull().mean())\n",
    "print(df_test['runtime'].isnull().mean())"
   ]
  },
  {
   "cell_type": "code",
   "execution_count": 287,
   "id": "03e8cbdd",
   "metadata": {},
   "outputs": [
    {
     "data": {
      "text/plain": [
       "0.004666666666666667"
      ]
     },
     "execution_count": 287,
     "metadata": {},
     "output_type": "execute_result"
    }
   ],
   "source": [
    "copy['runtime'].isnull().mean()"
   ]
  },
  {
   "cell_type": "code",
   "execution_count": 292,
   "id": "cc6506c7",
   "metadata": {},
   "outputs": [
    {
     "data": {
      "image/png": "[encoded data removed]",
      "text/plain": [
       "<Figure size 432x288 with 1 Axes>"
      ]
     },
     "metadata": {
      "needs_background": "light"
     },
     "output_type": "display_data"
    }
   ],
   "source": [
    "# runtime distribution \n",
    "df_train['runtime'].hist(bins=50)\n",
    "plt.title('runtime distribution', fontsize=12);"
   ]
  },
  {
   "cell_type": "code",
   "execution_count": 293,
   "id": "23361c1a",
   "metadata": {
    "scrolled": true
   },
   "outputs": [
    {
     "data": {
      "image/png": "[encoded data removed]",
      "text/plain": [
       "<Figure size 432x288 with 1 Axes>"
      ]
     },
     "metadata": {
      "needs_background": "light"
     },
     "output_type": "display_data"
    }
   ],
   "source": [
    "df_test['runtime'].hist(bins=50)\n",
    "plt.title('runtime distribution in test', fontsize=12);"
   ]
  },
  {
   "cell_type": "markdown",
   "id": "ab180f92",
   "metadata": {},
   "source": [
    "Both training and test's runtime show normal distribution with outliers. "
   ]
  },
  {
   "cell_type": "markdown",
   "id": "4f75aa7a",
   "metadata": {},
   "source": [
    "### budget"
   ]
  },
  {
   "cell_type": "markdown",
   "id": "75403709",
   "metadata": {},
   "source": [
    "`budget` in training and test set do not have missing values. However, I found there are some 0 values "
   ]
  },
  {
   "cell_type": "code",
   "execution_count": 295,
   "id": "80eef0f3",
   "metadata": {},
   "outputs": [
    {
     "name": "stdout",
     "output_type": "stream",
     "text": [
      "0.0\n",
      "0.0\n"
     ]
    }
   ],
   "source": [
    "print(df_train['budget'].isnull().mean())\n",
    "print(df_test['budget'].isnull().mean())"
   ]
  },
  {
   "cell_type": "code",
   "execution_count": 297,
   "id": "532482f3",
   "metadata": {},
   "outputs": [
    {
     "data": {
      "text/plain": [
       "812"
      ]
     },
     "execution_count": 297,
     "metadata": {},
     "output_type": "execute_result"
    }
   ],
   "source": [
    "len(df_train[df_train['budget']==0])"
   ]
  },
  {
   "cell_type": "code",
   "execution_count": 298,
   "id": "2e276734",
   "metadata": {},
   "outputs": [
    {
     "data": {
      "text/plain": [
       "1211"
      ]
     },
     "execution_count": 298,
     "metadata": {},
     "output_type": "execute_result"
    }
   ],
   "source": [
    "len(df_test[df_test['budget']==0])"
   ]
  },
  {
   "cell_type": "markdown",
   "id": "cfafe02c",
   "metadata": {},
   "source": [
    "That doesn't make sense, so I consider 0 budget as missing values"
   ]
  },
  {
   "cell_type": "code",
   "execution_count": 299,
   "id": "21ca5d0a",
   "metadata": {},
   "outputs": [],
   "source": [
    "# encode 0 value as NaN\n",
    "df_train['budget'] = df_train['budget'].replace(0, np.nan)\n",
    "df_test['budget'] = df_test['budget'].replace(0, np.nan)"
   ]
  },
  {
   "cell_type": "code",
   "execution_count": 300,
   "id": "aab2e11a",
   "metadata": {},
   "outputs": [
    {
     "data": {
      "image/png": "[encoded data removed]",
      "text/plain": [
       "<Figure size 432x288 with 1 Axes>"
      ]
     },
     "metadata": {
      "needs_background": "light"
     },
     "output_type": "display_data"
    }
   ],
   "source": [
    "# budget distribution \n",
    "df_train['budget'].hist(bins=50)\n",
    "plt.title('budget distribution', fontsize=12);"
   ]
  },
  {
   "cell_type": "code",
   "execution_count": 301,
   "id": "fe766385",
   "metadata": {},
   "outputs": [
    {
     "data": {
      "image/png": "[encoded data removed]",
      "text/plain": [
       "<Figure size 432x288 with 1 Axes>"
      ]
     },
     "metadata": {
      "needs_background": "light"
     },
     "output_type": "display_data"
    }
   ],
   "source": [
    "# budget distribution \n",
    "df_test['budget'].hist(bins=50)\n",
    "plt.title('budget distribution in test set', fontsize=12);"
   ]
  },
  {
   "cell_type": "markdown",
   "id": "c1a09354",
   "metadata": {},
   "source": [
    "Both budget in training and test set show right skewed distribution. "
   ]
  },
  {
   "cell_type": "markdown",
   "id": "5accacbd",
   "metadata": {},
   "source": [
    "### popularity"
   ]
  },
  {
   "cell_type": "code",
   "execution_count": 306,
   "id": "5d092405",
   "metadata": {},
   "outputs": [
    {
     "data": {
      "image/png": "[encoded data removed]",
      "text/plain": [
       "<Figure size 432x288 with 1 Axes>"
      ]
     },
     "metadata": {
      "needs_background": "light"
     },
     "output_type": "display_data"
    }
   ],
   "source": [
    "# distribution of popularity in training set\n",
    "df_train['popularity'].hist(bins=50)\n",
    "plt.title('Distribution of popularity', fontsize=12);"
   ]
  },
  {
   "cell_type": "code",
   "execution_count": 307,
   "id": "d62c5431",
   "metadata": {},
   "outputs": [
    {
     "data": {
      "image/png": "[encoded data removed]",
      "text/plain": [
       "<Figure size 432x288 with 1 Axes>"
      ]
     },
     "metadata": {
      "needs_background": "light"
     },
     "output_type": "display_data"
    }
   ],
   "source": [
    "df_test['popularity'].hist(bins=50)\n",
    "plt.title('Distribution of popularity in test set', fontsize=12);"
   ]
  },
  {
   "cell_type": "markdown",
   "id": "55780f23",
   "metadata": {},
   "source": [
    "Both popularity in training and test have right skewed distribution. The range of popularity in test set is larger than training set. "
   ]
  },
  {
   "cell_type": "code",
   "execution_count": 310,
   "id": "7ec6a2c5",
   "metadata": {},
   "outputs": [
    {
     "data": {
      "text/plain": [
       "count    3000.000000\n",
       "mean        8.463274\n",
       "std        12.104000\n",
       "min         0.000001\n",
       "25%         4.018053\n",
       "50%         7.374861\n",
       "75%        10.890983\n",
       "max       294.337037\n",
       "Name: popularity, dtype: float64"
      ]
     },
     "execution_count": 310,
     "metadata": {},
     "output_type": "execute_result"
    }
   ],
   "source": [
    "df_train['popularity'].describe()"
   ]
  },
  {
   "cell_type": "code",
   "execution_count": 311,
   "id": "2734c13c",
   "metadata": {},
   "outputs": [
    {
     "data": {
      "text/plain": [
       "count    4398.000000\n",
       "mean        8.550230\n",
       "std        12.209014\n",
       "min         0.000001\n",
       "25%         3.895186\n",
       "50%         7.482242\n",
       "75%        10.938524\n",
       "max       547.488298\n",
       "Name: popularity, dtype: float64"
      ]
     },
     "execution_count": 311,
     "metadata": {},
     "output_type": "execute_result"
    }
   ],
   "source": [
    "df_test['popularity'].describe()"
   ]
  },
  {
   "cell_type": "markdown",
   "id": "2847677b",
   "metadata": {},
   "source": [
    "### status"
   ]
  },
  {
   "cell_type": "markdown",
   "id": "9bc020de",
   "metadata": {},
   "source": [
    "As we can see below, training set has 2 different values, Released and Rumored, but it has negligible amount of Rumored (only 0.1%). In test set, there 3 different values, Released, Rumored, and Post Production. This can be a problem when building machine learning models because the model only learns from training set, not testing set, so it won't be able to know how to handle with unseen value (Post Production). \n",
    "\n",
    "Furthermore, the values of Released are the majority values in both training and test dataset, so I would like to remove this variable. "
   ]
  },
  {
   "cell_type": "code",
   "execution_count": 244,
   "id": "a88b51a1",
   "metadata": {},
   "outputs": [
    {
     "data": {
      "text/plain": [
       "Released    2996\n",
       "Rumored        4\n",
       "Name: status, dtype: int64"
      ]
     },
     "execution_count": 244,
     "metadata": {},
     "output_type": "execute_result"
    }
   ],
   "source": [
    "df_train['status'].value_counts()"
   ]
  },
  {
   "cell_type": "code",
   "execution_count": 312,
   "id": "55621b5b",
   "metadata": {},
   "outputs": [
    {
     "data": {
      "text/plain": [
       "Released    0.998667\n",
       "Rumored     0.001333\n",
       "Name: status, dtype: float64"
      ]
     },
     "execution_count": 312,
     "metadata": {},
     "output_type": "execute_result"
    }
   ],
   "source": [
    "df_train['status'].value_counts() / len(df_train)"
   ]
  },
  {
   "cell_type": "code",
   "execution_count": 245,
   "id": "9450043c",
   "metadata": {},
   "outputs": [
    {
     "data": {
      "text/plain": [
       "Released           4389\n",
       "Post Production       5\n",
       "Rumored               2\n",
       "Name: status, dtype: int64"
      ]
     },
     "execution_count": 245,
     "metadata": {},
     "output_type": "execute_result"
    }
   ],
   "source": [
    "df_test['status'].value_counts()"
   ]
  },
  {
   "cell_type": "code",
   "execution_count": 313,
   "id": "cd675036",
   "metadata": {},
   "outputs": [
    {
     "data": {
      "text/plain": [
       "Released           0.997954\n",
       "Post Production    0.001137\n",
       "Rumored            0.000455\n",
       "Name: status, dtype: float64"
      ]
     },
     "execution_count": 313,
     "metadata": {},
     "output_type": "execute_result"
    }
   ],
   "source": [
    "df_test['status'].value_counts() / len(df_test)"
   ]
  },
  {
   "cell_type": "code",
   "execution_count": 314,
   "id": "60ad7d5e",
   "metadata": {},
   "outputs": [],
   "source": [
    "# drop status variable\n",
    "df_train.drop('status', axis=1, inplace=True)\n",
    "df_test.drop('status', axis=1, inplace=True)"
   ]
  },
  {
   "cell_type": "markdown",
   "id": "769a5400",
   "metadata": {},
   "source": [
    "### target variable - revenue"
   ]
  },
  {
   "cell_type": "code",
   "execution_count": 316,
   "id": "5f3dce5c",
   "metadata": {},
   "outputs": [
    {
     "data": {
      "image/png": "[encoded data removed]",
      "text/plain": [
       "<Figure size 432x288 with 1 Axes>"
      ]
     },
     "metadata": {
      "needs_background": "light"
     },
     "output_type": "display_data"
    }
   ],
   "source": [
    "df_train['revenue'].hist(bins=50)\n",
    "plt.title('Distribution of target variable (revenue)', fontsize=12);"
   ]
  },
  {
   "cell_type": "markdown",
   "id": "66964550",
   "metadata": {},
   "source": [
    "We found the target variable has right-skewed distribution. "
   ]
  },
  {
   "cell_type": "code",
   "execution_count": 322,
   "id": "7d4ccdbf",
   "metadata": {},
   "outputs": [
    {
     "data": {
      "image/png": "[encoded data removed]",
      "text/plain": [
       "<Figure size 432x288 with 1 Axes>"
      ]
     },
     "metadata": {
      "needs_background": "light"
     },
     "output_type": "display_data"
    }
   ],
   "source": [
    "np.log(df_train['revenue']).hist(bins=50)\n",
    "plt.title('Log Transformation of target variable', fontsize=12);"
   ]
  },
  {
   "cell_type": "code",
   "execution_count": 318,
   "id": "d88e213c",
   "metadata": {},
   "outputs": [
    {
     "data": {
      "text/plain": [
       "count          3000.000000\n",
       "mean       66725851.888667\n",
       "std       137532326.336018\n",
       "min               1.000000\n",
       "25%         2379808.250000\n",
       "50%        16807068.000000\n",
       "75%        68919203.500000\n",
       "max      1519557910.000000\n",
       "Name: revenue, dtype: object"
      ]
     },
     "execution_count": 318,
     "metadata": {},
     "output_type": "execute_result"
    }
   ],
   "source": [
    "df_train['revenue'].describe().apply(lambda x: format(x, 'f'))"
   ]
  },
  {
   "cell_type": "markdown",
   "id": "b523c872",
   "metadata": {},
   "source": [
    "## Base Model"
   ]
  },
  {
   "cell_type": "code",
   "execution_count": null,
   "id": "18dd5e17",
   "metadata": {},
   "outputs": [],
   "source": [
    "from sklearn."
   ]
  },
  {
   "cell_type": "code",
   "execution_count": 319,
   "id": "9786a076",
   "metadata": {},
   "outputs": [
    {
     "data": {
      "text/html": [
       "<div>\n",
       "<style scoped>\n",
       "    .dataframe tbody tr th:only-of-type {\n",
       "        vertical-align: middle;\n",
       "    }\n",
       "\n",
       "    .dataframe tbody tr th {\n",
       "        vertical-align: top;\n",
       "    }\n",
       "\n",
       "    .dataframe thead th {\n",
       "        text-align: right;\n",
       "    }\n",
       "</style>\n",
       "<table border=\"1\" class=\"dataframe\">\n",
       "  <thead>\n",
       "    <tr style=\"text-align: right;\">\n",
       "      <th></th>\n",
       "      <th>id</th>\n",
       "      <th>budget</th>\n",
       "      <th>imdb_id</th>\n",
       "      <th>popularity</th>\n",
       "      <th>runtime</th>\n",
       "      <th>revenue</th>\n",
       "      <th>is_collection</th>\n",
       "      <th>num_genres</th>\n",
       "      <th>is_homepage</th>\n",
       "      <th>is_English</th>\n",
       "      <th>num_pro_comps</th>\n",
       "      <th>num_pro_count</th>\n",
       "      <th>num_spoken_lang</th>\n",
       "      <th>num_keywords</th>\n",
       "      <th>num_cast</th>\n",
       "      <th>num_crew</th>\n",
       "      <th>release_year</th>\n",
       "      <th>release_month</th>\n",
       "    </tr>\n",
       "  </thead>\n",
       "  <tbody>\n",
       "    <tr>\n",
       "      <th>334</th>\n",
       "      <td>335</td>\n",
       "      <td>1.0</td>\n",
       "      <td>tt0376144</td>\n",
       "      <td>0.438490</td>\n",
       "      <td>140.0</td>\n",
       "      <td>3</td>\n",
       "      <td>0</td>\n",
       "      <td>2</td>\n",
       "      <td>0</td>\n",
       "      <td>0</td>\n",
       "      <td>missing</td>\n",
       "      <td>1</td>\n",
       "      <td>1</td>\n",
       "      <td>&lt;5</td>\n",
       "      <td>10</td>\n",
       "      <td>small</td>\n",
       "      <td>2003</td>\n",
       "      <td>5</td>\n",
       "    </tr>\n",
       "    <tr>\n",
       "      <th>347</th>\n",
       "      <td>348</td>\n",
       "      <td>12.0</td>\n",
       "      <td>tt0118172</td>\n",
       "      <td>1.410322</td>\n",
       "      <td>84.0</td>\n",
       "      <td>1</td>\n",
       "      <td>0</td>\n",
       "      <td>5</td>\n",
       "      <td>0</td>\n",
       "      <td>1</td>\n",
       "      <td>1</td>\n",
       "      <td>1</td>\n",
       "      <td>3</td>\n",
       "      <td>&lt;5</td>\n",
       "      <td>24</td>\n",
       "      <td>small</td>\n",
       "      <td>1996</td>\n",
       "      <td>10</td>\n",
       "    </tr>\n",
       "    <tr>\n",
       "      <th>639</th>\n",
       "      <td>640</td>\n",
       "      <td>6.0</td>\n",
       "      <td>tt0183659</td>\n",
       "      <td>11.179864</td>\n",
       "      <td>122.0</td>\n",
       "      <td>8</td>\n",
       "      <td>0</td>\n",
       "      <td>2</td>\n",
       "      <td>0</td>\n",
       "      <td>1</td>\n",
       "      <td>2</td>\n",
       "      <td>1</td>\n",
       "      <td>1</td>\n",
       "      <td>&lt;10</td>\n",
       "      <td>51</td>\n",
       "      <td>medium</td>\n",
       "      <td>2000</td>\n",
       "      <td>9</td>\n",
       "    </tr>\n",
       "    <tr>\n",
       "      <th>695</th>\n",
       "      <td>696</td>\n",
       "      <td>1.0</td>\n",
       "      <td>tt0374271</td>\n",
       "      <td>1.280455</td>\n",
       "      <td>132.0</td>\n",
       "      <td>2</td>\n",
       "      <td>0</td>\n",
       "      <td>2</td>\n",
       "      <td>0</td>\n",
       "      <td>0</td>\n",
       "      <td>1</td>\n",
       "      <td>1</td>\n",
       "      <td>1</td>\n",
       "      <td>&lt;5</td>\n",
       "      <td>6</td>\n",
       "      <td>small</td>\n",
       "      <td>2003</td>\n",
       "      <td>8</td>\n",
       "    </tr>\n",
       "    <tr>\n",
       "      <th>1190</th>\n",
       "      <td>1191</td>\n",
       "      <td>NaN</td>\n",
       "      <td>tt0089984</td>\n",
       "      <td>2.087446</td>\n",
       "      <td>100.0</td>\n",
       "      <td>7</td>\n",
       "      <td>0</td>\n",
       "      <td>2</td>\n",
       "      <td>0</td>\n",
       "      <td>1</td>\n",
       "      <td>2</td>\n",
       "      <td>1</td>\n",
       "      <td>3</td>\n",
       "      <td>&lt;10</td>\n",
       "      <td>7</td>\n",
       "      <td>small</td>\n",
       "      <td>1985</td>\n",
       "      <td>1</td>\n",
       "    </tr>\n",
       "    <tr>\n",
       "      <th>1346</th>\n",
       "      <td>1347</td>\n",
       "      <td>1.0</td>\n",
       "      <td>tt0048028</td>\n",
       "      <td>6.428830</td>\n",
       "      <td>115.0</td>\n",
       "      <td>5</td>\n",
       "      <td>0</td>\n",
       "      <td>1</td>\n",
       "      <td>0</td>\n",
       "      <td>1</td>\n",
       "      <td>1</td>\n",
       "      <td>1</td>\n",
       "      <td>1</td>\n",
       "      <td>&lt;10</td>\n",
       "      <td>63</td>\n",
       "      <td>medium</td>\n",
       "      <td>2055</td>\n",
       "      <td>3</td>\n",
       "    </tr>\n",
       "    <tr>\n",
       "      <th>1541</th>\n",
       "      <td>1542</td>\n",
       "      <td>750000.0</td>\n",
       "      <td>tt3805180</td>\n",
       "      <td>0.201582</td>\n",
       "      <td>NaN</td>\n",
       "      <td>3</td>\n",
       "      <td>0</td>\n",
       "      <td>2</td>\n",
       "      <td>0</td>\n",
       "      <td>0</td>\n",
       "      <td>2</td>\n",
       "      <td>1</td>\n",
       "      <td>1</td>\n",
       "      <td>&lt;5</td>\n",
       "      <td>10</td>\n",
       "      <td>small</td>\n",
       "      <td>2014</td>\n",
       "      <td>6</td>\n",
       "    </tr>\n",
       "    <tr>\n",
       "      <th>1754</th>\n",
       "      <td>1755</td>\n",
       "      <td>2.0</td>\n",
       "      <td>tt0110604</td>\n",
       "      <td>2.466066</td>\n",
       "      <td>95.0</td>\n",
       "      <td>1</td>\n",
       "      <td>0</td>\n",
       "      <td>2</td>\n",
       "      <td>0</td>\n",
       "      <td>1</td>\n",
       "      <td>3</td>\n",
       "      <td>4</td>\n",
       "      <td>2</td>\n",
       "      <td>&lt;5</td>\n",
       "      <td>13</td>\n",
       "      <td>small</td>\n",
       "      <td>1995</td>\n",
       "      <td>9</td>\n",
       "    </tr>\n",
       "    <tr>\n",
       "      <th>1874</th>\n",
       "      <td>1875</td>\n",
       "      <td>NaN</td>\n",
       "      <td>tt1133617</td>\n",
       "      <td>0.229233</td>\n",
       "      <td>NaN</td>\n",
       "      <td>1</td>\n",
       "      <td>0</td>\n",
       "      <td>3</td>\n",
       "      <td>1</td>\n",
       "      <td>1</td>\n",
       "      <td>missing</td>\n",
       "      <td>1</td>\n",
       "      <td>1</td>\n",
       "      <td>&lt;5</td>\n",
       "      <td>6</td>\n",
       "      <td>small</td>\n",
       "      <td>2007</td>\n",
       "      <td>1</td>\n",
       "    </tr>\n",
       "    <tr>\n",
       "      <th>1917</th>\n",
       "      <td>1918</td>\n",
       "      <td>592.0</td>\n",
       "      <td>tt0016104</td>\n",
       "      <td>0.286719</td>\n",
       "      <td>137.0</td>\n",
       "      <td>1</td>\n",
       "      <td>0</td>\n",
       "      <td>2</td>\n",
       "      <td>0</td>\n",
       "      <td>1</td>\n",
       "      <td>2</td>\n",
       "      <td>1</td>\n",
       "      <td>missing</td>\n",
       "      <td>&lt;5</td>\n",
       "      <td>8</td>\n",
       "      <td>small</td>\n",
       "      <td>2025</td>\n",
       "      <td>8</td>\n",
       "    </tr>\n",
       "    <tr>\n",
       "      <th>2117</th>\n",
       "      <td>2118</td>\n",
       "      <td>344.0</td>\n",
       "      <td>tt0294289</td>\n",
       "      <td>0.158651</td>\n",
       "      <td>104.0</td>\n",
       "      <td>4</td>\n",
       "      <td>0</td>\n",
       "      <td>2</td>\n",
       "      <td>1</td>\n",
       "      <td>1</td>\n",
       "      <td>3</td>\n",
       "      <td>2</td>\n",
       "      <td>2</td>\n",
       "      <td>&lt;5</td>\n",
       "      <td>10</td>\n",
       "      <td>small</td>\n",
       "      <td>2001</td>\n",
       "      <td>9</td>\n",
       "    </tr>\n",
       "    <tr>\n",
       "      <th>2251</th>\n",
       "      <td>2252</td>\n",
       "      <td>130.0</td>\n",
       "      <td>tt1729637</td>\n",
       "      <td>2.402032</td>\n",
       "      <td>130.0</td>\n",
       "      <td>8</td>\n",
       "      <td>0</td>\n",
       "      <td>4</td>\n",
       "      <td>0</td>\n",
       "      <td>0</td>\n",
       "      <td>2</td>\n",
       "      <td>1</td>\n",
       "      <td>1</td>\n",
       "      <td>&lt;10</td>\n",
       "      <td>15</td>\n",
       "      <td>small</td>\n",
       "      <td>2011</td>\n",
       "      <td>8</td>\n",
       "    </tr>\n",
       "    <tr>\n",
       "      <th>2383</th>\n",
       "      <td>2384</td>\n",
       "      <td>NaN</td>\n",
       "      <td>tt0065486</td>\n",
       "      <td>4.471645</td>\n",
       "      <td>126.0</td>\n",
       "      <td>3</td>\n",
       "      <td>1</td>\n",
       "      <td>2</td>\n",
       "      <td>0</td>\n",
       "      <td>0</td>\n",
       "      <td>3</td>\n",
       "      <td>2</td>\n",
       "      <td>2</td>\n",
       "      <td>&lt;5</td>\n",
       "      <td>19</td>\n",
       "      <td>small</td>\n",
       "      <td>2070</td>\n",
       "      <td>5</td>\n",
       "    </tr>\n",
       "    <tr>\n",
       "      <th>2490</th>\n",
       "      <td>2491</td>\n",
       "      <td>6400000.0</td>\n",
       "      <td>tt0113965</td>\n",
       "      <td>7.506958</td>\n",
       "      <td>86.0</td>\n",
       "      <td>6</td>\n",
       "      <td>0</td>\n",
       "      <td>2</td>\n",
       "      <td>0</td>\n",
       "      <td>1</td>\n",
       "      <td>1</td>\n",
       "      <td>3</td>\n",
       "      <td>1</td>\n",
       "      <td>&lt;5</td>\n",
       "      <td>7</td>\n",
       "      <td>small</td>\n",
       "      <td>1995</td>\n",
       "      <td>10</td>\n",
       "    </tr>\n",
       "    <tr>\n",
       "      <th>2582</th>\n",
       "      <td>2583</td>\n",
       "      <td>NaN</td>\n",
       "      <td>tt0339230</td>\n",
       "      <td>2.939129</td>\n",
       "      <td>90.0</td>\n",
       "      <td>8</td>\n",
       "      <td>0</td>\n",
       "      <td>2</td>\n",
       "      <td>0</td>\n",
       "      <td>0</td>\n",
       "      <td>1</td>\n",
       "      <td>1</td>\n",
       "      <td>2</td>\n",
       "      <td>&lt;5</td>\n",
       "      <td>10</td>\n",
       "      <td>small</td>\n",
       "      <td>2003</td>\n",
       "      <td>2</td>\n",
       "    </tr>\n",
       "  </tbody>\n",
       "</table>\n",
       "</div>"
      ],
      "text/plain": [
       "        id     budget    imdb_id  popularity  runtime  revenue  is_collection  \\\n",
       "334    335        1.0  tt0376144    0.438490    140.0        3              0   \n",
       "347    348       12.0  tt0118172    1.410322     84.0        1              0   \n",
       "639    640        6.0  tt0183659   11.179864    122.0        8              0   \n",
       "695    696        1.0  tt0374271    1.280455    132.0        2              0   \n",
       "1190  1191        NaN  tt0089984    2.087446    100.0        7              0   \n",
       "1346  1347        1.0  tt0048028    6.428830    115.0        5              0   \n",
       "1541  1542   750000.0  tt3805180    0.201582      NaN        3              0   \n",
       "1754  1755        2.0  tt0110604    2.466066     95.0        1              0   \n",
       "1874  1875        NaN  tt1133617    0.229233      NaN        1              0   \n",
       "1917  1918      592.0  tt0016104    0.286719    137.0        1              0   \n",
       "2117  2118      344.0  tt0294289    0.158651    104.0        4              0   \n",
       "2251  2252      130.0  tt1729637    2.402032    130.0        8              0   \n",
       "2383  2384        NaN  tt0065486    4.471645    126.0        3              1   \n",
       "2490  2491  6400000.0  tt0113965    7.506958     86.0        6              0   \n",
       "2582  2583        NaN  tt0339230    2.939129     90.0        8              0   \n",
       "\n",
       "     num_genres  is_homepage  is_English num_pro_comps num_pro_count  \\\n",
       "334           2            0           0       missing             1   \n",
       "347           5            0           1             1             1   \n",
       "639           2            0           1             2             1   \n",
       "695           2            0           0             1             1   \n",
       "1190          2            0           1             2             1   \n",
       "1346          1            0           1             1             1   \n",
       "1541          2            0           0             2             1   \n",
       "1754          2            0           1             3             4   \n",
       "1874          3            1           1       missing             1   \n",
       "1917          2            0           1             2             1   \n",
       "2117          2            1           1             3             2   \n",
       "2251          4            0           0             2             1   \n",
       "2383          2            0           0             3             2   \n",
       "2490          2            0           1             1             3   \n",
       "2582          2            0           0             1             1   \n",
       "\n",
       "     num_spoken_lang num_keywords  num_cast num_crew  release_year  \\\n",
       "334                1           <5        10    small          2003   \n",
       "347                3           <5        24    small          1996   \n",
       "639                1          <10        51   medium          2000   \n",
       "695                1           <5         6    small          2003   \n",
       "1190               3          <10         7    small          1985   \n",
       "1346               1          <10        63   medium          2055   \n",
       "1541               1           <5        10    small          2014   \n",
       "1754               2           <5        13    small          1995   \n",
       "1874               1           <5         6    small          2007   \n",
       "1917         missing           <5         8    small          2025   \n",
       "2117               2           <5        10    small          2001   \n",
       "2251               1          <10        15    small          2011   \n",
       "2383               2           <5        19    small          2070   \n",
       "2490               1           <5         7    small          1995   \n",
       "2582               2           <5        10    small          2003   \n",
       "\n",
       "      release_month  \n",
       "334               5  \n",
       "347              10  \n",
       "639               9  \n",
       "695               8  \n",
       "1190              1  \n",
       "1346              3  \n",
       "1541              6  \n",
       "1754              9  \n",
       "1874              1  \n",
       "1917              8  \n",
       "2117              9  \n",
       "2251              8  \n",
       "2383              5  \n",
       "2490             10  \n",
       "2582              2  "
      ]
     },
     "execution_count": 319,
     "metadata": {},
     "output_type": "execute_result"
    }
   ],
   "source": [
    "df_train[df_train['revenue']<10]"
   ]
  },
  {
   "cell_type": "code",
   "execution_count": null,
   "id": "8bbd85ac",
   "metadata": {},
   "outputs": [],
   "source": []
  }
 ],
 "metadata": {
  "kernelspec": {
   "display_name": "Python 3",
   "language": "python",
   "name": "python3"
  },
  "language_info": {
   "codemirror_mode": {
    "name": "ipython",
    "version": 3
   },
   "file_extension": ".py",
   "mimetype": "text/x-python",
   "name": "python",
   "nbconvert_exporter": "python",
   "pygments_lexer": "ipython3",
   "version": "3.8.8"
  },
  "toc": {
   "base_numbering": 1,
   "nav_menu": {},
   "number_sections": true,
   "sideBar": true,
   "skip_h1_title": true,
   "title_cell": "Table of Contents",
   "title_sidebar": "Contents",
   "toc_cell": true,
   "toc_position": {},
   "toc_section_display": true,
   "toc_window_display": false
  },
  "varInspector": {
   "cols": {
    "lenName": 16,
    "lenType": 16,
    "lenVar": 40
   },
   "kernels_config": {
    "python": {
     "delete_cmd_postfix": "",
     "delete_cmd_prefix": "del ",
     "library": "var_list.py",
     "varRefreshCmd": "print(var_dic_list())"
    },
    "r": {
     "delete_cmd_postfix": ") ",
     "delete_cmd_prefix": "rm(",
     "library": "var_list.r",
     "varRefreshCmd": "cat(var_dic_list()) "
    }
   },
   "types_to_exclude": [
    "module",
    "function",
    "builtin_function_or_method",
    "instance",
    "_Feature"
   ],
   "window_display": false
  }
 },
 "nbformat": 4,
 "nbformat_minor": 5
}
