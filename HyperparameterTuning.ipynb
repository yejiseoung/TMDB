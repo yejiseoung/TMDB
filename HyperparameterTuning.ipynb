{
 "cells": [
  {
   "cell_type": "markdown",
   "id": "9b4e5b40",
   "metadata": {
    "toc": true
   },
   "source": [
    "<h1>Table of Contents<span class=\"tocSkip\"></span></h1>\n",
    "<div class=\"toc\"><ul class=\"toc-item\"><li><ul class=\"toc-item\"><li><span><a href=\"#Introduction\" data-toc-modified-id=\"Introduction-0.1\"><span class=\"toc-item-num\">0.1&nbsp;&nbsp;</span>Introduction</a></span></li><li><span><a href=\"#Import-&amp;-Load-data\" data-toc-modified-id=\"Import-&amp;-Load-data-0.2\"><span class=\"toc-item-num\">0.2&nbsp;&nbsp;</span>Import &amp; Load data</a></span></li></ul></li><li><span><a href=\"#Configuration\" data-toc-modified-id=\"Configuration-1\"><span class=\"toc-item-num\">1&nbsp;&nbsp;</span>Configuration</a></span></li><li><span><a href=\"#Optuna\" data-toc-modified-id=\"Optuna-2\"><span class=\"toc-item-num\">2&nbsp;&nbsp;</span>Optuna</a></span></li><li><span><a href=\"#lgb-model\" data-toc-modified-id=\"lgb-model-3\"><span class=\"toc-item-num\">3&nbsp;&nbsp;</span>lgb model</a></span></li></ul></div>"
   ]
  },
  {
   "cell_type": "markdown",
   "id": "cace262c",
   "metadata": {},
   "source": [
    "# TMDB_Hyperparameter Tuning by using Optuna"
   ]
  },
  {
   "cell_type": "markdown",
   "id": "c628803a",
   "metadata": {},
   "source": [
    "### Introduction"
   ]
  },
  {
   "cell_type": "markdown",
   "id": "a4831e83",
   "metadata": {},
   "source": [
    "In this notebook, I will tune hyperparamters of lightGBM model by using Optuna. "
   ]
  },
  {
   "cell_type": "markdown",
   "id": "67fb6231",
   "metadata": {},
   "source": [
    "### Import & Load data"
   ]
  },
  {
   "cell_type": "code",
   "execution_count": 1,
   "id": "8ea96de0",
   "metadata": {},
   "outputs": [
    {
     "data": {
      "text/plain": [
       "'/Users/yejiseoung/Dropbox/My Mac (Yejis-MacBook-Pro.local)/Documents/Projects/TMDB'"
      ]
     },
     "execution_count": 1,
     "metadata": {},
     "output_type": "execute_result"
    }
   ],
   "source": [
    "import numpy as np\n",
    "import pandas as pd\n",
    "import matplotlib.pyplot as plt\n",
    "\n",
    "from sklearn.metrics import mean_squared_error\n",
    "from sklearn.model_selection import cross_val_score, train_test_split\n",
    "from sklearn.ensemble import RandomForestRegressor, GradientBoostingRegressor\n",
    "from sklearn.linear_model import Lasso\n",
    "from sklearn.pipeline import Pipeline\n",
    "\n",
    "import warnings\n",
    "warnings.filterwarnings('ignore')\n",
    "\n",
    "import optuna\n",
    "\n",
    "pd.set_option('display.max_columns', 100)\n",
    "\n",
    "from pathlib import Path\n",
    "import os\n",
    "os.getcwd()"
   ]
  },
  {
   "cell_type": "code",
   "execution_count": 2,
   "id": "27362e49",
   "metadata": {},
   "outputs": [],
   "source": [
    "path = Path('/Users/yejiseoung/Dropbox/My Mac (Yejis-MacBook-Pro.local)/Documents/Projects/TMDB/datasets/')"
   ]
  },
  {
   "cell_type": "code",
   "execution_count": 3,
   "id": "178c8a50",
   "metadata": {},
   "outputs": [],
   "source": [
    "import sys\n",
    "import time\n",
    "import random\n",
    "import logging\n",
    "import typing as tp\n",
    "from contextlib import contextmanager\n",
    "\n",
    "from sklearn.model_selection import KFold\n",
    "from sklearn.metrics import mean_squared_log_error, mean_squared_error\n",
    "\n",
    "import lightgbm as lgb\n",
    "from lightgbm import LGBMRegressor"
   ]
  },
  {
   "cell_type": "code",
   "execution_count": 4,
   "id": "ae413282",
   "metadata": {},
   "outputs": [],
   "source": [
    "from sklearn.model_selection import train_test_split\n",
    "from sklearn.preprocessing import MinMaxScaler\n",
    "\n",
    "# from feature-engine\n",
    "from feature_engine.imputation import (\n",
    "    AddMissingIndicator,\n",
    "    MeanMedianImputer,\n",
    "    CategoricalImputer\n",
    ")\n",
    "\n",
    "\n",
    "from feature_engine.encoding import (\n",
    "    OrdinalEncoder\n",
    ")\n",
    "\n",
    "from feature_engine.transformation import LogTransformer\n",
    "\n",
    "from feature_engine.selection import DropFeatures\n",
    "from feature_engine.wrappers import SklearnTransformerWrapper\n",
    "\n",
    "import preprocessors as pp\n",
    "\n",
    "from math import sqrt"
   ]
  },
  {
   "cell_type": "code",
   "execution_count": 5,
   "id": "49aa4d00",
   "metadata": {},
   "outputs": [
    {
     "data": {
      "text/plain": [
       "((3000, 19), (4398, 18))"
      ]
     },
     "execution_count": 5,
     "metadata": {},
     "output_type": "execute_result"
    }
   ],
   "source": [
    "df_train = pd.read_csv(path/'engineered_train.csv')\n",
    "df_test = pd.read_csv(path/'engineered_test.csv')\n",
    "df_train.shape, df_test.shape"
   ]
  },
  {
   "cell_type": "markdown",
   "id": "53368372",
   "metadata": {},
   "source": [
    "## Configuration"
   ]
  },
  {
   "cell_type": "code",
   "execution_count": 14,
   "id": "0f0d461c",
   "metadata": {},
   "outputs": [],
   "source": [
    "# categorical variables with NA with set\n",
    "CATEGORICAL_VARS_WITH_NA_FREQUENT = ['num_genres', 'num_spoken_lang']\n",
    "\n",
    "CATEGORICAL_VARS_WITH_NA_MISSING = ['num_pro_comps', 'num_keywords']\n",
    "\n",
    "\n",
    "# numerical variables with NA in train set\n",
    "NUMERICAL_VARS_WITH_NA = ['budget',\n",
    "                          'runtime',\n",
    "                          'num_cast']\n",
    "\n",
    "# this is for test set\n",
    "NEW_VARS_WITH_NA = ['release_year', 'release_month', 'release_day', 'release_dayofweek']\n",
    "\n",
    "# temporal variable and binary variables\n",
    "TEMPORAL_VARS = ['release_year', 'release_month', 'release_day', 'release_dayofweek']\n",
    "BINARY_VARS = ['is_collection', 'is_homepage', 'is_English']\n",
    "\n",
    "# variables to log transform\n",
    "NUMERICAL_LOG_VARS = ['budget', 'popularity', 'num_cast']\n",
    "\n",
    "# variables to map\n",
    "genre = ['num_genres']\n",
    "comps = ['num_pro_comps']\n",
    "count = ['num_pro_count']\n",
    "lang = ['num_spoken_lang']\n",
    "keywords = ['num_keywords']\n",
    "crew = ['num_crew']\n",
    "\n",
    "# variables to map\n",
    "genre_mappings = {'1': 1, '2': 2, '3': 3, '4': 4, '>4': 5}\n",
    "comps_mappings = {'1': 1, '2': 2, '3':3, '4': 4, '5': 5, '>5': 6, 'Missing': 0}\n",
    "count_mappings = {'1': 1, '2': 2, '>2': 3}\n",
    "lang_mappings = {'1': 1, '2': 2, '3': 3, '>3': 4}\n",
    "keywords_mappings = {'<5': 1, '<10': 2, '<15': 3, '<20': 4, '>30': 5, 'Missing': 0}\n",
    "crew_mappings = {'small': 1, 'medium': 2, 'large': 3, 'missing': 0}"
   ]
  },
  {
   "cell_type": "markdown",
   "id": "08d895f1",
   "metadata": {},
   "source": [
    "## Optuna"
   ]
  },
  {
   "cell_type": "code",
   "execution_count": 30,
   "id": "7a62a7a0",
   "metadata": {},
   "outputs": [],
   "source": [
    "def objective(trial): \n",
    "    # set up hyperparameters to figure out best parameters\n",
    "    params = {\n",
    "            'n_estimators': trial.suggest_categorical('n_estimators', [5000, 10000]),\n",
    "            'num_leaves': trial.suggest_int('num_leaves', 2, 2**4), #2**11),\n",
    "            'boosting_type': trial.suggest_categorical('boosting', ['gbdt']),\n",
    "            'max_depth': trial.suggest_int('max_depth', 2, 2**4),\n",
    "            'max_bin': trial.suggest_int('max_bin', 32, 100, 255), #450, 550),\n",
    "            'objective': 'regression',\n",
    "            \n",
    "            'min_data_in_leaf': trial.suggest_int('min_data_in_leaf', 1, 150, 256),\n",
    "            'min_data_in_bin': trial.suggest_int('min_data_in_bin', 1, 150, 256),\n",
    "            'min_gain_to_split': trial.suggest_discrete_uniform('min_gain_to_split', 0.1, 5, 0.01),\n",
    "            'metric': 'rmse',\n",
    "            'learning_rate': trial.suggest_float('learning_rate',0.001,0.3),\n",
    "            'random_state' : trial.suggest_int('random_state', 0, 42, 1024),\n",
    "        \n",
    "            #'min_child_weight': trial.suggest_int('min_child_weight', 1, 16),\n",
    "            'feature_fraction': trial.suggest_uniform('feature_fraction', 0.4, 1.0),\n",
    "            'bagging_fraction': trial.suggest_uniform('bagging_fraction', 0.4, 1.0),\n",
    "            'bagging_freq': trial.suggest_int('bagging_freq', 1, 8),\n",
    "            #'min_child_samples': trial.suggest_int('min_child_samples', 4, 80),\n",
    "            'lambda_l1': trial.suggest_loguniform('lambda_l1', 1e-8, 1.0),\n",
    "            'lambda_l2': trial.suggest_loguniform('lambda_l2', 1e-8, 1.0),\n",
    "            'early_stopping_rounds': 500\n",
    "            }\n",
    "    \n",
    "    # Since we don't use engineered dataset,\n",
    "    # we need to add feature engineering here\n",
    "    X_train, X_valid, y_train, y_valid = train_test_split(\n",
    "        df_train.drop(['id', 'revenue'], axis=1),\n",
    "        df_train['revenue'],\n",
    "        test_size=0.2,\n",
    "        random_state=42\n",
    "    )\n",
    "    \n",
    "    y_train = np.log1p(y_train)\n",
    "    y_valid = np.log1p(y_valid)\n",
    "    \n",
    "    # missing imputation\n",
    "    cat_imputer_missing = CategoricalImputer(\n",
    "        imputation_method='missing', variables=CATEGORICAL_VARS_WITH_NA_MISSING)\n",
    "    X_train = cat_imputer_missing.fit_transform(X_train)\n",
    "    X_valid = cat_imputer_missing.transform(X_valid)\n",
    "    \n",
    "    cat_imputer_frequent = CategoricalImputer(\n",
    "        imputation_method='frequent', variables=CATEGORICAL_VARS_WITH_NA_FREQUENT)\n",
    "    X_train = cat_imputer_frequent.fit_transform(X_train)\n",
    "    X_valid = cat_imputer_frequent.transform(X_valid)\n",
    "    \n",
    "    \n",
    "    # add missing indicator\n",
    "    missing_indicator = AddMissingIndicator(\n",
    "        variables=NUMERICAL_VARS_WITH_NA)\n",
    "    X_train = missing_indicator.fit_transform(X_train)\n",
    "    X_valid = missing_indicator.transform(X_valid)\n",
    "    \n",
    "    \n",
    "    # impute numerical\n",
    "    mean_imputation = MeanMedianImputer(\n",
    "        imputation_method='mean', variables=NUMERICAL_VARS_WITH_NA)\n",
    "    X_train = mean_imputation.fit_transform(X_train)\n",
    "    X_valid = mean_imputation.transform(X_valid)\n",
    "    \n",
    "    \n",
    "    # LOG transformation\n",
    "    log = LogTransformer(variables=NUMERICAL_LOG_VARS)\n",
    "    X_train = log.fit_transform(X_train)\n",
    "    X_valid = log.transform(X_valid)\n",
    "    \n",
    "    \n",
    "    # Mappers\n",
    "    X_train['num_genres'] = X_train['num_genres'].map(genre_mappings)\n",
    "    X_valid['num_genres'] = X_valid['num_genres'].map(genre_mappings)\n",
    "    \n",
    "    X_train['num_pro_comps'] = X_train['num_pro_comps'].map(comps_mappings)\n",
    "    X_valid['num_pro_comps'] = X_valid['num_pro_comps'].map(comps_mappings)\n",
    "    \n",
    "    X_train['num_pro_count'] = X_train['num_pro_count'].map(count_mappings)\n",
    "    X_valid['num_pro_count'] = X_valid['num_pro_count'].map(count_mappings)\n",
    "    \n",
    "    X_train['num_spoken_lang'] = X_train['num_spoken_lang'].map(lang_mappings)\n",
    "    X_valid['num_spoken_lang'] = X_valid['num_spoken_lang'].map(lang_mappings)\n",
    "    \n",
    "    X_train['num_keywords'] = X_train['num_keywords'].map(keywords_mappings)\n",
    "    X_valid['num_keywords'] = X_valid['num_keywords'].map(keywords_mappings)\n",
    "    \n",
    "    X_train['num_crew'] = X_train['num_crew'].map(crew_mappings)\n",
    "    X_valid['num_crew'] = X_valid['num_crew'].map(crew_mappings)\n",
    "    \n",
    "    \n",
    "    # scaler\n",
    "    scaler = MinMaxScaler()\n",
    "    X_train = pd.DataFrame(scaler.fit_transform(X_train),\n",
    "                          columns=X_train.columns)\n",
    "    X_valid = pd.DataFrame(scaler.transform(X_valid),\n",
    "                          columns=X_train.columns)\n",
    "    \n",
    "    \n",
    "    model = lgb.train(params, \n",
    "                      lgb.Dataset(X_train, y_train), \n",
    "                      valid_sets=[lgb.Dataset(X_valid, y_valid)], \n",
    "                      verbose_eval=100, \n",
    "                      num_boost_round=800,\n",
    "                      early_stopping_rounds=500)\n",
    "    \n",
    "    #train_pred = model.predict(X_train)\n",
    "    valid_pred  = model.predict(X_valid)\n",
    "    \n",
    "    #train_score = sqrt(mean_squared_error(y_train, train_pred))\n",
    "    valid_score = sqrt(mean_squared_error(y_valid, valid_pred))\n",
    "    \n",
    "    #print('train_score: ', f\"RMSE = {train_score}\")\n",
    "    print('valid_score: ', f\"RMSE = {valid_score}\")\n",
    "    \n",
    "    return valid_score"
   ]
  },
  {
   "cell_type": "code",
   "execution_count": 31,
   "id": "1ebb182d",
   "metadata": {},
   "outputs": [
    {
     "name": "stderr",
     "output_type": "stream",
     "text": [
      "\u001b[32m[I 2022-02-23 14:47:58,409]\u001b[0m A new study created in memory with name: no-name-1123eb56-1f59-4267-9822-28a9e547084c\u001b[0m\n"
     ]
    },
    {
     "name": "stdout",
     "output_type": "stream",
     "text": [
      "Training until validation scores don't improve for 500 rounds\n",
      "[100]\tvalid_0's rmse: 2.01114\n",
      "[200]\tvalid_0's rmse: 2.02117\n",
      "[300]\tvalid_0's rmse: 2.04188\n",
      "[400]\tvalid_0's rmse: 2.04796\n",
      "[500]\tvalid_0's rmse: 2.04796\n",
      "[600]\tvalid_0's rmse: 2.04796\n"
     ]
    },
    {
     "name": "stderr",
     "output_type": "stream",
     "text": [
      "\u001b[32m[I 2022-02-23 14:47:58,737]\u001b[0m Trial 0 finished with value: 1.9945828467742448 and parameters: {'n_estimators': 10000, 'num_leaves': 13, 'boosting': 'gbdt', 'max_depth': 3, 'max_bin': 32, 'min_data_in_leaf': 1, 'min_data_in_bin': 1, 'min_gain_to_split': 1.5000000000000002, 'learning_rate': 0.1750591182221149, 'random_state': 0, 'feature_fraction': 0.6516799969159521, 'bagging_fraction': 0.8410638440068083, 'bagging_freq': 2, 'lambda_l1': 0.31064770186362567, 'lambda_l2': 9.478326782163505e-06}. Best is trial 0 with value: 1.9945828467742448.\u001b[0m\n"
     ]
    },
    {
     "name": "stdout",
     "output_type": "stream",
     "text": [
      "Early stopping, best iteration is:\n",
      "[165]\tvalid_0's rmse: 1.99458\n",
      "valid_score:  RMSE = 1.9945828467742448\n",
      "Training until validation scores don't improve for 500 rounds\n",
      "[100]\tvalid_0's rmse: 2.07833\n",
      "[200]\tvalid_0's rmse: 2.02399\n",
      "[300]\tvalid_0's rmse: 2.01542\n"
     ]
    },
    {
     "name": "stderr",
     "output_type": "stream",
     "text": [
      "\u001b[32m[I 2022-02-23 14:47:59,108]\u001b[0m Trial 1 finished with value: 2.012662475978034 and parameters: {'n_estimators': 5000, 'num_leaves': 11, 'boosting': 'gbdt', 'max_depth': 14, 'max_bin': 32, 'min_data_in_leaf': 1, 'min_data_in_bin': 1, 'min_gain_to_split': 4.16, 'learning_rate': 0.0261629072737777, 'random_state': 0, 'feature_fraction': 0.5434541032042388, 'bagging_fraction': 0.9110792915558577, 'bagging_freq': 2, 'lambda_l1': 0.1029044108492442, 'lambda_l2': 1.8468115473889032e-06}. Best is trial 0 with value: 1.9945828467742448.\u001b[0m\n"
     ]
    },
    {
     "name": "stdout",
     "output_type": "stream",
     "text": [
      "[400]\tvalid_0's rmse: 2.01266\n",
      "[500]\tvalid_0's rmse: 2.01266\n",
      "[600]\tvalid_0's rmse: 2.01266\n",
      "[700]\tvalid_0's rmse: 2.01266\n",
      "[800]\tvalid_0's rmse: 2.01266\n",
      "Early stopping, best iteration is:\n",
      "[318]\tvalid_0's rmse: 2.01266\n",
      "valid_score:  RMSE = 2.012662475978034\n",
      "Training until validation scores don't improve for 500 rounds\n",
      "[100]\tvalid_0's rmse: 2.07106\n",
      "[200]\tvalid_0's rmse: 2.07388\n",
      "[300]\tvalid_0's rmse: 2.07165\n",
      "[400]\tvalid_0's rmse: 2.07165\n",
      "[500]\tvalid_0's rmse: 2.07165\n"
     ]
    },
    {
     "name": "stderr",
     "output_type": "stream",
     "text": [
      "\u001b[32m[I 2022-02-23 14:47:59,348]\u001b[0m Trial 2 finished with value: 2.049607261837334 and parameters: {'n_estimators': 5000, 'num_leaves': 8, 'boosting': 'gbdt', 'max_depth': 6, 'max_bin': 32, 'min_data_in_leaf': 1, 'min_data_in_bin': 1, 'min_gain_to_split': 4.92, 'learning_rate': 0.16314806756762945, 'random_state': 0, 'feature_fraction': 0.4197290713718439, 'bagging_fraction': 0.6313564192684411, 'bagging_freq': 4, 'lambda_l1': 1.585020654603675e-06, 'lambda_l2': 0.010049114234909635}. Best is trial 0 with value: 1.9945828467742448.\u001b[0m\n"
     ]
    },
    {
     "name": "stdout",
     "output_type": "stream",
     "text": [
      "Early stopping, best iteration is:\n",
      "[42]\tvalid_0's rmse: 2.04961\n",
      "valid_score:  RMSE = 2.049607261837334\n",
      "Training until validation scores don't improve for 500 rounds\n",
      "[100]\tvalid_0's rmse: 2.08094\n",
      "[200]\tvalid_0's rmse: 2.08785\n",
      "[300]\tvalid_0's rmse: 2.08785\n",
      "[400]\tvalid_0's rmse: 2.08785\n"
     ]
    },
    {
     "name": "stderr",
     "output_type": "stream",
     "text": [
      "\u001b[32m[I 2022-02-23 14:47:59,613]\u001b[0m Trial 3 finished with value: 2.0618219257895327 and parameters: {'n_estimators': 5000, 'num_leaves': 5, 'boosting': 'gbdt', 'max_depth': 5, 'max_bin': 32, 'min_data_in_leaf': 1, 'min_data_in_bin': 1, 'min_gain_to_split': 3.23, 'learning_rate': 0.15463999062732411, 'random_state': 0, 'feature_fraction': 0.7292312540325631, 'bagging_fraction': 0.8671449824544213, 'bagging_freq': 1, 'lambda_l1': 6.563289228157527e-08, 'lambda_l2': 7.657754503240074e-06}. Best is trial 0 with value: 1.9945828467742448.\u001b[0m\n"
     ]
    },
    {
     "name": "stdout",
     "output_type": "stream",
     "text": [
      "[500]\tvalid_0's rmse: 2.08785\n",
      "Early stopping, best iteration is:\n",
      "[57]\tvalid_0's rmse: 2.06182\n",
      "valid_score:  RMSE = 2.0618219257895327\n",
      "Training until validation scores don't improve for 500 rounds\n",
      "[100]\tvalid_0's rmse: 2.07008\n",
      "[200]\tvalid_0's rmse: 2.04788\n",
      "[300]\tvalid_0's rmse: 2.04788\n"
     ]
    },
    {
     "name": "stderr",
     "output_type": "stream",
     "text": [
      "\u001b[32m[I 2022-02-23 14:47:59,867]\u001b[0m Trial 4 finished with value: 2.045862733112038 and parameters: {'n_estimators': 5000, 'num_leaves': 12, 'boosting': 'gbdt', 'max_depth': 9, 'max_bin': 32, 'min_data_in_leaf': 1, 'min_data_in_bin': 1, 'min_gain_to_split': 2.21, 'learning_rate': 0.11644405665822835, 'random_state': 0, 'feature_fraction': 0.580599294307317, 'bagging_fraction': 0.793247877916283, 'bagging_freq': 5, 'lambda_l1': 2.1387442486464176e-07, 'lambda_l2': 3.868204789723184e-07}. Best is trial 0 with value: 1.9945828467742448.\u001b[0m\n"
     ]
    },
    {
     "name": "stdout",
     "output_type": "stream",
     "text": [
      "[400]\tvalid_0's rmse: 2.04788\n",
      "[500]\tvalid_0's rmse: 2.04788\n",
      "[600]\tvalid_0's rmse: 2.04788\n",
      "Early stopping, best iteration is:\n",
      "[156]\tvalid_0's rmse: 2.04439\n",
      "valid_score:  RMSE = 2.045862733112038\n",
      "Training until validation scores don't improve for 500 rounds\n",
      "[100]\tvalid_0's rmse: 2.03081\n"
     ]
    },
    {
     "name": "stderr",
     "output_type": "stream",
     "text": [
      "\u001b[32m[I 2022-02-23 14:48:00,140]\u001b[0m Trial 5 finished with value: 2.0078862183127115 and parameters: {'n_estimators': 10000, 'num_leaves': 9, 'boosting': 'gbdt', 'max_depth': 7, 'max_bin': 32, 'min_data_in_leaf': 1, 'min_data_in_bin': 1, 'min_gain_to_split': 0.19, 'learning_rate': 0.13401583044348647, 'random_state': 0, 'feature_fraction': 0.6807323194873302, 'bagging_fraction': 0.9202199036608014, 'bagging_freq': 4, 'lambda_l1': 7.4228763645996e-06, 'lambda_l2': 1.0396995261973127e-07}. Best is trial 0 with value: 1.9945828467742448.\u001b[0m\n"
     ]
    },
    {
     "name": "stdout",
     "output_type": "stream",
     "text": [
      "[200]\tvalid_0's rmse: 2.08895\n",
      "[300]\tvalid_0's rmse: 2.10698\n",
      "[400]\tvalid_0's rmse: 2.12365\n",
      "[500]\tvalid_0's rmse: 2.12948\n",
      "Early stopping, best iteration is:\n",
      "[66]\tvalid_0's rmse: 2.00789\n",
      "valid_score:  RMSE = 2.0078862183127115\n",
      "Training until validation scores don't improve for 500 rounds\n",
      "[100]\tvalid_0's rmse: 2.07244\n"
     ]
    },
    {
     "name": "stderr",
     "output_type": "stream",
     "text": [
      "\u001b[32m[I 2022-02-23 14:48:00,355]\u001b[0m Trial 6 finished with value: 2.0259472615082688 and parameters: {'n_estimators': 5000, 'num_leaves': 10, 'boosting': 'gbdt', 'max_depth': 10, 'max_bin': 32, 'min_data_in_leaf': 1, 'min_data_in_bin': 1, 'min_gain_to_split': 2.06, 'learning_rate': 0.16679918022329854, 'random_state': 0, 'feature_fraction': 0.7974113349237838, 'bagging_fraction': 0.9148444987258814, 'bagging_freq': 4, 'lambda_l1': 7.215695963191159e-05, 'lambda_l2': 0.15462967069135025}. Best is trial 0 with value: 1.9945828467742448.\u001b[0m\n"
     ]
    },
    {
     "name": "stdout",
     "output_type": "stream",
     "text": [
      "[200]\tvalid_0's rmse: 2.07244\n",
      "[300]\tvalid_0's rmse: 2.07244\n",
      "[400]\tvalid_0's rmse: 2.07244\n",
      "[500]\tvalid_0's rmse: 2.07244\n",
      "Early stopping, best iteration is:\n",
      "[35]\tvalid_0's rmse: 2.02595\n",
      "valid_score:  RMSE = 2.0259472615082688\n",
      "Training until validation scores don't improve for 500 rounds\n",
      "[100]\tvalid_0's rmse: 2.39303\n",
      "[200]\tvalid_0's rmse: 2.1818\n",
      "[300]\tvalid_0's rmse: 2.09736\n",
      "[400]\tvalid_0's rmse: 2.066\n",
      "[500]\tvalid_0's rmse: 2.04231\n",
      "[600]\tvalid_0's rmse: 2.02708\n",
      "[700]\tvalid_0's rmse: 2.01916\n",
      "[800]\tvalid_0's rmse: 2.01633\n",
      "[900]\tvalid_0's rmse: 2.01127\n",
      "[1000]\tvalid_0's rmse: 2.00916\n",
      "[1100]\tvalid_0's rmse: 2.00239\n",
      "[1200]\tvalid_0's rmse: 2.00496\n",
      "[1300]\tvalid_0's rmse: 2.00184\n",
      "[1400]\tvalid_0's rmse: 2.00104\n",
      "[1500]\tvalid_0's rmse: 2.00249\n"
     ]
    },
    {
     "name": "stderr",
     "output_type": "stream",
     "text": [
      "\u001b[32m[I 2022-02-23 14:48:01,196]\u001b[0m Trial 7 finished with value: 1.9999246505062722 and parameters: {'n_estimators': 5000, 'num_leaves': 12, 'boosting': 'gbdt', 'max_depth': 3, 'max_bin': 32, 'min_data_in_leaf': 1, 'min_data_in_bin': 1, 'min_gain_to_split': 1.83, 'learning_rate': 0.008189455669327543, 'random_state': 0, 'feature_fraction': 0.9406655090527697, 'bagging_fraction': 0.44969373390417255, 'bagging_freq': 5, 'lambda_l1': 0.36802210901165217, 'lambda_l2': 0.0006029447582886258}. Best is trial 0 with value: 1.9945828467742448.\u001b[0m\n"
     ]
    },
    {
     "name": "stdout",
     "output_type": "stream",
     "text": [
      "[1600]\tvalid_0's rmse: 2.00677\n",
      "[1700]\tvalid_0's rmse: 2.0047\n",
      "[1800]\tvalid_0's rmse: 2.00429\n",
      "Early stopping, best iteration is:\n",
      "[1362]\tvalid_0's rmse: 1.99992\n",
      "valid_score:  RMSE = 1.9999246505062722\n",
      "Training until validation scores don't improve for 500 rounds\n",
      "[100]\tvalid_0's rmse: 2.00255\n"
     ]
    },
    {
     "name": "stderr",
     "output_type": "stream",
     "text": [
      "\u001b[32m[I 2022-02-23 14:48:01,399]\u001b[0m Trial 8 finished with value: 1.993309350666311 and parameters: {'n_estimators': 10000, 'num_leaves': 4, 'boosting': 'gbdt', 'max_depth': 16, 'max_bin': 32, 'min_data_in_leaf': 1, 'min_data_in_bin': 1, 'min_gain_to_split': 3.47, 'learning_rate': 0.23242788477766504, 'random_state': 0, 'feature_fraction': 0.5194051744077841, 'bagging_fraction': 0.8599601700743296, 'bagging_freq': 4, 'lambda_l1': 0.00018258540073050968, 'lambda_l2': 3.8485429522829706e-07}. Best is trial 8 with value: 1.993309350666311.\u001b[0m\n"
     ]
    },
    {
     "name": "stdout",
     "output_type": "stream",
     "text": [
      "[200]\tvalid_0's rmse: 1.99715\n",
      "[300]\tvalid_0's rmse: 1.99715\n",
      "[400]\tvalid_0's rmse: 1.99715\n",
      "[500]\tvalid_0's rmse: 1.99715\n",
      "[600]\tvalid_0's rmse: 1.99715\n",
      "Early stopping, best iteration is:\n",
      "[115]\tvalid_0's rmse: 1.99331\n",
      "valid_score:  RMSE = 1.993309350666311\n",
      "Training until validation scores don't improve for 500 rounds\n",
      "[100]\tvalid_0's rmse: 2.03946\n",
      "[200]\tvalid_0's rmse: 2.02253\n"
     ]
    },
    {
     "name": "stderr",
     "output_type": "stream",
     "text": [
      "\u001b[32m[I 2022-02-23 14:48:01,598]\u001b[0m Trial 9 finished with value: 2.0212075549354718 and parameters: {'n_estimators': 5000, 'num_leaves': 4, 'boosting': 'gbdt', 'max_depth': 11, 'max_bin': 32, 'min_data_in_leaf': 1, 'min_data_in_bin': 1, 'min_gain_to_split': 3.69, 'learning_rate': 0.07577942012485177, 'random_state': 0, 'feature_fraction': 0.47354862171628, 'bagging_fraction': 0.4272461446368804, 'bagging_freq': 1, 'lambda_l1': 3.801102128641335e-07, 'lambda_l2': 0.0012740927847316665}. Best is trial 8 with value: 1.993309350666311.\u001b[0m\n"
     ]
    },
    {
     "name": "stdout",
     "output_type": "stream",
     "text": [
      "[300]\tvalid_0's rmse: 2.02946\n",
      "[400]\tvalid_0's rmse: 2.03979\n",
      "[500]\tvalid_0's rmse: 2.0436\n",
      "[600]\tvalid_0's rmse: 2.04813\n",
      "[700]\tvalid_0's rmse: 2.07509\n",
      "Early stopping, best iteration is:\n",
      "[215]\tvalid_0's rmse: 2.02121\n",
      "valid_score:  RMSE = 2.0212075549354718\n",
      "Training until validation scores don't improve for 500 rounds\n",
      "[100]\tvalid_0's rmse: 2.06252\n"
     ]
    },
    {
     "name": "stderr",
     "output_type": "stream",
     "text": [
      "\u001b[32m[I 2022-02-23 14:48:01,831]\u001b[0m Trial 10 finished with value: 2.055577948230272 and parameters: {'n_estimators': 5000, 'num_leaves': 13, 'boosting': 'gbdt', 'max_depth': 12, 'max_bin': 32, 'min_data_in_leaf': 1, 'min_data_in_bin': 1, 'min_gain_to_split': 3.3800000000000003, 'learning_rate': 0.2986820422032471, 'random_state': 0, 'feature_fraction': 0.9543603433545017, 'bagging_fraction': 0.8637259728662212, 'bagging_freq': 1, 'lambda_l1': 0.000292778054916801, 'lambda_l2': 1.5439453924739156e-07}. Best is trial 8 with value: 1.993309350666311.\u001b[0m\n"
     ]
    },
    {
     "name": "stdout",
     "output_type": "stream",
     "text": [
      "[200]\tvalid_0's rmse: 2.06252\n",
      "[300]\tvalid_0's rmse: 2.06252\n",
      "[400]\tvalid_0's rmse: 2.06252\n",
      "[500]\tvalid_0's rmse: 2.06252\n",
      "Early stopping, best iteration is:\n",
      "[14]\tvalid_0's rmse: 2.05558\n",
      "valid_score:  RMSE = 2.055577948230272\n",
      "Training until validation scores don't improve for 500 rounds\n"
     ]
    },
    {
     "name": "stderr",
     "output_type": "stream",
     "text": [
      "\u001b[32m[I 2022-02-23 14:48:02,090]\u001b[0m Trial 11 finished with value: 2.039240298819642 and parameters: {'n_estimators': 10000, 'num_leaves': 4, 'boosting': 'gbdt', 'max_depth': 11, 'max_bin': 32, 'min_data_in_leaf': 1, 'min_data_in_bin': 1, 'min_gain_to_split': 3.3400000000000003, 'learning_rate': 0.22178497337236777, 'random_state': 0, 'feature_fraction': 0.840238503597368, 'bagging_fraction': 0.8315460914798483, 'bagging_freq': 1, 'lambda_l1': 0.07827536477904734, 'lambda_l2': 0.0007372810105206875}. Best is trial 8 with value: 1.993309350666311.\u001b[0m\n"
     ]
    },
    {
     "name": "stdout",
     "output_type": "stream",
     "text": [
      "[100]\tvalid_0's rmse: 2.04356\n",
      "[200]\tvalid_0's rmse: 2.06233\n",
      "[300]\tvalid_0's rmse: 2.06233\n",
      "[400]\tvalid_0's rmse: 2.06233\n",
      "[500]\tvalid_0's rmse: 2.06233\n",
      "Early stopping, best iteration is:\n",
      "[51]\tvalid_0's rmse: 2.03924\n",
      "valid_score:  RMSE = 2.039240298819642\n",
      "Training until validation scores don't improve for 500 rounds\n"
     ]
    },
    {
     "name": "stderr",
     "output_type": "stream",
     "text": [
      "\u001b[32m[I 2022-02-23 14:48:02,326]\u001b[0m Trial 12 finished with value: 2.1028467214636284 and parameters: {'n_estimators': 10000, 'num_leaves': 16, 'boosting': 'gbdt', 'max_depth': 11, 'max_bin': 32, 'min_data_in_leaf': 1, 'min_data_in_bin': 1, 'min_gain_to_split': 1.6900000000000002, 'learning_rate': 0.288360069264206, 'random_state': 0, 'feature_fraction': 0.6009618062742846, 'bagging_fraction': 0.5259544148446985, 'bagging_freq': 4, 'lambda_l1': 3.399045999115016e-07, 'lambda_l2': 0.0009679335500898624}. Best is trial 8 with value: 1.993309350666311.\u001b[0m\n"
     ]
    },
    {
     "name": "stdout",
     "output_type": "stream",
     "text": [
      "[100]\tvalid_0's rmse: 2.30119\n",
      "[200]\tvalid_0's rmse: 2.32989\n",
      "[300]\tvalid_0's rmse: 2.32989\n",
      "[400]\tvalid_0's rmse: 2.32989\n",
      "[500]\tvalid_0's rmse: 2.32989\n",
      "Early stopping, best iteration is:\n",
      "[24]\tvalid_0's rmse: 2.10285\n",
      "valid_score:  RMSE = 2.1028467214636284\n",
      "Training until validation scores don't improve for 500 rounds\n"
     ]
    },
    {
     "name": "stderr",
     "output_type": "stream",
     "text": [
      "\u001b[32m[I 2022-02-23 14:48:02,577]\u001b[0m Trial 13 finished with value: 2.0553375443615183 and parameters: {'n_estimators': 10000, 'num_leaves': 14, 'boosting': 'gbdt', 'max_depth': 13, 'max_bin': 32, 'min_data_in_leaf': 1, 'min_data_in_bin': 1, 'min_gain_to_split': 1.6800000000000002, 'learning_rate': 0.25155215762490923, 'random_state': 0, 'feature_fraction': 0.74063095575209, 'bagging_fraction': 0.9409369369041515, 'bagging_freq': 1, 'lambda_l1': 1.6741536112181778e-08, 'lambda_l2': 0.0006243318100442348}. Best is trial 8 with value: 1.993309350666311.\u001b[0m\n"
     ]
    },
    {
     "name": "stdout",
     "output_type": "stream",
     "text": [
      "[100]\tvalid_0's rmse: 2.06877\n",
      "[200]\tvalid_0's rmse: 2.06877\n",
      "[300]\tvalid_0's rmse: 2.06877\n",
      "[400]\tvalid_0's rmse: 2.06877\n",
      "[500]\tvalid_0's rmse: 2.06877\n",
      "Early stopping, best iteration is:\n",
      "[50]\tvalid_0's rmse: 2.05534\n",
      "valid_score:  RMSE = 2.0553375443615183\n"
     ]
    },
    {
     "name": "stderr",
     "output_type": "stream",
     "text": [
      "\u001b[32m[I 2022-02-23 14:48:02,762]\u001b[0m Trial 14 finished with value: 2.0789276188239683 and parameters: {'n_estimators': 10000, 'num_leaves': 5, 'boosting': 'gbdt', 'max_depth': 12, 'max_bin': 32, 'min_data_in_leaf': 1, 'min_data_in_bin': 1, 'min_gain_to_split': 4.41, 'learning_rate': 0.29322957454539145, 'random_state': 0, 'feature_fraction': 0.7772075447310108, 'bagging_fraction': 0.7999416400624954, 'bagging_freq': 5, 'lambda_l1': 2.9650478019181036e-08, 'lambda_l2': 1.5765153375095959e-06}. Best is trial 8 with value: 1.993309350666311.\u001b[0m\n"
     ]
    },
    {
     "name": "stdout",
     "output_type": "stream",
     "text": [
      "Training until validation scores don't improve for 500 rounds\n",
      "[100]\tvalid_0's rmse: 2.15051\n",
      "[200]\tvalid_0's rmse: 2.15051\n",
      "[300]\tvalid_0's rmse: 2.15051\n",
      "[400]\tvalid_0's rmse: 2.15051\n",
      "[500]\tvalid_0's rmse: 2.15051\n",
      "Early stopping, best iteration is:\n",
      "[25]\tvalid_0's rmse: 2.07893\n",
      "valid_score:  RMSE = 2.0789276188239683\n",
      "Training until validation scores don't improve for 500 rounds\n"
     ]
    },
    {
     "name": "stderr",
     "output_type": "stream",
     "text": [
      "\u001b[32m[I 2022-02-23 14:48:02,990]\u001b[0m Trial 15 finished with value: 2.0325936239013163 and parameters: {'n_estimators': 10000, 'num_leaves': 2, 'boosting': 'gbdt', 'max_depth': 7, 'max_bin': 32, 'min_data_in_leaf': 1, 'min_data_in_bin': 1, 'min_gain_to_split': 1.78, 'learning_rate': 0.15827405191702096, 'random_state': 0, 'feature_fraction': 0.8112421596778028, 'bagging_fraction': 0.8593215304647124, 'bagging_freq': 4, 'lambda_l1': 0.0006034000654560832, 'lambda_l2': 2.3505241535128e-06}. Best is trial 8 with value: 1.993309350666311.\u001b[0m\n"
     ]
    },
    {
     "name": "stdout",
     "output_type": "stream",
     "text": [
      "[100]\tvalid_0's rmse: 2.06346\n",
      "[200]\tvalid_0's rmse: 2.04092\n",
      "[300]\tvalid_0's rmse: 2.03941\n",
      "[400]\tvalid_0's rmse: 2.04861\n",
      "[500]\tvalid_0's rmse: 2.03428\n",
      "[600]\tvalid_0's rmse: 2.04149\n",
      "[700]\tvalid_0's rmse: 2.04544\n",
      "[800]\tvalid_0's rmse: 2.03773\n",
      "[900]\tvalid_0's rmse: 2.04013\n",
      "[1000]\tvalid_0's rmse: 2.04106\n",
      "Early stopping, best iteration is:\n",
      "[556]\tvalid_0's rmse: 2.03259\n",
      "valid_score:  RMSE = 2.0325936239013163\n",
      "Training until validation scores don't improve for 500 rounds\n",
      "[100]\tvalid_0's rmse: 2.01406\n",
      "[200]\tvalid_0's rmse: 2.01775\n",
      "[300]\tvalid_0's rmse: 2.01889\n",
      "[400]\tvalid_0's rmse: 2.04236\n",
      "[500]\tvalid_0's rmse: 2.04273\n",
      "[600]\tvalid_0's rmse: 2.06287\n",
      "[700]\tvalid_0's rmse: 2.06287\n"
     ]
    },
    {
     "name": "stderr",
     "output_type": "stream",
     "text": [
      "\u001b[32m[I 2022-02-23 14:48:03,237]\u001b[0m Trial 16 finished with value: 2.000374967160186 and parameters: {'n_estimators': 5000, 'num_leaves': 6, 'boosting': 'gbdt', 'max_depth': 3, 'max_bin': 32, 'min_data_in_leaf': 1, 'min_data_in_bin': 1, 'min_gain_to_split': 4.279999999999999, 'learning_rate': 0.07250282191660919, 'random_state': 0, 'feature_fraction': 0.9098872334677501, 'bagging_fraction': 0.45890429288438617, 'bagging_freq': 8, 'lambda_l1': 0.00318065831974944, 'lambda_l2': 2.874351991013612e-07}. Best is trial 8 with value: 1.993309350666311.\u001b[0m\n"
     ]
    },
    {
     "name": "stdout",
     "output_type": "stream",
     "text": [
      "Early stopping, best iteration is:\n",
      "[241]\tvalid_0's rmse: 2.00037\n",
      "valid_score:  RMSE = 2.000374967160186\n",
      "Training until validation scores don't improve for 500 rounds\n",
      "[100]\tvalid_0's rmse: 2.04171\n",
      "[200]\tvalid_0's rmse: 2.04044\n",
      "[300]\tvalid_0's rmse: 2.07341\n",
      "[400]\tvalid_0's rmse: 2.07873\n"
     ]
    },
    {
     "name": "stderr",
     "output_type": "stream",
     "text": [
      "\u001b[32m[I 2022-02-23 14:48:03,486]\u001b[0m Trial 17 finished with value: 2.0304534007545176 and parameters: {'n_estimators': 10000, 'num_leaves': 3, 'boosting': 'gbdt', 'max_depth': 14, 'max_bin': 32, 'min_data_in_leaf': 1, 'min_data_in_bin': 1, 'min_gain_to_split': 1.4000000000000001, 'learning_rate': 0.17728305081220266, 'random_state': 0, 'feature_fraction': 0.5598770694697979, 'bagging_fraction': 0.4876718921954251, 'bagging_freq': 8, 'lambda_l1': 0.0389264567226136, 'lambda_l2': 0.00035418518399937403}. Best is trial 8 with value: 1.993309350666311.\u001b[0m\n"
     ]
    },
    {
     "name": "stdout",
     "output_type": "stream",
     "text": [
      "[500]\tvalid_0's rmse: 2.10023\n",
      "Early stopping, best iteration is:\n",
      "[83]\tvalid_0's rmse: 2.03045\n",
      "valid_score:  RMSE = 2.0304534007545176\n",
      "Training until validation scores don't improve for 500 rounds\n",
      "[100]\tvalid_0's rmse: 2.1462\n",
      "[200]\tvalid_0's rmse: 2.1462\n",
      "[300]\tvalid_0's rmse: 2.1462\n",
      "[400]\tvalid_0's rmse: 2.1462\n"
     ]
    },
    {
     "name": "stderr",
     "output_type": "stream",
     "text": [
      "\u001b[32m[I 2022-02-23 14:48:03,699]\u001b[0m Trial 18 finished with value: 2.074985246610483 and parameters: {'n_estimators': 10000, 'num_leaves': 15, 'boosting': 'gbdt', 'max_depth': 9, 'max_bin': 32, 'min_data_in_leaf': 1, 'min_data_in_bin': 1, 'min_gain_to_split': 2.25, 'learning_rate': 0.2890731672717908, 'random_state': 0, 'feature_fraction': 0.8182759794566308, 'bagging_fraction': 0.5326044974446119, 'bagging_freq': 7, 'lambda_l1': 2.337170341332832e-08, 'lambda_l2': 0.06369092298339529}. Best is trial 8 with value: 1.993309350666311.\u001b[0m\n"
     ]
    },
    {
     "name": "stdout",
     "output_type": "stream",
     "text": [
      "[500]\tvalid_0's rmse: 2.1462\n",
      "Early stopping, best iteration is:\n",
      "[13]\tvalid_0's rmse: 2.07499\n",
      "valid_score:  RMSE = 2.074985246610483\n",
      "Training until validation scores don't improve for 500 rounds\n",
      "[100]\tvalid_0's rmse: 2.11758\n",
      "[200]\tvalid_0's rmse: 2.06487\n",
      "[300]\tvalid_0's rmse: 2.05133\n",
      "[400]\tvalid_0's rmse: 2.04977\n",
      "[500]\tvalid_0's rmse: 2.04862\n",
      "[600]\tvalid_0's rmse: 2.04862\n"
     ]
    },
    {
     "name": "stderr",
     "output_type": "stream",
     "text": [
      "\u001b[32m[I 2022-02-23 14:48:03,983]\u001b[0m Trial 19 finished with value: 2.046707958757885 and parameters: {'n_estimators': 10000, 'num_leaves': 2, 'boosting': 'gbdt', 'max_depth': 9, 'max_bin': 32, 'min_data_in_leaf': 1, 'min_data_in_bin': 1, 'min_gain_to_split': 3.98, 'learning_rate': 0.09063953924162284, 'random_state': 0, 'feature_fraction': 0.4863039017118763, 'bagging_fraction': 0.9657422661263528, 'bagging_freq': 4, 'lambda_l1': 1.5081378684518383e-05, 'lambda_l2': 0.004021807233888658}. Best is trial 8 with value: 1.993309350666311.\u001b[0m\n"
     ]
    },
    {
     "name": "stdout",
     "output_type": "stream",
     "text": [
      "[700]\tvalid_0's rmse: 2.04862\n",
      "[800]\tvalid_0's rmse: 2.04862\n",
      "Early stopping, best iteration is:\n",
      "[380]\tvalid_0's rmse: 2.04671\n",
      "valid_score:  RMSE = 2.046707958757885\n",
      "Training until validation scores don't improve for 500 rounds\n",
      "[100]\tvalid_0's rmse: 2.06837\n",
      "[200]\tvalid_0's rmse: 2.02102\n",
      "[300]\tvalid_0's rmse: 2.00435\n",
      "[400]\tvalid_0's rmse: 2.00318\n",
      "[500]\tvalid_0's rmse: 1.99657\n",
      "[600]\tvalid_0's rmse: 1.99615\n",
      "[700]\tvalid_0's rmse: 1.99469\n",
      "[800]\tvalid_0's rmse: 1.99944\n",
      "[900]\tvalid_0's rmse: 1.99974\n",
      "[1000]\tvalid_0's rmse: 1.99974\n",
      "[1100]\tvalid_0's rmse: 1.99974\n"
     ]
    },
    {
     "name": "stderr",
     "output_type": "stream",
     "text": [
      "\u001b[32m[I 2022-02-23 14:48:04,361]\u001b[0m Trial 20 finished with value: 1.9940414450243225 and parameters: {'n_estimators': 10000, 'num_leaves': 8, 'boosting': 'gbdt', 'max_depth': 2, 'max_bin': 32, 'min_data_in_leaf': 1, 'min_data_in_bin': 1, 'min_gain_to_split': 1.58, 'learning_rate': 0.050998537260866054, 'random_state': 0, 'feature_fraction': 0.6368450725362187, 'bagging_fraction': 0.899979564232069, 'bagging_freq': 2, 'lambda_l1': 1.663893287115544e-06, 'lambda_l2': 0.1375479449274753}. Best is trial 8 with value: 1.993309350666311.\u001b[0m\n"
     ]
    },
    {
     "name": "stdout",
     "output_type": "stream",
     "text": [
      "Early stopping, best iteration is:\n",
      "[674]\tvalid_0's rmse: 1.9937\n",
      "valid_score:  RMSE = 1.9940414450243225\n",
      "Training until validation scores don't improve for 500 rounds\n",
      "[100]\tvalid_0's rmse: 2.03768\n",
      "[200]\tvalid_0's rmse: 2.0715\n",
      "[300]\tvalid_0's rmse: 2.07784\n",
      "[400]\tvalid_0's rmse: 2.09398\n"
     ]
    },
    {
     "name": "stderr",
     "output_type": "stream",
     "text": [
      "\u001b[32m[I 2022-02-23 14:48:04,602]\u001b[0m Trial 21 finished with value: 2.0327636331189773 and parameters: {'n_estimators': 10000, 'num_leaves': 9, 'boosting': 'gbdt', 'max_depth': 13, 'max_bin': 32, 'min_data_in_leaf': 1, 'min_data_in_bin': 1, 'min_gain_to_split': 2.3600000000000003, 'learning_rate': 0.07691375305781095, 'random_state': 0, 'feature_fraction': 0.9899934988045707, 'bagging_fraction': 0.673448241332552, 'bagging_freq': 3, 'lambda_l1': 0.15617396001709757, 'lambda_l2': 1.6820177020205743e-05}. Best is trial 8 with value: 1.993309350666311.\u001b[0m\n"
     ]
    },
    {
     "name": "stdout",
     "output_type": "stream",
     "text": [
      "[500]\tvalid_0's rmse: 2.09301\n",
      "Early stopping, best iteration is:\n",
      "[94]\tvalid_0's rmse: 2.03276\n",
      "valid_score:  RMSE = 2.0327636331189773\n",
      "Training until validation scores don't improve for 500 rounds\n",
      "[100]\tvalid_0's rmse: 2.07263\n",
      "[200]\tvalid_0's rmse: 2.06133\n",
      "[300]\tvalid_0's rmse: 2.0534\n",
      "[400]\tvalid_0's rmse: 2.04293\n",
      "[500]\tvalid_0's rmse: 2.03509\n",
      "[600]\tvalid_0's rmse: 2.04274\n"
     ]
    },
    {
     "name": "stderr",
     "output_type": "stream",
     "text": [
      "\u001b[32m[I 2022-02-23 14:48:05,123]\u001b[0m Trial 22 finished with value: 2.0308206257924293 and parameters: {'n_estimators': 10000, 'num_leaves': 14, 'boosting': 'gbdt', 'max_depth': 12, 'max_bin': 32, 'min_data_in_leaf': 1, 'min_data_in_bin': 1, 'min_gain_to_split': 0.73, 'learning_rate': 0.03243552387438717, 'random_state': 0, 'feature_fraction': 0.8768701303046216, 'bagging_fraction': 0.41909754936438115, 'bagging_freq': 2, 'lambda_l1': 0.009714578211421042, 'lambda_l2': 0.04033315318169877}. Best is trial 8 with value: 1.993309350666311.\u001b[0m\n"
     ]
    },
    {
     "name": "stdout",
     "output_type": "stream",
     "text": [
      "[700]\tvalid_0's rmse: 2.05307\n",
      "[800]\tvalid_0's rmse: 2.05567\n",
      "[900]\tvalid_0's rmse: 2.06111\n",
      "Early stopping, best iteration is:\n",
      "[482]\tvalid_0's rmse: 2.03082\n",
      "valid_score:  RMSE = 2.0308206257924293\n",
      "Training until validation scores don't improve for 500 rounds\n",
      "[100]\tvalid_0's rmse: 2.0617\n",
      "[200]\tvalid_0's rmse: 2.04242\n"
     ]
    },
    {
     "name": "stderr",
     "output_type": "stream",
     "text": [
      "\u001b[32m[I 2022-02-23 14:48:05,352]\u001b[0m Trial 23 finished with value: 2.039883941599368 and parameters: {'n_estimators': 5000, 'num_leaves': 2, 'boosting': 'gbdt', 'max_depth': 13, 'max_bin': 32, 'min_data_in_leaf': 1, 'min_data_in_bin': 1, 'min_gain_to_split': 2.41, 'learning_rate': 0.221499618519958, 'random_state': 0, 'feature_fraction': 0.867736552992667, 'bagging_fraction': 0.9496482579524054, 'bagging_freq': 8, 'lambda_l1': 1.305542409872331e-08, 'lambda_l2': 0.031630402076245255}. Best is trial 8 with value: 1.993309350666311.\u001b[0m\n"
     ]
    },
    {
     "name": "stdout",
     "output_type": "stream",
     "text": [
      "[300]\tvalid_0's rmse: 2.04964\n",
      "[400]\tvalid_0's rmse: 2.0494\n",
      "[500]\tvalid_0's rmse: 2.0494\n",
      "[600]\tvalid_0's rmse: 2.0494\n",
      "[700]\tvalid_0's rmse: 2.0494\n",
      "Early stopping, best iteration is:\n",
      "[228]\tvalid_0's rmse: 2.03988\n",
      "valid_score:  RMSE = 2.039883941599368\n",
      "Training until validation scores don't improve for 500 rounds\n"
     ]
    },
    {
     "name": "stderr",
     "output_type": "stream",
     "text": [
      "\u001b[32m[I 2022-02-23 14:48:05,611]\u001b[0m Trial 24 finished with value: 2.037549639825166 and parameters: {'n_estimators': 10000, 'num_leaves': 15, 'boosting': 'gbdt', 'max_depth': 10, 'max_bin': 32, 'min_data_in_leaf': 1, 'min_data_in_bin': 1, 'min_gain_to_split': 4.34, 'learning_rate': 0.08883139753832545, 'random_state': 0, 'feature_fraction': 0.9885347137570476, 'bagging_fraction': 0.75766532504787, 'bagging_freq': 2, 'lambda_l1': 0.006108308717553203, 'lambda_l2': 1.4166634952051579e-05}. Best is trial 8 with value: 1.993309350666311.\u001b[0m\n"
     ]
    },
    {
     "name": "stdout",
     "output_type": "stream",
     "text": [
      "[100]\tvalid_0's rmse: 2.04885\n",
      "[200]\tvalid_0's rmse: 2.04885\n",
      "[300]\tvalid_0's rmse: 2.04885\n",
      "[400]\tvalid_0's rmse: 2.04885\n",
      "[500]\tvalid_0's rmse: 2.04885\n",
      "Early stopping, best iteration is:\n",
      "[70]\tvalid_0's rmse: 2.03755\n",
      "valid_score:  RMSE = 2.037549639825166\n",
      "Training until validation scores don't improve for 500 rounds\n"
     ]
    },
    {
     "name": "stderr",
     "output_type": "stream",
     "text": [
      "\u001b[32m[I 2022-02-23 14:48:05,864]\u001b[0m Trial 25 finished with value: 2.0308173204506175 and parameters: {'n_estimators': 10000, 'num_leaves': 5, 'boosting': 'gbdt', 'max_depth': 2, 'max_bin': 32, 'min_data_in_leaf': 1, 'min_data_in_bin': 1, 'min_gain_to_split': 4.41, 'learning_rate': 0.2399842870056366, 'random_state': 0, 'feature_fraction': 0.7631045027383062, 'bagging_fraction': 0.7941149137533589, 'bagging_freq': 5, 'lambda_l1': 1.8653673450966827e-08, 'lambda_l2': 0.9959525263287627}. Best is trial 8 with value: 1.993309350666311.\u001b[0m\n"
     ]
    },
    {
     "name": "stdout",
     "output_type": "stream",
     "text": [
      "[100]\tvalid_0's rmse: 2.04353\n",
      "[200]\tvalid_0's rmse: 2.04353\n",
      "[300]\tvalid_0's rmse: 2.04353\n",
      "[400]\tvalid_0's rmse: 2.04353\n",
      "[500]\tvalid_0's rmse: 2.04353\n",
      "Early stopping, best iteration is:\n",
      "[68]\tvalid_0's rmse: 2.03082\n",
      "valid_score:  RMSE = 2.0308173204506175\n",
      "Training until validation scores don't improve for 500 rounds\n",
      "[100]\tvalid_0's rmse: 2.05006\n",
      "[200]\tvalid_0's rmse: 2.0641\n"
     ]
    },
    {
     "name": "stderr",
     "output_type": "stream",
     "text": [
      "\u001b[32m[I 2022-02-23 14:48:06,350]\u001b[0m Trial 26 finished with value: 2.0276401927772563 and parameters: {'n_estimators': 10000, 'num_leaves': 9, 'boosting': 'gbdt', 'max_depth': 13, 'max_bin': 32, 'min_data_in_leaf': 1, 'min_data_in_bin': 1, 'min_gain_to_split': 2.52, 'learning_rate': 0.08990655907498538, 'random_state': 0, 'feature_fraction': 0.9121476764861451, 'bagging_fraction': 0.5755553957901364, 'bagging_freq': 8, 'lambda_l1': 0.00028890939548668583, 'lambda_l2': 6.400372531170488e-05}. Best is trial 8 with value: 1.993309350666311.\u001b[0m\n"
     ]
    },
    {
     "name": "stdout",
     "output_type": "stream",
     "text": [
      "[300]\tvalid_0's rmse: 2.10023\n",
      "[400]\tvalid_0's rmse: 2.1202\n",
      "[500]\tvalid_0's rmse: 2.1202\n",
      "Early stopping, best iteration is:\n",
      "[54]\tvalid_0's rmse: 2.02764\n",
      "valid_score:  RMSE = 2.0276401927772563\n",
      "Training until validation scores don't improve for 500 rounds\n"
     ]
    },
    {
     "name": "stderr",
     "output_type": "stream",
     "text": [
      "\u001b[32m[I 2022-02-23 14:48:06,621]\u001b[0m Trial 27 finished with value: 2.0638533012059086 and parameters: {'n_estimators': 5000, 'num_leaves': 6, 'boosting': 'gbdt', 'max_depth': 13, 'max_bin': 32, 'min_data_in_leaf': 1, 'min_data_in_bin': 1, 'min_gain_to_split': 3.6, 'learning_rate': 0.23225520245547052, 'random_state': 0, 'feature_fraction': 0.6638955904883638, 'bagging_fraction': 0.7711865543434947, 'bagging_freq': 2, 'lambda_l1': 2.8902372115379518e-06, 'lambda_l2': 0.0012839952515612157}. Best is trial 8 with value: 1.993309350666311.\u001b[0m\n"
     ]
    },
    {
     "name": "stdout",
     "output_type": "stream",
     "text": [
      "[100]\tvalid_0's rmse: 2.09969\n",
      "[200]\tvalid_0's rmse: 2.10526\n",
      "[300]\tvalid_0's rmse: 2.10526\n",
      "[400]\tvalid_0's rmse: 2.10526\n",
      "[500]\tvalid_0's rmse: 2.10526\n",
      "Early stopping, best iteration is:\n",
      "[25]\tvalid_0's rmse: 2.06385\n",
      "valid_score:  RMSE = 2.0638533012059086\n",
      "Training until validation scores don't improve for 500 rounds\n",
      "[100]\tvalid_0's rmse: 2.03078\n"
     ]
    },
    {
     "name": "stderr",
     "output_type": "stream",
     "text": [
      "\u001b[32m[I 2022-02-23 14:48:07,063]\u001b[0m Trial 28 finished with value: 2.016467906093809 and parameters: {'n_estimators': 5000, 'num_leaves': 7, 'boosting': 'gbdt', 'max_depth': 8, 'max_bin': 32, 'min_data_in_leaf': 1, 'min_data_in_bin': 1, 'min_gain_to_split': 1.6800000000000002, 'learning_rate': 0.087478635065438, 'random_state': 0, 'feature_fraction': 0.82951122071998, 'bagging_fraction': 0.9697161632941229, 'bagging_freq': 3, 'lambda_l1': 3.8268550708379615e-08, 'lambda_l2': 1.5638525761312958e-07}. Best is trial 8 with value: 1.993309350666311.\u001b[0m\n"
     ]
    },
    {
     "name": "stdout",
     "output_type": "stream",
     "text": [
      "[200]\tvalid_0's rmse: 2.01818\n",
      "[300]\tvalid_0's rmse: 2.01828\n",
      "[400]\tvalid_0's rmse: 2.01828\n",
      "[500]\tvalid_0's rmse: 2.01828\n",
      "[600]\tvalid_0's rmse: 2.01828\n",
      "Early stopping, best iteration is:\n",
      "[191]\tvalid_0's rmse: 2.01647\n",
      "valid_score:  RMSE = 2.016467906093809\n",
      "Training until validation scores don't improve for 500 rounds\n",
      "[100]\tvalid_0's rmse: 2.21933\n"
     ]
    },
    {
     "name": "stderr",
     "output_type": "stream",
     "text": [
      "\u001b[32m[I 2022-02-23 14:48:07,452]\u001b[0m Trial 29 finished with value: 2.105922795319896 and parameters: {'n_estimators': 10000, 'num_leaves': 12, 'boosting': 'gbdt', 'max_depth': 16, 'max_bin': 32, 'min_data_in_leaf': 1, 'min_data_in_bin': 1, 'min_gain_to_split': 0.32, 'learning_rate': 0.2480629132269647, 'random_state': 0, 'feature_fraction': 0.4563962572329608, 'bagging_fraction': 0.5190645250578563, 'bagging_freq': 7, 'lambda_l1': 4.771948234423612e-06, 'lambda_l2': 0.0012623226563950353}. Best is trial 8 with value: 1.993309350666311.\u001b[0m\n"
     ]
    },
    {
     "name": "stdout",
     "output_type": "stream",
     "text": [
      "[200]\tvalid_0's rmse: 2.24498\n",
      "[300]\tvalid_0's rmse: 2.28295\n",
      "[400]\tvalid_0's rmse: 2.30468\n",
      "[500]\tvalid_0's rmse: 2.31696\n",
      "Early stopping, best iteration is:\n",
      "[16]\tvalid_0's rmse: 2.10592\n",
      "valid_score:  RMSE = 2.105922795319896\n",
      "Training until validation scores don't improve for 500 rounds\n",
      "[100]\tvalid_0's rmse: 2.07232\n"
     ]
    },
    {
     "name": "stderr",
     "output_type": "stream",
     "text": [
      "\u001b[32m[I 2022-02-23 14:48:07,714]\u001b[0m Trial 30 finished with value: 1.9862723420924664 and parameters: {'n_estimators': 10000, 'num_leaves': 3, 'boosting': 'gbdt', 'max_depth': 10, 'max_bin': 32, 'min_data_in_leaf': 1, 'min_data_in_bin': 1, 'min_gain_to_split': 0.94, 'learning_rate': 0.07588641832056202, 'random_state': 0, 'feature_fraction': 0.6292130345510202, 'bagging_fraction': 0.9468497329114249, 'bagging_freq': 7, 'lambda_l1': 2.8542543000107037e-06, 'lambda_l2': 0.8363458322014372}. Best is trial 30 with value: 1.9862723420924664.\u001b[0m\n"
     ]
    },
    {
     "name": "stdout",
     "output_type": "stream",
     "text": [
      "[200]\tvalid_0's rmse: 2.01842\n",
      "[300]\tvalid_0's rmse: 2.00521\n",
      "[400]\tvalid_0's rmse: 2.00082\n",
      "[500]\tvalid_0's rmse: 1.99273\n",
      "[600]\tvalid_0's rmse: 1.98962\n",
      "[700]\tvalid_0's rmse: 1.99336\n",
      "[800]\tvalid_0's rmse: 1.99413\n",
      "[900]\tvalid_0's rmse: 1.99463\n",
      "[1000]\tvalid_0's rmse: 1.99715\n",
      "[1100]\tvalid_0's rmse: 1.99331\n",
      "Early stopping, best iteration is:\n",
      "[627]\tvalid_0's rmse: 1.98627\n",
      "valid_score:  RMSE = 1.9862723420924664\n",
      "Training until validation scores don't improve for 500 rounds\n",
      "[100]\tvalid_0's rmse: 2.12601\n",
      "[200]\tvalid_0's rmse: 2.14824\n"
     ]
    },
    {
     "name": "stderr",
     "output_type": "stream",
     "text": [
      "\u001b[32m[I 2022-02-23 14:48:08,043]\u001b[0m Trial 31 finished with value: 2.058341901115998 and parameters: {'n_estimators': 5000, 'num_leaves': 10, 'boosting': 'gbdt', 'max_depth': 7, 'max_bin': 32, 'min_data_in_leaf': 1, 'min_data_in_bin': 1, 'min_gain_to_split': 1.6800000000000002, 'learning_rate': 0.1702673400770038, 'random_state': 0, 'feature_fraction': 0.7214365828230714, 'bagging_fraction': 0.5688178085145557, 'bagging_freq': 7, 'lambda_l1': 0.0034841624159270995, 'lambda_l2': 3.3712619712329197e-07}. Best is trial 30 with value: 1.9862723420924664.\u001b[0m\n"
     ]
    },
    {
     "name": "stdout",
     "output_type": "stream",
     "text": [
      "[300]\tvalid_0's rmse: 2.17369\n",
      "[400]\tvalid_0's rmse: 2.17369\n",
      "[500]\tvalid_0's rmse: 2.17369\n",
      "Early stopping, best iteration is:\n",
      "[33]\tvalid_0's rmse: 2.05834\n",
      "valid_score:  RMSE = 2.058341901115998\n",
      "Training until validation scores don't improve for 500 rounds\n",
      "[100]\tvalid_0's rmse: 2.11265\n"
     ]
    },
    {
     "name": "stderr",
     "output_type": "stream",
     "text": [
      "\u001b[32m[I 2022-02-23 14:48:08,375]\u001b[0m Trial 32 finished with value: 2.0728418706415175 and parameters: {'n_estimators': 10000, 'num_leaves': 11, 'boosting': 'gbdt', 'max_depth': 13, 'max_bin': 32, 'min_data_in_leaf': 1, 'min_data_in_bin': 1, 'min_gain_to_split': 3.29, 'learning_rate': 0.2029295121917582, 'random_state': 0, 'feature_fraction': 0.5763410128906503, 'bagging_fraction': 0.46986317316608317, 'bagging_freq': 1, 'lambda_l1': 8.575782750212377e-08, 'lambda_l2': 5.934534287772137e-06}. Best is trial 30 with value: 1.9862723420924664.\u001b[0m\n"
     ]
    },
    {
     "name": "stdout",
     "output_type": "stream",
     "text": [
      "[200]\tvalid_0's rmse: 2.12337\n",
      "[300]\tvalid_0's rmse: 2.13068\n",
      "[400]\tvalid_0's rmse: 2.11338\n",
      "[500]\tvalid_0's rmse: 2.11338\n",
      "Early stopping, best iteration is:\n",
      "[31]\tvalid_0's rmse: 2.07284\n",
      "valid_score:  RMSE = 2.0728418706415175\n",
      "Training until validation scores don't improve for 500 rounds\n",
      "[100]\tvalid_0's rmse: 2.00851\n",
      "[200]\tvalid_0's rmse: 1.98875\n",
      "[300]\tvalid_0's rmse: 1.98875\n",
      "[400]\tvalid_0's rmse: 1.98875\n",
      "[500]\tvalid_0's rmse: 1.98875\n"
     ]
    },
    {
     "name": "stderr",
     "output_type": "stream",
     "text": [
      "\u001b[32m[I 2022-02-23 14:48:08,645]\u001b[0m Trial 33 finished with value: 1.9887547712231293 and parameters: {'n_estimators': 5000, 'num_leaves': 8, 'boosting': 'gbdt', 'max_depth': 6, 'max_bin': 32, 'min_data_in_leaf': 1, 'min_data_in_bin': 1, 'min_gain_to_split': 3.6300000000000003, 'learning_rate': 0.0829331265357215, 'random_state': 0, 'feature_fraction': 0.7470927320076453, 'bagging_fraction': 0.815385117476088, 'bagging_freq': 2, 'lambda_l1': 0.0002536983915065087, 'lambda_l2': 0.5936398058663981}. Best is trial 30 with value: 1.9862723420924664.\u001b[0m\n"
     ]
    },
    {
     "name": "stdout",
     "output_type": "stream",
     "text": [
      "[600]\tvalid_0's rmse: 1.98875\n",
      "Early stopping, best iteration is:\n",
      "[173]\tvalid_0's rmse: 1.98875\n",
      "valid_score:  RMSE = 1.9887547712231293\n",
      "Training until validation scores don't improve for 500 rounds\n",
      "[100]\tvalid_0's rmse: 2.02153\n",
      "[200]\tvalid_0's rmse: 2.01436\n",
      "[300]\tvalid_0's rmse: 2.01436\n",
      "[400]\tvalid_0's rmse: 2.01436\n",
      "[500]\tvalid_0's rmse: 2.01436\n",
      "[600]\tvalid_0's rmse: 2.01436\n"
     ]
    },
    {
     "name": "stderr",
     "output_type": "stream",
     "text": [
      "\u001b[32m[I 2022-02-23 14:48:09,059]\u001b[0m Trial 34 finished with value: 2.0105931027022335 and parameters: {'n_estimators': 5000, 'num_leaves': 15, 'boosting': 'gbdt', 'max_depth': 4, 'max_bin': 32, 'min_data_in_leaf': 1, 'min_data_in_bin': 1, 'min_gain_to_split': 2.0, 'learning_rate': 0.08933373581264711, 'random_state': 0, 'feature_fraction': 0.7016790607326417, 'bagging_fraction': 0.7993975702631543, 'bagging_freq': 2, 'lambda_l1': 0.00012072806884379953, 'lambda_l2': 0.0011573168640531667}. Best is trial 30 with value: 1.9862723420924664.\u001b[0m\n"
     ]
    },
    {
     "name": "stdout",
     "output_type": "stream",
     "text": [
      "Early stopping, best iteration is:\n",
      "[160]\tvalid_0's rmse: 2.01059\n",
      "valid_score:  RMSE = 2.0105931027022335\n",
      "Training until validation scores don't improve for 500 rounds\n",
      "[100]\tvalid_0's rmse: 2.04315\n"
     ]
    },
    {
     "name": "stderr",
     "output_type": "stream",
     "text": [
      "\u001b[32m[I 2022-02-23 14:48:09,414]\u001b[0m Trial 35 finished with value: 2.0047601934139556 and parameters: {'n_estimators': 5000, 'num_leaves': 8, 'boosting': 'gbdt', 'max_depth': 16, 'max_bin': 32, 'min_data_in_leaf': 1, 'min_data_in_bin': 1, 'min_gain_to_split': 4.04, 'learning_rate': 0.04718018010370059, 'random_state': 0, 'feature_fraction': 0.932589658343511, 'bagging_fraction': 0.5937515358611594, 'bagging_freq': 5, 'lambda_l1': 1.8650609041721426e-08, 'lambda_l2': 1.810305885295717e-08}. Best is trial 30 with value: 1.9862723420924664.\u001b[0m\n"
     ]
    },
    {
     "name": "stdout",
     "output_type": "stream",
     "text": [
      "[200]\tvalid_0's rmse: 2.01928\n",
      "[300]\tvalid_0's rmse: 2.02591\n",
      "[400]\tvalid_0's rmse: 2.02742\n",
      "[500]\tvalid_0's rmse: 2.0275\n",
      "[600]\tvalid_0's rmse: 2.0275\n",
      "Early stopping, best iteration is:\n",
      "[154]\tvalid_0's rmse: 2.00476\n",
      "valid_score:  RMSE = 2.0047601934139556\n",
      "Training until validation scores don't improve for 500 rounds\n"
     ]
    },
    {
     "name": "stderr",
     "output_type": "stream",
     "text": [
      "\u001b[32m[I 2022-02-23 14:48:09,626]\u001b[0m Trial 36 finished with value: 2.029118731720111 and parameters: {'n_estimators': 10000, 'num_leaves': 13, 'boosting': 'gbdt', 'max_depth': 5, 'max_bin': 32, 'min_data_in_leaf': 1, 'min_data_in_bin': 1, 'min_gain_to_split': 4.95, 'learning_rate': 0.28102145072015433, 'random_state': 0, 'feature_fraction': 0.9971233079484252, 'bagging_fraction': 0.7947984621022142, 'bagging_freq': 4, 'lambda_l1': 0.2608381600797116, 'lambda_l2': 1.4609925232024053e-08}. Best is trial 30 with value: 1.9862723420924664.\u001b[0m\n"
     ]
    },
    {
     "name": "stdout",
     "output_type": "stream",
     "text": [
      "[100]\tvalid_0's rmse: 2.03149\n",
      "[200]\tvalid_0's rmse: 2.03149\n",
      "[300]\tvalid_0's rmse: 2.03149\n",
      "[400]\tvalid_0's rmse: 2.03149\n",
      "[500]\tvalid_0's rmse: 2.03149\n",
      "Early stopping, best iteration is:\n",
      "[30]\tvalid_0's rmse: 2.02912\n",
      "valid_score:  RMSE = 2.029118731720111\n",
      "Training until validation scores don't improve for 500 rounds\n"
     ]
    },
    {
     "name": "stderr",
     "output_type": "stream",
     "text": [
      "\u001b[32m[I 2022-02-23 14:48:09,936]\u001b[0m Trial 37 finished with value: 2.0681076275568517 and parameters: {'n_estimators': 10000, 'num_leaves': 10, 'boosting': 'gbdt', 'max_depth': 10, 'max_bin': 32, 'min_data_in_leaf': 1, 'min_data_in_bin': 1, 'min_gain_to_split': 4.55, 'learning_rate': 0.201659366406535, 'random_state': 0, 'feature_fraction': 0.7053234962229566, 'bagging_fraction': 0.505081209444505, 'bagging_freq': 3, 'lambda_l1': 0.1293456553109726, 'lambda_l2': 3.402127219690461e-08}. Best is trial 30 with value: 1.9862723420924664.\u001b[0m\n"
     ]
    },
    {
     "name": "stdout",
     "output_type": "stream",
     "text": [
      "[100]\tvalid_0's rmse: 2.10134\n",
      "[200]\tvalid_0's rmse: 2.10134\n",
      "[300]\tvalid_0's rmse: 2.10134\n",
      "[400]\tvalid_0's rmse: 2.10134\n",
      "[500]\tvalid_0's rmse: 2.10134\n",
      "Early stopping, best iteration is:\n",
      "[28]\tvalid_0's rmse: 2.06811\n",
      "valid_score:  RMSE = 2.0681076275568517\n",
      "Training until validation scores don't improve for 500 rounds\n",
      "[100]\tvalid_0's rmse: 2.11823\n",
      "[200]\tvalid_0's rmse: 2.15381\n",
      "[300]\tvalid_0's rmse: 2.18123\n"
     ]
    },
    {
     "name": "stderr",
     "output_type": "stream",
     "text": [
      "\u001b[32m[I 2022-02-23 14:48:10,559]\u001b[0m Trial 38 finished with value: 2.076217193243278 and parameters: {'n_estimators': 5000, 'num_leaves': 15, 'boosting': 'gbdt', 'max_depth': 14, 'max_bin': 32, 'min_data_in_leaf': 1, 'min_data_in_bin': 1, 'min_gain_to_split': 0.49, 'learning_rate': 0.1168902158414063, 'random_state': 0, 'feature_fraction': 0.7124376704748152, 'bagging_fraction': 0.6371982462368806, 'bagging_freq': 3, 'lambda_l1': 1.0014606143313556e-06, 'lambda_l2': 0.009495001223254123}. Best is trial 30 with value: 1.9862723420924664.\u001b[0m\n"
     ]
    },
    {
     "name": "stdout",
     "output_type": "stream",
     "text": [
      "[400]\tvalid_0's rmse: 2.18299\n",
      "[500]\tvalid_0's rmse: 2.19028\n",
      "Early stopping, best iteration is:\n",
      "[27]\tvalid_0's rmse: 2.07622\n",
      "valid_score:  RMSE = 2.076217193243278\n",
      "Training until validation scores don't improve for 500 rounds\n",
      "[100]\tvalid_0's rmse: 2.05908\n",
      "[200]\tvalid_0's rmse: 2.02364\n",
      "[300]\tvalid_0's rmse: 2.02082\n",
      "[400]\tvalid_0's rmse: 2.02302\n",
      "[500]\tvalid_0's rmse: 2.03087\n",
      "[600]\tvalid_0's rmse: 2.03749\n",
      "[700]\tvalid_0's rmse: 2.04252\n",
      "[800]\tvalid_0's rmse: 2.063\n",
      "[900]\tvalid_0's rmse: 2.06798\n"
     ]
    },
    {
     "name": "stderr",
     "output_type": "stream",
     "text": [
      "\u001b[32m[I 2022-02-23 14:48:11,736]\u001b[0m Trial 39 finished with value: 2.016380428655692 and parameters: {'n_estimators': 5000, 'num_leaves': 10, 'boosting': 'gbdt', 'max_depth': 13, 'max_bin': 32, 'min_data_in_leaf': 1, 'min_data_in_bin': 1, 'min_gain_to_split': 0.83, 'learning_rate': 0.03216318827519287, 'random_state': 0, 'feature_fraction': 0.8981586468090462, 'bagging_fraction': 0.6477872492240079, 'bagging_freq': 7, 'lambda_l1': 1.541134042650744e-06, 'lambda_l2': 9.175910320189737e-06}. Best is trial 30 with value: 1.9862723420924664.\u001b[0m\n"
     ]
    },
    {
     "name": "stdout",
     "output_type": "stream",
     "text": [
      "Early stopping, best iteration is:\n",
      "[425]\tvalid_0's rmse: 2.01638\n",
      "valid_score:  RMSE = 2.016380428655692\n",
      "Training until validation scores don't improve for 500 rounds\n",
      "[100]\tvalid_0's rmse: 2.06563\n",
      "[200]\tvalid_0's rmse: 2.03714\n",
      "[300]\tvalid_0's rmse: 2.05364\n",
      "[400]\tvalid_0's rmse: 2.06181\n"
     ]
    },
    {
     "name": "stderr",
     "output_type": "stream",
     "text": [
      "\u001b[32m[I 2022-02-23 14:48:12,305]\u001b[0m Trial 40 finished with value: 2.034806950450264 and parameters: {'n_estimators': 10000, 'num_leaves': 5, 'boosting': 'gbdt', 'max_depth': 14, 'max_bin': 32, 'min_data_in_leaf': 1, 'min_data_in_bin': 1, 'min_gain_to_split': 0.1, 'learning_rate': 0.07045277104705887, 'random_state': 0, 'feature_fraction': 0.6996187962467384, 'bagging_fraction': 0.7625636708717152, 'bagging_freq': 5, 'lambda_l1': 4.340140593070291e-06, 'lambda_l2': 1.2065135607454242e-06}. Best is trial 30 with value: 1.9862723420924664.\u001b[0m\n"
     ]
    },
    {
     "name": "stdout",
     "output_type": "stream",
     "text": [
      "[500]\tvalid_0's rmse: 2.07186\n",
      "[600]\tvalid_0's rmse: 2.07006\n",
      "[700]\tvalid_0's rmse: 2.06332\n",
      "Early stopping, best iteration is:\n",
      "[210]\tvalid_0's rmse: 2.03481\n",
      "valid_score:  RMSE = 2.034806950450264\n",
      "Training until validation scores don't improve for 500 rounds\n",
      "[100]\tvalid_0's rmse: 2.07926\n",
      "[200]\tvalid_0's rmse: 2.05086\n",
      "[300]\tvalid_0's rmse: 2.04933\n"
     ]
    },
    {
     "name": "stderr",
     "output_type": "stream",
     "text": [
      "\u001b[32m[I 2022-02-23 14:48:12,623]\u001b[0m Trial 41 finished with value: 2.0458814462779684 and parameters: {'n_estimators': 10000, 'num_leaves': 2, 'boosting': 'gbdt', 'max_depth': 8, 'max_bin': 32, 'min_data_in_leaf': 1, 'min_data_in_bin': 1, 'min_gain_to_split': 4.3, 'learning_rate': 0.13795011540545465, 'random_state': 0, 'feature_fraction': 0.6944610393484913, 'bagging_fraction': 0.9599938614910615, 'bagging_freq': 1, 'lambda_l1': 3.0953811584824235e-06, 'lambda_l2': 0.23925586244588287}. Best is trial 30 with value: 1.9862723420924664.\u001b[0m\n"
     ]
    },
    {
     "name": "stdout",
     "output_type": "stream",
     "text": [
      "[400]\tvalid_0's rmse: 2.04747\n",
      "[500]\tvalid_0's rmse: 2.04747\n",
      "[600]\tvalid_0's rmse: 2.04747\n",
      "[700]\tvalid_0's rmse: 2.04747\n",
      "Early stopping, best iteration is:\n",
      "[273]\tvalid_0's rmse: 2.04588\n",
      "valid_score:  RMSE = 2.0458814462779684\n"
     ]
    },
    {
     "name": "stderr",
     "output_type": "stream",
     "text": [
      "\u001b[32m[I 2022-02-23 14:48:12,857]\u001b[0m Trial 42 finished with value: 1.9984261647912245 and parameters: {'n_estimators': 10000, 'num_leaves': 5, 'boosting': 'gbdt', 'max_depth': 9, 'max_bin': 32, 'min_data_in_leaf': 1, 'min_data_in_bin': 1, 'min_gain_to_split': 2.77, 'learning_rate': 0.21954013724927468, 'random_state': 0, 'feature_fraction': 0.8758831588649316, 'bagging_fraction': 0.5859273387976273, 'bagging_freq': 2, 'lambda_l1': 1.2325374559120991e-06, 'lambda_l2': 0.012066750025158404}. Best is trial 30 with value: 1.9862723420924664.\u001b[0m\n"
     ]
    },
    {
     "name": "stdout",
     "output_type": "stream",
     "text": [
      "Training until validation scores don't improve for 500 rounds\n",
      "[100]\tvalid_0's rmse: 2.04224\n",
      "[200]\tvalid_0's rmse: 2.02803\n",
      "[300]\tvalid_0's rmse: 2.0724\n",
      "[400]\tvalid_0's rmse: 2.09408\n",
      "[500]\tvalid_0's rmse: 2.10035\n",
      "Early stopping, best iteration is:\n",
      "[61]\tvalid_0's rmse: 1.99843\n",
      "valid_score:  RMSE = 1.9984261647912245\n"
     ]
    },
    {
     "name": "stderr",
     "output_type": "stream",
     "text": [
      "\u001b[32m[I 2022-02-23 14:48:13,090]\u001b[0m Trial 43 finished with value: 2.0430434943656315 and parameters: {'n_estimators': 5000, 'num_leaves': 6, 'boosting': 'gbdt', 'max_depth': 12, 'max_bin': 32, 'min_data_in_leaf': 1, 'min_data_in_bin': 1, 'min_gain_to_split': 3.7, 'learning_rate': 0.21938584511368167, 'random_state': 0, 'feature_fraction': 0.7181804890549037, 'bagging_fraction': 0.5995698454724967, 'bagging_freq': 1, 'lambda_l1': 1.5871712507552162e-06, 'lambda_l2': 7.795896929311048e-06}. Best is trial 30 with value: 1.9862723420924664.\u001b[0m\n"
     ]
    },
    {
     "name": "stdout",
     "output_type": "stream",
     "text": [
      "Training until validation scores don't improve for 500 rounds\n",
      "[100]\tvalid_0's rmse: 2.10099\n",
      "[200]\tvalid_0's rmse: 2.15028\n",
      "[300]\tvalid_0's rmse: 2.14902\n",
      "[400]\tvalid_0's rmse: 2.14902\n",
      "[500]\tvalid_0's rmse: 2.14902\n",
      "Early stopping, best iteration is:\n",
      "[29]\tvalid_0's rmse: 2.04304\n",
      "valid_score:  RMSE = 2.0430434943656315\n",
      "Training until validation scores don't improve for 500 rounds\n",
      "[100]\tvalid_0's rmse: 2.09959\n",
      "[200]\tvalid_0's rmse: 2.12594\n",
      "[300]\tvalid_0's rmse: 2.16002\n",
      "[400]\tvalid_0's rmse: 2.19903\n"
     ]
    },
    {
     "name": "stderr",
     "output_type": "stream",
     "text": [
      "\u001b[32m[I 2022-02-23 14:48:13,392]\u001b[0m Trial 44 finished with value: 2.043126625049477 and parameters: {'n_estimators': 5000, 'num_leaves': 6, 'boosting': 'gbdt', 'max_depth': 11, 'max_bin': 32, 'min_data_in_leaf': 1, 'min_data_in_bin': 1, 'min_gain_to_split': 0.2, 'learning_rate': 0.1536014207407821, 'random_state': 0, 'feature_fraction': 0.6527584783401077, 'bagging_fraction': 0.4380199923672894, 'bagging_freq': 3, 'lambda_l1': 0.00016778578789100674, 'lambda_l2': 9.182585036694024e-07}. Best is trial 30 with value: 1.9862723420924664.\u001b[0m\n"
     ]
    },
    {
     "name": "stdout",
     "output_type": "stream",
     "text": [
      "[500]\tvalid_0's rmse: 2.2107\n",
      "Early stopping, best iteration is:\n",
      "[44]\tvalid_0's rmse: 2.04313\n",
      "valid_score:  RMSE = 2.043126625049477\n",
      "Training until validation scores don't improve for 500 rounds\n",
      "[100]\tvalid_0's rmse: 2.03401\n"
     ]
    },
    {
     "name": "stderr",
     "output_type": "stream",
     "text": [
      "\u001b[32m[I 2022-02-23 14:48:13,725]\u001b[0m Trial 45 finished with value: 2.0017968612942525 and parameters: {'n_estimators': 5000, 'num_leaves': 14, 'boosting': 'gbdt', 'max_depth': 12, 'max_bin': 32, 'min_data_in_leaf': 1, 'min_data_in_bin': 1, 'min_gain_to_split': 1.53, 'learning_rate': 0.12346721172264197, 'random_state': 0, 'feature_fraction': 0.4330321296897572, 'bagging_fraction': 0.7424680485638359, 'bagging_freq': 8, 'lambda_l1': 0.1714856805172495, 'lambda_l2': 0.3333390456003383}. Best is trial 30 with value: 1.9862723420924664.\u001b[0m\n"
     ]
    },
    {
     "name": "stdout",
     "output_type": "stream",
     "text": [
      "[200]\tvalid_0's rmse: 2.05798\n",
      "[300]\tvalid_0's rmse: 2.05798\n",
      "[400]\tvalid_0's rmse: 2.05798\n",
      "[500]\tvalid_0's rmse: 2.05798\n",
      "Early stopping, best iteration is:\n",
      "[55]\tvalid_0's rmse: 2.0018\n",
      "valid_score:  RMSE = 2.0017968612942525\n",
      "Training until validation scores don't improve for 500 rounds\n"
     ]
    },
    {
     "name": "stderr",
     "output_type": "stream",
     "text": [
      "\u001b[32m[I 2022-02-23 14:48:14,017]\u001b[0m Trial 46 finished with value: 2.0581284250145484 and parameters: {'n_estimators': 10000, 'num_leaves': 4, 'boosting': 'gbdt', 'max_depth': 14, 'max_bin': 32, 'min_data_in_leaf': 1, 'min_data_in_bin': 1, 'min_gain_to_split': 4.4399999999999995, 'learning_rate': 0.2835499424459611, 'random_state': 0, 'feature_fraction': 0.6190256009711774, 'bagging_fraction': 0.4272668216008785, 'bagging_freq': 3, 'lambda_l1': 1.6031283204313427e-05, 'lambda_l2': 9.065024431064713e-05}. Best is trial 30 with value: 1.9862723420924664.\u001b[0m\n"
     ]
    },
    {
     "name": "stdout",
     "output_type": "stream",
     "text": [
      "[100]\tvalid_0's rmse: 2.12156\n",
      "[200]\tvalid_0's rmse: 2.16066\n",
      "[300]\tvalid_0's rmse: 2.23947\n",
      "[400]\tvalid_0's rmse: 2.24818\n",
      "[500]\tvalid_0's rmse: 2.27349\n",
      "Early stopping, best iteration is:\n",
      "[65]\tvalid_0's rmse: 2.05813\n",
      "valid_score:  RMSE = 2.0581284250145484\n"
     ]
    },
    {
     "name": "stderr",
     "output_type": "stream",
     "text": [
      "\u001b[32m[I 2022-02-23 14:48:14,185]\u001b[0m Trial 47 finished with value: 2.025861902654142 and parameters: {'n_estimators': 10000, 'num_leaves': 3, 'boosting': 'gbdt', 'max_depth': 2, 'max_bin': 32, 'min_data_in_leaf': 1, 'min_data_in_bin': 1, 'min_gain_to_split': 2.6300000000000003, 'learning_rate': 0.20978347361615315, 'random_state': 0, 'feature_fraction': 0.7191107681151498, 'bagging_fraction': 0.5538716745291515, 'bagging_freq': 4, 'lambda_l1': 0.16444568462029038, 'lambda_l2': 4.246549171453438e-08}. Best is trial 30 with value: 1.9862723420924664.\u001b[0m\n"
     ]
    },
    {
     "name": "stdout",
     "output_type": "stream",
     "text": [
      "Training until validation scores don't improve for 500 rounds\n",
      "[100]\tvalid_0's rmse: 2.07386\n",
      "[200]\tvalid_0's rmse: 2.04499\n",
      "[300]\tvalid_0's rmse: 2.08296\n",
      "[400]\tvalid_0's rmse: 2.10705\n",
      "[500]\tvalid_0's rmse: 2.12628\n",
      "[600]\tvalid_0's rmse: 2.15948\n",
      "Early stopping, best iteration is:\n",
      "[174]\tvalid_0's rmse: 2.02586\n",
      "valid_score:  RMSE = 2.025861902654142\n",
      "Training until validation scores don't improve for 500 rounds\n",
      "[100]\tvalid_0's rmse: 2.02831\n",
      "[200]\tvalid_0's rmse: 2.021\n",
      "[300]\tvalid_0's rmse: 2.03589\n",
      "[400]\tvalid_0's rmse: 2.04644\n",
      "[500]\tvalid_0's rmse: 2.058\n",
      "[600]\tvalid_0's rmse: 2.05863\n"
     ]
    },
    {
     "name": "stderr",
     "output_type": "stream",
     "text": [
      "\u001b[32m[I 2022-02-23 14:48:14,541]\u001b[0m Trial 48 finished with value: 2.0179037314731083 and parameters: {'n_estimators': 10000, 'num_leaves': 14, 'boosting': 'gbdt', 'max_depth': 13, 'max_bin': 32, 'min_data_in_leaf': 1, 'min_data_in_bin': 1, 'min_gain_to_split': 1.6900000000000002, 'learning_rate': 0.03958521361905721, 'random_state': 0, 'feature_fraction': 0.6788303673375828, 'bagging_fraction': 0.6113073415022751, 'bagging_freq': 7, 'lambda_l1': 7.889874455597685e-06, 'lambda_l2': 1.0077623422400359e-08}. Best is trial 30 with value: 1.9862723420924664.\u001b[0m\n"
     ]
    },
    {
     "name": "stdout",
     "output_type": "stream",
     "text": [
      "Early stopping, best iteration is:\n",
      "[178]\tvalid_0's rmse: 2.0179\n",
      "valid_score:  RMSE = 2.0179037314731083\n",
      "Training until validation scores don't improve for 500 rounds\n",
      "[100]\tvalid_0's rmse: 2.05144\n",
      "[200]\tvalid_0's rmse: 2.05144\n",
      "[300]\tvalid_0's rmse: 2.05144\n",
      "[400]\tvalid_0's rmse: 2.05144\n"
     ]
    },
    {
     "name": "stderr",
     "output_type": "stream",
     "text": [
      "\u001b[32m[I 2022-02-23 14:48:14,777]\u001b[0m Trial 49 finished with value: 2.0395439001081166 and parameters: {'n_estimators': 10000, 'num_leaves': 16, 'boosting': 'gbdt', 'max_depth': 14, 'max_bin': 32, 'min_data_in_leaf': 1, 'min_data_in_bin': 1, 'min_gain_to_split': 2.39, 'learning_rate': 0.14398578478873056, 'random_state': 0, 'feature_fraction': 0.969405652213448, 'bagging_fraction': 0.9773400556668401, 'bagging_freq': 7, 'lambda_l1': 0.0295051900854624, 'lambda_l2': 1.1052642077200872e-07}. Best is trial 30 with value: 1.9862723420924664.\u001b[0m\n"
     ]
    },
    {
     "name": "stdout",
     "output_type": "stream",
     "text": [
      "[500]\tvalid_0's rmse: 2.05144\n",
      "Early stopping, best iteration is:\n",
      "[33]\tvalid_0's rmse: 2.03954\n",
      "valid_score:  RMSE = 2.0395439001081166\n",
      "Training until validation scores don't improve for 500 rounds\n",
      "[100]\tvalid_0's rmse: 2.07226\n",
      "[200]\tvalid_0's rmse: 2.00911\n"
     ]
    },
    {
     "name": "stderr",
     "output_type": "stream",
     "text": [
      "\u001b[32m[I 2022-02-23 14:48:15,190]\u001b[0m Trial 50 finished with value: 1.9879794727122058 and parameters: {'n_estimators': 10000, 'num_leaves': 11, 'boosting': 'gbdt', 'max_depth': 4, 'max_bin': 32, 'min_data_in_leaf': 1, 'min_data_in_bin': 1, 'min_gain_to_split': 1.4200000000000002, 'learning_rate': 0.02671516989025172, 'random_state': 0, 'feature_fraction': 0.4930157287427493, 'bagging_fraction': 0.6066745403309757, 'bagging_freq': 7, 'lambda_l1': 2.1821877923929628e-08, 'lambda_l2': 0.6198516775862124}. Best is trial 30 with value: 1.9862723420924664.\u001b[0m\n"
     ]
    },
    {
     "name": "stdout",
     "output_type": "stream",
     "text": [
      "[300]\tvalid_0's rmse: 2.00309\n",
      "[400]\tvalid_0's rmse: 1.98994\n",
      "[500]\tvalid_0's rmse: 2.00101\n",
      "[600]\tvalid_0's rmse: 2.00215\n",
      "[700]\tvalid_0's rmse: 2.00324\n",
      "[800]\tvalid_0's rmse: 2.00567\n",
      "Early stopping, best iteration is:\n",
      "[391]\tvalid_0's rmse: 1.98798\n",
      "valid_score:  RMSE = 1.9879794727122058\n",
      "Training until validation scores don't improve for 500 rounds\n",
      "[100]\tvalid_0's rmse: 2.05877\n",
      "[200]\tvalid_0's rmse: 2.05877\n",
      "[300]\tvalid_0's rmse: 2.05877\n",
      "[400]\tvalid_0's rmse: 2.05877\n"
     ]
    },
    {
     "name": "stderr",
     "output_type": "stream",
     "text": [
      "\u001b[32m[I 2022-02-23 14:48:15,474]\u001b[0m Trial 51 finished with value: 2.047484974620689 and parameters: {'n_estimators': 10000, 'num_leaves': 13, 'boosting': 'gbdt', 'max_depth': 15, 'max_bin': 32, 'min_data_in_leaf': 1, 'min_data_in_bin': 1, 'min_gain_to_split': 2.5300000000000002, 'learning_rate': 0.1886844775918876, 'random_state': 0, 'feature_fraction': 0.733233719528231, 'bagging_fraction': 0.8356877418916835, 'bagging_freq': 6, 'lambda_l1': 0.3525694772333697, 'lambda_l2': 1.8463746621141883e-07}. Best is trial 30 with value: 1.9862723420924664.\u001b[0m\n"
     ]
    },
    {
     "name": "stdout",
     "output_type": "stream",
     "text": [
      "[500]\tvalid_0's rmse: 2.05877\n",
      "Early stopping, best iteration is:\n",
      "[51]\tvalid_0's rmse: 2.04748\n",
      "valid_score:  RMSE = 2.047484974620689\n",
      "Training until validation scores don't improve for 500 rounds\n",
      "[100]\tvalid_0's rmse: 2.05826\n",
      "[200]\tvalid_0's rmse: 2.04351\n",
      "[300]\tvalid_0's rmse: 2.0852\n",
      "[400]\tvalid_0's rmse: 2.11233\n",
      "[500]\tvalid_0's rmse: 2.14573\n"
     ]
    },
    {
     "name": "stderr",
     "output_type": "stream",
     "text": [
      "\u001b[32m[I 2022-02-23 14:48:15,921]\u001b[0m Trial 52 finished with value: 2.0235831464308456 and parameters: {'n_estimators': 5000, 'num_leaves': 16, 'boosting': 'gbdt', 'max_depth': 4, 'max_bin': 32, 'min_data_in_leaf': 1, 'min_data_in_bin': 1, 'min_gain_to_split': 0.1, 'learning_rate': 0.09325871101207978, 'random_state': 0, 'feature_fraction': 0.7137677896848933, 'bagging_fraction': 0.5845865072825871, 'bagging_freq': 2, 'lambda_l1': 0.012449714153732418, 'lambda_l2': 0.07696221362287771}. Best is trial 30 with value: 1.9862723420924664.\u001b[0m\n",
      "\u001b[32m[I 2022-02-23 14:48:16,111]\u001b[0m Trial 53 finished with value: 2.0670701676330996 and parameters: {'n_estimators': 10000, 'num_leaves': 6, 'boosting': 'gbdt', 'max_depth': 6, 'max_bin': 32, 'min_data_in_leaf': 1, 'min_data_in_bin': 1, 'min_gain_to_split': 4.79, 'learning_rate': 0.23546357134332566, 'random_state': 0, 'feature_fraction': 0.7683515647707312, 'bagging_fraction': 0.5850799490430294, 'bagging_freq': 3, 'lambda_l1': 0.03981683622573732, 'lambda_l2': 1.303560984335665e-07}. Best is trial 30 with value: 1.9862723420924664.\u001b[0m\n"
     ]
    },
    {
     "name": "stdout",
     "output_type": "stream",
     "text": [
      "Early stopping, best iteration is:\n",
      "[62]\tvalid_0's rmse: 2.02358\n",
      "valid_score:  RMSE = 2.0235831464308456\n",
      "Training until validation scores don't improve for 500 rounds\n",
      "[100]\tvalid_0's rmse: 2.16772\n",
      "[200]\tvalid_0's rmse: 2.17319\n",
      "[300]\tvalid_0's rmse: 2.17319\n",
      "[400]\tvalid_0's rmse: 2.17319\n",
      "[500]\tvalid_0's rmse: 2.17319\n",
      "Early stopping, best iteration is:\n",
      "[24]\tvalid_0's rmse: 2.06707\n",
      "valid_score:  RMSE = 2.0670701676330996\n",
      "Training until validation scores don't improve for 500 rounds\n",
      "[100]\tvalid_0's rmse: 2.08637\n",
      "[200]\tvalid_0's rmse: 2.10182\n",
      "[300]\tvalid_0's rmse: 2.15484\n",
      "[400]\tvalid_0's rmse: 2.17505\n"
     ]
    },
    {
     "name": "stderr",
     "output_type": "stream",
     "text": [
      "\u001b[32m[I 2022-02-23 14:48:16,419]\u001b[0m Trial 54 finished with value: 2.021252317972284 and parameters: {'n_estimators': 10000, 'num_leaves': 6, 'boosting': 'gbdt', 'max_depth': 3, 'max_bin': 32, 'min_data_in_leaf': 1, 'min_data_in_bin': 1, 'min_gain_to_split': 1.4400000000000002, 'learning_rate': 0.26407444607788266, 'random_state': 0, 'feature_fraction': 0.49865352008980257, 'bagging_fraction': 0.6164529855244372, 'bagging_freq': 1, 'lambda_l1': 2.571957065229754e-05, 'lambda_l2': 0.00024680972301730224}. Best is trial 30 with value: 1.9862723420924664.\u001b[0m\n"
     ]
    },
    {
     "name": "stdout",
     "output_type": "stream",
     "text": [
      "[500]\tvalid_0's rmse: 2.20372\n",
      "Early stopping, best iteration is:\n",
      "[35]\tvalid_0's rmse: 2.02125\n",
      "valid_score:  RMSE = 2.021252317972284\n",
      "Training until validation scores don't improve for 500 rounds\n",
      "[100]\tvalid_0's rmse: 2.08061\n",
      "[200]\tvalid_0's rmse: 2.01358\n",
      "[300]\tvalid_0's rmse: 2.0042\n",
      "[400]\tvalid_0's rmse: 1.99832\n",
      "[500]\tvalid_0's rmse: 1.9976\n"
     ]
    },
    {
     "name": "stderr",
     "output_type": "stream",
     "text": [
      "\u001b[32m[I 2022-02-23 14:48:16,981]\u001b[0m Trial 55 finished with value: 1.9945143871854731 and parameters: {'n_estimators': 10000, 'num_leaves': 12, 'boosting': 'gbdt', 'max_depth': 6, 'max_bin': 32, 'min_data_in_leaf': 1, 'min_data_in_bin': 1, 'min_gain_to_split': 1.7400000000000002, 'learning_rate': 0.022414977020189734, 'random_state': 0, 'feature_fraction': 0.8108987884098502, 'bagging_fraction': 0.8095533139683437, 'bagging_freq': 8, 'lambda_l1': 0.00018462399889314734, 'lambda_l2': 0.6710758483667418}. Best is trial 30 with value: 1.9862723420924664.\u001b[0m\n"
     ]
    },
    {
     "name": "stdout",
     "output_type": "stream",
     "text": [
      "[600]\tvalid_0's rmse: 2.0038\n",
      "[700]\tvalid_0's rmse: 1.99645\n",
      "[800]\tvalid_0's rmse: 1.99687\n",
      "Early stopping, best iteration is:\n",
      "[346]\tvalid_0's rmse: 1.99451\n",
      "valid_score:  RMSE = 1.9945143871854731\n",
      "Training until validation scores don't improve for 500 rounds\n",
      "[100]\tvalid_0's rmse: 2.1355\n",
      "[200]\tvalid_0's rmse: 2.06662\n",
      "[300]\tvalid_0's rmse: 2.0586\n",
      "[400]\tvalid_0's rmse: 2.04402\n"
     ]
    },
    {
     "name": "stderr",
     "output_type": "stream",
     "text": [
      "\u001b[32m[I 2022-02-23 14:48:17,248]\u001b[0m Trial 56 finished with value: 2.026842066858374 and parameters: {'n_estimators': 10000, 'num_leaves': 2, 'boosting': 'gbdt', 'max_depth': 12, 'max_bin': 32, 'min_data_in_leaf': 1, 'min_data_in_bin': 1, 'min_gain_to_split': 3.25, 'learning_rate': 0.06971138669850294, 'random_state': 0, 'feature_fraction': 0.7082343519966393, 'bagging_fraction': 0.5520716574597826, 'bagging_freq': 6, 'lambda_l1': 1.6065198179954848e-07, 'lambda_l2': 0.0016718410527082701}. Best is trial 30 with value: 1.9862723420924664.\u001b[0m\n"
     ]
    },
    {
     "name": "stdout",
     "output_type": "stream",
     "text": [
      "[500]\tvalid_0's rmse: 2.03491\n",
      "[600]\tvalid_0's rmse: 2.03945\n",
      "[700]\tvalid_0's rmse: 2.04629\n",
      "[800]\tvalid_0's rmse: 2.03878\n",
      "[900]\tvalid_0's rmse: 2.03638\n",
      "[1000]\tvalid_0's rmse: 2.03078\n",
      "[1100]\tvalid_0's rmse: 2.04089\n",
      "[1200]\tvalid_0's rmse: 2.04691\n",
      "[1300]\tvalid_0's rmse: 2.03705\n",
      "[1400]\tvalid_0's rmse: 2.04761\n",
      "[1500]\tvalid_0's rmse: 2.03904\n",
      "Early stopping, best iteration is:\n",
      "[1025]\tvalid_0's rmse: 2.02684\n",
      "valid_score:  RMSE = 2.026842066858374\n",
      "Training until validation scores don't improve for 500 rounds\n",
      "[100]\tvalid_0's rmse: 2.05404\n",
      "[200]\tvalid_0's rmse: 2.05404\n",
      "[300]\tvalid_0's rmse: 2.05404\n",
      "[400]\tvalid_0's rmse: 2.05404\n",
      "[500]\tvalid_0's rmse: 2.05404\n"
     ]
    },
    {
     "name": "stderr",
     "output_type": "stream",
     "text": [
      "\u001b[32m[I 2022-02-23 14:48:17,524]\u001b[0m Trial 57 finished with value: 2.0535773162932363 and parameters: {'n_estimators': 5000, 'num_leaves': 6, 'boosting': 'gbdt', 'max_depth': 16, 'max_bin': 32, 'min_data_in_leaf': 1, 'min_data_in_bin': 1, 'min_gain_to_split': 4.84, 'learning_rate': 0.2859582931097074, 'random_state': 0, 'feature_fraction': 0.4505212581871494, 'bagging_fraction': 0.9731580675848217, 'bagging_freq': 4, 'lambda_l1': 0.01603474751650904, 'lambda_l2': 0.0035039796603452723}. Best is trial 30 with value: 1.9862723420924664.\u001b[0m\n"
     ]
    },
    {
     "name": "stdout",
     "output_type": "stream",
     "text": [
      "Early stopping, best iteration is:\n",
      "[36]\tvalid_0's rmse: 2.05358\n",
      "valid_score:  RMSE = 2.0535773162932363\n",
      "Training until validation scores don't improve for 500 rounds\n",
      "[100]\tvalid_0's rmse: 2.06169\n",
      "[200]\tvalid_0's rmse: 2.03196\n",
      "[300]\tvalid_0's rmse: 2.02779\n",
      "[400]\tvalid_0's rmse: 2.01297\n"
     ]
    },
    {
     "name": "stderr",
     "output_type": "stream",
     "text": [
      "\u001b[32m[I 2022-02-23 14:48:17,877]\u001b[0m Trial 58 finished with value: 2.012965905377836 and parameters: {'n_estimators': 10000, 'num_leaves': 4, 'boosting': 'gbdt', 'max_depth': 5, 'max_bin': 32, 'min_data_in_leaf': 1, 'min_data_in_bin': 1, 'min_gain_to_split': 2.06, 'learning_rate': 0.07500958244430327, 'random_state': 0, 'feature_fraction': 0.6745570058527888, 'bagging_fraction': 0.9643927611798954, 'bagging_freq': 4, 'lambda_l1': 0.000528851376141746, 'lambda_l2': 1.7182806776766024e-07}. Best is trial 30 with value: 1.9862723420924664.\u001b[0m\n"
     ]
    },
    {
     "name": "stdout",
     "output_type": "stream",
     "text": [
      "[500]\tvalid_0's rmse: 2.01297\n",
      "[600]\tvalid_0's rmse: 2.01297\n",
      "[700]\tvalid_0's rmse: 2.01297\n",
      "[800]\tvalid_0's rmse: 2.01297\n",
      "[900]\tvalid_0's rmse: 2.01297\n",
      "Early stopping, best iteration is:\n",
      "[400]\tvalid_0's rmse: 2.01297\n",
      "valid_score:  RMSE = 2.012965905377836\n",
      "Training until validation scores don't improve for 500 rounds\n"
     ]
    },
    {
     "name": "stderr",
     "output_type": "stream",
     "text": [
      "\u001b[32m[I 2022-02-23 14:48:18,114]\u001b[0m Trial 59 finished with value: 2.0590049204019616 and parameters: {'n_estimators': 5000, 'num_leaves': 13, 'boosting': 'gbdt', 'max_depth': 15, 'max_bin': 32, 'min_data_in_leaf': 1, 'min_data_in_bin': 1, 'min_gain_to_split': 3.04, 'learning_rate': 0.27793727749854014, 'random_state': 0, 'feature_fraction': 0.7302099675368487, 'bagging_fraction': 0.8868962569911943, 'bagging_freq': 6, 'lambda_l1': 7.315377635097719e-07, 'lambda_l2': 3.2828015682398716e-06}. Best is trial 30 with value: 1.9862723420924664.\u001b[0m\n"
     ]
    },
    {
     "name": "stdout",
     "output_type": "stream",
     "text": [
      "[100]\tvalid_0's rmse: 2.09885\n",
      "[200]\tvalid_0's rmse: 2.09885\n",
      "[300]\tvalid_0's rmse: 2.09885\n",
      "[400]\tvalid_0's rmse: 2.09885\n",
      "[500]\tvalid_0's rmse: 2.09885\n",
      "Early stopping, best iteration is:\n",
      "[15]\tvalid_0's rmse: 2.059\n",
      "valid_score:  RMSE = 2.0590049204019616\n",
      "Training until validation scores don't improve for 500 rounds\n",
      "[100]\tvalid_0's rmse: 2.11919\n",
      "[200]\tvalid_0's rmse: 2.05469\n",
      "[300]\tvalid_0's rmse: 2.02887\n",
      "[400]\tvalid_0's rmse: 2.02432\n",
      "[500]\tvalid_0's rmse: 2.01617\n",
      "[600]\tvalid_0's rmse: 2.00966\n",
      "[700]\tvalid_0's rmse: 2.00889\n",
      "[800]\tvalid_0's rmse: 2.00871\n"
     ]
    },
    {
     "name": "stderr",
     "output_type": "stream",
     "text": [
      "\u001b[32m[I 2022-02-23 14:48:18,536]\u001b[0m Trial 60 finished with value: 2.0065944265308207 and parameters: {'n_estimators': 10000, 'num_leaves': 4, 'boosting': 'gbdt', 'max_depth': 5, 'max_bin': 32, 'min_data_in_leaf': 1, 'min_data_in_bin': 1, 'min_gain_to_split': 2.2800000000000002, 'learning_rate': 0.035540381211016187, 'random_state': 0, 'feature_fraction': 0.5996854446005158, 'bagging_fraction': 0.8810864701781362, 'bagging_freq': 5, 'lambda_l1': 0.6070961856660916, 'lambda_l2': 1.2952580714817252e-08}. Best is trial 30 with value: 1.9862723420924664.\u001b[0m\n"
     ]
    },
    {
     "name": "stdout",
     "output_type": "stream",
     "text": [
      "[900]\tvalid_0's rmse: 2.00871\n",
      "[1000]\tvalid_0's rmse: 2.00871\n",
      "[1100]\tvalid_0's rmse: 2.00871\n",
      "[1200]\tvalid_0's rmse: 2.00871\n",
      "Early stopping, best iteration is:\n",
      "[752]\tvalid_0's rmse: 2.00659\n",
      "valid_score:  RMSE = 2.0065944265308207\n",
      "Training until validation scores don't improve for 500 rounds\n"
     ]
    },
    {
     "name": "stderr",
     "output_type": "stream",
     "text": [
      "\u001b[32m[I 2022-02-23 14:48:18,787]\u001b[0m Trial 61 finished with value: 2.07307277570224 and parameters: {'n_estimators': 5000, 'num_leaves': 12, 'boosting': 'gbdt', 'max_depth': 15, 'max_bin': 32, 'min_data_in_leaf': 1, 'min_data_in_bin': 1, 'min_gain_to_split': 2.8400000000000003, 'learning_rate': 0.22634560685779992, 'random_state': 0, 'feature_fraction': 0.8423299102307351, 'bagging_fraction': 0.6718494134938361, 'bagging_freq': 6, 'lambda_l1': 0.5249275053177267, 'lambda_l2': 1.83124340751363e-05}. Best is trial 30 with value: 1.9862723420924664.\u001b[0m\n"
     ]
    },
    {
     "name": "stdout",
     "output_type": "stream",
     "text": [
      "[100]\tvalid_0's rmse: 2.11992\n",
      "[200]\tvalid_0's rmse: 2.11992\n",
      "[300]\tvalid_0's rmse: 2.11992\n",
      "[400]\tvalid_0's rmse: 2.11992\n",
      "[500]\tvalid_0's rmse: 2.11992\n",
      "Early stopping, best iteration is:\n",
      "[24]\tvalid_0's rmse: 2.07307\n",
      "valid_score:  RMSE = 2.07307277570224\n",
      "Training until validation scores don't improve for 500 rounds\n",
      "[100]\tvalid_0's rmse: 2.13054\n",
      "[200]\tvalid_0's rmse: 2.07235\n"
     ]
    },
    {
     "name": "stderr",
     "output_type": "stream",
     "text": [
      "\u001b[32m[I 2022-02-23 14:48:19,027]\u001b[0m Trial 62 finished with value: 2.0326386317839082 and parameters: {'n_estimators': 10000, 'num_leaves': 2, 'boosting': 'gbdt', 'max_depth': 12, 'max_bin': 32, 'min_data_in_leaf': 1, 'min_data_in_bin': 1, 'min_gain_to_split': 2.04, 'learning_rate': 0.0746653092758823, 'random_state': 0, 'feature_fraction': 0.9203127782695156, 'bagging_fraction': 0.5693069852242634, 'bagging_freq': 2, 'lambda_l1': 0.09948029049954289, 'lambda_l2': 8.353016945851408e-07}. Best is trial 30 with value: 1.9862723420924664.\u001b[0m\n"
     ]
    },
    {
     "name": "stdout",
     "output_type": "stream",
     "text": [
      "[300]\tvalid_0's rmse: 2.05671\n",
      "[400]\tvalid_0's rmse: 2.04977\n",
      "[500]\tvalid_0's rmse: 2.03658\n",
      "[600]\tvalid_0's rmse: 2.03953\n",
      "[700]\tvalid_0's rmse: 2.04561\n",
      "[800]\tvalid_0's rmse: 2.0456\n",
      "[900]\tvalid_0's rmse: 2.04615\n",
      "[1000]\tvalid_0's rmse: 2.04819\n",
      "Early stopping, best iteration is:\n",
      "[594]\tvalid_0's rmse: 2.03264\n",
      "valid_score:  RMSE = 2.0326386317839082\n",
      "Training until validation scores don't improve for 500 rounds\n"
     ]
    },
    {
     "name": "stderr",
     "output_type": "stream",
     "text": [
      "\u001b[32m[I 2022-02-23 14:48:19,238]\u001b[0m Trial 63 finished with value: 2.0469706312154017 and parameters: {'n_estimators': 5000, 'num_leaves': 5, 'boosting': 'gbdt', 'max_depth': 4, 'max_bin': 32, 'min_data_in_leaf': 1, 'min_data_in_bin': 1, 'min_gain_to_split': 3.19, 'learning_rate': 0.15294420607417536, 'random_state': 0, 'feature_fraction': 0.8740153967804122, 'bagging_fraction': 0.4217946415123474, 'bagging_freq': 2, 'lambda_l1': 0.41132483942886733, 'lambda_l2': 0.14765089500245357}. Best is trial 30 with value: 1.9862723420924664.\u001b[0m\n"
     ]
    },
    {
     "name": "stdout",
     "output_type": "stream",
     "text": [
      "[100]\tvalid_0's rmse: 2.08557\n",
      "[200]\tvalid_0's rmse: 2.09355\n",
      "[300]\tvalid_0's rmse: 2.12321\n",
      "[400]\tvalid_0's rmse: 2.12335\n",
      "[500]\tvalid_0's rmse: 2.1517\n",
      "Early stopping, best iteration is:\n",
      "[35]\tvalid_0's rmse: 2.04697\n",
      "valid_score:  RMSE = 2.0469706312154017\n",
      "Training until validation scores don't improve for 500 rounds\n"
     ]
    },
    {
     "name": "stderr",
     "output_type": "stream",
     "text": [
      "\u001b[32m[I 2022-02-23 14:48:19,486]\u001b[0m Trial 64 finished with value: 2.0147737864093793 and parameters: {'n_estimators': 5000, 'num_leaves': 7, 'boosting': 'gbdt', 'max_depth': 6, 'max_bin': 32, 'min_data_in_leaf': 1, 'min_data_in_bin': 1, 'min_gain_to_split': 4.489999999999999, 'learning_rate': 0.26974918856644603, 'random_state': 0, 'feature_fraction': 0.420024214681698, 'bagging_fraction': 0.6533791245006302, 'bagging_freq': 8, 'lambda_l1': 0.023616207302923884, 'lambda_l2': 4.188707617095929e-06}. Best is trial 30 with value: 1.9862723420924664.\u001b[0m\n"
     ]
    },
    {
     "name": "stdout",
     "output_type": "stream",
     "text": [
      "[100]\tvalid_0's rmse: 2.03728\n",
      "[200]\tvalid_0's rmse: 2.03728\n",
      "[300]\tvalid_0's rmse: 2.03728\n",
      "[400]\tvalid_0's rmse: 2.03728\n",
      "[500]\tvalid_0's rmse: 2.03728\n",
      "Early stopping, best iteration is:\n",
      "[60]\tvalid_0's rmse: 2.01477\n",
      "valid_score:  RMSE = 2.0147737864093793\n",
      "Training until validation scores don't improve for 500 rounds\n"
     ]
    },
    {
     "name": "stderr",
     "output_type": "stream",
     "text": [
      "\u001b[32m[I 2022-02-23 14:48:19,738]\u001b[0m Trial 65 finished with value: 2.047985809613567 and parameters: {'n_estimators': 10000, 'num_leaves': 11, 'boosting': 'gbdt', 'max_depth': 3, 'max_bin': 32, 'min_data_in_leaf': 1, 'min_data_in_bin': 1, 'min_gain_to_split': 1.2500000000000002, 'learning_rate': 0.230483575450692, 'random_state': 0, 'feature_fraction': 0.6683425529958451, 'bagging_fraction': 0.6549572615451908, 'bagging_freq': 1, 'lambda_l1': 4.237790866195963e-05, 'lambda_l2': 0.020525212211679668}. Best is trial 30 with value: 1.9862723420924664.\u001b[0m\n"
     ]
    },
    {
     "name": "stdout",
     "output_type": "stream",
     "text": [
      "[100]\tvalid_0's rmse: 2.13334\n",
      "[200]\tvalid_0's rmse: 2.15206\n",
      "[300]\tvalid_0's rmse: 2.21027\n",
      "[400]\tvalid_0's rmse: 2.24751\n",
      "[500]\tvalid_0's rmse: 2.26446\n",
      "Early stopping, best iteration is:\n",
      "[27]\tvalid_0's rmse: 2.04799\n",
      "valid_score:  RMSE = 2.047985809613567\n",
      "Training until validation scores don't improve for 500 rounds\n",
      "[100]\tvalid_0's rmse: 2.13255\n",
      "[200]\tvalid_0's rmse: 2.13255\n",
      "[300]\tvalid_0's rmse: 2.13255\n",
      "[400]\tvalid_0's rmse: 2.13255\n"
     ]
    },
    {
     "name": "stderr",
     "output_type": "stream",
     "text": [
      "\u001b[32m[I 2022-02-23 14:48:20,002]\u001b[0m Trial 66 finished with value: 2.0981627963292 and parameters: {'n_estimators': 10000, 'num_leaves': 8, 'boosting': 'gbdt', 'max_depth': 16, 'max_bin': 32, 'min_data_in_leaf': 1, 'min_data_in_bin': 1, 'min_gain_to_split': 4.779999999999999, 'learning_rate': 0.2911781904362404, 'random_state': 0, 'feature_fraction': 0.8434092946231554, 'bagging_fraction': 0.9094866379350732, 'bagging_freq': 1, 'lambda_l1': 2.2698477577522895e-06, 'lambda_l2': 1.283768794880191e-07}. Best is trial 30 with value: 1.9862723420924664.\u001b[0m\n"
     ]
    },
    {
     "name": "stdout",
     "output_type": "stream",
     "text": [
      "[500]\tvalid_0's rmse: 2.13255\n",
      "Early stopping, best iteration is:\n",
      "[20]\tvalid_0's rmse: 2.09816\n",
      "valid_score:  RMSE = 2.0981627963292\n",
      "Training until validation scores don't improve for 500 rounds\n",
      "[100]\tvalid_0's rmse: 2.06616\n",
      "[200]\tvalid_0's rmse: 2.11071\n",
      "[300]\tvalid_0's rmse: 2.13478\n",
      "[400]\tvalid_0's rmse: 2.14269\n"
     ]
    },
    {
     "name": "stderr",
     "output_type": "stream",
     "text": [
      "\u001b[32m[I 2022-02-23 14:48:20,265]\u001b[0m Trial 67 finished with value: 2.049775282995013 and parameters: {'n_estimators': 5000, 'num_leaves': 3, 'boosting': 'gbdt', 'max_depth': 6, 'max_bin': 32, 'min_data_in_leaf': 1, 'min_data_in_bin': 1, 'min_gain_to_split': 4.75, 'learning_rate': 0.2486372971662277, 'random_state': 0, 'feature_fraction': 0.8966932143770197, 'bagging_fraction': 0.5878733323110621, 'bagging_freq': 3, 'lambda_l1': 0.001815926183094065, 'lambda_l2': 0.1275746441598395}. Best is trial 30 with value: 1.9862723420924664.\u001b[0m\n"
     ]
    },
    {
     "name": "stdout",
     "output_type": "stream",
     "text": [
      "[500]\tvalid_0's rmse: 2.15074\n",
      "[600]\tvalid_0's rmse: 2.16049\n",
      "Early stopping, best iteration is:\n",
      "[134]\tvalid_0's rmse: 2.04978\n",
      "valid_score:  RMSE = 2.049775282995013\n",
      "Training until validation scores don't improve for 500 rounds\n",
      "[100]\tvalid_0's rmse: 2.43379\n",
      "[200]\tvalid_0's rmse: 2.47118\n"
     ]
    },
    {
     "name": "stderr",
     "output_type": "stream",
     "text": [
      "\u001b[32m[I 2022-02-23 14:48:20,542]\u001b[0m Trial 68 finished with value: 2.1469606135490835 and parameters: {'n_estimators': 10000, 'num_leaves': 14, 'boosting': 'gbdt', 'max_depth': 15, 'max_bin': 32, 'min_data_in_leaf': 1, 'min_data_in_bin': 1, 'min_gain_to_split': 1.4400000000000002, 'learning_rate': 0.2938183028505025, 'random_state': 0, 'feature_fraction': 0.7194004962730165, 'bagging_fraction': 0.45229011362439403, 'bagging_freq': 1, 'lambda_l1': 5.180954860250939e-05, 'lambda_l2': 1.838338831742123e-08}. Best is trial 30 with value: 1.9862723420924664.\u001b[0m\n"
     ]
    },
    {
     "name": "stdout",
     "output_type": "stream",
     "text": [
      "[300]\tvalid_0's rmse: 2.47601\n",
      "[400]\tvalid_0's rmse: 2.47601\n",
      "[500]\tvalid_0's rmse: 2.47601\n",
      "Early stopping, best iteration is:\n",
      "[10]\tvalid_0's rmse: 2.14696\n",
      "valid_score:  RMSE = 2.1469606135490835\n",
      "Training until validation scores don't improve for 500 rounds\n",
      "[100]\tvalid_0's rmse: 2.06174\n",
      "[200]\tvalid_0's rmse: 2.0308\n",
      "[300]\tvalid_0's rmse: 2.01192\n",
      "[400]\tvalid_0's rmse: 2.01479\n",
      "[500]\tvalid_0's rmse: 2.00491\n",
      "[600]\tvalid_0's rmse: 2.00675\n",
      "[700]\tvalid_0's rmse: 2.0069\n",
      "[800]\tvalid_0's rmse: 2.0058\n",
      "[900]\tvalid_0's rmse: 2.0099\n",
      "[1000]\tvalid_0's rmse: 2.01248\n",
      "[1100]\tvalid_0's rmse: 2.01568\n"
     ]
    },
    {
     "name": "stderr",
     "output_type": "stream",
     "text": [
      "\u001b[32m[I 2022-02-23 14:48:21,196]\u001b[0m Trial 69 finished with value: 1.9994918303577904 and parameters: {'n_estimators': 10000, 'num_leaves': 6, 'boosting': 'gbdt', 'max_depth': 12, 'max_bin': 32, 'min_data_in_leaf': 1, 'min_data_in_bin': 1, 'min_gain_to_split': 1.4700000000000002, 'learning_rate': 0.0388070108884997, 'random_state': 0, 'feature_fraction': 0.4220309749210826, 'bagging_fraction': 0.6342682807900457, 'bagging_freq': 8, 'lambda_l1': 5.066435362056781e-06, 'lambda_l2': 5.845033665208546e-07}. Best is trial 30 with value: 1.9862723420924664.\u001b[0m\n"
     ]
    },
    {
     "name": "stdout",
     "output_type": "stream",
     "text": [
      "[1200]\tvalid_0's rmse: 2.0152\n",
      "Early stopping, best iteration is:\n",
      "[763]\tvalid_0's rmse: 1.99949\n",
      "valid_score:  RMSE = 1.9994918303577904\n",
      "Training until validation scores don't improve for 500 rounds\n",
      "[100]\tvalid_0's rmse: 2.19482\n",
      "[200]\tvalid_0's rmse: 2.19482\n"
     ]
    },
    {
     "name": "stderr",
     "output_type": "stream",
     "text": [
      "\u001b[32m[I 2022-02-23 14:48:21,430]\u001b[0m Trial 70 finished with value: 2.1393698135116264 and parameters: {'n_estimators': 5000, 'num_leaves': 10, 'boosting': 'gbdt', 'max_depth': 10, 'max_bin': 32, 'min_data_in_leaf': 1, 'min_data_in_bin': 1, 'min_gain_to_split': 4.319999999999999, 'learning_rate': 0.18121466578236892, 'random_state': 0, 'feature_fraction': 0.7085486102253078, 'bagging_fraction': 0.5009625733724771, 'bagging_freq': 6, 'lambda_l1': 2.3210746344243765e-05, 'lambda_l2': 0.00033963428678624824}. Best is trial 30 with value: 1.9862723420924664.\u001b[0m\n"
     ]
    },
    {
     "name": "stdout",
     "output_type": "stream",
     "text": [
      "[300]\tvalid_0's rmse: 2.19482\n",
      "[400]\tvalid_0's rmse: 2.19482\n",
      "[500]\tvalid_0's rmse: 2.19482\n",
      "Early stopping, best iteration is:\n",
      "[17]\tvalid_0's rmse: 2.13937\n",
      "valid_score:  RMSE = 2.1393698135116264\n",
      "Training until validation scores don't improve for 500 rounds\n",
      "[100]\tvalid_0's rmse: 2.20368\n"
     ]
    },
    {
     "name": "stderr",
     "output_type": "stream",
     "text": [
      "\u001b[32m[I 2022-02-23 14:48:21,793]\u001b[0m Trial 71 finished with value: 2.070103850940308 and parameters: {'n_estimators': 10000, 'num_leaves': 7, 'boosting': 'gbdt', 'max_depth': 9, 'max_bin': 32, 'min_data_in_leaf': 1, 'min_data_in_bin': 1, 'min_gain_to_split': 3.75, 'learning_rate': 0.2649708798543062, 'random_state': 0, 'feature_fraction': 0.9204828904284681, 'bagging_fraction': 0.4004921802958607, 'bagging_freq': 2, 'lambda_l1': 6.271945642202644e-05, 'lambda_l2': 0.00027633728212897647}. Best is trial 30 with value: 1.9862723420924664.\u001b[0m\n"
     ]
    },
    {
     "name": "stdout",
     "output_type": "stream",
     "text": [
      "[200]\tvalid_0's rmse: 2.21682\n",
      "[300]\tvalid_0's rmse: 2.28632\n",
      "[400]\tvalid_0's rmse: 2.29141\n",
      "[500]\tvalid_0's rmse: 2.29141\n",
      "Early stopping, best iteration is:\n",
      "[29]\tvalid_0's rmse: 2.0701\n",
      "valid_score:  RMSE = 2.070103850940308\n"
     ]
    },
    {
     "name": "stderr",
     "output_type": "stream",
     "text": [
      "\u001b[32m[I 2022-02-23 14:48:22,012]\u001b[0m Trial 72 finished with value: 2.0241033537732958 and parameters: {'n_estimators': 5000, 'num_leaves': 2, 'boosting': 'gbdt', 'max_depth': 4, 'max_bin': 32, 'min_data_in_leaf': 1, 'min_data_in_bin': 1, 'min_gain_to_split': 1.9600000000000002, 'learning_rate': 0.0845394358519879, 'random_state': 0, 'feature_fraction': 0.6808528045843965, 'bagging_fraction': 0.5176333639759925, 'bagging_freq': 8, 'lambda_l1': 0.0004836107662959291, 'lambda_l2': 0.00016513307404757502}. Best is trial 30 with value: 1.9862723420924664.\u001b[0m\n"
     ]
    },
    {
     "name": "stdout",
     "output_type": "stream",
     "text": [
      "Training until validation scores don't improve for 500 rounds\n",
      "[100]\tvalid_0's rmse: 2.11912\n",
      "[200]\tvalid_0's rmse: 2.06204\n",
      "[300]\tvalid_0's rmse: 2.05473\n",
      "[400]\tvalid_0's rmse: 2.0516\n",
      "[500]\tvalid_0's rmse: 2.02775\n",
      "[600]\tvalid_0's rmse: 2.03429\n",
      "[700]\tvalid_0's rmse: 2.03658\n",
      "[800]\tvalid_0's rmse: 2.04181\n",
      "[900]\tvalid_0's rmse: 2.05092\n",
      "[1000]\tvalid_0's rmse: 2.04746\n",
      "Early stopping, best iteration is:\n",
      "[537]\tvalid_0's rmse: 2.0241\n",
      "valid_score:  RMSE = 2.0241033537732958\n",
      "Training until validation scores don't improve for 500 rounds\n",
      "[100]\tvalid_0's rmse: 2.0515\n",
      "[200]\tvalid_0's rmse: 2.02974\n",
      "[300]\tvalid_0's rmse: 2.07653\n",
      "[400]\tvalid_0's rmse: 2.09718\n"
     ]
    },
    {
     "name": "stderr",
     "output_type": "stream",
     "text": [
      "\u001b[32m[I 2022-02-23 14:48:22,346]\u001b[0m Trial 73 finished with value: 2.025274450585652 and parameters: {'n_estimators': 5000, 'num_leaves': 4, 'boosting': 'gbdt', 'max_depth': 4, 'max_bin': 32, 'min_data_in_leaf': 1, 'min_data_in_bin': 1, 'min_gain_to_split': 0.30000000000000004, 'learning_rate': 0.17526764302218606, 'random_state': 0, 'feature_fraction': 0.7090565888254289, 'bagging_fraction': 0.6798235935377032, 'bagging_freq': 7, 'lambda_l1': 0.003818776818728966, 'lambda_l2': 0.00014864221261005027}. Best is trial 30 with value: 1.9862723420924664.\u001b[0m\n"
     ]
    },
    {
     "name": "stdout",
     "output_type": "stream",
     "text": [
      "[500]\tvalid_0's rmse: 2.10903\n",
      "[600]\tvalid_0's rmse: 2.11783\n",
      "[700]\tvalid_0's rmse: 2.13647\n",
      "Early stopping, best iteration is:\n",
      "[203]\tvalid_0's rmse: 2.02527\n",
      "valid_score:  RMSE = 2.025274450585652\n",
      "Training until validation scores don't improve for 500 rounds\n",
      "[100]\tvalid_0's rmse: 2.23418\n",
      "[200]\tvalid_0's rmse: 2.23418\n",
      "[300]\tvalid_0's rmse: 2.23418\n"
     ]
    },
    {
     "name": "stderr",
     "output_type": "stream",
     "text": [
      "\u001b[32m[I 2022-02-23 14:48:22,536]\u001b[0m Trial 74 finished with value: 2.09447416616126 and parameters: {'n_estimators': 5000, 'num_leaves': 13, 'boosting': 'gbdt', 'max_depth': 7, 'max_bin': 32, 'min_data_in_leaf': 1, 'min_data_in_bin': 1, 'min_gain_to_split': 3.12, 'learning_rate': 0.2701584819109145, 'random_state': 0, 'feature_fraction': 0.8823756052704917, 'bagging_fraction': 0.48754252041040896, 'bagging_freq': 5, 'lambda_l1': 0.01620301747719975, 'lambda_l2': 5.8073175151677475e-08}. Best is trial 30 with value: 1.9862723420924664.\u001b[0m\n"
     ]
    },
    {
     "name": "stdout",
     "output_type": "stream",
     "text": [
      "[400]\tvalid_0's rmse: 2.23418\n",
      "[500]\tvalid_0's rmse: 2.23418\n",
      "Early stopping, best iteration is:\n",
      "[21]\tvalid_0's rmse: 2.09447\n",
      "valid_score:  RMSE = 2.09447416616126\n",
      "Training until validation scores don't improve for 500 rounds\n",
      "[100]\tvalid_0's rmse: 2.10828\n",
      "[200]\tvalid_0's rmse: 2.04739\n",
      "[300]\tvalid_0's rmse: 2.05738\n",
      "[400]\tvalid_0's rmse: 2.04321\n",
      "[500]\tvalid_0's rmse: 2.03543\n"
     ]
    },
    {
     "name": "stderr",
     "output_type": "stream",
     "text": [
      "\u001b[32m[I 2022-02-23 14:48:22,830]\u001b[0m Trial 75 finished with value: 2.031804863029978 and parameters: {'n_estimators': 5000, 'num_leaves': 5, 'boosting': 'gbdt', 'max_depth': 4, 'max_bin': 32, 'min_data_in_leaf': 1, 'min_data_in_bin': 1, 'min_gain_to_split': 0.61, 'learning_rate': 0.031076955001883254, 'random_state': 0, 'feature_fraction': 0.9281808405213736, 'bagging_fraction': 0.9368972193032253, 'bagging_freq': 7, 'lambda_l1': 1.5131245612169108e-06, 'lambda_l2': 0.0002559361171142486}. Best is trial 30 with value: 1.9862723420924664.\u001b[0m\n"
     ]
    },
    {
     "name": "stdout",
     "output_type": "stream",
     "text": [
      "[600]\tvalid_0's rmse: 2.03706\n",
      "[700]\tvalid_0's rmse: 2.04259\n",
      "[800]\tvalid_0's rmse: 2.04076\n",
      "[900]\tvalid_0's rmse: 2.04751\n",
      "[1000]\tvalid_0's rmse: 2.05002\n",
      "Early stopping, best iteration is:\n",
      "[516]\tvalid_0's rmse: 2.0318\n",
      "valid_score:  RMSE = 2.031804863029978\n",
      "Training until validation scores don't improve for 500 rounds\n",
      "[100]\tvalid_0's rmse: 2.07977\n"
     ]
    },
    {
     "name": "stderr",
     "output_type": "stream",
     "text": [
      "\u001b[32m[I 2022-02-23 14:48:23,069]\u001b[0m Trial 76 finished with value: 2.071193582447779 and parameters: {'n_estimators': 10000, 'num_leaves': 9, 'boosting': 'gbdt', 'max_depth': 9, 'max_bin': 32, 'min_data_in_leaf': 1, 'min_data_in_bin': 1, 'min_gain_to_split': 4.819999999999999, 'learning_rate': 0.2676428811885372, 'random_state': 0, 'feature_fraction': 0.7037901904254962, 'bagging_fraction': 0.739737680578165, 'bagging_freq': 3, 'lambda_l1': 3.5003362602142523e-06, 'lambda_l2': 0.062135255462900815}. Best is trial 30 with value: 1.9862723420924664.\u001b[0m\n"
     ]
    },
    {
     "name": "stdout",
     "output_type": "stream",
     "text": [
      "[200]\tvalid_0's rmse: 2.07977\n",
      "[300]\tvalid_0's rmse: 2.07977\n",
      "[400]\tvalid_0's rmse: 2.07977\n",
      "[500]\tvalid_0's rmse: 2.07977\n",
      "Early stopping, best iteration is:\n",
      "[29]\tvalid_0's rmse: 2.07119\n",
      "valid_score:  RMSE = 2.071193582447779\n",
      "Training until validation scores don't improve for 500 rounds\n",
      "[100]\tvalid_0's rmse: 2.02479\n",
      "[200]\tvalid_0's rmse: 2.01316\n",
      "[300]\tvalid_0's rmse: 2.00858\n",
      "[400]\tvalid_0's rmse: 2.00858\n",
      "[500]\tvalid_0's rmse: 2.00858\n",
      "[600]\tvalid_0's rmse: 2.00858\n"
     ]
    },
    {
     "name": "stderr",
     "output_type": "stream",
     "text": [
      "\u001b[32m[I 2022-02-23 14:48:23,455]\u001b[0m Trial 77 finished with value: 2.0083817684607292 and parameters: {'n_estimators': 10000, 'num_leaves': 16, 'boosting': 'gbdt', 'max_depth': 14, 'max_bin': 32, 'min_data_in_leaf': 1, 'min_data_in_bin': 1, 'min_gain_to_split': 3.2, 'learning_rate': 0.06301230891084006, 'random_state': 0, 'feature_fraction': 0.5205983132210542, 'bagging_fraction': 0.710037313823531, 'bagging_freq': 8, 'lambda_l1': 2.2643203995526992e-07, 'lambda_l2': 1.16010210026558e-06}. Best is trial 30 with value: 1.9862723420924664.\u001b[0m\n"
     ]
    },
    {
     "name": "stdout",
     "output_type": "stream",
     "text": [
      "Early stopping, best iteration is:\n",
      "[170]\tvalid_0's rmse: 2.00808\n",
      "valid_score:  RMSE = 2.0083817684607292\n",
      "Training until validation scores don't improve for 500 rounds\n",
      "[100]\tvalid_0's rmse: 2.03672\n",
      "[200]\tvalid_0's rmse: 2.04754\n",
      "[300]\tvalid_0's rmse: 2.04119\n",
      "[400]\tvalid_0's rmse: 2.06064\n",
      "[500]\tvalid_0's rmse: 2.06064\n"
     ]
    },
    {
     "name": "stderr",
     "output_type": "stream",
     "text": [
      "\u001b[32m[I 2022-02-23 14:48:23,662]\u001b[0m Trial 78 finished with value: 2.0072371927318815 and parameters: {'n_estimators': 5000, 'num_leaves': 10, 'boosting': 'gbdt', 'max_depth': 3, 'max_bin': 32, 'min_data_in_leaf': 1, 'min_data_in_bin': 1, 'min_gain_to_split': 1.1800000000000002, 'learning_rate': 0.19825915275918554, 'random_state': 0, 'feature_fraction': 0.6404554776681022, 'bagging_fraction': 0.7271079889907104, 'bagging_freq': 7, 'lambda_l1': 0.025268352277769024, 'lambda_l2': 0.21551639362965366}. Best is trial 30 with value: 1.9862723420924664.\u001b[0m\n"
     ]
    },
    {
     "name": "stdout",
     "output_type": "stream",
     "text": [
      "Early stopping, best iteration is:\n",
      "[55]\tvalid_0's rmse: 2.00724\n",
      "valid_score:  RMSE = 2.0072371927318815\n",
      "Training until validation scores don't improve for 500 rounds\n",
      "[100]\tvalid_0's rmse: 2.06624\n",
      "[200]\tvalid_0's rmse: 2.08273\n"
     ]
    },
    {
     "name": "stderr",
     "output_type": "stream",
     "text": [
      "\u001b[32m[I 2022-02-23 14:48:24,022]\u001b[0m Trial 79 finished with value: 1.99040729246053 and parameters: {'n_estimators': 10000, 'num_leaves': 9, 'boosting': 'gbdt', 'max_depth': 10, 'max_bin': 32, 'min_data_in_leaf': 1, 'min_data_in_bin': 1, 'min_gain_to_split': 0.98, 'learning_rate': 0.15823387913619386, 'random_state': 0, 'feature_fraction': 0.9140475495166057, 'bagging_fraction': 0.5615087883111953, 'bagging_freq': 4, 'lambda_l1': 0.962752465185432, 'lambda_l2': 0.0014795501036549957}. Best is trial 30 with value: 1.9862723420924664.\u001b[0m\n"
     ]
    },
    {
     "name": "stdout",
     "output_type": "stream",
     "text": [
      "[300]\tvalid_0's rmse: 2.09435\n",
      "[400]\tvalid_0's rmse: 2.09516\n",
      "[500]\tvalid_0's rmse: 2.10035\n",
      "Early stopping, best iteration is:\n",
      "[31]\tvalid_0's rmse: 1.99041\n",
      "valid_score:  RMSE = 1.99040729246053\n",
      "Training until validation scores don't improve for 500 rounds\n",
      "[100]\tvalid_0's rmse: 2.10704\n",
      "[200]\tvalid_0's rmse: 2.05363\n",
      "[300]\tvalid_0's rmse: 2.04127\n",
      "[400]\tvalid_0's rmse: 2.04508\n",
      "[500]\tvalid_0's rmse: 2.04403\n",
      "[600]\tvalid_0's rmse: 2.04462\n",
      "[700]\tvalid_0's rmse: 2.04762\n",
      "[800]\tvalid_0's rmse: 2.04822\n",
      "[900]\tvalid_0's rmse: 2.04778\n",
      "[1000]\tvalid_0's rmse: 2.04918\n"
     ]
    },
    {
     "name": "stderr",
     "output_type": "stream",
     "text": [
      "\u001b[32m[I 2022-02-23 14:48:24,357]\u001b[0m Trial 80 finished with value: 2.039579989915429 and parameters: {'n_estimators': 5000, 'num_leaves': 2, 'boosting': 'gbdt', 'max_depth': 5, 'max_bin': 32, 'min_data_in_leaf': 1, 'min_data_in_bin': 1, 'min_gain_to_split': 1.12, 'learning_rate': 0.11440815683160735, 'random_state': 0, 'feature_fraction': 0.6554014995347549, 'bagging_fraction': 0.8948679964605273, 'bagging_freq': 6, 'lambda_l1': 4.450489069141525e-05, 'lambda_l2': 0.00030731605938273297}. Best is trial 30 with value: 1.9862723420924664.\u001b[0m\n"
     ]
    },
    {
     "name": "stdout",
     "output_type": "stream",
     "text": [
      "Early stopping, best iteration is:\n",
      "[570]\tvalid_0's rmse: 2.03958\n",
      "valid_score:  RMSE = 2.039579989915429\n",
      "Training until validation scores don't improve for 500 rounds\n",
      "[100]\tvalid_0's rmse: 2.11424\n",
      "[200]\tvalid_0's rmse: 2.11424\n",
      "[300]\tvalid_0's rmse: 2.11424\n"
     ]
    },
    {
     "name": "stderr",
     "output_type": "stream",
     "text": [
      "\u001b[32m[I 2022-02-23 14:48:24,609]\u001b[0m Trial 81 finished with value: 2.0236050560821464 and parameters: {'n_estimators': 5000, 'num_leaves': 14, 'boosting': 'gbdt', 'max_depth': 4, 'max_bin': 32, 'min_data_in_leaf': 1, 'min_data_in_bin': 1, 'min_gain_to_split': 2.73, 'learning_rate': 0.2460895122811419, 'random_state': 0, 'feature_fraction': 0.9961025457527273, 'bagging_fraction': 0.7422462054518852, 'bagging_freq': 6, 'lambda_l1': 6.22881417945563e-05, 'lambda_l2': 0.003446502703149125}. Best is trial 30 with value: 1.9862723420924664.\u001b[0m\n"
     ]
    },
    {
     "name": "stdout",
     "output_type": "stream",
     "text": [
      "[400]\tvalid_0's rmse: 2.11424\n",
      "[500]\tvalid_0's rmse: 2.11424\n",
      "Early stopping, best iteration is:\n",
      "[18]\tvalid_0's rmse: 2.02361\n",
      "valid_score:  RMSE = 2.0236050560821464\n",
      "Training until validation scores don't improve for 500 rounds\n",
      "[100]\tvalid_0's rmse: 2.01559\n",
      "[200]\tvalid_0's rmse: 2.00494\n",
      "[300]\tvalid_0's rmse: 2.00932\n",
      "[400]\tvalid_0's rmse: 2.0077\n",
      "[500]\tvalid_0's rmse: 2.0068\n",
      "[600]\tvalid_0's rmse: 2.01731\n"
     ]
    },
    {
     "name": "stderr",
     "output_type": "stream",
     "text": [
      "\u001b[32m[I 2022-02-23 14:48:25,045]\u001b[0m Trial 82 finished with value: 1.99617418554334 and parameters: {'n_estimators': 10000, 'num_leaves': 9, 'boosting': 'gbdt', 'max_depth': 3, 'max_bin': 32, 'min_data_in_leaf': 1, 'min_data_in_bin': 1, 'min_gain_to_split': 2.02, 'learning_rate': 0.07499357207833356, 'random_state': 0, 'feature_fraction': 0.4759021494709683, 'bagging_fraction': 0.751186499270988, 'bagging_freq': 3, 'lambda_l1': 1.2418960140653197e-07, 'lambda_l2': 0.006058159568373887}. Best is trial 30 with value: 1.9862723420924664.\u001b[0m\n"
     ]
    },
    {
     "name": "stdout",
     "output_type": "stream",
     "text": [
      "Early stopping, best iteration is:\n",
      "[172]\tvalid_0's rmse: 1.99617\n",
      "valid_score:  RMSE = 1.99617418554334\n",
      "Training until validation scores don't improve for 500 rounds\n",
      "[100]\tvalid_0's rmse: 2.05655\n",
      "[200]\tvalid_0's rmse: 2.01766\n",
      "[300]\tvalid_0's rmse: 2.01072\n",
      "[400]\tvalid_0's rmse: 2.01002\n",
      "[500]\tvalid_0's rmse: 2.01002\n",
      "[600]\tvalid_0's rmse: 2.01002\n"
     ]
    },
    {
     "name": "stderr",
     "output_type": "stream",
     "text": [
      "\u001b[32m[I 2022-02-23 14:48:25,307]\u001b[0m Trial 83 finished with value: 2.0073551183810947 and parameters: {'n_estimators': 5000, 'num_leaves': 3, 'boosting': 'gbdt', 'max_depth': 3, 'max_bin': 32, 'min_data_in_leaf': 1, 'min_data_in_bin': 1, 'min_gain_to_split': 5.0, 'learning_rate': 0.13568688970034634, 'random_state': 0, 'feature_fraction': 0.9047334823049307, 'bagging_fraction': 0.6848139178572594, 'bagging_freq': 5, 'lambda_l1': 1.517000814414592e-05, 'lambda_l2': 0.8504750974109607}. Best is trial 30 with value: 1.9862723420924664.\u001b[0m\n"
     ]
    },
    {
     "name": "stdout",
     "output_type": "stream",
     "text": [
      "[700]\tvalid_0's rmse: 2.01002\n",
      "Early stopping, best iteration is:\n",
      "[295]\tvalid_0's rmse: 2.00736\n",
      "valid_score:  RMSE = 2.0073551183810947\n",
      "Training until validation scores don't improve for 500 rounds\n",
      "[100]\tvalid_0's rmse: 2.2182\n"
     ]
    },
    {
     "name": "stderr",
     "output_type": "stream",
     "text": [
      "\u001b[32m[I 2022-02-23 14:48:25,607]\u001b[0m Trial 84 finished with value: 2.0845873703491784 and parameters: {'n_estimators': 5000, 'num_leaves': 13, 'boosting': 'gbdt', 'max_depth': 9, 'max_bin': 32, 'min_data_in_leaf': 1, 'min_data_in_bin': 1, 'min_gain_to_split': 0.8, 'learning_rate': 0.26528378999336016, 'random_state': 0, 'feature_fraction': 0.6549223038273704, 'bagging_fraction': 0.6571441052121096, 'bagging_freq': 7, 'lambda_l1': 0.001893317151405695, 'lambda_l2': 7.199560014212393e-07}. Best is trial 30 with value: 1.9862723420924664.\u001b[0m\n"
     ]
    },
    {
     "name": "stdout",
     "output_type": "stream",
     "text": [
      "[200]\tvalid_0's rmse: 2.23062\n",
      "[300]\tvalid_0's rmse: 2.23062\n",
      "[400]\tvalid_0's rmse: 2.23062\n",
      "[500]\tvalid_0's rmse: 2.23062\n",
      "Early stopping, best iteration is:\n",
      "[15]\tvalid_0's rmse: 2.08459\n",
      "valid_score:  RMSE = 2.0845873703491784\n",
      "Training until validation scores don't improve for 500 rounds\n",
      "[100]\tvalid_0's rmse: 2.1597\n"
     ]
    },
    {
     "name": "stderr",
     "output_type": "stream",
     "text": [
      "\u001b[32m[I 2022-02-23 14:48:25,881]\u001b[0m Trial 85 finished with value: 2.0671199176205777 and parameters: {'n_estimators': 10000, 'num_leaves': 6, 'boosting': 'gbdt', 'max_depth': 6, 'max_bin': 32, 'min_data_in_leaf': 1, 'min_data_in_bin': 1, 'min_gain_to_split': 0.84, 'learning_rate': 0.2652903923657808, 'random_state': 0, 'feature_fraction': 0.649133104482253, 'bagging_fraction': 0.5708170518708268, 'bagging_freq': 3, 'lambda_l1': 8.276458864174656e-05, 'lambda_l2': 7.22324854247493e-05}. Best is trial 30 with value: 1.9862723420924664.\u001b[0m\n"
     ]
    },
    {
     "name": "stdout",
     "output_type": "stream",
     "text": [
      "[200]\tvalid_0's rmse: 2.18384\n",
      "[300]\tvalid_0's rmse: 2.2036\n",
      "[400]\tvalid_0's rmse: 2.2339\n",
      "[500]\tvalid_0's rmse: 2.27641\n",
      "Early stopping, best iteration is:\n",
      "[31]\tvalid_0's rmse: 2.06712\n",
      "valid_score:  RMSE = 2.0671199176205777\n",
      "Training until validation scores don't improve for 500 rounds\n"
     ]
    },
    {
     "name": "stderr",
     "output_type": "stream",
     "text": [
      "\u001b[32m[I 2022-02-23 14:48:26,164]\u001b[0m Trial 86 finished with value: 2.035786716504728 and parameters: {'n_estimators': 5000, 'num_leaves': 8, 'boosting': 'gbdt', 'max_depth': 15, 'max_bin': 32, 'min_data_in_leaf': 1, 'min_data_in_bin': 1, 'min_gain_to_split': 2.48, 'learning_rate': 0.16090827833020285, 'random_state': 0, 'feature_fraction': 0.6183516368503876, 'bagging_fraction': 0.5238995043522969, 'bagging_freq': 7, 'lambda_l1': 1.2231083445750517e-06, 'lambda_l2': 3.358651577535354e-06}. Best is trial 30 with value: 1.9862723420924664.\u001b[0m\n"
     ]
    },
    {
     "name": "stdout",
     "output_type": "stream",
     "text": [
      "[100]\tvalid_0's rmse: 2.05404\n",
      "[200]\tvalid_0's rmse: 2.05725\n",
      "[300]\tvalid_0's rmse: 2.06557\n",
      "[400]\tvalid_0's rmse: 2.06557\n",
      "[500]\tvalid_0's rmse: 2.06557\n",
      "Early stopping, best iteration is:\n",
      "[84]\tvalid_0's rmse: 2.03579\n",
      "valid_score:  RMSE = 2.035786716504728\n"
     ]
    },
    {
     "name": "stderr",
     "output_type": "stream",
     "text": [
      "\u001b[32m[I 2022-02-23 14:48:26,384]\u001b[0m Trial 87 finished with value: 2.0284620643844793 and parameters: {'n_estimators': 5000, 'num_leaves': 16, 'boosting': 'gbdt', 'max_depth': 2, 'max_bin': 32, 'min_data_in_leaf': 1, 'min_data_in_bin': 1, 'min_gain_to_split': 1.09, 'learning_rate': 0.19569016861044233, 'random_state': 0, 'feature_fraction': 0.4295781019052047, 'bagging_fraction': 0.8261688668243332, 'bagging_freq': 2, 'lambda_l1': 3.705943010019919e-08, 'lambda_l2': 0.001122235838468316}. Best is trial 30 with value: 1.9862723420924664.\u001b[0m\n"
     ]
    },
    {
     "name": "stdout",
     "output_type": "stream",
     "text": [
      "Training until validation scores don't improve for 500 rounds\n",
      "[100]\tvalid_0's rmse: 2.03247\n",
      "[200]\tvalid_0's rmse: 2.05114\n",
      "[300]\tvalid_0's rmse: 2.04537\n",
      "[400]\tvalid_0's rmse: 2.05764\n",
      "[500]\tvalid_0's rmse: 2.05432\n",
      "[600]\tvalid_0's rmse: 2.07066\n",
      "Early stopping, best iteration is:\n",
      "[117]\tvalid_0's rmse: 2.02846\n",
      "valid_score:  RMSE = 2.0284620643844793\n"
     ]
    },
    {
     "name": "stderr",
     "output_type": "stream",
     "text": [
      "\u001b[32m[I 2022-02-23 14:48:26,609]\u001b[0m Trial 88 finished with value: 2.080261914934032 and parameters: {'n_estimators': 5000, 'num_leaves': 5, 'boosting': 'gbdt', 'max_depth': 7, 'max_bin': 32, 'min_data_in_leaf': 1, 'min_data_in_bin': 1, 'min_gain_to_split': 4.33, 'learning_rate': 0.2857614080229012, 'random_state': 0, 'feature_fraction': 0.7459376806152662, 'bagging_fraction': 0.4255594595641672, 'bagging_freq': 7, 'lambda_l1': 7.576925233357607e-06, 'lambda_l2': 0.008287589241183555}. Best is trial 30 with value: 1.9862723420924664.\u001b[0m\n"
     ]
    },
    {
     "name": "stdout",
     "output_type": "stream",
     "text": [
      "Training until validation scores don't improve for 500 rounds\n",
      "[100]\tvalid_0's rmse: 2.1583\n",
      "[200]\tvalid_0's rmse: 2.22145\n",
      "[300]\tvalid_0's rmse: 2.23223\n",
      "[400]\tvalid_0's rmse: 2.23223\n",
      "[500]\tvalid_0's rmse: 2.23223\n",
      "Early stopping, best iteration is:\n",
      "[34]\tvalid_0's rmse: 2.08026\n",
      "valid_score:  RMSE = 2.080261914934032\n"
     ]
    },
    {
     "name": "stderr",
     "output_type": "stream",
     "text": [
      "\u001b[32m[I 2022-02-23 14:48:26,806]\u001b[0m Trial 89 finished with value: 2.0551822172002043 and parameters: {'n_estimators': 10000, 'num_leaves': 12, 'boosting': 'gbdt', 'max_depth': 10, 'max_bin': 32, 'min_data_in_leaf': 1, 'min_data_in_bin': 1, 'min_gain_to_split': 3.31, 'learning_rate': 0.28592751064831207, 'random_state': 0, 'feature_fraction': 0.4977496707932757, 'bagging_fraction': 0.9489773359408707, 'bagging_freq': 8, 'lambda_l1': 0.02989896184940218, 'lambda_l2': 0.0001972195049122801}. Best is trial 30 with value: 1.9862723420924664.\u001b[0m\n"
     ]
    },
    {
     "name": "stdout",
     "output_type": "stream",
     "text": [
      "Training until validation scores don't improve for 500 rounds\n",
      "[100]\tvalid_0's rmse: 2.0661\n",
      "[200]\tvalid_0's rmse: 2.0661\n",
      "[300]\tvalid_0's rmse: 2.0661\n",
      "[400]\tvalid_0's rmse: 2.0661\n",
      "[500]\tvalid_0's rmse: 2.0661\n",
      "Early stopping, best iteration is:\n",
      "[20]\tvalid_0's rmse: 2.05518\n",
      "valid_score:  RMSE = 2.0551822172002043\n",
      "Training until validation scores don't improve for 500 rounds\n",
      "[100]\tvalid_0's rmse: 2.19643\n",
      "[200]\tvalid_0's rmse: 2.09224\n",
      "[300]\tvalid_0's rmse: 2.05428\n",
      "[400]\tvalid_0's rmse: 2.0405\n",
      "[500]\tvalid_0's rmse: 2.03499\n",
      "[600]\tvalid_0's rmse: 2.03274\n",
      "[700]\tvalid_0's rmse: 2.03176\n"
     ]
    },
    {
     "name": "stderr",
     "output_type": "stream",
     "text": [
      "\u001b[32m[I 2022-02-23 14:48:27,305]\u001b[0m Trial 90 finished with value: 2.0293069650335283 and parameters: {'n_estimators': 5000, 'num_leaves': 3, 'boosting': 'gbdt', 'max_depth': 12, 'max_bin': 32, 'min_data_in_leaf': 1, 'min_data_in_bin': 1, 'min_gain_to_split': 4.96, 'learning_rate': 0.030446317434540203, 'random_state': 0, 'feature_fraction': 0.4620289753261744, 'bagging_fraction': 0.9159400650196451, 'bagging_freq': 2, 'lambda_l1': 0.0005701198833711513, 'lambda_l2': 5.406463009202209e-06}. Best is trial 30 with value: 1.9862723420924664.\u001b[0m\n"
     ]
    },
    {
     "name": "stdout",
     "output_type": "stream",
     "text": [
      "[800]\tvalid_0's rmse: 2.02931\n",
      "[900]\tvalid_0's rmse: 2.02931\n",
      "[1000]\tvalid_0's rmse: 2.02931\n",
      "[1100]\tvalid_0's rmse: 2.02931\n",
      "[1200]\tvalid_0's rmse: 2.02931\n",
      "Early stopping, best iteration is:\n",
      "[756]\tvalid_0's rmse: 2.02931\n",
      "valid_score:  RMSE = 2.0293069650335283\n"
     ]
    },
    {
     "name": "stderr",
     "output_type": "stream",
     "text": [
      "\u001b[32m[I 2022-02-23 14:48:27,536]\u001b[0m Trial 91 finished with value: 2.009294920672069 and parameters: {'n_estimators': 5000, 'num_leaves': 3, 'boosting': 'gbdt', 'max_depth': 8, 'max_bin': 32, 'min_data_in_leaf': 1, 'min_data_in_bin': 1, 'min_gain_to_split': 3.83, 'learning_rate': 0.20685931083325854, 'random_state': 0, 'feature_fraction': 0.5832617295797333, 'bagging_fraction': 0.7378908497804901, 'bagging_freq': 7, 'lambda_l1': 0.006713591884207217, 'lambda_l2': 0.000600707007538416}. Best is trial 30 with value: 1.9862723420924664.\u001b[0m\n"
     ]
    },
    {
     "name": "stdout",
     "output_type": "stream",
     "text": [
      "Training until validation scores don't improve for 500 rounds\n",
      "[100]\tvalid_0's rmse: 2.03851\n",
      "[200]\tvalid_0's rmse: 2.00929\n",
      "[300]\tvalid_0's rmse: 2.03609\n",
      "[400]\tvalid_0's rmse: 2.03609\n",
      "[500]\tvalid_0's rmse: 2.03609\n",
      "[600]\tvalid_0's rmse: 2.03609\n",
      "[700]\tvalid_0's rmse: 2.03609\n",
      "Early stopping, best iteration is:\n",
      "[200]\tvalid_0's rmse: 2.00929\n",
      "valid_score:  RMSE = 2.009294920672069\n"
     ]
    },
    {
     "name": "stderr",
     "output_type": "stream",
     "text": [
      "\u001b[32m[I 2022-02-23 14:48:27,719]\u001b[0m Trial 92 finished with value: 1.9860461675779786 and parameters: {'n_estimators': 10000, 'num_leaves': 5, 'boosting': 'gbdt', 'max_depth': 2, 'max_bin': 32, 'min_data_in_leaf': 1, 'min_data_in_bin': 1, 'min_gain_to_split': 0.82, 'learning_rate': 0.1133803621656389, 'random_state': 0, 'feature_fraction': 0.6623248342117645, 'bagging_fraction': 0.8256318373795901, 'bagging_freq': 5, 'lambda_l1': 0.039307463941689755, 'lambda_l2': 0.5063971670935687}. Best is trial 92 with value: 1.9860461675779786.\u001b[0m\n"
     ]
    },
    {
     "name": "stdout",
     "output_type": "stream",
     "text": [
      "Training until validation scores don't improve for 500 rounds\n",
      "[100]\tvalid_0's rmse: 2.02702\n",
      "[200]\tvalid_0's rmse: 2.00266\n",
      "[300]\tvalid_0's rmse: 1.99687\n",
      "[400]\tvalid_0's rmse: 1.99753\n",
      "[500]\tvalid_0's rmse: 2.00874\n",
      "[600]\tvalid_0's rmse: 2.02326\n",
      "[700]\tvalid_0's rmse: 2.02469\n",
      "Early stopping, best iteration is:\n",
      "[238]\tvalid_0's rmse: 1.98605\n",
      "valid_score:  RMSE = 1.9860461675779786\n",
      "Training until validation scores don't improve for 500 rounds\n",
      "[100]\tvalid_0's rmse: 2.08077\n",
      "[200]\tvalid_0's rmse: 2.04015\n",
      "[300]\tvalid_0's rmse: 2.04508\n",
      "[400]\tvalid_0's rmse: 2.0385\n",
      "[500]\tvalid_0's rmse: 2.04857\n",
      "[600]\tvalid_0's rmse: 2.05458\n"
     ]
    },
    {
     "name": "stderr",
     "output_type": "stream",
     "text": [
      "\u001b[32m[I 2022-02-23 14:48:28,449]\u001b[0m Trial 93 finished with value: 2.032281631019444 and parameters: {'n_estimators': 10000, 'num_leaves': 11, 'boosting': 'gbdt', 'max_depth': 15, 'max_bin': 32, 'min_data_in_leaf': 1, 'min_data_in_bin': 1, 'min_gain_to_split': 0.59, 'learning_rate': 0.03489918613128171, 'random_state': 0, 'feature_fraction': 0.5691703326058928, 'bagging_fraction': 0.4593137635422135, 'bagging_freq': 3, 'lambda_l1': 0.0002790080484985566, 'lambda_l2': 0.002749666951271998}. Best is trial 92 with value: 1.9860461675779786.\u001b[0m\n"
     ]
    },
    {
     "name": "stdout",
     "output_type": "stream",
     "text": [
      "[700]\tvalid_0's rmse: 2.05838\n",
      "[800]\tvalid_0's rmse: 2.06143\n",
      "Early stopping, best iteration is:\n",
      "[324]\tvalid_0's rmse: 2.03228\n",
      "valid_score:  RMSE = 2.032281631019444\n",
      "Training until validation scores don't improve for 500 rounds\n",
      "[100]\tvalid_0's rmse: 2.04262\n",
      "[200]\tvalid_0's rmse: 2.04307\n"
     ]
    },
    {
     "name": "stderr",
     "output_type": "stream",
     "text": [
      "\u001b[32m[I 2022-02-23 14:48:28,659]\u001b[0m Trial 94 finished with value: 2.0365891844461066 and parameters: {'n_estimators': 10000, 'num_leaves': 3, 'boosting': 'gbdt', 'max_depth': 2, 'max_bin': 32, 'min_data_in_leaf': 1, 'min_data_in_bin': 1, 'min_gain_to_split': 2.97, 'learning_rate': 0.23334647709662185, 'random_state': 0, 'feature_fraction': 0.6309898877187244, 'bagging_fraction': 0.9092199464581894, 'bagging_freq': 2, 'lambda_l1': 7.145931962684885e-08, 'lambda_l2': 1.6048425913603668e-08}. Best is trial 92 with value: 1.9860461675779786.\u001b[0m\n"
     ]
    },
    {
     "name": "stdout",
     "output_type": "stream",
     "text": [
      "[300]\tvalid_0's rmse: 2.04307\n",
      "[400]\tvalid_0's rmse: 2.04307\n",
      "[500]\tvalid_0's rmse: 2.04307\n",
      "Early stopping, best iteration is:\n",
      "[94]\tvalid_0's rmse: 2.03659\n",
      "valid_score:  RMSE = 2.0365891844461066\n",
      "Training until validation scores don't improve for 500 rounds\n",
      "[100]\tvalid_0's rmse: 2.10156\n",
      "[200]\tvalid_0's rmse: 2.10156\n"
     ]
    },
    {
     "name": "stderr",
     "output_type": "stream",
     "text": [
      "\u001b[32m[I 2022-02-23 14:48:28,858]\u001b[0m Trial 95 finished with value: 2.088342180970849 and parameters: {'n_estimators': 10000, 'num_leaves': 13, 'boosting': 'gbdt', 'max_depth': 8, 'max_bin': 32, 'min_data_in_leaf': 1, 'min_data_in_bin': 1, 'min_gain_to_split': 4.1499999999999995, 'learning_rate': 0.21626712536208226, 'random_state': 0, 'feature_fraction': 0.7279133834289924, 'bagging_fraction': 0.7079741052854898, 'bagging_freq': 7, 'lambda_l1': 1.3054196464632273e-05, 'lambda_l2': 0.010266811257123205}. Best is trial 92 with value: 1.9860461675779786.\u001b[0m\n"
     ]
    },
    {
     "name": "stdout",
     "output_type": "stream",
     "text": [
      "[300]\tvalid_0's rmse: 2.10156\n",
      "[400]\tvalid_0's rmse: 2.10156\n",
      "[500]\tvalid_0's rmse: 2.10156\n",
      "Early stopping, best iteration is:\n",
      "[16]\tvalid_0's rmse: 2.08834\n",
      "valid_score:  RMSE = 2.088342180970849\n",
      "Training until validation scores don't improve for 500 rounds\n",
      "[100]\tvalid_0's rmse: 2.06667\n",
      "[200]\tvalid_0's rmse: 2.07757\n",
      "[300]\tvalid_0's rmse: 2.10913\n"
     ]
    },
    {
     "name": "stderr",
     "output_type": "stream",
     "text": [
      "\u001b[32m[I 2022-02-23 14:48:29,092]\u001b[0m Trial 96 finished with value: 2.059723676534875 and parameters: {'n_estimators': 5000, 'num_leaves': 9, 'boosting': 'gbdt', 'max_depth': 7, 'max_bin': 32, 'min_data_in_leaf': 1, 'min_data_in_bin': 1, 'min_gain_to_split': 1.36, 'learning_rate': 0.11294791325831588, 'random_state': 0, 'feature_fraction': 0.5570003052512289, 'bagging_fraction': 0.6081277987124583, 'bagging_freq': 3, 'lambda_l1': 6.357871237326506e-08, 'lambda_l2': 5.739756238890792e-08}. Best is trial 92 with value: 1.9860461675779786.\u001b[0m\n"
     ]
    },
    {
     "name": "stdout",
     "output_type": "stream",
     "text": [
      "[400]\tvalid_0's rmse: 2.09494\n",
      "[500]\tvalid_0's rmse: 2.0966\n",
      "Early stopping, best iteration is:\n",
      "[78]\tvalid_0's rmse: 2.05972\n",
      "valid_score:  RMSE = 2.059723676534875\n",
      "Training until validation scores don't improve for 500 rounds\n",
      "[100]\tvalid_0's rmse: 2.06629\n",
      "[200]\tvalid_0's rmse: 2.13123\n",
      "[300]\tvalid_0's rmse: 2.15749\n"
     ]
    },
    {
     "name": "stderr",
     "output_type": "stream",
     "text": [
      "\u001b[32m[I 2022-02-23 14:48:29,335]\u001b[0m Trial 97 finished with value: 2.0175125765822357 and parameters: {'n_estimators': 10000, 'num_leaves': 13, 'boosting': 'gbdt', 'max_depth': 3, 'max_bin': 32, 'min_data_in_leaf': 1, 'min_data_in_bin': 1, 'min_gain_to_split': 1.7000000000000002, 'learning_rate': 0.19520074776922378, 'random_state': 0, 'feature_fraction': 0.7981505878537513, 'bagging_fraction': 0.5002692222069802, 'bagging_freq': 5, 'lambda_l1': 1.8634818988460245e-05, 'lambda_l2': 0.0001948600832060866}. Best is trial 92 with value: 1.9860461675779786.\u001b[0m\n"
     ]
    },
    {
     "name": "stdout",
     "output_type": "stream",
     "text": [
      "[400]\tvalid_0's rmse: 2.16035\n",
      "[500]\tvalid_0's rmse: 2.15953\n",
      "Early stopping, best iteration is:\n",
      "[53]\tvalid_0's rmse: 2.01751\n",
      "valid_score:  RMSE = 2.0175125765822357\n",
      "Training until validation scores don't improve for 500 rounds\n",
      "[100]\tvalid_0's rmse: 2.12862\n",
      "[200]\tvalid_0's rmse: 2.06492\n",
      "[300]\tvalid_0's rmse: 2.04718\n",
      "[400]\tvalid_0's rmse: 2.04102\n"
     ]
    },
    {
     "name": "stderr",
     "output_type": "stream",
     "text": [
      "\u001b[32m[I 2022-02-23 14:48:29,637]\u001b[0m Trial 98 finished with value: 2.038435963331573 and parameters: {'n_estimators': 10000, 'num_leaves': 4, 'boosting': 'gbdt', 'max_depth': 10, 'max_bin': 32, 'min_data_in_leaf': 1, 'min_data_in_bin': 1, 'min_gain_to_split': 4.22, 'learning_rate': 0.031314777106305536, 'random_state': 0, 'feature_fraction': 0.6873033727778788, 'bagging_fraction': 0.9776274531862073, 'bagging_freq': 8, 'lambda_l1': 0.13790065093010012, 'lambda_l2': 4.830150265816104e-07}. Best is trial 92 with value: 1.9860461675779786.\u001b[0m\n"
     ]
    },
    {
     "name": "stdout",
     "output_type": "stream",
     "text": [
      "[500]\tvalid_0's rmse: 2.03844\n",
      "[600]\tvalid_0's rmse: 2.03844\n",
      "[700]\tvalid_0's rmse: 2.03844\n",
      "[800]\tvalid_0's rmse: 2.03844\n",
      "[900]\tvalid_0's rmse: 2.03844\n",
      "Early stopping, best iteration is:\n",
      "[476]\tvalid_0's rmse: 2.03844\n",
      "valid_score:  RMSE = 2.038435963331573\n",
      "Training until validation scores don't improve for 500 rounds\n",
      "[100]\tvalid_0's rmse: 2.05752\n",
      "[200]\tvalid_0's rmse: 2.03436\n",
      "[300]\tvalid_0's rmse: 2.03765\n",
      "[400]\tvalid_0's rmse: 2.03738\n",
      "[500]\tvalid_0's rmse: 2.03182\n",
      "[600]\tvalid_0's rmse: 2.03972\n"
     ]
    },
    {
     "name": "stderr",
     "output_type": "stream",
     "text": [
      "\u001b[32m[I 2022-02-23 14:48:30,032]\u001b[0m Trial 99 finished with value: 2.028206466433566 and parameters: {'n_estimators': 5000, 'num_leaves': 11, 'boosting': 'gbdt', 'max_depth': 11, 'max_bin': 32, 'min_data_in_leaf': 1, 'min_data_in_bin': 1, 'min_gain_to_split': 4.6, 'learning_rate': 0.03302967511900994, 'random_state': 0, 'feature_fraction': 0.8837883698888954, 'bagging_fraction': 0.46586491331523544, 'bagging_freq': 7, 'lambda_l1': 1.1759892840557504e-08, 'lambda_l2': 2.1952977154445265e-08}. Best is trial 92 with value: 1.9860461675779786.\u001b[0m\n"
     ]
    },
    {
     "name": "stdout",
     "output_type": "stream",
     "text": [
      "[700]\tvalid_0's rmse: 2.03702\n",
      "[800]\tvalid_0's rmse: 2.03702\n",
      "[900]\tvalid_0's rmse: 2.03702\n",
      "Early stopping, best iteration is:\n",
      "[454]\tvalid_0's rmse: 2.02821\n",
      "valid_score:  RMSE = 2.028206466433566\n",
      "Training until validation scores don't improve for 500 rounds\n",
      "[100]\tvalid_0's rmse: 2.07095\n"
     ]
    },
    {
     "name": "stderr",
     "output_type": "stream",
     "text": [
      "\u001b[32m[I 2022-02-23 14:48:30,379]\u001b[0m Trial 100 finished with value: 2.02489283342956 and parameters: {'n_estimators': 10000, 'num_leaves': 11, 'boosting': 'gbdt', 'max_depth': 12, 'max_bin': 32, 'min_data_in_leaf': 1, 'min_data_in_bin': 1, 'min_gain_to_split': 1.1500000000000001, 'learning_rate': 0.03129633939885656, 'random_state': 0, 'feature_fraction': 0.6241302883138635, 'bagging_fraction': 0.9640852333798804, 'bagging_freq': 7, 'lambda_l1': 0.0004435549345293922, 'lambda_l2': 3.35101688798448e-07}. Best is trial 92 with value: 1.9860461675779786.\u001b[0m\n"
     ]
    },
    {
     "name": "stdout",
     "output_type": "stream",
     "text": [
      "[200]\tvalid_0's rmse: 2.02584\n",
      "[300]\tvalid_0's rmse: 2.03801\n",
      "[400]\tvalid_0's rmse: 2.0323\n",
      "[500]\tvalid_0's rmse: 2.0356\n",
      "[600]\tvalid_0's rmse: 2.03703\n",
      "[700]\tvalid_0's rmse: 2.03684\n",
      "Early stopping, best iteration is:\n",
      "[205]\tvalid_0's rmse: 2.02489\n",
      "valid_score:  RMSE = 2.02489283342956\n"
     ]
    },
    {
     "name": "stderr",
     "output_type": "stream",
     "text": [
      "\u001b[32m[I 2022-02-23 14:48:30,610]\u001b[0m Trial 101 finished with value: 2.016261119278591 and parameters: {'n_estimators': 10000, 'num_leaves': 14, 'boosting': 'gbdt', 'max_depth': 11, 'max_bin': 32, 'min_data_in_leaf': 1, 'min_data_in_bin': 1, 'min_gain_to_split': 1.9700000000000002, 'learning_rate': 0.13427287197200802, 'random_state': 0, 'feature_fraction': 0.45153820130230515, 'bagging_fraction': 0.853630097883727, 'bagging_freq': 3, 'lambda_l1': 1.3467284693874428e-06, 'lambda_l2': 1.5261404918250623e-07}. Best is trial 92 with value: 1.9860461675779786.\u001b[0m\n"
     ]
    },
    {
     "name": "stdout",
     "output_type": "stream",
     "text": [
      "Training until validation scores don't improve for 500 rounds\n",
      "[100]\tvalid_0's rmse: 2.01626\n",
      "[200]\tvalid_0's rmse: 2.0253\n",
      "[300]\tvalid_0's rmse: 2.0253\n",
      "[400]\tvalid_0's rmse: 2.0253\n",
      "[500]\tvalid_0's rmse: 2.0253\n",
      "Early stopping, best iteration is:\n",
      "[99]\tvalid_0's rmse: 2.01404\n",
      "valid_score:  RMSE = 2.016261119278591\n"
     ]
    },
    {
     "name": "stderr",
     "output_type": "stream",
     "text": [
      "\u001b[32m[I 2022-02-23 14:48:30,816]\u001b[0m Trial 102 finished with value: 2.016296267633765 and parameters: {'n_estimators': 10000, 'num_leaves': 13, 'boosting': 'gbdt', 'max_depth': 13, 'max_bin': 32, 'min_data_in_leaf': 1, 'min_data_in_bin': 1, 'min_gain_to_split': 4.85, 'learning_rate': 0.12400946026929092, 'random_state': 0, 'feature_fraction': 0.9190326207558901, 'bagging_fraction': 0.9002348144660108, 'bagging_freq': 4, 'lambda_l1': 0.010066556226233458, 'lambda_l2': 8.041240318115744e-06}. Best is trial 92 with value: 1.9860461675779786.\u001b[0m\n"
     ]
    },
    {
     "name": "stdout",
     "output_type": "stream",
     "text": [
      "Training until validation scores don't improve for 500 rounds\n",
      "[100]\tvalid_0's rmse: 2.02338\n",
      "[200]\tvalid_0's rmse: 2.02338\n",
      "[300]\tvalid_0's rmse: 2.02338\n",
      "[400]\tvalid_0's rmse: 2.02338\n",
      "[500]\tvalid_0's rmse: 2.02338\n",
      "Early stopping, best iteration is:\n",
      "[44]\tvalid_0's rmse: 2.0163\n",
      "valid_score:  RMSE = 2.016296267633765\n"
     ]
    },
    {
     "name": "stderr",
     "output_type": "stream",
     "text": [
      "\u001b[32m[I 2022-02-23 14:48:30,995]\u001b[0m Trial 103 finished with value: 2.018429346210552 and parameters: {'n_estimators': 10000, 'num_leaves': 2, 'boosting': 'gbdt', 'max_depth': 2, 'max_bin': 32, 'min_data_in_leaf': 1, 'min_data_in_bin': 1, 'min_gain_to_split': 3.02, 'learning_rate': 0.20031098540225162, 'random_state': 0, 'feature_fraction': 0.9984073788467015, 'bagging_fraction': 0.7054294491843182, 'bagging_freq': 5, 'lambda_l1': 1.0765262280136307e-07, 'lambda_l2': 2.6402983816423626e-07}. Best is trial 92 with value: 1.9860461675779786.\u001b[0m\n"
     ]
    },
    {
     "name": "stdout",
     "output_type": "stream",
     "text": [
      "Training until validation scores don't improve for 500 rounds\n",
      "[100]\tvalid_0's rmse: 2.06139\n",
      "[200]\tvalid_0's rmse: 2.02975\n",
      "[300]\tvalid_0's rmse: 2.02377\n",
      "[400]\tvalid_0's rmse: 2.02578\n",
      "[500]\tvalid_0's rmse: 2.03786\n",
      "[600]\tvalid_0's rmse: 2.03965\n",
      "[700]\tvalid_0's rmse: 2.03541\n",
      "[800]\tvalid_0's rmse: 2.03223\n",
      "Early stopping, best iteration is:\n",
      "[375]\tvalid_0's rmse: 2.01843\n",
      "valid_score:  RMSE = 2.018429346210552\n",
      "Training until validation scores don't improve for 500 rounds\n"
     ]
    },
    {
     "name": "stderr",
     "output_type": "stream",
     "text": [
      "\u001b[32m[I 2022-02-23 14:48:31,186]\u001b[0m Trial 104 finished with value: 2.0360106092237125 and parameters: {'n_estimators': 5000, 'num_leaves': 2, 'boosting': 'gbdt', 'max_depth': 13, 'max_bin': 32, 'min_data_in_leaf': 1, 'min_data_in_bin': 1, 'min_gain_to_split': 0.12000000000000001, 'learning_rate': 0.27565474837621606, 'random_state': 0, 'feature_fraction': 0.6737135218357557, 'bagging_fraction': 0.7080689447664292, 'bagging_freq': 4, 'lambda_l1': 6.444407019579273e-08, 'lambda_l2': 8.131481106227776e-05}. Best is trial 92 with value: 1.9860461675779786.\u001b[0m\n"
     ]
    },
    {
     "name": "stdout",
     "output_type": "stream",
     "text": [
      "[100]\tvalid_0's rmse: 2.06319\n",
      "[200]\tvalid_0's rmse: 2.04879\n",
      "[300]\tvalid_0's rmse: 2.04515\n",
      "[400]\tvalid_0's rmse: 2.05285\n",
      "[500]\tvalid_0's rmse: 2.04039\n",
      "[600]\tvalid_0's rmse: 2.06291\n",
      "[700]\tvalid_0's rmse: 2.07027\n",
      "[800]\tvalid_0's rmse: 2.05184\n",
      "[900]\tvalid_0's rmse: 2.04817\n",
      "Early stopping, best iteration is:\n",
      "[476]\tvalid_0's rmse: 2.03601\n",
      "valid_score:  RMSE = 2.0360106092237125\n",
      "Training until validation scores don't improve for 500 rounds\n",
      "[100]\tvalid_0's rmse: 2.07108\n",
      "[200]\tvalid_0's rmse: 2.0352\n"
     ]
    },
    {
     "name": "stderr",
     "output_type": "stream",
     "text": [
      "\u001b[32m[I 2022-02-23 14:48:31,396]\u001b[0m Trial 105 finished with value: 2.022042790390524 and parameters: {'n_estimators': 5000, 'num_leaves': 3, 'boosting': 'gbdt', 'max_depth': 6, 'max_bin': 32, 'min_data_in_leaf': 1, 'min_data_in_bin': 1, 'min_gain_to_split': 2.69, 'learning_rate': 0.08549663434513674, 'random_state': 0, 'feature_fraction': 0.7095535890168534, 'bagging_fraction': 0.46267148013340353, 'bagging_freq': 3, 'lambda_l1': 0.0001698618503751, 'lambda_l2': 1.4535539038516907e-06}. Best is trial 92 with value: 1.9860461675779786.\u001b[0m\n"
     ]
    },
    {
     "name": "stdout",
     "output_type": "stream",
     "text": [
      "[300]\tvalid_0's rmse: 2.04052\n",
      "[400]\tvalid_0's rmse: 2.02608\n",
      "[500]\tvalid_0's rmse: 2.02654\n",
      "[600]\tvalid_0's rmse: 2.05101\n",
      "[700]\tvalid_0's rmse: 2.05346\n",
      "[800]\tvalid_0's rmse: 2.05046\n",
      "[900]\tvalid_0's rmse: 2.07499\n",
      "Early stopping, best iteration is:\n",
      "[461]\tvalid_0's rmse: 2.02204\n",
      "valid_score:  RMSE = 2.022042790390524\n",
      "Training until validation scores don't improve for 500 rounds\n",
      "[100]\tvalid_0's rmse: 2.05684\n",
      "[200]\tvalid_0's rmse: 2.07579\n"
     ]
    },
    {
     "name": "stderr",
     "output_type": "stream",
     "text": [
      "\u001b[32m[I 2022-02-23 14:48:31,609]\u001b[0m Trial 106 finished with value: 2.0538925288099126 and parameters: {'n_estimators': 5000, 'num_leaves': 7, 'boosting': 'gbdt', 'max_depth': 12, 'max_bin': 32, 'min_data_in_leaf': 1, 'min_data_in_bin': 1, 'min_gain_to_split': 4.6, 'learning_rate': 0.12347240712567753, 'random_state': 0, 'feature_fraction': 0.901449106295608, 'bagging_fraction': 0.5429929020513966, 'bagging_freq': 3, 'lambda_l1': 0.0032302532620153614, 'lambda_l2': 8.466901710927203e-05}. Best is trial 92 with value: 1.9860461675779786.\u001b[0m\n"
     ]
    },
    {
     "name": "stdout",
     "output_type": "stream",
     "text": [
      "[300]\tvalid_0's rmse: 2.09094\n",
      "[400]\tvalid_0's rmse: 2.09094\n",
      "[500]\tvalid_0's rmse: 2.09094\n",
      "Early stopping, best iteration is:\n",
      "[99]\tvalid_0's rmse: 2.05389\n",
      "valid_score:  RMSE = 2.0538925288099126\n",
      "Training until validation scores don't improve for 500 rounds\n",
      "[100]\tvalid_0's rmse: 2.09006\n",
      "[200]\tvalid_0's rmse: 2.05362\n"
     ]
    },
    {
     "name": "stderr",
     "output_type": "stream",
     "text": [
      "\u001b[32m[I 2022-02-23 14:48:31,868]\u001b[0m Trial 107 finished with value: 2.041487040752721 and parameters: {'n_estimators': 10000, 'num_leaves': 6, 'boosting': 'gbdt', 'max_depth': 8, 'max_bin': 32, 'min_data_in_leaf': 1, 'min_data_in_bin': 1, 'min_gain_to_split': 1.28, 'learning_rate': 0.05439697492807363, 'random_state': 0, 'feature_fraction': 0.5641682045321804, 'bagging_fraction': 0.4431467481634014, 'bagging_freq': 3, 'lambda_l1': 0.014189361094916976, 'lambda_l2': 0.015668674559464992}. Best is trial 92 with value: 1.9860461675779786.\u001b[0m\n"
     ]
    },
    {
     "name": "stdout",
     "output_type": "stream",
     "text": [
      "[300]\tvalid_0's rmse: 2.0555\n",
      "[400]\tvalid_0's rmse: 2.04894\n",
      "[500]\tvalid_0's rmse: 2.06277\n",
      "[600]\tvalid_0's rmse: 2.0705\n",
      "[700]\tvalid_0's rmse: 2.06944\n",
      "[800]\tvalid_0's rmse: 2.06225\n",
      "Early stopping, best iteration is:\n",
      "[321]\tvalid_0's rmse: 2.04149\n",
      "valid_score:  RMSE = 2.041487040752721\n",
      "Training until validation scores don't improve for 500 rounds\n",
      "[100]\tvalid_0's rmse: 2.02366\n",
      "[200]\tvalid_0's rmse: 2.01224\n",
      "[300]\tvalid_0's rmse: 2.01014\n",
      "[400]\tvalid_0's rmse: 2.0194\n",
      "[500]\tvalid_0's rmse: 2.01881\n",
      "[600]\tvalid_0's rmse: 2.02198\n"
     ]
    },
    {
     "name": "stderr",
     "output_type": "stream",
     "text": [
      "\u001b[32m[I 2022-02-23 14:48:32,243]\u001b[0m Trial 108 finished with value: 2.004007768833321 and parameters: {'n_estimators': 10000, 'num_leaves': 12, 'boosting': 'gbdt', 'max_depth': 8, 'max_bin': 32, 'min_data_in_leaf': 1, 'min_data_in_bin': 1, 'min_gain_to_split': 1.3900000000000001, 'learning_rate': 0.05176758353887497, 'random_state': 0, 'feature_fraction': 0.9265805319112331, 'bagging_fraction': 0.6585471184187071, 'bagging_freq': 8, 'lambda_l1': 0.07531891507450256, 'lambda_l2': 0.6800638406452593}. Best is trial 92 with value: 1.9860461675779786.\u001b[0m\n",
      "\u001b[32m[I 2022-02-23 14:48:32,432]\u001b[0m Trial 109 finished with value: 2.081883377722998 and parameters: {'n_estimators': 5000, 'num_leaves': 16, 'boosting': 'gbdt', 'max_depth': 7, 'max_bin': 32, 'min_data_in_leaf': 1, 'min_data_in_bin': 1, 'min_gain_to_split': 4.95, 'learning_rate': 0.20399744271329295, 'random_state': 0, 'feature_fraction': 0.9925089689482365, 'bagging_fraction': 0.8602642678201711, 'bagging_freq': 7, 'lambda_l1': 0.00012370661188226627, 'lambda_l2': 3.855835633410832e-06}. Best is trial 92 with value: 1.9860461675779786.\u001b[0m\n"
     ]
    },
    {
     "name": "stdout",
     "output_type": "stream",
     "text": [
      "Early stopping, best iteration is:\n",
      "[178]\tvalid_0's rmse: 2.00401\n",
      "valid_score:  RMSE = 2.004007768833321\n",
      "Training until validation scores don't improve for 500 rounds\n",
      "[100]\tvalid_0's rmse: 2.13475\n",
      "[200]\tvalid_0's rmse: 2.13475\n",
      "[300]\tvalid_0's rmse: 2.13475\n",
      "[400]\tvalid_0's rmse: 2.13475\n",
      "[500]\tvalid_0's rmse: 2.13475\n",
      "Early stopping, best iteration is:\n",
      "[13]\tvalid_0's rmse: 2.08188\n",
      "valid_score:  RMSE = 2.081883377722998\n",
      "Training until validation scores don't improve for 500 rounds\n",
      "[100]\tvalid_0's rmse: 2.08923\n",
      "[200]\tvalid_0's rmse: 2.10313\n",
      "[300]\tvalid_0's rmse: 2.10313\n",
      "[400]\tvalid_0's rmse: 2.10313\n",
      "[500]\tvalid_0's rmse: 2.10313\n",
      "Early stopping, best iteration is:\n",
      "[34]\tvalid_0's rmse: 2.04291\n"
     ]
    },
    {
     "name": "stderr",
     "output_type": "stream",
     "text": [
      "\u001b[32m[I 2022-02-23 14:48:32,669]\u001b[0m Trial 110 finished with value: 2.0429092213082063 and parameters: {'n_estimators': 5000, 'num_leaves': 13, 'boosting': 'gbdt', 'max_depth': 15, 'max_bin': 32, 'min_data_in_leaf': 1, 'min_data_in_bin': 1, 'min_gain_to_split': 1.9400000000000002, 'learning_rate': 0.23851961036673353, 'random_state': 0, 'feature_fraction': 0.7631185382065219, 'bagging_fraction': 0.6182512477288348, 'bagging_freq': 5, 'lambda_l1': 0.013297843768898601, 'lambda_l2': 0.03334843939325189}. Best is trial 92 with value: 1.9860461675779786.\u001b[0m\n"
     ]
    },
    {
     "name": "stdout",
     "output_type": "stream",
     "text": [
      "valid_score:  RMSE = 2.0429092213082063\n",
      "Training until validation scores don't improve for 500 rounds\n",
      "[100]\tvalid_0's rmse: 2.04129\n",
      "[200]\tvalid_0's rmse: 2.01321\n",
      "[300]\tvalid_0's rmse: 1.99914\n",
      "[400]\tvalid_0's rmse: 1.99786\n",
      "[500]\tvalid_0's rmse: 1.99969\n",
      "[600]\tvalid_0's rmse: 1.99824\n",
      "[700]\tvalid_0's rmse: 1.99904\n",
      "[800]\tvalid_0's rmse: 1.9984\n",
      "[900]\tvalid_0's rmse: 2.00253\n"
     ]
    },
    {
     "name": "stderr",
     "output_type": "stream",
     "text": [
      "\u001b[32m[I 2022-02-23 14:48:32,955]\u001b[0m Trial 111 finished with value: 1.9888562789846314 and parameters: {'n_estimators': 5000, 'num_leaves': 3, 'boosting': 'gbdt', 'max_depth': 6, 'max_bin': 32, 'min_data_in_leaf': 1, 'min_data_in_bin': 1, 'min_gain_to_split': 0.92, 'learning_rate': 0.09890386445144332, 'random_state': 0, 'feature_fraction': 0.7845831587269461, 'bagging_fraction': 0.901549660453126, 'bagging_freq': 8, 'lambda_l1': 4.103135437279232e-08, 'lambda_l2': 1.4028425979102647e-07}. Best is trial 92 with value: 1.9860461675779786.\u001b[0m\n"
     ]
    },
    {
     "name": "stdout",
     "output_type": "stream",
     "text": [
      "[1000]\tvalid_0's rmse: 2.01227\n",
      "[1100]\tvalid_0's rmse: 2.01776\n",
      "[1200]\tvalid_0's rmse: 2.03241\n",
      "Early stopping, best iteration is:\n",
      "[743]\tvalid_0's rmse: 1.98886\n",
      "valid_score:  RMSE = 1.9888562789846314\n",
      "Training until validation scores don't improve for 500 rounds\n",
      "[100]\tvalid_0's rmse: 2.03315\n",
      "[200]\tvalid_0's rmse: 2.03315\n",
      "[300]\tvalid_0's rmse: 2.03315\n",
      "[400]\tvalid_0's rmse: 2.03315\n"
     ]
    },
    {
     "name": "stderr",
     "output_type": "stream",
     "text": [
      "\u001b[32m[I 2022-02-23 14:48:33,151]\u001b[0m Trial 112 finished with value: 2.020962313186983 and parameters: {'n_estimators': 5000, 'num_leaves': 11, 'boosting': 'gbdt', 'max_depth': 3, 'max_bin': 32, 'min_data_in_leaf': 1, 'min_data_in_bin': 1, 'min_gain_to_split': 4.62, 'learning_rate': 0.14492532757536455, 'random_state': 0, 'feature_fraction': 0.8731140852245884, 'bagging_fraction': 0.7623027709018171, 'bagging_freq': 8, 'lambda_l1': 0.0027739559412139026, 'lambda_l2': 1.0487188699070174e-07}. Best is trial 92 with value: 1.9860461675779786.\u001b[0m\n"
     ]
    },
    {
     "name": "stdout",
     "output_type": "stream",
     "text": [
      "[500]\tvalid_0's rmse: 2.03315\n",
      "Early stopping, best iteration is:\n",
      "[65]\tvalid_0's rmse: 2.02096\n",
      "valid_score:  RMSE = 2.020962313186983\n",
      "Training until validation scores don't improve for 500 rounds\n",
      "[100]\tvalid_0's rmse: 2.17226\n",
      "[200]\tvalid_0's rmse: 2.16435\n",
      "[300]\tvalid_0's rmse: 2.16435\n"
     ]
    },
    {
     "name": "stderr",
     "output_type": "stream",
     "text": [
      "\u001b[32m[I 2022-02-23 14:48:33,396]\u001b[0m Trial 113 finished with value: 2.1015211748770604 and parameters: {'n_estimators': 10000, 'num_leaves': 16, 'boosting': 'gbdt', 'max_depth': 9, 'max_bin': 32, 'min_data_in_leaf': 1, 'min_data_in_bin': 1, 'min_gain_to_split': 3.22, 'learning_rate': 0.18136697091482878, 'random_state': 0, 'feature_fraction': 0.7783757627407188, 'bagging_fraction': 0.4842785646066322, 'bagging_freq': 1, 'lambda_l1': 2.6866730529788487e-07, 'lambda_l2': 0.0003108257309380895}. Best is trial 92 with value: 1.9860461675779786.\u001b[0m\n"
     ]
    },
    {
     "name": "stdout",
     "output_type": "stream",
     "text": [
      "[400]\tvalid_0's rmse: 2.16435\n",
      "[500]\tvalid_0's rmse: 2.16435\n",
      "Early stopping, best iteration is:\n",
      "[16]\tvalid_0's rmse: 2.10152\n",
      "valid_score:  RMSE = 2.1015211748770604\n",
      "Training until validation scores don't improve for 500 rounds\n",
      "[100]\tvalid_0's rmse: 2.04738\n",
      "[200]\tvalid_0's rmse: 2.038\n",
      "[300]\tvalid_0's rmse: 2.0564\n",
      "[400]\tvalid_0's rmse: 2.05819\n",
      "[500]\tvalid_0's rmse: 2.03962\n",
      "[600]\tvalid_0's rmse: 2.06146\n",
      "[700]\tvalid_0's rmse: 2.07915\n"
     ]
    },
    {
     "name": "stderr",
     "output_type": "stream",
     "text": [
      "\u001b[32m[I 2022-02-23 14:48:33,596]\u001b[0m Trial 114 finished with value: 2.0363068998764384 and parameters: {'n_estimators': 5000, 'num_leaves': 2, 'boosting': 'gbdt', 'max_depth': 8, 'max_bin': 32, 'min_data_in_leaf': 1, 'min_data_in_bin': 1, 'min_gain_to_split': 3.12, 'learning_rate': 0.23399648191612354, 'random_state': 0, 'feature_fraction': 0.5768972737797129, 'bagging_fraction': 0.48375460575627416, 'bagging_freq': 8, 'lambda_l1': 0.3854457827400293, 'lambda_l2': 3.4648794178294323e-07}. Best is trial 92 with value: 1.9860461675779786.\u001b[0m\n",
      "\u001b[32m[I 2022-02-23 14:48:33,749]\u001b[0m Trial 115 finished with value: 2.010448701098014 and parameters: {'n_estimators': 5000, 'num_leaves': 4, 'boosting': 'gbdt', 'max_depth': 4, 'max_bin': 32, 'min_data_in_leaf': 1, 'min_data_in_bin': 1, 'min_gain_to_split': 0.58, 'learning_rate': 0.25720450570850806, 'random_state': 0, 'feature_fraction': 0.5827333887019921, 'bagging_fraction': 0.7284430139412668, 'bagging_freq': 6, 'lambda_l1': 1.0390782878988051e-06, 'lambda_l2': 6.640817462349563e-06}. Best is trial 92 with value: 1.9860461675779786.\u001b[0m\n"
     ]
    },
    {
     "name": "stdout",
     "output_type": "stream",
     "text": [
      "[800]\tvalid_0's rmse: 2.06233\n",
      "[900]\tvalid_0's rmse: 2.07474\n",
      "[1000]\tvalid_0's rmse: 2.06195\n",
      "Early stopping, best iteration is:\n",
      "[503]\tvalid_0's rmse: 2.03631\n",
      "valid_score:  RMSE = 2.0363068998764384\n",
      "Training until validation scores don't improve for 500 rounds\n",
      "[100]\tvalid_0's rmse: 2.04273\n",
      "[200]\tvalid_0's rmse: 2.08255\n",
      "[300]\tvalid_0's rmse: 2.08378\n",
      "[400]\tvalid_0's rmse: 2.09085\n",
      "[500]\tvalid_0's rmse: 2.10183\n",
      "Early stopping, best iteration is:\n",
      "[57]\tvalid_0's rmse: 2.01045\n",
      "valid_score:  RMSE = 2.010448701098014\n",
      "Training until validation scores don't improve for 500 rounds\n",
      "[100]\tvalid_0's rmse: 2.46759\n",
      "[200]\tvalid_0's rmse: 2.26107\n",
      "[300]\tvalid_0's rmse: 2.16488\n",
      "[400]\tvalid_0's rmse: 2.11203\n",
      "[500]\tvalid_0's rmse: 2.08153\n",
      "[600]\tvalid_0's rmse: 2.06418\n",
      "[700]\tvalid_0's rmse: 2.05355\n",
      "[800]\tvalid_0's rmse: 2.04512\n",
      "[900]\tvalid_0's rmse: 2.03869\n",
      "[1000]\tvalid_0's rmse: 2.03332\n",
      "[1100]\tvalid_0's rmse: 2.02858\n",
      "[1200]\tvalid_0's rmse: 2.02469\n",
      "[1300]\tvalid_0's rmse: 2.02379\n",
      "[1400]\tvalid_0's rmse: 2.02128\n",
      "[1500]\tvalid_0's rmse: 2.01904\n",
      "[1600]\tvalid_0's rmse: 2.01717\n",
      "[1700]\tvalid_0's rmse: 2.01476\n",
      "[1800]\tvalid_0's rmse: 2.01229\n",
      "[1900]\tvalid_0's rmse: 2.01161\n",
      "[2000]\tvalid_0's rmse: 2.01008\n",
      "[2100]\tvalid_0's rmse: 2.00911\n",
      "[2200]\tvalid_0's rmse: 2.00592\n",
      "[2300]\tvalid_0's rmse: 2.00457\n",
      "[2400]\tvalid_0's rmse: 2.00289\n",
      "[2500]\tvalid_0's rmse: 2.00269\n",
      "[2600]\tvalid_0's rmse: 2.00128\n",
      "[2700]\tvalid_0's rmse: 2.00027\n",
      "[2800]\tvalid_0's rmse: 2.00034\n",
      "[2900]\tvalid_0's rmse: 2.00027\n",
      "[3000]\tvalid_0's rmse: 1.99923\n",
      "[3100]\tvalid_0's rmse: 1.9981\n",
      "[3200]\tvalid_0's rmse: 1.99834\n",
      "[3300]\tvalid_0's rmse: 1.99749\n"
     ]
    },
    {
     "name": "stderr",
     "output_type": "stream",
     "text": [
      "\u001b[32m[I 2022-02-23 14:48:34,868]\u001b[0m Trial 116 finished with value: 1.9974367684100691 and parameters: {'n_estimators': 5000, 'num_leaves': 14, 'boosting': 'gbdt', 'max_depth': 2, 'max_bin': 32, 'min_data_in_leaf': 1, 'min_data_in_bin': 1, 'min_gain_to_split': 1.34, 'learning_rate': 0.009791747868301913, 'random_state': 0, 'feature_fraction': 0.5017358096002628, 'bagging_fraction': 0.8869695159450981, 'bagging_freq': 2, 'lambda_l1': 0.03172012122500677, 'lambda_l2': 0.7898726666461331}. Best is trial 92 with value: 1.9860461675779786.\u001b[0m\n"
     ]
    },
    {
     "name": "stdout",
     "output_type": "stream",
     "text": [
      "[3400]\tvalid_0's rmse: 1.99845\n",
      "[3500]\tvalid_0's rmse: 1.99817\n",
      "[3600]\tvalid_0's rmse: 1.99833\n",
      "[3700]\tvalid_0's rmse: 1.99879\n",
      "[3800]\tvalid_0's rmse: 1.99878\n",
      "Early stopping, best iteration is:\n",
      "[3311]\tvalid_0's rmse: 1.9974\n",
      "valid_score:  RMSE = 1.9974367684100691\n",
      "Training until validation scores don't improve for 500 rounds\n"
     ]
    },
    {
     "name": "stderr",
     "output_type": "stream",
     "text": [
      "\u001b[32m[I 2022-02-23 14:48:35,075]\u001b[0m Trial 117 finished with value: 2.0576105390299335 and parameters: {'n_estimators': 10000, 'num_leaves': 8, 'boosting': 'gbdt', 'max_depth': 7, 'max_bin': 32, 'min_data_in_leaf': 1, 'min_data_in_bin': 1, 'min_gain_to_split': 3.35, 'learning_rate': 0.11863386972908835, 'random_state': 0, 'feature_fraction': 0.8574977428203389, 'bagging_fraction': 0.9438376659593872, 'bagging_freq': 4, 'lambda_l1': 1.1423080214560828e-05, 'lambda_l2': 4.1603805285748553e-07}. Best is trial 92 with value: 1.9860461675779786.\u001b[0m\n"
     ]
    },
    {
     "name": "stdout",
     "output_type": "stream",
     "text": [
      "[100]\tvalid_0's rmse: 2.06328\n",
      "[200]\tvalid_0's rmse: 2.06328\n",
      "[300]\tvalid_0's rmse: 2.06328\n",
      "[400]\tvalid_0's rmse: 2.06328\n",
      "[500]\tvalid_0's rmse: 2.06328\n",
      "Early stopping, best iteration is:\n",
      "[40]\tvalid_0's rmse: 2.05761\n",
      "valid_score:  RMSE = 2.0576105390299335\n",
      "Training until validation scores don't improve for 500 rounds\n",
      "[100]\tvalid_0's rmse: 2.06992\n"
     ]
    },
    {
     "name": "stderr",
     "output_type": "stream",
     "text": [
      "\u001b[32m[I 2022-02-23 14:48:35,308]\u001b[0m Trial 118 finished with value: 2.037031415950292 and parameters: {'n_estimators': 5000, 'num_leaves': 14, 'boosting': 'gbdt', 'max_depth': 9, 'max_bin': 32, 'min_data_in_leaf': 1, 'min_data_in_bin': 1, 'min_gain_to_split': 1.9600000000000002, 'learning_rate': 0.20846562471148594, 'random_state': 0, 'feature_fraction': 0.4001396481280832, 'bagging_fraction': 0.7083984729432402, 'bagging_freq': 3, 'lambda_l1': 1.9581136442204173e-06, 'lambda_l2': 0.00043477281202775904}. Best is trial 92 with value: 1.9860461675779786.\u001b[0m\n"
     ]
    },
    {
     "name": "stdout",
     "output_type": "stream",
     "text": [
      "[200]\tvalid_0's rmse: 2.07815\n",
      "[300]\tvalid_0's rmse: 2.09126\n",
      "[400]\tvalid_0's rmse: 2.09126\n",
      "[500]\tvalid_0's rmse: 2.09126\n",
      "Early stopping, best iteration is:\n",
      "[17]\tvalid_0's rmse: 2.03703\n",
      "valid_score:  RMSE = 2.037031415950292\n",
      "Training until validation scores don't improve for 500 rounds\n",
      "[100]\tvalid_0's rmse: 2.2642\n",
      "[200]\tvalid_0's rmse: 2.09062\n",
      "[300]\tvalid_0's rmse: 2.04332\n",
      "[400]\tvalid_0's rmse: 2.02625\n",
      "[500]\tvalid_0's rmse: 2.02025\n",
      "[600]\tvalid_0's rmse: 2.01698\n",
      "[700]\tvalid_0's rmse: 2.01543\n",
      "[800]\tvalid_0's rmse: 2.01509\n"
     ]
    },
    {
     "name": "stderr",
     "output_type": "stream",
     "text": [
      "\u001b[32m[I 2022-02-23 14:48:35,811]\u001b[0m Trial 119 finished with value: 2.0148865331467256 and parameters: {'n_estimators': 10000, 'num_leaves': 11, 'boosting': 'gbdt', 'max_depth': 6, 'max_bin': 32, 'min_data_in_leaf': 1, 'min_data_in_bin': 1, 'min_gain_to_split': 3.0700000000000003, 'learning_rate': 0.012397613505951015, 'random_state': 0, 'feature_fraction': 0.5059008048068387, 'bagging_fraction': 0.9392677630403266, 'bagging_freq': 6, 'lambda_l1': 0.000495320475604962, 'lambda_l2': 0.000145726600328472}. Best is trial 92 with value: 1.9860461675779786.\u001b[0m\n"
     ]
    },
    {
     "name": "stdout",
     "output_type": "stream",
     "text": [
      "[900]\tvalid_0's rmse: 2.01509\n",
      "[1000]\tvalid_0's rmse: 2.01509\n",
      "[1100]\tvalid_0's rmse: 2.01509\n",
      "Early stopping, best iteration is:\n",
      "[676]\tvalid_0's rmse: 2.01489\n",
      "valid_score:  RMSE = 2.0148865331467256\n",
      "Training until validation scores don't improve for 500 rounds\n",
      "[100]\tvalid_0's rmse: 2.04328\n"
     ]
    },
    {
     "name": "stderr",
     "output_type": "stream",
     "text": [
      "\u001b[32m[I 2022-02-23 14:48:36,021]\u001b[0m Trial 120 finished with value: 2.0387360278656668 and parameters: {'n_estimators': 10000, 'num_leaves': 13, 'boosting': 'gbdt', 'max_depth': 15, 'max_bin': 32, 'min_data_in_leaf': 1, 'min_data_in_bin': 1, 'min_gain_to_split': 4.58, 'learning_rate': 0.12426855592887752, 'random_state': 0, 'feature_fraction': 0.6681308032688325, 'bagging_fraction': 0.664994366567027, 'bagging_freq': 5, 'lambda_l1': 0.33865395617719934, 'lambda_l2': 0.0010945590287209388}. Best is trial 92 with value: 1.9860461675779786.\u001b[0m\n"
     ]
    },
    {
     "name": "stdout",
     "output_type": "stream",
     "text": [
      "[200]\tvalid_0's rmse: 2.04328\n",
      "[300]\tvalid_0's rmse: 2.04328\n",
      "[400]\tvalid_0's rmse: 2.04328\n",
      "[500]\tvalid_0's rmse: 2.04328\n",
      "Early stopping, best iteration is:\n",
      "[65]\tvalid_0's rmse: 2.03874\n",
      "valid_score:  RMSE = 2.0387360278656668\n",
      "Training until validation scores don't improve for 500 rounds\n",
      "[100]\tvalid_0's rmse: 2.06242\n",
      "[200]\tvalid_0's rmse: 2.05724\n",
      "[300]\tvalid_0's rmse: 2.05029\n"
     ]
    },
    {
     "name": "stderr",
     "output_type": "stream",
     "text": [
      "\u001b[32m[I 2022-02-23 14:48:36,208]\u001b[0m Trial 121 finished with value: 2.0484019445663066 and parameters: {'n_estimators': 5000, 'num_leaves': 2, 'boosting': 'gbdt', 'max_depth': 7, 'max_bin': 32, 'min_data_in_leaf': 1, 'min_data_in_bin': 1, 'min_gain_to_split': 3.9200000000000004, 'learning_rate': 0.24521996701725363, 'random_state': 0, 'feature_fraction': 0.7408584633945012, 'bagging_fraction': 0.9181581881580866, 'bagging_freq': 5, 'lambda_l1': 0.00010478542832551883, 'lambda_l2': 3.2314177459978527e-06}. Best is trial 92 with value: 1.9860461675779786.\u001b[0m\n"
     ]
    },
    {
     "name": "stdout",
     "output_type": "stream",
     "text": [
      "[400]\tvalid_0's rmse: 2.05029\n",
      "[500]\tvalid_0's rmse: 2.05029\n",
      "[600]\tvalid_0's rmse: 2.05029\n",
      "Early stopping, best iteration is:\n",
      "[145]\tvalid_0's rmse: 2.0484\n",
      "valid_score:  RMSE = 2.0484019445663066\n",
      "Training until validation scores don't improve for 500 rounds\n",
      "[100]\tvalid_0's rmse: 2.16759\n",
      "[200]\tvalid_0's rmse: 2.08182\n",
      "[300]\tvalid_0's rmse: 2.04934\n"
     ]
    },
    {
     "name": "stderr",
     "output_type": "stream",
     "text": [
      "\u001b[32m[I 2022-02-23 14:48:36,471]\u001b[0m Trial 122 finished with value: 2.0207812560525364 and parameters: {'n_estimators': 5000, 'num_leaves': 16, 'boosting': 'gbdt', 'max_depth': 2, 'max_bin': 32, 'min_data_in_leaf': 1, 'min_data_in_bin': 1, 'min_gain_to_split': 1.6300000000000001, 'learning_rate': 0.027395198987818732, 'random_state': 0, 'feature_fraction': 0.9155076847093595, 'bagging_fraction': 0.4663968583647032, 'bagging_freq': 8, 'lambda_l1': 3.4469551410064317e-07, 'lambda_l2': 0.11313438914758592}. Best is trial 92 with value: 1.9860461675779786.\u001b[0m\n"
     ]
    },
    {
     "name": "stdout",
     "output_type": "stream",
     "text": [
      "[400]\tvalid_0's rmse: 2.04646\n",
      "[500]\tvalid_0's rmse: 2.02877\n",
      "[600]\tvalid_0's rmse: 2.02642\n",
      "[700]\tvalid_0's rmse: 2.03326\n",
      "[800]\tvalid_0's rmse: 2.04326\n",
      "[900]\tvalid_0's rmse: 2.04837\n",
      "[1000]\tvalid_0's rmse: 2.04767\n",
      "Early stopping, best iteration is:\n",
      "[536]\tvalid_0's rmse: 2.02078\n",
      "valid_score:  RMSE = 2.0207812560525364\n",
      "Training until validation scores don't improve for 500 rounds\n",
      "[100]\tvalid_0's rmse: 2.09394\n"
     ]
    },
    {
     "name": "stderr",
     "output_type": "stream",
     "text": [
      "\u001b[32m[I 2022-02-23 14:48:36,693]\u001b[0m Trial 123 finished with value: 2.0482190014917387 and parameters: {'n_estimators': 10000, 'num_leaves': 12, 'boosting': 'gbdt', 'max_depth': 4, 'max_bin': 32, 'min_data_in_leaf': 1, 'min_data_in_bin': 1, 'min_gain_to_split': 3.25, 'learning_rate': 0.14205123261213717, 'random_state': 0, 'feature_fraction': 0.5813848326685582, 'bagging_fraction': 0.7470286152645746, 'bagging_freq': 5, 'lambda_l1': 9.452542658792758e-08, 'lambda_l2': 1.1506167662946537e-07}. Best is trial 92 with value: 1.9860461675779786.\u001b[0m\n"
     ]
    },
    {
     "name": "stdout",
     "output_type": "stream",
     "text": [
      "[200]\tvalid_0's rmse: 2.1034\n",
      "[300]\tvalid_0's rmse: 2.1034\n",
      "[400]\tvalid_0's rmse: 2.1034\n",
      "[500]\tvalid_0's rmse: 2.1034\n",
      "Early stopping, best iteration is:\n",
      "[38]\tvalid_0's rmse: 2.04822\n",
      "valid_score:  RMSE = 2.0482190014917387\n",
      "Training until validation scores don't improve for 500 rounds\n",
      "[100]\tvalid_0's rmse: 2.01232\n"
     ]
    },
    {
     "name": "stderr",
     "output_type": "stream",
     "text": [
      "\u001b[32m[I 2022-02-23 14:48:36,944]\u001b[0m Trial 124 finished with value: 2.0064028475845292 and parameters: {'n_estimators': 5000, 'num_leaves': 13, 'boosting': 'gbdt', 'max_depth': 8, 'max_bin': 32, 'min_data_in_leaf': 1, 'min_data_in_bin': 1, 'min_gain_to_split': 4.0, 'learning_rate': 0.06590190016039742, 'random_state': 0, 'feature_fraction': 0.45298049912434124, 'bagging_fraction': 0.9516125950967347, 'bagging_freq': 4, 'lambda_l1': 1.935012467914107e-05, 'lambda_l2': 0.00012322343507971655}. Best is trial 92 with value: 1.9860461675779786.\u001b[0m\n"
     ]
    },
    {
     "name": "stdout",
     "output_type": "stream",
     "text": [
      "[200]\tvalid_0's rmse: 2.0064\n",
      "[300]\tvalid_0's rmse: 2.0064\n",
      "[400]\tvalid_0's rmse: 2.0064\n",
      "[500]\tvalid_0's rmse: 2.0064\n",
      "[600]\tvalid_0's rmse: 2.0064\n",
      "Early stopping, best iteration is:\n",
      "[146]\tvalid_0's rmse: 2.0064\n",
      "valid_score:  RMSE = 2.0064028475845292\n",
      "Training until validation scores don't improve for 500 rounds\n",
      "[100]\tvalid_0's rmse: 2.02446\n"
     ]
    },
    {
     "name": "stderr",
     "output_type": "stream",
     "text": [
      "\u001b[32m[I 2022-02-23 14:48:37,186]\u001b[0m Trial 125 finished with value: 1.9914004374480594 and parameters: {'n_estimators': 10000, 'num_leaves': 4, 'boosting': 'gbdt', 'max_depth': 16, 'max_bin': 32, 'min_data_in_leaf': 1, 'min_data_in_bin': 1, 'min_gain_to_split': 3.0, 'learning_rate': 0.1938729592404906, 'random_state': 0, 'feature_fraction': 0.4842933691475012, 'bagging_fraction': 0.8200530668381754, 'bagging_freq': 2, 'lambda_l1': 1.2111133831915104e-07, 'lambda_l2': 1.511244584197666e-06}. Best is trial 92 with value: 1.9860461675779786.\u001b[0m\n"
     ]
    },
    {
     "name": "stdout",
     "output_type": "stream",
     "text": [
      "[200]\tvalid_0's rmse: 1.99002\n",
      "[300]\tvalid_0's rmse: 1.9914\n",
      "[400]\tvalid_0's rmse: 1.9914\n",
      "[500]\tvalid_0's rmse: 1.9914\n",
      "[600]\tvalid_0's rmse: 1.9914\n",
      "[700]\tvalid_0's rmse: 1.9914\n",
      "Early stopping, best iteration is:\n",
      "[200]\tvalid_0's rmse: 1.99002\n",
      "valid_score:  RMSE = 1.9914004374480594\n",
      "Training until validation scores don't improve for 500 rounds\n"
     ]
    },
    {
     "name": "stderr",
     "output_type": "stream",
     "text": [
      "\u001b[32m[I 2022-02-23 14:48:37,386]\u001b[0m Trial 126 finished with value: 2.118268516550692 and parameters: {'n_estimators': 10000, 'num_leaves': 16, 'boosting': 'gbdt', 'max_depth': 15, 'max_bin': 32, 'min_data_in_leaf': 1, 'min_data_in_bin': 1, 'min_gain_to_split': 4.89, 'learning_rate': 0.2801859954493072, 'random_state': 0, 'feature_fraction': 0.6312122296986502, 'bagging_fraction': 0.6241359432740758, 'bagging_freq': 7, 'lambda_l1': 7.096359660254686e-07, 'lambda_l2': 0.00012324477571346455}. Best is trial 92 with value: 1.9860461675779786.\u001b[0m\n"
     ]
    },
    {
     "name": "stdout",
     "output_type": "stream",
     "text": [
      "[100]\tvalid_0's rmse: 2.12318\n",
      "[200]\tvalid_0's rmse: 2.12318\n",
      "[300]\tvalid_0's rmse: 2.12318\n",
      "[400]\tvalid_0's rmse: 2.12318\n",
      "[500]\tvalid_0's rmse: 2.12318\n",
      "Early stopping, best iteration is:\n",
      "[14]\tvalid_0's rmse: 2.11827\n",
      "valid_score:  RMSE = 2.118268516550692\n",
      "Training until validation scores don't improve for 500 rounds\n"
     ]
    },
    {
     "name": "stderr",
     "output_type": "stream",
     "text": [
      "\u001b[32m[I 2022-02-23 14:48:37,629]\u001b[0m Trial 127 finished with value: 2.084263185541821 and parameters: {'n_estimators': 10000, 'num_leaves': 16, 'boosting': 'gbdt', 'max_depth': 15, 'max_bin': 32, 'min_data_in_leaf': 1, 'min_data_in_bin': 1, 'min_gain_to_split': 0.45000000000000007, 'learning_rate': 0.1849804920887893, 'random_state': 0, 'feature_fraction': 0.862250754712189, 'bagging_fraction': 0.7764958995260272, 'bagging_freq': 8, 'lambda_l1': 0.02528581808179083, 'lambda_l2': 0.01314307999953343}. Best is trial 92 with value: 1.9860461675779786.\u001b[0m\n"
     ]
    },
    {
     "name": "stdout",
     "output_type": "stream",
     "text": [
      "[100]\tvalid_0's rmse: 2.12663\n",
      "[200]\tvalid_0's rmse: 2.19915\n",
      "[300]\tvalid_0's rmse: 2.19915\n",
      "[400]\tvalid_0's rmse: 2.19915\n",
      "[500]\tvalid_0's rmse: 2.19915\n",
      "Early stopping, best iteration is:\n",
      "[35]\tvalid_0's rmse: 2.08426\n",
      "valid_score:  RMSE = 2.084263185541821\n",
      "Training until validation scores don't improve for 500 rounds\n"
     ]
    },
    {
     "name": "stderr",
     "output_type": "stream",
     "text": [
      "\u001b[32m[I 2022-02-23 14:48:37,821]\u001b[0m Trial 128 finished with value: 2.043506197529094 and parameters: {'n_estimators': 5000, 'num_leaves': 15, 'boosting': 'gbdt', 'max_depth': 7, 'max_bin': 32, 'min_data_in_leaf': 1, 'min_data_in_bin': 1, 'min_gain_to_split': 2.2800000000000002, 'learning_rate': 0.2530095756768713, 'random_state': 0, 'feature_fraction': 0.9287329897956972, 'bagging_fraction': 0.8736454320527677, 'bagging_freq': 6, 'lambda_l1': 2.065533656480834e-08, 'lambda_l2': 0.15532925409105006}. Best is trial 92 with value: 1.9860461675779786.\u001b[0m\n"
     ]
    },
    {
     "name": "stdout",
     "output_type": "stream",
     "text": [
      "[100]\tvalid_0's rmse: 2.09225\n",
      "[200]\tvalid_0's rmse: 2.09225\n",
      "[300]\tvalid_0's rmse: 2.09225\n",
      "[400]\tvalid_0's rmse: 2.09225\n",
      "[500]\tvalid_0's rmse: 2.09225\n",
      "Early stopping, best iteration is:\n",
      "[14]\tvalid_0's rmse: 2.04351\n",
      "valid_score:  RMSE = 2.043506197529094\n",
      "Training until validation scores don't improve for 500 rounds\n",
      "[100]\tvalid_0's rmse: 2.05499\n"
     ]
    },
    {
     "name": "stderr",
     "output_type": "stream",
     "text": [
      "\u001b[32m[I 2022-02-23 14:48:38,027]\u001b[0m Trial 129 finished with value: 2.0371154195245933 and parameters: {'n_estimators': 10000, 'num_leaves': 6, 'boosting': 'gbdt', 'max_depth': 10, 'max_bin': 32, 'min_data_in_leaf': 1, 'min_data_in_bin': 1, 'min_gain_to_split': 0.37, 'learning_rate': 0.1367507289424161, 'random_state': 0, 'feature_fraction': 0.8825286053939565, 'bagging_fraction': 0.8621608545019313, 'bagging_freq': 7, 'lambda_l1': 4.004307731054358e-07, 'lambda_l2': 0.10503732192045633}. Best is trial 92 with value: 1.9860461675779786.\u001b[0m\n"
     ]
    },
    {
     "name": "stdout",
     "output_type": "stream",
     "text": [
      "[200]\tvalid_0's rmse: 2.05431\n",
      "[300]\tvalid_0's rmse: 2.06274\n",
      "[400]\tvalid_0's rmse: 2.09002\n",
      "[500]\tvalid_0's rmse: 2.09815\n",
      "Early stopping, best iteration is:\n",
      "[67]\tvalid_0's rmse: 2.03712\n",
      "valid_score:  RMSE = 2.0371154195245933\n",
      "Training until validation scores don't improve for 500 rounds\n",
      "[100]\tvalid_0's rmse: 2.04397\n",
      "[200]\tvalid_0's rmse: 2.02762\n",
      "[300]\tvalid_0's rmse: 2.03414\n"
     ]
    },
    {
     "name": "stderr",
     "output_type": "stream",
     "text": [
      "\u001b[32m[I 2022-02-23 14:48:38,295]\u001b[0m Trial 130 finished with value: 2.027680021998082 and parameters: {'n_estimators': 10000, 'num_leaves': 15, 'boosting': 'gbdt', 'max_depth': 2, 'max_bin': 32, 'min_data_in_leaf': 1, 'min_data_in_bin': 1, 'min_gain_to_split': 3.1500000000000004, 'learning_rate': 0.21416665409893096, 'random_state': 0, 'feature_fraction': 0.42191988770218947, 'bagging_fraction': 0.7587470320415595, 'bagging_freq': 5, 'lambda_l1': 0.009388818778215811, 'lambda_l2': 0.06064418938448621}. Best is trial 92 with value: 1.9860461675779786.\u001b[0m\n"
     ]
    },
    {
     "name": "stdout",
     "output_type": "stream",
     "text": [
      "[400]\tvalid_0's rmse: 2.06132\n",
      "[500]\tvalid_0's rmse: 2.06132\n",
      "[600]\tvalid_0's rmse: 2.06132\n",
      "[700]\tvalid_0's rmse: 2.06132\n",
      "Early stopping, best iteration is:\n",
      "[278]\tvalid_0's rmse: 2.01944\n",
      "valid_score:  RMSE = 2.027680021998082\n",
      "Training until validation scores don't improve for 500 rounds\n",
      "[100]\tvalid_0's rmse: 2.16206\n"
     ]
    },
    {
     "name": "stderr",
     "output_type": "stream",
     "text": [
      "\u001b[32m[I 2022-02-23 14:48:38,496]\u001b[0m Trial 131 finished with value: 2.0493983172017436 and parameters: {'n_estimators': 10000, 'num_leaves': 7, 'boosting': 'gbdt', 'max_depth': 15, 'max_bin': 32, 'min_data_in_leaf': 1, 'min_data_in_bin': 1, 'min_gain_to_split': 2.6500000000000004, 'learning_rate': 0.2658291447419574, 'random_state': 0, 'feature_fraction': 0.7366654338681295, 'bagging_fraction': 0.6649604122596093, 'bagging_freq': 6, 'lambda_l1': 0.00023884848420813445, 'lambda_l2': 0.00037261017190915054}. Best is trial 92 with value: 1.9860461675779786.\u001b[0m\n"
     ]
    },
    {
     "name": "stdout",
     "output_type": "stream",
     "text": [
      "[200]\tvalid_0's rmse: 2.1656\n",
      "[300]\tvalid_0's rmse: 2.1656\n",
      "[400]\tvalid_0's rmse: 2.1656\n",
      "[500]\tvalid_0's rmse: 2.1656\n",
      "Early stopping, best iteration is:\n",
      "[22]\tvalid_0's rmse: 2.0494\n",
      "valid_score:  RMSE = 2.0493983172017436\n",
      "Training until validation scores don't improve for 500 rounds\n",
      "[100]\tvalid_0's rmse: 2.08318\n",
      "[200]\tvalid_0's rmse: 2.08318\n"
     ]
    },
    {
     "name": "stderr",
     "output_type": "stream",
     "text": [
      "\u001b[32m[I 2022-02-23 14:48:38,696]\u001b[0m Trial 132 finished with value: 2.0250457519163274 and parameters: {'n_estimators': 5000, 'num_leaves': 13, 'boosting': 'gbdt', 'max_depth': 15, 'max_bin': 32, 'min_data_in_leaf': 1, 'min_data_in_bin': 1, 'min_gain_to_split': 3.6, 'learning_rate': 0.2520765367370039, 'random_state': 0, 'feature_fraction': 0.7985839136943294, 'bagging_fraction': 0.59679351302775, 'bagging_freq': 8, 'lambda_l1': 0.2550270269268779, 'lambda_l2': 0.12292476649812771}. Best is trial 92 with value: 1.9860461675779786.\u001b[0m\n"
     ]
    },
    {
     "name": "stdout",
     "output_type": "stream",
     "text": [
      "[300]\tvalid_0's rmse: 2.08318\n",
      "[400]\tvalid_0's rmse: 2.08318\n",
      "[500]\tvalid_0's rmse: 2.08318\n",
      "Early stopping, best iteration is:\n",
      "[18]\tvalid_0's rmse: 2.02505\n",
      "valid_score:  RMSE = 2.0250457519163274\n",
      "Training until validation scores don't improve for 500 rounds\n",
      "[100]\tvalid_0's rmse: 2.02186\n",
      "[200]\tvalid_0's rmse: 2.02186\n",
      "[300]\tvalid_0's rmse: 2.02186\n"
     ]
    },
    {
     "name": "stderr",
     "output_type": "stream",
     "text": [
      "\u001b[32m[I 2022-02-23 14:48:38,892]\u001b[0m Trial 133 finished with value: 2.0165956905626596 and parameters: {'n_estimators': 10000, 'num_leaves': 9, 'boosting': 'gbdt', 'max_depth': 12, 'max_bin': 32, 'min_data_in_leaf': 1, 'min_data_in_bin': 1, 'min_gain_to_split': 4.3999999999999995, 'learning_rate': 0.26884937918601925, 'random_state': 0, 'feature_fraction': 0.5266628406679988, 'bagging_fraction': 0.8652194464606058, 'bagging_freq': 4, 'lambda_l1': 2.4059239830237115e-07, 'lambda_l2': 0.001428631468591341}. Best is trial 92 with value: 1.9860461675779786.\u001b[0m\n"
     ]
    },
    {
     "name": "stdout",
     "output_type": "stream",
     "text": [
      "[400]\tvalid_0's rmse: 2.02186\n",
      "[500]\tvalid_0's rmse: 2.02186\n",
      "Early stopping, best iteration is:\n",
      "[36]\tvalid_0's rmse: 2.0166\n",
      "valid_score:  RMSE = 2.0165956905626596\n",
      "Training until validation scores don't improve for 500 rounds\n",
      "[100]\tvalid_0's rmse: 2.01445\n",
      "[200]\tvalid_0's rmse: 1.98493\n",
      "[300]\tvalid_0's rmse: 1.97743\n",
      "[400]\tvalid_0's rmse: 1.97549\n",
      "[500]\tvalid_0's rmse: 1.97323\n",
      "[600]\tvalid_0's rmse: 1.97323\n",
      "[700]\tvalid_0's rmse: 1.97323\n",
      "[800]\tvalid_0's rmse: 1.97323\n",
      "[900]\tvalid_0's rmse: 1.97323\n"
     ]
    },
    {
     "name": "stderr",
     "output_type": "stream",
     "text": [
      "\u001b[32m[I 2022-02-23 14:48:39,287]\u001b[0m Trial 134 finished with value: 1.973227887438453 and parameters: {'n_estimators': 5000, 'num_leaves': 15, 'boosting': 'gbdt', 'max_depth': 7, 'max_bin': 32, 'min_data_in_leaf': 1, 'min_data_in_bin': 1, 'min_gain_to_split': 2.89, 'learning_rate': 0.03504272320169399, 'random_state': 0, 'feature_fraction': 0.4249624074270022, 'bagging_fraction': 0.787822582019468, 'bagging_freq': 4, 'lambda_l1': 0.05035662259257299, 'lambda_l2': 0.010600461587276889}. Best is trial 134 with value: 1.973227887438453.\u001b[0m\n"
     ]
    },
    {
     "name": "stdout",
     "output_type": "stream",
     "text": [
      "Early stopping, best iteration is:\n",
      "[471]\tvalid_0's rmse: 1.97323\n",
      "valid_score:  RMSE = 1.973227887438453\n",
      "Training until validation scores don't improve for 500 rounds\n",
      "[100]\tvalid_0's rmse: 2.10879\n",
      "[200]\tvalid_0's rmse: 2.02966\n",
      "[300]\tvalid_0's rmse: 2.00858\n",
      "[400]\tvalid_0's rmse: 2.0061\n",
      "[500]\tvalid_0's rmse: 2.00073\n",
      "[600]\tvalid_0's rmse: 1.99086\n",
      "[700]\tvalid_0's rmse: 1.99862\n",
      "[800]\tvalid_0's rmse: 1.99699\n",
      "[900]\tvalid_0's rmse: 2.00173\n",
      "[1000]\tvalid_0's rmse: 1.99869\n"
     ]
    },
    {
     "name": "stderr",
     "output_type": "stream",
     "text": [
      "\u001b[32m[I 2022-02-23 14:48:39,737]\u001b[0m Trial 135 finished with value: 1.990564437970513 and parameters: {'n_estimators': 5000, 'num_leaves': 7, 'boosting': 'gbdt', 'max_depth': 8, 'max_bin': 32, 'min_data_in_leaf': 1, 'min_data_in_bin': 1, 'min_gain_to_split': 2.77, 'learning_rate': 0.025975458525434935, 'random_state': 0, 'feature_fraction': 0.4338039895610416, 'bagging_fraction': 0.7633303632500783, 'bagging_freq': 7, 'lambda_l1': 1.6144866469100907e-06, 'lambda_l2': 1.1657481079135406e-08}. Best is trial 134 with value: 1.973227887438453.\u001b[0m\n"
     ]
    },
    {
     "name": "stdout",
     "output_type": "stream",
     "text": [
      "Early stopping, best iteration is:\n",
      "[598]\tvalid_0's rmse: 1.99056\n",
      "valid_score:  RMSE = 1.990564437970513\n",
      "Training until validation scores don't improve for 500 rounds\n",
      "[100]\tvalid_0's rmse: 2.06754\n",
      "[200]\tvalid_0's rmse: 2.07078\n",
      "[300]\tvalid_0's rmse: 2.06236\n",
      "[400]\tvalid_0's rmse: 2.06064\n",
      "[500]\tvalid_0's rmse: 2.05442\n",
      "[600]\tvalid_0's rmse: 2.06702\n",
      "[700]\tvalid_0's rmse: 2.08013\n",
      "[800]\tvalid_0's rmse: 2.06081\n",
      "[900]\tvalid_0's rmse: 2.06081\n"
     ]
    },
    {
     "name": "stderr",
     "output_type": "stream",
     "text": [
      "\u001b[32m[I 2022-02-23 14:48:39,971]\u001b[0m Trial 136 finished with value: 2.0478228118735675 and parameters: {'n_estimators': 5000, 'num_leaves': 2, 'boosting': 'gbdt', 'max_depth': 11, 'max_bin': 32, 'min_data_in_leaf': 1, 'min_data_in_bin': 1, 'min_gain_to_split': 5.0, 'learning_rate': 0.2991954767173806, 'random_state': 0, 'feature_fraction': 0.7106558948159296, 'bagging_fraction': 0.738287251351939, 'bagging_freq': 4, 'lambda_l1': 0.0005790788576731418, 'lambda_l2': 0.0005632943531815082}. Best is trial 134 with value: 1.973227887438453.\u001b[0m\n"
     ]
    },
    {
     "name": "stdout",
     "output_type": "stream",
     "text": [
      "[1000]\tvalid_0's rmse: 2.06081\n",
      "Early stopping, best iteration is:\n",
      "[523]\tvalid_0's rmse: 2.04782\n",
      "valid_score:  RMSE = 2.0478228118735675\n",
      "Training until validation scores don't improve for 500 rounds\n",
      "[100]\tvalid_0's rmse: 2.02031\n",
      "[200]\tvalid_0's rmse: 2.01998\n",
      "[300]\tvalid_0's rmse: 2.01998\n"
     ]
    },
    {
     "name": "stderr",
     "output_type": "stream",
     "text": [
      "\u001b[32m[I 2022-02-23 14:48:40,246]\u001b[0m Trial 137 finished with value: 2.0199785571462723 and parameters: {'n_estimators': 10000, 'num_leaves': 16, 'boosting': 'gbdt', 'max_depth': 5, 'max_bin': 32, 'min_data_in_leaf': 1, 'min_data_in_bin': 1, 'min_gain_to_split': 3.0300000000000002, 'learning_rate': 0.06773133044976176, 'random_state': 0, 'feature_fraction': 0.6527265681991286, 'bagging_fraction': 0.987847549099353, 'bagging_freq': 1, 'lambda_l1': 2.247821527453844e-06, 'lambda_l2': 5.006182057651584e-08}. Best is trial 134 with value: 1.973227887438453.\u001b[0m\n"
     ]
    },
    {
     "name": "stdout",
     "output_type": "stream",
     "text": [
      "[400]\tvalid_0's rmse: 2.01998\n",
      "[500]\tvalid_0's rmse: 2.01998\n",
      "[600]\tvalid_0's rmse: 2.01998\n",
      "Early stopping, best iteration is:\n",
      "[101]\tvalid_0's rmse: 2.01993\n",
      "valid_score:  RMSE = 2.0199785571462723\n",
      "Training until validation scores don't improve for 500 rounds\n",
      "[100]\tvalid_0's rmse: 2.05063\n",
      "[200]\tvalid_0's rmse: 2.05809\n",
      "[300]\tvalid_0's rmse: 2.05809\n"
     ]
    },
    {
     "name": "stderr",
     "output_type": "stream",
     "text": [
      "\u001b[32m[I 2022-02-23 14:48:40,429]\u001b[0m Trial 138 finished with value: 2.021139767217304 and parameters: {'n_estimators': 10000, 'num_leaves': 5, 'boosting': 'gbdt', 'max_depth': 14, 'max_bin': 32, 'min_data_in_leaf': 1, 'min_data_in_bin': 1, 'min_gain_to_split': 3.75, 'learning_rate': 0.20789378359875485, 'random_state': 0, 'feature_fraction': 0.9507934561912219, 'bagging_fraction': 0.6184715188545707, 'bagging_freq': 3, 'lambda_l1': 0.46710028068895193, 'lambda_l2': 0.043003012215706855}. Best is trial 134 with value: 1.973227887438453.\u001b[0m\n"
     ]
    },
    {
     "name": "stdout",
     "output_type": "stream",
     "text": [
      "[400]\tvalid_0's rmse: 2.05809\n",
      "[500]\tvalid_0's rmse: 2.05809\n",
      "Early stopping, best iteration is:\n",
      "[69]\tvalid_0's rmse: 2.02114\n",
      "valid_score:  RMSE = 2.021139767217304\n",
      "Training until validation scores don't improve for 500 rounds\n",
      "[100]\tvalid_0's rmse: 2.28536\n",
      "[200]\tvalid_0's rmse: 2.09648\n",
      "[300]\tvalid_0's rmse: 2.04348\n",
      "[400]\tvalid_0's rmse: 2.02303\n",
      "[500]\tvalid_0's rmse: 2.01667\n",
      "[600]\tvalid_0's rmse: 2.01407\n",
      "[700]\tvalid_0's rmse: 2.01085\n",
      "[800]\tvalid_0's rmse: 2.00593\n",
      "[900]\tvalid_0's rmse: 2.00146\n",
      "[1000]\tvalid_0's rmse: 2.00036\n",
      "[1100]\tvalid_0's rmse: 2.00443\n",
      "[1200]\tvalid_0's rmse: 2.00212\n",
      "[1300]\tvalid_0's rmse: 2.00252\n",
      "[1400]\tvalid_0's rmse: 1.99779\n",
      "[1500]\tvalid_0's rmse: 2.0003\n",
      "[1600]\tvalid_0's rmse: 1.99929\n"
     ]
    },
    {
     "name": "stderr",
     "output_type": "stream",
     "text": [
      "\u001b[32m[I 2022-02-23 14:48:41,251]\u001b[0m Trial 139 finished with value: 1.9958460903054582 and parameters: {'n_estimators': 10000, 'num_leaves': 11, 'boosting': 'gbdt', 'max_depth': 14, 'max_bin': 32, 'min_data_in_leaf': 1, 'min_data_in_bin': 1, 'min_gain_to_split': 2.29, 'learning_rate': 0.011556654618745377, 'random_state': 0, 'feature_fraction': 0.5372352523355739, 'bagging_fraction': 0.501512837891587, 'bagging_freq': 6, 'lambda_l1': 7.545349874116161e-08, 'lambda_l2': 0.0008687550223033002}. Best is trial 134 with value: 1.973227887438453.\u001b[0m\n"
     ]
    },
    {
     "name": "stdout",
     "output_type": "stream",
     "text": [
      "[1700]\tvalid_0's rmse: 2.00229\n",
      "[1800]\tvalid_0's rmse: 2.00542\n",
      "Early stopping, best iteration is:\n",
      "[1387]\tvalid_0's rmse: 1.99585\n",
      "valid_score:  RMSE = 1.9958460903054582\n",
      "Training until validation scores don't improve for 500 rounds\n",
      "[100]\tvalid_0's rmse: 2.02171\n",
      "[200]\tvalid_0's rmse: 2.01014\n",
      "[300]\tvalid_0's rmse: 2.02832\n"
     ]
    },
    {
     "name": "stderr",
     "output_type": "stream",
     "text": [
      "\u001b[32m[I 2022-02-23 14:48:41,698]\u001b[0m Trial 140 finished with value: 2.0071511618200657 and parameters: {'n_estimators': 5000, 'num_leaves': 16, 'boosting': 'gbdt', 'max_depth': 8, 'max_bin': 32, 'min_data_in_leaf': 1, 'min_data_in_bin': 1, 'min_gain_to_split': 0.72, 'learning_rate': 0.043680168529248706, 'random_state': 0, 'feature_fraction': 0.9606942864831689, 'bagging_fraction': 0.9223992429476164, 'bagging_freq': 7, 'lambda_l1': 0.00503471484385169, 'lambda_l2': 0.020996690168287067}. Best is trial 134 with value: 1.973227887438453.\u001b[0m\n"
     ]
    },
    {
     "name": "stdout",
     "output_type": "stream",
     "text": [
      "[400]\tvalid_0's rmse: 2.04237\n",
      "[500]\tvalid_0's rmse: 2.04292\n",
      "[600]\tvalid_0's rmse: 2.04292\n",
      "[700]\tvalid_0's rmse: 2.04292\n",
      "Early stopping, best iteration is:\n",
      "[211]\tvalid_0's rmse: 2.00715\n",
      "valid_score:  RMSE = 2.0071511618200657\n",
      "Training until validation scores don't improve for 500 rounds\n",
      "[100]\tvalid_0's rmse: 2.05645\n",
      "[200]\tvalid_0's rmse: 2.03549\n",
      "[300]\tvalid_0's rmse: 2.03705\n",
      "[400]\tvalid_0's rmse: 2.03534\n",
      "[500]\tvalid_0's rmse: 2.06676\n"
     ]
    },
    {
     "name": "stderr",
     "output_type": "stream",
     "text": [
      "\u001b[32m[I 2022-02-23 14:48:41,854]\u001b[0m Trial 141 finished with value: 2.029538642247832 and parameters: {'n_estimators': 10000, 'num_leaves': 2, 'boosting': 'gbdt', 'max_depth': 13, 'max_bin': 32, 'min_data_in_leaf': 1, 'min_data_in_bin': 1, 'min_gain_to_split': 1.8900000000000001, 'learning_rate': 0.2219844917152918, 'random_state': 0, 'feature_fraction': 0.6851942181890144, 'bagging_fraction': 0.625824589267832, 'bagging_freq': 5, 'lambda_l1': 2.918628137956022e-07, 'lambda_l2': 4.6047609562012015e-07}. Best is trial 134 with value: 1.973227887438453.\u001b[0m\n",
      "\u001b[32m[I 2022-02-23 14:48:41,971]\u001b[0m Trial 142 finished with value: 2.040057677648964 and parameters: {'n_estimators': 10000, 'num_leaves': 2, 'boosting': 'gbdt', 'max_depth': 6, 'max_bin': 32, 'min_data_in_leaf': 1, 'min_data_in_bin': 1, 'min_gain_to_split': 4.55, 'learning_rate': 0.213645379134781, 'random_state': 0, 'feature_fraction': 0.6638625021606208, 'bagging_fraction': 0.46765856132231926, 'bagging_freq': 7, 'lambda_l1': 1.3172677734151683e-08, 'lambda_l2': 2.861169658784905e-06}. Best is trial 134 with value: 1.973227887438453.\u001b[0m\n"
     ]
    },
    {
     "name": "stdout",
     "output_type": "stream",
     "text": [
      "[600]\tvalid_0's rmse: 2.05839\n",
      "[700]\tvalid_0's rmse: 2.04867\n",
      "Early stopping, best iteration is:\n",
      "[259]\tvalid_0's rmse: 2.02954\n",
      "valid_score:  RMSE = 2.029538642247832\n",
      "Training until validation scores don't improve for 500 rounds\n",
      "[100]\tvalid_0's rmse: 2.05959\n",
      "[200]\tvalid_0's rmse: 2.04141\n",
      "[300]\tvalid_0's rmse: 2.05512\n",
      "[400]\tvalid_0's rmse: 2.05838\n",
      "[500]\tvalid_0's rmse: 2.06416\n",
      "[600]\tvalid_0's rmse: 2.06273\n",
      "[700]\tvalid_0's rmse: 2.07953\n",
      "Early stopping, best iteration is:\n",
      "[201]\tvalid_0's rmse: 2.04006\n",
      "valid_score:  RMSE = 2.040057677648964\n",
      "Training until validation scores don't improve for 500 rounds\n",
      "[100]\tvalid_0's rmse: 2.12774\n"
     ]
    },
    {
     "name": "stderr",
     "output_type": "stream",
     "text": [
      "\u001b[32m[I 2022-02-23 14:48:42,172]\u001b[0m Trial 143 finished with value: 2.086388556891478 and parameters: {'n_estimators': 10000, 'num_leaves': 6, 'boosting': 'gbdt', 'max_depth': 16, 'max_bin': 32, 'min_data_in_leaf': 1, 'min_data_in_bin': 1, 'min_gain_to_split': 3.3600000000000003, 'learning_rate': 0.20797187862140365, 'random_state': 0, 'feature_fraction': 0.5968286692613984, 'bagging_fraction': 0.7829651799852596, 'bagging_freq': 7, 'lambda_l1': 0.000708007909946456, 'lambda_l2': 0.014773755043692952}. Best is trial 134 with value: 1.973227887438453.\u001b[0m\n"
     ]
    },
    {
     "name": "stdout",
     "output_type": "stream",
     "text": [
      "[200]\tvalid_0's rmse: 2.13541\n",
      "[300]\tvalid_0's rmse: 2.13541\n",
      "[400]\tvalid_0's rmse: 2.13541\n",
      "[500]\tvalid_0's rmse: 2.13541\n",
      "Early stopping, best iteration is:\n",
      "[53]\tvalid_0's rmse: 2.08639\n",
      "valid_score:  RMSE = 2.086388556891478\n",
      "Training until validation scores don't improve for 500 rounds\n",
      "[100]\tvalid_0's rmse: 2.15311\n"
     ]
    },
    {
     "name": "stderr",
     "output_type": "stream",
     "text": [
      "\u001b[32m[I 2022-02-23 14:48:42,420]\u001b[0m Trial 144 finished with value: 2.095001421584322 and parameters: {'n_estimators': 5000, 'num_leaves': 16, 'boosting': 'gbdt', 'max_depth': 12, 'max_bin': 32, 'min_data_in_leaf': 1, 'min_data_in_bin': 1, 'min_gain_to_split': 3.6500000000000004, 'learning_rate': 0.2936994461353491, 'random_state': 0, 'feature_fraction': 0.47708238640443534, 'bagging_fraction': 0.684863825369816, 'bagging_freq': 1, 'lambda_l1': 3.584538469336093e-08, 'lambda_l2': 0.011606258933554176}. Best is trial 134 with value: 1.973227887438453.\u001b[0m\n"
     ]
    },
    {
     "name": "stdout",
     "output_type": "stream",
     "text": [
      "[200]\tvalid_0's rmse: 2.18\n",
      "[300]\tvalid_0's rmse: 2.18\n",
      "[400]\tvalid_0's rmse: 2.18\n",
      "[500]\tvalid_0's rmse: 2.18\n",
      "Early stopping, best iteration is:\n",
      "[12]\tvalid_0's rmse: 2.095\n",
      "valid_score:  RMSE = 2.095001421584322\n",
      "Training until validation scores don't improve for 500 rounds\n",
      "[100]\tvalid_0's rmse: 2.08125\n",
      "[200]\tvalid_0's rmse: 2.03558\n",
      "[300]\tvalid_0's rmse: 2.04215\n",
      "[400]\tvalid_0's rmse: 2.02424\n",
      "[500]\tvalid_0's rmse: 2.01638\n"
     ]
    },
    {
     "name": "stderr",
     "output_type": "stream",
     "text": [
      "\u001b[32m[I 2022-02-23 14:48:43,004]\u001b[0m Trial 145 finished with value: 2.0112906905892154 and parameters: {'n_estimators': 10000, 'num_leaves': 16, 'boosting': 'gbdt', 'max_depth': 10, 'max_bin': 32, 'min_data_in_leaf': 1, 'min_data_in_bin': 1, 'min_gain_to_split': 4.77, 'learning_rate': 0.02896367851061242, 'random_state': 0, 'feature_fraction': 0.4060719838060812, 'bagging_fraction': 0.4609963946805297, 'bagging_freq': 7, 'lambda_l1': 4.996763888394797e-08, 'lambda_l2': 5.0768780679229465e-05}. Best is trial 134 with value: 1.973227887438453.\u001b[0m\n"
     ]
    },
    {
     "name": "stdout",
     "output_type": "stream",
     "text": [
      "[600]\tvalid_0's rmse: 2.01177\n",
      "[700]\tvalid_0's rmse: 2.02082\n",
      "[800]\tvalid_0's rmse: 2.02096\n",
      "[900]\tvalid_0's rmse: 2.02096\n",
      "[1000]\tvalid_0's rmse: 2.02096\n",
      "Early stopping, best iteration is:\n",
      "[583]\tvalid_0's rmse: 2.01074\n",
      "valid_score:  RMSE = 2.0112906905892154\n",
      "Training until validation scores don't improve for 500 rounds\n",
      "[100]\tvalid_0's rmse: 2.14386\n",
      "[200]\tvalid_0's rmse: 2.04667\n",
      "[300]\tvalid_0's rmse: 2.02017\n",
      "[400]\tvalid_0's rmse: 2.01231\n",
      "[500]\tvalid_0's rmse: 2.00872\n",
      "[600]\tvalid_0's rmse: 2.01079\n",
      "[700]\tvalid_0's rmse: 2.01181\n"
     ]
    },
    {
     "name": "stderr",
     "output_type": "stream",
     "text": [
      "\u001b[32m[I 2022-02-23 14:48:43,370]\u001b[0m Trial 146 finished with value: 2.00723708796484 and parameters: {'n_estimators': 5000, 'num_leaves': 6, 'boosting': 'gbdt', 'max_depth': 7, 'max_bin': 32, 'min_data_in_leaf': 1, 'min_data_in_bin': 1, 'min_gain_to_split': 4.43, 'learning_rate': 0.021449066777434612, 'random_state': 0, 'feature_fraction': 0.6287403220243688, 'bagging_fraction': 0.7386227207679571, 'bagging_freq': 3, 'lambda_l1': 1.1710900222048581e-08, 'lambda_l2': 2.3397891582111724e-08}. Best is trial 134 with value: 1.973227887438453.\u001b[0m\n"
     ]
    },
    {
     "name": "stdout",
     "output_type": "stream",
     "text": [
      "[800]\tvalid_0's rmse: 2.011\n",
      "[900]\tvalid_0's rmse: 2.015\n",
      "[1000]\tvalid_0's rmse: 2.015\n",
      "Early stopping, best iteration is:\n",
      "[548]\tvalid_0's rmse: 2.00724\n",
      "valid_score:  RMSE = 2.00723708796484\n",
      "Training until validation scores don't improve for 500 rounds\n",
      "[100]\tvalid_0's rmse: 2.14994\n",
      "[200]\tvalid_0's rmse: 2.14994\n"
     ]
    },
    {
     "name": "stderr",
     "output_type": "stream",
     "text": [
      "\u001b[32m[I 2022-02-23 14:48:43,552]\u001b[0m Trial 147 finished with value: 2.123074426645799 and parameters: {'n_estimators': 5000, 'num_leaves': 11, 'boosting': 'gbdt', 'max_depth': 13, 'max_bin': 32, 'min_data_in_leaf': 1, 'min_data_in_bin': 1, 'min_gain_to_split': 3.95, 'learning_rate': 0.2507110930568971, 'random_state': 0, 'feature_fraction': 0.563578678280295, 'bagging_fraction': 0.6683687129100233, 'bagging_freq': 6, 'lambda_l1': 0.25766142906372635, 'lambda_l2': 1.3214808801784606e-07}. Best is trial 134 with value: 1.973227887438453.\u001b[0m\n"
     ]
    },
    {
     "name": "stdout",
     "output_type": "stream",
     "text": [
      "[300]\tvalid_0's rmse: 2.14994\n",
      "[400]\tvalid_0's rmse: 2.14994\n",
      "[500]\tvalid_0's rmse: 2.14994\n",
      "Early stopping, best iteration is:\n",
      "[26]\tvalid_0's rmse: 2.12307\n",
      "valid_score:  RMSE = 2.123074426645799\n",
      "Training until validation scores don't improve for 500 rounds\n",
      "[100]\tvalid_0's rmse: 2.20483\n",
      "[200]\tvalid_0's rmse: 2.20483\n",
      "[300]\tvalid_0's rmse: 2.20483\n"
     ]
    },
    {
     "name": "stderr",
     "output_type": "stream",
     "text": [
      "\u001b[32m[I 2022-02-23 14:48:43,749]\u001b[0m Trial 148 finished with value: 2.0808982047212377 and parameters: {'n_estimators': 10000, 'num_leaves': 11, 'boosting': 'gbdt', 'max_depth': 11, 'max_bin': 32, 'min_data_in_leaf': 1, 'min_data_in_bin': 1, 'min_gain_to_split': 3.37, 'learning_rate': 0.18729012205673354, 'random_state': 0, 'feature_fraction': 0.948011373351719, 'bagging_fraction': 0.44627403351792794, 'bagging_freq': 6, 'lambda_l1': 0.03230907706584223, 'lambda_l2': 1.5294411230551125e-06}. Best is trial 134 with value: 1.973227887438453.\u001b[0m\n",
      "\u001b[32m[I 2022-02-23 14:48:43,866]\u001b[0m Trial 149 finished with value: 2.027481892447496 and parameters: {'n_estimators': 10000, 'num_leaves': 2, 'boosting': 'gbdt', 'max_depth': 12, 'max_bin': 32, 'min_data_in_leaf': 1, 'min_data_in_bin': 1, 'min_gain_to_split': 1.7100000000000002, 'learning_rate': 0.27082099319517794, 'random_state': 0, 'feature_fraction': 0.7659038735241253, 'bagging_fraction': 0.44633258157765954, 'bagging_freq': 7, 'lambda_l1': 1.3494672558494317e-07, 'lambda_l2': 2.14158542787636e-06}. Best is trial 134 with value: 1.973227887438453.\u001b[0m\n"
     ]
    },
    {
     "name": "stdout",
     "output_type": "stream",
     "text": [
      "[400]\tvalid_0's rmse: 2.20483\n",
      "[500]\tvalid_0's rmse: 2.20483\n",
      "Early stopping, best iteration is:\n",
      "[28]\tvalid_0's rmse: 2.0809\n",
      "valid_score:  RMSE = 2.0808982047212377\n",
      "Training until validation scores don't improve for 500 rounds\n",
      "[100]\tvalid_0's rmse: 2.05348\n",
      "[200]\tvalid_0's rmse: 2.02953\n",
      "[300]\tvalid_0's rmse: 2.05233\n",
      "[400]\tvalid_0's rmse: 2.06437\n",
      "[500]\tvalid_0's rmse: 2.06258\n",
      "[600]\tvalid_0's rmse: 2.05352\n",
      "[700]\tvalid_0's rmse: 2.07343\n",
      "Early stopping, best iteration is:\n",
      "[204]\tvalid_0's rmse: 2.02748\n",
      "valid_score:  RMSE = 2.027481892447496\n",
      "Training until validation scores don't improve for 500 rounds\n"
     ]
    },
    {
     "name": "stderr",
     "output_type": "stream",
     "text": [
      "\u001b[32m[I 2022-02-23 14:48:44,046]\u001b[0m Trial 150 finished with value: 2.0281802500578143 and parameters: {'n_estimators': 5000, 'num_leaves': 2, 'boosting': 'gbdt', 'max_depth': 2, 'max_bin': 32, 'min_data_in_leaf': 1, 'min_data_in_bin': 1, 'min_gain_to_split': 4.319999999999999, 'learning_rate': 0.08148343000733972, 'random_state': 0, 'feature_fraction': 0.5781279970893545, 'bagging_fraction': 0.5303021419467242, 'bagging_freq': 8, 'lambda_l1': 3.1078790499671925e-07, 'lambda_l2': 0.5607940892795267}. Best is trial 134 with value: 1.973227887438453.\u001b[0m\n"
     ]
    },
    {
     "name": "stdout",
     "output_type": "stream",
     "text": [
      "[100]\tvalid_0's rmse: 2.12668\n",
      "[200]\tvalid_0's rmse: 2.06102\n",
      "[300]\tvalid_0's rmse: 2.05298\n",
      "[400]\tvalid_0's rmse: 2.05482\n",
      "[500]\tvalid_0's rmse: 2.03413\n",
      "[600]\tvalid_0's rmse: 2.03963\n",
      "[700]\tvalid_0's rmse: 2.03675\n",
      "[800]\tvalid_0's rmse: 2.04813\n",
      "[900]\tvalid_0's rmse: 2.05601\n",
      "[1000]\tvalid_0's rmse: 2.05938\n",
      "Early stopping, best iteration is:\n",
      "[536]\tvalid_0's rmse: 2.02818\n",
      "valid_score:  RMSE = 2.0281802500578143\n",
      "Training until validation scores don't improve for 500 rounds\n"
     ]
    },
    {
     "name": "stderr",
     "output_type": "stream",
     "text": [
      "\u001b[32m[I 2022-02-23 14:48:44,303]\u001b[0m Trial 151 finished with value: 2.012997533577223 and parameters: {'n_estimators': 5000, 'num_leaves': 13, 'boosting': 'gbdt', 'max_depth': 7, 'max_bin': 32, 'min_data_in_leaf': 1, 'min_data_in_bin': 1, 'min_gain_to_split': 3.7800000000000002, 'learning_rate': 0.09493624085532375, 'random_state': 0, 'feature_fraction': 0.9545942526672073, 'bagging_fraction': 0.8512461117632866, 'bagging_freq': 3, 'lambda_l1': 0.010386932190942418, 'lambda_l2': 0.0011462615370222906}. Best is trial 134 with value: 1.973227887438453.\u001b[0m\n"
     ]
    },
    {
     "name": "stdout",
     "output_type": "stream",
     "text": [
      "[100]\tvalid_0's rmse: 2.01799\n",
      "[200]\tvalid_0's rmse: 2.01799\n",
      "[300]\tvalid_0's rmse: 2.01799\n",
      "[400]\tvalid_0's rmse: 2.01799\n",
      "[500]\tvalid_0's rmse: 2.01799\n",
      "Early stopping, best iteration is:\n",
      "[63]\tvalid_0's rmse: 2.013\n",
      "valid_score:  RMSE = 2.012997533577223\n"
     ]
    },
    {
     "name": "stderr",
     "output_type": "stream",
     "text": [
      "\u001b[32m[I 2022-02-23 14:48:44,525]\u001b[0m Trial 152 finished with value: 2.151398575642049 and parameters: {'n_estimators': 10000, 'num_leaves': 14, 'boosting': 'gbdt', 'max_depth': 11, 'max_bin': 32, 'min_data_in_leaf': 1, 'min_data_in_bin': 1, 'min_gain_to_split': 3.75, 'learning_rate': 0.23959114624259106, 'random_state': 0, 'feature_fraction': 0.5331990022780901, 'bagging_fraction': 0.5649522382084629, 'bagging_freq': 7, 'lambda_l1': 1.0131138633152025e-08, 'lambda_l2': 3.060176259624197e-05}. Best is trial 134 with value: 1.973227887438453.\u001b[0m\n"
     ]
    },
    {
     "name": "stdout",
     "output_type": "stream",
     "text": [
      "Training until validation scores don't improve for 500 rounds\n",
      "[100]\tvalid_0's rmse: 2.14814\n",
      "[200]\tvalid_0's rmse: 2.14814\n",
      "[300]\tvalid_0's rmse: 2.14814\n",
      "[400]\tvalid_0's rmse: 2.14814\n",
      "[500]\tvalid_0's rmse: 2.14814\n",
      "Early stopping, best iteration is:\n",
      "[68]\tvalid_0's rmse: 2.14755\n",
      "valid_score:  RMSE = 2.151398575642049\n",
      "Training until validation scores don't improve for 500 rounds\n",
      "[100]\tvalid_0's rmse: 2.02707\n",
      "[200]\tvalid_0's rmse: 2.0213\n",
      "[300]\tvalid_0's rmse: 2.0213\n",
      "[400]\tvalid_0's rmse: 2.0213\n"
     ]
    },
    {
     "name": "stderr",
     "output_type": "stream",
     "text": [
      "\u001b[32m[I 2022-02-23 14:48:44,837]\u001b[0m Trial 153 finished with value: 2.0148589314038756 and parameters: {'n_estimators': 5000, 'num_leaves': 10, 'boosting': 'gbdt', 'max_depth': 13, 'max_bin': 32, 'min_data_in_leaf': 1, 'min_data_in_bin': 1, 'min_gain_to_split': 3.83, 'learning_rate': 0.07038492790223527, 'random_state': 0, 'feature_fraction': 0.5003006772399228, 'bagging_fraction': 0.7555476241146306, 'bagging_freq': 4, 'lambda_l1': 7.223163267837737e-05, 'lambda_l2': 8.623644992779914e-05}. Best is trial 134 with value: 1.973227887438453.\u001b[0m\n"
     ]
    },
    {
     "name": "stdout",
     "output_type": "stream",
     "text": [
      "[500]\tvalid_0's rmse: 2.0213\n",
      "[600]\tvalid_0's rmse: 2.0213\n",
      "Early stopping, best iteration is:\n",
      "[134]\tvalid_0's rmse: 2.01486\n",
      "valid_score:  RMSE = 2.0148589314038756\n",
      "Training until validation scores don't improve for 500 rounds\n",
      "[100]\tvalid_0's rmse: 2.04959\n",
      "[200]\tvalid_0's rmse: 2.04872\n"
     ]
    },
    {
     "name": "stderr",
     "output_type": "stream",
     "text": [
      "\u001b[32m[I 2022-02-23 14:48:45,057]\u001b[0m Trial 154 finished with value: 2.0418058663386174 and parameters: {'n_estimators': 5000, 'num_leaves': 9, 'boosting': 'gbdt', 'max_depth': 6, 'max_bin': 32, 'min_data_in_leaf': 1, 'min_data_in_bin': 1, 'min_gain_to_split': 1.84, 'learning_rate': 0.14851772178936035, 'random_state': 0, 'feature_fraction': 0.5409970412145846, 'bagging_fraction': 0.8964037612748121, 'bagging_freq': 4, 'lambda_l1': 2.676552659813597e-08, 'lambda_l2': 1.0061466602122549e-07}. Best is trial 134 with value: 1.973227887438453.\u001b[0m\n"
     ]
    },
    {
     "name": "stdout",
     "output_type": "stream",
     "text": [
      "[300]\tvalid_0's rmse: 2.04872\n",
      "[400]\tvalid_0's rmse: 2.04872\n",
      "[500]\tvalid_0's rmse: 2.04872\n",
      "Early stopping, best iteration is:\n",
      "[30]\tvalid_0's rmse: 2.04181\n",
      "valid_score:  RMSE = 2.0418058663386174\n",
      "Training until validation scores don't improve for 500 rounds\n",
      "[100]\tvalid_0's rmse: 2.03278\n",
      "[200]\tvalid_0's rmse: 2.06129\n"
     ]
    },
    {
     "name": "stderr",
     "output_type": "stream",
     "text": [
      "\u001b[32m[I 2022-02-23 14:48:45,344]\u001b[0m Trial 155 finished with value: 2.0228527000404553 and parameters: {'n_estimators': 5000, 'num_leaves': 13, 'boosting': 'gbdt', 'max_depth': 14, 'max_bin': 32, 'min_data_in_leaf': 1, 'min_data_in_bin': 1, 'min_gain_to_split': 0.43000000000000005, 'learning_rate': 0.09782639064935034, 'random_state': 0, 'feature_fraction': 0.5261463523527606, 'bagging_fraction': 0.7926197561427364, 'bagging_freq': 3, 'lambda_l1': 0.0028724730453334544, 'lambda_l2': 5.108869148721192e-08}. Best is trial 134 with value: 1.973227887438453.\u001b[0m\n"
     ]
    },
    {
     "name": "stdout",
     "output_type": "stream",
     "text": [
      "[300]\tvalid_0's rmse: 2.06522\n",
      "[400]\tvalid_0's rmse: 2.08093\n",
      "[500]\tvalid_0's rmse: 2.08743\n",
      "Early stopping, best iteration is:\n",
      "[68]\tvalid_0's rmse: 2.02285\n",
      "valid_score:  RMSE = 2.0228527000404553\n",
      "Training until validation scores don't improve for 500 rounds\n",
      "[100]\tvalid_0's rmse: 2.10144\n"
     ]
    },
    {
     "name": "stderr",
     "output_type": "stream",
     "text": [
      "\u001b[32m[I 2022-02-23 14:48:45,560]\u001b[0m Trial 156 finished with value: 2.028005330942197 and parameters: {'n_estimators': 5000, 'num_leaves': 14, 'boosting': 'gbdt', 'max_depth': 7, 'max_bin': 32, 'min_data_in_leaf': 1, 'min_data_in_bin': 1, 'min_gain_to_split': 0.75, 'learning_rate': 0.2677777160490118, 'random_state': 0, 'feature_fraction': 0.7909209192104126, 'bagging_fraction': 0.8387990737480262, 'bagging_freq': 7, 'lambda_l1': 0.04680819281817502, 'lambda_l2': 0.00016916496122338728}. Best is trial 134 with value: 1.973227887438453.\u001b[0m\n"
     ]
    },
    {
     "name": "stdout",
     "output_type": "stream",
     "text": [
      "[200]\tvalid_0's rmse: 2.10834\n",
      "[300]\tvalid_0's rmse: 2.10834\n",
      "[400]\tvalid_0's rmse: 2.10834\n",
      "[500]\tvalid_0's rmse: 2.10834\n",
      "Early stopping, best iteration is:\n",
      "[21]\tvalid_0's rmse: 2.02801\n",
      "valid_score:  RMSE = 2.028005330942197\n",
      "Training until validation scores don't improve for 500 rounds\n",
      "[100]\tvalid_0's rmse: 2.06218\n"
     ]
    },
    {
     "name": "stderr",
     "output_type": "stream",
     "text": [
      "\u001b[32m[I 2022-02-23 14:48:45,896]\u001b[0m Trial 157 finished with value: 2.0429334998477042 and parameters: {'n_estimators': 5000, 'num_leaves': 12, 'boosting': 'gbdt', 'max_depth': 11, 'max_bin': 32, 'min_data_in_leaf': 1, 'min_data_in_bin': 1, 'min_gain_to_split': 2.99, 'learning_rate': 0.039519483965993335, 'random_state': 0, 'feature_fraction': 0.7931830307183881, 'bagging_fraction': 0.4181195406992484, 'bagging_freq': 7, 'lambda_l1': 5.974537455787485e-07, 'lambda_l2': 3.2320477736188355e-07}. Best is trial 134 with value: 1.973227887438453.\u001b[0m\n"
     ]
    },
    {
     "name": "stdout",
     "output_type": "stream",
     "text": [
      "[200]\tvalid_0's rmse: 2.04407\n",
      "[300]\tvalid_0's rmse: 2.08385\n",
      "[400]\tvalid_0's rmse: 2.06738\n",
      "[500]\tvalid_0's rmse: 2.07962\n",
      "[600]\tvalid_0's rmse: 2.08604\n",
      "Early stopping, best iteration is:\n",
      "[189]\tvalid_0's rmse: 2.04293\n",
      "valid_score:  RMSE = 2.0429334998477042\n"
     ]
    },
    {
     "name": "stderr",
     "output_type": "stream",
     "text": [
      "\u001b[32m[I 2022-02-23 14:48:46,096]\u001b[0m Trial 158 finished with value: 2.0676429430192282 and parameters: {'n_estimators': 5000, 'num_leaves': 13, 'boosting': 'gbdt', 'max_depth': 15, 'max_bin': 32, 'min_data_in_leaf': 1, 'min_data_in_bin': 1, 'min_gain_to_split': 4.25, 'learning_rate': 0.21020442629979744, 'random_state': 0, 'feature_fraction': 0.6729466921476117, 'bagging_fraction': 0.827117184261067, 'bagging_freq': 6, 'lambda_l1': 0.07358572708615704, 'lambda_l2': 0.4100662237702942}. Best is trial 134 with value: 1.973227887438453.\u001b[0m\n"
     ]
    },
    {
     "name": "stdout",
     "output_type": "stream",
     "text": [
      "Training until validation scores don't improve for 500 rounds\n",
      "[100]\tvalid_0's rmse: 2.08305\n",
      "[200]\tvalid_0's rmse: 2.08305\n",
      "[300]\tvalid_0's rmse: 2.08305\n",
      "[400]\tvalid_0's rmse: 2.08305\n",
      "[500]\tvalid_0's rmse: 2.08305\n",
      "Early stopping, best iteration is:\n",
      "[17]\tvalid_0's rmse: 2.06764\n",
      "valid_score:  RMSE = 2.0676429430192282\n",
      "Training until validation scores don't improve for 500 rounds\n"
     ]
    },
    {
     "name": "stderr",
     "output_type": "stream",
     "text": [
      "\u001b[32m[I 2022-02-23 14:48:46,330]\u001b[0m Trial 159 finished with value: 2.023114106920737 and parameters: {'n_estimators': 5000, 'num_leaves': 9, 'boosting': 'gbdt', 'max_depth': 16, 'max_bin': 32, 'min_data_in_leaf': 1, 'min_data_in_bin': 1, 'min_gain_to_split': 1.03, 'learning_rate': 0.08958576501835455, 'random_state': 0, 'feature_fraction': 0.6454113006711075, 'bagging_fraction': 0.513170037037351, 'bagging_freq': 6, 'lambda_l1': 1.878241967519496e-06, 'lambda_l2': 3.4257310003531004e-06}. Best is trial 134 with value: 1.973227887438453.\u001b[0m\n"
     ]
    },
    {
     "name": "stdout",
     "output_type": "stream",
     "text": [
      "[100]\tvalid_0's rmse: 2.04521\n",
      "[200]\tvalid_0's rmse: 2.06165\n",
      "[300]\tvalid_0's rmse: 2.07441\n",
      "[400]\tvalid_0's rmse: 2.06237\n",
      "[500]\tvalid_0's rmse: 2.09078\n",
      "[600]\tvalid_0's rmse: 2.10157\n",
      "Early stopping, best iteration is:\n",
      "[120]\tvalid_0's rmse: 2.02311\n",
      "valid_score:  RMSE = 2.023114106920737\n",
      "Training until validation scores don't improve for 500 rounds\n",
      "[100]\tvalid_0's rmse: 2.09268\n",
      "[200]\tvalid_0's rmse: 2.06607\n"
     ]
    },
    {
     "name": "stderr",
     "output_type": "stream",
     "text": [
      "\u001b[32m[I 2022-02-23 14:48:46,507]\u001b[0m Trial 160 finished with value: 2.041085349488354 and parameters: {'n_estimators': 10000, 'num_leaves': 2, 'boosting': 'gbdt', 'max_depth': 2, 'max_bin': 32, 'min_data_in_leaf': 1, 'min_data_in_bin': 1, 'min_gain_to_split': 3.21, 'learning_rate': 0.13013209962464325, 'random_state': 0, 'feature_fraction': 0.42568158662096073, 'bagging_fraction': 0.4337461498013523, 'bagging_freq': 3, 'lambda_l1': 2.3324373572734798e-05, 'lambda_l2': 6.768823571905217e-05}. Best is trial 134 with value: 1.973227887438453.\u001b[0m\n"
     ]
    },
    {
     "name": "stdout",
     "output_type": "stream",
     "text": [
      "[300]\tvalid_0's rmse: 2.06322\n",
      "[400]\tvalid_0's rmse: 2.05186\n",
      "[500]\tvalid_0's rmse: 2.04747\n",
      "[600]\tvalid_0's rmse: 2.0757\n",
      "[700]\tvalid_0's rmse: 2.05403\n",
      "[800]\tvalid_0's rmse: 2.05518\n",
      "[900]\tvalid_0's rmse: 2.05798\n",
      "Early stopping, best iteration is:\n",
      "[488]\tvalid_0's rmse: 2.04109\n",
      "valid_score:  RMSE = 2.041085349488354\n",
      "Training until validation scores don't improve for 500 rounds\n",
      "[100]\tvalid_0's rmse: 2.03856\n",
      "[200]\tvalid_0's rmse: 2.02929\n",
      "[300]\tvalid_0's rmse: 2.08142\n",
      "[400]\tvalid_0's rmse: 2.09076\n"
     ]
    },
    {
     "name": "stderr",
     "output_type": "stream",
     "text": [
      "\u001b[32m[I 2022-02-23 14:48:46,675]\u001b[0m Trial 161 finished with value: 2.021186236877636 and parameters: {'n_estimators': 5000, 'num_leaves': 3, 'boosting': 'gbdt', 'max_depth': 15, 'max_bin': 32, 'min_data_in_leaf': 1, 'min_data_in_bin': 1, 'min_gain_to_split': 1.9500000000000002, 'learning_rate': 0.23134419038134604, 'random_state': 0, 'feature_fraction': 0.8373187035124473, 'bagging_fraction': 0.5630461612448252, 'bagging_freq': 7, 'lambda_l1': 0.12067498570816697, 'lambda_l2': 5.702969259809434e-07}. Best is trial 134 with value: 1.973227887438453.\u001b[0m\n"
     ]
    },
    {
     "name": "stdout",
     "output_type": "stream",
     "text": [
      "[500]\tvalid_0's rmse: 2.08522\n",
      "[600]\tvalid_0's rmse: 2.09603\n",
      "Early stopping, best iteration is:\n",
      "[190]\tvalid_0's rmse: 2.02119\n",
      "valid_score:  RMSE = 2.021186236877636\n",
      "Training until validation scores don't improve for 500 rounds\n",
      "[100]\tvalid_0's rmse: 2.14955\n",
      "[200]\tvalid_0's rmse: 2.0804\n",
      "[300]\tvalid_0's rmse: 2.05579\n"
     ]
    },
    {
     "name": "stderr",
     "output_type": "stream",
     "text": [
      "\u001b[32m[I 2022-02-23 14:48:47,038]\u001b[0m Trial 162 finished with value: 2.0503575829676017 and parameters: {'n_estimators': 5000, 'num_leaves': 7, 'boosting': 'gbdt', 'max_depth': 12, 'max_bin': 32, 'min_data_in_leaf': 1, 'min_data_in_bin': 1, 'min_gain_to_split': 3.44, 'learning_rate': 0.0207009164503205, 'random_state': 0, 'feature_fraction': 0.9639095860360289, 'bagging_fraction': 0.7769920718666574, 'bagging_freq': 6, 'lambda_l1': 1.9474154493214742e-06, 'lambda_l2': 1.3069400562204776e-06}. Best is trial 134 with value: 1.973227887438453.\u001b[0m\n"
     ]
    },
    {
     "name": "stdout",
     "output_type": "stream",
     "text": [
      "[400]\tvalid_0's rmse: 2.05538\n",
      "[500]\tvalid_0's rmse: 2.0548\n",
      "[600]\tvalid_0's rmse: 2.06226\n",
      "[700]\tvalid_0's rmse: 2.06182\n",
      "[800]\tvalid_0's rmse: 2.05948\n",
      "[900]\tvalid_0's rmse: 2.05912\n",
      "Early stopping, best iteration is:\n",
      "[427]\tvalid_0's rmse: 2.05036\n",
      "valid_score:  RMSE = 2.0503575829676017\n"
     ]
    },
    {
     "name": "stderr",
     "output_type": "stream",
     "text": [
      "\u001b[32m[I 2022-02-23 14:48:47,236]\u001b[0m Trial 163 finished with value: 2.0347220971630704 and parameters: {'n_estimators': 10000, 'num_leaves': 10, 'boosting': 'gbdt', 'max_depth': 5, 'max_bin': 32, 'min_data_in_leaf': 1, 'min_data_in_bin': 1, 'min_gain_to_split': 4.62, 'learning_rate': 0.16624836460568107, 'random_state': 0, 'feature_fraction': 0.6752662576842332, 'bagging_fraction': 0.7120984274800914, 'bagging_freq': 6, 'lambda_l1': 3.0716433136287965e-07, 'lambda_l2': 1.0955626921797219e-06}. Best is trial 134 with value: 1.973227887438453.\u001b[0m\n"
     ]
    },
    {
     "name": "stdout",
     "output_type": "stream",
     "text": [
      "Training until validation scores don't improve for 500 rounds\n",
      "[100]\tvalid_0's rmse: 2.04628\n",
      "[200]\tvalid_0's rmse: 2.04628\n",
      "[300]\tvalid_0's rmse: 2.04628\n",
      "[400]\tvalid_0's rmse: 2.04628\n",
      "[500]\tvalid_0's rmse: 2.04628\n",
      "Early stopping, best iteration is:\n",
      "[27]\tvalid_0's rmse: 2.03472\n",
      "valid_score:  RMSE = 2.0347220971630704\n",
      "Training until validation scores don't improve for 500 rounds\n"
     ]
    },
    {
     "name": "stderr",
     "output_type": "stream",
     "text": [
      "\u001b[32m[I 2022-02-23 14:48:47,456]\u001b[0m Trial 164 finished with value: 2.003342290198164 and parameters: {'n_estimators': 10000, 'num_leaves': 9, 'boosting': 'gbdt', 'max_depth': 11, 'max_bin': 32, 'min_data_in_leaf': 1, 'min_data_in_bin': 1, 'min_gain_to_split': 1.77, 'learning_rate': 0.11145208700304665, 'random_state': 0, 'feature_fraction': 0.9353341753460601, 'bagging_fraction': 0.49842014168355975, 'bagging_freq': 7, 'lambda_l1': 2.710517860653784e-06, 'lambda_l2': 5.0822551034105944e-08}. Best is trial 134 with value: 1.973227887438453.\u001b[0m\n"
     ]
    },
    {
     "name": "stdout",
     "output_type": "stream",
     "text": [
      "[100]\tvalid_0's rmse: 2.04443\n",
      "[200]\tvalid_0's rmse: 2.04724\n",
      "[300]\tvalid_0's rmse: 2.08785\n",
      "[400]\tvalid_0's rmse: 2.12329\n",
      "[500]\tvalid_0's rmse: 2.12329\n",
      "Early stopping, best iteration is:\n",
      "[63]\tvalid_0's rmse: 2.00334\n",
      "valid_score:  RMSE = 2.003342290198164\n",
      "Training until validation scores don't improve for 500 rounds\n"
     ]
    },
    {
     "name": "stderr",
     "output_type": "stream",
     "text": [
      "\u001b[32m[I 2022-02-23 14:48:47,654]\u001b[0m Trial 165 finished with value: 2.0623971191581867 and parameters: {'n_estimators': 10000, 'num_leaves': 15, 'boosting': 'gbdt', 'max_depth': 14, 'max_bin': 32, 'min_data_in_leaf': 1, 'min_data_in_bin': 1, 'min_gain_to_split': 4.1, 'learning_rate': 0.17715969629113146, 'random_state': 0, 'feature_fraction': 0.5865112317273843, 'bagging_fraction': 0.5518138220623129, 'bagging_freq': 8, 'lambda_l1': 8.799609310096246e-07, 'lambda_l2': 0.0008987040378698691}. Best is trial 134 with value: 1.973227887438453.\u001b[0m\n"
     ]
    },
    {
     "name": "stdout",
     "output_type": "stream",
     "text": [
      "[100]\tvalid_0's rmse: 2.14869\n",
      "[200]\tvalid_0's rmse: 2.14869\n",
      "[300]\tvalid_0's rmse: 2.14869\n",
      "[400]\tvalid_0's rmse: 2.14869\n",
      "[500]\tvalid_0's rmse: 2.14869\n",
      "Early stopping, best iteration is:\n",
      "[19]\tvalid_0's rmse: 2.0624\n",
      "valid_score:  RMSE = 2.0623971191581867\n",
      "Training until validation scores don't improve for 500 rounds\n"
     ]
    },
    {
     "name": "stderr",
     "output_type": "stream",
     "text": [
      "\u001b[32m[I 2022-02-23 14:48:47,861]\u001b[0m Trial 166 finished with value: 2.024144212956077 and parameters: {'n_estimators': 10000, 'num_leaves': 4, 'boosting': 'gbdt', 'max_depth': 12, 'max_bin': 32, 'min_data_in_leaf': 1, 'min_data_in_bin': 1, 'min_gain_to_split': 0.19, 'learning_rate': 0.25178887846877657, 'random_state': 0, 'feature_fraction': 0.5982723370042595, 'bagging_fraction': 0.9522187237559034, 'bagging_freq': 5, 'lambda_l1': 3.569500140152243e-06, 'lambda_l2': 1.3286435570323058e-06}. Best is trial 134 with value: 1.973227887438453.\u001b[0m\n"
     ]
    },
    {
     "name": "stdout",
     "output_type": "stream",
     "text": [
      "[100]\tvalid_0's rmse: 2.02918\n",
      "[200]\tvalid_0's rmse: 2.03976\n",
      "[300]\tvalid_0's rmse: 2.0604\n",
      "[400]\tvalid_0's rmse: 2.06648\n",
      "[500]\tvalid_0's rmse: 2.07854\n",
      "[600]\tvalid_0's rmse: 2.08127\n",
      "Early stopping, best iteration is:\n",
      "[118]\tvalid_0's rmse: 2.02414\n",
      "valid_score:  RMSE = 2.024144212956077\n",
      "Training until validation scores don't improve for 500 rounds\n"
     ]
    },
    {
     "name": "stderr",
     "output_type": "stream",
     "text": [
      "\u001b[32m[I 2022-02-23 14:48:48,139]\u001b[0m Trial 167 finished with value: 2.009612064100529 and parameters: {'n_estimators': 10000, 'num_leaves': 8, 'boosting': 'gbdt', 'max_depth': 14, 'max_bin': 32, 'min_data_in_leaf': 1, 'min_data_in_bin': 1, 'min_gain_to_split': 2.5700000000000003, 'learning_rate': 0.08185963034048269, 'random_state': 0, 'feature_fraction': 0.6148959072094435, 'bagging_fraction': 0.9031346528520595, 'bagging_freq': 2, 'lambda_l1': 1.8921665118734324e-08, 'lambda_l2': 0.002598547428342673}. Best is trial 134 with value: 1.973227887438453.\u001b[0m\n"
     ]
    },
    {
     "name": "stdout",
     "output_type": "stream",
     "text": [
      "[100]\tvalid_0's rmse: 2.01282\n",
      "[200]\tvalid_0's rmse: 2.01715\n",
      "[300]\tvalid_0's rmse: 2.02165\n",
      "[400]\tvalid_0's rmse: 2.02165\n",
      "[500]\tvalid_0's rmse: 2.02165\n",
      "Early stopping, best iteration is:\n",
      "[94]\tvalid_0's rmse: 2.00961\n",
      "valid_score:  RMSE = 2.009612064100529\n",
      "Training until validation scores don't improve for 500 rounds\n",
      "[100]\tvalid_0's rmse: 2.0879\n",
      "[200]\tvalid_0's rmse: 2.0879\n",
      "[300]\tvalid_0's rmse: 2.0879\n",
      "[400]\tvalid_0's rmse: 2.0879\n",
      "[500]\tvalid_0's rmse: 2.0879\n"
     ]
    },
    {
     "name": "stderr",
     "output_type": "stream",
     "text": [
      "\u001b[32m[I 2022-02-23 14:48:48,392]\u001b[0m Trial 168 finished with value: 2.0839039456704955 and parameters: {'n_estimators': 10000, 'num_leaves': 7, 'boosting': 'gbdt', 'max_depth': 10, 'max_bin': 32, 'min_data_in_leaf': 1, 'min_data_in_bin': 1, 'min_gain_to_split': 3.37, 'learning_rate': 0.23532441627303863, 'random_state': 0, 'feature_fraction': 0.9056663901182155, 'bagging_fraction': 0.8728363343938748, 'bagging_freq': 1, 'lambda_l1': 0.00037385272289474963, 'lambda_l2': 0.00020477410017988074}. Best is trial 134 with value: 1.973227887438453.\u001b[0m\n",
      "\u001b[32m[I 2022-02-23 14:48:48,584]\u001b[0m Trial 169 finished with value: 2.0435505346757146 and parameters: {'n_estimators': 5000, 'num_leaves': 5, 'boosting': 'gbdt', 'max_depth': 14, 'max_bin': 32, 'min_data_in_leaf': 1, 'min_data_in_bin': 1, 'min_gain_to_split': 4.42, 'learning_rate': 0.2326239660964428, 'random_state': 0, 'feature_fraction': 0.8717791841504938, 'bagging_fraction': 0.790192817241147, 'bagging_freq': 8, 'lambda_l1': 0.20917156872160264, 'lambda_l2': 1.2501850779310401e-05}. Best is trial 134 with value: 1.973227887438453.\u001b[0m\n"
     ]
    },
    {
     "name": "stdout",
     "output_type": "stream",
     "text": [
      "Early stopping, best iteration is:\n",
      "[65]\tvalid_0's rmse: 2.0839\n",
      "valid_score:  RMSE = 2.0839039456704955\n",
      "Training until validation scores don't improve for 500 rounds\n",
      "[100]\tvalid_0's rmse: 2.0544\n",
      "[200]\tvalid_0's rmse: 2.0544\n",
      "[300]\tvalid_0's rmse: 2.0544\n",
      "[400]\tvalid_0's rmse: 2.0544\n",
      "[500]\tvalid_0's rmse: 2.0544\n",
      "Early stopping, best iteration is:\n",
      "[55]\tvalid_0's rmse: 2.04355\n",
      "valid_score:  RMSE = 2.0435505346757146\n"
     ]
    },
    {
     "name": "stderr",
     "output_type": "stream",
     "text": [
      "\u001b[32m[I 2022-02-23 14:48:48,727]\u001b[0m Trial 170 finished with value: 2.0270176654816576 and parameters: {'n_estimators': 5000, 'num_leaves': 4, 'boosting': 'gbdt', 'max_depth': 16, 'max_bin': 32, 'min_data_in_leaf': 1, 'min_data_in_bin': 1, 'min_gain_to_split': 1.55, 'learning_rate': 0.2981242933183846, 'random_state': 0, 'feature_fraction': 0.4260102121345243, 'bagging_fraction': 0.5076195727819146, 'bagging_freq': 4, 'lambda_l1': 2.255591794246861e-05, 'lambda_l2': 1.1482881670524924e-08}. Best is trial 134 with value: 1.973227887438453.\u001b[0m\n"
     ]
    },
    {
     "name": "stdout",
     "output_type": "stream",
     "text": [
      "Training until validation scores don't improve for 500 rounds\n",
      "[100]\tvalid_0's rmse: 2.13269\n",
      "[200]\tvalid_0's rmse: 2.23999\n",
      "[300]\tvalid_0's rmse: 2.24941\n",
      "[400]\tvalid_0's rmse: 2.26671\n",
      "[500]\tvalid_0's rmse: 2.32365\n",
      "Early stopping, best iteration is:\n",
      "[26]\tvalid_0's rmse: 2.02702\n",
      "valid_score:  RMSE = 2.0270176654816576\n",
      "Training until validation scores don't improve for 500 rounds\n",
      "[100]\tvalid_0's rmse: 2.07458\n",
      "[200]\tvalid_0's rmse: 2.04677\n",
      "[300]\tvalid_0's rmse: 2.04417\n"
     ]
    },
    {
     "name": "stderr",
     "output_type": "stream",
     "text": [
      "\u001b[32m[I 2022-02-23 14:48:49,022]\u001b[0m Trial 171 finished with value: 2.0365998275570485 and parameters: {'n_estimators': 10000, 'num_leaves': 2, 'boosting': 'gbdt', 'max_depth': 8, 'max_bin': 32, 'min_data_in_leaf': 1, 'min_data_in_bin': 1, 'min_gain_to_split': 2.71, 'learning_rate': 0.15757951217892402, 'random_state': 0, 'feature_fraction': 0.5074861765390961, 'bagging_fraction': 0.8768419588655934, 'bagging_freq': 5, 'lambda_l1': 0.14238667578406086, 'lambda_l2': 0.03006864507489582}. Best is trial 134 with value: 1.973227887438453.\u001b[0m\n"
     ]
    },
    {
     "name": "stdout",
     "output_type": "stream",
     "text": [
      "[400]\tvalid_0's rmse: 2.04148\n",
      "[500]\tvalid_0's rmse: 2.04497\n",
      "[600]\tvalid_0's rmse: 2.0427\n",
      "[700]\tvalid_0's rmse: 2.04234\n",
      "[800]\tvalid_0's rmse: 2.04628\n",
      "[900]\tvalid_0's rmse: 2.04628\n",
      "[1000]\tvalid_0's rmse: 2.04628\n",
      "[1100]\tvalid_0's rmse: 2.04628\n",
      "Early stopping, best iteration is:\n",
      "[660]\tvalid_0's rmse: 2.0366\n",
      "valid_score:  RMSE = 2.0365998275570485\n"
     ]
    },
    {
     "name": "stderr",
     "output_type": "stream",
     "text": [
      "\u001b[32m[I 2022-02-23 14:48:49,238]\u001b[0m Trial 172 finished with value: 2.089045776582826 and parameters: {'n_estimators': 10000, 'num_leaves': 8, 'boosting': 'gbdt', 'max_depth': 5, 'max_bin': 32, 'min_data_in_leaf': 1, 'min_data_in_bin': 1, 'min_gain_to_split': 1.0, 'learning_rate': 0.233031136485743, 'random_state': 0, 'feature_fraction': 0.7740580355580574, 'bagging_fraction': 0.8111794946866968, 'bagging_freq': 1, 'lambda_l1': 0.0004983030667542662, 'lambda_l2': 2.1038832103016875e-06}. Best is trial 134 with value: 1.973227887438453.\u001b[0m\n"
     ]
    },
    {
     "name": "stdout",
     "output_type": "stream",
     "text": [
      "Training until validation scores don't improve for 500 rounds\n",
      "[100]\tvalid_0's rmse: 2.13964\n",
      "[200]\tvalid_0's rmse: 2.16355\n",
      "[300]\tvalid_0's rmse: 2.16872\n",
      "[400]\tvalid_0's rmse: 2.16929\n",
      "[500]\tvalid_0's rmse: 2.16756\n",
      "Early stopping, best iteration is:\n",
      "[16]\tvalid_0's rmse: 2.08905\n",
      "valid_score:  RMSE = 2.089045776582826\n"
     ]
    },
    {
     "name": "stderr",
     "output_type": "stream",
     "text": [
      "\u001b[32m[I 2022-02-23 14:48:49,450]\u001b[0m Trial 173 finished with value: 2.047940282262536 and parameters: {'n_estimators': 5000, 'num_leaves': 11, 'boosting': 'gbdt', 'max_depth': 11, 'max_bin': 32, 'min_data_in_leaf': 1, 'min_data_in_bin': 1, 'min_gain_to_split': 1.4400000000000002, 'learning_rate': 0.23764389990944615, 'random_state': 0, 'feature_fraction': 0.6868059716280548, 'bagging_fraction': 0.8664605465205182, 'bagging_freq': 5, 'lambda_l1': 1.7677717895481988e-07, 'lambda_l2': 0.42285676065105376}. Best is trial 134 with value: 1.973227887438453.\u001b[0m\n"
     ]
    },
    {
     "name": "stdout",
     "output_type": "stream",
     "text": [
      "Training until validation scores don't improve for 500 rounds\n",
      "[100]\tvalid_0's rmse: 2.0808\n",
      "[200]\tvalid_0's rmse: 2.0808\n",
      "[300]\tvalid_0's rmse: 2.0808\n",
      "[400]\tvalid_0's rmse: 2.0808\n",
      "[500]\tvalid_0's rmse: 2.0808\n",
      "Early stopping, best iteration is:\n",
      "[59]\tvalid_0's rmse: 2.04794\n",
      "valid_score:  RMSE = 2.047940282262536\n",
      "Training until validation scores don't improve for 500 rounds\n",
      "[100]\tvalid_0's rmse: 2.07531\n",
      "[200]\tvalid_0's rmse: 2.02002\n",
      "[300]\tvalid_0's rmse: 2.0166\n",
      "[400]\tvalid_0's rmse: 2.01076\n",
      "[500]\tvalid_0's rmse: 2.00529\n",
      "[600]\tvalid_0's rmse: 2.00161\n"
     ]
    },
    {
     "name": "stderr",
     "output_type": "stream",
     "text": [
      "\u001b[32m[I 2022-02-23 14:48:49,864]\u001b[0m Trial 174 finished with value: 2.000134470605944 and parameters: {'n_estimators': 10000, 'num_leaves': 7, 'boosting': 'gbdt', 'max_depth': 8, 'max_bin': 32, 'min_data_in_leaf': 1, 'min_data_in_bin': 1, 'min_gain_to_split': 0.9, 'learning_rate': 0.0299774246720462, 'random_state': 0, 'feature_fraction': 0.7249661601910284, 'bagging_fraction': 0.9099760177919, 'bagging_freq': 2, 'lambda_l1': 0.12174321848879154, 'lambda_l2': 0.004881039025776456}. Best is trial 134 with value: 1.973227887438453.\u001b[0m\n"
     ]
    },
    {
     "name": "stdout",
     "output_type": "stream",
     "text": [
      "[700]\tvalid_0's rmse: 2.00206\n",
      "[800]\tvalid_0's rmse: 2.00398\n",
      "[900]\tvalid_0's rmse: 2.00782\n",
      "[1000]\tvalid_0's rmse: 2.00712\n",
      "[1100]\tvalid_0's rmse: 2.00658\n",
      "Early stopping, best iteration is:\n",
      "[609]\tvalid_0's rmse: 2.00013\n",
      "valid_score:  RMSE = 2.000134470605944\n",
      "Training until validation scores don't improve for 500 rounds\n",
      "[100]\tvalid_0's rmse: 2.02715\n",
      "[200]\tvalid_0's rmse: 2.00963\n",
      "[300]\tvalid_0's rmse: 2.00759\n",
      "[400]\tvalid_0's rmse: 2.00759\n",
      "[500]\tvalid_0's rmse: 2.00759\n",
      "[600]\tvalid_0's rmse: 2.00759\n",
      "[700]\tvalid_0's rmse: 2.00759\n",
      "Early stopping, best iteration is:\n",
      "[216]\tvalid_0's rmse: 2.00363\n"
     ]
    },
    {
     "name": "stderr",
     "output_type": "stream",
     "text": [
      "\u001b[32m[I 2022-02-23 14:48:50,160]\u001b[0m Trial 175 finished with value: 2.003634243033204 and parameters: {'n_estimators': 5000, 'num_leaves': 10, 'boosting': 'gbdt', 'max_depth': 4, 'max_bin': 32, 'min_data_in_leaf': 1, 'min_data_in_bin': 1, 'min_gain_to_split': 3.25, 'learning_rate': 0.04387866554052314, 'random_state': 0, 'feature_fraction': 0.8445578580526949, 'bagging_fraction': 0.929020543939338, 'bagging_freq': 7, 'lambda_l1': 1.811134594295083e-06, 'lambda_l2': 2.1827680517128823e-05}. Best is trial 134 with value: 1.973227887438453.\u001b[0m\n",
      "\u001b[32m[I 2022-02-23 14:48:50,317]\u001b[0m Trial 176 finished with value: 2.0230495001860063 and parameters: {'n_estimators': 5000, 'num_leaves': 11, 'boosting': 'gbdt', 'max_depth': 2, 'max_bin': 32, 'min_data_in_leaf': 1, 'min_data_in_bin': 1, 'min_gain_to_split': 0.1, 'learning_rate': 0.2304596790395529, 'random_state': 0, 'feature_fraction': 0.9028315051573845, 'bagging_fraction': 0.5565343742275817, 'bagging_freq': 2, 'lambda_l1': 0.010133106534569999, 'lambda_l2': 0.0011481728028182442}. Best is trial 134 with value: 1.973227887438453.\u001b[0m\n"
     ]
    },
    {
     "name": "stdout",
     "output_type": "stream",
     "text": [
      "valid_score:  RMSE = 2.003634243033204\n",
      "Training until validation scores don't improve for 500 rounds\n",
      "[100]\tvalid_0's rmse: 2.08911\n",
      "[200]\tvalid_0's rmse: 2.11317\n",
      "[300]\tvalid_0's rmse: 2.1235\n",
      "[400]\tvalid_0's rmse: 2.14564\n",
      "[500]\tvalid_0's rmse: 2.16602\n",
      "Early stopping, best iteration is:\n",
      "[46]\tvalid_0's rmse: 2.02305\n",
      "valid_score:  RMSE = 2.0230495001860063\n",
      "Training until validation scores don't improve for 500 rounds\n",
      "[100]\tvalid_0's rmse: 2.03743\n",
      "[200]\tvalid_0's rmse: 2.03248\n",
      "[300]\tvalid_0's rmse: 2.02875\n",
      "[400]\tvalid_0's rmse: 2.06322\n",
      "[500]\tvalid_0's rmse: 2.0757\n"
     ]
    },
    {
     "name": "stderr",
     "output_type": "stream",
     "text": [
      "\u001b[32m[I 2022-02-23 14:48:50,606]\u001b[0m Trial 177 finished with value: 2.01109049608954 and parameters: {'n_estimators': 5000, 'num_leaves': 4, 'boosting': 'gbdt', 'max_depth': 14, 'max_bin': 32, 'min_data_in_leaf': 1, 'min_data_in_bin': 1, 'min_gain_to_split': 4.26, 'learning_rate': 0.2531780510670509, 'random_state': 0, 'feature_fraction': 0.5079151643342446, 'bagging_fraction': 0.6894660914197253, 'bagging_freq': 1, 'lambda_l1': 1.4362311722771365e-05, 'lambda_l2': 2.785767680900841e-07}. Best is trial 134 with value: 1.973227887438453.\u001b[0m\n"
     ]
    },
    {
     "name": "stdout",
     "output_type": "stream",
     "text": [
      "Early stopping, best iteration is:\n",
      "[64]\tvalid_0's rmse: 2.01109\n",
      "valid_score:  RMSE = 2.01109049608954\n",
      "Training until validation scores don't improve for 500 rounds\n",
      "[100]\tvalid_0's rmse: 2.07707\n",
      "[200]\tvalid_0's rmse: 2.0503\n",
      "[300]\tvalid_0's rmse: 2.05091\n"
     ]
    },
    {
     "name": "stderr",
     "output_type": "stream",
     "text": [
      "\u001b[32m[I 2022-02-23 14:48:50,995]\u001b[0m Trial 178 finished with value: 2.0436883280047535 and parameters: {'n_estimators': 10000, 'num_leaves': 2, 'boosting': 'gbdt', 'max_depth': 11, 'max_bin': 32, 'min_data_in_leaf': 1, 'min_data_in_bin': 1, 'min_gain_to_split': 4.5, 'learning_rate': 0.16006521367630025, 'random_state': 0, 'feature_fraction': 0.9624578199065016, 'bagging_fraction': 0.91254337282265, 'bagging_freq': 4, 'lambda_l1': 0.00021182909402746127, 'lambda_l2': 0.00013725663233231332}. Best is trial 134 with value: 1.973227887438453.\u001b[0m\n"
     ]
    },
    {
     "name": "stdout",
     "output_type": "stream",
     "text": [
      "[400]\tvalid_0's rmse: 2.05065\n",
      "[500]\tvalid_0's rmse: 2.05065\n",
      "[600]\tvalid_0's rmse: 2.05065\n",
      "[700]\tvalid_0's rmse: 2.05065\n",
      "Early stopping, best iteration is:\n",
      "[260]\tvalid_0's rmse: 2.04369\n",
      "valid_score:  RMSE = 2.0436883280047535\n",
      "Training until validation scores don't improve for 500 rounds\n",
      "[100]\tvalid_0's rmse: 2.02667\n",
      "[200]\tvalid_0's rmse: 2.03137\n",
      "[300]\tvalid_0's rmse: 2.03068\n",
      "[400]\tvalid_0's rmse: 2.03115\n",
      "[500]\tvalid_0's rmse: 2.03464\n"
     ]
    },
    {
     "name": "stderr",
     "output_type": "stream",
     "text": [
      "\u001b[32m[I 2022-02-23 14:48:51,304]\u001b[0m Trial 179 finished with value: 2.0143900199980593 and parameters: {'n_estimators': 10000, 'num_leaves': 12, 'boosting': 'gbdt', 'max_depth': 3, 'max_bin': 32, 'min_data_in_leaf': 1, 'min_data_in_bin': 1, 'min_gain_to_split': 3.75, 'learning_rate': 0.11541765525629041, 'random_state': 0, 'feature_fraction': 0.49300879469023157, 'bagging_fraction': 0.5727666145610127, 'bagging_freq': 3, 'lambda_l1': 3.686878049863842e-08, 'lambda_l2': 0.0679424405229777}. Best is trial 134 with value: 1.973227887438453.\u001b[0m\n"
     ]
    },
    {
     "name": "stdout",
     "output_type": "stream",
     "text": [
      "Early stopping, best iteration is:\n",
      "[79]\tvalid_0's rmse: 2.01439\n",
      "valid_score:  RMSE = 2.0143900199980593\n",
      "Training until validation scores don't improve for 500 rounds\n",
      "[100]\tvalid_0's rmse: 2.70514\n",
      "[200]\tvalid_0's rmse: 2.53692\n",
      "[300]\tvalid_0's rmse: 2.44055\n",
      "[400]\tvalid_0's rmse: 2.37121\n",
      "[500]\tvalid_0's rmse: 2.3172\n",
      "[600]\tvalid_0's rmse: 2.27408\n",
      "[700]\tvalid_0's rmse: 2.23803\n",
      "[800]\tvalid_0's rmse: 2.21147\n",
      "[900]\tvalid_0's rmse: 2.19075\n",
      "[1000]\tvalid_0's rmse: 2.17449\n",
      "[1100]\tvalid_0's rmse: 2.15879\n",
      "[1200]\tvalid_0's rmse: 2.14594\n",
      "[1300]\tvalid_0's rmse: 2.13323\n",
      "[1400]\tvalid_0's rmse: 2.12357\n",
      "[1500]\tvalid_0's rmse: 2.11749\n",
      "[1600]\tvalid_0's rmse: 2.10804\n",
      "[1700]\tvalid_0's rmse: 2.10225\n",
      "[1800]\tvalid_0's rmse: 2.09655\n",
      "[1900]\tvalid_0's rmse: 2.09143\n",
      "[2000]\tvalid_0's rmse: 2.08738\n",
      "[2100]\tvalid_0's rmse: 2.08364\n",
      "[2200]\tvalid_0's rmse: 2.08012\n",
      "[2300]\tvalid_0's rmse: 2.0769\n",
      "[2400]\tvalid_0's rmse: 2.07396\n",
      "[2500]\tvalid_0's rmse: 2.07114\n",
      "[2600]\tvalid_0's rmse: 2.06919\n",
      "[2700]\tvalid_0's rmse: 2.06769\n",
      "[2800]\tvalid_0's rmse: 2.06615\n",
      "[2900]\tvalid_0's rmse: 2.06438\n",
      "[3000]\tvalid_0's rmse: 2.06292\n",
      "[3100]\tvalid_0's rmse: 2.06158\n",
      "[3200]\tvalid_0's rmse: 2.06053\n",
      "[3300]\tvalid_0's rmse: 2.05974\n",
      "[3400]\tvalid_0's rmse: 2.05921\n",
      "[3500]\tvalid_0's rmse: 2.05983\n",
      "[3600]\tvalid_0's rmse: 2.05882\n",
      "[3700]\tvalid_0's rmse: 2.05695\n",
      "[3800]\tvalid_0's rmse: 2.05572\n",
      "[3900]\tvalid_0's rmse: 2.05449\n",
      "[4000]\tvalid_0's rmse: 2.05485\n"
     ]
    },
    {
     "name": "stderr",
     "output_type": "stream",
     "text": [
      "\u001b[32m[I 2022-02-23 14:48:52,150]\u001b[0m Trial 180 finished with value: 2.0466084667709956 and parameters: {'n_estimators': 5000, 'num_leaves': 2, 'boosting': 'gbdt', 'max_depth': 4, 'max_bin': 32, 'min_data_in_leaf': 1, 'min_data_in_bin': 1, 'min_gain_to_split': 5.0, 'learning_rate': 0.005464881596325526, 'random_state': 0, 'feature_fraction': 0.8166229038447486, 'bagging_fraction': 0.732927337341126, 'bagging_freq': 3, 'lambda_l1': 1.526319073683496e-08, 'lambda_l2': 2.473841729426634e-06}. Best is trial 134 with value: 1.973227887438453.\u001b[0m\n"
     ]
    },
    {
     "name": "stdout",
     "output_type": "stream",
     "text": [
      "[4100]\tvalid_0's rmse: 2.05414\n",
      "[4200]\tvalid_0's rmse: 2.05336\n",
      "[4300]\tvalid_0's rmse: 2.05323\n",
      "[4400]\tvalid_0's rmse: 2.05115\n",
      "[4500]\tvalid_0's rmse: 2.05013\n",
      "[4600]\tvalid_0's rmse: 2.04911\n",
      "[4700]\tvalid_0's rmse: 2.04879\n",
      "[4800]\tvalid_0's rmse: 2.04807\n",
      "[4900]\tvalid_0's rmse: 2.04783\n",
      "[5000]\tvalid_0's rmse: 2.04661\n",
      "Did not meet early stopping. Best iteration is:\n",
      "[5000]\tvalid_0's rmse: 2.04661\n",
      "valid_score:  RMSE = 2.0466084667709956\n"
     ]
    },
    {
     "name": "stderr",
     "output_type": "stream",
     "text": [
      "\u001b[32m[I 2022-02-23 14:48:52,333]\u001b[0m Trial 181 finished with value: 2.0080280922532707 and parameters: {'n_estimators': 5000, 'num_leaves': 6, 'boosting': 'gbdt', 'max_depth': 3, 'max_bin': 32, 'min_data_in_leaf': 1, 'min_data_in_bin': 1, 'min_gain_to_split': 3.81, 'learning_rate': 0.23701455298706214, 'random_state': 0, 'feature_fraction': 0.4573366227729929, 'bagging_fraction': 0.7897052352750449, 'bagging_freq': 8, 'lambda_l1': 0.445110912786048, 'lambda_l2': 0.3131335411682332}. Best is trial 134 with value: 1.973227887438453.\u001b[0m\n"
     ]
    },
    {
     "name": "stdout",
     "output_type": "stream",
     "text": [
      "Training until validation scores don't improve for 500 rounds\n",
      "[100]\tvalid_0's rmse: 2.01722\n",
      "[200]\tvalid_0's rmse: 2.01722\n",
      "[300]\tvalid_0's rmse: 2.01722\n",
      "[400]\tvalid_0's rmse: 2.01722\n",
      "[500]\tvalid_0's rmse: 2.01722\n",
      "Early stopping, best iteration is:\n",
      "[40]\tvalid_0's rmse: 2.00803\n",
      "valid_score:  RMSE = 2.0080280922532707\n",
      "Training until validation scores don't improve for 500 rounds\n"
     ]
    },
    {
     "name": "stderr",
     "output_type": "stream",
     "text": [
      "\u001b[32m[I 2022-02-23 14:48:52,571]\u001b[0m Trial 182 finished with value: 2.0467716832461984 and parameters: {'n_estimators': 10000, 'num_leaves': 12, 'boosting': 'gbdt', 'max_depth': 14, 'max_bin': 32, 'min_data_in_leaf': 1, 'min_data_in_bin': 1, 'min_gain_to_split': 1.34, 'learning_rate': 0.10606580232896273, 'random_state': 0, 'feature_fraction': 0.5871213896795978, 'bagging_fraction': 0.9219191419449735, 'bagging_freq': 5, 'lambda_l1': 0.36000459478747826, 'lambda_l2': 7.542667289270459e-06}. Best is trial 134 with value: 1.973227887438453.\u001b[0m\n"
     ]
    },
    {
     "name": "stdout",
     "output_type": "stream",
     "text": [
      "[100]\tvalid_0's rmse: 2.05615\n",
      "[200]\tvalid_0's rmse: 2.05931\n",
      "[300]\tvalid_0's rmse: 2.05931\n",
      "[400]\tvalid_0's rmse: 2.05931\n",
      "[500]\tvalid_0's rmse: 2.05931\n",
      "Early stopping, best iteration is:\n",
      "[93]\tvalid_0's rmse: 2.04677\n",
      "valid_score:  RMSE = 2.0467716832461984\n",
      "Training until validation scores don't improve for 500 rounds\n"
     ]
    },
    {
     "name": "stderr",
     "output_type": "stream",
     "text": [
      "\u001b[32m[I 2022-02-23 14:48:52,866]\u001b[0m Trial 183 finished with value: 1.9773082887830438 and parameters: {'n_estimators': 5000, 'num_leaves': 11, 'boosting': 'gbdt', 'max_depth': 13, 'max_bin': 32, 'min_data_in_leaf': 1, 'min_data_in_bin': 1, 'min_gain_to_split': 4.25, 'learning_rate': 0.0597092386440367, 'random_state': 0, 'feature_fraction': 0.42914514609214477, 'bagging_fraction': 0.7402090380793547, 'bagging_freq': 6, 'lambda_l1': 4.750974365946777e-08, 'lambda_l2': 0.010987359641368408}. Best is trial 134 with value: 1.973227887438453.\u001b[0m\n"
     ]
    },
    {
     "name": "stdout",
     "output_type": "stream",
     "text": [
      "[100]\tvalid_0's rmse: 1.99906\n",
      "[200]\tvalid_0's rmse: 1.98435\n",
      "[300]\tvalid_0's rmse: 1.97731\n",
      "[400]\tvalid_0's rmse: 1.97731\n",
      "[500]\tvalid_0's rmse: 1.97731\n",
      "[600]\tvalid_0's rmse: 1.97731\n",
      "[700]\tvalid_0's rmse: 1.97731\n",
      "Early stopping, best iteration is:\n",
      "[230]\tvalid_0's rmse: 1.97701\n",
      "valid_score:  RMSE = 1.9773082887830438\n",
      "Training until validation scores don't improve for 500 rounds\n",
      "[100]\tvalid_0's rmse: 2.02969\n",
      "[200]\tvalid_0's rmse: 2.00523\n",
      "[300]\tvalid_0's rmse: 2.03098\n",
      "[400]\tvalid_0's rmse: 2.04214\n",
      "[500]\tvalid_0's rmse: 2.05879\n"
     ]
    },
    {
     "name": "stderr",
     "output_type": "stream",
     "text": [
      "\u001b[32m[I 2022-02-23 14:48:53,165]\u001b[0m Trial 184 finished with value: 2.0051605573173013 and parameters: {'n_estimators': 10000, 'num_leaves': 10, 'boosting': 'gbdt', 'max_depth': 3, 'max_bin': 32, 'min_data_in_leaf': 1, 'min_data_in_bin': 1, 'min_gain_to_split': 0.62, 'learning_rate': 0.10046820842843064, 'random_state': 0, 'feature_fraction': 0.8416965810442782, 'bagging_fraction': 0.5717185943199058, 'bagging_freq': 5, 'lambda_l1': 4.8022325559641076e-05, 'lambda_l2': 0.00024681334791774965}. Best is trial 134 with value: 1.973227887438453.\u001b[0m\n"
     ]
    },
    {
     "name": "stdout",
     "output_type": "stream",
     "text": [
      "[600]\tvalid_0's rmse: 2.0922\n",
      "[700]\tvalid_0's rmse: 2.11495\n",
      "Early stopping, best iteration is:\n",
      "[203]\tvalid_0's rmse: 2.00516\n",
      "valid_score:  RMSE = 2.0051605573173013\n",
      "Training until validation scores don't improve for 500 rounds\n",
      "[100]\tvalid_0's rmse: 2.08528\n",
      "[200]\tvalid_0's rmse: 2.04474\n",
      "[300]\tvalid_0's rmse: 2.05092\n",
      "[400]\tvalid_0's rmse: 2.05285\n",
      "[500]\tvalid_0's rmse: 2.02531\n",
      "[600]\tvalid_0's rmse: 2.03629\n",
      "[700]\tvalid_0's rmse: 2.036\n",
      "[800]\tvalid_0's rmse: 2.05015\n"
     ]
    },
    {
     "name": "stderr",
     "output_type": "stream",
     "text": [
      "\u001b[32m[I 2022-02-23 14:48:53,363]\u001b[0m Trial 185 finished with value: 2.0225575035510968 and parameters: {'n_estimators': 5000, 'num_leaves': 2, 'boosting': 'gbdt', 'max_depth': 4, 'max_bin': 32, 'min_data_in_leaf': 1, 'min_data_in_bin': 1, 'min_gain_to_split': 3.96, 'learning_rate': 0.10550532504680935, 'random_state': 0, 'feature_fraction': 0.5760364915456597, 'bagging_fraction': 0.5893915928994752, 'bagging_freq': 8, 'lambda_l1': 7.192433193351101e-07, 'lambda_l2': 0.126796033448533}. Best is trial 134 with value: 1.973227887438453.\u001b[0m\n"
     ]
    },
    {
     "name": "stdout",
     "output_type": "stream",
     "text": [
      "[900]\tvalid_0's rmse: 2.05266\n",
      "[1000]\tvalid_0's rmse: 2.05699\n",
      "Early stopping, best iteration is:\n",
      "[525]\tvalid_0's rmse: 2.02256\n",
      "valid_score:  RMSE = 2.0225575035510968\n",
      "Training until validation scores don't improve for 500 rounds\n",
      "[100]\tvalid_0's rmse: 2.02869\n",
      "[200]\tvalid_0's rmse: 2.03726\n",
      "[300]\tvalid_0's rmse: 2.04279\n",
      "[400]\tvalid_0's rmse: 2.05153\n"
     ]
    },
    {
     "name": "stderr",
     "output_type": "stream",
     "text": [
      "\u001b[32m[I 2022-02-23 14:48:53,670]\u001b[0m Trial 186 finished with value: 2.0185810647163724 and parameters: {'n_estimators': 5000, 'num_leaves': 7, 'boosting': 'gbdt', 'max_depth': 3, 'max_bin': 32, 'min_data_in_leaf': 1, 'min_data_in_bin': 1, 'min_gain_to_split': 2.14, 'learning_rate': 0.07690760516360227, 'random_state': 0, 'feature_fraction': 0.43713152447596404, 'bagging_fraction': 0.7497307416656, 'bagging_freq': 2, 'lambda_l1': 6.865057668397157e-08, 'lambda_l2': 2.4588573840884658e-08}. Best is trial 134 with value: 1.973227887438453.\u001b[0m\n"
     ]
    },
    {
     "name": "stdout",
     "output_type": "stream",
     "text": [
      "[500]\tvalid_0's rmse: 2.05478\n",
      "[600]\tvalid_0's rmse: 2.06433\n",
      "Early stopping, best iteration is:\n",
      "[180]\tvalid_0's rmse: 2.01858\n",
      "valid_score:  RMSE = 2.0185810647163724\n",
      "Training until validation scores don't improve for 500 rounds\n",
      "[100]\tvalid_0's rmse: 2.28451\n",
      "[200]\tvalid_0's rmse: 2.38564\n",
      "[300]\tvalid_0's rmse: 2.40017\n",
      "[400]\tvalid_0's rmse: 2.41047\n"
     ]
    },
    {
     "name": "stderr",
     "output_type": "stream",
     "text": [
      "\u001b[32m[I 2022-02-23 14:48:54,238]\u001b[0m Trial 187 finished with value: 2.1047299031257523 and parameters: {'n_estimators': 5000, 'num_leaves': 13, 'boosting': 'gbdt', 'max_depth': 16, 'max_bin': 32, 'min_data_in_leaf': 1, 'min_data_in_bin': 1, 'min_gain_to_split': 0.27, 'learning_rate': 0.2619143050362738, 'random_state': 0, 'feature_fraction': 0.4915991311089072, 'bagging_fraction': 0.47958947252095546, 'bagging_freq': 5, 'lambda_l1': 2.9783950057964017e-06, 'lambda_l2': 0.0002239619984967871}. Best is trial 134 with value: 1.973227887438453.\u001b[0m\n"
     ]
    },
    {
     "name": "stdout",
     "output_type": "stream",
     "text": [
      "[500]\tvalid_0's rmse: 2.43053\n",
      "Early stopping, best iteration is:\n",
      "[31]\tvalid_0's rmse: 2.10473\n",
      "valid_score:  RMSE = 2.1047299031257523\n",
      "Training until validation scores don't improve for 500 rounds\n",
      "[100]\tvalid_0's rmse: 2.11224\n",
      "[200]\tvalid_0's rmse: 2.13897\n"
     ]
    },
    {
     "name": "stderr",
     "output_type": "stream",
     "text": [
      "\u001b[32m[I 2022-02-23 14:48:54,524]\u001b[0m Trial 188 finished with value: 2.0521478079929683 and parameters: {'n_estimators': 5000, 'num_leaves': 15, 'boosting': 'gbdt', 'max_depth': 9, 'max_bin': 32, 'min_data_in_leaf': 1, 'min_data_in_bin': 1, 'min_gain_to_split': 1.1800000000000002, 'learning_rate': 0.10263136578412795, 'random_state': 0, 'feature_fraction': 0.46546699625491283, 'bagging_fraction': 0.6703178366560408, 'bagging_freq': 8, 'lambda_l1': 2.7304601888595155e-07, 'lambda_l2': 1.1243042235978315e-08}. Best is trial 134 with value: 1.973227887438453.\u001b[0m\n"
     ]
    },
    {
     "name": "stdout",
     "output_type": "stream",
     "text": [
      "[300]\tvalid_0's rmse: 2.13015\n",
      "[400]\tvalid_0's rmse: 2.13708\n",
      "[500]\tvalid_0's rmse: 2.13708\n",
      "Early stopping, best iteration is:\n",
      "[34]\tvalid_0's rmse: 2.05215\n",
      "valid_score:  RMSE = 2.0521478079929683\n",
      "Training until validation scores don't improve for 500 rounds\n",
      "[100]\tvalid_0's rmse: 2.12841\n",
      "[200]\tvalid_0's rmse: 2.23305\n"
     ]
    },
    {
     "name": "stderr",
     "output_type": "stream",
     "text": [
      "\u001b[32m[I 2022-02-23 14:48:54,736]\u001b[0m Trial 189 finished with value: 2.0773366713863326 and parameters: {'n_estimators': 10000, 'num_leaves': 7, 'boosting': 'gbdt', 'max_depth': 7, 'max_bin': 32, 'min_data_in_leaf': 1, 'min_data_in_bin': 1, 'min_gain_to_split': 0.5, 'learning_rate': 0.25963273481282156, 'random_state': 0, 'feature_fraction': 0.7451095866812611, 'bagging_fraction': 0.5894873467953379, 'bagging_freq': 1, 'lambda_l1': 0.000256984208617654, 'lambda_l2': 0.000496456111022696}. Best is trial 134 with value: 1.973227887438453.\u001b[0m\n"
     ]
    },
    {
     "name": "stdout",
     "output_type": "stream",
     "text": [
      "[300]\tvalid_0's rmse: 2.24172\n",
      "[400]\tvalid_0's rmse: 2.27675\n",
      "[500]\tvalid_0's rmse: 2.29269\n",
      "Early stopping, best iteration is:\n",
      "[18]\tvalid_0's rmse: 2.07734\n",
      "valid_score:  RMSE = 2.0773366713863326\n",
      "Training until validation scores don't improve for 500 rounds\n",
      "[100]\tvalid_0's rmse: 2.12189\n",
      "[200]\tvalid_0's rmse: 2.06596\n",
      "[300]\tvalid_0's rmse: 2.05182\n",
      "[400]\tvalid_0's rmse: 2.04718\n",
      "[500]\tvalid_0's rmse: 2.03148\n",
      "[600]\tvalid_0's rmse: 2.04095\n",
      "[700]\tvalid_0's rmse: 2.04497\n",
      "[800]\tvalid_0's rmse: 2.04085\n"
     ]
    },
    {
     "name": "stderr",
     "output_type": "stream",
     "text": [
      "\u001b[32m[I 2022-02-23 14:48:54,919]\u001b[0m Trial 190 finished with value: 2.030051410814984 and parameters: {'n_estimators': 5000, 'num_leaves': 2, 'boosting': 'gbdt', 'max_depth': 16, 'max_bin': 32, 'min_data_in_leaf': 1, 'min_data_in_bin': 1, 'min_gain_to_split': 3.6, 'learning_rate': 0.0871101393331879, 'random_state': 0, 'feature_fraction': 0.7989488592447307, 'bagging_fraction': 0.7216511704901862, 'bagging_freq': 8, 'lambda_l1': 0.004152642802106257, 'lambda_l2': 1.2272310696871297e-08}. Best is trial 134 with value: 1.973227887438453.\u001b[0m\n"
     ]
    },
    {
     "name": "stdout",
     "output_type": "stream",
     "text": [
      "[900]\tvalid_0's rmse: 2.04285\n",
      "[1000]\tvalid_0's rmse: 2.04797\n",
      "Early stopping, best iteration is:\n",
      "[528]\tvalid_0's rmse: 2.03005\n",
      "valid_score:  RMSE = 2.030051410814984\n",
      "Training until validation scores don't improve for 500 rounds\n",
      "[100]\tvalid_0's rmse: 2.0598\n",
      "[200]\tvalid_0's rmse: 2.02904\n",
      "[300]\tvalid_0's rmse: 2.02939\n",
      "[400]\tvalid_0's rmse: 2.03632\n",
      "[500]\tvalid_0's rmse: 2.04902\n"
     ]
    },
    {
     "name": "stderr",
     "output_type": "stream",
     "text": [
      "\u001b[32m[I 2022-02-23 14:48:55,181]\u001b[0m Trial 191 finished with value: 2.024133651738937 and parameters: {'n_estimators': 10000, 'num_leaves': 7, 'boosting': 'gbdt', 'max_depth': 6, 'max_bin': 32, 'min_data_in_leaf': 1, 'min_data_in_bin': 1, 'min_gain_to_split': 1.4800000000000002, 'learning_rate': 0.04124212298520638, 'random_state': 0, 'feature_fraction': 0.5890604453125781, 'bagging_fraction': 0.6981575004481329, 'bagging_freq': 7, 'lambda_l1': 1.5765876131961084e-05, 'lambda_l2': 5.5209892193109205e-06}. Best is trial 134 with value: 1.973227887438453.\u001b[0m\n"
     ]
    },
    {
     "name": "stdout",
     "output_type": "stream",
     "text": [
      "[600]\tvalid_0's rmse: 2.05195\n",
      "[700]\tvalid_0's rmse: 2.05138\n",
      "Early stopping, best iteration is:\n",
      "[270]\tvalid_0's rmse: 2.02413\n",
      "valid_score:  RMSE = 2.024133651738937\n",
      "Training until validation scores don't improve for 500 rounds\n",
      "[100]\tvalid_0's rmse: 2.06664\n",
      "[200]\tvalid_0's rmse: 2.02574\n",
      "[300]\tvalid_0's rmse: 2.01237\n",
      "[400]\tvalid_0's rmse: 2.00988\n",
      "[500]\tvalid_0's rmse: 2.00983\n",
      "[600]\tvalid_0's rmse: 2.01573\n"
     ]
    },
    {
     "name": "stderr",
     "output_type": "stream",
     "text": [
      "\u001b[32m[I 2022-02-23 14:48:55,417]\u001b[0m Trial 192 finished with value: 2.0067203675970013 and parameters: {'n_estimators': 5000, 'num_leaves': 3, 'boosting': 'gbdt', 'max_depth': 14, 'max_bin': 32, 'min_data_in_leaf': 1, 'min_data_in_bin': 1, 'min_gain_to_split': 1.4200000000000002, 'learning_rate': 0.07677202225466961, 'random_state': 0, 'feature_fraction': 0.8929703093461889, 'bagging_fraction': 0.7276863461539391, 'bagging_freq': 1, 'lambda_l1': 0.007653268718730057, 'lambda_l2': 2.3964832893539995e-08}. Best is trial 134 with value: 1.973227887438453.\u001b[0m\n"
     ]
    },
    {
     "name": "stdout",
     "output_type": "stream",
     "text": [
      "[700]\tvalid_0's rmse: 2.01269\n",
      "[800]\tvalid_0's rmse: 2.01594\n",
      "[900]\tvalid_0's rmse: 2.02633\n",
      "Early stopping, best iteration is:\n",
      "[431]\tvalid_0's rmse: 2.00672\n",
      "valid_score:  RMSE = 2.0067203675970013\n",
      "Training until validation scores don't improve for 500 rounds\n",
      "[100]\tvalid_0's rmse: 2.08154\n",
      "[200]\tvalid_0's rmse: 2.03212\n",
      "[300]\tvalid_0's rmse: 2.03153\n",
      "[400]\tvalid_0's rmse: 2.03153\n"
     ]
    },
    {
     "name": "stderr",
     "output_type": "stream",
     "text": [
      "\u001b[32m[I 2022-02-23 14:48:55,658]\u001b[0m Trial 193 finished with value: 2.029500225692963 and parameters: {'n_estimators': 5000, 'num_leaves': 8, 'boosting': 'gbdt', 'max_depth': 2, 'max_bin': 32, 'min_data_in_leaf': 1, 'min_data_in_bin': 1, 'min_gain_to_split': 4.66, 'learning_rate': 0.05024122864014764, 'random_state': 0, 'feature_fraction': 0.7560005380651651, 'bagging_fraction': 0.943273308410987, 'bagging_freq': 6, 'lambda_l1': 1.462913899102769e-06, 'lambda_l2': 0.0006679328246636611}. Best is trial 134 with value: 1.973227887438453.\u001b[0m\n"
     ]
    },
    {
     "name": "stdout",
     "output_type": "stream",
     "text": [
      "[500]\tvalid_0's rmse: 2.03153\n",
      "[600]\tvalid_0's rmse: 2.03153\n",
      "[700]\tvalid_0's rmse: 2.03153\n",
      "Early stopping, best iteration is:\n",
      "[240]\tvalid_0's rmse: 2.0295\n",
      "valid_score:  RMSE = 2.029500225692963\n",
      "Training until validation scores don't improve for 500 rounds\n",
      "[100]\tvalid_0's rmse: 2.01288\n",
      "[200]\tvalid_0's rmse: 2.00071\n",
      "[300]\tvalid_0's rmse: 2.00153\n"
     ]
    },
    {
     "name": "stderr",
     "output_type": "stream",
     "text": [
      "\u001b[32m[I 2022-02-23 14:48:55,881]\u001b[0m Trial 194 finished with value: 1.9972632998688782 and parameters: {'n_estimators': 10000, 'num_leaves': 7, 'boosting': 'gbdt', 'max_depth': 7, 'max_bin': 32, 'min_data_in_leaf': 1, 'min_data_in_bin': 1, 'min_gain_to_split': 0.69, 'learning_rate': 0.1821377562935449, 'random_state': 0, 'feature_fraction': 0.4928931432162114, 'bagging_fraction': 0.9626405273748921, 'bagging_freq': 7, 'lambda_l1': 0.019808948463179026, 'lambda_l2': 1.5555240266690535e-07}. Best is trial 134 with value: 1.973227887438453.\u001b[0m\n"
     ]
    },
    {
     "name": "stdout",
     "output_type": "stream",
     "text": [
      "[400]\tvalid_0's rmse: 2.00153\n",
      "[500]\tvalid_0's rmse: 2.00153\n",
      "[600]\tvalid_0's rmse: 2.00153\n",
      "Early stopping, best iteration is:\n",
      "[148]\tvalid_0's rmse: 1.99726\n",
      "valid_score:  RMSE = 1.9972632998688782\n",
      "Training until validation scores don't improve for 500 rounds\n",
      "[100]\tvalid_0's rmse: 2.07169\n"
     ]
    },
    {
     "name": "stderr",
     "output_type": "stream",
     "text": [
      "\u001b[32m[I 2022-02-23 14:48:56,158]\u001b[0m Trial 195 finished with value: 2.0109383023959264 and parameters: {'n_estimators': 10000, 'num_leaves': 6, 'boosting': 'gbdt', 'max_depth': 7, 'max_bin': 32, 'min_data_in_leaf': 1, 'min_data_in_bin': 1, 'min_gain_to_split': 0.8099999999999999, 'learning_rate': 0.1928483730887776, 'random_state': 0, 'feature_fraction': 0.8637824718485654, 'bagging_fraction': 0.5118796827950324, 'bagging_freq': 5, 'lambda_l1': 0.023063442197331904, 'lambda_l2': 0.014349472947442985}. Best is trial 134 with value: 1.973227887438453.\u001b[0m\n"
     ]
    },
    {
     "name": "stdout",
     "output_type": "stream",
     "text": [
      "[200]\tvalid_0's rmse: 2.15194\n",
      "[300]\tvalid_0's rmse: 2.20388\n",
      "[400]\tvalid_0's rmse: 2.22571\n",
      "[500]\tvalid_0's rmse: 2.24645\n",
      "Early stopping, best iteration is:\n",
      "[44]\tvalid_0's rmse: 2.01094\n",
      "valid_score:  RMSE = 2.0109383023959264\n",
      "Training until validation scores don't improve for 500 rounds\n"
     ]
    },
    {
     "name": "stderr",
     "output_type": "stream",
     "text": [
      "\u001b[32m[I 2022-02-23 14:48:56,353]\u001b[0m Trial 196 finished with value: 2.0309090310576647 and parameters: {'n_estimators': 10000, 'num_leaves': 14, 'boosting': 'gbdt', 'max_depth': 6, 'max_bin': 32, 'min_data_in_leaf': 1, 'min_data_in_bin': 1, 'min_gain_to_split': 4.91, 'learning_rate': 0.228000864255829, 'random_state': 0, 'feature_fraction': 0.501931909736531, 'bagging_fraction': 0.7047079601644983, 'bagging_freq': 3, 'lambda_l1': 5.956539800619094e-07, 'lambda_l2': 0.2126977048977427}. Best is trial 134 with value: 1.973227887438453.\u001b[0m\n"
     ]
    },
    {
     "name": "stdout",
     "output_type": "stream",
     "text": [
      "[100]\tvalid_0's rmse: 2.07544\n",
      "[200]\tvalid_0's rmse: 2.07544\n",
      "[300]\tvalid_0's rmse: 2.07544\n",
      "[400]\tvalid_0's rmse: 2.07544\n",
      "[500]\tvalid_0's rmse: 2.07544\n",
      "Early stopping, best iteration is:\n",
      "[16]\tvalid_0's rmse: 2.03091\n",
      "valid_score:  RMSE = 2.0309090310576647\n",
      "Training until validation scores don't improve for 500 rounds\n",
      "[100]\tvalid_0's rmse: 2.00525\n"
     ]
    },
    {
     "name": "stderr",
     "output_type": "stream",
     "text": [
      "\u001b[32m[I 2022-02-23 14:48:56,607]\u001b[0m Trial 197 finished with value: 1.9982756811363418 and parameters: {'n_estimators': 5000, 'num_leaves': 15, 'boosting': 'gbdt', 'max_depth': 9, 'max_bin': 32, 'min_data_in_leaf': 1, 'min_data_in_bin': 1, 'min_gain_to_split': 3.02, 'learning_rate': 0.06239845435819667, 'random_state': 0, 'feature_fraction': 0.8353198156701893, 'bagging_fraction': 0.9193975162803781, 'bagging_freq': 8, 'lambda_l1': 0.00038749728921798956, 'lambda_l2': 2.1035102253753772e-08}. Best is trial 134 with value: 1.973227887438453.\u001b[0m\n"
     ]
    },
    {
     "name": "stdout",
     "output_type": "stream",
     "text": [
      "[200]\tvalid_0's rmse: 1.99828\n",
      "[300]\tvalid_0's rmse: 1.99828\n",
      "[400]\tvalid_0's rmse: 1.99828\n",
      "[500]\tvalid_0's rmse: 1.99828\n",
      "[600]\tvalid_0's rmse: 1.99828\n",
      "Early stopping, best iteration is:\n",
      "[117]\tvalid_0's rmse: 1.99819\n",
      "valid_score:  RMSE = 1.9982756811363418\n",
      "Training until validation scores don't improve for 500 rounds\n"
     ]
    },
    {
     "name": "stderr",
     "output_type": "stream",
     "text": [
      "\u001b[32m[I 2022-02-23 14:48:56,856]\u001b[0m Trial 198 finished with value: 2.070944410614583 and parameters: {'n_estimators': 10000, 'num_leaves': 16, 'boosting': 'gbdt', 'max_depth': 7, 'max_bin': 32, 'min_data_in_leaf': 1, 'min_data_in_bin': 1, 'min_gain_to_split': 1.85, 'learning_rate': 0.17804607964173794, 'random_state': 0, 'feature_fraction': 0.7633427909109276, 'bagging_fraction': 0.8687249124123625, 'bagging_freq': 1, 'lambda_l1': 1.461972665816222e-07, 'lambda_l2': 0.001741539896785146}. Best is trial 134 with value: 1.973227887438453.\u001b[0m\n"
     ]
    },
    {
     "name": "stdout",
     "output_type": "stream",
     "text": [
      "[100]\tvalid_0's rmse: 2.10638\n",
      "[200]\tvalid_0's rmse: 2.10587\n",
      "[300]\tvalid_0's rmse: 2.10587\n",
      "[400]\tvalid_0's rmse: 2.10587\n",
      "[500]\tvalid_0's rmse: 2.10587\n",
      "Early stopping, best iteration is:\n",
      "[20]\tvalid_0's rmse: 2.07094\n",
      "valid_score:  RMSE = 2.070944410614583\n",
      "Training until validation scores don't improve for 500 rounds\n"
     ]
    },
    {
     "name": "stderr",
     "output_type": "stream",
     "text": [
      "\u001b[32m[I 2022-02-23 14:48:57,099]\u001b[0m Trial 199 finished with value: 2.1408181194738223 and parameters: {'n_estimators': 5000, 'num_leaves': 10, 'boosting': 'gbdt', 'max_depth': 8, 'max_bin': 32, 'min_data_in_leaf': 1, 'min_data_in_bin': 1, 'min_gain_to_split': 1.56, 'learning_rate': 0.27533798459686715, 'random_state': 0, 'feature_fraction': 0.6460528459541417, 'bagging_fraction': 0.5443945972477866, 'bagging_freq': 3, 'lambda_l1': 0.00047346853302207646, 'lambda_l2': 2.1410864470111853e-07}. Best is trial 134 with value: 1.973227887438453.\u001b[0m\n"
     ]
    },
    {
     "name": "stdout",
     "output_type": "stream",
     "text": [
      "[100]\tvalid_0's rmse: 2.33496\n",
      "[200]\tvalid_0's rmse: 2.3591\n",
      "[300]\tvalid_0's rmse: 2.38273\n",
      "[400]\tvalid_0's rmse: 2.38273\n",
      "[500]\tvalid_0's rmse: 2.38273\n",
      "Early stopping, best iteration is:\n",
      "[25]\tvalid_0's rmse: 2.14082\n",
      "valid_score:  RMSE = 2.1408181194738223\n",
      "Training until validation scores don't improve for 500 rounds\n",
      "[100]\tvalid_0's rmse: 2.03883\n",
      "[200]\tvalid_0's rmse: 2.0019\n",
      "[300]\tvalid_0's rmse: 1.99839\n",
      "[400]\tvalid_0's rmse: 2.0015\n",
      "[500]\tvalid_0's rmse: 2.0015\n",
      "[600]\tvalid_0's rmse: 2.0015\n"
     ]
    },
    {
     "name": "stderr",
     "output_type": "stream",
     "text": [
      "\u001b[32m[I 2022-02-23 14:48:57,474]\u001b[0m Trial 200 finished with value: 1.994892875375454 and parameters: {'n_estimators': 10000, 'num_leaves': 11, 'boosting': 'gbdt', 'max_depth': 6, 'max_bin': 32, 'min_data_in_leaf': 1, 'min_data_in_bin': 1, 'min_gain_to_split': 2.85, 'learning_rate': 0.03672631056595636, 'random_state': 0, 'feature_fraction': 0.8073203224616621, 'bagging_fraction': 0.6760173525365993, 'bagging_freq': 1, 'lambda_l1': 1.7781349459343835e-07, 'lambda_l2': 0.03880136791762945}. Best is trial 134 with value: 1.973227887438453.\u001b[0m\n"
     ]
    },
    {
     "name": "stdout",
     "output_type": "stream",
     "text": [
      "[700]\tvalid_0's rmse: 2.0015\n",
      "Early stopping, best iteration is:\n",
      "[287]\tvalid_0's rmse: 1.99489\n",
      "valid_score:  RMSE = 1.994892875375454\n",
      "Training until validation scores don't improve for 500 rounds\n",
      "[100]\tvalid_0's rmse: 2.01355\n",
      "[200]\tvalid_0's rmse: 2.01355\n",
      "[300]\tvalid_0's rmse: 2.01355\n",
      "[400]\tvalid_0's rmse: 2.01355\n"
     ]
    },
    {
     "name": "stderr",
     "output_type": "stream",
     "text": [
      "\u001b[32m[I 2022-02-23 14:48:57,674]\u001b[0m Trial 201 finished with value: 2.0082709285242357 and parameters: {'n_estimators': 5000, 'num_leaves': 9, 'boosting': 'gbdt', 'max_depth': 4, 'max_bin': 32, 'min_data_in_leaf': 1, 'min_data_in_bin': 1, 'min_gain_to_split': 3.5100000000000002, 'learning_rate': 0.17459230643743076, 'random_state': 0, 'feature_fraction': 0.901570200000504, 'bagging_fraction': 0.9359215619083736, 'bagging_freq': 6, 'lambda_l1': 4.813935577633135e-07, 'lambda_l2': 0.03371339119311858}. Best is trial 134 with value: 1.973227887438453.\u001b[0m\n"
     ]
    },
    {
     "name": "stdout",
     "output_type": "stream",
     "text": [
      "[500]\tvalid_0's rmse: 2.01355\n",
      "Early stopping, best iteration is:\n",
      "[45]\tvalid_0's rmse: 2.00827\n",
      "valid_score:  RMSE = 2.0082709285242357\n",
      "Training until validation scores don't improve for 500 rounds\n",
      "[100]\tvalid_0's rmse: 2.14884\n",
      "[200]\tvalid_0's rmse: 2.16412\n",
      "[300]\tvalid_0's rmse: 2.16412\n"
     ]
    },
    {
     "name": "stderr",
     "output_type": "stream",
     "text": [
      "\u001b[32m[I 2022-02-23 14:48:57,917]\u001b[0m Trial 202 finished with value: 2.0416863773278133 and parameters: {'n_estimators': 10000, 'num_leaves': 14, 'boosting': 'gbdt', 'max_depth': 5, 'max_bin': 32, 'min_data_in_leaf': 1, 'min_data_in_bin': 1, 'min_gain_to_split': 3.5300000000000002, 'learning_rate': 0.1818820966173278, 'random_state': 0, 'feature_fraction': 0.7795534740814065, 'bagging_fraction': 0.4787164370520619, 'bagging_freq': 3, 'lambda_l1': 9.586832815435103e-05, 'lambda_l2': 1.3242214030123566e-08}. Best is trial 134 with value: 1.973227887438453.\u001b[0m\n"
     ]
    },
    {
     "name": "stdout",
     "output_type": "stream",
     "text": [
      "[400]\tvalid_0's rmse: 2.16412\n",
      "[500]\tvalid_0's rmse: 2.16412\n",
      "Early stopping, best iteration is:\n",
      "[30]\tvalid_0's rmse: 2.04169\n",
      "valid_score:  RMSE = 2.0416863773278133\n",
      "Training until validation scores don't improve for 500 rounds\n",
      "[100]\tvalid_0's rmse: 2.03315\n",
      "[200]\tvalid_0's rmse: 2.03303\n"
     ]
    },
    {
     "name": "stderr",
     "output_type": "stream",
     "text": [
      "\u001b[32m[I 2022-02-23 14:48:58,191]\u001b[0m Trial 203 finished with value: 2.0116263112582065 and parameters: {'n_estimators': 5000, 'num_leaves': 15, 'boosting': 'gbdt', 'max_depth': 8, 'max_bin': 32, 'min_data_in_leaf': 1, 'min_data_in_bin': 1, 'min_gain_to_split': 1.4400000000000002, 'learning_rate': 0.12984732070311295, 'random_state': 0, 'feature_fraction': 0.44174504501835815, 'bagging_fraction': 0.8274879201213536, 'bagging_freq': 1, 'lambda_l1': 9.997245919380958e-06, 'lambda_l2': 0.7594982249432715}. Best is trial 134 with value: 1.973227887438453.\u001b[0m\n"
     ]
    },
    {
     "name": "stdout",
     "output_type": "stream",
     "text": [
      "[300]\tvalid_0's rmse: 2.03303\n",
      "[400]\tvalid_0's rmse: 2.03303\n",
      "[500]\tvalid_0's rmse: 2.03303\n",
      "Early stopping, best iteration is:\n",
      "[55]\tvalid_0's rmse: 2.01163\n",
      "valid_score:  RMSE = 2.0116263112582065\n",
      "Training until validation scores don't improve for 500 rounds\n",
      "[100]\tvalid_0's rmse: 2.11513\n",
      "[200]\tvalid_0's rmse: 2.05554\n",
      "[300]\tvalid_0's rmse: 2.05629\n",
      "[400]\tvalid_0's rmse: 2.06875\n",
      "[500]\tvalid_0's rmse: 2.06072\n",
      "[600]\tvalid_0's rmse: 2.04758\n"
     ]
    },
    {
     "name": "stderr",
     "output_type": "stream",
     "text": [
      "\u001b[32m[I 2022-02-23 14:48:58,441]\u001b[0m Trial 204 finished with value: 2.0424382009688125 and parameters: {'n_estimators': 10000, 'num_leaves': 2, 'boosting': 'gbdt', 'max_depth': 11, 'max_bin': 32, 'min_data_in_leaf': 1, 'min_data_in_bin': 1, 'min_gain_to_split': 1.1300000000000001, 'learning_rate': 0.09316063147672406, 'random_state': 0, 'feature_fraction': 0.8397969398157834, 'bagging_fraction': 0.654115923476731, 'bagging_freq': 7, 'lambda_l1': 6.031108824491903e-07, 'lambda_l2': 1.1470977784399284e-07}. Best is trial 134 with value: 1.973227887438453.\u001b[0m\n"
     ]
    },
    {
     "name": "stdout",
     "output_type": "stream",
     "text": [
      "[700]\tvalid_0's rmse: 2.05419\n",
      "[800]\tvalid_0's rmse: 2.04779\n",
      "[900]\tvalid_0's rmse: 2.04752\n",
      "[1000]\tvalid_0's rmse: 2.0635\n",
      "[1100]\tvalid_0's rmse: 2.06729\n",
      "[1200]\tvalid_0's rmse: 2.0735\n",
      "[1300]\tvalid_0's rmse: 2.05083\n",
      "Early stopping, best iteration is:\n",
      "[840]\tvalid_0's rmse: 2.04244\n",
      "valid_score:  RMSE = 2.0424382009688125\n",
      "Training until validation scores don't improve for 500 rounds\n",
      "[100]\tvalid_0's rmse: 2.54999\n",
      "[200]\tvalid_0's rmse: 2.31055\n",
      "[300]\tvalid_0's rmse: 2.19122\n",
      "[400]\tvalid_0's rmse: 2.11658\n",
      "[500]\tvalid_0's rmse: 2.07947\n",
      "[600]\tvalid_0's rmse: 2.05818\n",
      "[700]\tvalid_0's rmse: 2.04126\n",
      "[800]\tvalid_0's rmse: 2.02983\n",
      "[900]\tvalid_0's rmse: 2.02096\n",
      "[1000]\tvalid_0's rmse: 2.01498\n",
      "[1100]\tvalid_0's rmse: 2.0117\n",
      "[1200]\tvalid_0's rmse: 2.00708\n",
      "[1300]\tvalid_0's rmse: 2.00599\n",
      "[1400]\tvalid_0's rmse: 2.00329\n",
      "[1500]\tvalid_0's rmse: 2.00227\n",
      "[1600]\tvalid_0's rmse: 2.00078\n",
      "[1700]\tvalid_0's rmse: 2.00117\n",
      "[1800]\tvalid_0's rmse: 2.00087\n",
      "[1900]\tvalid_0's rmse: 2.00087\n",
      "[2000]\tvalid_0's rmse: 2.00087\n"
     ]
    },
    {
     "name": "stderr",
     "output_type": "stream",
     "text": [
      "\u001b[32m[I 2022-02-23 14:48:59,545]\u001b[0m Trial 205 finished with value: 2.000868794117016 and parameters: {'n_estimators': 10000, 'num_leaves': 15, 'boosting': 'gbdt', 'max_depth': 14, 'max_bin': 32, 'min_data_in_leaf': 1, 'min_data_in_bin': 1, 'min_gain_to_split': 4.83, 'learning_rate': 0.004669237782113015, 'random_state': 0, 'feature_fraction': 0.7355057574826687, 'bagging_fraction': 0.6379502617146907, 'bagging_freq': 6, 'lambda_l1': 5.684058062061819e-08, 'lambda_l2': 6.509350281613582e-07}. Best is trial 134 with value: 1.973227887438453.\u001b[0m\n"
     ]
    },
    {
     "name": "stdout",
     "output_type": "stream",
     "text": [
      "Early stopping, best iteration is:\n",
      "[1599]\tvalid_0's rmse: 2.00069\n",
      "valid_score:  RMSE = 2.000868794117016\n",
      "Training until validation scores don't improve for 500 rounds\n",
      "[100]\tvalid_0's rmse: 2.06325\n",
      "[200]\tvalid_0's rmse: 2.01594\n",
      "[300]\tvalid_0's rmse: 2.0078\n",
      "[400]\tvalid_0's rmse: 2.00085\n",
      "[500]\tvalid_0's rmse: 1.99596\n",
      "[600]\tvalid_0's rmse: 1.99606\n",
      "[700]\tvalid_0's rmse: 1.99606\n",
      "[800]\tvalid_0's rmse: 1.99606\n",
      "[900]\tvalid_0's rmse: 1.99606\n",
      "Early stopping, best iteration is:\n",
      "[473]\tvalid_0's rmse: 1.99409\n"
     ]
    },
    {
     "name": "stderr",
     "output_type": "stream",
     "text": [
      "\u001b[32m[I 2022-02-23 14:48:59,901]\u001b[0m Trial 206 finished with value: 1.9940878939242963 and parameters: {'n_estimators': 10000, 'num_leaves': 7, 'boosting': 'gbdt', 'max_depth': 9, 'max_bin': 32, 'min_data_in_leaf': 1, 'min_data_in_bin': 1, 'min_gain_to_split': 3.8200000000000003, 'learning_rate': 0.04159863135828391, 'random_state': 0, 'feature_fraction': 0.6610246550920915, 'bagging_fraction': 0.620925931896492, 'bagging_freq': 2, 'lambda_l1': 1.0312717245285419e-05, 'lambda_l2': 1.9558623243304994e-06}. Best is trial 134 with value: 1.973227887438453.\u001b[0m\n"
     ]
    },
    {
     "name": "stdout",
     "output_type": "stream",
     "text": [
      "valid_score:  RMSE = 1.9940878939242963\n",
      "Training until validation scores don't improve for 500 rounds\n",
      "[100]\tvalid_0's rmse: 2.04603\n",
      "[200]\tvalid_0's rmse: 2.02985\n"
     ]
    },
    {
     "name": "stderr",
     "output_type": "stream",
     "text": [
      "\u001b[32m[I 2022-02-23 14:49:00,278]\u001b[0m Trial 207 finished with value: 2.026053122920994 and parameters: {'n_estimators': 10000, 'num_leaves': 12, 'boosting': 'gbdt', 'max_depth': 10, 'max_bin': 32, 'min_data_in_leaf': 1, 'min_data_in_bin': 1, 'min_gain_to_split': 4.64, 'learning_rate': 0.05642649696580068, 'random_state': 0, 'feature_fraction': 0.8391125590590911, 'bagging_fraction': 0.5838342230642034, 'bagging_freq': 1, 'lambda_l1': 0.07872669169924154, 'lambda_l2': 6.274217070140671e-07}. Best is trial 134 with value: 1.973227887438453.\u001b[0m\n"
     ]
    },
    {
     "name": "stdout",
     "output_type": "stream",
     "text": [
      "[300]\tvalid_0's rmse: 2.04099\n",
      "[400]\tvalid_0's rmse: 2.04099\n",
      "[500]\tvalid_0's rmse: 2.04099\n",
      "[600]\tvalid_0's rmse: 2.04099\n",
      "Early stopping, best iteration is:\n",
      "[164]\tvalid_0's rmse: 2.02605\n",
      "valid_score:  RMSE = 2.026053122920994\n",
      "Training until validation scores don't improve for 500 rounds\n",
      "[100]\tvalid_0's rmse: 2.06253\n"
     ]
    },
    {
     "name": "stderr",
     "output_type": "stream",
     "text": [
      "\u001b[32m[I 2022-02-23 14:49:00,461]\u001b[0m Trial 208 finished with value: 2.0341657853815973 and parameters: {'n_estimators': 5000, 'num_leaves': 2, 'boosting': 'gbdt', 'max_depth': 14, 'max_bin': 32, 'min_data_in_leaf': 1, 'min_data_in_bin': 1, 'min_gain_to_split': 2.73, 'learning_rate': 0.28331164165691314, 'random_state': 0, 'feature_fraction': 0.6322521411570154, 'bagging_fraction': 0.564642371462322, 'bagging_freq': 1, 'lambda_l1': 0.11375713894658414, 'lambda_l2': 0.4102111818983076}. Best is trial 134 with value: 1.973227887438453.\u001b[0m\n"
     ]
    },
    {
     "name": "stdout",
     "output_type": "stream",
     "text": [
      "[200]\tvalid_0's rmse: 2.03637\n",
      "[300]\tvalid_0's rmse: 2.0557\n",
      "[400]\tvalid_0's rmse: 2.0635\n",
      "[500]\tvalid_0's rmse: 2.05775\n",
      "[600]\tvalid_0's rmse: 2.05794\n",
      "Early stopping, best iteration is:\n",
      "[198]\tvalid_0's rmse: 2.03417\n",
      "valid_score:  RMSE = 2.0341657853815973\n",
      "Training until validation scores don't improve for 500 rounds\n",
      "[100]\tvalid_0's rmse: 2.03006\n",
      "[200]\tvalid_0's rmse: 2.03261\n"
     ]
    },
    {
     "name": "stderr",
     "output_type": "stream",
     "text": [
      "\u001b[32m[I 2022-02-23 14:49:00,669]\u001b[0m Trial 209 finished with value: 2.0283779634565553 and parameters: {'n_estimators': 5000, 'num_leaves': 7, 'boosting': 'gbdt', 'max_depth': 13, 'max_bin': 32, 'min_data_in_leaf': 1, 'min_data_in_bin': 1, 'min_gain_to_split': 1.7300000000000002, 'learning_rate': 0.13944042306984672, 'random_state': 0, 'feature_fraction': 0.4973161119907553, 'bagging_fraction': 0.9465188200053886, 'bagging_freq': 6, 'lambda_l1': 1.8018664983252038e-08, 'lambda_l2': 0.012241100772818257}. Best is trial 134 with value: 1.973227887438453.\u001b[0m\n"
     ]
    },
    {
     "name": "stdout",
     "output_type": "stream",
     "text": [
      "[300]\tvalid_0's rmse: 2.03261\n",
      "[400]\tvalid_0's rmse: 2.03261\n",
      "[500]\tvalid_0's rmse: 2.03261\n",
      "Early stopping, best iteration is:\n",
      "[92]\tvalid_0's rmse: 2.02838\n",
      "valid_score:  RMSE = 2.0283779634565553\n",
      "Training until validation scores don't improve for 500 rounds\n",
      "[100]\tvalid_0's rmse: 2.071\n"
     ]
    },
    {
     "name": "stderr",
     "output_type": "stream",
     "text": [
      "\u001b[32m[I 2022-02-23 14:49:00,976]\u001b[0m Trial 210 finished with value: 2.030570193188643 and parameters: {'n_estimators': 10000, 'num_leaves': 8, 'boosting': 'gbdt', 'max_depth': 7, 'max_bin': 32, 'min_data_in_leaf': 1, 'min_data_in_bin': 1, 'min_gain_to_split': 4.06, 'learning_rate': 0.0341592299524075, 'random_state': 0, 'feature_fraction': 0.9252781116628821, 'bagging_fraction': 0.9156449669567499, 'bagging_freq': 5, 'lambda_l1': 0.8564331416501435, 'lambda_l2': 0.0004319557283848477}. Best is trial 134 with value: 1.973227887438453.\u001b[0m\n"
     ]
    },
    {
     "name": "stdout",
     "output_type": "stream",
     "text": [
      "[200]\tvalid_0's rmse: 2.04493\n",
      "[300]\tvalid_0's rmse: 2.03081\n",
      "[400]\tvalid_0's rmse: 2.03081\n",
      "[500]\tvalid_0's rmse: 2.03081\n",
      "[600]\tvalid_0's rmse: 2.03081\n",
      "[700]\tvalid_0's rmse: 2.03081\n",
      "Early stopping, best iteration is:\n",
      "[269]\tvalid_0's rmse: 2.03057\n",
      "valid_score:  RMSE = 2.030570193188643\n",
      "Training until validation scores don't improve for 500 rounds\n"
     ]
    },
    {
     "name": "stderr",
     "output_type": "stream",
     "text": [
      "\u001b[32m[I 2022-02-23 14:49:01,337]\u001b[0m Trial 211 finished with value: 2.0476132546154835 and parameters: {'n_estimators': 10000, 'num_leaves': 8, 'boosting': 'gbdt', 'max_depth': 10, 'max_bin': 32, 'min_data_in_leaf': 1, 'min_data_in_bin': 1, 'min_gain_to_split': 4.87, 'learning_rate': 0.09382195220333323, 'random_state': 0, 'feature_fraction': 0.5278541113713405, 'bagging_fraction': 0.7301483098890207, 'bagging_freq': 8, 'lambda_l1': 0.00019391859737999254, 'lambda_l2': 1.313908839339492e-07}. Best is trial 134 with value: 1.973227887438453.\u001b[0m\n"
     ]
    },
    {
     "name": "stdout",
     "output_type": "stream",
     "text": [
      "[100]\tvalid_0's rmse: 2.0593\n",
      "[200]\tvalid_0's rmse: 2.05145\n",
      "[300]\tvalid_0's rmse: 2.05145\n",
      "[400]\tvalid_0's rmse: 2.05145\n",
      "[500]\tvalid_0's rmse: 2.05145\n",
      "[600]\tvalid_0's rmse: 2.05145\n",
      "Early stopping, best iteration is:\n",
      "[121]\tvalid_0's rmse: 2.04755\n",
      "valid_score:  RMSE = 2.0476132546154835\n",
      "Training until validation scores don't improve for 500 rounds\n",
      "[100]\tvalid_0's rmse: 2.05698\n",
      "[200]\tvalid_0's rmse: 2.05873\n",
      "[300]\tvalid_0's rmse: 2.05873\n"
     ]
    },
    {
     "name": "stderr",
     "output_type": "stream",
     "text": [
      "\u001b[32m[I 2022-02-23 14:49:01,954]\u001b[0m Trial 212 finished with value: 2.0505876921706565 and parameters: {'n_estimators': 5000, 'num_leaves': 5, 'boosting': 'gbdt', 'max_depth': 12, 'max_bin': 32, 'min_data_in_leaf': 1, 'min_data_in_bin': 1, 'min_gain_to_split': 3.3000000000000003, 'learning_rate': 0.11266715955609126, 'random_state': 0, 'feature_fraction': 0.8648979539881867, 'bagging_fraction': 0.8911152744862558, 'bagging_freq': 5, 'lambda_l1': 1.12530901939424e-08, 'lambda_l2': 1.3846408838232072e-06}. Best is trial 134 with value: 1.973227887438453.\u001b[0m\n"
     ]
    },
    {
     "name": "stdout",
     "output_type": "stream",
     "text": [
      "[400]\tvalid_0's rmse: 2.05873\n",
      "[500]\tvalid_0's rmse: 2.05873\n",
      "Early stopping, best iteration is:\n",
      "[91]\tvalid_0's rmse: 2.05059\n",
      "valid_score:  RMSE = 2.0505876921706565\n",
      "Training until validation scores don't improve for 500 rounds\n",
      "[100]\tvalid_0's rmse: 2.08617\n",
      "[200]\tvalid_0's rmse: 2.08617\n"
     ]
    },
    {
     "name": "stderr",
     "output_type": "stream",
     "text": [
      "\u001b[32m[I 2022-02-23 14:49:02,182]\u001b[0m Trial 213 finished with value: 2.0370787655752687 and parameters: {'n_estimators': 5000, 'num_leaves': 13, 'boosting': 'gbdt', 'max_depth': 10, 'max_bin': 32, 'min_data_in_leaf': 1, 'min_data_in_bin': 1, 'min_gain_to_split': 1.4100000000000001, 'learning_rate': 0.260730024462857, 'random_state': 0, 'feature_fraction': 0.9997510090018706, 'bagging_fraction': 0.8571131432420391, 'bagging_freq': 3, 'lambda_l1': 0.12044520557773432, 'lambda_l2': 6.584782606780999e-08}. Best is trial 134 with value: 1.973227887438453.\u001b[0m\n"
     ]
    },
    {
     "name": "stdout",
     "output_type": "stream",
     "text": [
      "[300]\tvalid_0's rmse: 2.08617\n",
      "[400]\tvalid_0's rmse: 2.08617\n",
      "[500]\tvalid_0's rmse: 2.08617\n",
      "Early stopping, best iteration is:\n",
      "[28]\tvalid_0's rmse: 2.03708\n",
      "valid_score:  RMSE = 2.0370787655752687\n",
      "Training until validation scores don't improve for 500 rounds\n",
      "[100]\tvalid_0's rmse: 2.09319\n",
      "[200]\tvalid_0's rmse: 2.09963\n",
      "[300]\tvalid_0's rmse: 2.09857\n",
      "[400]\tvalid_0's rmse: 2.09998\n",
      "[500]\tvalid_0's rmse: 2.09998\n"
     ]
    },
    {
     "name": "stderr",
     "output_type": "stream",
     "text": [
      "\u001b[32m[I 2022-02-23 14:49:02,861]\u001b[0m Trial 214 finished with value: 2.0585799544538204 and parameters: {'n_estimators': 5000, 'num_leaves': 15, 'boosting': 'gbdt', 'max_depth': 3, 'max_bin': 32, 'min_data_in_leaf': 1, 'min_data_in_bin': 1, 'min_gain_to_split': 2.92, 'learning_rate': 0.16970894652525328, 'random_state': 0, 'feature_fraction': 0.6664473681431207, 'bagging_fraction': 0.7285108171142941, 'bagging_freq': 1, 'lambda_l1': 1.78603189316538e-06, 'lambda_l2': 4.458405831562631e-06}. Best is trial 134 with value: 1.973227887438453.\u001b[0m\n"
     ]
    },
    {
     "name": "stdout",
     "output_type": "stream",
     "text": [
      "Early stopping, best iteration is:\n",
      "[58]\tvalid_0's rmse: 2.05858\n",
      "valid_score:  RMSE = 2.0585799544538204\n",
      "Training until validation scores don't improve for 500 rounds\n",
      "[100]\tvalid_0's rmse: 2.0535\n",
      "[200]\tvalid_0's rmse: 2.0535\n",
      "[300]\tvalid_0's rmse: 2.0535\n",
      "[400]\tvalid_0's rmse: 2.0535\n"
     ]
    },
    {
     "name": "stderr",
     "output_type": "stream",
     "text": [
      "\u001b[32m[I 2022-02-23 14:49:03,102]\u001b[0m Trial 215 finished with value: 2.0388168481939064 and parameters: {'n_estimators': 5000, 'num_leaves': 14, 'boosting': 'gbdt', 'max_depth': 8, 'max_bin': 32, 'min_data_in_leaf': 1, 'min_data_in_bin': 1, 'min_gain_to_split': 3.75, 'learning_rate': 0.14101318876653837, 'random_state': 0, 'feature_fraction': 0.918954935554434, 'bagging_fraction': 0.7950681310804156, 'bagging_freq': 2, 'lambda_l1': 0.341481799515724, 'lambda_l2': 0.013569000613201201}. Best is trial 134 with value: 1.973227887438453.\u001b[0m\n"
     ]
    },
    {
     "name": "stdout",
     "output_type": "stream",
     "text": [
      "[500]\tvalid_0's rmse: 2.0535\n",
      "Early stopping, best iteration is:\n",
      "[40]\tvalid_0's rmse: 2.03882\n",
      "valid_score:  RMSE = 2.0388168481939064\n",
      "Training until validation scores don't improve for 500 rounds\n",
      "[100]\tvalid_0's rmse: 2.21739\n",
      "[200]\tvalid_0's rmse: 2.28111\n",
      "[300]\tvalid_0's rmse: 2.28281\n"
     ]
    },
    {
     "name": "stderr",
     "output_type": "stream",
     "text": [
      "\u001b[32m[I 2022-02-23 14:49:03,355]\u001b[0m Trial 216 finished with value: 2.0657350962284196 and parameters: {'n_estimators': 10000, 'num_leaves': 16, 'boosting': 'gbdt', 'max_depth': 12, 'max_bin': 32, 'min_data_in_leaf': 1, 'min_data_in_bin': 1, 'min_gain_to_split': 0.37, 'learning_rate': 0.2337736022372465, 'random_state': 0, 'feature_fraction': 0.9609590481337305, 'bagging_fraction': 0.5512543809641383, 'bagging_freq': 4, 'lambda_l1': 0.0007040489670908574, 'lambda_l2': 1.8932703206189726e-08}. Best is trial 134 with value: 1.973227887438453.\u001b[0m\n",
      "\u001b[32m[I 2022-02-23 14:49:03,521]\u001b[0m Trial 217 finished with value: 2.0497732291013526 and parameters: {'n_estimators': 5000, 'num_leaves': 5, 'boosting': 'gbdt', 'max_depth': 15, 'max_bin': 32, 'min_data_in_leaf': 1, 'min_data_in_bin': 1, 'min_gain_to_split': 0.83, 'learning_rate': 0.0845395214469472, 'random_state': 0, 'feature_fraction': 0.7650589622396577, 'bagging_fraction': 0.4276926351570477, 'bagging_freq': 5, 'lambda_l1': 0.39097164840819576, 'lambda_l2': 1.6697613557891365e-06}. Best is trial 134 with value: 1.973227887438453.\u001b[0m\n"
     ]
    },
    {
     "name": "stdout",
     "output_type": "stream",
     "text": [
      "[400]\tvalid_0's rmse: 2.28281\n",
      "[500]\tvalid_0's rmse: 2.28281\n",
      "Early stopping, best iteration is:\n",
      "[27]\tvalid_0's rmse: 2.06574\n",
      "valid_score:  RMSE = 2.0657350962284196\n",
      "Training until validation scores don't improve for 500 rounds\n",
      "[100]\tvalid_0's rmse: 2.05552\n",
      "[200]\tvalid_0's rmse: 2.05944\n",
      "[300]\tvalid_0's rmse: 2.09425\n",
      "[400]\tvalid_0's rmse: 2.10096\n",
      "[500]\tvalid_0's rmse: 2.11741\n",
      "Early stopping, best iteration is:\n",
      "[92]\tvalid_0's rmse: 2.04977\n",
      "valid_score:  RMSE = 2.0497732291013526\n",
      "Training until validation scores don't improve for 500 rounds\n",
      "[100]\tvalid_0's rmse: 2.18416\n",
      "[200]\tvalid_0's rmse: 2.23458\n",
      "[300]\tvalid_0's rmse: 2.25271\n",
      "[400]\tvalid_0's rmse: 2.27668\n"
     ]
    },
    {
     "name": "stderr",
     "output_type": "stream",
     "text": [
      "\u001b[32m[I 2022-02-23 14:49:03,797]\u001b[0m Trial 218 finished with value: 2.100424276253453 and parameters: {'n_estimators': 5000, 'num_leaves': 12, 'boosting': 'gbdt', 'max_depth': 15, 'max_bin': 32, 'min_data_in_leaf': 1, 'min_data_in_bin': 1, 'min_gain_to_split': 0.24000000000000002, 'learning_rate': 0.1546033421565025, 'random_state': 0, 'feature_fraction': 0.9985516678938615, 'bagging_fraction': 0.650177807636267, 'bagging_freq': 2, 'lambda_l1': 0.34368788848007953, 'lambda_l2': 0.008614382341252669}. Best is trial 134 with value: 1.973227887438453.\u001b[0m\n"
     ]
    },
    {
     "name": "stdout",
     "output_type": "stream",
     "text": [
      "[500]\tvalid_0's rmse: 2.28858\n",
      "Early stopping, best iteration is:\n",
      "[23]\tvalid_0's rmse: 2.10042\n",
      "valid_score:  RMSE = 2.100424276253453\n",
      "Training until validation scores don't improve for 500 rounds\n",
      "[100]\tvalid_0's rmse: 2.06839\n",
      "[200]\tvalid_0's rmse: 2.04138\n",
      "[300]\tvalid_0's rmse: 2.05697\n",
      "[400]\tvalid_0's rmse: 2.04002\n",
      "[500]\tvalid_0's rmse: 2.02773\n",
      "[600]\tvalid_0's rmse: 2.0381\n",
      "[700]\tvalid_0's rmse: 2.06137\n"
     ]
    },
    {
     "name": "stderr",
     "output_type": "stream",
     "text": [
      "\u001b[32m[I 2022-02-23 14:49:04,075]\u001b[0m Trial 219 finished with value: 2.0227326646728825 and parameters: {'n_estimators': 5000, 'num_leaves': 5, 'boosting': 'gbdt', 'max_depth': 9, 'max_bin': 32, 'min_data_in_leaf': 1, 'min_data_in_bin': 1, 'min_gain_to_split': 2.04, 'learning_rate': 0.08740765628839549, 'random_state': 0, 'feature_fraction': 0.5262130686207552, 'bagging_fraction': 0.5368852296757518, 'bagging_freq': 6, 'lambda_l1': 0.9509832806014743, 'lambda_l2': 3.39113112279638e-08}. Best is trial 134 with value: 1.973227887438453.\u001b[0m\n"
     ]
    },
    {
     "name": "stdout",
     "output_type": "stream",
     "text": [
      "[800]\tvalid_0's rmse: 2.05964\n",
      "[900]\tvalid_0's rmse: 2.07675\n",
      "Early stopping, best iteration is:\n",
      "[484]\tvalid_0's rmse: 2.02273\n",
      "valid_score:  RMSE = 2.0227326646728825\n",
      "Training until validation scores don't improve for 500 rounds\n",
      "[100]\tvalid_0's rmse: 2.05176\n",
      "[200]\tvalid_0's rmse: 2.04416\n",
      "[300]\tvalid_0's rmse: 2.0303\n"
     ]
    },
    {
     "name": "stderr",
     "output_type": "stream",
     "text": [
      "\u001b[32m[I 2022-02-23 14:49:04,424]\u001b[0m Trial 220 finished with value: 2.0268135876186375 and parameters: {'n_estimators': 5000, 'num_leaves': 4, 'boosting': 'gbdt', 'max_depth': 13, 'max_bin': 32, 'min_data_in_leaf': 1, 'min_data_in_bin': 1, 'min_gain_to_split': 3.3400000000000003, 'learning_rate': 0.14015101934398477, 'random_state': 0, 'feature_fraction': 0.45480958829533463, 'bagging_fraction': 0.7145822285838777, 'bagging_freq': 1, 'lambda_l1': 1.6120566661545955e-05, 'lambda_l2': 0.16677690901378392}. Best is trial 134 with value: 1.973227887438453.\u001b[0m\n"
     ]
    },
    {
     "name": "stdout",
     "output_type": "stream",
     "text": [
      "[400]\tvalid_0's rmse: 2.02434\n",
      "[500]\tvalid_0's rmse: 2.02582\n",
      "[600]\tvalid_0's rmse: 2.02582\n",
      "[700]\tvalid_0's rmse: 2.02582\n",
      "[800]\tvalid_0's rmse: 2.02582\n",
      "Early stopping, best iteration is:\n",
      "[397]\tvalid_0's rmse: 2.02345\n",
      "valid_score:  RMSE = 2.0268135876186375\n",
      "Training until validation scores don't improve for 500 rounds\n",
      "[100]\tvalid_0's rmse: 2.07288\n",
      "[200]\tvalid_0's rmse: 2.0807\n",
      "[300]\tvalid_0's rmse: 2.0807\n",
      "[400]\tvalid_0's rmse: 2.0807\n"
     ]
    },
    {
     "name": "stderr",
     "output_type": "stream",
     "text": [
      "\u001b[32m[I 2022-02-23 14:49:04,727]\u001b[0m Trial 221 finished with value: 2.0240844002915583 and parameters: {'n_estimators': 5000, 'num_leaves': 11, 'boosting': 'gbdt', 'max_depth': 14, 'max_bin': 32, 'min_data_in_leaf': 1, 'min_data_in_bin': 1, 'min_gain_to_split': 2.18, 'learning_rate': 0.17526667002481727, 'random_state': 0, 'feature_fraction': 0.7872066199425302, 'bagging_fraction': 0.735209908640681, 'bagging_freq': 1, 'lambda_l1': 1.4351591723084085e-06, 'lambda_l2': 0.0006915002419750371}. Best is trial 134 with value: 1.973227887438453.\u001b[0m\n"
     ]
    },
    {
     "name": "stdout",
     "output_type": "stream",
     "text": [
      "[500]\tvalid_0's rmse: 2.0807\n",
      "Early stopping, best iteration is:\n",
      "[59]\tvalid_0's rmse: 2.02408\n",
      "valid_score:  RMSE = 2.0240844002915583\n",
      "Training until validation scores don't improve for 500 rounds\n"
     ]
    },
    {
     "name": "stderr",
     "output_type": "stream",
     "text": [
      "\u001b[32m[I 2022-02-23 14:49:05,135]\u001b[0m Trial 222 finished with value: 2.0601936763902224 and parameters: {'n_estimators': 5000, 'num_leaves': 14, 'boosting': 'gbdt', 'max_depth': 11, 'max_bin': 32, 'min_data_in_leaf': 1, 'min_data_in_bin': 1, 'min_gain_to_split': 1.01, 'learning_rate': 0.17461050228314504, 'random_state': 0, 'feature_fraction': 0.8086623787878804, 'bagging_fraction': 0.71034307158735, 'bagging_freq': 3, 'lambda_l1': 0.71361419311134, 'lambda_l2': 2.6906361985388253e-07}. Best is trial 134 with value: 1.973227887438453.\u001b[0m\n"
     ]
    },
    {
     "name": "stdout",
     "output_type": "stream",
     "text": [
      "[100]\tvalid_0's rmse: 2.10673\n",
      "[200]\tvalid_0's rmse: 2.11689\n",
      "[300]\tvalid_0's rmse: 2.113\n",
      "[400]\tvalid_0's rmse: 2.113\n",
      "[500]\tvalid_0's rmse: 2.113\n",
      "Early stopping, best iteration is:\n",
      "[25]\tvalid_0's rmse: 2.06019\n",
      "valid_score:  RMSE = 2.0601936763902224\n",
      "Training until validation scores don't improve for 500 rounds\n",
      "[100]\tvalid_0's rmse: 2.02223\n",
      "[200]\tvalid_0's rmse: 2.01163\n",
      "[300]\tvalid_0's rmse: 2.01163\n",
      "[400]\tvalid_0's rmse: 2.01163\n",
      "[500]\tvalid_0's rmse: 2.01163\n",
      "[600]\tvalid_0's rmse: 2.01163\n",
      "Early stopping, best iteration is:\n",
      "[153]\tvalid_0's rmse: 2.00807\n"
     ]
    },
    {
     "name": "stderr",
     "output_type": "stream",
     "text": [
      "\u001b[32m[I 2022-02-23 14:49:05,443]\u001b[0m Trial 223 finished with value: 2.0080741071552177 and parameters: {'n_estimators': 5000, 'num_leaves': 15, 'boosting': 'gbdt', 'max_depth': 7, 'max_bin': 32, 'min_data_in_leaf': 1, 'min_data_in_bin': 1, 'min_gain_to_split': 4.16, 'learning_rate': 0.04905259682219144, 'random_state': 0, 'feature_fraction': 0.601348963445498, 'bagging_fraction': 0.796294878690341, 'bagging_freq': 1, 'lambda_l1': 0.0003021204563752134, 'lambda_l2': 0.011739971540475555}. Best is trial 134 with value: 1.973227887438453.\u001b[0m\n"
     ]
    },
    {
     "name": "stdout",
     "output_type": "stream",
     "text": [
      "valid_score:  RMSE = 2.0080741071552177\n",
      "Training until validation scores don't improve for 500 rounds\n",
      "[100]\tvalid_0's rmse: 2.06629\n",
      "[200]\tvalid_0's rmse: 2.04401\n",
      "[300]\tvalid_0's rmse: 2.04097\n",
      "[400]\tvalid_0's rmse: 2.0509\n",
      "[500]\tvalid_0's rmse: 2.05589\n",
      "[600]\tvalid_0's rmse: 2.05589\n",
      "[700]\tvalid_0's rmse: 2.05589\n"
     ]
    },
    {
     "name": "stderr",
     "output_type": "stream",
     "text": [
      "\u001b[32m[I 2022-02-23 14:49:05,692]\u001b[0m Trial 224 finished with value: 2.0395835358125796 and parameters: {'n_estimators': 10000, 'num_leaves': 2, 'boosting': 'gbdt', 'max_depth': 10, 'max_bin': 32, 'min_data_in_leaf': 1, 'min_data_in_bin': 1, 'min_gain_to_split': 2.94, 'learning_rate': 0.2055078601395548, 'random_state': 0, 'feature_fraction': 0.9235017558165312, 'bagging_fraction': 0.8821535243013539, 'bagging_freq': 6, 'lambda_l1': 1.974889313890955e-06, 'lambda_l2': 0.34538139626453973}. Best is trial 134 with value: 1.973227887438453.\u001b[0m\n"
     ]
    },
    {
     "name": "stdout",
     "output_type": "stream",
     "text": [
      "[800]\tvalid_0's rmse: 2.05589\n",
      "Early stopping, best iteration is:\n",
      "[378]\tvalid_0's rmse: 2.03958\n",
      "valid_score:  RMSE = 2.0395835358125796\n",
      "Training until validation scores don't improve for 500 rounds\n",
      "[100]\tvalid_0's rmse: 2.02461\n",
      "[200]\tvalid_0's rmse: 2.02461\n",
      "[300]\tvalid_0's rmse: 2.02461\n",
      "[400]\tvalid_0's rmse: 2.02461\n",
      "[500]\tvalid_0's rmse: 2.02461\n"
     ]
    },
    {
     "name": "stderr",
     "output_type": "stream",
     "text": [
      "\u001b[32m[I 2022-02-23 14:49:05,877]\u001b[0m Trial 225 finished with value: 2.023255771366348 and parameters: {'n_estimators': 5000, 'num_leaves': 4, 'boosting': 'gbdt', 'max_depth': 6, 'max_bin': 32, 'min_data_in_leaf': 1, 'min_data_in_bin': 1, 'min_gain_to_split': 4.359999999999999, 'learning_rate': 0.24199884403109195, 'random_state': 0, 'feature_fraction': 0.9085199294468863, 'bagging_fraction': 0.9488694379320757, 'bagging_freq': 3, 'lambda_l1': 0.0009694837272106964, 'lambda_l2': 0.20073673102058165}. Best is trial 134 with value: 1.973227887438453.\u001b[0m\n"
     ]
    },
    {
     "name": "stdout",
     "output_type": "stream",
     "text": [
      "Early stopping, best iteration is:\n",
      "[54]\tvalid_0's rmse: 2.02326\n",
      "valid_score:  RMSE = 2.023255771366348\n",
      "Training until validation scores don't improve for 500 rounds\n",
      "[100]\tvalid_0's rmse: 2.04488\n",
      "[200]\tvalid_0's rmse: 2.02379\n",
      "[300]\tvalid_0's rmse: 2.04178\n",
      "[400]\tvalid_0's rmse: 2.05525\n",
      "[500]\tvalid_0's rmse: 2.0824\n",
      "[600]\tvalid_0's rmse: 2.08329\n"
     ]
    },
    {
     "name": "stderr",
     "output_type": "stream",
     "text": [
      "\u001b[32m[I 2022-02-23 14:49:06,101]\u001b[0m Trial 226 finished with value: 2.0237855048402142 and parameters: {'n_estimators': 10000, 'num_leaves': 3, 'boosting': 'gbdt', 'max_depth': 9, 'max_bin': 32, 'min_data_in_leaf': 1, 'min_data_in_bin': 1, 'min_gain_to_split': 4.16, 'learning_rate': 0.23202237796622205, 'random_state': 0, 'feature_fraction': 0.5865163331770001, 'bagging_fraction': 0.5835373179828277, 'bagging_freq': 1, 'lambda_l1': 0.001507658447173875, 'lambda_l2': 0.01785922891521729}. Best is trial 134 with value: 1.973227887438453.\u001b[0m\n"
     ]
    },
    {
     "name": "stdout",
     "output_type": "stream",
     "text": [
      "[700]\tvalid_0's rmse: 2.07494\n",
      "Early stopping, best iteration is:\n",
      "[200]\tvalid_0's rmse: 2.02379\n",
      "valid_score:  RMSE = 2.0237855048402142\n",
      "Training until validation scores don't improve for 500 rounds\n",
      "[100]\tvalid_0's rmse: 2.08323\n",
      "[200]\tvalid_0's rmse: 2.0304\n",
      "[300]\tvalid_0's rmse: 2.00807\n",
      "[400]\tvalid_0's rmse: 1.99376\n",
      "[500]\tvalid_0's rmse: 1.98884\n",
      "[600]\tvalid_0's rmse: 1.97055\n",
      "[700]\tvalid_0's rmse: 1.98313\n",
      "[800]\tvalid_0's rmse: 1.99842\n",
      "[900]\tvalid_0's rmse: 2.01542\n",
      "[1000]\tvalid_0's rmse: 2.02854\n",
      "[1100]\tvalid_0's rmse: 2.0317\n",
      "Early stopping, best iteration is:\n",
      "[638]\tvalid_0's rmse: 1.96769\n"
     ]
    },
    {
     "name": "stderr",
     "output_type": "stream",
     "text": [
      "\u001b[32m[I 2022-02-23 14:49:06,307]\u001b[0m Trial 227 finished with value: 1.9676895375378611 and parameters: {'n_estimators': 5000, 'num_leaves': 3, 'boosting': 'gbdt', 'max_depth': 11, 'max_bin': 32, 'min_data_in_leaf': 1, 'min_data_in_bin': 1, 'min_gain_to_split': 2.27, 'learning_rate': 0.06717348580914911, 'random_state': 0, 'feature_fraction': 0.9108114097396997, 'bagging_fraction': 0.5441297666364298, 'bagging_freq': 7, 'lambda_l1': 0.002809748229152939, 'lambda_l2': 0.7581576711540502}. Best is trial 227 with value: 1.9676895375378611.\u001b[0m\n"
     ]
    },
    {
     "name": "stdout",
     "output_type": "stream",
     "text": [
      "valid_score:  RMSE = 1.9676895375378611\n",
      "Training until validation scores don't improve for 500 rounds\n",
      "[100]\tvalid_0's rmse: 2.81786\n",
      "[200]\tvalid_0's rmse: 2.68799\n",
      "[300]\tvalid_0's rmse: 2.59277\n",
      "[400]\tvalid_0's rmse: 2.51964\n",
      "[500]\tvalid_0's rmse: 2.46227\n",
      "[600]\tvalid_0's rmse: 2.41922\n",
      "[700]\tvalid_0's rmse: 2.38268\n",
      "[800]\tvalid_0's rmse: 2.35007\n",
      "[900]\tvalid_0's rmse: 2.32081\n",
      "[1000]\tvalid_0's rmse: 2.29636\n",
      "[1100]\tvalid_0's rmse: 2.27294\n",
      "[1200]\tvalid_0's rmse: 2.25018\n",
      "[1300]\tvalid_0's rmse: 2.23412\n",
      "[1400]\tvalid_0's rmse: 2.21995\n",
      "[1500]\tvalid_0's rmse: 2.20831\n",
      "[1600]\tvalid_0's rmse: 2.19662\n",
      "[1700]\tvalid_0's rmse: 2.18561\n",
      "[1800]\tvalid_0's rmse: 2.1758\n",
      "[1900]\tvalid_0's rmse: 2.16715\n",
      "[2000]\tvalid_0's rmse: 2.15917\n",
      "[2100]\tvalid_0's rmse: 2.15081\n",
      "[2200]\tvalid_0's rmse: 2.14436\n",
      "[2300]\tvalid_0's rmse: 2.13763\n",
      "[2400]\tvalid_0's rmse: 2.13154\n",
      "[2500]\tvalid_0's rmse: 2.12607\n",
      "[2600]\tvalid_0's rmse: 2.12173\n",
      "[2700]\tvalid_0's rmse: 2.11735\n",
      "[2800]\tvalid_0's rmse: 2.11323\n",
      "[2900]\tvalid_0's rmse: 2.10943\n",
      "[3000]\tvalid_0's rmse: 2.10608\n",
      "[3100]\tvalid_0's rmse: 2.10274\n",
      "[3200]\tvalid_0's rmse: 2.09988\n",
      "[3300]\tvalid_0's rmse: 2.09713\n",
      "[3400]\tvalid_0's rmse: 2.09356\n",
      "[3500]\tvalid_0's rmse: 2.09055\n",
      "[3600]\tvalid_0's rmse: 2.08842\n",
      "[3700]\tvalid_0's rmse: 2.08605\n",
      "[3800]\tvalid_0's rmse: 2.08388\n",
      "[3900]\tvalid_0's rmse: 2.08223\n",
      "[4000]\tvalid_0's rmse: 2.08067\n",
      "[4100]\tvalid_0's rmse: 2.07938\n",
      "[4200]\tvalid_0's rmse: 2.0774\n",
      "[4300]\tvalid_0's rmse: 2.07577\n",
      "[4400]\tvalid_0's rmse: 2.07391\n",
      "[4500]\tvalid_0's rmse: 2.07272\n",
      "[4600]\tvalid_0's rmse: 2.07072\n",
      "[4700]\tvalid_0's rmse: 2.06966\n",
      "[4800]\tvalid_0's rmse: 2.06937\n",
      "[4900]\tvalid_0's rmse: 2.06881\n",
      "[5000]\tvalid_0's rmse: 2.06771\n",
      "Did not meet early stopping. Best iteration is:\n",
      "[5000]\tvalid_0's rmse: 2.06771\n"
     ]
    },
    {
     "name": "stderr",
     "output_type": "stream",
     "text": [
      "\u001b[32m[I 2022-02-23 14:49:07,201]\u001b[0m Trial 228 finished with value: 2.0677099199788485 and parameters: {'n_estimators': 5000, 'num_leaves': 2, 'boosting': 'gbdt', 'max_depth': 10, 'max_bin': 32, 'min_data_in_leaf': 1, 'min_data_in_bin': 1, 'min_gain_to_split': 4.83, 'learning_rate': 0.002957953042140156, 'random_state': 0, 'feature_fraction': 0.7796263680964742, 'bagging_fraction': 0.6665093382353243, 'bagging_freq': 6, 'lambda_l1': 1.3945961146742436e-07, 'lambda_l2': 0.001938001416390241}. Best is trial 227 with value: 1.9676895375378611.\u001b[0m\n"
     ]
    },
    {
     "name": "stdout",
     "output_type": "stream",
     "text": [
      "valid_score:  RMSE = 2.0677099199788485\n",
      "Training until validation scores don't improve for 500 rounds\n",
      "[100]\tvalid_0's rmse: 2.04595\n",
      "[200]\tvalid_0's rmse: 2.0308\n",
      "[300]\tvalid_0's rmse: 2.03399\n"
     ]
    },
    {
     "name": "stderr",
     "output_type": "stream",
     "text": [
      "\u001b[32m[I 2022-02-23 14:49:07,517]\u001b[0m Trial 229 finished with value: 2.0288477245445797 and parameters: {'n_estimators': 10000, 'num_leaves': 13, 'boosting': 'gbdt', 'max_depth': 12, 'max_bin': 32, 'min_data_in_leaf': 1, 'min_data_in_bin': 1, 'min_gain_to_split': 4.37, 'learning_rate': 0.03585780225710609, 'random_state': 0, 'feature_fraction': 0.4950632564063805, 'bagging_fraction': 0.7769341513611743, 'bagging_freq': 3, 'lambda_l1': 1.2886294936445467e-07, 'lambda_l2': 2.2949151975266003e-05}. Best is trial 227 with value: 1.9676895375378611.\u001b[0m\n"
     ]
    },
    {
     "name": "stdout",
     "output_type": "stream",
     "text": [
      "[400]\tvalid_0's rmse: 2.03197\n",
      "[500]\tvalid_0's rmse: 2.03197\n",
      "[600]\tvalid_0's rmse: 2.03197\n",
      "Early stopping, best iteration is:\n",
      "[180]\tvalid_0's rmse: 2.02885\n",
      "valid_score:  RMSE = 2.0288477245445797\n",
      "Training until validation scores don't improve for 500 rounds\n",
      "[100]\tvalid_0's rmse: 2.06583\n",
      "[200]\tvalid_0's rmse: 2.04055\n",
      "[300]\tvalid_0's rmse: 2.05251\n"
     ]
    },
    {
     "name": "stderr",
     "output_type": "stream",
     "text": [
      "\u001b[32m[I 2022-02-23 14:49:07,730]\u001b[0m Trial 230 finished with value: 2.016457532522295 and parameters: {'n_estimators': 10000, 'num_leaves': 2, 'boosting': 'gbdt', 'max_depth': 6, 'max_bin': 32, 'min_data_in_leaf': 1, 'min_data_in_bin': 1, 'min_gain_to_split': 3.5700000000000003, 'learning_rate': 0.238053158164623, 'random_state': 0, 'feature_fraction': 0.764531100864805, 'bagging_fraction': 0.44679145412654125, 'bagging_freq': 2, 'lambda_l1': 4.5941544163930574e-07, 'lambda_l2': 2.9033161356957234e-08}. Best is trial 227 with value: 1.9676895375378611.\u001b[0m\n"
     ]
    },
    {
     "name": "stdout",
     "output_type": "stream",
     "text": [
      "[400]\tvalid_0's rmse: 2.03574\n",
      "[500]\tvalid_0's rmse: 2.02936\n",
      "[600]\tvalid_0's rmse: 2.05907\n",
      "[700]\tvalid_0's rmse: 2.07563\n",
      "[800]\tvalid_0's rmse: 2.05652\n",
      "[900]\tvalid_0's rmse: 2.06817\n",
      "Early stopping, best iteration is:\n",
      "[474]\tvalid_0's rmse: 2.01646\n",
      "valid_score:  RMSE = 2.016457532522295\n",
      "Training until validation scores don't improve for 500 rounds\n",
      "[100]\tvalid_0's rmse: 2.03413\n"
     ]
    },
    {
     "name": "stderr",
     "output_type": "stream",
     "text": [
      "\u001b[32m[I 2022-02-23 14:49:08,043]\u001b[0m Trial 231 finished with value: 2.007741858466469 and parameters: {'n_estimators': 5000, 'num_leaves': 12, 'boosting': 'gbdt', 'max_depth': 7, 'max_bin': 32, 'min_data_in_leaf': 1, 'min_data_in_bin': 1, 'min_gain_to_split': 1.4700000000000002, 'learning_rate': 0.046656196539606044, 'random_state': 0, 'feature_fraction': 0.5794748519699005, 'bagging_fraction': 0.929297526102999, 'bagging_freq': 8, 'lambda_l1': 0.28663659865799374, 'lambda_l2': 0.19345519353597593}. Best is trial 227 with value: 1.9676895375378611.\u001b[0m\n"
     ]
    },
    {
     "name": "stdout",
     "output_type": "stream",
     "text": [
      "[200]\tvalid_0's rmse: 2.0099\n",
      "[300]\tvalid_0's rmse: 2.01075\n",
      "[400]\tvalid_0's rmse: 2.01147\n",
      "[500]\tvalid_0's rmse: 2.01157\n",
      "[600]\tvalid_0's rmse: 2.01157\n",
      "Early stopping, best iteration is:\n",
      "[182]\tvalid_0's rmse: 2.00774\n",
      "valid_score:  RMSE = 2.007741858466469\n",
      "Training until validation scores don't improve for 500 rounds\n",
      "[100]\tvalid_0's rmse: 2.21134\n",
      "[200]\tvalid_0's rmse: 2.10763\n",
      "[300]\tvalid_0's rmse: 2.06599\n",
      "[400]\tvalid_0's rmse: 2.05402\n",
      "[500]\tvalid_0's rmse: 2.04738\n",
      "[600]\tvalid_0's rmse: 2.03707\n",
      "[700]\tvalid_0's rmse: 2.02724\n",
      "[800]\tvalid_0's rmse: 2.0213\n",
      "[900]\tvalid_0's rmse: 2.0143\n",
      "[1000]\tvalid_0's rmse: 2.01118\n"
     ]
    },
    {
     "name": "stderr",
     "output_type": "stream",
     "text": [
      "\u001b[32m[I 2022-02-23 14:49:08,436]\u001b[0m Trial 232 finished with value: 2.008716417526698 and parameters: {'n_estimators': 5000, 'num_leaves': 3, 'boosting': 'gbdt', 'max_depth': 10, 'max_bin': 32, 'min_data_in_leaf': 1, 'min_data_in_bin': 1, 'min_gain_to_split': 3.94, 'learning_rate': 0.026182239723561145, 'random_state': 0, 'feature_fraction': 0.7491422555584678, 'bagging_fraction': 0.8088521918937297, 'bagging_freq': 8, 'lambda_l1': 1.4301415335373094e-08, 'lambda_l2': 9.865057007248474e-08}. Best is trial 227 with value: 1.9676895375378611.\u001b[0m\n"
     ]
    },
    {
     "name": "stdout",
     "output_type": "stream",
     "text": [
      "[1100]\tvalid_0's rmse: 2.00973\n",
      "[1200]\tvalid_0's rmse: 2.01147\n",
      "[1300]\tvalid_0's rmse: 2.01034\n",
      "[1400]\tvalid_0's rmse: 2.01034\n",
      "[1500]\tvalid_0's rmse: 2.01034\n",
      "Early stopping, best iteration is:\n",
      "[1046]\tvalid_0's rmse: 2.00872\n",
      "valid_score:  RMSE = 2.008716417526698\n",
      "Training until validation scores don't improve for 500 rounds\n"
     ]
    },
    {
     "name": "stderr",
     "output_type": "stream",
     "text": [
      "\u001b[32m[I 2022-02-23 14:49:08,722]\u001b[0m Trial 233 finished with value: 2.0284772713587564 and parameters: {'n_estimators': 10000, 'num_leaves': 14, 'boosting': 'gbdt', 'max_depth': 11, 'max_bin': 32, 'min_data_in_leaf': 1, 'min_data_in_bin': 1, 'min_gain_to_split': 0.36, 'learning_rate': 0.18317790570949563, 'random_state': 0, 'feature_fraction': 0.9900941341857723, 'bagging_fraction': 0.8335612240869644, 'bagging_freq': 4, 'lambda_l1': 0.15663867329625902, 'lambda_l2': 6.458466149310754e-05}. Best is trial 227 with value: 1.9676895375378611.\u001b[0m\n"
     ]
    },
    {
     "name": "stdout",
     "output_type": "stream",
     "text": [
      "[100]\tvalid_0's rmse: 2.08663\n",
      "[200]\tvalid_0's rmse: 2.10932\n",
      "[300]\tvalid_0's rmse: 2.10877\n",
      "[400]\tvalid_0's rmse: 2.10877\n",
      "[500]\tvalid_0's rmse: 2.10877\n",
      "Early stopping, best iteration is:\n",
      "[33]\tvalid_0's rmse: 2.02848\n",
      "valid_score:  RMSE = 2.0284772713587564\n"
     ]
    },
    {
     "name": "stderr",
     "output_type": "stream",
     "text": [
      "\u001b[32m[I 2022-02-23 14:49:08,933]\u001b[0m Trial 234 finished with value: 2.0214951994800603 and parameters: {'n_estimators': 5000, 'num_leaves': 9, 'boosting': 'gbdt', 'max_depth': 4, 'max_bin': 32, 'min_data_in_leaf': 1, 'min_data_in_bin': 1, 'min_gain_to_split': 3.54, 'learning_rate': 0.20489330582091764, 'random_state': 0, 'feature_fraction': 0.9627719503639811, 'bagging_fraction': 0.4945894881441511, 'bagging_freq': 4, 'lambda_l1': 3.675691365221382e-05, 'lambda_l2': 1.649238495754338e-08}. Best is trial 227 with value: 1.9676895375378611.\u001b[0m\n"
     ]
    },
    {
     "name": "stdout",
     "output_type": "stream",
     "text": [
      "Training until validation scores don't improve for 500 rounds\n",
      "[100]\tvalid_0's rmse: 2.12446\n",
      "[200]\tvalid_0's rmse: 2.16269\n",
      "[300]\tvalid_0's rmse: 2.16269\n",
      "[400]\tvalid_0's rmse: 2.16269\n",
      "[500]\tvalid_0's rmse: 2.16269\n",
      "Early stopping, best iteration is:\n",
      "[35]\tvalid_0's rmse: 2.0215\n",
      "valid_score:  RMSE = 2.0214951994800603\n",
      "Training until validation scores don't improve for 500 rounds\n",
      "[100]\tvalid_0's rmse: 2.04479\n",
      "[200]\tvalid_0's rmse: 2.1003\n",
      "[300]\tvalid_0's rmse: 2.11666\n",
      "[400]\tvalid_0's rmse: 2.12673\n",
      "[500]\tvalid_0's rmse: 2.13683\n"
     ]
    },
    {
     "name": "stderr",
     "output_type": "stream",
     "text": [
      "\u001b[32m[I 2022-02-23 14:49:09,178]\u001b[0m Trial 235 finished with value: 2.0153368980465096 and parameters: {'n_estimators': 10000, 'num_leaves': 9, 'boosting': 'gbdt', 'max_depth': 15, 'max_bin': 32, 'min_data_in_leaf': 1, 'min_data_in_bin': 1, 'min_gain_to_split': 0.1, 'learning_rate': 0.14480788051814872, 'random_state': 0, 'feature_fraction': 0.932409466136326, 'bagging_fraction': 0.7916400204392525, 'bagging_freq': 8, 'lambda_l1': 1.54551812096519e-05, 'lambda_l2': 0.00047709806739650387}. Best is trial 227 with value: 1.9676895375378611.\u001b[0m\n"
     ]
    },
    {
     "name": "stdout",
     "output_type": "stream",
     "text": [
      "Early stopping, best iteration is:\n",
      "[58]\tvalid_0's rmse: 2.01534\n",
      "valid_score:  RMSE = 2.0153368980465096\n",
      "Training until validation scores don't improve for 500 rounds\n",
      "[100]\tvalid_0's rmse: 1.99453\n",
      "[200]\tvalid_0's rmse: 1.99223\n",
      "[300]\tvalid_0's rmse: 1.99223\n",
      "[400]\tvalid_0's rmse: 1.99223\n",
      "[500]\tvalid_0's rmse: 1.99223\n"
     ]
    },
    {
     "name": "stderr",
     "output_type": "stream",
     "text": [
      "\u001b[32m[I 2022-02-23 14:49:09,407]\u001b[0m Trial 236 finished with value: 1.9883230054329406 and parameters: {'n_estimators': 10000, 'num_leaves': 9, 'boosting': 'gbdt', 'max_depth': 4, 'max_bin': 32, 'min_data_in_leaf': 1, 'min_data_in_bin': 1, 'min_gain_to_split': 2.05, 'learning_rate': 0.11269560947938492, 'random_state': 0, 'feature_fraction': 0.6897972062055094, 'bagging_fraction': 0.9040571438375817, 'bagging_freq': 6, 'lambda_l1': 0.000248796097352246, 'lambda_l2': 0.06025946709893176}. Best is trial 227 with value: 1.9676895375378611.\u001b[0m\n"
     ]
    },
    {
     "name": "stdout",
     "output_type": "stream",
     "text": [
      "[600]\tvalid_0's rmse: 1.99223\n",
      "Early stopping, best iteration is:\n",
      "[136]\tvalid_0's rmse: 1.98832\n",
      "valid_score:  RMSE = 1.9883230054329406\n",
      "Training until validation scores don't improve for 500 rounds\n",
      "[100]\tvalid_0's rmse: 2.096\n",
      "[200]\tvalid_0's rmse: 2.096\n",
      "[300]\tvalid_0's rmse: 2.096\n",
      "[400]\tvalid_0's rmse: 2.096\n",
      "[500]\tvalid_0's rmse: 2.096\n"
     ]
    },
    {
     "name": "stderr",
     "output_type": "stream",
     "text": [
      "\u001b[32m[I 2022-02-23 14:49:09,609]\u001b[0m Trial 237 finished with value: 2.0436063600616747 and parameters: {'n_estimators': 5000, 'num_leaves': 12, 'boosting': 'gbdt', 'max_depth': 6, 'max_bin': 32, 'min_data_in_leaf': 1, 'min_data_in_bin': 1, 'min_gain_to_split': 4.609999999999999, 'learning_rate': 0.21562116329867953, 'random_state': 0, 'feature_fraction': 0.634986757989328, 'bagging_fraction': 0.42821110754969083, 'bagging_freq': 5, 'lambda_l1': 1.1081619447926687e-05, 'lambda_l2': 1.0952167869396734e-06}. Best is trial 227 with value: 1.9676895375378611.\u001b[0m\n"
     ]
    },
    {
     "name": "stdout",
     "output_type": "stream",
     "text": [
      "Early stopping, best iteration is:\n",
      "[50]\tvalid_0's rmse: 2.04361\n",
      "valid_score:  RMSE = 2.0436063600616747\n",
      "Training until validation scores don't improve for 500 rounds\n",
      "[100]\tvalid_0's rmse: 2.66187\n",
      "[200]\tvalid_0's rmse: 2.45428\n",
      "[300]\tvalid_0's rmse: 2.33106\n",
      "[400]\tvalid_0's rmse: 2.2462\n",
      "[500]\tvalid_0's rmse: 2.18957\n",
      "[600]\tvalid_0's rmse: 2.1488\n",
      "[700]\tvalid_0's rmse: 2.1173\n",
      "[800]\tvalid_0's rmse: 2.0977\n",
      "[900]\tvalid_0's rmse: 2.08119\n",
      "[1000]\tvalid_0's rmse: 2.06995\n",
      "[1100]\tvalid_0's rmse: 2.06037\n",
      "[1200]\tvalid_0's rmse: 2.05566\n",
      "[1300]\tvalid_0's rmse: 2.04927\n",
      "[1400]\tvalid_0's rmse: 2.042\n",
      "[1500]\tvalid_0's rmse: 2.03799\n",
      "[1600]\tvalid_0's rmse: 2.03253\n",
      "[1700]\tvalid_0's rmse: 2.02923\n",
      "[1800]\tvalid_0's rmse: 2.02771\n",
      "[1900]\tvalid_0's rmse: 2.02525\n",
      "[2000]\tvalid_0's rmse: 2.02346\n",
      "[2100]\tvalid_0's rmse: 2.01865\n",
      "[2200]\tvalid_0's rmse: 2.01598\n",
      "[2300]\tvalid_0's rmse: 2.01243\n",
      "[2400]\tvalid_0's rmse: 2.00958\n",
      "[2500]\tvalid_0's rmse: 2.00882\n",
      "[2600]\tvalid_0's rmse: 2.00675\n",
      "[2700]\tvalid_0's rmse: 2.00624\n",
      "[2800]\tvalid_0's rmse: 2.00402\n",
      "[2900]\tvalid_0's rmse: 2.00246\n",
      "[3000]\tvalid_0's rmse: 2.00189\n",
      "[3100]\tvalid_0's rmse: 2.00062\n",
      "[3200]\tvalid_0's rmse: 1.99941\n",
      "[3300]\tvalid_0's rmse: 1.99893\n",
      "[3400]\tvalid_0's rmse: 1.99829\n",
      "[3500]\tvalid_0's rmse: 1.99739\n",
      "[3600]\tvalid_0's rmse: 1.99496\n",
      "[3700]\tvalid_0's rmse: 1.99406\n",
      "[3800]\tvalid_0's rmse: 1.99338\n",
      "[3900]\tvalid_0's rmse: 1.99203\n",
      "[4000]\tvalid_0's rmse: 1.9912\n",
      "[4100]\tvalid_0's rmse: 1.99051\n",
      "[4200]\tvalid_0's rmse: 1.98968\n",
      "[4300]\tvalid_0's rmse: 1.9898\n",
      "[4400]\tvalid_0's rmse: 1.98973\n",
      "[4500]\tvalid_0's rmse: 1.98692\n",
      "[4600]\tvalid_0's rmse: 1.98633\n",
      "[4700]\tvalid_0's rmse: 1.9862\n",
      "[4800]\tvalid_0's rmse: 1.98537\n",
      "[4900]\tvalid_0's rmse: 1.98351\n",
      "[5000]\tvalid_0's rmse: 1.98395\n",
      "[5100]\tvalid_0's rmse: 1.98386\n",
      "[5200]\tvalid_0's rmse: 1.98323\n",
      "[5300]\tvalid_0's rmse: 1.98406\n",
      "[5400]\tvalid_0's rmse: 1.98294\n",
      "[5500]\tvalid_0's rmse: 1.98406\n",
      "[5600]\tvalid_0's rmse: 1.98474\n"
     ]
    },
    {
     "name": "stderr",
     "output_type": "stream",
     "text": [
      "\u001b[32m[I 2022-02-23 14:49:10,891]\u001b[0m Trial 238 finished with value: 1.9828515111825624 and parameters: {'n_estimators': 10000, 'num_leaves': 4, 'boosting': 'gbdt', 'max_depth': 5, 'max_bin': 32, 'min_data_in_leaf': 1, 'min_data_in_bin': 1, 'min_gain_to_split': 0.25, 'learning_rate': 0.004669160010707132, 'random_state': 0, 'feature_fraction': 0.4874181983160651, 'bagging_fraction': 0.6402351759893005, 'bagging_freq': 7, 'lambda_l1': 5.975812607150077e-05, 'lambda_l2': 0.17659527144380144}. Best is trial 227 with value: 1.9676895375378611.\u001b[0m\n"
     ]
    },
    {
     "name": "stdout",
     "output_type": "stream",
     "text": [
      "[5700]\tvalid_0's rmse: 1.98529\n",
      "[5800]\tvalid_0's rmse: 1.98572\n",
      "[5900]\tvalid_0's rmse: 1.98408\n",
      "Early stopping, best iteration is:\n",
      "[5405]\tvalid_0's rmse: 1.98285\n",
      "valid_score:  RMSE = 1.9828515111825624\n",
      "Training until validation scores don't improve for 500 rounds\n",
      "[100]\tvalid_0's rmse: 2.65599\n",
      "[200]\tvalid_0's rmse: 2.43271\n",
      "[300]\tvalid_0's rmse: 2.29192\n",
      "[400]\tvalid_0's rmse: 2.20018\n",
      "[500]\tvalid_0's rmse: 2.14252\n",
      "[600]\tvalid_0's rmse: 2.10559\n",
      "[700]\tvalid_0's rmse: 2.07842\n",
      "[800]\tvalid_0's rmse: 2.06082\n",
      "[900]\tvalid_0's rmse: 2.04954\n",
      "[1000]\tvalid_0's rmse: 2.04026\n",
      "[1100]\tvalid_0's rmse: 2.03252\n",
      "[1200]\tvalid_0's rmse: 2.02607\n",
      "[1300]\tvalid_0's rmse: 2.02217\n",
      "[1400]\tvalid_0's rmse: 2.02071\n",
      "[1500]\tvalid_0's rmse: 2.01782\n",
      "[1600]\tvalid_0's rmse: 2.01485\n",
      "[1700]\tvalid_0's rmse: 2.01281\n",
      "[1800]\tvalid_0's rmse: 2.01146\n",
      "[1900]\tvalid_0's rmse: 2.00936\n",
      "[2000]\tvalid_0's rmse: 2.00876\n",
      "[2100]\tvalid_0's rmse: 2.00815\n",
      "[2200]\tvalid_0's rmse: 2.00596\n",
      "[2300]\tvalid_0's rmse: 2.00339\n",
      "[2400]\tvalid_0's rmse: 2.0017\n",
      "[2500]\tvalid_0's rmse: 2.00083\n",
      "[2600]\tvalid_0's rmse: 2.00048\n",
      "[2700]\tvalid_0's rmse: 2.0003\n",
      "[2800]\tvalid_0's rmse: 1.99941\n",
      "[2900]\tvalid_0's rmse: 1.99872\n",
      "[3000]\tvalid_0's rmse: 1.99798\n",
      "[3100]\tvalid_0's rmse: 1.99782\n",
      "[3200]\tvalid_0's rmse: 1.99731\n",
      "[3300]\tvalid_0's rmse: 1.99712\n",
      "[3400]\tvalid_0's rmse: 1.99688\n",
      "[3500]\tvalid_0's rmse: 1.9963\n",
      "[3600]\tvalid_0's rmse: 1.99578\n",
      "[3700]\tvalid_0's rmse: 1.99534\n",
      "[3800]\tvalid_0's rmse: 1.99494\n",
      "[3900]\tvalid_0's rmse: 1.99458\n",
      "[4000]\tvalid_0's rmse: 1.99477\n",
      "[4100]\tvalid_0's rmse: 1.99468\n",
      "[4200]\tvalid_0's rmse: 1.99478\n",
      "[4300]\tvalid_0's rmse: 1.99478\n",
      "[4400]\tvalid_0's rmse: 1.99478\n",
      "Early stopping, best iteration is:\n",
      "[3912]\tvalid_0's rmse: 1.99406\n"
     ]
    },
    {
     "name": "stderr",
     "output_type": "stream",
     "text": [
      "\u001b[32m[I 2022-02-23 14:49:12,579]\u001b[0m Trial 239 finished with value: 1.9941676497228353 and parameters: {'n_estimators': 5000, 'num_leaves': 8, 'boosting': 'gbdt', 'max_depth': 7, 'max_bin': 32, 'min_data_in_leaf': 1, 'min_data_in_bin': 1, 'min_gain_to_split': 2.23, 'learning_rate': 0.004025660760048166, 'random_state': 0, 'feature_fraction': 0.47992662591829843, 'bagging_fraction': 0.8585495092856681, 'bagging_freq': 8, 'lambda_l1': 0.03264439703119611, 'lambda_l2': 3.5241337570008917e-07}. Best is trial 227 with value: 1.9676895375378611.\u001b[0m\n",
      "\u001b[32m[I 2022-02-23 14:49:12,735]\u001b[0m Trial 240 finished with value: 2.0270248403673627 and parameters: {'n_estimators': 10000, 'num_leaves': 3, 'boosting': 'gbdt', 'max_depth': 6, 'max_bin': 32, 'min_data_in_leaf': 1, 'min_data_in_bin': 1, 'min_gain_to_split': 1.1900000000000002, 'learning_rate': 0.07012615048177949, 'random_state': 0, 'feature_fraction': 0.8508727497502797, 'bagging_fraction': 0.4434050387630888, 'bagging_freq': 7, 'lambda_l1': 5.4733972278787206e-08, 'lambda_l2': 0.03594268139055095}. Best is trial 227 with value: 1.9676895375378611.\u001b[0m\n"
     ]
    },
    {
     "name": "stdout",
     "output_type": "stream",
     "text": [
      "valid_score:  RMSE = 1.9941676497228353\n",
      "Training until validation scores don't improve for 500 rounds\n",
      "[100]\tvalid_0's rmse: 2.06681\n",
      "[200]\tvalid_0's rmse: 2.04241\n",
      "[300]\tvalid_0's rmse: 2.05848\n",
      "[400]\tvalid_0's rmse: 2.0571\n",
      "[500]\tvalid_0's rmse: 2.05427\n",
      "[600]\tvalid_0's rmse: 2.05334\n",
      "[700]\tvalid_0's rmse: 2.06135\n",
      "Early stopping, best iteration is:\n",
      "[258]\tvalid_0's rmse: 2.02702\n",
      "valid_score:  RMSE = 2.0270248403673627\n",
      "Training until validation scores don't improve for 500 rounds\n",
      "[100]\tvalid_0's rmse: 2.04098\n",
      "[200]\tvalid_0's rmse: 2.0103\n",
      "[300]\tvalid_0's rmse: 2.0205\n",
      "[400]\tvalid_0's rmse: 2.01613\n",
      "[500]\tvalid_0's rmse: 2.01613\n",
      "[600]\tvalid_0's rmse: 2.01613\n",
      "[700]\tvalid_0's rmse: 2.01613\n",
      "Early stopping, best iteration is:\n",
      "[200]\tvalid_0's rmse: 2.0103\n"
     ]
    },
    {
     "name": "stderr",
     "output_type": "stream",
     "text": [
      "\u001b[32m[I 2022-02-23 14:49:13,013]\u001b[0m Trial 241 finished with value: 2.0102963483960963 and parameters: {'n_estimators': 5000, 'num_leaves': 3, 'boosting': 'gbdt', 'max_depth': 3, 'max_bin': 32, 'min_data_in_leaf': 1, 'min_data_in_bin': 1, 'min_gain_to_split': 2.62, 'learning_rate': 0.17514444454861028, 'random_state': 0, 'feature_fraction': 0.5031761040145423, 'bagging_fraction': 0.9078536440543542, 'bagging_freq': 2, 'lambda_l1': 0.002616651506865387, 'lambda_l2': 0.286073843368275}. Best is trial 227 with value: 1.9676895375378611.\u001b[0m\n",
      "\u001b[32m[I 2022-02-23 14:49:13,199]\u001b[0m Trial 242 finished with value: 2.011002826342348 and parameters: {'n_estimators': 10000, 'num_leaves': 15, 'boosting': 'gbdt', 'max_depth': 2, 'max_bin': 32, 'min_data_in_leaf': 1, 'min_data_in_bin': 1, 'min_gain_to_split': 0.41000000000000003, 'learning_rate': 0.12393767206118154, 'random_state': 0, 'feature_fraction': 0.87941088377424, 'bagging_fraction': 0.42362754544898573, 'bagging_freq': 2, 'lambda_l1': 8.171315836071394e-06, 'lambda_l2': 0.7339187247662291}. Best is trial 227 with value: 1.9676895375378611.\u001b[0m\n"
     ]
    },
    {
     "name": "stdout",
     "output_type": "stream",
     "text": [
      "valid_score:  RMSE = 2.0102963483960963\n",
      "Training until validation scores don't improve for 500 rounds\n",
      "[100]\tvalid_0's rmse: 2.04751\n",
      "[200]\tvalid_0's rmse: 2.01867\n",
      "[300]\tvalid_0's rmse: 2.05305\n",
      "[400]\tvalid_0's rmse: 2.06309\n",
      "[500]\tvalid_0's rmse: 2.08672\n",
      "[600]\tvalid_0's rmse: 2.093\n",
      "Early stopping, best iteration is:\n",
      "[181]\tvalid_0's rmse: 2.011\n",
      "valid_score:  RMSE = 2.011002826342348\n"
     ]
    },
    {
     "name": "stderr",
     "output_type": "stream",
     "text": [
      "\u001b[32m[I 2022-02-23 14:49:13,429]\u001b[0m Trial 243 finished with value: 2.0365218199408814 and parameters: {'n_estimators': 5000, 'num_leaves': 8, 'boosting': 'gbdt', 'max_depth': 4, 'max_bin': 32, 'min_data_in_leaf': 1, 'min_data_in_bin': 1, 'min_gain_to_split': 4.6899999999999995, 'learning_rate': 0.2975624397097172, 'random_state': 0, 'feature_fraction': 0.5136600417489091, 'bagging_fraction': 0.8165158545580193, 'bagging_freq': 1, 'lambda_l1': 1.1440610157346004e-07, 'lambda_l2': 0.03708549962628437}. Best is trial 227 with value: 1.9676895375378611.\u001b[0m\n"
     ]
    },
    {
     "name": "stdout",
     "output_type": "stream",
     "text": [
      "Training until validation scores don't improve for 500 rounds\n",
      "[100]\tvalid_0's rmse: 2.04521\n",
      "[200]\tvalid_0's rmse: 2.04521\n",
      "[300]\tvalid_0's rmse: 2.04521\n",
      "[400]\tvalid_0's rmse: 2.04521\n",
      "[500]\tvalid_0's rmse: 2.04521\n",
      "Early stopping, best iteration is:\n",
      "[25]\tvalid_0's rmse: 2.03652\n",
      "valid_score:  RMSE = 2.0365218199408814\n",
      "Training until validation scores don't improve for 500 rounds\n",
      "[100]\tvalid_0's rmse: 2.0366\n",
      "[200]\tvalid_0's rmse: 2.0366\n",
      "[300]\tvalid_0's rmse: 2.0366\n",
      "[400]\tvalid_0's rmse: 2.0366\n",
      "[500]\tvalid_0's rmse: 2.0366\n"
     ]
    },
    {
     "name": "stderr",
     "output_type": "stream",
     "text": [
      "\u001b[32m[I 2022-02-23 14:49:13,705]\u001b[0m Trial 244 finished with value: 2.0366046658549837 and parameters: {'n_estimators': 5000, 'num_leaves': 14, 'boosting': 'gbdt', 'max_depth': 12, 'max_bin': 32, 'min_data_in_leaf': 1, 'min_data_in_bin': 1, 'min_gain_to_split': 4.51, 'learning_rate': 0.07983870993655948, 'random_state': 0, 'feature_fraction': 0.7938278548226292, 'bagging_fraction': 0.9997996980059228, 'bagging_freq': 1, 'lambda_l1': 1.0767645039329141e-07, 'lambda_l2': 0.001139992073875123}. Best is trial 227 with value: 1.9676895375378611.\u001b[0m\n"
     ]
    },
    {
     "name": "stdout",
     "output_type": "stream",
     "text": [
      "Early stopping, best iteration is:\n",
      "[74]\tvalid_0's rmse: 2.0366\n",
      "valid_score:  RMSE = 2.0366046658549837\n",
      "Training until validation scores don't improve for 500 rounds\n",
      "[100]\tvalid_0's rmse: 2.09102\n",
      "[200]\tvalid_0's rmse: 2.12629\n",
      "[300]\tvalid_0's rmse: 2.16051\n"
     ]
    },
    {
     "name": "stderr",
     "output_type": "stream",
     "text": [
      "\u001b[32m[I 2022-02-23 14:49:13,988]\u001b[0m Trial 245 finished with value: 2.0030789753702627 and parameters: {'n_estimators': 5000, 'num_leaves': 14, 'boosting': 'gbdt', 'max_depth': 6, 'max_bin': 32, 'min_data_in_leaf': 1, 'min_data_in_bin': 1, 'min_gain_to_split': 0.26, 'learning_rate': 0.12516570989950074, 'random_state': 0, 'feature_fraction': 0.7766489512050907, 'bagging_fraction': 0.5618186974081801, 'bagging_freq': 4, 'lambda_l1': 3.945408551966624e-05, 'lambda_l2': 0.7712345599771291}. Best is trial 227 with value: 1.9676895375378611.\u001b[0m\n"
     ]
    },
    {
     "name": "stdout",
     "output_type": "stream",
     "text": [
      "[400]\tvalid_0's rmse: 2.18113\n",
      "[500]\tvalid_0's rmse: 2.19185\n",
      "Early stopping, best iteration is:\n",
      "[31]\tvalid_0's rmse: 2.00308\n",
      "valid_score:  RMSE = 2.0030789753702627\n",
      "Training until validation scores don't improve for 500 rounds\n",
      "[100]\tvalid_0's rmse: 2.05519\n",
      "[200]\tvalid_0's rmse: 2.08769\n"
     ]
    },
    {
     "name": "stderr",
     "output_type": "stream",
     "text": [
      "\u001b[32m[I 2022-02-23 14:49:14,208]\u001b[0m Trial 246 finished with value: 2.030297524883168 and parameters: {'n_estimators': 10000, 'num_leaves': 7, 'boosting': 'gbdt', 'max_depth': 9, 'max_bin': 32, 'min_data_in_leaf': 1, 'min_data_in_bin': 1, 'min_gain_to_split': 1.3800000000000001, 'learning_rate': 0.14956546695119302, 'random_state': 0, 'feature_fraction': 0.674493487748242, 'bagging_fraction': 0.7290402579216708, 'bagging_freq': 5, 'lambda_l1': 6.67260225659804e-08, 'lambda_l2': 4.262986670911412e-08}. Best is trial 227 with value: 1.9676895375378611.\u001b[0m\n"
     ]
    },
    {
     "name": "stdout",
     "output_type": "stream",
     "text": [
      "[300]\tvalid_0's rmse: 2.11768\n",
      "[400]\tvalid_0's rmse: 2.11768\n",
      "[500]\tvalid_0's rmse: 2.11768\n",
      "Early stopping, best iteration is:\n",
      "[49]\tvalid_0's rmse: 2.0303\n",
      "valid_score:  RMSE = 2.030297524883168\n",
      "Training until validation scores don't improve for 500 rounds\n",
      "[100]\tvalid_0's rmse: 2.05337\n",
      "[200]\tvalid_0's rmse: 2.03185\n",
      "[300]\tvalid_0's rmse: 2.05065\n",
      "[400]\tvalid_0's rmse: 2.05954\n",
      "[500]\tvalid_0's rmse: 2.06398\n",
      "[600]\tvalid_0's rmse: 2.05508\n",
      "[700]\tvalid_0's rmse: 2.06911\n",
      "Early stopping, best iteration is:\n",
      "[200]\tvalid_0's rmse: 2.03185\n"
     ]
    },
    {
     "name": "stderr",
     "output_type": "stream",
     "text": [
      "\u001b[32m[I 2022-02-23 14:49:14,332]\u001b[0m Trial 247 finished with value: 2.031846873037653 and parameters: {'n_estimators': 5000, 'num_leaves': 2, 'boosting': 'gbdt', 'max_depth': 8, 'max_bin': 32, 'min_data_in_leaf': 1, 'min_data_in_bin': 1, 'min_gain_to_split': 2.1, 'learning_rate': 0.23803485008977465, 'random_state': 0, 'feature_fraction': 0.6903933909659195, 'bagging_fraction': 0.4641024125255387, 'bagging_freq': 7, 'lambda_l1': 7.500741794980338e-05, 'lambda_l2': 6.767723131612251e-06}. Best is trial 227 with value: 1.9676895375378611.\u001b[0m\n"
     ]
    },
    {
     "name": "stdout",
     "output_type": "stream",
     "text": [
      "valid_score:  RMSE = 2.031846873037653\n",
      "Training until validation scores don't improve for 500 rounds\n",
      "[100]\tvalid_0's rmse: 2.01881\n",
      "[200]\tvalid_0's rmse: 2.01449\n",
      "[300]\tvalid_0's rmse: 2.02949\n",
      "[400]\tvalid_0's rmse: 2.03842\n"
     ]
    },
    {
     "name": "stderr",
     "output_type": "stream",
     "text": [
      "\u001b[32m[I 2022-02-23 14:49:14,629]\u001b[0m Trial 248 finished with value: 2.012266499719727 and parameters: {'n_estimators': 5000, 'num_leaves': 12, 'boosting': 'gbdt', 'max_depth': 3, 'max_bin': 32, 'min_data_in_leaf': 1, 'min_data_in_bin': 1, 'min_gain_to_split': 4.43, 'learning_rate': 0.07936110374822111, 'random_state': 0, 'feature_fraction': 0.5797078959042955, 'bagging_fraction': 0.5327023417689449, 'bagging_freq': 7, 'lambda_l1': 1.7027042633174523e-08, 'lambda_l2': 9.391951873241037e-08}. Best is trial 227 with value: 1.9676895375378611.\u001b[0m\n"
     ]
    },
    {
     "name": "stdout",
     "output_type": "stream",
     "text": [
      "[500]\tvalid_0's rmse: 2.03933\n",
      "[600]\tvalid_0's rmse: 2.04\n",
      "Early stopping, best iteration is:\n",
      "[176]\tvalid_0's rmse: 2.01227\n",
      "valid_score:  RMSE = 2.012266499719727\n",
      "Training until validation scores don't improve for 500 rounds\n",
      "[100]\tvalid_0's rmse: 2.05472\n",
      "[200]\tvalid_0's rmse: 2.05429\n"
     ]
    },
    {
     "name": "stderr",
     "output_type": "stream",
     "text": [
      "\u001b[32m[I 2022-02-23 14:49:14,856]\u001b[0m Trial 249 finished with value: 2.0296725631521877 and parameters: {'n_estimators': 5000, 'num_leaves': 12, 'boosting': 'gbdt', 'max_depth': 16, 'max_bin': 32, 'min_data_in_leaf': 1, 'min_data_in_bin': 1, 'min_gain_to_split': 4.319999999999999, 'learning_rate': 0.1059121108272336, 'random_state': 0, 'feature_fraction': 0.8080516191792515, 'bagging_fraction': 0.5925315167284418, 'bagging_freq': 3, 'lambda_l1': 0.0018546239332371318, 'lambda_l2': 3.562345566688556e-05}. Best is trial 227 with value: 1.9676895375378611.\u001b[0m\n"
     ]
    },
    {
     "name": "stdout",
     "output_type": "stream",
     "text": [
      "[300]\tvalid_0's rmse: 2.05429\n",
      "[400]\tvalid_0's rmse: 2.05429\n",
      "[500]\tvalid_0's rmse: 2.05429\n",
      "Early stopping, best iteration is:\n",
      "[44]\tvalid_0's rmse: 2.02967\n",
      "valid_score:  RMSE = 2.0296725631521877\n",
      "Training until validation scores don't improve for 500 rounds\n",
      "[100]\tvalid_0's rmse: 2.15149\n",
      "[200]\tvalid_0's rmse: 2.17008\n"
     ]
    },
    {
     "name": "stderr",
     "output_type": "stream",
     "text": [
      "\u001b[32m[I 2022-02-23 14:49:15,073]\u001b[0m Trial 250 finished with value: 2.1067171037409214 and parameters: {'n_estimators': 5000, 'num_leaves': 8, 'boosting': 'gbdt', 'max_depth': 11, 'max_bin': 32, 'min_data_in_leaf': 1, 'min_data_in_bin': 1, 'min_gain_to_split': 3.54, 'learning_rate': 0.21716662293455746, 'random_state': 0, 'feature_fraction': 0.5784380101824633, 'bagging_fraction': 0.4313494649234828, 'bagging_freq': 3, 'lambda_l1': 0.002552638053061153, 'lambda_l2': 0.0016331041193158766}. Best is trial 227 with value: 1.9676895375378611.\u001b[0m\n"
     ]
    },
    {
     "name": "stdout",
     "output_type": "stream",
     "text": [
      "[300]\tvalid_0's rmse: 2.1799\n",
      "[400]\tvalid_0's rmse: 2.1799\n",
      "[500]\tvalid_0's rmse: 2.1799\n",
      "Early stopping, best iteration is:\n",
      "[54]\tvalid_0's rmse: 2.10672\n",
      "valid_score:  RMSE = 2.1067171037409214\n",
      "Training until validation scores don't improve for 500 rounds\n",
      "[100]\tvalid_0's rmse: 2.04671\n",
      "[200]\tvalid_0's rmse: 2.04671\n"
     ]
    },
    {
     "name": "stderr",
     "output_type": "stream",
     "text": [
      "\u001b[32m[I 2022-02-23 14:49:15,289]\u001b[0m Trial 251 finished with value: 2.046708715145608 and parameters: {'n_estimators': 5000, 'num_leaves': 14, 'boosting': 'gbdt', 'max_depth': 11, 'max_bin': 32, 'min_data_in_leaf': 1, 'min_data_in_bin': 1, 'min_gain_to_split': 3.98, 'learning_rate': 0.26300630051021534, 'random_state': 0, 'feature_fraction': 0.5657835405431472, 'bagging_fraction': 0.867095038044025, 'bagging_freq': 7, 'lambda_l1': 2.925419035669027e-07, 'lambda_l2': 0.3182073652234261}. Best is trial 227 with value: 1.9676895375378611.\u001b[0m\n"
     ]
    },
    {
     "name": "stdout",
     "output_type": "stream",
     "text": [
      "[300]\tvalid_0's rmse: 2.04671\n",
      "[400]\tvalid_0's rmse: 2.04671\n",
      "[500]\tvalid_0's rmse: 2.04671\n",
      "Early stopping, best iteration is:\n",
      "[39]\tvalid_0's rmse: 2.04554\n",
      "valid_score:  RMSE = 2.046708715145608\n",
      "Training until validation scores don't improve for 500 rounds\n",
      "[100]\tvalid_0's rmse: 2.44363\n",
      "[200]\tvalid_0's rmse: 2.2813\n",
      "[300]\tvalid_0's rmse: 2.19848\n",
      "[400]\tvalid_0's rmse: 2.15671\n",
      "[500]\tvalid_0's rmse: 2.12433\n",
      "[600]\tvalid_0's rmse: 2.10279\n",
      "[700]\tvalid_0's rmse: 2.08882\n",
      "[800]\tvalid_0's rmse: 2.07903\n",
      "[900]\tvalid_0's rmse: 2.06996\n",
      "[1000]\tvalid_0's rmse: 2.06234\n",
      "[1100]\tvalid_0's rmse: 2.05683\n",
      "[1200]\tvalid_0's rmse: 2.05362\n",
      "[1300]\tvalid_0's rmse: 2.05357\n",
      "[1400]\tvalid_0's rmse: 2.05191\n",
      "[1500]\tvalid_0's rmse: 2.05087\n",
      "[1600]\tvalid_0's rmse: 2.04843\n",
      "[1700]\tvalid_0's rmse: 2.04651\n",
      "[1800]\tvalid_0's rmse: 2.04582\n",
      "[1900]\tvalid_0's rmse: 2.04704\n",
      "[2000]\tvalid_0's rmse: 2.04686\n",
      "[2100]\tvalid_0's rmse: 2.04555\n",
      "[2200]\tvalid_0's rmse: 2.04385\n",
      "[2300]\tvalid_0's rmse: 2.0437\n"
     ]
    },
    {
     "name": "stderr",
     "output_type": "stream",
     "text": [
      "\u001b[32m[I 2022-02-23 14:49:15,756]\u001b[0m Trial 252 finished with value: 2.041370590701198 and parameters: {'n_estimators': 10000, 'num_leaves': 2, 'boosting': 'gbdt', 'max_depth': 3, 'max_bin': 32, 'min_data_in_leaf': 1, 'min_data_in_bin': 1, 'min_gain_to_split': 0.84, 'learning_rate': 0.01649303535635601, 'random_state': 0, 'feature_fraction': 0.5876600565511246, 'bagging_fraction': 0.8815664549604979, 'bagging_freq': 6, 'lambda_l1': 2.9999732672974203e-05, 'lambda_l2': 9.235737179744569e-08}. Best is trial 227 with value: 1.9676895375378611.\u001b[0m\n"
     ]
    },
    {
     "name": "stdout",
     "output_type": "stream",
     "text": [
      "[2400]\tvalid_0's rmse: 2.04149\n",
      "[2500]\tvalid_0's rmse: 2.04172\n",
      "[2600]\tvalid_0's rmse: 2.04185\n",
      "[2700]\tvalid_0's rmse: 2.04295\n",
      "[2800]\tvalid_0's rmse: 2.04266\n",
      "[2900]\tvalid_0's rmse: 2.04267\n",
      "Early stopping, best iteration is:\n",
      "[2496]\tvalid_0's rmse: 2.04137\n",
      "valid_score:  RMSE = 2.041370590701198\n",
      "Training until validation scores don't improve for 500 rounds\n",
      "[100]\tvalid_0's rmse: 2.06442\n",
      "[200]\tvalid_0's rmse: 2.06474\n"
     ]
    },
    {
     "name": "stderr",
     "output_type": "stream",
     "text": [
      "\u001b[32m[I 2022-02-23 14:49:16,000]\u001b[0m Trial 253 finished with value: 2.0458953249459637 and parameters: {'n_estimators': 5000, 'num_leaves': 5, 'boosting': 'gbdt', 'max_depth': 13, 'max_bin': 32, 'min_data_in_leaf': 1, 'min_data_in_bin': 1, 'min_gain_to_split': 1.6600000000000001, 'learning_rate': 0.2224422659162387, 'random_state': 0, 'feature_fraction': 0.48262590420141505, 'bagging_fraction': 0.8289144181062531, 'bagging_freq': 7, 'lambda_l1': 3.6633438123460213e-05, 'lambda_l2': 8.917302800035274e-07}. Best is trial 227 with value: 1.9676895375378611.\u001b[0m\n"
     ]
    },
    {
     "name": "stdout",
     "output_type": "stream",
     "text": [
      "[300]\tvalid_0's rmse: 2.0637\n",
      "[400]\tvalid_0's rmse: 2.0637\n",
      "[500]\tvalid_0's rmse: 2.0637\n",
      "Early stopping, best iteration is:\n",
      "[66]\tvalid_0's rmse: 2.0459\n",
      "valid_score:  RMSE = 2.0458953249459637\n",
      "Training until validation scores don't improve for 500 rounds\n",
      "[100]\tvalid_0's rmse: 2.08401\n",
      "[200]\tvalid_0's rmse: 2.07729\n"
     ]
    },
    {
     "name": "stderr",
     "output_type": "stream",
     "text": [
      "\u001b[32m[I 2022-02-23 14:49:16,233]\u001b[0m Trial 254 finished with value: 2.0530741880285106 and parameters: {'n_estimators': 5000, 'num_leaves': 8, 'boosting': 'gbdt', 'max_depth': 7, 'max_bin': 32, 'min_data_in_leaf': 1, 'min_data_in_bin': 1, 'min_gain_to_split': 1.6700000000000002, 'learning_rate': 0.2342529599199719, 'random_state': 0, 'feature_fraction': 0.5151228718335528, 'bagging_fraction': 0.9358673760844999, 'bagging_freq': 1, 'lambda_l1': 5.897962589345428e-07, 'lambda_l2': 2.2541579649202178e-07}. Best is trial 227 with value: 1.9676895375378611.\u001b[0m\n"
     ]
    },
    {
     "name": "stdout",
     "output_type": "stream",
     "text": [
      "[300]\tvalid_0's rmse: 2.07729\n",
      "[400]\tvalid_0's rmse: 2.07729\n",
      "[500]\tvalid_0's rmse: 2.07729\n",
      "Early stopping, best iteration is:\n",
      "[26]\tvalid_0's rmse: 2.05307\n",
      "valid_score:  RMSE = 2.0530741880285106\n",
      "Training until validation scores don't improve for 500 rounds\n",
      "[100]\tvalid_0's rmse: 2.27086\n",
      "[200]\tvalid_0's rmse: 2.1141\n",
      "[300]\tvalid_0's rmse: 2.0688\n",
      "[400]\tvalid_0's rmse: 2.04811\n",
      "[500]\tvalid_0's rmse: 2.0351\n",
      "[600]\tvalid_0's rmse: 2.02831\n",
      "[700]\tvalid_0's rmse: 2.02117\n",
      "[800]\tvalid_0's rmse: 2.0216\n",
      "[900]\tvalid_0's rmse: 2.01917\n",
      "[1000]\tvalid_0's rmse: 2.01478\n",
      "[1100]\tvalid_0's rmse: 2.01036\n",
      "[1200]\tvalid_0's rmse: 2.00788\n",
      "[1300]\tvalid_0's rmse: 2.00779\n",
      "[1400]\tvalid_0's rmse: 2.00769\n",
      "[1500]\tvalid_0's rmse: 2.00845\n",
      "[1600]\tvalid_0's rmse: 2.00748\n",
      "[1700]\tvalid_0's rmse: 2.0091\n",
      "[1800]\tvalid_0's rmse: 2.01133\n",
      "[1900]\tvalid_0's rmse: 2.0117\n",
      "Early stopping, best iteration is:\n",
      "[1446]\tvalid_0's rmse: 2.00568\n"
     ]
    },
    {
     "name": "stderr",
     "output_type": "stream",
     "text": [
      "\u001b[32m[I 2022-02-23 14:49:16,771]\u001b[0m Trial 255 finished with value: 2.0056827789218197 and parameters: {'n_estimators': 10000, 'num_leaves': 5, 'boosting': 'gbdt', 'max_depth': 3, 'max_bin': 32, 'min_data_in_leaf': 1, 'min_data_in_bin': 1, 'min_gain_to_split': 1.52, 'learning_rate': 0.0148381095477844, 'random_state': 0, 'feature_fraction': 0.5898694049228224, 'bagging_fraction': 0.8358685582198322, 'bagging_freq': 2, 'lambda_l1': 0.00015214920882365487, 'lambda_l2': 0.0005543967178802955}. Best is trial 227 with value: 1.9676895375378611.\u001b[0m\n"
     ]
    },
    {
     "name": "stdout",
     "output_type": "stream",
     "text": [
      "valid_score:  RMSE = 2.0056827789218197\n",
      "Training until validation scores don't improve for 500 rounds\n",
      "[100]\tvalid_0's rmse: 2.04637\n",
      "[200]\tvalid_0's rmse: 2.0463\n",
      "[300]\tvalid_0's rmse: 2.0463\n",
      "[400]\tvalid_0's rmse: 2.0463\n"
     ]
    },
    {
     "name": "stderr",
     "output_type": "stream",
     "text": [
      "\u001b[32m[I 2022-02-23 14:49:17,005]\u001b[0m Trial 256 finished with value: 2.0344533068951502 and parameters: {'n_estimators': 5000, 'num_leaves': 15, 'boosting': 'gbdt', 'max_depth': 6, 'max_bin': 32, 'min_data_in_leaf': 1, 'min_data_in_bin': 1, 'min_gain_to_split': 2.72, 'learning_rate': 0.09611586011516499, 'random_state': 0, 'feature_fraction': 0.67486871450808, 'bagging_fraction': 0.8762438703626572, 'bagging_freq': 7, 'lambda_l1': 0.014801547832515902, 'lambda_l2': 4.605467170064005e-05}. Best is trial 227 with value: 1.9676895375378611.\u001b[0m\n"
     ]
    },
    {
     "name": "stdout",
     "output_type": "stream",
     "text": [
      "[500]\tvalid_0's rmse: 2.0463\n",
      "Early stopping, best iteration is:\n",
      "[82]\tvalid_0's rmse: 2.03445\n",
      "valid_score:  RMSE = 2.0344533068951502\n",
      "Training until validation scores don't improve for 500 rounds\n",
      "[100]\tvalid_0's rmse: 2.10302\n",
      "[200]\tvalid_0's rmse: 2.11137\n",
      "[300]\tvalid_0's rmse: 2.19773\n",
      "[400]\tvalid_0's rmse: 2.19738\n",
      "[500]\tvalid_0's rmse: 2.21223\n"
     ]
    },
    {
     "name": "stderr",
     "output_type": "stream",
     "text": [
      "\u001b[32m[I 2022-02-23 14:49:17,205]\u001b[0m Trial 257 finished with value: 2.0289848871004645 and parameters: {'n_estimators': 10000, 'num_leaves': 5, 'boosting': 'gbdt', 'max_depth': 5, 'max_bin': 32, 'min_data_in_leaf': 1, 'min_data_in_bin': 1, 'min_gain_to_split': 0.33, 'learning_rate': 0.2775958823100871, 'random_state': 0, 'feature_fraction': 0.6789991626897915, 'bagging_fraction': 0.5817025478177555, 'bagging_freq': 1, 'lambda_l1': 1.439797473558869e-07, 'lambda_l2': 0.0010152501453934502}. Best is trial 227 with value: 1.9676895375378611.\u001b[0m\n"
     ]
    },
    {
     "name": "stdout",
     "output_type": "stream",
     "text": [
      "Early stopping, best iteration is:\n",
      "[43]\tvalid_0's rmse: 2.02898\n",
      "valid_score:  RMSE = 2.0289848871004645\n",
      "Training until validation scores don't improve for 500 rounds\n",
      "[100]\tvalid_0's rmse: 2.04426\n",
      "[200]\tvalid_0's rmse: 2.03383\n",
      "[300]\tvalid_0's rmse: 2.03383\n",
      "[400]\tvalid_0's rmse: 2.03383\n",
      "[500]\tvalid_0's rmse: 2.03383\n"
     ]
    },
    {
     "name": "stderr",
     "output_type": "stream",
     "text": [
      "\u001b[32m[I 2022-02-23 14:49:17,459]\u001b[0m Trial 258 finished with value: 2.0338256011130347 and parameters: {'n_estimators': 5000, 'num_leaves': 5, 'boosting': 'gbdt', 'max_depth': 2, 'max_bin': 32, 'min_data_in_leaf': 1, 'min_data_in_bin': 1, 'min_gain_to_split': 3.3600000000000003, 'learning_rate': 0.13849028087006, 'random_state': 0, 'feature_fraction': 0.4726233659207265, 'bagging_fraction': 0.9147934682077989, 'bagging_freq': 2, 'lambda_l1': 3.716120933658021e-08, 'lambda_l2': 2.9652031111577484e-06}. Best is trial 227 with value: 1.9676895375378611.\u001b[0m\n",
      "\u001b[32m[I 2022-02-23 14:49:17,586]\u001b[0m Trial 259 finished with value: 2.020630661875548 and parameters: {'n_estimators': 5000, 'num_leaves': 4, 'boosting': 'gbdt', 'max_depth': 14, 'max_bin': 32, 'min_data_in_leaf': 1, 'min_data_in_bin': 1, 'min_gain_to_split': 0.83, 'learning_rate': 0.2908475589948897, 'random_state': 0, 'feature_fraction': 0.44111340793851406, 'bagging_fraction': 0.5442378751168949, 'bagging_freq': 7, 'lambda_l1': 1.0120410474709411e-06, 'lambda_l2': 1.7239224353455281e-06}. Best is trial 227 with value: 1.9676895375378611.\u001b[0m\n"
     ]
    },
    {
     "name": "stdout",
     "output_type": "stream",
     "text": [
      "[600]\tvalid_0's rmse: 2.03383\n",
      "Early stopping, best iteration is:\n",
      "[159]\tvalid_0's rmse: 2.03383\n",
      "valid_score:  RMSE = 2.0338256011130347\n",
      "Training until validation scores don't improve for 500 rounds\n",
      "[100]\tvalid_0's rmse: 2.05694\n",
      "[200]\tvalid_0's rmse: 2.04859\n",
      "[300]\tvalid_0's rmse: 2.14314\n",
      "[400]\tvalid_0's rmse: 2.19075\n",
      "[500]\tvalid_0's rmse: 2.19831\n",
      "Early stopping, best iteration is:\n",
      "[49]\tvalid_0's rmse: 2.02063\n",
      "valid_score:  RMSE = 2.020630661875548\n",
      "Training until validation scores don't improve for 500 rounds\n",
      "[100]\tvalid_0's rmse: 2.1608\n"
     ]
    },
    {
     "name": "stderr",
     "output_type": "stream",
     "text": [
      "\u001b[32m[I 2022-02-23 14:49:17,826]\u001b[0m Trial 260 finished with value: 2.036928647455611 and parameters: {'n_estimators': 10000, 'num_leaves': 2, 'boosting': 'gbdt', 'max_depth': 10, 'max_bin': 32, 'min_data_in_leaf': 1, 'min_data_in_bin': 1, 'min_gain_to_split': 1.6700000000000002, 'learning_rate': 0.06215400069728258, 'random_state': 0, 'feature_fraction': 0.48551381240942676, 'bagging_fraction': 0.876552396930021, 'bagging_freq': 4, 'lambda_l1': 0.00014289262376716367, 'lambda_l2': 0.00012243956558184642}. Best is trial 227 with value: 1.9676895375378611.\u001b[0m\n"
     ]
    },
    {
     "name": "stdout",
     "output_type": "stream",
     "text": [
      "[200]\tvalid_0's rmse: 2.08761\n",
      "[300]\tvalid_0's rmse: 2.05841\n",
      "[400]\tvalid_0's rmse: 2.05531\n",
      "[500]\tvalid_0's rmse: 2.04627\n",
      "[600]\tvalid_0's rmse: 2.04143\n",
      "[700]\tvalid_0's rmse: 2.04114\n",
      "[800]\tvalid_0's rmse: 2.03711\n",
      "[900]\tvalid_0's rmse: 2.03949\n",
      "[1000]\tvalid_0's rmse: 2.03988\n",
      "[1100]\tvalid_0's rmse: 2.04425\n",
      "[1200]\tvalid_0's rmse: 2.04313\n",
      "Early stopping, best iteration is:\n",
      "[799]\tvalid_0's rmse: 2.03693\n",
      "valid_score:  RMSE = 2.036928647455611\n",
      "Training until validation scores don't improve for 500 rounds\n",
      "[100]\tvalid_0's rmse: 2.10683\n",
      "[200]\tvalid_0's rmse: 2.02844\n",
      "[300]\tvalid_0's rmse: 2.01924\n",
      "[400]\tvalid_0's rmse: 2.00976\n",
      "[500]\tvalid_0's rmse: 2.01134\n",
      "[600]\tvalid_0's rmse: 2.00643\n",
      "[700]\tvalid_0's rmse: 2.0072\n",
      "[800]\tvalid_0's rmse: 2.0077\n",
      "[900]\tvalid_0's rmse: 2.00764\n",
      "[1000]\tvalid_0's rmse: 2.00984\n"
     ]
    },
    {
     "name": "stderr",
     "output_type": "stream",
     "text": [
      "\u001b[32m[I 2022-02-23 14:49:18,650]\u001b[0m Trial 261 finished with value: 2.0056821913780394 and parameters: {'n_estimators': 10000, 'num_leaves': 14, 'boosting': 'gbdt', 'max_depth': 8, 'max_bin': 32, 'min_data_in_leaf': 1, 'min_data_in_bin': 1, 'min_gain_to_split': 1.79, 'learning_rate': 0.022040938200899245, 'random_state': 0, 'feature_fraction': 0.5250448118472449, 'bagging_fraction': 0.5872400218550424, 'bagging_freq': 6, 'lambda_l1': 0.8867586176965444, 'lambda_l2': 4.242572408582776e-08}. Best is trial 227 with value: 1.9676895375378611.\u001b[0m\n"
     ]
    },
    {
     "name": "stdout",
     "output_type": "stream",
     "text": [
      "[1100]\tvalid_0's rmse: 2.01002\n",
      "[1200]\tvalid_0's rmse: 2.00908\n",
      "[1300]\tvalid_0's rmse: 2.01267\n",
      "Early stopping, best iteration is:\n",
      "[867]\tvalid_0's rmse: 2.00548\n",
      "valid_score:  RMSE = 2.0056821913780394\n",
      "Training until validation scores don't improve for 500 rounds\n"
     ]
    },
    {
     "name": "stderr",
     "output_type": "stream",
     "text": [
      "\u001b[32m[I 2022-02-23 14:49:18,887]\u001b[0m Trial 262 finished with value: 2.0434890947382987 and parameters: {'n_estimators': 5000, 'num_leaves': 9, 'boosting': 'gbdt', 'max_depth': 12, 'max_bin': 32, 'min_data_in_leaf': 1, 'min_data_in_bin': 1, 'min_gain_to_split': 1.29, 'learning_rate': 0.10277228713130798, 'random_state': 0, 'feature_fraction': 0.6401835935990265, 'bagging_fraction': 0.8359962759692317, 'bagging_freq': 5, 'lambda_l1': 1.5091426326252079e-06, 'lambda_l2': 0.02367616333462779}. Best is trial 227 with value: 1.9676895375378611.\u001b[0m\n"
     ]
    },
    {
     "name": "stdout",
     "output_type": "stream",
     "text": [
      "[100]\tvalid_0's rmse: 2.05088\n",
      "[200]\tvalid_0's rmse: 2.04865\n",
      "[300]\tvalid_0's rmse: 2.05735\n",
      "[400]\tvalid_0's rmse: 2.05967\n",
      "[500]\tvalid_0's rmse: 2.05967\n",
      "Early stopping, best iteration is:\n",
      "[67]\tvalid_0's rmse: 2.04349\n",
      "valid_score:  RMSE = 2.0434890947382987\n",
      "Training until validation scores don't improve for 500 rounds\n",
      "[100]\tvalid_0's rmse: 2.41285\n",
      "[200]\tvalid_0's rmse: 2.21882\n",
      "[300]\tvalid_0's rmse: 2.13957\n",
      "[400]\tvalid_0's rmse: 2.10337\n",
      "[500]\tvalid_0's rmse: 2.08236\n",
      "[600]\tvalid_0's rmse: 2.0657\n",
      "[700]\tvalid_0's rmse: 2.05531\n",
      "[800]\tvalid_0's rmse: 2.04764\n",
      "[900]\tvalid_0's rmse: 2.038\n",
      "[1000]\tvalid_0's rmse: 2.0332\n",
      "[1100]\tvalid_0's rmse: 2.02974\n",
      "[1200]\tvalid_0's rmse: 2.02205\n",
      "[1300]\tvalid_0's rmse: 2.01861\n",
      "[1400]\tvalid_0's rmse: 2.01851\n",
      "[1500]\tvalid_0's rmse: 2.01701\n",
      "[1600]\tvalid_0's rmse: 2.0147\n",
      "[1700]\tvalid_0's rmse: 2.01415\n",
      "[1800]\tvalid_0's rmse: 2.01303\n",
      "[1900]\tvalid_0's rmse: 2.01369\n",
      "[2000]\tvalid_0's rmse: 2.01385\n",
      "[2100]\tvalid_0's rmse: 2.01493\n"
     ]
    },
    {
     "name": "stderr",
     "output_type": "stream",
     "text": [
      "\u001b[32m[I 2022-02-23 14:49:19,506]\u001b[0m Trial 263 finished with value: 2.0125958430547968 and parameters: {'n_estimators': 5000, 'num_leaves': 4, 'boosting': 'gbdt', 'max_depth': 15, 'max_bin': 32, 'min_data_in_leaf': 1, 'min_data_in_bin': 1, 'min_gain_to_split': 1.7300000000000002, 'learning_rate': 0.010363515433969867, 'random_state': 0, 'feature_fraction': 0.6963783926019662, 'bagging_fraction': 0.9424215505619278, 'bagging_freq': 7, 'lambda_l1': 0.3705423821427815, 'lambda_l2': 0.09696830363277639}. Best is trial 227 with value: 1.9676895375378611.\u001b[0m\n"
     ]
    },
    {
     "name": "stdout",
     "output_type": "stream",
     "text": [
      "[2200]\tvalid_0's rmse: 2.01445\n",
      "Early stopping, best iteration is:\n",
      "[1756]\tvalid_0's rmse: 2.0126\n",
      "valid_score:  RMSE = 2.0125958430547968\n",
      "Training until validation scores don't improve for 500 rounds\n",
      "[100]\tvalid_0's rmse: 1.99449\n",
      "[200]\tvalid_0's rmse: 2.00736\n",
      "[300]\tvalid_0's rmse: 2.00736\n"
     ]
    },
    {
     "name": "stderr",
     "output_type": "stream",
     "text": [
      "\u001b[32m[I 2022-02-23 14:49:19,733]\u001b[0m Trial 264 finished with value: 1.9849396690109185 and parameters: {'n_estimators': 10000, 'num_leaves': 10, 'boosting': 'gbdt', 'max_depth': 7, 'max_bin': 32, 'min_data_in_leaf': 1, 'min_data_in_bin': 1, 'min_gain_to_split': 2.6100000000000003, 'learning_rate': 0.13937599290838407, 'random_state': 0, 'feature_fraction': 0.9387773241501081, 'bagging_fraction': 0.8383565535722974, 'bagging_freq': 3, 'lambda_l1': 0.10336713150873218, 'lambda_l2': 5.848407318176293e-05}. Best is trial 227 with value: 1.9676895375378611.\u001b[0m\n"
     ]
    },
    {
     "name": "stdout",
     "output_type": "stream",
     "text": [
      "[400]\tvalid_0's rmse: 2.00736\n",
      "[500]\tvalid_0's rmse: 2.00736\n",
      "Early stopping, best iteration is:\n",
      "[56]\tvalid_0's rmse: 1.98494\n",
      "valid_score:  RMSE = 1.9849396690109185\n",
      "Training until validation scores don't improve for 500 rounds\n",
      "[100]\tvalid_0's rmse: 2.14587\n",
      "[200]\tvalid_0's rmse: 2.14587\n",
      "[300]\tvalid_0's rmse: 2.14587\n",
      "[400]\tvalid_0's rmse: 2.14587\n"
     ]
    },
    {
     "name": "stderr",
     "output_type": "stream",
     "text": [
      "\u001b[32m[I 2022-02-23 14:49:19,931]\u001b[0m Trial 265 finished with value: 2.063078961767312 and parameters: {'n_estimators': 5000, 'num_leaves': 8, 'boosting': 'gbdt', 'max_depth': 10, 'max_bin': 32, 'min_data_in_leaf': 1, 'min_data_in_bin': 1, 'min_gain_to_split': 4.71, 'learning_rate': 0.24841720581509966, 'random_state': 0, 'feature_fraction': 0.9595089582362298, 'bagging_fraction': 0.572406737142606, 'bagging_freq': 5, 'lambda_l1': 1.6619419486641246e-05, 'lambda_l2': 1.6503463630193492e-06}. Best is trial 227 with value: 1.9676895375378611.\u001b[0m\n"
     ]
    },
    {
     "name": "stdout",
     "output_type": "stream",
     "text": [
      "[500]\tvalid_0's rmse: 2.14587\n",
      "Early stopping, best iteration is:\n",
      "[24]\tvalid_0's rmse: 2.06308\n",
      "valid_score:  RMSE = 2.063078961767312\n",
      "Training until validation scores don't improve for 500 rounds\n",
      "[100]\tvalid_0's rmse: 2.03386\n",
      "[200]\tvalid_0's rmse: 2.03386\n",
      "[300]\tvalid_0's rmse: 2.03386\n",
      "[400]\tvalid_0's rmse: 2.03386\n"
     ]
    },
    {
     "name": "stderr",
     "output_type": "stream",
     "text": [
      "\u001b[32m[I 2022-02-23 14:49:20,187]\u001b[0m Trial 266 finished with value: 2.0338635527463236 and parameters: {'n_estimators': 10000, 'num_leaves': 8, 'boosting': 'gbdt', 'max_depth': 6, 'max_bin': 32, 'min_data_in_leaf': 1, 'min_data_in_bin': 1, 'min_gain_to_split': 4.37, 'learning_rate': 0.17426410332324882, 'random_state': 0, 'feature_fraction': 0.9752511053540922, 'bagging_fraction': 0.8936807164057361, 'bagging_freq': 1, 'lambda_l1': 0.13575445867130692, 'lambda_l2': 9.503708622234832e-05}. Best is trial 227 with value: 1.9676895375378611.\u001b[0m\n"
     ]
    },
    {
     "name": "stdout",
     "output_type": "stream",
     "text": [
      "[500]\tvalid_0's rmse: 2.03386\n",
      "Early stopping, best iteration is:\n",
      "[70]\tvalid_0's rmse: 2.03386\n",
      "valid_score:  RMSE = 2.0338635527463236\n",
      "Training until validation scores don't improve for 500 rounds\n",
      "[100]\tvalid_0's rmse: 2.04335\n",
      "[200]\tvalid_0's rmse: 2.02007\n",
      "[300]\tvalid_0's rmse: 2.00153\n",
      "[400]\tvalid_0's rmse: 2.00899\n",
      "[500]\tvalid_0's rmse: 1.99326\n"
     ]
    },
    {
     "name": "stderr",
     "output_type": "stream",
     "text": [
      "\u001b[32m[I 2022-02-23 14:49:20,494]\u001b[0m Trial 267 finished with value: 1.9905818130789141 and parameters: {'n_estimators': 10000, 'num_leaves': 12, 'boosting': 'gbdt', 'max_depth': 2, 'max_bin': 32, 'min_data_in_leaf': 1, 'min_data_in_bin': 1, 'min_gain_to_split': 2.2800000000000002, 'learning_rate': 0.0726320024897596, 'random_state': 0, 'feature_fraction': 0.43220963489440545, 'bagging_fraction': 0.7754718190501289, 'bagging_freq': 4, 'lambda_l1': 4.227964447890033e-08, 'lambda_l2': 0.001296065309677776}. Best is trial 227 with value: 1.9676895375378611.\u001b[0m\n"
     ]
    },
    {
     "name": "stdout",
     "output_type": "stream",
     "text": [
      "[600]\tvalid_0's rmse: 1.99786\n",
      "[700]\tvalid_0's rmse: 2.00019\n",
      "[800]\tvalid_0's rmse: 2.00039\n",
      "[900]\tvalid_0's rmse: 2.00302\n",
      "[1000]\tvalid_0's rmse: 2.00134\n",
      "Early stopping, best iteration is:\n",
      "[511]\tvalid_0's rmse: 1.98989\n",
      "valid_score:  RMSE = 1.9905818130789141\n",
      "Training until validation scores don't improve for 500 rounds\n"
     ]
    },
    {
     "name": "stderr",
     "output_type": "stream",
     "text": [
      "\u001b[32m[I 2022-02-23 14:49:20,723]\u001b[0m Trial 268 finished with value: 2.0574094452040104 and parameters: {'n_estimators': 5000, 'num_leaves': 13, 'boosting': 'gbdt', 'max_depth': 15, 'max_bin': 32, 'min_data_in_leaf': 1, 'min_data_in_bin': 1, 'min_gain_to_split': 0.13, 'learning_rate': 0.2646027391634911, 'random_state': 0, 'feature_fraction': 0.595306785334116, 'bagging_fraction': 0.9783092361515102, 'bagging_freq': 7, 'lambda_l1': 1.4736848229633742e-07, 'lambda_l2': 0.033733830096660464}. Best is trial 227 with value: 1.9676895375378611.\u001b[0m\n"
     ]
    },
    {
     "name": "stdout",
     "output_type": "stream",
     "text": [
      "[100]\tvalid_0's rmse: 2.19785\n",
      "[200]\tvalid_0's rmse: 2.2541\n",
      "[300]\tvalid_0's rmse: 2.2541\n",
      "[400]\tvalid_0's rmse: 2.2541\n",
      "[500]\tvalid_0's rmse: 2.2541\n",
      "Early stopping, best iteration is:\n",
      "[15]\tvalid_0's rmse: 2.05741\n",
      "valid_score:  RMSE = 2.0574094452040104\n",
      "Training until validation scores don't improve for 500 rounds\n",
      "[100]\tvalid_0's rmse: 2.1017\n"
     ]
    },
    {
     "name": "stderr",
     "output_type": "stream",
     "text": [
      "\u001b[32m[I 2022-02-23 14:49:20,989]\u001b[0m Trial 269 finished with value: 1.9899788511841012 and parameters: {'n_estimators': 10000, 'num_leaves': 5, 'boosting': 'gbdt', 'max_depth': 2, 'max_bin': 32, 'min_data_in_leaf': 1, 'min_data_in_bin': 1, 'min_gain_to_split': 1.62, 'learning_rate': 0.04320642174240201, 'random_state': 0, 'feature_fraction': 0.5735283892956252, 'bagging_fraction': 0.541366004504576, 'bagging_freq': 4, 'lambda_l1': 0.19541282824694817, 'lambda_l2': 3.6121038328083166e-08}. Best is trial 227 with value: 1.9676895375378611.\u001b[0m\n"
     ]
    },
    {
     "name": "stdout",
     "output_type": "stream",
     "text": [
      "[200]\tvalid_0's rmse: 2.03346\n",
      "[300]\tvalid_0's rmse: 2.0149\n",
      "[400]\tvalid_0's rmse: 2.00434\n",
      "[500]\tvalid_0's rmse: 1.99142\n",
      "[600]\tvalid_0's rmse: 2.00823\n",
      "[700]\tvalid_0's rmse: 2.00959\n",
      "[800]\tvalid_0's rmse: 2.01381\n",
      "[900]\tvalid_0's rmse: 2.02462\n",
      "Early stopping, best iteration is:\n",
      "[492]\tvalid_0's rmse: 1.98998\n",
      "valid_score:  RMSE = 1.9899788511841012\n"
     ]
    },
    {
     "name": "stderr",
     "output_type": "stream",
     "text": [
      "\u001b[32m[I 2022-02-23 14:49:21,194]\u001b[0m Trial 270 finished with value: 2.0621039001266417 and parameters: {'n_estimators': 5000, 'num_leaves': 15, 'boosting': 'gbdt', 'max_depth': 13, 'max_bin': 32, 'min_data_in_leaf': 1, 'min_data_in_bin': 1, 'min_gain_to_split': 4.569999999999999, 'learning_rate': 0.27190672054372733, 'random_state': 0, 'feature_fraction': 0.7096949975942766, 'bagging_fraction': 0.4611462605454945, 'bagging_freq': 6, 'lambda_l1': 5.482026123894018e-07, 'lambda_l2': 0.002205514987877434}. Best is trial 227 with value: 1.9676895375378611.\u001b[0m\n"
     ]
    },
    {
     "name": "stdout",
     "output_type": "stream",
     "text": [
      "Training until validation scores don't improve for 500 rounds\n",
      "[100]\tvalid_0's rmse: 2.10365\n",
      "[200]\tvalid_0's rmse: 2.10365\n",
      "[300]\tvalid_0's rmse: 2.10365\n",
      "[400]\tvalid_0's rmse: 2.10365\n",
      "[500]\tvalid_0's rmse: 2.10365\n",
      "Early stopping, best iteration is:\n",
      "[28]\tvalid_0's rmse: 2.0621\n",
      "valid_score:  RMSE = 2.0621039001266417\n",
      "Training until validation scores don't improve for 500 rounds\n"
     ]
    },
    {
     "name": "stderr",
     "output_type": "stream",
     "text": [
      "\u001b[32m[I 2022-02-23 14:49:21,410]\u001b[0m Trial 271 finished with value: 2.04841019456793 and parameters: {'n_estimators': 10000, 'num_leaves': 7, 'boosting': 'gbdt', 'max_depth': 11, 'max_bin': 32, 'min_data_in_leaf': 1, 'min_data_in_bin': 1, 'min_gain_to_split': 3.93, 'learning_rate': 0.14265481093813373, 'random_state': 0, 'feature_fraction': 0.6287390534717724, 'bagging_fraction': 0.5307851169866689, 'bagging_freq': 2, 'lambda_l1': 0.013874690634622624, 'lambda_l2': 4.1383358378318775e-05}. Best is trial 227 with value: 1.9676895375378611.\u001b[0m\n"
     ]
    },
    {
     "name": "stdout",
     "output_type": "stream",
     "text": [
      "[100]\tvalid_0's rmse: 2.08159\n",
      "[200]\tvalid_0's rmse: 2.10308\n",
      "[300]\tvalid_0's rmse: 2.11767\n",
      "[400]\tvalid_0's rmse: 2.13586\n",
      "[500]\tvalid_0's rmse: 2.13586\n",
      "Early stopping, best iteration is:\n",
      "[35]\tvalid_0's rmse: 2.04841\n",
      "valid_score:  RMSE = 2.04841019456793\n",
      "Training until validation scores don't improve for 500 rounds\n"
     ]
    },
    {
     "name": "stderr",
     "output_type": "stream",
     "text": [
      "\u001b[32m[I 2022-02-23 14:49:21,637]\u001b[0m Trial 272 finished with value: 2.1026560430938477 and parameters: {'n_estimators': 10000, 'num_leaves': 16, 'boosting': 'gbdt', 'max_depth': 15, 'max_bin': 32, 'min_data_in_leaf': 1, 'min_data_in_bin': 1, 'min_gain_to_split': 0.48, 'learning_rate': 0.19186351025390738, 'random_state': 0, 'feature_fraction': 0.7435611006963958, 'bagging_fraction': 0.8482572784274429, 'bagging_freq': 4, 'lambda_l1': 1.3772547547486245e-08, 'lambda_l2': 0.0017709656217375577}. Best is trial 227 with value: 1.9676895375378611.\u001b[0m\n"
     ]
    },
    {
     "name": "stdout",
     "output_type": "stream",
     "text": [
      "[100]\tvalid_0's rmse: 2.19193\n",
      "[200]\tvalid_0's rmse: 2.2185\n",
      "[300]\tvalid_0's rmse: 2.2185\n",
      "[400]\tvalid_0's rmse: 2.2185\n",
      "[500]\tvalid_0's rmse: 2.2185\n",
      "Early stopping, best iteration is:\n",
      "[29]\tvalid_0's rmse: 2.10266\n",
      "valid_score:  RMSE = 2.1026560430938477\n",
      "Training until validation scores don't improve for 500 rounds\n",
      "[100]\tvalid_0's rmse: 2.11704\n",
      "[200]\tvalid_0's rmse: 2.06215\n",
      "[300]\tvalid_0's rmse: 2.05007\n",
      "[400]\tvalid_0's rmse: 2.0488\n",
      "[500]\tvalid_0's rmse: 2.05417\n",
      "[600]\tvalid_0's rmse: 2.04536\n",
      "[700]\tvalid_0's rmse: 2.05242\n",
      "[800]\tvalid_0's rmse: 2.04207\n",
      "[900]\tvalid_0's rmse: 2.04652\n",
      "[1000]\tvalid_0's rmse: 2.04811\n",
      "[1100]\tvalid_0's rmse: 2.05354\n",
      "[1200]\tvalid_0's rmse: 2.05569\n",
      "[1300]\tvalid_0's rmse: 2.03938\n",
      "[1400]\tvalid_0's rmse: 2.04628\n",
      "[1500]\tvalid_0's rmse: 2.0398\n",
      "[1600]\tvalid_0's rmse: 2.0446\n",
      "[1700]\tvalid_0's rmse: 2.05371\n"
     ]
    },
    {
     "name": "stderr",
     "output_type": "stream",
     "text": [
      "\u001b[32m[I 2022-02-23 14:49:21,993]\u001b[0m Trial 273 finished with value: 2.0363586775357168 and parameters: {'n_estimators': 5000, 'num_leaves': 2, 'boosting': 'gbdt', 'max_depth': 8, 'max_bin': 32, 'min_data_in_leaf': 1, 'min_data_in_bin': 1, 'min_gain_to_split': 1.2400000000000002, 'learning_rate': 0.08540686944153776, 'random_state': 0, 'feature_fraction': 0.9174527077869565, 'bagging_fraction': 0.7872988060479202, 'bagging_freq': 7, 'lambda_l1': 3.586421713039183e-07, 'lambda_l2': 6.23389233793333e-05}. Best is trial 227 with value: 1.9676895375378611.\u001b[0m\n"
     ]
    },
    {
     "name": "stdout",
     "output_type": "stream",
     "text": [
      "[1800]\tvalid_0's rmse: 2.04953\n",
      "[1900]\tvalid_0's rmse: 2.05592\n",
      "[2000]\tvalid_0's rmse: 2.05139\n",
      "Early stopping, best iteration is:\n",
      "[1517]\tvalid_0's rmse: 2.03636\n",
      "valid_score:  RMSE = 2.0363586775357168\n",
      "Training until validation scores don't improve for 500 rounds\n",
      "[100]\tvalid_0's rmse: 2.09683\n",
      "[200]\tvalid_0's rmse: 2.10624\n",
      "[300]\tvalid_0's rmse: 2.11812\n"
     ]
    },
    {
     "name": "stderr",
     "output_type": "stream",
     "text": [
      "\u001b[32m[I 2022-02-23 14:49:22,204]\u001b[0m Trial 274 finished with value: 2.039119866379758 and parameters: {'n_estimators': 5000, 'num_leaves': 4, 'boosting': 'gbdt', 'max_depth': 13, 'max_bin': 32, 'min_data_in_leaf': 1, 'min_data_in_bin': 1, 'min_gain_to_split': 3.97, 'learning_rate': 0.2628546341134056, 'random_state': 0, 'feature_fraction': 0.7002482718587548, 'bagging_fraction': 0.47283797813691175, 'bagging_freq': 1, 'lambda_l1': 0.003546954744082454, 'lambda_l2': 0.031416654263102806}. Best is trial 227 with value: 1.9676895375378611.\u001b[0m\n"
     ]
    },
    {
     "name": "stdout",
     "output_type": "stream",
     "text": [
      "[400]\tvalid_0's rmse: 2.15093\n",
      "[500]\tvalid_0's rmse: 2.18858\n",
      "Early stopping, best iteration is:\n",
      "[49]\tvalid_0's rmse: 2.03912\n",
      "valid_score:  RMSE = 2.039119866379758\n",
      "Training until validation scores don't improve for 500 rounds\n",
      "[100]\tvalid_0's rmse: 2.04024\n",
      "[200]\tvalid_0's rmse: 2.0015\n",
      "[300]\tvalid_0's rmse: 2.00117\n",
      "[400]\tvalid_0's rmse: 2.01194\n",
      "[500]\tvalid_0's rmse: 2.01053\n",
      "[600]\tvalid_0's rmse: 2.0172\n"
     ]
    },
    {
     "name": "stderr",
     "output_type": "stream",
     "text": [
      "\u001b[32m[I 2022-02-23 14:49:22,634]\u001b[0m Trial 275 finished with value: 1.9977016114927704 and parameters: {'n_estimators': 5000, 'num_leaves': 13, 'boosting': 'gbdt', 'max_depth': 10, 'max_bin': 32, 'min_data_in_leaf': 1, 'min_data_in_bin': 1, 'min_gain_to_split': 0.49, 'learning_rate': 0.03073691271194944, 'random_state': 0, 'feature_fraction': 0.8426676277489935, 'bagging_fraction': 0.7668467106469246, 'bagging_freq': 7, 'lambda_l1': 9.440588077799708e-07, 'lambda_l2': 0.00037756435562754796}. Best is trial 227 with value: 1.9676895375378611.\u001b[0m\n"
     ]
    },
    {
     "name": "stdout",
     "output_type": "stream",
     "text": [
      "[700]\tvalid_0's rmse: 2.02169\n",
      "Early stopping, best iteration is:\n",
      "[208]\tvalid_0's rmse: 1.9977\n",
      "valid_score:  RMSE = 1.9977016114927704\n",
      "Training until validation scores don't improve for 500 rounds\n",
      "[100]\tvalid_0's rmse: 2.08113\n",
      "[200]\tvalid_0's rmse: 2.08633\n",
      "[300]\tvalid_0's rmse: 2.08692\n",
      "[400]\tvalid_0's rmse: 2.08692\n",
      "[500]\tvalid_0's rmse: 2.08692\n"
     ]
    },
    {
     "name": "stderr",
     "output_type": "stream",
     "text": [
      "\u001b[32m[I 2022-02-23 14:49:22,849]\u001b[0m Trial 276 finished with value: 2.061159184262484 and parameters: {'n_estimators': 10000, 'num_leaves': 7, 'boosting': 'gbdt', 'max_depth': 11, 'max_bin': 32, 'min_data_in_leaf': 1, 'min_data_in_bin': 1, 'min_gain_to_split': 3.21, 'learning_rate': 0.14446176059971402, 'random_state': 0, 'feature_fraction': 0.732170337796139, 'bagging_fraction': 0.6243184065622194, 'bagging_freq': 3, 'lambda_l1': 1.4228100065072293e-05, 'lambda_l2': 0.006671755702763028}. Best is trial 227 with value: 1.9676895375378611.\u001b[0m\n"
     ]
    },
    {
     "name": "stdout",
     "output_type": "stream",
     "text": [
      "Early stopping, best iteration is:\n",
      "[49]\tvalid_0's rmse: 2.06116\n",
      "valid_score:  RMSE = 2.061159184262484\n",
      "Training until validation scores don't improve for 500 rounds\n",
      "[100]\tvalid_0's rmse: 2.06762\n",
      "[200]\tvalid_0's rmse: 2.04705\n",
      "[300]\tvalid_0's rmse: 2.06998\n",
      "[400]\tvalid_0's rmse: 2.06666\n"
     ]
    },
    {
     "name": "stderr",
     "output_type": "stream",
     "text": [
      "\u001b[32m[I 2022-02-23 14:49:23,183]\u001b[0m Trial 277 finished with value: 2.042062283172996 and parameters: {'n_estimators': 10000, 'num_leaves': 13, 'boosting': 'gbdt', 'max_depth': 3, 'max_bin': 32, 'min_data_in_leaf': 1, 'min_data_in_bin': 1, 'min_gain_to_split': 2.5300000000000002, 'learning_rate': 0.04310601038724318, 'random_state': 0, 'feature_fraction': 0.6763015246932154, 'bagging_fraction': 0.4053604126285042, 'bagging_freq': 8, 'lambda_l1': 8.440963351527838e-07, 'lambda_l2': 2.1612002797562965e-05}. Best is trial 227 with value: 1.9676895375378611.\u001b[0m\n"
     ]
    },
    {
     "name": "stdout",
     "output_type": "stream",
     "text": [
      "[500]\tvalid_0's rmse: 2.0872\n",
      "[600]\tvalid_0's rmse: 2.09068\n",
      "[700]\tvalid_0's rmse: 2.09066\n",
      "Early stopping, best iteration is:\n",
      "[211]\tvalid_0's rmse: 2.04206\n",
      "valid_score:  RMSE = 2.042062283172996\n",
      "Training until validation scores don't improve for 500 rounds\n",
      "[100]\tvalid_0's rmse: 2.01862\n",
      "[200]\tvalid_0's rmse: 2.00544\n"
     ]
    },
    {
     "name": "stderr",
     "output_type": "stream",
     "text": [
      "\u001b[32m[I 2022-02-23 14:49:23,486]\u001b[0m Trial 278 finished with value: 2.0028764879896044 and parameters: {'n_estimators': 5000, 'num_leaves': 8, 'boosting': 'gbdt', 'max_depth': 14, 'max_bin': 32, 'min_data_in_leaf': 1, 'min_data_in_bin': 1, 'min_gain_to_split': 0.11, 'learning_rate': 0.051395086780015094, 'random_state': 0, 'feature_fraction': 0.7709347395147506, 'bagging_fraction': 0.8802516855864089, 'bagging_freq': 6, 'lambda_l1': 0.05070763919581181, 'lambda_l2': 0.07806213562614982}. Best is trial 227 with value: 1.9676895375378611.\u001b[0m\n"
     ]
    },
    {
     "name": "stdout",
     "output_type": "stream",
     "text": [
      "[300]\tvalid_0's rmse: 2.00829\n",
      "[400]\tvalid_0's rmse: 2.02698\n",
      "[500]\tvalid_0's rmse: 2.02866\n",
      "[600]\tvalid_0's rmse: 2.03081\n",
      "[700]\tvalid_0's rmse: 2.03892\n",
      "Early stopping, best iteration is:\n",
      "[209]\tvalid_0's rmse: 2.00288\n",
      "valid_score:  RMSE = 2.0028764879896044\n",
      "Training until validation scores don't improve for 500 rounds\n",
      "[100]\tvalid_0's rmse: 2.23981\n",
      "[200]\tvalid_0's rmse: 2.11207\n",
      "[300]\tvalid_0's rmse: 2.06956\n",
      "[400]\tvalid_0's rmse: 2.05575\n",
      "[500]\tvalid_0's rmse: 2.04894\n",
      "[600]\tvalid_0's rmse: 2.04121\n",
      "[700]\tvalid_0's rmse: 2.03459\n",
      "[800]\tvalid_0's rmse: 2.02976\n",
      "[900]\tvalid_0's rmse: 2.02881\n",
      "[1000]\tvalid_0's rmse: 2.02121\n"
     ]
    },
    {
     "name": "stderr",
     "output_type": "stream",
     "text": [
      "\u001b[32m[I 2022-02-23 14:49:23,930]\u001b[0m Trial 279 finished with value: 2.0198207642780575 and parameters: {'n_estimators': 10000, 'num_leaves': 4, 'boosting': 'gbdt', 'max_depth': 11, 'max_bin': 32, 'min_data_in_leaf': 1, 'min_data_in_bin': 1, 'min_gain_to_split': 4.609999999999999, 'learning_rate': 0.018643108084518793, 'random_state': 0, 'feature_fraction': 0.6325531114854057, 'bagging_fraction': 0.7721573965848046, 'bagging_freq': 8, 'lambda_l1': 0.0017716319068048255, 'lambda_l2': 0.0002578659429780521}. Best is trial 227 with value: 1.9676895375378611.\u001b[0m\n"
     ]
    },
    {
     "name": "stdout",
     "output_type": "stream",
     "text": [
      "[1100]\tvalid_0's rmse: 2.02747\n",
      "[1200]\tvalid_0's rmse: 2.02609\n",
      "[1300]\tvalid_0's rmse: 2.02718\n",
      "[1400]\tvalid_0's rmse: 2.02937\n",
      "[1500]\tvalid_0's rmse: 2.02836\n",
      "Early stopping, best iteration is:\n",
      "[1011]\tvalid_0's rmse: 2.01982\n",
      "valid_score:  RMSE = 2.0198207642780575\n",
      "Training until validation scores don't improve for 500 rounds\n",
      "[100]\tvalid_0's rmse: 2.4464\n",
      "[200]\tvalid_0's rmse: 2.28685\n",
      "[300]\tvalid_0's rmse: 2.21096\n",
      "[400]\tvalid_0's rmse: 2.16268\n",
      "[500]\tvalid_0's rmse: 2.13191\n",
      "[600]\tvalid_0's rmse: 2.111\n",
      "[700]\tvalid_0's rmse: 2.09663\n",
      "[800]\tvalid_0's rmse: 2.08674\n",
      "[900]\tvalid_0's rmse: 2.07685\n",
      "[1000]\tvalid_0's rmse: 2.07069\n",
      "[1100]\tvalid_0's rmse: 2.06665\n",
      "[1200]\tvalid_0's rmse: 2.06415\n",
      "[1300]\tvalid_0's rmse: 2.05955\n",
      "[1400]\tvalid_0's rmse: 2.05782\n",
      "[1500]\tvalid_0's rmse: 2.05572\n",
      "[1600]\tvalid_0's rmse: 2.05649\n",
      "[1700]\tvalid_0's rmse: 2.05362\n",
      "[1800]\tvalid_0's rmse: 2.0522\n",
      "[1900]\tvalid_0's rmse: 2.05116\n",
      "[2000]\tvalid_0's rmse: 2.05073\n",
      "[2100]\tvalid_0's rmse: 2.04896\n",
      "[2200]\tvalid_0's rmse: 2.04853\n",
      "[2300]\tvalid_0's rmse: 2.04615\n",
      "[2400]\tvalid_0's rmse: 2.04504\n",
      "[2500]\tvalid_0's rmse: 2.04504\n",
      "[2600]\tvalid_0's rmse: 2.04504\n",
      "[2700]\tvalid_0's rmse: 2.04504\n"
     ]
    },
    {
     "name": "stderr",
     "output_type": "stream",
     "text": [
      "\u001b[32m[I 2022-02-23 14:49:24,490]\u001b[0m Trial 280 finished with value: 2.044924593938479 and parameters: {'n_estimators': 10000, 'num_leaves': 2, 'boosting': 'gbdt', 'max_depth': 15, 'max_bin': 32, 'min_data_in_leaf': 1, 'min_data_in_bin': 1, 'min_gain_to_split': 4.66, 'learning_rate': 0.016119221806842627, 'random_state': 0, 'feature_fraction': 0.8212718087560873, 'bagging_fraction': 0.9707044309532598, 'bagging_freq': 5, 'lambda_l1': 3.781666607641433e-05, 'lambda_l2': 0.0023760240454039107}. Best is trial 227 with value: 1.9676895375378611.\u001b[0m\n"
     ]
    },
    {
     "name": "stdout",
     "output_type": "stream",
     "text": [
      "[2800]\tvalid_0's rmse: 2.04504\n",
      "Early stopping, best iteration is:\n",
      "[2323]\tvalid_0's rmse: 2.04481\n",
      "valid_score:  RMSE = 2.044924593938479\n",
      "Training until validation scores don't improve for 500 rounds\n",
      "[100]\tvalid_0's rmse: 2.07163\n",
      "[200]\tvalid_0's rmse: 2.07163\n",
      "[300]\tvalid_0's rmse: 2.07163\n",
      "[400]\tvalid_0's rmse: 2.07163\n"
     ]
    },
    {
     "name": "stderr",
     "output_type": "stream",
     "text": [
      "\u001b[32m[I 2022-02-23 14:49:24,692]\u001b[0m Trial 281 finished with value: 2.0240270778850316 and parameters: {'n_estimators': 5000, 'num_leaves': 16, 'boosting': 'gbdt', 'max_depth': 9, 'max_bin': 32, 'min_data_in_leaf': 1, 'min_data_in_bin': 1, 'min_gain_to_split': 3.3200000000000003, 'learning_rate': 0.10438635461170237, 'random_state': 0, 'feature_fraction': 0.7106221764210972, 'bagging_fraction': 0.4935916932620694, 'bagging_freq': 8, 'lambda_l1': 0.00015617240023206805, 'lambda_l2': 2.2531693799651143e-08}. Best is trial 227 with value: 1.9676895375378611.\u001b[0m\n"
     ]
    },
    {
     "name": "stdout",
     "output_type": "stream",
     "text": [
      "[500]\tvalid_0's rmse: 2.07163\n",
      "Early stopping, best iteration is:\n",
      "[44]\tvalid_0's rmse: 2.02403\n",
      "valid_score:  RMSE = 2.0240270778850316\n",
      "Training until validation scores don't improve for 500 rounds\n",
      "[100]\tvalid_0's rmse: 2.05994\n",
      "[200]\tvalid_0's rmse: 2.0679\n",
      "[300]\tvalid_0's rmse: 2.08667\n"
     ]
    },
    {
     "name": "stderr",
     "output_type": "stream",
     "text": [
      "\u001b[32m[I 2022-02-23 14:49:25,016]\u001b[0m Trial 282 finished with value: 2.043787800995235 and parameters: {'n_estimators': 5000, 'num_leaves': 12, 'boosting': 'gbdt', 'max_depth': 7, 'max_bin': 32, 'min_data_in_leaf': 1, 'min_data_in_bin': 1, 'min_gain_to_split': 0.66, 'learning_rate': 0.061017533072938356, 'random_state': 0, 'feature_fraction': 0.8612553214853357, 'bagging_fraction': 0.7641596886360595, 'bagging_freq': 2, 'lambda_l1': 6.296595506096628e-05, 'lambda_l2': 0.006071940587120937}. Best is trial 227 with value: 1.9676895375378611.\u001b[0m\n"
     ]
    },
    {
     "name": "stdout",
     "output_type": "stream",
     "text": [
      "[400]\tvalid_0's rmse: 2.10749\n",
      "[500]\tvalid_0's rmse: 2.10859\n",
      "Early stopping, best iteration is:\n",
      "[78]\tvalid_0's rmse: 2.04379\n",
      "valid_score:  RMSE = 2.043787800995235\n",
      "Training until validation scores don't improve for 500 rounds\n",
      "[100]\tvalid_0's rmse: 2.05058\n"
     ]
    },
    {
     "name": "stderr",
     "output_type": "stream",
     "text": [
      "\u001b[32m[I 2022-02-23 14:49:25,219]\u001b[0m Trial 283 finished with value: 2.045035163245944 and parameters: {'n_estimators': 10000, 'num_leaves': 13, 'boosting': 'gbdt', 'max_depth': 16, 'max_bin': 32, 'min_data_in_leaf': 1, 'min_data_in_bin': 1, 'min_gain_to_split': 3.68, 'learning_rate': 0.18695791549648982, 'random_state': 0, 'feature_fraction': 0.5661857894562395, 'bagging_fraction': 0.7613558103133664, 'bagging_freq': 4, 'lambda_l1': 1.1882304761693708e-05, 'lambda_l2': 1.8485215822080292e-08}. Best is trial 227 with value: 1.9676895375378611.\u001b[0m\n"
     ]
    },
    {
     "name": "stdout",
     "output_type": "stream",
     "text": [
      "[200]\tvalid_0's rmse: 2.05058\n",
      "[300]\tvalid_0's rmse: 2.05058\n",
      "[400]\tvalid_0's rmse: 2.05058\n",
      "[500]\tvalid_0's rmse: 2.05058\n",
      "Early stopping, best iteration is:\n",
      "[27]\tvalid_0's rmse: 2.04504\n",
      "valid_score:  RMSE = 2.045035163245944\n",
      "Training until validation scores don't improve for 500 rounds\n",
      "[100]\tvalid_0's rmse: 2.01942\n",
      "[200]\tvalid_0's rmse: 2.01942\n"
     ]
    },
    {
     "name": "stderr",
     "output_type": "stream",
     "text": [
      "\u001b[32m[I 2022-02-23 14:49:25,422]\u001b[0m Trial 284 finished with value: 2.013448453939044 and parameters: {'n_estimators': 10000, 'num_leaves': 8, 'boosting': 'gbdt', 'max_depth': 9, 'max_bin': 32, 'min_data_in_leaf': 1, 'min_data_in_bin': 1, 'min_gain_to_split': 2.23, 'learning_rate': 0.25189066204783406, 'random_state': 0, 'feature_fraction': 0.5005177848567349, 'bagging_fraction': 0.9709909797332323, 'bagging_freq': 4, 'lambda_l1': 0.0032593513776539066, 'lambda_l2': 6.464475205473773e-08}. Best is trial 227 with value: 1.9676895375378611.\u001b[0m\n"
     ]
    },
    {
     "name": "stdout",
     "output_type": "stream",
     "text": [
      "[300]\tvalid_0's rmse: 2.01942\n",
      "[400]\tvalid_0's rmse: 2.01942\n",
      "[500]\tvalid_0's rmse: 2.01942\n",
      "Early stopping, best iteration is:\n",
      "[60]\tvalid_0's rmse: 2.01345\n",
      "valid_score:  RMSE = 2.013448453939044\n",
      "Training until validation scores don't improve for 500 rounds\n",
      "[100]\tvalid_0's rmse: 2.0827\n",
      "[200]\tvalid_0's rmse: 2.11034\n"
     ]
    },
    {
     "name": "stderr",
     "output_type": "stream",
     "text": [
      "\u001b[32m[I 2022-02-23 14:49:25,637]\u001b[0m Trial 285 finished with value: 2.038189100231135 and parameters: {'n_estimators': 5000, 'num_leaves': 15, 'boosting': 'gbdt', 'max_depth': 8, 'max_bin': 32, 'min_data_in_leaf': 1, 'min_data_in_bin': 1, 'min_gain_to_split': 0.33, 'learning_rate': 0.20521468077965713, 'random_state': 0, 'feature_fraction': 0.8470221503245514, 'bagging_fraction': 0.9280035169045384, 'bagging_freq': 4, 'lambda_l1': 4.5442547440327875e-05, 'lambda_l2': 5.97047042127602e-08}. Best is trial 227 with value: 1.9676895375378611.\u001b[0m\n"
     ]
    },
    {
     "name": "stdout",
     "output_type": "stream",
     "text": [
      "[300]\tvalid_0's rmse: 2.11034\n",
      "[400]\tvalid_0's rmse: 2.11034\n",
      "[500]\tvalid_0's rmse: 2.11034\n",
      "Early stopping, best iteration is:\n",
      "[23]\tvalid_0's rmse: 2.03819\n",
      "valid_score:  RMSE = 2.038189100231135\n",
      "Training until validation scores don't improve for 500 rounds\n",
      "[100]\tvalid_0's rmse: 2.09453\n",
      "[200]\tvalid_0's rmse: 2.0834\n",
      "[300]\tvalid_0's rmse: 2.10797\n"
     ]
    },
    {
     "name": "stderr",
     "output_type": "stream",
     "text": [
      "\u001b[32m[I 2022-02-23 14:49:25,871]\u001b[0m Trial 286 finished with value: 2.056024089588585 and parameters: {'n_estimators': 10000, 'num_leaves': 9, 'boosting': 'gbdt', 'max_depth': 16, 'max_bin': 32, 'min_data_in_leaf': 1, 'min_data_in_bin': 1, 'min_gain_to_split': 1.02, 'learning_rate': 0.12096707859702636, 'random_state': 0, 'feature_fraction': 0.8612314990702594, 'bagging_fraction': 0.7469010517872781, 'bagging_freq': 5, 'lambda_l1': 0.29143752950744467, 'lambda_l2': 3.91156316052358e-06}. Best is trial 227 with value: 1.9676895375378611.\u001b[0m\n"
     ]
    },
    {
     "name": "stdout",
     "output_type": "stream",
     "text": [
      "[400]\tvalid_0's rmse: 2.12149\n",
      "[500]\tvalid_0's rmse: 2.12149\n",
      "Early stopping, best iteration is:\n",
      "[43]\tvalid_0's rmse: 2.05602\n",
      "valid_score:  RMSE = 2.056024089588585\n",
      "Training until validation scores don't improve for 500 rounds\n",
      "[100]\tvalid_0's rmse: 2.22135\n",
      "[200]\tvalid_0's rmse: 2.22135\n",
      "[300]\tvalid_0's rmse: 2.22135\n"
     ]
    },
    {
     "name": "stderr",
     "output_type": "stream",
     "text": [
      "\u001b[32m[I 2022-02-23 14:49:26,089]\u001b[0m Trial 287 finished with value: 2.095446545606723 and parameters: {'n_estimators': 10000, 'num_leaves': 16, 'boosting': 'gbdt', 'max_depth': 13, 'max_bin': 32, 'min_data_in_leaf': 1, 'min_data_in_bin': 1, 'min_gain_to_split': 0.79, 'learning_rate': 0.2774738630286172, 'random_state': 0, 'feature_fraction': 0.6310102193740319, 'bagging_fraction': 0.709977876782862, 'bagging_freq': 7, 'lambda_l1': 0.00024163626321135185, 'lambda_l2': 2.6193608254197823e-06}. Best is trial 227 with value: 1.9676895375378611.\u001b[0m\n"
     ]
    },
    {
     "name": "stdout",
     "output_type": "stream",
     "text": [
      "[400]\tvalid_0's rmse: 2.22135\n",
      "[500]\tvalid_0's rmse: 2.22135\n",
      "Early stopping, best iteration is:\n",
      "[20]\tvalid_0's rmse: 2.09545\n",
      "valid_score:  RMSE = 2.095446545606723\n",
      "Training until validation scores don't improve for 500 rounds\n",
      "[100]\tvalid_0's rmse: 2.84454\n",
      "[200]\tvalid_0's rmse: 2.72127\n",
      "[300]\tvalid_0's rmse: 2.61913\n",
      "[400]\tvalid_0's rmse: 2.53113\n",
      "[500]\tvalid_0's rmse: 2.45744\n",
      "[600]\tvalid_0's rmse: 2.39688\n",
      "[700]\tvalid_0's rmse: 2.34398\n",
      "[800]\tvalid_0's rmse: 2.29976\n",
      "[900]\tvalid_0's rmse: 2.26058\n",
      "[1000]\tvalid_0's rmse: 2.2283\n",
      "[1100]\tvalid_0's rmse: 2.20393\n",
      "[1200]\tvalid_0's rmse: 2.1822\n",
      "[1300]\tvalid_0's rmse: 2.16256\n",
      "[1400]\tvalid_0's rmse: 2.14417\n",
      "[1500]\tvalid_0's rmse: 2.13015\n",
      "[1600]\tvalid_0's rmse: 2.11777\n",
      "[1700]\tvalid_0's rmse: 2.10739\n",
      "[1800]\tvalid_0's rmse: 2.0988\n",
      "[1900]\tvalid_0's rmse: 2.0896\n",
      "[2000]\tvalid_0's rmse: 2.0827\n",
      "[2100]\tvalid_0's rmse: 2.07305\n",
      "[2200]\tvalid_0's rmse: 2.067\n",
      "[2300]\tvalid_0's rmse: 2.06159\n",
      "[2400]\tvalid_0's rmse: 2.05646\n",
      "[2500]\tvalid_0's rmse: 2.05287\n",
      "[2600]\tvalid_0's rmse: 2.04869\n",
      "[2700]\tvalid_0's rmse: 2.04565\n",
      "[2800]\tvalid_0's rmse: 2.04291\n",
      "[2900]\tvalid_0's rmse: 2.03947\n",
      "[3000]\tvalid_0's rmse: 2.03698\n",
      "[3100]\tvalid_0's rmse: 2.03398\n",
      "[3200]\tvalid_0's rmse: 2.03216\n",
      "[3300]\tvalid_0's rmse: 2.0303\n",
      "[3400]\tvalid_0's rmse: 2.02866\n",
      "[3500]\tvalid_0's rmse: 2.02637\n",
      "[3600]\tvalid_0's rmse: 2.0249\n",
      "[3700]\tvalid_0's rmse: 2.02375\n",
      "[3800]\tvalid_0's rmse: 2.02175\n",
      "[3900]\tvalid_0's rmse: 2.02126\n",
      "[4000]\tvalid_0's rmse: 2.02014\n",
      "[4100]\tvalid_0's rmse: 2.01964\n",
      "[4200]\tvalid_0's rmse: 2.01818\n",
      "[4300]\tvalid_0's rmse: 2.01736\n",
      "[4400]\tvalid_0's rmse: 2.01606\n",
      "[4500]\tvalid_0's rmse: 2.01388\n",
      "[4600]\tvalid_0's rmse: 2.0118\n",
      "[4700]\tvalid_0's rmse: 2.0109\n",
      "[4800]\tvalid_0's rmse: 2.01023\n",
      "[4900]\tvalid_0's rmse: 2.01005\n",
      "[5000]\tvalid_0's rmse: 2.00923\n",
      "Did not meet early stopping. Best iteration is:\n",
      "[4999]\tvalid_0's rmse: 2.00915\n"
     ]
    },
    {
     "name": "stderr",
     "output_type": "stream",
     "text": [
      "\u001b[32m[I 2022-02-23 14:49:27,818]\u001b[0m Trial 288 finished with value: 2.0091510702863653 and parameters: {'n_estimators': 5000, 'num_leaves': 8, 'boosting': 'gbdt', 'max_depth': 15, 'max_bin': 32, 'min_data_in_leaf': 1, 'min_data_in_bin': 1, 'min_gain_to_split': 3.62, 'learning_rate': 0.0013700634553365108, 'random_state': 0, 'feature_fraction': 0.7118385849964461, 'bagging_fraction': 0.6122131210766293, 'bagging_freq': 7, 'lambda_l1': 0.0009120936050007781, 'lambda_l2': 0.0019757636218783554}. Best is trial 227 with value: 1.9676895375378611.\u001b[0m\n"
     ]
    },
    {
     "name": "stdout",
     "output_type": "stream",
     "text": [
      "valid_score:  RMSE = 2.0091510702863653\n",
      "Training until validation scores don't improve for 500 rounds\n",
      "[100]\tvalid_0's rmse: 2.21201\n",
      "[200]\tvalid_0's rmse: 2.28607\n",
      "[300]\tvalid_0's rmse: 2.28595\n",
      "[400]\tvalid_0's rmse: 2.28595\n"
     ]
    },
    {
     "name": "stderr",
     "output_type": "stream",
     "text": [
      "\u001b[32m[I 2022-02-23 14:49:28,035]\u001b[0m Trial 289 finished with value: 2.118128023690765 and parameters: {'n_estimators': 5000, 'num_leaves': 8, 'boosting': 'gbdt', 'max_depth': 13, 'max_bin': 32, 'min_data_in_leaf': 1, 'min_data_in_bin': 1, 'min_gain_to_split': 1.4200000000000002, 'learning_rate': 0.23861215861077334, 'random_state': 0, 'feature_fraction': 0.8538848214803265, 'bagging_fraction': 0.6544068530119109, 'bagging_freq': 4, 'lambda_l1': 0.000612151705553275, 'lambda_l2': 6.14574967289335e-08}. Best is trial 227 with value: 1.9676895375378611.\u001b[0m\n"
     ]
    },
    {
     "name": "stdout",
     "output_type": "stream",
     "text": [
      "[500]\tvalid_0's rmse: 2.28595\n",
      "Early stopping, best iteration is:\n",
      "[24]\tvalid_0's rmse: 2.11813\n",
      "valid_score:  RMSE = 2.118128023690765\n",
      "Training until validation scores don't improve for 500 rounds\n",
      "[100]\tvalid_0's rmse: 2.02635\n",
      "[200]\tvalid_0's rmse: 2.0223\n",
      "[300]\tvalid_0's rmse: 2.0223\n",
      "[400]\tvalid_0's rmse: 2.0223\n"
     ]
    },
    {
     "name": "stderr",
     "output_type": "stream",
     "text": [
      "\u001b[32m[I 2022-02-23 14:49:28,313]\u001b[0m Trial 290 finished with value: 2.0201393854855834 and parameters: {'n_estimators': 10000, 'num_leaves': 11, 'boosting': 'gbdt', 'max_depth': 11, 'max_bin': 32, 'min_data_in_leaf': 1, 'min_data_in_bin': 1, 'min_gain_to_split': 2.81, 'learning_rate': 0.08577897008416085, 'random_state': 0, 'feature_fraction': 0.6333042694679101, 'bagging_fraction': 0.7807579520221608, 'bagging_freq': 8, 'lambda_l1': 0.5409198239090149, 'lambda_l2': 0.050369777227493855}. Best is trial 227 with value: 1.9676895375378611.\u001b[0m\n"
     ]
    },
    {
     "name": "stdout",
     "output_type": "stream",
     "text": [
      "[500]\tvalid_0's rmse: 2.0223\n",
      "[600]\tvalid_0's rmse: 2.0223\n",
      "Early stopping, best iteration is:\n",
      "[142]\tvalid_0's rmse: 2.02014\n",
      "valid_score:  RMSE = 2.0201393854855834\n",
      "Training until validation scores don't improve for 500 rounds\n",
      "[100]\tvalid_0's rmse: 2.04857\n",
      "[200]\tvalid_0's rmse: 2.05334\n"
     ]
    },
    {
     "name": "stderr",
     "output_type": "stream",
     "text": [
      "\u001b[32m[I 2022-02-23 14:49:28,577]\u001b[0m Trial 291 finished with value: 2.0339261488147784 and parameters: {'n_estimators': 5000, 'num_leaves': 12, 'boosting': 'gbdt', 'max_depth': 8, 'max_bin': 32, 'min_data_in_leaf': 1, 'min_data_in_bin': 1, 'min_gain_to_split': 4.8, 'learning_rate': 0.1420458021439677, 'random_state': 0, 'feature_fraction': 0.6942940877182514, 'bagging_fraction': 0.5596059289965349, 'bagging_freq': 1, 'lambda_l1': 0.25635562828498615, 'lambda_l2': 2.1092962181397615e-08}. Best is trial 227 with value: 1.9676895375378611.\u001b[0m\n"
     ]
    },
    {
     "name": "stdout",
     "output_type": "stream",
     "text": [
      "[300]\tvalid_0's rmse: 2.05334\n",
      "[400]\tvalid_0's rmse: 2.05334\n",
      "[500]\tvalid_0's rmse: 2.05334\n",
      "Early stopping, best iteration is:\n",
      "[27]\tvalid_0's rmse: 2.03393\n",
      "valid_score:  RMSE = 2.0339261488147784\n",
      "Training until validation scores don't improve for 500 rounds\n",
      "[100]\tvalid_0's rmse: 2.08092\n",
      "[200]\tvalid_0's rmse: 2.06736\n"
     ]
    },
    {
     "name": "stderr",
     "output_type": "stream",
     "text": [
      "\u001b[32m[I 2022-02-23 14:49:28,858]\u001b[0m Trial 292 finished with value: 2.0639005590693063 and parameters: {'n_estimators': 10000, 'num_leaves': 8, 'boosting': 'gbdt', 'max_depth': 13, 'max_bin': 32, 'min_data_in_leaf': 1, 'min_data_in_bin': 1, 'min_gain_to_split': 1.53, 'learning_rate': 0.036256096078544006, 'random_state': 0, 'feature_fraction': 0.9351550932740221, 'bagging_fraction': 0.5662651311676599, 'bagging_freq': 8, 'lambda_l1': 1.8157983619145147e-07, 'lambda_l2': 5.207141747912178e-07}. Best is trial 227 with value: 1.9676895375378611.\u001b[0m\n"
     ]
    },
    {
     "name": "stdout",
     "output_type": "stream",
     "text": [
      "[300]\tvalid_0's rmse: 2.07166\n",
      "[400]\tvalid_0's rmse: 2.09115\n",
      "[500]\tvalid_0's rmse: 2.07157\n",
      "[600]\tvalid_0's rmse: 2.09061\n",
      "Early stopping, best iteration is:\n",
      "[176]\tvalid_0's rmse: 2.0639\n",
      "valid_score:  RMSE = 2.0639005590693063\n",
      "Training until validation scores don't improve for 500 rounds\n",
      "[100]\tvalid_0's rmse: 2.07368\n"
     ]
    },
    {
     "name": "stderr",
     "output_type": "stream",
     "text": [
      "\u001b[32m[I 2022-02-23 14:49:29,117]\u001b[0m Trial 293 finished with value: 2.0629992519468034 and parameters: {'n_estimators': 10000, 'num_leaves': 8, 'boosting': 'gbdt', 'max_depth': 7, 'max_bin': 32, 'min_data_in_leaf': 1, 'min_data_in_bin': 1, 'min_gain_to_split': 4.66, 'learning_rate': 0.27214603250576086, 'random_state': 0, 'feature_fraction': 0.6936807807458601, 'bagging_fraction': 0.786807657425587, 'bagging_freq': 1, 'lambda_l1': 0.23934689247213065, 'lambda_l2': 0.31046223994489136}. Best is trial 227 with value: 1.9676895375378611.\u001b[0m\n"
     ]
    },
    {
     "name": "stdout",
     "output_type": "stream",
     "text": [
      "[200]\tvalid_0's rmse: 2.07368\n",
      "[300]\tvalid_0's rmse: 2.07368\n",
      "[400]\tvalid_0's rmse: 2.07368\n",
      "[500]\tvalid_0's rmse: 2.07368\n",
      "Early stopping, best iteration is:\n",
      "[54]\tvalid_0's rmse: 2.05969\n",
      "valid_score:  RMSE = 2.0629992519468034\n",
      "Training until validation scores don't improve for 500 rounds\n",
      "[100]\tvalid_0's rmse: 2.72206\n",
      "[200]\tvalid_0's rmse: 2.55752\n",
      "[300]\tvalid_0's rmse: 2.44174\n",
      "[400]\tvalid_0's rmse: 2.36031\n",
      "[500]\tvalid_0's rmse: 2.29975\n",
      "[600]\tvalid_0's rmse: 2.25578\n",
      "[700]\tvalid_0's rmse: 2.21965\n",
      "[800]\tvalid_0's rmse: 2.19168\n",
      "[900]\tvalid_0's rmse: 2.16713\n",
      "[1000]\tvalid_0's rmse: 2.14907\n",
      "[1100]\tvalid_0's rmse: 2.13264\n",
      "[1200]\tvalid_0's rmse: 2.12016\n",
      "[1300]\tvalid_0's rmse: 2.10893\n",
      "[1400]\tvalid_0's rmse: 2.10197\n",
      "[1500]\tvalid_0's rmse: 2.09423\n",
      "[1600]\tvalid_0's rmse: 2.08851\n",
      "[1700]\tvalid_0's rmse: 2.08271\n",
      "[1800]\tvalid_0's rmse: 2.07693\n",
      "[1900]\tvalid_0's rmse: 2.07203\n",
      "[2000]\tvalid_0's rmse: 2.06691\n",
      "[2100]\tvalid_0's rmse: 2.06264\n",
      "[2200]\tvalid_0's rmse: 2.05912\n",
      "[2300]\tvalid_0's rmse: 2.05546\n",
      "[2400]\tvalid_0's rmse: 2.05217\n",
      "[2500]\tvalid_0's rmse: 2.04934\n",
      "[2600]\tvalid_0's rmse: 2.04674\n",
      "[2700]\tvalid_0's rmse: 2.04455\n",
      "[2800]\tvalid_0's rmse: 2.04278\n",
      "[2900]\tvalid_0's rmse: 2.04096\n",
      "[3000]\tvalid_0's rmse: 2.03918\n",
      "[3100]\tvalid_0's rmse: 2.03755\n",
      "[3200]\tvalid_0's rmse: 2.03576\n",
      "[3300]\tvalid_0's rmse: 2.03376\n",
      "[3400]\tvalid_0's rmse: 2.0324\n",
      "[3500]\tvalid_0's rmse: 2.03093\n",
      "[3600]\tvalid_0's rmse: 2.02993\n",
      "[3700]\tvalid_0's rmse: 2.02868\n",
      "[3800]\tvalid_0's rmse: 2.02791\n",
      "[3900]\tvalid_0's rmse: 2.02591\n",
      "[4000]\tvalid_0's rmse: 2.02469\n",
      "[4100]\tvalid_0's rmse: 2.02215\n",
      "[4200]\tvalid_0's rmse: 2.02053\n",
      "[4300]\tvalid_0's rmse: 2.01963\n",
      "[4400]\tvalid_0's rmse: 2.01851\n",
      "[4500]\tvalid_0's rmse: 2.01816\n",
      "[4600]\tvalid_0's rmse: 2.01766\n",
      "[4700]\tvalid_0's rmse: 2.01774\n"
     ]
    },
    {
     "name": "stderr",
     "output_type": "stream",
     "text": [
      "\u001b[32m[I 2022-02-23 14:49:30,285]\u001b[0m Trial 294 finished with value: 2.014885383575553 and parameters: {'n_estimators': 5000, 'num_leaves': 3, 'boosting': 'gbdt', 'max_depth': 8, 'max_bin': 32, 'min_data_in_leaf': 1, 'min_data_in_bin': 1, 'min_gain_to_split': 3.6, 'learning_rate': 0.003494699636003719, 'random_state': 0, 'feature_fraction': 0.9027043325693841, 'bagging_fraction': 0.8217286058306903, 'bagging_freq': 2, 'lambda_l1': 4.7664380087969086e-07, 'lambda_l2': 1.6538285752293753e-07}. Best is trial 227 with value: 1.9676895375378611.\u001b[0m\n"
     ]
    },
    {
     "name": "stdout",
     "output_type": "stream",
     "text": [
      "[4800]\tvalid_0's rmse: 2.0163\n",
      "[4900]\tvalid_0's rmse: 2.01502\n",
      "[5000]\tvalid_0's rmse: 2.01502\n",
      "Did not meet early stopping. Best iteration is:\n",
      "[4962]\tvalid_0's rmse: 2.01489\n",
      "valid_score:  RMSE = 2.014885383575553\n",
      "Training until validation scores don't improve for 500 rounds\n"
     ]
    },
    {
     "name": "stderr",
     "output_type": "stream",
     "text": [
      "\u001b[32m[I 2022-02-23 14:49:30,480]\u001b[0m Trial 295 finished with value: 2.030628826687316 and parameters: {'n_estimators': 5000, 'num_leaves': 9, 'boosting': 'gbdt', 'max_depth': 14, 'max_bin': 32, 'min_data_in_leaf': 1, 'min_data_in_bin': 1, 'min_gain_to_split': 4.359999999999999, 'learning_rate': 0.24443810637694768, 'random_state': 0, 'feature_fraction': 0.8405255225009205, 'bagging_fraction': 0.8868053152690953, 'bagging_freq': 4, 'lambda_l1': 1.951058616522702e-06, 'lambda_l2': 3.382984643250325e-06}. Best is trial 227 with value: 1.9676895375378611.\u001b[0m\n"
     ]
    },
    {
     "name": "stdout",
     "output_type": "stream",
     "text": [
      "[100]\tvalid_0's rmse: 2.04051\n",
      "[200]\tvalid_0's rmse: 2.04051\n",
      "[300]\tvalid_0's rmse: 2.04051\n",
      "[400]\tvalid_0's rmse: 2.04051\n",
      "[500]\tvalid_0's rmse: 2.04051\n",
      "Early stopping, best iteration is:\n",
      "[43]\tvalid_0's rmse: 2.03063\n",
      "valid_score:  RMSE = 2.030628826687316\n",
      "Training until validation scores don't improve for 500 rounds\n",
      "[100]\tvalid_0's rmse: 2.08671\n"
     ]
    },
    {
     "name": "stderr",
     "output_type": "stream",
     "text": [
      "\u001b[32m[I 2022-02-23 14:49:30,711]\u001b[0m Trial 296 finished with value: 2.0400220944389904 and parameters: {'n_estimators': 10000, 'num_leaves': 9, 'boosting': 'gbdt', 'max_depth': 7, 'max_bin': 32, 'min_data_in_leaf': 1, 'min_data_in_bin': 1, 'min_gain_to_split': 2.93, 'learning_rate': 0.19833889566527543, 'random_state': 0, 'feature_fraction': 0.5776880970087676, 'bagging_fraction': 0.6199159399396483, 'bagging_freq': 2, 'lambda_l1': 0.008282972639007097, 'lambda_l2': 0.058027075715288715}. Best is trial 227 with value: 1.9676895375378611.\u001b[0m\n"
     ]
    },
    {
     "name": "stdout",
     "output_type": "stream",
     "text": [
      "[200]\tvalid_0's rmse: 2.12634\n",
      "[300]\tvalid_0's rmse: 2.12124\n",
      "[400]\tvalid_0's rmse: 2.12124\n",
      "[500]\tvalid_0's rmse: 2.12124\n",
      "Early stopping, best iteration is:\n",
      "[72]\tvalid_0's rmse: 2.04002\n",
      "valid_score:  RMSE = 2.0400220944389904\n",
      "Training until validation scores don't improve for 500 rounds\n",
      "[100]\tvalid_0's rmse: 2.0111\n",
      "[200]\tvalid_0's rmse: 2.01453\n"
     ]
    },
    {
     "name": "stderr",
     "output_type": "stream",
     "text": [
      "\u001b[32m[I 2022-02-23 14:49:30,917]\u001b[0m Trial 297 finished with value: 1.9957185352250688 and parameters: {'n_estimators': 5000, 'num_leaves': 4, 'boosting': 'gbdt', 'max_depth': 4, 'max_bin': 32, 'min_data_in_leaf': 1, 'min_data_in_bin': 1, 'min_gain_to_split': 1.9800000000000002, 'learning_rate': 0.21185081080021065, 'random_state': 0, 'feature_fraction': 0.6203901448373487, 'bagging_fraction': 0.7634562480932565, 'bagging_freq': 1, 'lambda_l1': 0.00011247722770010045, 'lambda_l2': 0.8752723722989361}. Best is trial 227 with value: 1.9676895375378611.\u001b[0m\n"
     ]
    },
    {
     "name": "stdout",
     "output_type": "stream",
     "text": [
      "[300]\tvalid_0's rmse: 2.0286\n",
      "[400]\tvalid_0's rmse: 2.0449\n",
      "[500]\tvalid_0's rmse: 2.06759\n",
      "Early stopping, best iteration is:\n",
      "[66]\tvalid_0's rmse: 1.99572\n",
      "valid_score:  RMSE = 1.9957185352250688\n",
      "Training until validation scores don't improve for 500 rounds\n",
      "[100]\tvalid_0's rmse: 2.07185\n",
      "[200]\tvalid_0's rmse: 2.0544\n",
      "[300]\tvalid_0's rmse: 2.03129\n",
      "[400]\tvalid_0's rmse: 2.0296\n"
     ]
    },
    {
     "name": "stderr",
     "output_type": "stream",
     "text": [
      "\u001b[32m[I 2022-02-23 14:49:31,128]\u001b[0m Trial 298 finished with value: 2.0183746264281224 and parameters: {'n_estimators': 5000, 'num_leaves': 3, 'boosting': 'gbdt', 'max_depth': 10, 'max_bin': 32, 'min_data_in_leaf': 1, 'min_data_in_bin': 1, 'min_gain_to_split': 2.43, 'learning_rate': 0.07623943270845966, 'random_state': 0, 'feature_fraction': 0.9378167027288717, 'bagging_fraction': 0.4698835638321165, 'bagging_freq': 8, 'lambda_l1': 0.000631787496859517, 'lambda_l2': 0.0006063549085834033}. Best is trial 227 with value: 1.9676895375378611.\u001b[0m\n"
     ]
    },
    {
     "name": "stdout",
     "output_type": "stream",
     "text": [
      "[500]\tvalid_0's rmse: 2.02224\n",
      "[600]\tvalid_0's rmse: 2.03988\n",
      "[700]\tvalid_0's rmse: 2.06671\n",
      "[800]\tvalid_0's rmse: 2.09525\n",
      "[900]\tvalid_0's rmse: 2.12021\n",
      "Early stopping, best iteration is:\n",
      "[479]\tvalid_0's rmse: 2.01837\n",
      "valid_score:  RMSE = 2.0183746264281224\n",
      "Training until validation scores don't improve for 500 rounds\n",
      "[100]\tvalid_0's rmse: 2.08025\n"
     ]
    },
    {
     "name": "stderr",
     "output_type": "stream",
     "text": [
      "\u001b[32m[I 2022-02-23 14:49:31,365]\u001b[0m Trial 299 finished with value: 2.072145011740995 and parameters: {'n_estimators': 5000, 'num_leaves': 12, 'boosting': 'gbdt', 'max_depth': 14, 'max_bin': 32, 'min_data_in_leaf': 1, 'min_data_in_bin': 1, 'min_gain_to_split': 4.92, 'learning_rate': 0.18637008728621257, 'random_state': 0, 'feature_fraction': 0.579539080738684, 'bagging_fraction': 0.8248511510195343, 'bagging_freq': 1, 'lambda_l1': 2.10642057209066e-08, 'lambda_l2': 0.00010571983654874256}. Best is trial 227 with value: 1.9676895375378611.\u001b[0m\n"
     ]
    },
    {
     "name": "stdout",
     "output_type": "stream",
     "text": [
      "[200]\tvalid_0's rmse: 2.08025\n",
      "[300]\tvalid_0's rmse: 2.08025\n",
      "[400]\tvalid_0's rmse: 2.08025\n",
      "[500]\tvalid_0's rmse: 2.08025\n",
      "Early stopping, best iteration is:\n",
      "[18]\tvalid_0's rmse: 2.07215\n",
      "valid_score:  RMSE = 2.072145011740995\n",
      "Training until validation scores don't improve for 500 rounds\n",
      "[100]\tvalid_0's rmse: 2.03738\n"
     ]
    },
    {
     "name": "stderr",
     "output_type": "stream",
     "text": [
      "\u001b[32m[I 2022-02-23 14:49:31,572]\u001b[0m Trial 300 finished with value: 2.02111895718048 and parameters: {'n_estimators': 10000, 'num_leaves': 9, 'boosting': 'gbdt', 'max_depth': 7, 'max_bin': 32, 'min_data_in_leaf': 1, 'min_data_in_bin': 1, 'min_gain_to_split': 4.279999999999999, 'learning_rate': 0.23531808406792534, 'random_state': 0, 'feature_fraction': 0.9877209073200065, 'bagging_fraction': 0.8475735746304678, 'bagging_freq': 2, 'lambda_l1': 0.25614008704986263, 'lambda_l2': 5.7510151887200066e-05}. Best is trial 227 with value: 1.9676895375378611.\u001b[0m\n"
     ]
    },
    {
     "name": "stdout",
     "output_type": "stream",
     "text": [
      "[200]\tvalid_0's rmse: 2.03738\n",
      "[300]\tvalid_0's rmse: 2.03738\n",
      "[400]\tvalid_0's rmse: 2.03738\n",
      "[500]\tvalid_0's rmse: 2.03738\n",
      "Early stopping, best iteration is:\n",
      "[33]\tvalid_0's rmse: 2.02112\n",
      "valid_score:  RMSE = 2.02111895718048\n",
      "Training until validation scores don't improve for 500 rounds\n",
      "[100]\tvalid_0's rmse: 2.08773\n",
      "[200]\tvalid_0's rmse: 2.08786\n"
     ]
    },
    {
     "name": "stderr",
     "output_type": "stream",
     "text": [
      "\u001b[32m[I 2022-02-23 14:49:31,803]\u001b[0m Trial 301 finished with value: 2.0371655935105366 and parameters: {'n_estimators': 5000, 'num_leaves': 6, 'boosting': 'gbdt', 'max_depth': 7, 'max_bin': 32, 'min_data_in_leaf': 1, 'min_data_in_bin': 1, 'min_gain_to_split': 3.35, 'learning_rate': 0.26412191806381263, 'random_state': 0, 'feature_fraction': 0.4149921129859255, 'bagging_fraction': 0.6822836998869453, 'bagging_freq': 1, 'lambda_l1': 0.0012043448443917338, 'lambda_l2': 0.033769327579766334}. Best is trial 227 with value: 1.9676895375378611.\u001b[0m\n"
     ]
    },
    {
     "name": "stdout",
     "output_type": "stream",
     "text": [
      "[300]\tvalid_0's rmse: 2.10645\n",
      "[400]\tvalid_0's rmse: 2.14204\n",
      "[500]\tvalid_0's rmse: 2.14681\n",
      "Early stopping, best iteration is:\n",
      "[23]\tvalid_0's rmse: 2.03717\n",
      "valid_score:  RMSE = 2.0371655935105366\n",
      "Training until validation scores don't improve for 500 rounds\n",
      "[100]\tvalid_0's rmse: 2.13433\n",
      "[200]\tvalid_0's rmse: 2.13433\n"
     ]
    },
    {
     "name": "stderr",
     "output_type": "stream",
     "text": [
      "\u001b[32m[I 2022-02-23 14:49:32,031]\u001b[0m Trial 302 finished with value: 2.1313196014643405 and parameters: {'n_estimators': 10000, 'num_leaves': 9, 'boosting': 'gbdt', 'max_depth': 11, 'max_bin': 32, 'min_data_in_leaf': 1, 'min_data_in_bin': 1, 'min_gain_to_split': 4.71, 'learning_rate': 0.25791000491365007, 'random_state': 0, 'feature_fraction': 0.6749460613643106, 'bagging_fraction': 0.6821674996048053, 'bagging_freq': 1, 'lambda_l1': 0.0013208845605734616, 'lambda_l2': 1.6340474246458114e-06}. Best is trial 227 with value: 1.9676895375378611.\u001b[0m\n"
     ]
    },
    {
     "name": "stdout",
     "output_type": "stream",
     "text": [
      "[300]\tvalid_0's rmse: 2.13433\n",
      "[400]\tvalid_0's rmse: 2.13433\n",
      "[500]\tvalid_0's rmse: 2.13433\n",
      "Early stopping, best iteration is:\n",
      "[16]\tvalid_0's rmse: 2.13132\n",
      "valid_score:  RMSE = 2.1313196014643405\n",
      "Training until validation scores don't improve for 500 rounds\n",
      "[100]\tvalid_0's rmse: 2.05991\n",
      "[200]\tvalid_0's rmse: 2.05991\n"
     ]
    },
    {
     "name": "stderr",
     "output_type": "stream",
     "text": [
      "\u001b[32m[I 2022-02-23 14:49:32,236]\u001b[0m Trial 303 finished with value: 2.0592071840036117 and parameters: {'n_estimators': 10000, 'num_leaves': 15, 'boosting': 'gbdt', 'max_depth': 14, 'max_bin': 32, 'min_data_in_leaf': 1, 'min_data_in_bin': 1, 'min_gain_to_split': 4.51, 'learning_rate': 0.2814608146688493, 'random_state': 0, 'feature_fraction': 0.7006378890702976, 'bagging_fraction': 0.8915786230383632, 'bagging_freq': 6, 'lambda_l1': 0.48557310846763035, 'lambda_l2': 0.024078679452693603}. Best is trial 227 with value: 1.9676895375378611.\u001b[0m\n"
     ]
    },
    {
     "name": "stdout",
     "output_type": "stream",
     "text": [
      "[300]\tvalid_0's rmse: 2.05991\n",
      "[400]\tvalid_0's rmse: 2.05991\n",
      "[500]\tvalid_0's rmse: 2.05991\n",
      "Early stopping, best iteration is:\n",
      "[27]\tvalid_0's rmse: 2.05921\n",
      "valid_score:  RMSE = 2.0592071840036117\n",
      "Training until validation scores don't improve for 500 rounds\n",
      "[100]\tvalid_0's rmse: 2.07636\n",
      "[200]\tvalid_0's rmse: 2.07636\n"
     ]
    },
    {
     "name": "stderr",
     "output_type": "stream",
     "text": [
      "\u001b[32m[I 2022-02-23 14:49:32,433]\u001b[0m Trial 304 finished with value: 2.0419610177740286 and parameters: {'n_estimators': 10000, 'num_leaves': 12, 'boosting': 'gbdt', 'max_depth': 13, 'max_bin': 32, 'min_data_in_leaf': 1, 'min_data_in_bin': 1, 'min_gain_to_split': 1.9800000000000002, 'learning_rate': 0.27947407410588415, 'random_state': 0, 'feature_fraction': 0.8973407034907295, 'bagging_fraction': 0.9323183347345287, 'bagging_freq': 5, 'lambda_l1': 2.0428443141348608e-08, 'lambda_l2': 0.420042468946911}. Best is trial 227 with value: 1.9676895375378611.\u001b[0m\n"
     ]
    },
    {
     "name": "stdout",
     "output_type": "stream",
     "text": [
      "[300]\tvalid_0's rmse: 2.07636\n",
      "[400]\tvalid_0's rmse: 2.07636\n",
      "[500]\tvalid_0's rmse: 2.07636\n",
      "Early stopping, best iteration is:\n",
      "[25]\tvalid_0's rmse: 2.04196\n",
      "valid_score:  RMSE = 2.0419610177740286\n",
      "Training until validation scores don't improve for 500 rounds\n",
      "[100]\tvalid_0's rmse: 2.0849\n",
      "[200]\tvalid_0's rmse: 2.04757\n",
      "[300]\tvalid_0's rmse: 2.03626\n",
      "[400]\tvalid_0's rmse: 2.03721\n",
      "[500]\tvalid_0's rmse: 2.03767\n",
      "[600]\tvalid_0's rmse: 2.03556\n",
      "[700]\tvalid_0's rmse: 2.03232\n",
      "[800]\tvalid_0's rmse: 2.01721\n",
      "[900]\tvalid_0's rmse: 2.02765\n",
      "[1000]\tvalid_0's rmse: 2.0384\n"
     ]
    },
    {
     "name": "stderr",
     "output_type": "stream",
     "text": [
      "\u001b[32m[I 2022-02-23 14:49:33,245]\u001b[0m Trial 305 finished with value: 2.0165725442666673 and parameters: {'n_estimators': 5000, 'num_leaves': 7, 'boosting': 'gbdt', 'max_depth': 12, 'max_bin': 32, 'min_data_in_leaf': 1, 'min_data_in_bin': 1, 'min_gain_to_split': 1.9100000000000001, 'learning_rate': 0.03366526221137144, 'random_state': 0, 'feature_fraction': 0.9113769379854311, 'bagging_fraction': 0.709645798779176, 'bagging_freq': 6, 'lambda_l1': 0.009363821845069757, 'lambda_l2': 1.3888103886067642e-05}. Best is trial 227 with value: 1.9676895375378611.\u001b[0m\n"
     ]
    },
    {
     "name": "stdout",
     "output_type": "stream",
     "text": [
      "[1100]\tvalid_0's rmse: 2.039\n",
      "[1200]\tvalid_0's rmse: 2.03814\n",
      "Early stopping, best iteration is:\n",
      "[796]\tvalid_0's rmse: 2.01657\n",
      "valid_score:  RMSE = 2.0165725442666673\n",
      "Training until validation scores don't improve for 500 rounds\n",
      "[100]\tvalid_0's rmse: 2.04835\n"
     ]
    },
    {
     "name": "stderr",
     "output_type": "stream",
     "text": [
      "\u001b[32m[I 2022-02-23 14:49:33,538]\u001b[0m Trial 306 finished with value: 2.0342762981083236 and parameters: {'n_estimators': 5000, 'num_leaves': 12, 'boosting': 'gbdt', 'max_depth': 15, 'max_bin': 32, 'min_data_in_leaf': 1, 'min_data_in_bin': 1, 'min_gain_to_split': 4.26, 'learning_rate': 0.05357016406069517, 'random_state': 0, 'feature_fraction': 0.6121983744426932, 'bagging_fraction': 0.6889037182258486, 'bagging_freq': 6, 'lambda_l1': 0.0652571293045926, 'lambda_l2': 1.8694554201992983e-05}. Best is trial 227 with value: 1.9676895375378611.\u001b[0m\n"
     ]
    },
    {
     "name": "stdout",
     "output_type": "stream",
     "text": [
      "[200]\tvalid_0's rmse: 2.04079\n",
      "[300]\tvalid_0's rmse: 2.04018\n",
      "[400]\tvalid_0's rmse: 2.04018\n",
      "[500]\tvalid_0's rmse: 2.04018\n",
      "Early stopping, best iteration is:\n",
      "[91]\tvalid_0's rmse: 2.03428\n",
      "valid_score:  RMSE = 2.0342762981083236\n",
      "Training until validation scores don't improve for 500 rounds\n"
     ]
    },
    {
     "name": "stderr",
     "output_type": "stream",
     "text": [
      "\u001b[32m[I 2022-02-23 14:49:33,846]\u001b[0m Trial 307 finished with value: 2.0610132719551215 and parameters: {'n_estimators': 10000, 'num_leaves': 13, 'boosting': 'gbdt', 'max_depth': 13, 'max_bin': 32, 'min_data_in_leaf': 1, 'min_data_in_bin': 1, 'min_gain_to_split': 0.22, 'learning_rate': 0.2812341401400765, 'random_state': 0, 'feature_fraction': 0.9065007273327281, 'bagging_fraction': 0.8722666690343216, 'bagging_freq': 8, 'lambda_l1': 0.15091219879611076, 'lambda_l2': 0.0570850669545764}. Best is trial 227 with value: 1.9676895375378611.\u001b[0m\n"
     ]
    },
    {
     "name": "stdout",
     "output_type": "stream",
     "text": [
      "[100]\tvalid_0's rmse: 2.15229\n",
      "[200]\tvalid_0's rmse: 2.18786\n",
      "[300]\tvalid_0's rmse: 2.18586\n",
      "[400]\tvalid_0's rmse: 2.18586\n",
      "[500]\tvalid_0's rmse: 2.18586\n",
      "Early stopping, best iteration is:\n",
      "[38]\tvalid_0's rmse: 2.06101\n",
      "valid_score:  RMSE = 2.0610132719551215\n",
      "Training until validation scores don't improve for 500 rounds\n"
     ]
    },
    {
     "name": "stderr",
     "output_type": "stream",
     "text": [
      "\u001b[32m[I 2022-02-23 14:49:34,017]\u001b[0m Trial 308 finished with value: 2.0522300377774254 and parameters: {'n_estimators': 10000, 'num_leaves': 4, 'boosting': 'gbdt', 'max_depth': 9, 'max_bin': 32, 'min_data_in_leaf': 1, 'min_data_in_bin': 1, 'min_gain_to_split': 3.87, 'learning_rate': 0.13519656050187062, 'random_state': 0, 'feature_fraction': 0.44115161888345567, 'bagging_fraction': 0.47850529136718223, 'bagging_freq': 7, 'lambda_l1': 3.009799291043637e-06, 'lambda_l2': 0.15434130788002906}. Best is trial 227 with value: 1.9676895375378611.\u001b[0m\n"
     ]
    },
    {
     "name": "stdout",
     "output_type": "stream",
     "text": [
      "[100]\tvalid_0's rmse: 2.05721\n",
      "[200]\tvalid_0's rmse: 2.07826\n",
      "[300]\tvalid_0's rmse: 2.12665\n",
      "[400]\tvalid_0's rmse: 2.12972\n",
      "[500]\tvalid_0's rmse: 2.15195\n",
      "Early stopping, best iteration is:\n",
      "[96]\tvalid_0's rmse: 2.05223\n",
      "valid_score:  RMSE = 2.0522300377774254\n",
      "Training until validation scores don't improve for 500 rounds\n"
     ]
    },
    {
     "name": "stderr",
     "output_type": "stream",
     "text": [
      "\u001b[32m[I 2022-02-23 14:49:34,352]\u001b[0m Trial 309 finished with value: 2.0590411398474395 and parameters: {'n_estimators': 5000, 'num_leaves': 12, 'boosting': 'gbdt', 'max_depth': 15, 'max_bin': 32, 'min_data_in_leaf': 1, 'min_data_in_bin': 1, 'min_gain_to_split': 1.4900000000000002, 'learning_rate': 0.10481552325324277, 'random_state': 0, 'feature_fraction': 0.9949772830670147, 'bagging_fraction': 0.8189784781415088, 'bagging_freq': 7, 'lambda_l1': 3.2415282520202154e-08, 'lambda_l2': 0.012180046148043855}. Best is trial 227 with value: 1.9676895375378611.\u001b[0m\n"
     ]
    },
    {
     "name": "stdout",
     "output_type": "stream",
     "text": [
      "[100]\tvalid_0's rmse: 2.07487\n",
      "[200]\tvalid_0's rmse: 2.08356\n",
      "[300]\tvalid_0's rmse: 2.08438\n",
      "[400]\tvalid_0's rmse: 2.08438\n",
      "[500]\tvalid_0's rmse: 2.08438\n",
      "Early stopping, best iteration is:\n",
      "[59]\tvalid_0's rmse: 2.05904\n",
      "valid_score:  RMSE = 2.0590411398474395\n",
      "Training until validation scores don't improve for 500 rounds\n",
      "[100]\tvalid_0's rmse: 2.05288\n",
      "[200]\tvalid_0's rmse: 2.01879\n",
      "[300]\tvalid_0's rmse: 2.01256\n",
      "[400]\tvalid_0's rmse: 2.00207\n",
      "[500]\tvalid_0's rmse: 2.00638\n",
      "[600]\tvalid_0's rmse: 2.00638\n",
      "[700]\tvalid_0's rmse: 2.00638\n"
     ]
    },
    {
     "name": "stderr",
     "output_type": "stream",
     "text": [
      "\u001b[32m[I 2022-02-23 14:49:34,872]\u001b[0m Trial 310 finished with value: 2.000990942837927 and parameters: {'n_estimators': 5000, 'num_leaves': 7, 'boosting': 'gbdt', 'max_depth': 3, 'max_bin': 32, 'min_data_in_leaf': 1, 'min_data_in_bin': 1, 'min_gain_to_split': 1.57, 'learning_rate': 0.04178706914363886, 'random_state': 0, 'feature_fraction': 0.9175242788549757, 'bagging_fraction': 0.957203323929492, 'bagging_freq': 6, 'lambda_l1': 0.00031132548936690815, 'lambda_l2': 4.764704343822376e-06}. Best is trial 227 with value: 1.9676895375378611.\u001b[0m\n"
     ]
    },
    {
     "name": "stdout",
     "output_type": "stream",
     "text": [
      "[800]\tvalid_0's rmse: 2.00638\n",
      "[900]\tvalid_0's rmse: 2.00638\n",
      "Early stopping, best iteration is:\n",
      "[408]\tvalid_0's rmse: 2.00099\n",
      "valid_score:  RMSE = 2.000990942837927\n",
      "Training until validation scores don't improve for 500 rounds\n",
      "[100]\tvalid_0's rmse: 2.2042\n",
      "[200]\tvalid_0's rmse: 2.23488\n",
      "[300]\tvalid_0's rmse: 2.27008\n"
     ]
    },
    {
     "name": "stderr",
     "output_type": "stream",
     "text": [
      "\u001b[32m[I 2022-02-23 14:49:35,329]\u001b[0m Trial 311 finished with value: 2.0331746739492225 and parameters: {'n_estimators': 10000, 'num_leaves': 13, 'boosting': 'gbdt', 'max_depth': 11, 'max_bin': 32, 'min_data_in_leaf': 1, 'min_data_in_bin': 1, 'min_gain_to_split': 1.4800000000000002, 'learning_rate': 0.28910496306383443, 'random_state': 0, 'feature_fraction': 0.43454874688850603, 'bagging_fraction': 0.5581070771261556, 'bagging_freq': 1, 'lambda_l1': 0.003783939960522078, 'lambda_l2': 0.0010420792580616046}. Best is trial 227 with value: 1.9676895375378611.\u001b[0m\n"
     ]
    },
    {
     "name": "stdout",
     "output_type": "stream",
     "text": [
      "[400]\tvalid_0's rmse: 2.26108\n",
      "[500]\tvalid_0's rmse: 2.2762\n",
      "Early stopping, best iteration is:\n",
      "[25]\tvalid_0's rmse: 2.03317\n",
      "valid_score:  RMSE = 2.0331746739492225\n",
      "Training until validation scores don't improve for 500 rounds\n",
      "[100]\tvalid_0's rmse: 2.31961\n",
      "[200]\tvalid_0's rmse: 2.28746\n",
      "[300]\tvalid_0's rmse: 2.32558\n"
     ]
    },
    {
     "name": "stderr",
     "output_type": "stream",
     "text": [
      "\u001b[32m[I 2022-02-23 14:49:35,568]\u001b[0m Trial 312 finished with value: 2.108535735181377 and parameters: {'n_estimators': 10000, 'num_leaves': 8, 'boosting': 'gbdt', 'max_depth': 14, 'max_bin': 32, 'min_data_in_leaf': 1, 'min_data_in_bin': 1, 'min_gain_to_split': 2.7800000000000002, 'learning_rate': 0.27883019660523656, 'random_state': 0, 'feature_fraction': 0.715656860252615, 'bagging_fraction': 0.46023240054280284, 'bagging_freq': 1, 'lambda_l1': 6.683202756800223e-07, 'lambda_l2': 4.059416854123325e-07}. Best is trial 227 with value: 1.9676895375378611.\u001b[0m\n"
     ]
    },
    {
     "name": "stdout",
     "output_type": "stream",
     "text": [
      "[400]\tvalid_0's rmse: 2.33262\n",
      "[500]\tvalid_0's rmse: 2.33262\n",
      "Early stopping, best iteration is:\n",
      "[26]\tvalid_0's rmse: 2.10854\n",
      "valid_score:  RMSE = 2.108535735181377\n",
      "Training until validation scores don't improve for 500 rounds\n",
      "[100]\tvalid_0's rmse: 2.03052\n",
      "[200]\tvalid_0's rmse: 2.01879\n",
      "[300]\tvalid_0's rmse: 2.01879\n"
     ]
    },
    {
     "name": "stderr",
     "output_type": "stream",
     "text": [
      "\u001b[32m[I 2022-02-23 14:49:35,857]\u001b[0m Trial 313 finished with value: 2.0187896834131633 and parameters: {'n_estimators': 10000, 'num_leaves': 4, 'boosting': 'gbdt', 'max_depth': 2, 'max_bin': 32, 'min_data_in_leaf': 1, 'min_data_in_bin': 1, 'min_gain_to_split': 1.3, 'learning_rate': 0.15013089972544466, 'random_state': 0, 'feature_fraction': 0.6735807266794571, 'bagging_fraction': 0.9891361073819813, 'bagging_freq': 5, 'lambda_l1': 0.882067859503754, 'lambda_l2': 0.14752745883525512}. Best is trial 227 with value: 1.9676895375378611.\u001b[0m\n"
     ]
    },
    {
     "name": "stdout",
     "output_type": "stream",
     "text": [
      "[400]\tvalid_0's rmse: 2.01879\n",
      "[500]\tvalid_0's rmse: 2.01879\n",
      "[600]\tvalid_0's rmse: 2.01879\n",
      "Early stopping, best iteration is:\n",
      "[188]\tvalid_0's rmse: 2.01828\n",
      "valid_score:  RMSE = 2.0187896834131633\n",
      "Training until validation scores don't improve for 500 rounds\n",
      "[100]\tvalid_0's rmse: 2.06594\n",
      "[200]\tvalid_0's rmse: 2.06855\n",
      "[300]\tvalid_0's rmse: 2.05934\n",
      "[400]\tvalid_0's rmse: 2.05807\n",
      "[500]\tvalid_0's rmse: 2.06158\n",
      "[600]\tvalid_0's rmse: 2.06508\n",
      "[700]\tvalid_0's rmse: 2.06508\n",
      "[800]\tvalid_0's rmse: 2.06508\n"
     ]
    },
    {
     "name": "stderr",
     "output_type": "stream",
     "text": [
      "\u001b[32m[I 2022-02-23 14:49:36,488]\u001b[0m Trial 314 finished with value: 2.0556166838732928 and parameters: {'n_estimators': 10000, 'num_leaves': 16, 'boosting': 'gbdt', 'max_depth': 13, 'max_bin': 32, 'min_data_in_leaf': 1, 'min_data_in_bin': 1, 'min_gain_to_split': 0.9, 'learning_rate': 0.06691819255434736, 'random_state': 0, 'feature_fraction': 0.7831726048409735, 'bagging_fraction': 0.7085884529268669, 'bagging_freq': 1, 'lambda_l1': 5.688304767985324e-08, 'lambda_l2': 0.014589096575704945}. Best is trial 227 with value: 1.9676895375378611.\u001b[0m\n"
     ]
    },
    {
     "name": "stdout",
     "output_type": "stream",
     "text": [
      "Early stopping, best iteration is:\n",
      "[373]\tvalid_0's rmse: 2.05562\n",
      "valid_score:  RMSE = 2.0556166838732928\n",
      "Training until validation scores don't improve for 500 rounds\n",
      "[100]\tvalid_0's rmse: 2.00974\n",
      "[200]\tvalid_0's rmse: 2.03845\n",
      "[300]\tvalid_0's rmse: 2.07596\n",
      "[400]\tvalid_0's rmse: 2.09402\n"
     ]
    },
    {
     "name": "stderr",
     "output_type": "stream",
     "text": [
      "\u001b[32m[I 2022-02-23 14:49:37,010]\u001b[0m Trial 315 finished with value: 2.004935088642825 and parameters: {'n_estimators': 10000, 'num_leaves': 14, 'boosting': 'gbdt', 'max_depth': 13, 'max_bin': 32, 'min_data_in_leaf': 1, 'min_data_in_bin': 1, 'min_gain_to_split': 1.3, 'learning_rate': 0.08860489288993331, 'random_state': 0, 'feature_fraction': 0.8182781823626851, 'bagging_fraction': 0.4219978352161675, 'bagging_freq': 7, 'lambda_l1': 0.2056124386804243, 'lambda_l2': 0.006058981968043384}. Best is trial 227 with value: 1.9676895375378611.\u001b[0m\n"
     ]
    },
    {
     "name": "stdout",
     "output_type": "stream",
     "text": [
      "[500]\tvalid_0's rmse: 2.11569\n",
      "Early stopping, best iteration is:\n",
      "[84]\tvalid_0's rmse: 2.00494\n",
      "valid_score:  RMSE = 2.004935088642825\n",
      "Training until validation scores don't improve for 500 rounds\n",
      "[100]\tvalid_0's rmse: 2.08921\n",
      "[200]\tvalid_0's rmse: 2.06506\n",
      "[300]\tvalid_0's rmse: 2.07035\n"
     ]
    },
    {
     "name": "stderr",
     "output_type": "stream",
     "text": [
      "\u001b[32m[I 2022-02-23 14:49:37,241]\u001b[0m Trial 316 finished with value: 2.0449050835629974 and parameters: {'n_estimators': 10000, 'num_leaves': 6, 'boosting': 'gbdt', 'max_depth': 13, 'max_bin': 32, 'min_data_in_leaf': 1, 'min_data_in_bin': 1, 'min_gain_to_split': 2.93, 'learning_rate': 0.15312623963655006, 'random_state': 0, 'feature_fraction': 0.8575189571440429, 'bagging_fraction': 0.6115315646410674, 'bagging_freq': 8, 'lambda_l1': 5.8486358256364996e-06, 'lambda_l2': 1.402952514612025e-05}. Best is trial 227 with value: 1.9676895375378611.\u001b[0m\n"
     ]
    },
    {
     "name": "stdout",
     "output_type": "stream",
     "text": [
      "[400]\tvalid_0's rmse: 2.07035\n",
      "[500]\tvalid_0's rmse: 2.07035\n",
      "Early stopping, best iteration is:\n",
      "[75]\tvalid_0's rmse: 2.04491\n",
      "valid_score:  RMSE = 2.0449050835629974\n",
      "Training until validation scores don't improve for 500 rounds\n",
      "[100]\tvalid_0's rmse: 2.08161\n",
      "[200]\tvalid_0's rmse: 2.0947\n",
      "[300]\tvalid_0's rmse: 2.0947\n"
     ]
    },
    {
     "name": "stderr",
     "output_type": "stream",
     "text": [
      "\u001b[32m[I 2022-02-23 14:49:37,461]\u001b[0m Trial 317 finished with value: 2.0521751792581284 and parameters: {'n_estimators': 5000, 'num_leaves': 7, 'boosting': 'gbdt', 'max_depth': 5, 'max_bin': 32, 'min_data_in_leaf': 1, 'min_data_in_bin': 1, 'min_gain_to_split': 2.0, 'learning_rate': 0.23650994491930774, 'random_state': 0, 'feature_fraction': 0.638927774457499, 'bagging_fraction': 0.8952382065466653, 'bagging_freq': 5, 'lambda_l1': 6.657842027128498e-06, 'lambda_l2': 4.899296450815389e-05}. Best is trial 227 with value: 1.9676895375378611.\u001b[0m\n"
     ]
    },
    {
     "name": "stdout",
     "output_type": "stream",
     "text": [
      "[400]\tvalid_0's rmse: 2.0947\n",
      "[500]\tvalid_0's rmse: 2.0947\n",
      "Early stopping, best iteration is:\n",
      "[65]\tvalid_0's rmse: 2.05218\n",
      "valid_score:  RMSE = 2.0521751792581284\n",
      "Training until validation scores don't improve for 500 rounds\n",
      "[100]\tvalid_0's rmse: 2.04997\n",
      "[200]\tvalid_0's rmse: 2.04524\n",
      "[300]\tvalid_0's rmse: 2.02643\n",
      "[400]\tvalid_0's rmse: 2.02144\n",
      "[500]\tvalid_0's rmse: 2.0161\n",
      "[600]\tvalid_0's rmse: 2.01814\n",
      "[700]\tvalid_0's rmse: 2.00287\n",
      "[800]\tvalid_0's rmse: 2.01081\n"
     ]
    },
    {
     "name": "stderr",
     "output_type": "stream",
     "text": [
      "\u001b[32m[I 2022-02-23 14:49:37,979]\u001b[0m Trial 318 finished with value: 2.0015762743751027 and parameters: {'n_estimators': 5000, 'num_leaves': 4, 'boosting': 'gbdt', 'max_depth': 13, 'max_bin': 32, 'min_data_in_leaf': 1, 'min_data_in_bin': 1, 'min_gain_to_split': 0.55, 'learning_rate': 0.06537510160458428, 'random_state': 0, 'feature_fraction': 0.9390437789144669, 'bagging_fraction': 0.5212485694152789, 'bagging_freq': 5, 'lambda_l1': 0.007101473083921901, 'lambda_l2': 3.1095465939299944e-07}. Best is trial 227 with value: 1.9676895375378611.\u001b[0m\n"
     ]
    },
    {
     "name": "stdout",
     "output_type": "stream",
     "text": [
      "[900]\tvalid_0's rmse: 2.03976\n",
      "[1000]\tvalid_0's rmse: 2.03684\n",
      "[1100]\tvalid_0's rmse: 2.04069\n",
      "[1200]\tvalid_0's rmse: 2.03117\n",
      "Early stopping, best iteration is:\n",
      "[731]\tvalid_0's rmse: 2.00158\n",
      "valid_score:  RMSE = 2.0015762743751027\n",
      "Training until validation scores don't improve for 500 rounds\n",
      "[100]\tvalid_0's rmse: 2.57254\n",
      "[200]\tvalid_0's rmse: 2.35024\n",
      "[300]\tvalid_0's rmse: 2.22803\n",
      "[400]\tvalid_0's rmse: 2.15264\n",
      "[500]\tvalid_0's rmse: 2.11057\n",
      "[600]\tvalid_0's rmse: 2.08358\n",
      "[700]\tvalid_0's rmse: 2.06643\n",
      "[800]\tvalid_0's rmse: 2.05137\n",
      "[900]\tvalid_0's rmse: 2.04143\n",
      "[1000]\tvalid_0's rmse: 2.03499\n",
      "[1100]\tvalid_0's rmse: 2.03077\n",
      "[1200]\tvalid_0's rmse: 2.02492\n",
      "[1300]\tvalid_0's rmse: 2.02259\n",
      "[1400]\tvalid_0's rmse: 2.02083\n",
      "[1500]\tvalid_0's rmse: 2.01804\n",
      "[1600]\tvalid_0's rmse: 2.01757\n",
      "[1700]\tvalid_0's rmse: 2.01559\n",
      "[1800]\tvalid_0's rmse: 2.01348\n",
      "[1900]\tvalid_0's rmse: 2.01206\n",
      "[2000]\tvalid_0's rmse: 2.01054\n",
      "[2100]\tvalid_0's rmse: 2.00955\n",
      "[2200]\tvalid_0's rmse: 2.0089\n",
      "[2300]\tvalid_0's rmse: 2.00863\n",
      "[2400]\tvalid_0's rmse: 2.00655\n",
      "[2500]\tvalid_0's rmse: 2.00631\n",
      "[2600]\tvalid_0's rmse: 2.00552\n",
      "[2700]\tvalid_0's rmse: 2.00547\n",
      "[2800]\tvalid_0's rmse: 2.00518\n",
      "[2900]\tvalid_0's rmse: 2.00525\n",
      "[3000]\tvalid_0's rmse: 2.00443\n",
      "[3100]\tvalid_0's rmse: 2.00508\n",
      "[3200]\tvalid_0's rmse: 2.00633\n",
      "[3300]\tvalid_0's rmse: 2.00618\n"
     ]
    },
    {
     "name": "stderr",
     "output_type": "stream",
     "text": [
      "\u001b[32m[I 2022-02-23 14:49:40,158]\u001b[0m Trial 319 finished with value: 2.0041572827149974 and parameters: {'n_estimators': 10000, 'num_leaves': 8, 'boosting': 'gbdt', 'max_depth': 12, 'max_bin': 32, 'min_data_in_leaf': 1, 'min_data_in_bin': 1, 'min_gain_to_split': 1.55, 'learning_rate': 0.0047181450194899045, 'random_state': 0, 'feature_fraction': 0.7877998171811232, 'bagging_fraction': 0.8931728530439296, 'bagging_freq': 4, 'lambda_l1': 0.003432295924306448, 'lambda_l2': 0.618486691634802}. Best is trial 227 with value: 1.9676895375378611.\u001b[0m\n"
     ]
    },
    {
     "name": "stdout",
     "output_type": "stream",
     "text": [
      "[3400]\tvalid_0's rmse: 2.00589\n",
      "[3500]\tvalid_0's rmse: 2.00616\n",
      "Early stopping, best iteration is:\n",
      "[3051]\tvalid_0's rmse: 2.00416\n",
      "valid_score:  RMSE = 2.0041572827149974\n",
      "Training until validation scores don't improve for 500 rounds\n",
      "[100]\tvalid_0's rmse: 2.01809\n",
      "[200]\tvalid_0's rmse: 2.01148\n",
      "[300]\tvalid_0's rmse: 2.00068\n",
      "[400]\tvalid_0's rmse: 2.00068\n",
      "[500]\tvalid_0's rmse: 2.00068\n",
      "[600]\tvalid_0's rmse: 2.00068\n"
     ]
    },
    {
     "name": "stderr",
     "output_type": "stream",
     "text": [
      "\u001b[32m[I 2022-02-23 14:49:40,497]\u001b[0m Trial 320 finished with value: 1.9995461015368263 and parameters: {'n_estimators': 5000, 'num_leaves': 6, 'boosting': 'gbdt', 'max_depth': 3, 'max_bin': 32, 'min_data_in_leaf': 1, 'min_data_in_bin': 1, 'min_gain_to_split': 4.63, 'learning_rate': 0.12952679728830108, 'random_state': 0, 'feature_fraction': 0.4991772476149681, 'bagging_fraction': 0.6143541670577879, 'bagging_freq': 1, 'lambda_l1': 0.0007037240963812533, 'lambda_l2': 1.6563195080647237e-07}. Best is trial 227 with value: 1.9676895375378611.\u001b[0m\n"
     ]
    },
    {
     "name": "stdout",
     "output_type": "stream",
     "text": [
      "[700]\tvalid_0's rmse: 2.00068\n",
      "Early stopping, best iteration is:\n",
      "[253]\tvalid_0's rmse: 1.99906\n",
      "valid_score:  RMSE = 1.9995461015368263\n",
      "Training until validation scores don't improve for 500 rounds\n",
      "[100]\tvalid_0's rmse: 2.00999\n",
      "[200]\tvalid_0's rmse: 2.0047\n",
      "[300]\tvalid_0's rmse: 2.00247\n",
      "[400]\tvalid_0's rmse: 2.00247\n",
      "[500]\tvalid_0's rmse: 2.00247\n"
     ]
    },
    {
     "name": "stderr",
     "output_type": "stream",
     "text": [
      "\u001b[32m[I 2022-02-23 14:49:40,711]\u001b[0m Trial 321 finished with value: 2.000878528300134 and parameters: {'n_estimators': 10000, 'num_leaves': 5, 'boosting': 'gbdt', 'max_depth': 3, 'max_bin': 32, 'min_data_in_leaf': 1, 'min_data_in_bin': 1, 'min_gain_to_split': 2.0100000000000002, 'learning_rate': 0.16818430306197452, 'random_state': 0, 'feature_fraction': 0.9088574864784463, 'bagging_fraction': 0.840518844924203, 'bagging_freq': 6, 'lambda_l1': 0.012283011459401688, 'lambda_l2': 5.084828525553366e-07}. Best is trial 227 with value: 1.9676895375378611.\u001b[0m\n"
     ]
    },
    {
     "name": "stdout",
     "output_type": "stream",
     "text": [
      "[600]\tvalid_0's rmse: 2.00247\n",
      "Early stopping, best iteration is:\n",
      "[113]\tvalid_0's rmse: 2.00088\n",
      "valid_score:  RMSE = 2.000878528300134\n",
      "Training until validation scores don't improve for 500 rounds\n",
      "[100]\tvalid_0's rmse: 2.08364\n",
      "[200]\tvalid_0's rmse: 2.06447\n",
      "[300]\tvalid_0's rmse: 2.06024\n",
      "[400]\tvalid_0's rmse: 2.06014\n",
      "[500]\tvalid_0's rmse: 2.06014\n"
     ]
    },
    {
     "name": "stderr",
     "output_type": "stream",
     "text": [
      "\u001b[32m[I 2022-02-23 14:49:40,990]\u001b[0m Trial 322 finished with value: 2.0559719992214713 and parameters: {'n_estimators': 5000, 'num_leaves': 4, 'boosting': 'gbdt', 'max_depth': 8, 'max_bin': 32, 'min_data_in_leaf': 1, 'min_data_in_bin': 1, 'min_gain_to_split': 3.91, 'learning_rate': 0.09384874255605728, 'random_state': 0, 'feature_fraction': 0.8346759877772097, 'bagging_fraction': 0.8070943293877246, 'bagging_freq': 5, 'lambda_l1': 7.20643388812115e-06, 'lambda_l2': 2.5921270442632906e-08}. Best is trial 227 with value: 1.9676895375378611.\u001b[0m\n"
     ]
    },
    {
     "name": "stdout",
     "output_type": "stream",
     "text": [
      "[600]\tvalid_0's rmse: 2.06014\n",
      "[700]\tvalid_0's rmse: 2.06014\n",
      "Early stopping, best iteration is:\n",
      "[286]\tvalid_0's rmse: 2.05597\n",
      "valid_score:  RMSE = 2.0559719992214713\n",
      "Training until validation scores don't improve for 500 rounds\n",
      "[100]\tvalid_0's rmse: 2.02757\n",
      "[200]\tvalid_0's rmse: 2.03229\n"
     ]
    },
    {
     "name": "stderr",
     "output_type": "stream",
     "text": [
      "\u001b[32m[I 2022-02-23 14:49:41,237]\u001b[0m Trial 323 finished with value: 2.0035577167536327 and parameters: {'n_estimators': 5000, 'num_leaves': 12, 'boosting': 'gbdt', 'max_depth': 9, 'max_bin': 32, 'min_data_in_leaf': 1, 'min_data_in_bin': 1, 'min_gain_to_split': 1.54, 'learning_rate': 0.11479032912442261, 'random_state': 0, 'feature_fraction': 0.7835648353740401, 'bagging_fraction': 0.8715875868191364, 'bagging_freq': 8, 'lambda_l1': 0.006790763299206839, 'lambda_l2': 0.14215569310338752}. Best is trial 227 with value: 1.9676895375378611.\u001b[0m\n"
     ]
    },
    {
     "name": "stdout",
     "output_type": "stream",
     "text": [
      "[300]\tvalid_0's rmse: 2.03229\n",
      "[400]\tvalid_0's rmse: 2.03229\n",
      "[500]\tvalid_0's rmse: 2.03229\n",
      "Early stopping, best iteration is:\n",
      "[49]\tvalid_0's rmse: 2.00356\n",
      "valid_score:  RMSE = 2.0035577167536327\n",
      "Training until validation scores don't improve for 500 rounds\n",
      "[100]\tvalid_0's rmse: 2.12327\n",
      "[200]\tvalid_0's rmse: 2.03751\n",
      "[300]\tvalid_0's rmse: 2.02293\n",
      "[400]\tvalid_0's rmse: 2.01596\n",
      "[500]\tvalid_0's rmse: 2.01268\n",
      "[600]\tvalid_0's rmse: 2.02001\n"
     ]
    },
    {
     "name": "stderr",
     "output_type": "stream",
     "text": [
      "\u001b[32m[I 2022-02-23 14:49:41,742]\u001b[0m Trial 324 finished with value: 2.0073393991718826 and parameters: {'n_estimators': 5000, 'num_leaves': 8, 'boosting': 'gbdt', 'max_depth': 13, 'max_bin': 32, 'min_data_in_leaf': 1, 'min_data_in_bin': 1, 'min_gain_to_split': 3.58, 'learning_rate': 0.022282080352797436, 'random_state': 0, 'feature_fraction': 0.5699869605000534, 'bagging_fraction': 0.5734371521201659, 'bagging_freq': 3, 'lambda_l1': 2.3168733290924566e-05, 'lambda_l2': 1.0294280512945919e-08}. Best is trial 227 with value: 1.9676895375378611.\u001b[0m\n"
     ]
    },
    {
     "name": "stdout",
     "output_type": "stream",
     "text": [
      "[700]\tvalid_0's rmse: 2.02573\n",
      "[800]\tvalid_0's rmse: 2.02618\n",
      "[900]\tvalid_0's rmse: 2.03099\n",
      "Early stopping, best iteration is:\n",
      "[470]\tvalid_0's rmse: 2.00734\n",
      "valid_score:  RMSE = 2.0073393991718826\n",
      "Training until validation scores don't improve for 500 rounds\n",
      "[100]\tvalid_0's rmse: 2.08438\n",
      "[200]\tvalid_0's rmse: 2.09865\n",
      "[300]\tvalid_0's rmse: 2.11103\n"
     ]
    },
    {
     "name": "stderr",
     "output_type": "stream",
     "text": [
      "\u001b[32m[I 2022-02-23 14:49:42,191]\u001b[0m Trial 325 finished with value: 2.06464774835521 and parameters: {'n_estimators': 5000, 'num_leaves': 16, 'boosting': 'gbdt', 'max_depth': 16, 'max_bin': 32, 'min_data_in_leaf': 1, 'min_data_in_bin': 1, 'min_gain_to_split': 2.07, 'learning_rate': 0.09179145196149173, 'random_state': 0, 'feature_fraction': 0.43049940555069965, 'bagging_fraction': 0.5064686024378091, 'bagging_freq': 3, 'lambda_l1': 2.2440357119216335e-07, 'lambda_l2': 0.003595861879876593}. Best is trial 227 with value: 1.9676895375378611.\u001b[0m\n"
     ]
    },
    {
     "name": "stdout",
     "output_type": "stream",
     "text": [
      "[400]\tvalid_0's rmse: 2.1328\n",
      "[500]\tvalid_0's rmse: 2.12515\n",
      "Early stopping, best iteration is:\n",
      "[47]\tvalid_0's rmse: 2.06465\n",
      "valid_score:  RMSE = 2.06464774835521\n",
      "Training until validation scores don't improve for 500 rounds\n",
      "[100]\tvalid_0's rmse: 2.03048\n"
     ]
    },
    {
     "name": "stderr",
     "output_type": "stream",
     "text": [
      "\u001b[32m[I 2022-02-23 14:49:42,495]\u001b[0m Trial 326 finished with value: 2.0073871209430125 and parameters: {'n_estimators': 5000, 'num_leaves': 9, 'boosting': 'gbdt', 'max_depth': 11, 'max_bin': 32, 'min_data_in_leaf': 1, 'min_data_in_bin': 1, 'min_gain_to_split': 1.85, 'learning_rate': 0.07792201635950266, 'random_state': 0, 'feature_fraction': 0.7907423736147465, 'bagging_fraction': 0.6731350596580159, 'bagging_freq': 6, 'lambda_l1': 1.787160268616901e-08, 'lambda_l2': 0.008029983479856742}. Best is trial 227 with value: 1.9676895375378611.\u001b[0m\n"
     ]
    },
    {
     "name": "stdout",
     "output_type": "stream",
     "text": [
      "[200]\tvalid_0's rmse: 2.01254\n",
      "[300]\tvalid_0's rmse: 2.02854\n",
      "[400]\tvalid_0's rmse: 2.04058\n",
      "[500]\tvalid_0's rmse: 2.04567\n",
      "[600]\tvalid_0's rmse: 2.04567\n",
      "Early stopping, best iteration is:\n",
      "[158]\tvalid_0's rmse: 2.00739\n",
      "valid_score:  RMSE = 2.0073871209430125\n",
      "Training until validation scores don't improve for 500 rounds\n",
      "[100]\tvalid_0's rmse: 2.02173\n",
      "[200]\tvalid_0's rmse: 2.0062\n",
      "[300]\tvalid_0's rmse: 2.00322\n",
      "[400]\tvalid_0's rmse: 2.00322\n",
      "[500]\tvalid_0's rmse: 2.00322\n",
      "[600]\tvalid_0's rmse: 2.00322\n"
     ]
    },
    {
     "name": "stderr",
     "output_type": "stream",
     "text": [
      "\u001b[32m[I 2022-02-23 14:49:42,840]\u001b[0m Trial 327 finished with value: 2.003216334537493 and parameters: {'n_estimators': 5000, 'num_leaves': 11, 'boosting': 'gbdt', 'max_depth': 6, 'max_bin': 32, 'min_data_in_leaf': 1, 'min_data_in_bin': 1, 'min_gain_to_split': 2.66, 'learning_rate': 0.06700554305031761, 'random_state': 0, 'feature_fraction': 0.7084871823830173, 'bagging_fraction': 0.8996039983562893, 'bagging_freq': 6, 'lambda_l1': 5.578374916635436e-06, 'lambda_l2': 0.3698911453631966}. Best is trial 227 with value: 1.9676895375378611.\u001b[0m\n"
     ]
    },
    {
     "name": "stdout",
     "output_type": "stream",
     "text": [
      "[700]\tvalid_0's rmse: 2.00322\n",
      "Early stopping, best iteration is:\n",
      "[218]\tvalid_0's rmse: 2.00322\n",
      "valid_score:  RMSE = 2.003216334537493\n",
      "Training until validation scores don't improve for 500 rounds\n",
      "[100]\tvalid_0's rmse: 2.06716\n",
      "[200]\tvalid_0's rmse: 2.05856\n"
     ]
    },
    {
     "name": "stderr",
     "output_type": "stream",
     "text": [
      "\u001b[32m[I 2022-02-23 14:49:43,138]\u001b[0m Trial 328 finished with value: 2.0181607329903257 and parameters: {'n_estimators': 10000, 'num_leaves': 16, 'boosting': 'gbdt', 'max_depth': 5, 'max_bin': 32, 'min_data_in_leaf': 1, 'min_data_in_bin': 1, 'min_gain_to_split': 2.19, 'learning_rate': 0.13995700459958238, 'random_state': 0, 'feature_fraction': 0.4386131314614309, 'bagging_fraction': 0.5945750973905127, 'bagging_freq': 4, 'lambda_l1': 0.00219737777034052, 'lambda_l2': 0.00020562070719770665}. Best is trial 227 with value: 1.9676895375378611.\u001b[0m\n"
     ]
    },
    {
     "name": "stdout",
     "output_type": "stream",
     "text": [
      "[300]\tvalid_0's rmse: 2.06749\n",
      "[400]\tvalid_0's rmse: 2.06749\n",
      "[500]\tvalid_0's rmse: 2.06749\n",
      "Early stopping, best iteration is:\n",
      "[38]\tvalid_0's rmse: 2.01816\n",
      "valid_score:  RMSE = 2.0181607329903257\n",
      "Training until validation scores don't improve for 500 rounds\n",
      "[100]\tvalid_0's rmse: 2.06592\n",
      "[200]\tvalid_0's rmse: 2.09393\n"
     ]
    },
    {
     "name": "stderr",
     "output_type": "stream",
     "text": [
      "\u001b[32m[I 2022-02-23 14:49:43,385]\u001b[0m Trial 329 finished with value: 2.0345212115405324 and parameters: {'n_estimators': 5000, 'num_leaves': 9, 'boosting': 'gbdt', 'max_depth': 7, 'max_bin': 32, 'min_data_in_leaf': 1, 'min_data_in_bin': 1, 'min_gain_to_split': 1.56, 'learning_rate': 0.12005110925643468, 'random_state': 0, 'feature_fraction': 0.9443936345260806, 'bagging_fraction': 0.601879010146626, 'bagging_freq': 8, 'lambda_l1': 9.02514900595596e-06, 'lambda_l2': 5.535439981152127e-05}. Best is trial 227 with value: 1.9676895375378611.\u001b[0m\n"
     ]
    },
    {
     "name": "stdout",
     "output_type": "stream",
     "text": [
      "[300]\tvalid_0's rmse: 2.13242\n",
      "[400]\tvalid_0's rmse: 2.1454\n",
      "[500]\tvalid_0's rmse: 2.1454\n",
      "Early stopping, best iteration is:\n",
      "[64]\tvalid_0's rmse: 2.03452\n",
      "valid_score:  RMSE = 2.0345212115405324\n",
      "Training until validation scores don't improve for 500 rounds\n",
      "[100]\tvalid_0's rmse: 2.07051\n",
      "[200]\tvalid_0's rmse: 2.10849\n",
      "[300]\tvalid_0's rmse: 2.14532\n",
      "[400]\tvalid_0's rmse: 2.15286\n"
     ]
    },
    {
     "name": "stderr",
     "output_type": "stream",
     "text": [
      "\u001b[32m[I 2022-02-23 14:49:43,861]\u001b[0m Trial 330 finished with value: 2.067766146798654 and parameters: {'n_estimators': 10000, 'num_leaves': 13, 'boosting': 'gbdt', 'max_depth': 6, 'max_bin': 32, 'min_data_in_leaf': 1, 'min_data_in_bin': 1, 'min_gain_to_split': 0.27, 'learning_rate': 0.08887671804564619, 'random_state': 0, 'feature_fraction': 0.7335727372249803, 'bagging_fraction': 0.5288909558909626, 'bagging_freq': 6, 'lambda_l1': 0.01762857933337729, 'lambda_l2': 1.8218297982272275e-07}. Best is trial 227 with value: 1.9676895375378611.\u001b[0m\n"
     ]
    },
    {
     "name": "stdout",
     "output_type": "stream",
     "text": [
      "[500]\tvalid_0's rmse: 2.17236\n",
      "[600]\tvalid_0's rmse: 2.17813\n",
      "Early stopping, best iteration is:\n",
      "[131]\tvalid_0's rmse: 2.06777\n",
      "valid_score:  RMSE = 2.067766146798654\n",
      "Training until validation scores don't improve for 500 rounds\n",
      "[100]\tvalid_0's rmse: 2.04497\n"
     ]
    },
    {
     "name": "stderr",
     "output_type": "stream",
     "text": [
      "\u001b[32m[I 2022-02-23 14:49:44,192]\u001b[0m Trial 331 finished with value: 2.023173611777474 and parameters: {'n_estimators': 10000, 'num_leaves': 9, 'boosting': 'gbdt', 'max_depth': 4, 'max_bin': 32, 'min_data_in_leaf': 1, 'min_data_in_bin': 1, 'min_gain_to_split': 2.68, 'learning_rate': 0.11695419139023397, 'random_state': 0, 'feature_fraction': 0.660882620485585, 'bagging_fraction': 0.6498759156830246, 'bagging_freq': 1, 'lambda_l1': 0.0006568040960668974, 'lambda_l2': 0.00026099094025020214}. Best is trial 227 with value: 1.9676895375378611.\u001b[0m\n"
     ]
    },
    {
     "name": "stdout",
     "output_type": "stream",
     "text": [
      "[200]\tvalid_0's rmse: 2.04353\n",
      "[300]\tvalid_0's rmse: 2.05503\n",
      "[400]\tvalid_0's rmse: 2.06335\n",
      "[500]\tvalid_0's rmse: 2.06335\n",
      "Early stopping, best iteration is:\n",
      "[50]\tvalid_0's rmse: 2.02317\n",
      "valid_score:  RMSE = 2.023173611777474\n",
      "Training until validation scores don't improve for 500 rounds\n",
      "[100]\tvalid_0's rmse: 2.09445\n",
      "[200]\tvalid_0's rmse: 2.02501\n"
     ]
    },
    {
     "name": "stderr",
     "output_type": "stream",
     "text": [
      "\u001b[32m[I 2022-02-23 14:49:44,664]\u001b[0m Trial 332 finished with value: 2.020144647793771 and parameters: {'n_estimators': 5000, 'num_leaves': 14, 'boosting': 'gbdt', 'max_depth': 7, 'max_bin': 32, 'min_data_in_leaf': 1, 'min_data_in_bin': 1, 'min_gain_to_split': 3.3600000000000003, 'learning_rate': 0.022634250696545146, 'random_state': 0, 'feature_fraction': 0.7386338448931056, 'bagging_fraction': 0.9835527818298998, 'bagging_freq': 3, 'lambda_l1': 2.4041734060021223e-06, 'lambda_l2': 1.723056592361887e-05}. Best is trial 227 with value: 1.9676895375378611.\u001b[0m\n"
     ]
    },
    {
     "name": "stdout",
     "output_type": "stream",
     "text": [
      "[300]\tvalid_0's rmse: 2.02051\n",
      "[400]\tvalid_0's rmse: 2.02051\n",
      "[500]\tvalid_0's rmse: 2.02051\n",
      "[600]\tvalid_0's rmse: 2.02051\n",
      "[700]\tvalid_0's rmse: 2.02051\n",
      "Early stopping, best iteration is:\n",
      "[271]\tvalid_0's rmse: 2.02014\n",
      "valid_score:  RMSE = 2.020144647793771\n",
      "Training until validation scores don't improve for 500 rounds\n",
      "[100]\tvalid_0's rmse: 2.08902\n",
      "[200]\tvalid_0's rmse: 2.10298\n"
     ]
    },
    {
     "name": "stderr",
     "output_type": "stream",
     "text": [
      "\u001b[32m[I 2022-02-23 14:49:45,184]\u001b[0m Trial 333 finished with value: 2.0861383273914904 and parameters: {'n_estimators': 5000, 'num_leaves': 16, 'boosting': 'gbdt', 'max_depth': 13, 'max_bin': 32, 'min_data_in_leaf': 1, 'min_data_in_bin': 1, 'min_gain_to_split': 2.8000000000000003, 'learning_rate': 0.04486922450095587, 'random_state': 0, 'feature_fraction': 0.44109205364174203, 'bagging_fraction': 0.4062600533039702, 'bagging_freq': 1, 'lambda_l1': 0.005790150798772252, 'lambda_l2': 1.5383934715250036e-06}. Best is trial 227 with value: 1.9676895375378611.\u001b[0m\n"
     ]
    },
    {
     "name": "stdout",
     "output_type": "stream",
     "text": [
      "[300]\tvalid_0's rmse: 2.10775\n",
      "[400]\tvalid_0's rmse: 2.10179\n",
      "[500]\tvalid_0's rmse: 2.10789\n",
      "Early stopping, best iteration is:\n",
      "[92]\tvalid_0's rmse: 2.08614\n",
      "valid_score:  RMSE = 2.0861383273914904\n",
      "Training until validation scores don't improve for 500 rounds\n",
      "[100]\tvalid_0's rmse: 2.33743\n",
      "[200]\tvalid_0's rmse: 2.46609\n",
      "[300]\tvalid_0's rmse: 2.51168\n",
      "[400]\tvalid_0's rmse: 2.53432\n"
     ]
    },
    {
     "name": "stderr",
     "output_type": "stream",
     "text": [
      "\u001b[32m[I 2022-02-23 14:49:45,454]\u001b[0m Trial 334 finished with value: 2.0912928920821283 and parameters: {'n_estimators': 5000, 'num_leaves': 12, 'boosting': 'gbdt', 'max_depth': 10, 'max_bin': 32, 'min_data_in_leaf': 1, 'min_data_in_bin': 1, 'min_gain_to_split': 0.36, 'learning_rate': 0.2668605384096743, 'random_state': 0, 'feature_fraction': 0.9622784447826954, 'bagging_fraction': 0.45898909027809476, 'bagging_freq': 4, 'lambda_l1': 0.0013201743252225734, 'lambda_l2': 0.0005393297850005787}. Best is trial 227 with value: 1.9676895375378611.\u001b[0m\n"
     ]
    },
    {
     "name": "stdout",
     "output_type": "stream",
     "text": [
      "[500]\tvalid_0's rmse: 2.53402\n",
      "Early stopping, best iteration is:\n",
      "[21]\tvalid_0's rmse: 2.09129\n",
      "valid_score:  RMSE = 2.0912928920821283\n",
      "Training until validation scores don't improve for 500 rounds\n",
      "[100]\tvalid_0's rmse: 2.06527\n",
      "[200]\tvalid_0's rmse: 2.06527\n",
      "[300]\tvalid_0's rmse: 2.06527\n",
      "[400]\tvalid_0's rmse: 2.06527\n"
     ]
    },
    {
     "name": "stderr",
     "output_type": "stream",
     "text": [
      "\u001b[32m[I 2022-02-23 14:49:45,681]\u001b[0m Trial 335 finished with value: 2.047779988267311 and parameters: {'n_estimators': 10000, 'num_leaves': 12, 'boosting': 'gbdt', 'max_depth': 9, 'max_bin': 32, 'min_data_in_leaf': 1, 'min_data_in_bin': 1, 'min_gain_to_split': 3.7600000000000002, 'learning_rate': 0.20120971447782174, 'random_state': 0, 'feature_fraction': 0.5955885424126675, 'bagging_fraction': 0.517118064989475, 'bagging_freq': 8, 'lambda_l1': 0.010958036666313235, 'lambda_l2': 0.0014246959073457327}. Best is trial 227 with value: 1.9676895375378611.\u001b[0m\n"
     ]
    },
    {
     "name": "stdout",
     "output_type": "stream",
     "text": [
      "[500]\tvalid_0's rmse: 2.06527\n",
      "Early stopping, best iteration is:\n",
      "[20]\tvalid_0's rmse: 2.04778\n",
      "valid_score:  RMSE = 2.047779988267311\n",
      "Training until validation scores don't improve for 500 rounds\n",
      "[100]\tvalid_0's rmse: 2.01232\n",
      "[200]\tvalid_0's rmse: 2.00539\n",
      "[300]\tvalid_0's rmse: 2.02371\n",
      "[400]\tvalid_0's rmse: 2.02371\n"
     ]
    },
    {
     "name": "stderr",
     "output_type": "stream",
     "text": [
      "\u001b[32m[I 2022-02-23 14:49:45,928]\u001b[0m Trial 336 finished with value: 1.9928178719067837 and parameters: {'n_estimators': 5000, 'num_leaves': 3, 'boosting': 'gbdt', 'max_depth': 14, 'max_bin': 32, 'min_data_in_leaf': 1, 'min_data_in_bin': 1, 'min_gain_to_split': 2.9000000000000004, 'learning_rate': 0.21720746429357723, 'random_state': 0, 'feature_fraction': 0.978542111840116, 'bagging_fraction': 0.7712655180851098, 'bagging_freq': 8, 'lambda_l1': 3.1305087568066804e-05, 'lambda_l2': 5.330229097554808e-05}. Best is trial 227 with value: 1.9676895375378611.\u001b[0m\n"
     ]
    },
    {
     "name": "stdout",
     "output_type": "stream",
     "text": [
      "[500]\tvalid_0's rmse: 2.02371\n",
      "[600]\tvalid_0's rmse: 2.02371\n",
      "Early stopping, best iteration is:\n",
      "[129]\tvalid_0's rmse: 1.99282\n",
      "valid_score:  RMSE = 1.9928178719067837\n",
      "Training until validation scores don't improve for 500 rounds\n",
      "[100]\tvalid_0's rmse: 2.13069\n",
      "[200]\tvalid_0's rmse: 2.1383\n"
     ]
    },
    {
     "name": "stderr",
     "output_type": "stream",
     "text": [
      "\u001b[32m[I 2022-02-23 14:49:46,185]\u001b[0m Trial 337 finished with value: 2.0758838942578297 and parameters: {'n_estimators': 10000, 'num_leaves': 15, 'boosting': 'gbdt', 'max_depth': 12, 'max_bin': 32, 'min_data_in_leaf': 1, 'min_data_in_bin': 1, 'min_gain_to_split': 2.43, 'learning_rate': 0.15635384623110563, 'random_state': 0, 'feature_fraction': 0.6746232748317178, 'bagging_fraction': 0.4858175079054344, 'bagging_freq': 5, 'lambda_l1': 0.0012336928793256223, 'lambda_l2': 1.2525275039721383e-07}. Best is trial 227 with value: 1.9676895375378611.\u001b[0m\n"
     ]
    },
    {
     "name": "stdout",
     "output_type": "stream",
     "text": [
      "[300]\tvalid_0's rmse: 2.14031\n",
      "[400]\tvalid_0's rmse: 2.14031\n",
      "[500]\tvalid_0's rmse: 2.14031\n",
      "Early stopping, best iteration is:\n",
      "[40]\tvalid_0's rmse: 2.07588\n",
      "valid_score:  RMSE = 2.0758838942578297\n",
      "Training until validation scores don't improve for 500 rounds\n",
      "[100]\tvalid_0's rmse: 2.06308\n",
      "[200]\tvalid_0's rmse: 2.10423\n"
     ]
    },
    {
     "name": "stderr",
     "output_type": "stream",
     "text": [
      "\u001b[32m[I 2022-02-23 14:49:46,414]\u001b[0m Trial 338 finished with value: 2.0470742282066885 and parameters: {'n_estimators': 10000, 'num_leaves': 4, 'boosting': 'gbdt', 'max_depth': 13, 'max_bin': 32, 'min_data_in_leaf': 1, 'min_data_in_bin': 1, 'min_gain_to_split': 2.93, 'learning_rate': 0.19228277923383946, 'random_state': 0, 'feature_fraction': 0.5117452448378844, 'bagging_fraction': 0.7715689293670037, 'bagging_freq': 6, 'lambda_l1': 0.015655565155422498, 'lambda_l2': 1.1843642607181946e-08}. Best is trial 227 with value: 1.9676895375378611.\u001b[0m\n"
     ]
    },
    {
     "name": "stdout",
     "output_type": "stream",
     "text": [
      "[300]\tvalid_0's rmse: 2.10661\n",
      "[400]\tvalid_0's rmse: 2.10661\n",
      "[500]\tvalid_0's rmse: 2.10661\n",
      "Early stopping, best iteration is:\n",
      "[35]\tvalid_0's rmse: 2.04707\n",
      "valid_score:  RMSE = 2.0470742282066885\n",
      "Training until validation scores don't improve for 500 rounds\n",
      "[100]\tvalid_0's rmse: 2.04046\n",
      "[200]\tvalid_0's rmse: 2.05781\n"
     ]
    },
    {
     "name": "stderr",
     "output_type": "stream",
     "text": [
      "\u001b[32m[I 2022-02-23 14:49:46,618]\u001b[0m Trial 339 finished with value: 2.035001006230138 and parameters: {'n_estimators': 5000, 'num_leaves': 4, 'boosting': 'gbdt', 'max_depth': 10, 'max_bin': 32, 'min_data_in_leaf': 1, 'min_data_in_bin': 1, 'min_gain_to_split': 2.6, 'learning_rate': 0.09166400256514824, 'random_state': 0, 'feature_fraction': 0.8875054154074603, 'bagging_fraction': 0.4321830179491913, 'bagging_freq': 7, 'lambda_l1': 2.927349328465506e-06, 'lambda_l2': 4.035995889593988e-06}. Best is trial 227 with value: 1.9676895375378611.\u001b[0m\n"
     ]
    },
    {
     "name": "stdout",
     "output_type": "stream",
     "text": [
      "[300]\tvalid_0's rmse: 2.09986\n",
      "[400]\tvalid_0's rmse: 2.0892\n",
      "[500]\tvalid_0's rmse: 2.0937\n",
      "[600]\tvalid_0's rmse: 2.10188\n",
      "Early stopping, best iteration is:\n",
      "[105]\tvalid_0's rmse: 2.035\n",
      "valid_score:  RMSE = 2.035001006230138\n",
      "Training until validation scores don't improve for 500 rounds\n",
      "[100]\tvalid_0's rmse: 2.26637\n",
      "[200]\tvalid_0's rmse: 2.35504\n"
     ]
    },
    {
     "name": "stderr",
     "output_type": "stream",
     "text": [
      "\u001b[32m[I 2022-02-23 14:49:46,855]\u001b[0m Trial 340 finished with value: 2.161428482796589 and parameters: {'n_estimators': 5000, 'num_leaves': 8, 'boosting': 'gbdt', 'max_depth': 13, 'max_bin': 32, 'min_data_in_leaf': 1, 'min_data_in_bin': 1, 'min_gain_to_split': 0.1, 'learning_rate': 0.2972530918524147, 'random_state': 0, 'feature_fraction': 0.6911087731714931, 'bagging_fraction': 0.5313831814452171, 'bagging_freq': 3, 'lambda_l1': 0.0006540380576092738, 'lambda_l2': 5.106998442796376e-07}. Best is trial 227 with value: 1.9676895375378611.\u001b[0m\n"
     ]
    },
    {
     "name": "stdout",
     "output_type": "stream",
     "text": [
      "[300]\tvalid_0's rmse: 2.38512\n",
      "[400]\tvalid_0's rmse: 2.4085\n",
      "[500]\tvalid_0's rmse: 2.44672\n",
      "Early stopping, best iteration is:\n",
      "[31]\tvalid_0's rmse: 2.16143\n",
      "valid_score:  RMSE = 2.161428482796589\n",
      "Training until validation scores don't improve for 500 rounds\n",
      "[100]\tvalid_0's rmse: 2.13076\n"
     ]
    },
    {
     "name": "stderr",
     "output_type": "stream",
     "text": [
      "\u001b[32m[I 2022-02-23 14:49:47,117]\u001b[0m Trial 341 finished with value: 2.0908863118665915 and parameters: {'n_estimators': 10000, 'num_leaves': 11, 'boosting': 'gbdt', 'max_depth': 12, 'max_bin': 32, 'min_data_in_leaf': 1, 'min_data_in_bin': 1, 'min_gain_to_split': 3.6300000000000003, 'learning_rate': 0.12586079495454672, 'random_state': 0, 'feature_fraction': 0.6306833107010567, 'bagging_fraction': 0.449090354778203, 'bagging_freq': 7, 'lambda_l1': 4.948498251884129e-07, 'lambda_l2': 0.0005161550429528873}. Best is trial 227 with value: 1.9676895375378611.\u001b[0m\n"
     ]
    },
    {
     "name": "stdout",
     "output_type": "stream",
     "text": [
      "[200]\tvalid_0's rmse: 2.11931\n",
      "[300]\tvalid_0's rmse: 2.14397\n",
      "[400]\tvalid_0's rmse: 2.14397\n",
      "[500]\tvalid_0's rmse: 2.14397\n",
      "Early stopping, best iteration is:\n",
      "[34]\tvalid_0's rmse: 2.09089\n",
      "valid_score:  RMSE = 2.0908863118665915\n",
      "Training until validation scores don't improve for 500 rounds\n",
      "[100]\tvalid_0's rmse: 2.03869\n"
     ]
    },
    {
     "name": "stderr",
     "output_type": "stream",
     "text": [
      "\u001b[32m[I 2022-02-23 14:49:47,386]\u001b[0m Trial 342 finished with value: 2.0234211898156875 and parameters: {'n_estimators': 5000, 'num_leaves': 8, 'boosting': 'gbdt', 'max_depth': 14, 'max_bin': 32, 'min_data_in_leaf': 1, 'min_data_in_bin': 1, 'min_gain_to_split': 2.94, 'learning_rate': 0.1714124054123999, 'random_state': 0, 'feature_fraction': 0.4424142139689433, 'bagging_fraction': 0.9245430297658094, 'bagging_freq': 1, 'lambda_l1': 0.0001569147140480569, 'lambda_l2': 7.179912318892788e-06}. Best is trial 227 with value: 1.9676895375378611.\u001b[0m\n"
     ]
    },
    {
     "name": "stdout",
     "output_type": "stream",
     "text": [
      "[200]\tvalid_0's rmse: 2.03826\n",
      "[300]\tvalid_0's rmse: 2.03826\n",
      "[400]\tvalid_0's rmse: 2.03826\n",
      "[500]\tvalid_0's rmse: 2.03826\n",
      "Early stopping, best iteration is:\n",
      "[25]\tvalid_0's rmse: 2.02342\n",
      "valid_score:  RMSE = 2.0234211898156875\n",
      "Training until validation scores don't improve for 500 rounds\n",
      "[100]\tvalid_0's rmse: 2.04837\n"
     ]
    },
    {
     "name": "stderr",
     "output_type": "stream",
     "text": [
      "\u001b[32m[I 2022-02-23 14:49:47,609]\u001b[0m Trial 343 finished with value: 2.038468969276726 and parameters: {'n_estimators': 10000, 'num_leaves': 3, 'boosting': 'gbdt', 'max_depth': 11, 'max_bin': 32, 'min_data_in_leaf': 1, 'min_data_in_bin': 1, 'min_gain_to_split': 1.29, 'learning_rate': 0.20945729288837284, 'random_state': 0, 'feature_fraction': 0.904013703057753, 'bagging_fraction': 0.47638271679514627, 'bagging_freq': 3, 'lambda_l1': 6.304658412951377e-07, 'lambda_l2': 3.776032024954955e-08}. Best is trial 227 with value: 1.9676895375378611.\u001b[0m\n"
     ]
    },
    {
     "name": "stdout",
     "output_type": "stream",
     "text": [
      "[200]\tvalid_0's rmse: 2.08407\n",
      "[300]\tvalid_0's rmse: 2.09446\n",
      "[400]\tvalid_0's rmse: 2.10168\n",
      "[500]\tvalid_0's rmse: 2.09343\n",
      "Early stopping, best iteration is:\n",
      "[90]\tvalid_0's rmse: 2.03847\n",
      "valid_score:  RMSE = 2.038468969276726\n",
      "Training until validation scores don't improve for 500 rounds\n"
     ]
    },
    {
     "name": "stderr",
     "output_type": "stream",
     "text": [
      "\u001b[32m[I 2022-02-23 14:49:47,871]\u001b[0m Trial 344 finished with value: 2.003229872217216 and parameters: {'n_estimators': 10000, 'num_leaves': 14, 'boosting': 'gbdt', 'max_depth': 13, 'max_bin': 32, 'min_data_in_leaf': 1, 'min_data_in_bin': 1, 'min_gain_to_split': 4.84, 'learning_rate': 0.14436167189682753, 'random_state': 0, 'feature_fraction': 0.44750816698176693, 'bagging_fraction': 0.48782910891251413, 'bagging_freq': 3, 'lambda_l1': 3.644794299094157e-08, 'lambda_l2': 0.0983511985896067}. Best is trial 227 with value: 1.9676895375378611.\u001b[0m\n"
     ]
    },
    {
     "name": "stdout",
     "output_type": "stream",
     "text": [
      "[100]\tvalid_0's rmse: 2.05464\n",
      "[200]\tvalid_0's rmse: 2.0579\n",
      "[300]\tvalid_0's rmse: 2.05778\n",
      "[400]\tvalid_0's rmse: 2.06203\n",
      "[500]\tvalid_0's rmse: 2.06203\n",
      "Early stopping, best iteration is:\n",
      "[30]\tvalid_0's rmse: 2.00323\n",
      "valid_score:  RMSE = 2.003229872217216\n",
      "Training until validation scores don't improve for 500 rounds\n"
     ]
    },
    {
     "name": "stderr",
     "output_type": "stream",
     "text": [
      "\u001b[32m[I 2022-02-23 14:49:48,140]\u001b[0m Trial 345 finished with value: 2.0398171248052916 and parameters: {'n_estimators': 5000, 'num_leaves': 10, 'boosting': 'gbdt', 'max_depth': 11, 'max_bin': 32, 'min_data_in_leaf': 1, 'min_data_in_bin': 1, 'min_gain_to_split': 3.5700000000000003, 'learning_rate': 0.151913405593773, 'random_state': 0, 'feature_fraction': 0.611837732904858, 'bagging_fraction': 0.6311068753156144, 'bagging_freq': 4, 'lambda_l1': 0.2585763758076277, 'lambda_l2': 0.02495795475336266}. Best is trial 227 with value: 1.9676895375378611.\u001b[0m\n"
     ]
    },
    {
     "name": "stdout",
     "output_type": "stream",
     "text": [
      "[100]\tvalid_0's rmse: 2.06981\n",
      "[200]\tvalid_0's rmse: 2.07793\n",
      "[300]\tvalid_0's rmse: 2.07793\n",
      "[400]\tvalid_0's rmse: 2.07793\n",
      "[500]\tvalid_0's rmse: 2.07793\n",
      "Early stopping, best iteration is:\n",
      "[47]\tvalid_0's rmse: 2.03982\n",
      "valid_score:  RMSE = 2.0398171248052916\n",
      "Training until validation scores don't improve for 500 rounds\n"
     ]
    },
    {
     "name": "stderr",
     "output_type": "stream",
     "text": [
      "\u001b[32m[I 2022-02-23 14:49:48,368]\u001b[0m Trial 346 finished with value: 2.0177600918386087 and parameters: {'n_estimators': 10000, 'num_leaves': 4, 'boosting': 'gbdt', 'max_depth': 5, 'max_bin': 32, 'min_data_in_leaf': 1, 'min_data_in_bin': 1, 'min_gain_to_split': 4.4399999999999995, 'learning_rate': 0.2510121668299752, 'random_state': 0, 'feature_fraction': 0.8614691949799156, 'bagging_fraction': 0.6477192258819584, 'bagging_freq': 4, 'lambda_l1': 6.91528813675536e-07, 'lambda_l2': 0.2695948557841203}. Best is trial 227 with value: 1.9676895375378611.\u001b[0m\n"
     ]
    },
    {
     "name": "stdout",
     "output_type": "stream",
     "text": [
      "[100]\tvalid_0's rmse: 2.05369\n",
      "[200]\tvalid_0's rmse: 2.04229\n",
      "[300]\tvalid_0's rmse: 2.04229\n",
      "[400]\tvalid_0's rmse: 2.04229\n",
      "[500]\tvalid_0's rmse: 2.04229\n",
      "Early stopping, best iteration is:\n",
      "[70]\tvalid_0's rmse: 2.01776\n",
      "valid_score:  RMSE = 2.0177600918386087\n",
      "Training until validation scores don't improve for 500 rounds\n",
      "[100]\tvalid_0's rmse: 2.11098\n"
     ]
    },
    {
     "name": "stderr",
     "output_type": "stream",
     "text": [
      "\u001b[32m[I 2022-02-23 14:49:48,603]\u001b[0m Trial 347 finished with value: 2.0859863939127496 and parameters: {'n_estimators': 5000, 'num_leaves': 6, 'boosting': 'gbdt', 'max_depth': 6, 'max_bin': 32, 'min_data_in_leaf': 1, 'min_data_in_bin': 1, 'min_gain_to_split': 4.25, 'learning_rate': 0.14676369920465723, 'random_state': 0, 'feature_fraction': 0.5975971047761184, 'bagging_fraction': 0.6282984205648996, 'bagging_freq': 7, 'lambda_l1': 0.7897723808517667, 'lambda_l2': 7.625083232179983e-06}. Best is trial 227 with value: 1.9676895375378611.\u001b[0m\n"
     ]
    },
    {
     "name": "stdout",
     "output_type": "stream",
     "text": [
      "[200]\tvalid_0's rmse: 2.13027\n",
      "[300]\tvalid_0's rmse: 2.13027\n",
      "[400]\tvalid_0's rmse: 2.13027\n",
      "[500]\tvalid_0's rmse: 2.13027\n",
      "Early stopping, best iteration is:\n",
      "[73]\tvalid_0's rmse: 2.08599\n",
      "valid_score:  RMSE = 2.0859863939127496\n",
      "Training until validation scores don't improve for 500 rounds\n",
      "[100]\tvalid_0's rmse: 2.15284\n",
      "[200]\tvalid_0's rmse: 2.06173\n",
      "[300]\tvalid_0's rmse: 2.0355\n",
      "[400]\tvalid_0's rmse: 2.02127\n",
      "[500]\tvalid_0's rmse: 1.99523\n",
      "[600]\tvalid_0's rmse: 1.98836\n",
      "[700]\tvalid_0's rmse: 1.9888\n",
      "[800]\tvalid_0's rmse: 1.98702\n",
      "[900]\tvalid_0's rmse: 1.98659\n"
     ]
    },
    {
     "name": "stderr",
     "output_type": "stream",
     "text": [
      "\u001b[32m[I 2022-02-23 14:49:48,964]\u001b[0m Trial 348 finished with value: 1.9818612489839051 and parameters: {'n_estimators': 5000, 'num_leaves': 3, 'boosting': 'gbdt', 'max_depth': 9, 'max_bin': 32, 'min_data_in_leaf': 1, 'min_data_in_bin': 1, 'min_gain_to_split': 1.6400000000000001, 'learning_rate': 0.03581267783148346, 'random_state': 0, 'feature_fraction': 0.4277802906515879, 'bagging_fraction': 0.5750691575357514, 'bagging_freq': 4, 'lambda_l1': 2.1993976198278737e-08, 'lambda_l2': 0.15975405747312585}. Best is trial 227 with value: 1.9676895375378611.\u001b[0m\n"
     ]
    },
    {
     "name": "stdout",
     "output_type": "stream",
     "text": [
      "[1000]\tvalid_0's rmse: 1.98439\n",
      "[1100]\tvalid_0's rmse: 1.99111\n",
      "[1200]\tvalid_0's rmse: 1.99196\n",
      "Early stopping, best iteration is:\n",
      "[757]\tvalid_0's rmse: 1.98186\n",
      "valid_score:  RMSE = 1.9818612489839051\n",
      "Training until validation scores don't improve for 500 rounds\n",
      "[100]\tvalid_0's rmse: 2.31236\n",
      "[200]\tvalid_0's rmse: 2.11731\n",
      "[300]\tvalid_0's rmse: 2.06471\n",
      "[400]\tvalid_0's rmse: 2.03313\n",
      "[500]\tvalid_0's rmse: 2.02279\n",
      "[600]\tvalid_0's rmse: 2.02271\n",
      "[700]\tvalid_0's rmse: 2.02149\n",
      "[800]\tvalid_0's rmse: 2.02206\n",
      "[900]\tvalid_0's rmse: 2.02073\n",
      "[1000]\tvalid_0's rmse: 2.01855\n",
      "[1100]\tvalid_0's rmse: 2.01916\n",
      "[1200]\tvalid_0's rmse: 2.015\n",
      "[1300]\tvalid_0's rmse: 2.01527\n",
      "[1400]\tvalid_0's rmse: 2.01336\n",
      "[1500]\tvalid_0's rmse: 2.01163\n",
      "[1600]\tvalid_0's rmse: 2.01229\n",
      "[1700]\tvalid_0's rmse: 2.01629\n",
      "[1800]\tvalid_0's rmse: 2.02036\n",
      "[1900]\tvalid_0's rmse: 2.02132\n"
     ]
    },
    {
     "name": "stderr",
     "output_type": "stream",
     "text": [
      "\u001b[32m[I 2022-02-23 14:49:49,889]\u001b[0m Trial 349 finished with value: 2.0112447969448652 and parameters: {'n_estimators': 5000, 'num_leaves': 7, 'boosting': 'gbdt', 'max_depth': 12, 'max_bin': 32, 'min_data_in_leaf': 1, 'min_data_in_bin': 1, 'min_gain_to_split': 4.569999999999999, 'learning_rate': 0.011837941379669936, 'random_state': 0, 'feature_fraction': 0.5365217491941586, 'bagging_fraction': 0.5657239111967022, 'bagging_freq': 6, 'lambda_l1': 0.6691457483186621, 'lambda_l2': 2.3749292291411505e-05}. Best is trial 227 with value: 1.9676895375378611.\u001b[0m\n"
     ]
    },
    {
     "name": "stdout",
     "output_type": "stream",
     "text": [
      "[2000]\tvalid_0's rmse: 2.02214\n",
      "Early stopping, best iteration is:\n",
      "[1545]\tvalid_0's rmse: 2.01037\n",
      "valid_score:  RMSE = 2.0112447969448652\n",
      "Training until validation scores don't improve for 500 rounds\n",
      "[100]\tvalid_0's rmse: 2.04036\n"
     ]
    },
    {
     "name": "stderr",
     "output_type": "stream",
     "text": [
      "\u001b[32m[I 2022-02-23 14:49:50,261]\u001b[0m Trial 350 finished with value: 2.019087694295041 and parameters: {'n_estimators': 5000, 'num_leaves': 13, 'boosting': 'gbdt', 'max_depth': 13, 'max_bin': 32, 'min_data_in_leaf': 1, 'min_data_in_bin': 1, 'min_gain_to_split': 1.77, 'learning_rate': 0.04949523130274415, 'random_state': 0, 'feature_fraction': 0.9201656669867389, 'bagging_fraction': 0.613053531855493, 'bagging_freq': 8, 'lambda_l1': 0.04498924480111285, 'lambda_l2': 0.016153548032473805}. Best is trial 227 with value: 1.9676895375378611.\u001b[0m\n"
     ]
    },
    {
     "name": "stdout",
     "output_type": "stream",
     "text": [
      "[200]\tvalid_0's rmse: 2.03389\n",
      "[300]\tvalid_0's rmse: 2.03105\n",
      "[400]\tvalid_0's rmse: 2.04271\n",
      "[500]\tvalid_0's rmse: 2.04271\n",
      "[600]\tvalid_0's rmse: 2.04271\n",
      "[700]\tvalid_0's rmse: 2.04271\n",
      "Early stopping, best iteration is:\n",
      "[257]\tvalid_0's rmse: 2.01909\n",
      "valid_score:  RMSE = 2.019087694295041\n",
      "Training until validation scores don't improve for 500 rounds\n",
      "[100]\tvalid_0's rmse: 2.84663\n",
      "[200]\tvalid_0's rmse: 2.72841\n",
      "[300]\tvalid_0's rmse: 2.63453\n",
      "[400]\tvalid_0's rmse: 2.56019\n",
      "[500]\tvalid_0's rmse: 2.49992\n",
      "[600]\tvalid_0's rmse: 2.45444\n",
      "[700]\tvalid_0's rmse: 2.4169\n",
      "[800]\tvalid_0's rmse: 2.38385\n",
      "[900]\tvalid_0's rmse: 2.35578\n",
      "[1000]\tvalid_0's rmse: 2.33071\n",
      "[1100]\tvalid_0's rmse: 2.30819\n",
      "[1200]\tvalid_0's rmse: 2.2875\n",
      "[1300]\tvalid_0's rmse: 2.26891\n",
      "[1400]\tvalid_0's rmse: 2.25257\n",
      "[1500]\tvalid_0's rmse: 2.23807\n",
      "[1600]\tvalid_0's rmse: 2.22714\n",
      "[1700]\tvalid_0's rmse: 2.21629\n",
      "[1800]\tvalid_0's rmse: 2.20678\n",
      "[1900]\tvalid_0's rmse: 2.197\n",
      "[2000]\tvalid_0's rmse: 2.1888\n",
      "[2100]\tvalid_0's rmse: 2.18055\n",
      "[2200]\tvalid_0's rmse: 2.17407\n",
      "[2300]\tvalid_0's rmse: 2.16671\n",
      "[2400]\tvalid_0's rmse: 2.16007\n",
      "[2500]\tvalid_0's rmse: 2.15368\n",
      "[2600]\tvalid_0's rmse: 2.14734\n",
      "[2700]\tvalid_0's rmse: 2.14283\n",
      "[2800]\tvalid_0's rmse: 2.13863\n",
      "[2900]\tvalid_0's rmse: 2.13343\n",
      "[3000]\tvalid_0's rmse: 2.1289\n",
      "[3100]\tvalid_0's rmse: 2.12451\n",
      "[3200]\tvalid_0's rmse: 2.1206\n",
      "[3300]\tvalid_0's rmse: 2.11736\n",
      "[3400]\tvalid_0's rmse: 2.11337\n",
      "[3500]\tvalid_0's rmse: 2.11007\n",
      "[3600]\tvalid_0's rmse: 2.10772\n",
      "[3700]\tvalid_0's rmse: 2.10563\n",
      "[3800]\tvalid_0's rmse: 2.10285\n",
      "[3900]\tvalid_0's rmse: 2.10045\n",
      "[4000]\tvalid_0's rmse: 2.09855\n",
      "[4100]\tvalid_0's rmse: 2.09676\n",
      "[4200]\tvalid_0's rmse: 2.09496\n",
      "[4300]\tvalid_0's rmse: 2.09297\n",
      "[4400]\tvalid_0's rmse: 2.09083\n",
      "[4500]\tvalid_0's rmse: 2.08932\n",
      "[4600]\tvalid_0's rmse: 2.08788\n",
      "[4700]\tvalid_0's rmse: 2.08631\n"
     ]
    },
    {
     "name": "stderr",
     "output_type": "stream",
     "text": [
      "\u001b[32m[I 2022-02-23 14:49:51,260]\u001b[0m Trial 351 finished with value: 2.081245113635707 and parameters: {'n_estimators': 5000, 'num_leaves': 2, 'boosting': 'gbdt', 'max_depth': 12, 'max_bin': 32, 'min_data_in_leaf': 1, 'min_data_in_bin': 1, 'min_gain_to_split': 0.87, 'learning_rate': 0.0027223366746066385, 'random_state': 0, 'feature_fraction': 0.43516458559259724, 'bagging_fraction': 0.9282802541745709, 'bagging_freq': 5, 'lambda_l1': 5.098421822951778e-07, 'lambda_l2': 1.4128826310692826e-05}. Best is trial 227 with value: 1.9676895375378611.\u001b[0m\n"
     ]
    },
    {
     "name": "stdout",
     "output_type": "stream",
     "text": [
      "[4800]\tvalid_0's rmse: 2.08516\n",
      "[4900]\tvalid_0's rmse: 2.08295\n",
      "[5000]\tvalid_0's rmse: 2.08125\n",
      "Did not meet early stopping. Best iteration is:\n",
      "[5000]\tvalid_0's rmse: 2.08125\n",
      "valid_score:  RMSE = 2.081245113635707\n",
      "Training until validation scores don't improve for 500 rounds\n"
     ]
    },
    {
     "name": "stderr",
     "output_type": "stream",
     "text": [
      "\u001b[32m[I 2022-02-23 14:49:51,504]\u001b[0m Trial 352 finished with value: 2.1604815992845117 and parameters: {'n_estimators': 10000, 'num_leaves': 14, 'boosting': 'gbdt', 'max_depth': 7, 'max_bin': 32, 'min_data_in_leaf': 1, 'min_data_in_bin': 1, 'min_gain_to_split': 1.35, 'learning_rate': 0.2927060654297487, 'random_state': 0, 'feature_fraction': 0.7353406117501229, 'bagging_fraction': 0.6390305627568649, 'bagging_freq': 3, 'lambda_l1': 3.2593333811436497e-06, 'lambda_l2': 1.3050379305447626e-06}. Best is trial 227 with value: 1.9676895375378611.\u001b[0m\n"
     ]
    },
    {
     "name": "stdout",
     "output_type": "stream",
     "text": [
      "[100]\tvalid_0's rmse: 2.29387\n",
      "[200]\tvalid_0's rmse: 2.29468\n",
      "[300]\tvalid_0's rmse: 2.29468\n",
      "[400]\tvalid_0's rmse: 2.29468\n",
      "[500]\tvalid_0's rmse: 2.29468\n",
      "Early stopping, best iteration is:\n",
      "[14]\tvalid_0's rmse: 2.16048\n",
      "valid_score:  RMSE = 2.1604815992845117\n",
      "Training until validation scores don't improve for 500 rounds\n",
      "[100]\tvalid_0's rmse: 2.06938\n",
      "[200]\tvalid_0's rmse: 2.04972\n"
     ]
    },
    {
     "name": "stderr",
     "output_type": "stream",
     "text": [
      "\u001b[32m[I 2022-02-23 14:49:51,729]\u001b[0m Trial 353 finished with value: 2.0377608670226937 and parameters: {'n_estimators': 5000, 'num_leaves': 2, 'boosting': 'gbdt', 'max_depth': 16, 'max_bin': 32, 'min_data_in_leaf': 1, 'min_data_in_bin': 1, 'min_gain_to_split': 2.8200000000000003, 'learning_rate': 0.2421069230326598, 'random_state': 0, 'feature_fraction': 0.7484292803414356, 'bagging_fraction': 0.43215117939087205, 'bagging_freq': 1, 'lambda_l1': 9.000212771362559e-08, 'lambda_l2': 0.000770474022850851}. Best is trial 227 with value: 1.9676895375378611.\u001b[0m\n"
     ]
    },
    {
     "name": "stdout",
     "output_type": "stream",
     "text": [
      "[300]\tvalid_0's rmse: 2.06054\n",
      "[400]\tvalid_0's rmse: 2.07602\n",
      "[500]\tvalid_0's rmse: 2.06238\n",
      "[600]\tvalid_0's rmse: 2.06998\n",
      "[700]\tvalid_0's rmse: 2.07672\n",
      "[800]\tvalid_0's rmse: 2.0815\n",
      "[900]\tvalid_0's rmse: 2.09839\n",
      "Early stopping, best iteration is:\n",
      "[476]\tvalid_0's rmse: 2.03776\n",
      "valid_score:  RMSE = 2.0377608670226937\n",
      "Training until validation scores don't improve for 500 rounds\n",
      "[100]\tvalid_0's rmse: 1.9685\n"
     ]
    },
    {
     "name": "stderr",
     "output_type": "stream",
     "text": [
      "\u001b[32m[I 2022-02-23 14:49:51,942]\u001b[0m Trial 354 finished with value: 1.967147777953415 and parameters: {'n_estimators': 10000, 'num_leaves': 15, 'boosting': 'gbdt', 'max_depth': 5, 'max_bin': 32, 'min_data_in_leaf': 1, 'min_data_in_bin': 1, 'min_gain_to_split': 3.87, 'learning_rate': 0.13559623067878163, 'random_state': 0, 'feature_fraction': 0.4629352923314487, 'bagging_fraction': 0.8352156581622462, 'bagging_freq': 7, 'lambda_l1': 4.339454011245544e-08, 'lambda_l2': 0.0031662095674507883}. Best is trial 354 with value: 1.967147777953415.\u001b[0m\n"
     ]
    },
    {
     "name": "stdout",
     "output_type": "stream",
     "text": [
      "[200]\tvalid_0's rmse: 1.9685\n",
      "[300]\tvalid_0's rmse: 1.9685\n",
      "[400]\tvalid_0's rmse: 1.9685\n",
      "[500]\tvalid_0's rmse: 1.9685\n",
      "Early stopping, best iteration is:\n",
      "[58]\tvalid_0's rmse: 1.96715\n",
      "valid_score:  RMSE = 1.967147777953415\n",
      "Training until validation scores don't improve for 500 rounds\n",
      "[100]\tvalid_0's rmse: 2.0651\n"
     ]
    },
    {
     "name": "stderr",
     "output_type": "stream",
     "text": [
      "\u001b[32m[I 2022-02-23 14:49:52,184]\u001b[0m Trial 355 finished with value: 2.0016322928312795 and parameters: {'n_estimators': 5000, 'num_leaves': 6, 'boosting': 'gbdt', 'max_depth': 6, 'max_bin': 32, 'min_data_in_leaf': 1, 'min_data_in_bin': 1, 'min_gain_to_split': 3.08, 'learning_rate': 0.184149674861017, 'random_state': 0, 'feature_fraction': 0.838229320699294, 'bagging_fraction': 0.7099161852621083, 'bagging_freq': 4, 'lambda_l1': 3.9736360257309864e-08, 'lambda_l2': 1.994507704631302e-06}. Best is trial 354 with value: 1.967147777953415.\u001b[0m\n"
     ]
    },
    {
     "name": "stdout",
     "output_type": "stream",
     "text": [
      "[200]\tvalid_0's rmse: 2.05605\n",
      "[300]\tvalid_0's rmse: 2.05605\n",
      "[400]\tvalid_0's rmse: 2.05605\n",
      "[500]\tvalid_0's rmse: 2.05605\n",
      "Early stopping, best iteration is:\n",
      "[42]\tvalid_0's rmse: 2.00163\n",
      "valid_score:  RMSE = 2.0016322928312795\n",
      "Training until validation scores don't improve for 500 rounds\n",
      "[100]\tvalid_0's rmse: 2.03785\n",
      "[200]\tvalid_0's rmse: 2.02579\n",
      "[300]\tvalid_0's rmse: 2.02288\n",
      "[400]\tvalid_0's rmse: 2.0237\n"
     ]
    },
    {
     "name": "stderr",
     "output_type": "stream",
     "text": [
      "\u001b[32m[I 2022-02-23 14:49:52,612]\u001b[0m Trial 356 finished with value: 2.016397394934659 and parameters: {'n_estimators': 5000, 'num_leaves': 8, 'boosting': 'gbdt', 'max_depth': 12, 'max_bin': 32, 'min_data_in_leaf': 1, 'min_data_in_bin': 1, 'min_gain_to_split': 4.17, 'learning_rate': 0.051162480050538785, 'random_state': 0, 'feature_fraction': 0.5249087345325625, 'bagging_fraction': 0.7801885323304448, 'bagging_freq': 5, 'lambda_l1': 0.00802137392735668, 'lambda_l2': 1.4777400086609376e-06}. Best is trial 354 with value: 1.967147777953415.\u001b[0m\n"
     ]
    },
    {
     "name": "stdout",
     "output_type": "stream",
     "text": [
      "[500]\tvalid_0's rmse: 2.0237\n",
      "[600]\tvalid_0's rmse: 2.0237\n",
      "[700]\tvalid_0's rmse: 2.0237\n",
      "Early stopping, best iteration is:\n",
      "[237]\tvalid_0's rmse: 2.0164\n",
      "valid_score:  RMSE = 2.016397394934659\n",
      "Training until validation scores don't improve for 500 rounds\n",
      "[100]\tvalid_0's rmse: 2.05666\n",
      "[200]\tvalid_0's rmse: 2.02069\n",
      "[300]\tvalid_0's rmse: 2.04407\n",
      "[400]\tvalid_0's rmse: 2.02703\n",
      "[500]\tvalid_0's rmse: 2.0288\n",
      "[600]\tvalid_0's rmse: 2.02848\n",
      "[700]\tvalid_0's rmse: 2.04063\n"
     ]
    },
    {
     "name": "stderr",
     "output_type": "stream",
     "text": [
      "\u001b[32m[I 2022-02-23 14:49:53,187]\u001b[0m Trial 357 finished with value: 2.0171381848677243 and parameters: {'n_estimators': 5000, 'num_leaves': 12, 'boosting': 'gbdt', 'max_depth': 13, 'max_bin': 32, 'min_data_in_leaf': 1, 'min_data_in_bin': 1, 'min_gain_to_split': 4.859999999999999, 'learning_rate': 0.036374677948616756, 'random_state': 0, 'feature_fraction': 0.4223061589662188, 'bagging_fraction': 0.4147717674576034, 'bagging_freq': 7, 'lambda_l1': 3.376891902071736e-07, 'lambda_l2': 2.499395590195818e-06}. Best is trial 354 with value: 1.967147777953415.\u001b[0m\n"
     ]
    },
    {
     "name": "stdout",
     "output_type": "stream",
     "text": [
      "Early stopping, best iteration is:\n",
      "[212]\tvalid_0's rmse: 2.01714\n",
      "valid_score:  RMSE = 2.0171381848677243\n",
      "Training until validation scores don't improve for 500 rounds\n",
      "[100]\tvalid_0's rmse: 2.05929\n",
      "[200]\tvalid_0's rmse: 2.04295\n"
     ]
    },
    {
     "name": "stderr",
     "output_type": "stream",
     "text": [
      "\u001b[32m[I 2022-02-23 14:49:53,572]\u001b[0m Trial 358 finished with value: 2.0363154615197594 and parameters: {'n_estimators': 10000, 'num_leaves': 10, 'boosting': 'gbdt', 'max_depth': 11, 'max_bin': 32, 'min_data_in_leaf': 1, 'min_data_in_bin': 1, 'min_gain_to_split': 0.43000000000000005, 'learning_rate': 0.09173189396935151, 'random_state': 0, 'feature_fraction': 0.9940060206321856, 'bagging_fraction': 0.6761724916628472, 'bagging_freq': 5, 'lambda_l1': 1.1627043222677333e-07, 'lambda_l2': 0.0005749757782868533}. Best is trial 354 with value: 1.967147777953415.\u001b[0m\n"
     ]
    },
    {
     "name": "stdout",
     "output_type": "stream",
     "text": [
      "[300]\tvalid_0's rmse: 2.04324\n",
      "[400]\tvalid_0's rmse: 2.07928\n",
      "[500]\tvalid_0's rmse: 2.09486\n",
      "Early stopping, best iteration is:\n",
      "[50]\tvalid_0's rmse: 2.03632\n",
      "valid_score:  RMSE = 2.0363154615197594\n"
     ]
    },
    {
     "name": "stderr",
     "output_type": "stream",
     "text": [
      "\u001b[32m[I 2022-02-23 14:49:53,799]\u001b[0m Trial 359 finished with value: 2.0495306020856736 and parameters: {'n_estimators': 5000, 'num_leaves': 9, 'boosting': 'gbdt', 'max_depth': 11, 'max_bin': 32, 'min_data_in_leaf': 1, 'min_data_in_bin': 1, 'min_gain_to_split': 4.17, 'learning_rate': 0.14886595067198533, 'random_state': 0, 'feature_fraction': 0.5136622271772977, 'bagging_fraction': 0.7806383942061039, 'bagging_freq': 5, 'lambda_l1': 1.68532281156031e-05, 'lambda_l2': 3.091783481994039e-07}. Best is trial 354 with value: 1.967147777953415.\u001b[0m\n"
     ]
    },
    {
     "name": "stdout",
     "output_type": "stream",
     "text": [
      "Training until validation scores don't improve for 500 rounds\n",
      "[100]\tvalid_0's rmse: 2.05318\n",
      "[200]\tvalid_0's rmse: 2.05318\n",
      "[300]\tvalid_0's rmse: 2.05318\n",
      "[400]\tvalid_0's rmse: 2.05318\n",
      "[500]\tvalid_0's rmse: 2.05318\n",
      "Early stopping, best iteration is:\n",
      "[45]\tvalid_0's rmse: 2.04953\n",
      "valid_score:  RMSE = 2.0495306020856736\n",
      "Training until validation scores don't improve for 500 rounds\n",
      "[100]\tvalid_0's rmse: 2.41232\n",
      "[200]\tvalid_0's rmse: 2.22581\n",
      "[300]\tvalid_0's rmse: 2.14888\n",
      "[400]\tvalid_0's rmse: 2.1102\n",
      "[500]\tvalid_0's rmse: 2.08336\n",
      "[600]\tvalid_0's rmse: 2.06857\n",
      "[700]\tvalid_0's rmse: 2.05281\n",
      "[800]\tvalid_0's rmse: 2.03946\n",
      "[900]\tvalid_0's rmse: 2.03444\n",
      "[1000]\tvalid_0's rmse: 2.02411\n",
      "[1100]\tvalid_0's rmse: 2.01606\n",
      "[1200]\tvalid_0's rmse: 2.01364\n",
      "[1300]\tvalid_0's rmse: 2.01355\n",
      "[1400]\tvalid_0's rmse: 2.01222\n",
      "[1500]\tvalid_0's rmse: 2.00857\n",
      "[1600]\tvalid_0's rmse: 2.00937\n"
     ]
    },
    {
     "name": "stderr",
     "output_type": "stream",
     "text": [
      "\u001b[32m[I 2022-02-23 14:49:54,421]\u001b[0m Trial 360 finished with value: 2.0076570634178093 and parameters: {'n_estimators': 10000, 'num_leaves': 3, 'boosting': 'gbdt', 'max_depth': 9, 'max_bin': 32, 'min_data_in_leaf': 1, 'min_data_in_bin': 1, 'min_gain_to_split': 2.6100000000000003, 'learning_rate': 0.012353057776810294, 'random_state': 0, 'feature_fraction': 0.7495556538261439, 'bagging_fraction': 0.5763338112175993, 'bagging_freq': 5, 'lambda_l1': 0.0013012983685134069, 'lambda_l2': 0.26879149418129306}. Best is trial 354 with value: 1.967147777953415.\u001b[0m\n"
     ]
    },
    {
     "name": "stdout",
     "output_type": "stream",
     "text": [
      "[1700]\tvalid_0's rmse: 2.00935\n",
      "[1800]\tvalid_0's rmse: 2.01157\n",
      "[1900]\tvalid_0's rmse: 2.01282\n",
      "[2000]\tvalid_0's rmse: 2.01603\n",
      "Early stopping, best iteration is:\n",
      "[1533]\tvalid_0's rmse: 2.00766\n",
      "valid_score:  RMSE = 2.0076570634178093\n",
      "Training until validation scores don't improve for 500 rounds\n",
      "[100]\tvalid_0's rmse: 2.03936\n"
     ]
    },
    {
     "name": "stderr",
     "output_type": "stream",
     "text": [
      "\u001b[32m[I 2022-02-23 14:49:54,741]\u001b[0m Trial 361 finished with value: 2.0217025346780453 and parameters: {'n_estimators': 5000, 'num_leaves': 10, 'boosting': 'gbdt', 'max_depth': 4, 'max_bin': 32, 'min_data_in_leaf': 1, 'min_data_in_bin': 1, 'min_gain_to_split': 0.51, 'learning_rate': 0.0988530709883309, 'random_state': 0, 'feature_fraction': 0.8019641837412506, 'bagging_fraction': 0.6181992087868848, 'bagging_freq': 7, 'lambda_l1': 1.2416900021009808e-08, 'lambda_l2': 1.361476107297557e-08}. Best is trial 354 with value: 1.967147777953415.\u001b[0m\n"
     ]
    },
    {
     "name": "stdout",
     "output_type": "stream",
     "text": [
      "[200]\tvalid_0's rmse: 2.06726\n",
      "[300]\tvalid_0's rmse: 2.09874\n",
      "[400]\tvalid_0's rmse: 2.09432\n",
      "[500]\tvalid_0's rmse: 2.1085\n",
      "Early stopping, best iteration is:\n",
      "[85]\tvalid_0's rmse: 2.0217\n",
      "valid_score:  RMSE = 2.0217025346780453\n"
     ]
    },
    {
     "name": "stderr",
     "output_type": "stream",
     "text": [
      "\u001b[32m[I 2022-02-23 14:49:54,968]\u001b[0m Trial 362 finished with value: 2.0833145499831978 and parameters: {'n_estimators': 10000, 'num_leaves': 14, 'boosting': 'gbdt', 'max_depth': 12, 'max_bin': 32, 'min_data_in_leaf': 1, 'min_data_in_bin': 1, 'min_gain_to_split': 3.49, 'learning_rate': 0.2812728121391162, 'random_state': 0, 'feature_fraction': 0.5459520582056443, 'bagging_fraction': 0.6760194760540585, 'bagging_freq': 8, 'lambda_l1': 4.146061328931762e-05, 'lambda_l2': 8.460610300298549e-08}. Best is trial 354 with value: 1.967147777953415.\u001b[0m\n"
     ]
    },
    {
     "name": "stdout",
     "output_type": "stream",
     "text": [
      "Training until validation scores don't improve for 500 rounds\n",
      "[100]\tvalid_0's rmse: 2.08815\n",
      "[200]\tvalid_0's rmse: 2.08815\n",
      "[300]\tvalid_0's rmse: 2.08815\n",
      "[400]\tvalid_0's rmse: 2.08815\n",
      "[500]\tvalid_0's rmse: 2.08815\n",
      "Early stopping, best iteration is:\n",
      "[32]\tvalid_0's rmse: 2.07937\n",
      "valid_score:  RMSE = 2.0833145499831978\n"
     ]
    },
    {
     "name": "stderr",
     "output_type": "stream",
     "text": [
      "\u001b[32m[I 2022-02-23 14:49:55,203]\u001b[0m Trial 363 finished with value: 2.034014502093071 and parameters: {'n_estimators': 5000, 'num_leaves': 5, 'boosting': 'gbdt', 'max_depth': 11, 'max_bin': 32, 'min_data_in_leaf': 1, 'min_data_in_bin': 1, 'min_gain_to_split': 1.7200000000000002, 'learning_rate': 0.1276532070725333, 'random_state': 0, 'feature_fraction': 0.988744605562995, 'bagging_fraction': 0.8723064570377992, 'bagging_freq': 4, 'lambda_l1': 0.5348752044823659, 'lambda_l2': 0.00028868735100096704}. Best is trial 354 with value: 1.967147777953415.\u001b[0m\n"
     ]
    },
    {
     "name": "stdout",
     "output_type": "stream",
     "text": [
      "Training until validation scores don't improve for 500 rounds\n",
      "[100]\tvalid_0's rmse: 2.03498\n",
      "[200]\tvalid_0's rmse: 2.04464\n",
      "[300]\tvalid_0's rmse: 2.04032\n",
      "[400]\tvalid_0's rmse: 2.04032\n",
      "[500]\tvalid_0's rmse: 2.04032\n",
      "[600]\tvalid_0's rmse: 2.04032\n",
      "Early stopping, best iteration is:\n",
      "[107]\tvalid_0's rmse: 2.03401\n",
      "valid_score:  RMSE = 2.034014502093071\n"
     ]
    },
    {
     "name": "stderr",
     "output_type": "stream",
     "text": [
      "\u001b[32m[I 2022-02-23 14:49:55,419]\u001b[0m Trial 364 finished with value: 2.043365142883652 and parameters: {'n_estimators': 10000, 'num_leaves': 12, 'boosting': 'gbdt', 'max_depth': 12, 'max_bin': 32, 'min_data_in_leaf': 1, 'min_data_in_bin': 1, 'min_gain_to_split': 4.37, 'learning_rate': 0.23312688462269218, 'random_state': 0, 'feature_fraction': 0.513931382131122, 'bagging_fraction': 0.9488261431536328, 'bagging_freq': 3, 'lambda_l1': 0.09192513539138505, 'lambda_l2': 1.0795579043960876e-06}. Best is trial 354 with value: 1.967147777953415.\u001b[0m\n"
     ]
    },
    {
     "name": "stdout",
     "output_type": "stream",
     "text": [
      "Training until validation scores don't improve for 500 rounds\n",
      "[100]\tvalid_0's rmse: 2.04853\n",
      "[200]\tvalid_0's rmse: 2.04853\n",
      "[300]\tvalid_0's rmse: 2.04853\n",
      "[400]\tvalid_0's rmse: 2.04853\n",
      "[500]\tvalid_0's rmse: 2.04853\n",
      "Early stopping, best iteration is:\n",
      "[36]\tvalid_0's rmse: 2.04337\n",
      "valid_score:  RMSE = 2.043365142883652\n",
      "Training until validation scores don't improve for 500 rounds\n",
      "[100]\tvalid_0's rmse: 2.10216\n",
      "[200]\tvalid_0's rmse: 2.10438\n",
      "[300]\tvalid_0's rmse: 2.12758\n"
     ]
    },
    {
     "name": "stderr",
     "output_type": "stream",
     "text": [
      "\u001b[32m[I 2022-02-23 14:49:55,784]\u001b[0m Trial 365 finished with value: 2.0519052255805357 and parameters: {'n_estimators': 5000, 'num_leaves': 5, 'boosting': 'gbdt', 'max_depth': 13, 'max_bin': 32, 'min_data_in_leaf': 1, 'min_data_in_bin': 1, 'min_gain_to_split': 0.79, 'learning_rate': 0.16572940964217367, 'random_state': 0, 'feature_fraction': 0.9314600136123111, 'bagging_fraction': 0.73979807955478, 'bagging_freq': 5, 'lambda_l1': 0.3250200323525207, 'lambda_l2': 0.001171071806074747}. Best is trial 354 with value: 1.967147777953415.\u001b[0m\n"
     ]
    },
    {
     "name": "stdout",
     "output_type": "stream",
     "text": [
      "[400]\tvalid_0's rmse: 2.12408\n",
      "[500]\tvalid_0's rmse: 2.1404\n",
      "Early stopping, best iteration is:\n",
      "[33]\tvalid_0's rmse: 2.05191\n",
      "valid_score:  RMSE = 2.0519052255805357\n",
      "Training until validation scores don't improve for 500 rounds\n",
      "[100]\tvalid_0's rmse: 2.19603\n",
      "[200]\tvalid_0's rmse: 2.08736\n",
      "[300]\tvalid_0's rmse: 2.07331\n"
     ]
    },
    {
     "name": "stderr",
     "output_type": "stream",
     "text": [
      "\u001b[32m[I 2022-02-23 14:49:56,099]\u001b[0m Trial 366 finished with value: 2.0250955424443697 and parameters: {'n_estimators': 10000, 'num_leaves': 2, 'boosting': 'gbdt', 'max_depth': 15, 'max_bin': 32, 'min_data_in_leaf': 1, 'min_data_in_bin': 1, 'min_gain_to_split': 1.09, 'learning_rate': 0.04480467724990738, 'random_state': 0, 'feature_fraction': 0.7614032239501277, 'bagging_fraction': 0.4317434795088349, 'bagging_freq': 7, 'lambda_l1': 1.862680993859581e-06, 'lambda_l2': 1.5289280495386106e-06}. Best is trial 354 with value: 1.967147777953415.\u001b[0m\n"
     ]
    },
    {
     "name": "stdout",
     "output_type": "stream",
     "text": [
      "[400]\tvalid_0's rmse: 2.04983\n",
      "[500]\tvalid_0's rmse: 2.03663\n",
      "[600]\tvalid_0's rmse: 2.03179\n",
      "[700]\tvalid_0's rmse: 2.03335\n",
      "[800]\tvalid_0's rmse: 2.03286\n",
      "[900]\tvalid_0's rmse: 2.04666\n",
      "[1000]\tvalid_0's rmse: 2.06189\n",
      "[1100]\tvalid_0's rmse: 2.05018\n",
      "[1200]\tvalid_0's rmse: 2.05287\n",
      "Early stopping, best iteration is:\n",
      "[723]\tvalid_0's rmse: 2.0251\n",
      "valid_score:  RMSE = 2.0250955424443697\n",
      "Training until validation scores don't improve for 500 rounds\n",
      "[100]\tvalid_0's rmse: 2.04438\n",
      "[200]\tvalid_0's rmse: 2.02057\n",
      "[300]\tvalid_0's rmse: 2.04544\n",
      "[400]\tvalid_0's rmse: 2.04539\n",
      "[500]\tvalid_0's rmse: 2.04539\n"
     ]
    },
    {
     "name": "stderr",
     "output_type": "stream",
     "text": [
      "\u001b[32m[I 2022-02-23 14:49:56,376]\u001b[0m Trial 367 finished with value: 2.016577872082278 and parameters: {'n_estimators': 5000, 'num_leaves': 3, 'boosting': 'gbdt', 'max_depth': 3, 'max_bin': 32, 'min_data_in_leaf': 1, 'min_data_in_bin': 1, 'min_gain_to_split': 2.7, 'learning_rate': 0.2918196895056339, 'random_state': 0, 'feature_fraction': 0.6964945341165073, 'bagging_fraction': 0.7655188468831102, 'bagging_freq': 7, 'lambda_l1': 1.1491367419272463e-07, 'lambda_l2': 3.0707284083401764e-07}. Best is trial 354 with value: 1.967147777953415.\u001b[0m\n"
     ]
    },
    {
     "name": "stdout",
     "output_type": "stream",
     "text": [
      "[600]\tvalid_0's rmse: 2.04539\n",
      "Early stopping, best iteration is:\n",
      "[166]\tvalid_0's rmse: 2.01658\n",
      "valid_score:  RMSE = 2.016577872082278\n",
      "Training until validation scores don't improve for 500 rounds\n",
      "[100]\tvalid_0's rmse: 2.07196\n",
      "[200]\tvalid_0's rmse: 2.04231\n",
      "[300]\tvalid_0's rmse: 2.04175\n"
     ]
    },
    {
     "name": "stderr",
     "output_type": "stream",
     "text": [
      "\u001b[32m[I 2022-02-23 14:49:56,709]\u001b[0m Trial 368 finished with value: 2.030516008390779 and parameters: {'n_estimators': 5000, 'num_leaves': 2, 'boosting': 'gbdt', 'max_depth': 2, 'max_bin': 32, 'min_data_in_leaf': 1, 'min_data_in_bin': 1, 'min_gain_to_split': 3.73, 'learning_rate': 0.20527552406226265, 'random_state': 0, 'feature_fraction': 0.6904021664589939, 'bagging_fraction': 0.6730911597097089, 'bagging_freq': 2, 'lambda_l1': 1.5643506660171987e-05, 'lambda_l2': 6.711512429083079e-06}. Best is trial 354 with value: 1.967147777953415.\u001b[0m\n"
     ]
    },
    {
     "name": "stdout",
     "output_type": "stream",
     "text": [
      "[400]\tvalid_0's rmse: 2.04269\n",
      "[500]\tvalid_0's rmse: 2.03677\n",
      "[600]\tvalid_0's rmse: 2.05792\n",
      "[700]\tvalid_0's rmse: 2.05153\n",
      "[800]\tvalid_0's rmse: 2.0468\n",
      "[900]\tvalid_0's rmse: 2.04893\n",
      "[1000]\tvalid_0's rmse: 2.04532\n",
      "Early stopping, best iteration is:\n",
      "[534]\tvalid_0's rmse: 2.03052\n",
      "valid_score:  RMSE = 2.030516008390779\n",
      "Training until validation scores don't improve for 500 rounds\n",
      "[100]\tvalid_0's rmse: 2.1276\n",
      "[200]\tvalid_0's rmse: 2.05412\n",
      "[300]\tvalid_0's rmse: 2.03904\n",
      "[400]\tvalid_0's rmse: 2.02604\n",
      "[500]\tvalid_0's rmse: 2.01645\n",
      "[600]\tvalid_0's rmse: 2.01711\n",
      "[700]\tvalid_0's rmse: 2.01961\n",
      "[800]\tvalid_0's rmse: 2.01486\n",
      "[900]\tvalid_0's rmse: 2.01036\n",
      "[1000]\tvalid_0's rmse: 2.0092\n"
     ]
    },
    {
     "name": "stderr",
     "output_type": "stream",
     "text": [
      "\u001b[32m[I 2022-02-23 14:49:57,176]\u001b[0m Trial 369 finished with value: 2.0026496985286713 and parameters: {'n_estimators': 5000, 'num_leaves': 4, 'boosting': 'gbdt', 'max_depth': 4, 'max_bin': 32, 'min_data_in_leaf': 1, 'min_data_in_bin': 1, 'min_gain_to_split': 0.69, 'learning_rate': 0.03274685742036682, 'random_state': 0, 'feature_fraction': 0.4234982881045701, 'bagging_fraction': 0.6212391100448446, 'bagging_freq': 2, 'lambda_l1': 1.0333860012287917e-06, 'lambda_l2': 0.07888967140613717}. Best is trial 354 with value: 1.967147777953415.\u001b[0m\n"
     ]
    },
    {
     "name": "stdout",
     "output_type": "stream",
     "text": [
      "[1100]\tvalid_0's rmse: 2.00963\n",
      "[1200]\tvalid_0's rmse: 2.00545\n",
      "[1300]\tvalid_0's rmse: 2.00926\n",
      "[1400]\tvalid_0's rmse: 2.00509\n",
      "[1500]\tvalid_0's rmse: 2.00974\n",
      "[1600]\tvalid_0's rmse: 2.00599\n",
      "[1700]\tvalid_0's rmse: 2.00492\n",
      "[1800]\tvalid_0's rmse: 2.00598\n",
      "Early stopping, best iteration is:\n",
      "[1339]\tvalid_0's rmse: 2.00265\n",
      "valid_score:  RMSE = 2.0026496985286713\n",
      "Training until validation scores don't improve for 500 rounds\n"
     ]
    },
    {
     "name": "stderr",
     "output_type": "stream",
     "text": [
      "\u001b[32m[I 2022-02-23 14:49:57,447]\u001b[0m Trial 370 finished with value: 2.0265702951529128 and parameters: {'n_estimators': 5000, 'num_leaves': 9, 'boosting': 'gbdt', 'max_depth': 12, 'max_bin': 32, 'min_data_in_leaf': 1, 'min_data_in_bin': 1, 'min_gain_to_split': 1.57, 'learning_rate': 0.28027952716491045, 'random_state': 0, 'feature_fraction': 0.5701191005726782, 'bagging_fraction': 0.7866357621074527, 'bagging_freq': 8, 'lambda_l1': 0.009322338697697856, 'lambda_l2': 0.0024147328722961313}. Best is trial 354 with value: 1.967147777953415.\u001b[0m\n"
     ]
    },
    {
     "name": "stdout",
     "output_type": "stream",
     "text": [
      "[100]\tvalid_0's rmse: 2.09561\n",
      "[200]\tvalid_0's rmse: 2.09943\n",
      "[300]\tvalid_0's rmse: 2.09943\n",
      "[400]\tvalid_0's rmse: 2.09943\n",
      "[500]\tvalid_0's rmse: 2.09943\n",
      "Early stopping, best iteration is:\n",
      "[19]\tvalid_0's rmse: 2.02657\n",
      "valid_score:  RMSE = 2.0265702951529128\n",
      "Training until validation scores don't improve for 500 rounds\n",
      "[100]\tvalid_0's rmse: 2.05246\n",
      "[200]\tvalid_0's rmse: 2.05895\n",
      "[300]\tvalid_0's rmse: 2.06114\n",
      "[400]\tvalid_0's rmse: 2.06114\n",
      "[500]\tvalid_0's rmse: 2.06114\n"
     ]
    },
    {
     "name": "stderr",
     "output_type": "stream",
     "text": [
      "\u001b[32m[I 2022-02-23 14:49:57,809]\u001b[0m Trial 371 finished with value: 2.045626949865546 and parameters: {'n_estimators': 5000, 'num_leaves': 12, 'boosting': 'gbdt', 'max_depth': 14, 'max_bin': 32, 'min_data_in_leaf': 1, 'min_data_in_bin': 1, 'min_gain_to_split': 1.2500000000000002, 'learning_rate': 0.08180589744721373, 'random_state': 0, 'feature_fraction': 0.4492891238797986, 'bagging_fraction': 0.8046339699899066, 'bagging_freq': 5, 'lambda_l1': 0.06947027387892235, 'lambda_l2': 0.004272202796928221}. Best is trial 354 with value: 1.967147777953415.\u001b[0m\n"
     ]
    },
    {
     "name": "stdout",
     "output_type": "stream",
     "text": [
      "Early stopping, best iteration is:\n",
      "[75]\tvalid_0's rmse: 2.04563\n",
      "valid_score:  RMSE = 2.045626949865546\n",
      "Training until validation scores don't improve for 500 rounds\n",
      "[100]\tvalid_0's rmse: 2.0685\n",
      "[200]\tvalid_0's rmse: 2.07969\n",
      "[300]\tvalid_0's rmse: 2.09953\n"
     ]
    },
    {
     "name": "stderr",
     "output_type": "stream",
     "text": [
      "\u001b[32m[I 2022-02-23 14:49:58,073]\u001b[0m Trial 372 finished with value: 2.0359808231569456 and parameters: {'n_estimators': 10000, 'num_leaves': 7, 'boosting': 'gbdt', 'max_depth': 13, 'max_bin': 32, 'min_data_in_leaf': 1, 'min_data_in_bin': 1, 'min_gain_to_split': 3.0500000000000003, 'learning_rate': 0.16354740016483074, 'random_state': 0, 'feature_fraction': 0.9220985158708113, 'bagging_fraction': 0.5682769932452117, 'bagging_freq': 3, 'lambda_l1': 0.12020846908556615, 'lambda_l2': 0.00421137784097413}. Best is trial 354 with value: 1.967147777953415.\u001b[0m\n"
     ]
    },
    {
     "name": "stdout",
     "output_type": "stream",
     "text": [
      "[400]\tvalid_0's rmse: 2.09953\n",
      "[500]\tvalid_0's rmse: 2.09953\n",
      "Early stopping, best iteration is:\n",
      "[45]\tvalid_0's rmse: 2.03598\n",
      "valid_score:  RMSE = 2.0359808231569456\n",
      "Training until validation scores don't improve for 500 rounds\n",
      "[100]\tvalid_0's rmse: 2.24608\n"
     ]
    },
    {
     "name": "stderr",
     "output_type": "stream",
     "text": [
      "\u001b[32m[I 2022-02-23 14:49:58,333]\u001b[0m Trial 373 finished with value: 2.1359392500745384 and parameters: {'n_estimators': 10000, 'num_leaves': 11, 'boosting': 'gbdt', 'max_depth': 6, 'max_bin': 32, 'min_data_in_leaf': 1, 'min_data_in_bin': 1, 'min_gain_to_split': 1.1700000000000002, 'learning_rate': 0.29602507505306375, 'random_state': 0, 'feature_fraction': 0.7658308184787095, 'bagging_fraction': 0.7799500331187679, 'bagging_freq': 2, 'lambda_l1': 0.04435360348429373, 'lambda_l2': 1.5966868229485354e-08}. Best is trial 354 with value: 1.967147777953415.\u001b[0m\n"
     ]
    },
    {
     "name": "stdout",
     "output_type": "stream",
     "text": [
      "[200]\tvalid_0's rmse: 2.28413\n",
      "[300]\tvalid_0's rmse: 2.28413\n",
      "[400]\tvalid_0's rmse: 2.28413\n",
      "[500]\tvalid_0's rmse: 2.28413\n",
      "Early stopping, best iteration is:\n",
      "[11]\tvalid_0's rmse: 2.13594\n",
      "valid_score:  RMSE = 2.1359392500745384\n",
      "Training until validation scores don't improve for 500 rounds\n",
      "[100]\tvalid_0's rmse: 2.06428\n",
      "[200]\tvalid_0's rmse: 2.1103\n",
      "[300]\tvalid_0's rmse: 2.11974\n"
     ]
    },
    {
     "name": "stderr",
     "output_type": "stream",
     "text": [
      "\u001b[32m[I 2022-02-23 14:49:58,837]\u001b[0m Trial 374 finished with value: 2.041833808425218 and parameters: {'n_estimators': 10000, 'num_leaves': 14, 'boosting': 'gbdt', 'max_depth': 5, 'max_bin': 32, 'min_data_in_leaf': 1, 'min_data_in_bin': 1, 'min_gain_to_split': 2.04, 'learning_rate': 0.06297794699942974, 'random_state': 0, 'feature_fraction': 0.9996375452712865, 'bagging_fraction': 0.4617396393936328, 'bagging_freq': 8, 'lambda_l1': 0.000100828163995568, 'lambda_l2': 6.146272881023901e-07}. Best is trial 354 with value: 1.967147777953415.\u001b[0m\n"
     ]
    },
    {
     "name": "stdout",
     "output_type": "stream",
     "text": [
      "[400]\tvalid_0's rmse: 2.14181\n",
      "[500]\tvalid_0's rmse: 2.13766\n",
      "Early stopping, best iteration is:\n",
      "[60]\tvalid_0's rmse: 2.04183\n",
      "valid_score:  RMSE = 2.041833808425218\n",
      "Training until validation scores don't improve for 500 rounds\n",
      "[100]\tvalid_0's rmse: 2.0419\n",
      "[200]\tvalid_0's rmse: 2.05109\n",
      "[300]\tvalid_0's rmse: 2.05897\n"
     ]
    },
    {
     "name": "stderr",
     "output_type": "stream",
     "text": [
      "\u001b[32m[I 2022-02-23 14:49:59,070]\u001b[0m Trial 375 finished with value: 2.0256840321332272 and parameters: {'n_estimators': 5000, 'num_leaves': 8, 'boosting': 'gbdt', 'max_depth': 7, 'max_bin': 32, 'min_data_in_leaf': 1, 'min_data_in_bin': 1, 'min_gain_to_split': 0.45000000000000007, 'learning_rate': 0.11920145542955676, 'random_state': 0, 'feature_fraction': 0.6680487341420807, 'bagging_fraction': 0.6528900956868493, 'bagging_freq': 3, 'lambda_l1': 0.0179791789359253, 'lambda_l2': 8.959589394441482e-05}. Best is trial 354 with value: 1.967147777953415.\u001b[0m\n"
     ]
    },
    {
     "name": "stdout",
     "output_type": "stream",
     "text": [
      "[400]\tvalid_0's rmse: 2.08977\n",
      "[500]\tvalid_0's rmse: 2.09566\n",
      "[600]\tvalid_0's rmse: 2.10884\n",
      "Early stopping, best iteration is:\n",
      "[113]\tvalid_0's rmse: 2.02568\n",
      "valid_score:  RMSE = 2.0256840321332272\n",
      "Training until validation scores don't improve for 500 rounds\n",
      "[100]\tvalid_0's rmse: 2.0733\n",
      "[200]\tvalid_0's rmse: 2.08178\n"
     ]
    },
    {
     "name": "stderr",
     "output_type": "stream",
     "text": [
      "\u001b[32m[I 2022-02-23 14:49:59,321]\u001b[0m Trial 376 finished with value: 2.043406575233164 and parameters: {'n_estimators': 10000, 'num_leaves': 16, 'boosting': 'gbdt', 'max_depth': 3, 'max_bin': 32, 'min_data_in_leaf': 1, 'min_data_in_bin': 1, 'min_gain_to_split': 2.92, 'learning_rate': 0.2294294749167143, 'random_state': 0, 'feature_fraction': 0.5968006334661313, 'bagging_fraction': 0.7914978271649467, 'bagging_freq': 1, 'lambda_l1': 1.2366622777912681e-08, 'lambda_l2': 5.536314046004631e-07}. Best is trial 354 with value: 1.967147777953415.\u001b[0m\n"
     ]
    },
    {
     "name": "stdout",
     "output_type": "stream",
     "text": [
      "[300]\tvalid_0's rmse: 2.08178\n",
      "[400]\tvalid_0's rmse: 2.08178\n",
      "[500]\tvalid_0's rmse: 2.08178\n",
      "Early stopping, best iteration is:\n",
      "[26]\tvalid_0's rmse: 2.04341\n",
      "valid_score:  RMSE = 2.043406575233164\n",
      "Training until validation scores don't improve for 500 rounds\n",
      "[100]\tvalid_0's rmse: 2.15779\n",
      "[200]\tvalid_0's rmse: 2.08675\n",
      "[300]\tvalid_0's rmse: 2.06371\n",
      "[400]\tvalid_0's rmse: 2.05096\n",
      "[500]\tvalid_0's rmse: 2.04874\n",
      "[600]\tvalid_0's rmse: 2.0462\n",
      "[700]\tvalid_0's rmse: 2.04738\n",
      "[800]\tvalid_0's rmse: 2.04684\n",
      "[900]\tvalid_0's rmse: 2.04705\n"
     ]
    },
    {
     "name": "stderr",
     "output_type": "stream",
     "text": [
      "\u001b[32m[I 2022-02-23 14:49:59,756]\u001b[0m Trial 377 finished with value: 2.044417373727003 and parameters: {'n_estimators': 10000, 'num_leaves': 2, 'boosting': 'gbdt', 'max_depth': 11, 'max_bin': 32, 'min_data_in_leaf': 1, 'min_data_in_bin': 1, 'min_gain_to_split': 1.86, 'learning_rate': 0.06778314526746569, 'random_state': 0, 'feature_fraction': 0.7682629010923233, 'bagging_fraction': 0.9240226924922585, 'bagging_freq': 2, 'lambda_l1': 0.6815469525254819, 'lambda_l2': 9.555636807149404e-05}. Best is trial 354 with value: 1.967147777953415.\u001b[0m\n"
     ]
    },
    {
     "name": "stdout",
     "output_type": "stream",
     "text": [
      "[1000]\tvalid_0's rmse: 2.04967\n",
      "[1100]\tvalid_0's rmse: 2.04845\n",
      "[1200]\tvalid_0's rmse: 2.04714\n",
      "Early stopping, best iteration is:\n",
      "[773]\tvalid_0's rmse: 2.04442\n",
      "valid_score:  RMSE = 2.044417373727003\n",
      "Training until validation scores don't improve for 500 rounds\n",
      "[100]\tvalid_0's rmse: 2.02139\n",
      "[200]\tvalid_0's rmse: 2.02139\n"
     ]
    },
    {
     "name": "stderr",
     "output_type": "stream",
     "text": [
      "\u001b[32m[I 2022-02-23 14:50:00,005]\u001b[0m Trial 378 finished with value: 2.0183260976821287 and parameters: {'n_estimators': 10000, 'num_leaves': 11, 'boosting': 'gbdt', 'max_depth': 2, 'max_bin': 32, 'min_data_in_leaf': 1, 'min_data_in_bin': 1, 'min_gain_to_split': 2.79, 'learning_rate': 0.29852234101034447, 'random_state': 0, 'feature_fraction': 0.5056030453167825, 'bagging_fraction': 0.9982373157459378, 'bagging_freq': 3, 'lambda_l1': 1.1323036428892432e-06, 'lambda_l2': 5.741319492954436e-07}. Best is trial 354 with value: 1.967147777953415.\u001b[0m\n"
     ]
    },
    {
     "name": "stdout",
     "output_type": "stream",
     "text": [
      "[300]\tvalid_0's rmse: 2.02139\n",
      "[400]\tvalid_0's rmse: 2.02139\n",
      "[500]\tvalid_0's rmse: 2.02139\n",
      "Early stopping, best iteration is:\n",
      "[59]\tvalid_0's rmse: 2.01833\n",
      "valid_score:  RMSE = 2.0183260976821287\n",
      "Training until validation scores don't improve for 500 rounds\n",
      "[100]\tvalid_0's rmse: 2.07423\n",
      "[200]\tvalid_0's rmse: 2.02141\n",
      "[300]\tvalid_0's rmse: 2.0311\n",
      "[400]\tvalid_0's rmse: 2.02015\n",
      "[500]\tvalid_0's rmse: 2.02826\n"
     ]
    },
    {
     "name": "stderr",
     "output_type": "stream",
     "text": [
      "\u001b[32m[I 2022-02-23 14:50:00,459]\u001b[0m Trial 379 finished with value: 2.0183887678220476 and parameters: {'n_estimators': 5000, 'num_leaves': 5, 'boosting': 'gbdt', 'max_depth': 14, 'max_bin': 32, 'min_data_in_leaf': 1, 'min_data_in_bin': 1, 'min_gain_to_split': 0.63, 'learning_rate': 0.048644286618540415, 'random_state': 0, 'feature_fraction': 0.85837696904397, 'bagging_fraction': 0.6623522147621037, 'bagging_freq': 2, 'lambda_l1': 0.006117727061366469, 'lambda_l2': 0.02580105012664305}. Best is trial 354 with value: 1.967147777953415.\u001b[0m\n"
     ]
    },
    {
     "name": "stdout",
     "output_type": "stream",
     "text": [
      "[600]\tvalid_0's rmse: 2.03654\n",
      "[700]\tvalid_0's rmse: 2.03922\n",
      "[800]\tvalid_0's rmse: 2.04835\n",
      "[900]\tvalid_0's rmse: 2.05324\n",
      "Early stopping, best iteration is:\n",
      "[442]\tvalid_0's rmse: 2.01839\n",
      "valid_score:  RMSE = 2.0183887678220476\n",
      "Training until validation scores don't improve for 500 rounds\n"
     ]
    },
    {
     "name": "stderr",
     "output_type": "stream",
     "text": [
      "\u001b[32m[I 2022-02-23 14:50:00,745]\u001b[0m Trial 380 finished with value: 2.094135299100297 and parameters: {'n_estimators': 10000, 'num_leaves': 12, 'boosting': 'gbdt', 'max_depth': 8, 'max_bin': 32, 'min_data_in_leaf': 1, 'min_data_in_bin': 1, 'min_gain_to_split': 3.91, 'learning_rate': 0.24579245763509602, 'random_state': 0, 'feature_fraction': 0.7917356167832652, 'bagging_fraction': 0.4549986594756898, 'bagging_freq': 4, 'lambda_l1': 0.0002723052950104659, 'lambda_l2': 0.010984233768972538}. Best is trial 354 with value: 1.967147777953415.\u001b[0m\n"
     ]
    },
    {
     "name": "stdout",
     "output_type": "stream",
     "text": [
      "[100]\tvalid_0's rmse: 2.17617\n",
      "[200]\tvalid_0's rmse: 2.19371\n",
      "[300]\tvalid_0's rmse: 2.19371\n",
      "[400]\tvalid_0's rmse: 2.19371\n",
      "[500]\tvalid_0's rmse: 2.19371\n",
      "Early stopping, best iteration is:\n",
      "[11]\tvalid_0's rmse: 2.09414\n",
      "valid_score:  RMSE = 2.094135299100297\n",
      "Training until validation scores don't improve for 500 rounds\n"
     ]
    },
    {
     "name": "stderr",
     "output_type": "stream",
     "text": [
      "\u001b[32m[I 2022-02-23 14:50:00,925]\u001b[0m Trial 381 finished with value: 2.0224199560937204 and parameters: {'n_estimators': 5000, 'num_leaves': 5, 'boosting': 'gbdt', 'max_depth': 16, 'max_bin': 32, 'min_data_in_leaf': 1, 'min_data_in_bin': 1, 'min_gain_to_split': 0.9, 'learning_rate': 0.15761135575638235, 'random_state': 0, 'feature_fraction': 0.4803736882132612, 'bagging_fraction': 0.4185211467963844, 'bagging_freq': 3, 'lambda_l1': 0.0005891113136734889, 'lambda_l2': 0.6739336776975788}. Best is trial 354 with value: 1.967147777953415.\u001b[0m\n"
     ]
    },
    {
     "name": "stdout",
     "output_type": "stream",
     "text": [
      "[100]\tvalid_0's rmse: 2.0721\n",
      "[200]\tvalid_0's rmse: 2.10514\n",
      "[300]\tvalid_0's rmse: 2.12611\n",
      "[400]\tvalid_0's rmse: 2.14211\n",
      "[500]\tvalid_0's rmse: 2.17351\n",
      "Early stopping, best iteration is:\n",
      "[65]\tvalid_0's rmse: 2.02242\n",
      "valid_score:  RMSE = 2.0224199560937204\n",
      "Training until validation scores don't improve for 500 rounds\n"
     ]
    },
    {
     "name": "stderr",
     "output_type": "stream",
     "text": [
      "\u001b[32m[I 2022-02-23 14:50:01,238]\u001b[0m Trial 382 finished with value: 2.063145563123476 and parameters: {'n_estimators': 5000, 'num_leaves': 10, 'boosting': 'gbdt', 'max_depth': 13, 'max_bin': 32, 'min_data_in_leaf': 1, 'min_data_in_bin': 1, 'min_gain_to_split': 0.71, 'learning_rate': 0.03637810976344866, 'random_state': 0, 'feature_fraction': 0.7712737498564135, 'bagging_fraction': 0.4294943133253488, 'bagging_freq': 8, 'lambda_l1': 0.7909843363337995, 'lambda_l2': 3.7568702842569845e-07}. Best is trial 354 with value: 1.967147777953415.\u001b[0m\n"
     ]
    },
    {
     "name": "stdout",
     "output_type": "stream",
     "text": [
      "[100]\tvalid_0's rmse: 2.09706\n",
      "[200]\tvalid_0's rmse: 2.06963\n",
      "[300]\tvalid_0's rmse: 2.08836\n",
      "[400]\tvalid_0's rmse: 2.08666\n",
      "[500]\tvalid_0's rmse: 2.08874\n",
      "[600]\tvalid_0's rmse: 2.10233\n",
      "[700]\tvalid_0's rmse: 2.10651\n",
      "Early stopping, best iteration is:\n",
      "[218]\tvalid_0's rmse: 2.06315\n",
      "valid_score:  RMSE = 2.063145563123476\n"
     ]
    },
    {
     "name": "stderr",
     "output_type": "stream",
     "text": [
      "\u001b[32m[I 2022-02-23 14:50:01,448]\u001b[0m Trial 383 finished with value: 2.0239965573125414 and parameters: {'n_estimators': 5000, 'num_leaves': 12, 'boosting': 'gbdt', 'max_depth': 13, 'max_bin': 32, 'min_data_in_leaf': 1, 'min_data_in_bin': 1, 'min_gain_to_split': 2.98, 'learning_rate': 0.20203501225034798, 'random_state': 0, 'feature_fraction': 0.7911815856594173, 'bagging_fraction': 0.6146918246208869, 'bagging_freq': 8, 'lambda_l1': 0.009611682522198557, 'lambda_l2': 8.657169611095034e-05}. Best is trial 354 with value: 1.967147777953415.\u001b[0m\n"
     ]
    },
    {
     "name": "stdout",
     "output_type": "stream",
     "text": [
      "Training until validation scores don't improve for 500 rounds\n",
      "[100]\tvalid_0's rmse: 2.07297\n",
      "[200]\tvalid_0's rmse: 2.07297\n",
      "[300]\tvalid_0's rmse: 2.07297\n",
      "[400]\tvalid_0's rmse: 2.07297\n",
      "[500]\tvalid_0's rmse: 2.07297\n",
      "Early stopping, best iteration is:\n",
      "[40]\tvalid_0's rmse: 2.024\n",
      "valid_score:  RMSE = 2.0239965573125414\n"
     ]
    },
    {
     "name": "stderr",
     "output_type": "stream",
     "text": [
      "\u001b[32m[I 2022-02-23 14:50:01,648]\u001b[0m Trial 384 finished with value: 2.0027174026794317 and parameters: {'n_estimators': 10000, 'num_leaves': 8, 'boosting': 'gbdt', 'max_depth': 10, 'max_bin': 32, 'min_data_in_leaf': 1, 'min_data_in_bin': 1, 'min_gain_to_split': 1.85, 'learning_rate': 0.23358452766932997, 'random_state': 0, 'feature_fraction': 0.4624167825724829, 'bagging_fraction': 0.840772731823881, 'bagging_freq': 6, 'lambda_l1': 0.013576927427952357, 'lambda_l2': 0.0001499336077766384}. Best is trial 354 with value: 1.967147777953415.\u001b[0m\n"
     ]
    },
    {
     "name": "stdout",
     "output_type": "stream",
     "text": [
      "Training until validation scores don't improve for 500 rounds\n",
      "[100]\tvalid_0's rmse: 2.05181\n",
      "[200]\tvalid_0's rmse: 2.04421\n",
      "[300]\tvalid_0's rmse: 2.04421\n",
      "[400]\tvalid_0's rmse: 2.04421\n",
      "[500]\tvalid_0's rmse: 2.04421\n",
      "Early stopping, best iteration is:\n",
      "[27]\tvalid_0's rmse: 2.00272\n",
      "valid_score:  RMSE = 2.0027174026794317\n",
      "Training until validation scores don't improve for 500 rounds\n"
     ]
    },
    {
     "name": "stderr",
     "output_type": "stream",
     "text": [
      "\u001b[32m[I 2022-02-23 14:50:01,867]\u001b[0m Trial 385 finished with value: 2.0406004740391785 and parameters: {'n_estimators': 5000, 'num_leaves': 9, 'boosting': 'gbdt', 'max_depth': 7, 'max_bin': 32, 'min_data_in_leaf': 1, 'min_data_in_bin': 1, 'min_gain_to_split': 3.74, 'learning_rate': 0.23466243788999205, 'random_state': 0, 'feature_fraction': 0.5202718890082119, 'bagging_fraction': 0.6596974159920828, 'bagging_freq': 3, 'lambda_l1': 0.12287845428921607, 'lambda_l2': 0.004577045143965966}. Best is trial 354 with value: 1.967147777953415.\u001b[0m\n"
     ]
    },
    {
     "name": "stdout",
     "output_type": "stream",
     "text": [
      "[100]\tvalid_0's rmse: 2.07583\n",
      "[200]\tvalid_0's rmse: 2.08674\n",
      "[300]\tvalid_0's rmse: 2.08674\n",
      "[400]\tvalid_0's rmse: 2.08674\n",
      "[500]\tvalid_0's rmse: 2.08674\n",
      "Early stopping, best iteration is:\n",
      "[49]\tvalid_0's rmse: 2.0406\n",
      "valid_score:  RMSE = 2.0406004740391785\n",
      "Training until validation scores don't improve for 500 rounds\n"
     ]
    },
    {
     "name": "stderr",
     "output_type": "stream",
     "text": [
      "\u001b[32m[I 2022-02-23 14:50:02,112]\u001b[0m Trial 386 finished with value: 2.0240218398022223 and parameters: {'n_estimators': 5000, 'num_leaves': 5, 'boosting': 'gbdt', 'max_depth': 12, 'max_bin': 32, 'min_data_in_leaf': 1, 'min_data_in_bin': 1, 'min_gain_to_split': 1.55, 'learning_rate': 0.1922789897974566, 'random_state': 0, 'feature_fraction': 0.7771377016325474, 'bagging_fraction': 0.6089914228426269, 'bagging_freq': 6, 'lambda_l1': 0.47843353435771924, 'lambda_l2': 5.101285541511711e-07}. Best is trial 354 with value: 1.967147777953415.\u001b[0m\n"
     ]
    },
    {
     "name": "stdout",
     "output_type": "stream",
     "text": [
      "[100]\tvalid_0's rmse: 2.02402\n",
      "[200]\tvalid_0's rmse: 2.07311\n",
      "[300]\tvalid_0's rmse: 2.11399\n",
      "[400]\tvalid_0's rmse: 2.13007\n",
      "[500]\tvalid_0's rmse: 2.13976\n",
      "[600]\tvalid_0's rmse: 2.13976\n",
      "Early stopping, best iteration is:\n",
      "[100]\tvalid_0's rmse: 2.02402\n",
      "valid_score:  RMSE = 2.0240218398022223\n",
      "Training until validation scores don't improve for 500 rounds\n",
      "[100]\tvalid_0's rmse: 2.17355\n",
      "[200]\tvalid_0's rmse: 2.2041\n",
      "[300]\tvalid_0's rmse: 2.23494\n",
      "[400]\tvalid_0's rmse: 2.27627\n"
     ]
    },
    {
     "name": "stderr",
     "output_type": "stream",
     "text": [
      "\u001b[32m[I 2022-02-23 14:50:02,473]\u001b[0m Trial 387 finished with value: 2.0929111008446566 and parameters: {'n_estimators': 10000, 'num_leaves': 8, 'boosting': 'gbdt', 'max_depth': 9, 'max_bin': 32, 'min_data_in_leaf': 1, 'min_data_in_bin': 1, 'min_gain_to_split': 0.22, 'learning_rate': 0.24713009725914808, 'random_state': 0, 'feature_fraction': 0.7022732053943604, 'bagging_fraction': 0.5046633292103925, 'bagging_freq': 2, 'lambda_l1': 0.7012109614687153, 'lambda_l2': 0.0032925247863165247}. Best is trial 354 with value: 1.967147777953415.\u001b[0m\n"
     ]
    },
    {
     "name": "stdout",
     "output_type": "stream",
     "text": [
      "[500]\tvalid_0's rmse: 2.30201\n",
      "Early stopping, best iteration is:\n",
      "[13]\tvalid_0's rmse: 2.09291\n",
      "valid_score:  RMSE = 2.0929111008446566\n",
      "Training until validation scores don't improve for 500 rounds\n",
      "[100]\tvalid_0's rmse: 2.22599\n",
      "[200]\tvalid_0's rmse: 2.28799\n",
      "[300]\tvalid_0's rmse: 2.39711\n"
     ]
    },
    {
     "name": "stderr",
     "output_type": "stream",
     "text": [
      "\u001b[32m[I 2022-02-23 14:50:02,723]\u001b[0m Trial 388 finished with value: 2.052421994597388 and parameters: {'n_estimators': 5000, 'num_leaves': 5, 'boosting': 'gbdt', 'max_depth': 14, 'max_bin': 32, 'min_data_in_leaf': 1, 'min_data_in_bin': 1, 'min_gain_to_split': 3.14, 'learning_rate': 0.22027808635790855, 'random_state': 0, 'feature_fraction': 0.9527876443498162, 'bagging_fraction': 0.400929710461498, 'bagging_freq': 4, 'lambda_l1': 0.011068843647626872, 'lambda_l2': 0.008701829528144515}. Best is trial 354 with value: 1.967147777953415.\u001b[0m\n"
     ]
    },
    {
     "name": "stdout",
     "output_type": "stream",
     "text": [
      "[400]\tvalid_0's rmse: 2.4272\n",
      "[500]\tvalid_0's rmse: 2.45852\n",
      "Early stopping, best iteration is:\n",
      "[24]\tvalid_0's rmse: 2.05242\n",
      "valid_score:  RMSE = 2.052421994597388\n",
      "Training until validation scores don't improve for 500 rounds\n",
      "[100]\tvalid_0's rmse: 2.10151\n",
      "[200]\tvalid_0's rmse: 2.133\n",
      "[300]\tvalid_0's rmse: 2.13846\n",
      "[400]\tvalid_0's rmse: 2.14621\n"
     ]
    },
    {
     "name": "stderr",
     "output_type": "stream",
     "text": [
      "\u001b[32m[I 2022-02-23 14:50:02,934]\u001b[0m Trial 389 finished with value: 2.0548355077873164 and parameters: {'n_estimators': 10000, 'num_leaves': 6, 'boosting': 'gbdt', 'max_depth': 7, 'max_bin': 32, 'min_data_in_leaf': 1, 'min_data_in_bin': 1, 'min_gain_to_split': 1.3900000000000001, 'learning_rate': 0.1791585439680953, 'random_state': 0, 'feature_fraction': 0.8514244866931311, 'bagging_fraction': 0.47520781801057693, 'bagging_freq': 3, 'lambda_l1': 3.3054391272307734e-08, 'lambda_l2': 4.2662505911143286e-05}. Best is trial 354 with value: 1.967147777953415.\u001b[0m\n"
     ]
    },
    {
     "name": "stdout",
     "output_type": "stream",
     "text": [
      "[500]\tvalid_0's rmse: 2.1417\n",
      "Early stopping, best iteration is:\n",
      "[27]\tvalid_0's rmse: 2.05484\n",
      "valid_score:  RMSE = 2.0548355077873164\n",
      "Training until validation scores don't improve for 500 rounds\n",
      "[100]\tvalid_0's rmse: 2.06697\n",
      "[200]\tvalid_0's rmse: 2.04312\n",
      "[300]\tvalid_0's rmse: 2.0206\n",
      "[400]\tvalid_0's rmse: 2.02038\n"
     ]
    },
    {
     "name": "stderr",
     "output_type": "stream",
     "text": [
      "\u001b[32m[I 2022-02-23 14:50:03,281]\u001b[0m Trial 390 finished with value: 2.0203774404776667 and parameters: {'n_estimators': 5000, 'num_leaves': 6, 'boosting': 'gbdt', 'max_depth': 7, 'max_bin': 32, 'min_data_in_leaf': 1, 'min_data_in_bin': 1, 'min_gain_to_split': 4.56, 'learning_rate': 0.037481563665211576, 'random_state': 0, 'feature_fraction': 0.9530651756908667, 'bagging_fraction': 0.9786152232352152, 'bagging_freq': 3, 'lambda_l1': 1.3490091336084955e-08, 'lambda_l2': 9.048240809166676e-07}. Best is trial 354 with value: 1.967147777953415.\u001b[0m\n"
     ]
    },
    {
     "name": "stdout",
     "output_type": "stream",
     "text": [
      "[500]\tvalid_0's rmse: 2.02038\n",
      "[600]\tvalid_0's rmse: 2.02038\n",
      "[700]\tvalid_0's rmse: 2.02038\n",
      "[800]\tvalid_0's rmse: 2.02038\n",
      "Early stopping, best iteration is:\n",
      "[301]\tvalid_0's rmse: 2.02038\n",
      "valid_score:  RMSE = 2.0203774404776667\n",
      "Training until validation scores don't improve for 500 rounds\n"
     ]
    },
    {
     "name": "stderr",
     "output_type": "stream",
     "text": [
      "\u001b[32m[I 2022-02-23 14:50:03,610]\u001b[0m Trial 391 finished with value: 2.021754316302424 and parameters: {'n_estimators': 10000, 'num_leaves': 8, 'boosting': 'gbdt', 'max_depth': 14, 'max_bin': 32, 'min_data_in_leaf': 1, 'min_data_in_bin': 1, 'min_gain_to_split': 4.3999999999999995, 'learning_rate': 0.1197080879549423, 'random_state': 0, 'feature_fraction': 0.7630930768150365, 'bagging_fraction': 0.8262627919245833, 'bagging_freq': 2, 'lambda_l1': 0.045199131486884606, 'lambda_l2': 0.09625147112444024}. Best is trial 354 with value: 1.967147777953415.\u001b[0m\n"
     ]
    },
    {
     "name": "stdout",
     "output_type": "stream",
     "text": [
      "[100]\tvalid_0's rmse: 2.02252\n",
      "[200]\tvalid_0's rmse: 2.01814\n",
      "[300]\tvalid_0's rmse: 2.01814\n",
      "[400]\tvalid_0's rmse: 2.01814\n",
      "[500]\tvalid_0's rmse: 2.01814\n",
      "[600]\tvalid_0's rmse: 2.01814\n",
      "Early stopping, best iteration is:\n",
      "[123]\tvalid_0's rmse: 2.01604\n",
      "valid_score:  RMSE = 2.021754316302424\n",
      "Training until validation scores don't improve for 500 rounds\n",
      "[100]\tvalid_0's rmse: 2.50412\n",
      "[200]\tvalid_0's rmse: 2.29374\n",
      "[300]\tvalid_0's rmse: 2.18206\n",
      "[400]\tvalid_0's rmse: 2.12737\n",
      "[500]\tvalid_0's rmse: 2.09874\n",
      "[600]\tvalid_0's rmse: 2.07953\n",
      "[700]\tvalid_0's rmse: 2.06443\n",
      "[800]\tvalid_0's rmse: 2.05557\n",
      "[900]\tvalid_0's rmse: 2.0424\n",
      "[1000]\tvalid_0's rmse: 2.0381\n",
      "[1100]\tvalid_0's rmse: 2.03445\n",
      "[1200]\tvalid_0's rmse: 2.02593\n",
      "[1300]\tvalid_0's rmse: 2.02309\n",
      "[1400]\tvalid_0's rmse: 2.01822\n",
      "[1500]\tvalid_0's rmse: 2.0177\n",
      "[1600]\tvalid_0's rmse: 2.01531\n",
      "[1700]\tvalid_0's rmse: 2.01156\n",
      "[1800]\tvalid_0's rmse: 2.00663\n",
      "[1900]\tvalid_0's rmse: 2.00879\n",
      "[2000]\tvalid_0's rmse: 2.00297\n",
      "[2100]\tvalid_0's rmse: 1.99887\n",
      "[2200]\tvalid_0's rmse: 1.99858\n",
      "[2300]\tvalid_0's rmse: 1.99534\n",
      "[2400]\tvalid_0's rmse: 1.99314\n",
      "[2500]\tvalid_0's rmse: 1.99178\n",
      "[2600]\tvalid_0's rmse: 1.99141\n",
      "[2700]\tvalid_0's rmse: 1.99256\n",
      "[2800]\tvalid_0's rmse: 1.99573\n",
      "[2900]\tvalid_0's rmse: 1.99728\n",
      "[3000]\tvalid_0's rmse: 1.99792\n"
     ]
    },
    {
     "name": "stderr",
     "output_type": "stream",
     "text": [
      "\u001b[32m[I 2022-02-23 14:50:04,699]\u001b[0m Trial 392 finished with value: 1.9905497263130203 and parameters: {'n_estimators': 10000, 'num_leaves': 4, 'boosting': 'gbdt', 'max_depth': 13, 'max_bin': 32, 'min_data_in_leaf': 1, 'min_data_in_bin': 1, 'min_gain_to_split': 0.93, 'learning_rate': 0.007428096165002218, 'random_state': 0, 'feature_fraction': 0.9106774174577364, 'bagging_fraction': 0.7899005069040197, 'bagging_freq': 6, 'lambda_l1': 0.5286067736256912, 'lambda_l2': 0.02430964242115704}. Best is trial 354 with value: 1.967147777953415.\u001b[0m\n"
     ]
    },
    {
     "name": "stdout",
     "output_type": "stream",
     "text": [
      "Early stopping, best iteration is:\n",
      "[2592]\tvalid_0's rmse: 1.99055\n",
      "valid_score:  RMSE = 1.9905497263130203\n",
      "Training until validation scores don't improve for 500 rounds\n",
      "[100]\tvalid_0's rmse: 2.03969\n"
     ]
    },
    {
     "name": "stderr",
     "output_type": "stream",
     "text": [
      "\u001b[32m[I 2022-02-23 14:50:04,969]\u001b[0m Trial 393 finished with value: 2.0158023925342072 and parameters: {'n_estimators': 5000, 'num_leaves': 11, 'boosting': 'gbdt', 'max_depth': 6, 'max_bin': 32, 'min_data_in_leaf': 1, 'min_data_in_bin': 1, 'min_gain_to_split': 4.77, 'learning_rate': 0.19046649895760448, 'random_state': 0, 'feature_fraction': 0.48385836993412296, 'bagging_fraction': 0.8603914216991675, 'bagging_freq': 4, 'lambda_l1': 0.0014283185955628582, 'lambda_l2': 9.270360815813721e-08}. Best is trial 354 with value: 1.967147777953415.\u001b[0m\n"
     ]
    },
    {
     "name": "stdout",
     "output_type": "stream",
     "text": [
      "[200]\tvalid_0's rmse: 2.03969\n",
      "[300]\tvalid_0's rmse: 2.03969\n",
      "[400]\tvalid_0's rmse: 2.03969\n",
      "[500]\tvalid_0's rmse: 2.03969\n",
      "Early stopping, best iteration is:\n",
      "[25]\tvalid_0's rmse: 2.0158\n",
      "valid_score:  RMSE = 2.0158023925342072\n",
      "Training until validation scores don't improve for 500 rounds\n",
      "[100]\tvalid_0's rmse: 2.0662\n",
      "[200]\tvalid_0's rmse: 2.03135\n",
      "[300]\tvalid_0's rmse: 2.02642\n",
      "[400]\tvalid_0's rmse: 2.0239\n",
      "[500]\tvalid_0's rmse: 2.02127\n",
      "[600]\tvalid_0's rmse: 2.02025\n",
      "[700]\tvalid_0's rmse: 2.01807\n",
      "[800]\tvalid_0's rmse: 2.01903\n",
      "[900]\tvalid_0's rmse: 2.01891\n",
      "[1000]\tvalid_0's rmse: 2.01696\n"
     ]
    },
    {
     "name": "stderr",
     "output_type": "stream",
     "text": [
      "\u001b[32m[I 2022-02-23 14:50:05,382]\u001b[0m Trial 394 finished with value: 2.015866573891152 and parameters: {'n_estimators': 5000, 'num_leaves': 5, 'boosting': 'gbdt', 'max_depth': 6, 'max_bin': 32, 'min_data_in_leaf': 1, 'min_data_in_bin': 1, 'min_gain_to_split': 1.07, 'learning_rate': 0.04626244966221896, 'random_state': 0, 'feature_fraction': 0.4246675911648677, 'bagging_fraction': 0.8560554464090351, 'bagging_freq': 5, 'lambda_l1': 0.3195166924287521, 'lambda_l2': 5.198115610650505e-05}. Best is trial 354 with value: 1.967147777953415.\u001b[0m\n"
     ]
    },
    {
     "name": "stdout",
     "output_type": "stream",
     "text": [
      "[1100]\tvalid_0's rmse: 2.01954\n",
      "Early stopping, best iteration is:\n",
      "[662]\tvalid_0's rmse: 2.01587\n",
      "valid_score:  RMSE = 2.015866573891152\n",
      "Training until validation scores don't improve for 500 rounds\n",
      "[100]\tvalid_0's rmse: 2.03228\n",
      "[200]\tvalid_0's rmse: 1.99873\n",
      "[300]\tvalid_0's rmse: 2.0027\n",
      "[400]\tvalid_0's rmse: 2.01963\n",
      "[500]\tvalid_0's rmse: 2.00298\n",
      "[600]\tvalid_0's rmse: 2.01898\n"
     ]
    },
    {
     "name": "stderr",
     "output_type": "stream",
     "text": [
      "\u001b[32m[I 2022-02-23 14:50:05,587]\u001b[0m Trial 395 finished with value: 1.993450179628522 and parameters: {'n_estimators': 10000, 'num_leaves': 3, 'boosting': 'gbdt', 'max_depth': 12, 'max_bin': 32, 'min_data_in_leaf': 1, 'min_data_in_bin': 1, 'min_gain_to_split': 0.44000000000000006, 'learning_rate': 0.15424766380005395, 'random_state': 0, 'feature_fraction': 0.60342737047884, 'bagging_fraction': 0.7809217482178926, 'bagging_freq': 4, 'lambda_l1': 0.031019047118842163, 'lambda_l2': 1.2379010182852613e-05}. Best is trial 354 with value: 1.967147777953415.\u001b[0m\n"
     ]
    },
    {
     "name": "stdout",
     "output_type": "stream",
     "text": [
      "[700]\tvalid_0's rmse: 2.03234\n",
      "Early stopping, best iteration is:\n",
      "[279]\tvalid_0's rmse: 1.99345\n",
      "valid_score:  RMSE = 1.993450179628522\n",
      "Training until validation scores don't improve for 500 rounds\n",
      "[100]\tvalid_0's rmse: 2.02082\n",
      "[200]\tvalid_0's rmse: 2.02044\n"
     ]
    },
    {
     "name": "stderr",
     "output_type": "stream",
     "text": [
      "\u001b[32m[I 2022-02-23 14:50:05,890]\u001b[0m Trial 396 finished with value: 2.011669986368024 and parameters: {'n_estimators': 5000, 'num_leaves': 5, 'boosting': 'gbdt', 'max_depth': 2, 'max_bin': 32, 'min_data_in_leaf': 1, 'min_data_in_bin': 1, 'min_gain_to_split': 3.49, 'learning_rate': 0.22366811524729865, 'random_state': 0, 'feature_fraction': 0.6051086364133831, 'bagging_fraction': 0.7877250069944702, 'bagging_freq': 1, 'lambda_l1': 1.8071451600427843e-05, 'lambda_l2': 0.002698102417008935}. Best is trial 354 with value: 1.967147777953415.\u001b[0m\n"
     ]
    },
    {
     "name": "stdout",
     "output_type": "stream",
     "text": [
      "[300]\tvalid_0's rmse: 2.0142\n",
      "[400]\tvalid_0's rmse: 2.023\n",
      "[500]\tvalid_0's rmse: 2.023\n",
      "[600]\tvalid_0's rmse: 2.023\n",
      "Early stopping, best iteration is:\n",
      "[116]\tvalid_0's rmse: 2.01167\n",
      "valid_score:  RMSE = 2.011669986368024\n",
      "Training until validation scores don't improve for 500 rounds\n"
     ]
    },
    {
     "name": "stderr",
     "output_type": "stream",
     "text": [
      "\u001b[32m[I 2022-02-23 14:50:06,101]\u001b[0m Trial 397 finished with value: 2.050661633301459 and parameters: {'n_estimators': 10000, 'num_leaves': 13, 'boosting': 'gbdt', 'max_depth': 12, 'max_bin': 32, 'min_data_in_leaf': 1, 'min_data_in_bin': 1, 'min_gain_to_split': 2.43, 'learning_rate': 0.16615862143646706, 'random_state': 0, 'feature_fraction': 0.4919278392878363, 'bagging_fraction': 0.9499805731151179, 'bagging_freq': 3, 'lambda_l1': 1.6452165993011002e-07, 'lambda_l2': 1.2917212262586436e-06}. Best is trial 354 with value: 1.967147777953415.\u001b[0m\n"
     ]
    },
    {
     "name": "stdout",
     "output_type": "stream",
     "text": [
      "[100]\tvalid_0's rmse: 2.05985\n",
      "[200]\tvalid_0's rmse: 2.05985\n",
      "[300]\tvalid_0's rmse: 2.05985\n",
      "[400]\tvalid_0's rmse: 2.05985\n",
      "[500]\tvalid_0's rmse: 2.05985\n",
      "Early stopping, best iteration is:\n",
      "[28]\tvalid_0's rmse: 2.05066\n",
      "valid_score:  RMSE = 2.050661633301459\n",
      "Training until validation scores don't improve for 500 rounds\n",
      "[100]\tvalid_0's rmse: 2.07472\n"
     ]
    },
    {
     "name": "stderr",
     "output_type": "stream",
     "text": [
      "\u001b[32m[I 2022-02-23 14:50:06,428]\u001b[0m Trial 398 finished with value: 2.055808066705415 and parameters: {'n_estimators': 5000, 'num_leaves': 5, 'boosting': 'gbdt', 'max_depth': 4, 'max_bin': 32, 'min_data_in_leaf': 1, 'min_data_in_bin': 1, 'min_gain_to_split': 3.0300000000000002, 'learning_rate': 0.12813998911785862, 'random_state': 0, 'feature_fraction': 0.9146266744496231, 'bagging_fraction': 0.694419504538933, 'bagging_freq': 7, 'lambda_l1': 0.0020157644774693203, 'lambda_l2': 0.00020035839616479388}. Best is trial 354 with value: 1.967147777953415.\u001b[0m\n"
     ]
    },
    {
     "name": "stdout",
     "output_type": "stream",
     "text": [
      "[200]\tvalid_0's rmse: 2.07095\n",
      "[300]\tvalid_0's rmse: 2.07123\n",
      "[400]\tvalid_0's rmse: 2.07008\n",
      "[500]\tvalid_0's rmse: 2.07008\n",
      "Early stopping, best iteration is:\n",
      "[81]\tvalid_0's rmse: 2.05581\n",
      "valid_score:  RMSE = 2.055808066705415\n"
     ]
    },
    {
     "name": "stderr",
     "output_type": "stream",
     "text": [
      "\u001b[32m[I 2022-02-23 14:50:06,627]\u001b[0m Trial 399 finished with value: 2.071043158599145 and parameters: {'n_estimators': 10000, 'num_leaves': 5, 'boosting': 'gbdt', 'max_depth': 4, 'max_bin': 32, 'min_data_in_leaf': 1, 'min_data_in_bin': 1, 'min_gain_to_split': 4.41, 'learning_rate': 0.19453157766005041, 'random_state': 0, 'feature_fraction': 0.5723231915113067, 'bagging_fraction': 0.7526875762942096, 'bagging_freq': 3, 'lambda_l1': 1.3156965611282324e-08, 'lambda_l2': 0.014065415225041757}. Best is trial 354 with value: 1.967147777953415.\u001b[0m\n"
     ]
    },
    {
     "name": "stdout",
     "output_type": "stream",
     "text": [
      "Training until validation scores don't improve for 500 rounds\n",
      "[100]\tvalid_0's rmse: 2.07789\n",
      "[200]\tvalid_0's rmse: 2.07944\n",
      "[300]\tvalid_0's rmse: 2.07944\n",
      "[400]\tvalid_0's rmse: 2.07944\n",
      "[500]\tvalid_0's rmse: 2.07944\n",
      "Early stopping, best iteration is:\n",
      "[91]\tvalid_0's rmse: 2.06588\n",
      "valid_score:  RMSE = 2.071043158599145\n",
      "Training until validation scores don't improve for 500 rounds\n"
     ]
    },
    {
     "name": "stderr",
     "output_type": "stream",
     "text": [
      "\u001b[32m[I 2022-02-23 14:50:06,838]\u001b[0m Trial 400 finished with value: 2.068839135454679 and parameters: {'n_estimators': 5000, 'num_leaves': 12, 'boosting': 'gbdt', 'max_depth': 12, 'max_bin': 32, 'min_data_in_leaf': 1, 'min_data_in_bin': 1, 'min_gain_to_split': 2.56, 'learning_rate': 0.2357108003376947, 'random_state': 0, 'feature_fraction': 0.6563508943119819, 'bagging_fraction': 0.7797426060758259, 'bagging_freq': 8, 'lambda_l1': 0.008344444545309191, 'lambda_l2': 7.803979802901093e-07}. Best is trial 354 with value: 1.967147777953415.\u001b[0m\n"
     ]
    },
    {
     "name": "stdout",
     "output_type": "stream",
     "text": [
      "[100]\tvalid_0's rmse: 2.08245\n",
      "[200]\tvalid_0's rmse: 2.08245\n",
      "[300]\tvalid_0's rmse: 2.08245\n",
      "[400]\tvalid_0's rmse: 2.08245\n",
      "[500]\tvalid_0's rmse: 2.08245\n",
      "Early stopping, best iteration is:\n",
      "[41]\tvalid_0's rmse: 2.06884\n",
      "valid_score:  RMSE = 2.068839135454679\n",
      "Training until validation scores don't improve for 500 rounds\n"
     ]
    },
    {
     "name": "stderr",
     "output_type": "stream",
     "text": [
      "\u001b[32m[I 2022-02-23 14:50:07,088]\u001b[0m Trial 401 finished with value: 2.081766838917136 and parameters: {'n_estimators': 5000, 'num_leaves': 14, 'boosting': 'gbdt', 'max_depth': 5, 'max_bin': 32, 'min_data_in_leaf': 1, 'min_data_in_bin': 1, 'min_gain_to_split': 1.28, 'learning_rate': 0.27985451999281774, 'random_state': 0, 'feature_fraction': 0.6975409538205983, 'bagging_fraction': 0.47468760979597635, 'bagging_freq': 3, 'lambda_l1': 0.005287283135803006, 'lambda_l2': 4.020515245813145e-06}. Best is trial 354 with value: 1.967147777953415.\u001b[0m\n"
     ]
    },
    {
     "name": "stdout",
     "output_type": "stream",
     "text": [
      "[100]\tvalid_0's rmse: 2.22302\n",
      "[200]\tvalid_0's rmse: 2.27704\n",
      "[300]\tvalid_0's rmse: 2.25055\n",
      "[400]\tvalid_0's rmse: 2.25055\n",
      "[500]\tvalid_0's rmse: 2.25055\n",
      "Early stopping, best iteration is:\n",
      "[32]\tvalid_0's rmse: 2.08177\n",
      "valid_score:  RMSE = 2.081766838917136\n",
      "Training until validation scores don't improve for 500 rounds\n",
      "[100]\tvalid_0's rmse: 2.07141\n",
      "[200]\tvalid_0's rmse: 2.03129\n",
      "[300]\tvalid_0's rmse: 2.03646\n",
      "[400]\tvalid_0's rmse: 2.04007\n"
     ]
    },
    {
     "name": "stderr",
     "output_type": "stream",
     "text": [
      "\u001b[32m[I 2022-02-23 14:50:07,536]\u001b[0m Trial 402 finished with value: 2.028318905546387 and parameters: {'n_estimators': 5000, 'num_leaves': 14, 'boosting': 'gbdt', 'max_depth': 6, 'max_bin': 32, 'min_data_in_leaf': 1, 'min_data_in_bin': 1, 'min_gain_to_split': 4.3, 'learning_rate': 0.02945160128763757, 'random_state': 0, 'feature_fraction': 0.8321941812381545, 'bagging_fraction': 0.6167385200760599, 'bagging_freq': 6, 'lambda_l1': 0.002987609862128561, 'lambda_l2': 0.039633355763617456}. Best is trial 354 with value: 1.967147777953415.\u001b[0m\n"
     ]
    },
    {
     "name": "stdout",
     "output_type": "stream",
     "text": [
      "[500]\tvalid_0's rmse: 2.03946\n",
      "[600]\tvalid_0's rmse: 2.03946\n",
      "[700]\tvalid_0's rmse: 2.03946\n",
      "Early stopping, best iteration is:\n",
      "[209]\tvalid_0's rmse: 2.02832\n",
      "valid_score:  RMSE = 2.028318905546387\n",
      "Training until validation scores don't improve for 500 rounds\n",
      "[100]\tvalid_0's rmse: 2.13823\n",
      "[200]\tvalid_0's rmse: 2.23274\n",
      "[300]\tvalid_0's rmse: 2.28515\n",
      "[400]\tvalid_0's rmse: 2.29312\n"
     ]
    },
    {
     "name": "stderr",
     "output_type": "stream",
     "text": [
      "\u001b[32m[I 2022-02-23 14:50:07,718]\u001b[0m Trial 403 finished with value: 2.077676831692577 and parameters: {'n_estimators': 10000, 'num_leaves': 6, 'boosting': 'gbdt', 'max_depth': 9, 'max_bin': 32, 'min_data_in_leaf': 1, 'min_data_in_bin': 1, 'min_gain_to_split': 0.26, 'learning_rate': 0.2840713233031333, 'random_state': 0, 'feature_fraction': 0.5593268992087139, 'bagging_fraction': 0.4005890985795215, 'bagging_freq': 5, 'lambda_l1': 5.011150274550348e-05, 'lambda_l2': 2.9242392441031504e-08}. Best is trial 354 with value: 1.967147777953415.\u001b[0m\n"
     ]
    },
    {
     "name": "stdout",
     "output_type": "stream",
     "text": [
      "[500]\tvalid_0's rmse: 2.34892\n",
      "Early stopping, best iteration is:\n",
      "[54]\tvalid_0's rmse: 2.07768\n",
      "valid_score:  RMSE = 2.077676831692577\n",
      "Training until validation scores don't improve for 500 rounds\n",
      "[100]\tvalid_0's rmse: 2.03247\n",
      "[200]\tvalid_0's rmse: 2.00492\n",
      "[300]\tvalid_0's rmse: 1.99905\n"
     ]
    },
    {
     "name": "stderr",
     "output_type": "stream",
     "text": [
      "\u001b[32m[I 2022-02-23 14:50:08,054]\u001b[0m Trial 404 finished with value: 1.9936092621695543 and parameters: {'n_estimators': 10000, 'num_leaves': 10, 'boosting': 'gbdt', 'max_depth': 9, 'max_bin': 32, 'min_data_in_leaf': 1, 'min_data_in_bin': 1, 'min_gain_to_split': 0.49, 'learning_rate': 0.04533671225347715, 'random_state': 0, 'feature_fraction': 0.5795293379422062, 'bagging_fraction': 0.8740717344539388, 'bagging_freq': 1, 'lambda_l1': 1.368058399209868e-06, 'lambda_l2': 0.0009753762211558466}. Best is trial 354 with value: 1.967147777953415.\u001b[0m\n"
     ]
    },
    {
     "name": "stdout",
     "output_type": "stream",
     "text": [
      "[400]\tvalid_0's rmse: 2.00638\n",
      "[500]\tvalid_0's rmse: 2.00074\n",
      "[600]\tvalid_0's rmse: 2.006\n",
      "[700]\tvalid_0's rmse: 2.01845\n",
      "Early stopping, best iteration is:\n",
      "[250]\tvalid_0's rmse: 1.99361\n",
      "valid_score:  RMSE = 1.9936092621695543\n",
      "Training until validation scores don't improve for 500 rounds\n",
      "[100]\tvalid_0's rmse: 2.08015\n",
      "[200]\tvalid_0's rmse: 2.04569\n",
      "[300]\tvalid_0's rmse: 2.04139\n"
     ]
    },
    {
     "name": "stderr",
     "output_type": "stream",
     "text": [
      "\u001b[32m[I 2022-02-23 14:50:08,228]\u001b[0m Trial 405 finished with value: 2.028358701220914 and parameters: {'n_estimators': 5000, 'num_leaves': 3, 'boosting': 'gbdt', 'max_depth': 16, 'max_bin': 32, 'min_data_in_leaf': 1, 'min_data_in_bin': 1, 'min_gain_to_split': 3.62, 'learning_rate': 0.0674386150156198, 'random_state': 0, 'feature_fraction': 0.5409261341580858, 'bagging_fraction': 0.4621176788199571, 'bagging_freq': 5, 'lambda_l1': 1.8354793613268762e-06, 'lambda_l2': 0.0006143646934662191}. Best is trial 354 with value: 1.967147777953415.\u001b[0m\n"
     ]
    },
    {
     "name": "stdout",
     "output_type": "stream",
     "text": [
      "[400]\tvalid_0's rmse: 2.02985\n",
      "[500]\tvalid_0's rmse: 2.04416\n",
      "[600]\tvalid_0's rmse: 2.05171\n",
      "[700]\tvalid_0's rmse: 2.04034\n",
      "Early stopping, best iteration is:\n",
      "[230]\tvalid_0's rmse: 2.02836\n",
      "valid_score:  RMSE = 2.028358701220914\n",
      "Training until validation scores don't improve for 500 rounds\n",
      "[100]\tvalid_0's rmse: 2.0609\n",
      "[200]\tvalid_0's rmse: 2.03888\n"
     ]
    },
    {
     "name": "stderr",
     "output_type": "stream",
     "text": [
      "\u001b[32m[I 2022-02-23 14:50:08,589]\u001b[0m Trial 406 finished with value: 2.0273029467559813 and parameters: {'n_estimators': 5000, 'num_leaves': 15, 'boosting': 'gbdt', 'max_depth': 10, 'max_bin': 32, 'min_data_in_leaf': 1, 'min_data_in_bin': 1, 'min_gain_to_split': 1.4900000000000002, 'learning_rate': 0.05363346187691986, 'random_state': 0, 'feature_fraction': 0.8950947258094033, 'bagging_fraction': 0.6997374512091139, 'bagging_freq': 2, 'lambda_l1': 2.8436049898150235e-06, 'lambda_l2': 0.003543342742858749}. Best is trial 354 with value: 1.967147777953415.\u001b[0m\n"
     ]
    },
    {
     "name": "stdout",
     "output_type": "stream",
     "text": [
      "[300]\tvalid_0's rmse: 2.03407\n",
      "[400]\tvalid_0's rmse: 2.04013\n",
      "[500]\tvalid_0's rmse: 2.04007\n",
      "[600]\tvalid_0's rmse: 2.04007\n",
      "[700]\tvalid_0's rmse: 2.04007\n",
      "Early stopping, best iteration is:\n",
      "[264]\tvalid_0's rmse: 2.0273\n",
      "valid_score:  RMSE = 2.0273029467559813\n",
      "Training until validation scores don't improve for 500 rounds\n"
     ]
    },
    {
     "name": "stderr",
     "output_type": "stream",
     "text": [
      "\u001b[32m[I 2022-02-23 14:50:08,773]\u001b[0m Trial 407 finished with value: 2.026523200438264 and parameters: {'n_estimators': 10000, 'num_leaves': 2, 'boosting': 'gbdt', 'max_depth': 14, 'max_bin': 32, 'min_data_in_leaf': 1, 'min_data_in_bin': 1, 'min_gain_to_split': 3.35, 'learning_rate': 0.1659471023497361, 'random_state': 0, 'feature_fraction': 0.5204428946704959, 'bagging_fraction': 0.633517960724129, 'bagging_freq': 8, 'lambda_l1': 0.00017067298139783804, 'lambda_l2': 1.770867602155774e-07}. Best is trial 354 with value: 1.967147777953415.\u001b[0m\n"
     ]
    },
    {
     "name": "stdout",
     "output_type": "stream",
     "text": [
      "[100]\tvalid_0's rmse: 2.06015\n",
      "[200]\tvalid_0's rmse: 2.03111\n",
      "[300]\tvalid_0's rmse: 2.03676\n",
      "[400]\tvalid_0's rmse: 2.04611\n",
      "[500]\tvalid_0's rmse: 2.03101\n",
      "[600]\tvalid_0's rmse: 2.04697\n",
      "[700]\tvalid_0's rmse: 2.04803\n",
      "[800]\tvalid_0's rmse: 2.05698\n",
      "[900]\tvalid_0's rmse: 2.05871\n",
      "Early stopping, best iteration is:\n",
      "[494]\tvalid_0's rmse: 2.02652\n",
      "valid_score:  RMSE = 2.026523200438264\n",
      "Training until validation scores don't improve for 500 rounds\n",
      "[100]\tvalid_0's rmse: 2.12097\n",
      "[200]\tvalid_0's rmse: 2.15589\n"
     ]
    },
    {
     "name": "stderr",
     "output_type": "stream",
     "text": [
      "\u001b[32m[I 2022-02-23 14:50:08,933]\u001b[0m Trial 408 finished with value: 2.0185998509579886 and parameters: {'n_estimators': 10000, 'num_leaves': 7, 'boosting': 'gbdt', 'max_depth': 2, 'max_bin': 32, 'min_data_in_leaf': 1, 'min_data_in_bin': 1, 'min_gain_to_split': 1.83, 'learning_rate': 0.2560822557505204, 'random_state': 0, 'feature_fraction': 0.9959505568729394, 'bagging_fraction': 0.43311509016585703, 'bagging_freq': 8, 'lambda_l1': 7.484548157000328e-08, 'lambda_l2': 0.004175165388499628}. Best is trial 354 with value: 1.967147777953415.\u001b[0m\n"
     ]
    },
    {
     "name": "stdout",
     "output_type": "stream",
     "text": [
      "[300]\tvalid_0's rmse: 2.14323\n",
      "[400]\tvalid_0's rmse: 2.18392\n",
      "[500]\tvalid_0's rmse: 2.20013\n",
      "Early stopping, best iteration is:\n",
      "[52]\tvalid_0's rmse: 2.0186\n",
      "valid_score:  RMSE = 2.0185998509579886\n",
      "Training until validation scores don't improve for 500 rounds\n",
      "[100]\tvalid_0's rmse: 2.02283\n",
      "[200]\tvalid_0's rmse: 2.03536\n",
      "[300]\tvalid_0's rmse: 2.03258\n",
      "[400]\tvalid_0's rmse: 2.051\n",
      "[500]\tvalid_0's rmse: 2.06696\n"
     ]
    },
    {
     "name": "stderr",
     "output_type": "stream",
     "text": [
      "\u001b[32m[I 2022-02-23 14:50:09,110]\u001b[0m Trial 409 finished with value: 1.9982345691432921 and parameters: {'n_estimators': 10000, 'num_leaves': 11, 'boosting': 'gbdt', 'max_depth': 2, 'max_bin': 32, 'min_data_in_leaf': 1, 'min_data_in_bin': 1, 'min_gain_to_split': 0.89, 'learning_rate': 0.22182325759713023, 'random_state': 0, 'feature_fraction': 0.8536118240558463, 'bagging_fraction': 0.8426163672377831, 'bagging_freq': 1, 'lambda_l1': 0.0022701572411202133, 'lambda_l2': 0.32844561268356554}. Best is trial 354 with value: 1.967147777953415.\u001b[0m\n"
     ]
    },
    {
     "name": "stdout",
     "output_type": "stream",
     "text": [
      "Early stopping, best iteration is:\n",
      "[54]\tvalid_0's rmse: 1.99823\n",
      "valid_score:  RMSE = 1.9982345691432921\n",
      "Training until validation scores don't improve for 500 rounds\n",
      "[100]\tvalid_0's rmse: 2.25074\n",
      "[200]\tvalid_0's rmse: 2.10236\n",
      "[300]\tvalid_0's rmse: 2.06095\n",
      "[400]\tvalid_0's rmse: 2.04357\n"
     ]
    },
    {
     "name": "stderr",
     "output_type": "stream",
     "text": [
      "\u001b[32m[I 2022-02-23 14:50:09,532]\u001b[0m Trial 410 finished with value: 2.0311267243486033 and parameters: {'n_estimators': 10000, 'num_leaves': 9, 'boosting': 'gbdt', 'max_depth': 6, 'max_bin': 32, 'min_data_in_leaf': 1, 'min_data_in_bin': 1, 'min_gain_to_split': 2.2, 'learning_rate': 0.012736939464495858, 'random_state': 0, 'feature_fraction': 0.8844627374354006, 'bagging_fraction': 0.6101594335610595, 'bagging_freq': 8, 'lambda_l1': 0.051984741288025896, 'lambda_l2': 7.703159926647191e-07}. Best is trial 354 with value: 1.967147777953415.\u001b[0m\n"
     ]
    },
    {
     "name": "stdout",
     "output_type": "stream",
     "text": [
      "[500]\tvalid_0's rmse: 2.03454\n",
      "[600]\tvalid_0's rmse: 2.04592\n",
      "[700]\tvalid_0's rmse: 2.04745\n",
      "[800]\tvalid_0's rmse: 2.0426\n",
      "[900]\tvalid_0's rmse: 2.04224\n",
      "[1000]\tvalid_0's rmse: 2.03726\n",
      "Early stopping, best iteration is:\n",
      "[520]\tvalid_0's rmse: 2.03113\n",
      "valid_score:  RMSE = 2.0311267243486033\n"
     ]
    },
    {
     "name": "stderr",
     "output_type": "stream",
     "text": [
      "\u001b[32m[I 2022-02-23 14:50:09,738]\u001b[0m Trial 411 finished with value: 2.0738973695348975 and parameters: {'n_estimators': 10000, 'num_leaves': 7, 'boosting': 'gbdt', 'max_depth': 16, 'max_bin': 32, 'min_data_in_leaf': 1, 'min_data_in_bin': 1, 'min_gain_to_split': 0.19, 'learning_rate': 0.20364158825132933, 'random_state': 0, 'feature_fraction': 0.8084602808569461, 'bagging_fraction': 0.8483367710789147, 'bagging_freq': 7, 'lambda_l1': 1.7766031119751187e-08, 'lambda_l2': 0.0026463466423836844}. Best is trial 354 with value: 1.967147777953415.\u001b[0m\n"
     ]
    },
    {
     "name": "stdout",
     "output_type": "stream",
     "text": [
      "Training until validation scores don't improve for 500 rounds\n",
      "[100]\tvalid_0's rmse: 2.09761\n",
      "[200]\tvalid_0's rmse: 2.1484\n",
      "[300]\tvalid_0's rmse: 2.19573\n",
      "[400]\tvalid_0's rmse: 2.18873\n",
      "[500]\tvalid_0's rmse: 2.18961\n",
      "Early stopping, best iteration is:\n",
      "[80]\tvalid_0's rmse: 2.0739\n",
      "valid_score:  RMSE = 2.0738973695348975\n"
     ]
    },
    {
     "name": "stderr",
     "output_type": "stream",
     "text": [
      "\u001b[32m[I 2022-02-23 14:50:09,917]\u001b[0m Trial 412 finished with value: 2.0089043868443137 and parameters: {'n_estimators': 5000, 'num_leaves': 3, 'boosting': 'gbdt', 'max_depth': 10, 'max_bin': 32, 'min_data_in_leaf': 1, 'min_data_in_bin': 1, 'min_gain_to_split': 0.15000000000000002, 'learning_rate': 0.21441543273679273, 'random_state': 0, 'feature_fraction': 0.4988812862353761, 'bagging_fraction': 0.9428330960544534, 'bagging_freq': 6, 'lambda_l1': 2.7496980467856684e-06, 'lambda_l2': 1.3420360033464188e-06}. Best is trial 354 with value: 1.967147777953415.\u001b[0m\n"
     ]
    },
    {
     "name": "stdout",
     "output_type": "stream",
     "text": [
      "Training until validation scores don't improve for 500 rounds\n",
      "[100]\tvalid_0's rmse: 2.03794\n",
      "[200]\tvalid_0's rmse: 2.01804\n",
      "[300]\tvalid_0's rmse: 2.0105\n",
      "[400]\tvalid_0's rmse: 2.03194\n",
      "[500]\tvalid_0's rmse: 2.03156\n",
      "[600]\tvalid_0's rmse: 2.03452\n",
      "[700]\tvalid_0's rmse: 2.03612\n",
      "Early stopping, best iteration is:\n",
      "[290]\tvalid_0's rmse: 2.0089\n",
      "valid_score:  RMSE = 2.0089043868443137\n",
      "Training until validation scores don't improve for 500 rounds\n",
      "[100]\tvalid_0's rmse: 2.06462\n",
      "[200]\tvalid_0's rmse: 2.03976\n",
      "[300]\tvalid_0's rmse: 2.03258\n",
      "[400]\tvalid_0's rmse: 2.03258\n",
      "[500]\tvalid_0's rmse: 2.03258\n",
      "[600]\tvalid_0's rmse: 2.03258\n"
     ]
    },
    {
     "name": "stderr",
     "output_type": "stream",
     "text": [
      "\u001b[32m[I 2022-02-23 14:50:10,281]\u001b[0m Trial 413 finished with value: 2.0325788001542016 and parameters: {'n_estimators': 5000, 'num_leaves': 14, 'boosting': 'gbdt', 'max_depth': 16, 'max_bin': 32, 'min_data_in_leaf': 1, 'min_data_in_bin': 1, 'min_gain_to_split': 2.98, 'learning_rate': 0.026103068728685362, 'random_state': 0, 'feature_fraction': 0.8797845689517668, 'bagging_fraction': 0.9845981791423278, 'bagging_freq': 7, 'lambda_l1': 0.2867715922975148, 'lambda_l2': 9.054233563496463e-06}. Best is trial 354 with value: 1.967147777953415.\u001b[0m\n",
      "\u001b[32m[I 2022-02-23 14:50:10,440]\u001b[0m Trial 414 finished with value: 2.039455846836987 and parameters: {'n_estimators': 10000, 'num_leaves': 5, 'boosting': 'gbdt', 'max_depth': 16, 'max_bin': 32, 'min_data_in_leaf': 1, 'min_data_in_bin': 1, 'min_gain_to_split': 2.66, 'learning_rate': 0.17625675736552388, 'random_state': 0, 'feature_fraction': 0.5917018395198184, 'bagging_fraction': 0.4891498895314048, 'bagging_freq': 8, 'lambda_l1': 0.0033038713697754363, 'lambda_l2': 0.06683560967262804}. Best is trial 354 with value: 1.967147777953415.\u001b[0m\n"
     ]
    },
    {
     "name": "stdout",
     "output_type": "stream",
     "text": [
      "[700]\tvalid_0's rmse: 2.03258\n",
      "Early stopping, best iteration is:\n",
      "[280]\tvalid_0's rmse: 2.03258\n",
      "valid_score:  RMSE = 2.0325788001542016\n",
      "Training until validation scores don't improve for 500 rounds\n",
      "[100]\tvalid_0's rmse: 2.11708\n",
      "[200]\tvalid_0's rmse: 2.14817\n",
      "[300]\tvalid_0's rmse: 2.20028\n",
      "[400]\tvalid_0's rmse: 2.21097\n",
      "[500]\tvalid_0's rmse: 2.21836\n",
      "Early stopping, best iteration is:\n",
      "[35]\tvalid_0's rmse: 2.03946\n",
      "valid_score:  RMSE = 2.039455846836987\n",
      "Training until validation scores don't improve for 500 rounds\n",
      "[100]\tvalid_0's rmse: 2.05543\n",
      "[200]\tvalid_0's rmse: 2.04126\n",
      "[300]\tvalid_0's rmse: 2.04059\n",
      "[400]\tvalid_0's rmse: 2.04059\n",
      "[500]\tvalid_0's rmse: 2.04059\n",
      "[600]\tvalid_0's rmse: 2.04059\n"
     ]
    },
    {
     "name": "stderr",
     "output_type": "stream",
     "text": [
      "\u001b[32m[I 2022-02-23 14:50:10,691]\u001b[0m Trial 415 finished with value: 2.038689964150569 and parameters: {'n_estimators': 5000, 'num_leaves': 8, 'boosting': 'gbdt', 'max_depth': 7, 'max_bin': 32, 'min_data_in_leaf': 1, 'min_data_in_bin': 1, 'min_gain_to_split': 1.4300000000000002, 'learning_rate': 0.11671442618066168, 'random_state': 0, 'feature_fraction': 0.5028205218962571, 'bagging_fraction': 0.8671640160353303, 'bagging_freq': 5, 'lambda_l1': 0.15339595073484444, 'lambda_l2': 1.7661573076358464e-08}. Best is trial 354 with value: 1.967147777953415.\u001b[0m\n"
     ]
    },
    {
     "name": "stdout",
     "output_type": "stream",
     "text": [
      "[700]\tvalid_0's rmse: 2.04059\n",
      "Early stopping, best iteration is:\n",
      "[221]\tvalid_0's rmse: 2.03869\n",
      "valid_score:  RMSE = 2.038689964150569\n",
      "Training until validation scores don't improve for 500 rounds\n",
      "[100]\tvalid_0's rmse: 2.13884\n",
      "[200]\tvalid_0's rmse: 2.06783\n",
      "[300]\tvalid_0's rmse: 2.04092\n",
      "[400]\tvalid_0's rmse: 2.03597\n",
      "[500]\tvalid_0's rmse: 2.0232\n",
      "[600]\tvalid_0's rmse: 2.01966\n",
      "[700]\tvalid_0's rmse: 2.01821\n",
      "[800]\tvalid_0's rmse: 2.01762\n",
      "[900]\tvalid_0's rmse: 2.01363\n",
      "[1000]\tvalid_0's rmse: 2.01272\n",
      "[1100]\tvalid_0's rmse: 2.01272\n",
      "[1200]\tvalid_0's rmse: 2.01272\n",
      "[1300]\tvalid_0's rmse: 2.01272\n"
     ]
    },
    {
     "name": "stderr",
     "output_type": "stream",
     "text": [
      "\u001b[32m[I 2022-02-23 14:50:11,135]\u001b[0m Trial 416 finished with value: 2.0127245540078693 and parameters: {'n_estimators': 5000, 'num_leaves': 11, 'boosting': 'gbdt', 'max_depth': 2, 'max_bin': 32, 'min_data_in_leaf': 1, 'min_data_in_bin': 1, 'min_gain_to_split': 4.2299999999999995, 'learning_rate': 0.03215646894704518, 'random_state': 0, 'feature_fraction': 0.5359188384754096, 'bagging_fraction': 0.8281308948931423, 'bagging_freq': 4, 'lambda_l1': 1.151641261778009e-06, 'lambda_l2': 0.023129315835359644}. Best is trial 354 with value: 1.967147777953415.\u001b[0m\n"
     ]
    },
    {
     "name": "stdout",
     "output_type": "stream",
     "text": [
      "[1400]\tvalid_0's rmse: 2.01272\n",
      "Early stopping, best iteration is:\n",
      "[949]\tvalid_0's rmse: 2.01256\n",
      "valid_score:  RMSE = 2.0127245540078693\n",
      "Training until validation scores don't improve for 500 rounds\n",
      "[100]\tvalid_0's rmse: 2.05785\n",
      "[200]\tvalid_0's rmse: 2.05478\n",
      "[300]\tvalid_0's rmse: 2.05478\n",
      "[400]\tvalid_0's rmse: 2.05478\n",
      "[500]\tvalid_0's rmse: 2.05478\n"
     ]
    },
    {
     "name": "stderr",
     "output_type": "stream",
     "text": [
      "\u001b[32m[I 2022-02-23 14:50:11,338]\u001b[0m Trial 417 finished with value: 2.054777609133722 and parameters: {'n_estimators': 5000, 'num_leaves': 3, 'boosting': 'gbdt', 'max_depth': 2, 'max_bin': 32, 'min_data_in_leaf': 1, 'min_data_in_bin': 1, 'min_gain_to_split': 4.51, 'learning_rate': 0.28741969664990386, 'random_state': 0, 'feature_fraction': 0.4085842374316435, 'bagging_fraction': 0.9402205904092754, 'bagging_freq': 6, 'lambda_l1': 0.051466052160424, 'lambda_l2': 1.137406889240542e-08}. Best is trial 354 with value: 1.967147777953415.\u001b[0m\n"
     ]
    },
    {
     "name": "stdout",
     "output_type": "stream",
     "text": [
      "[600]\tvalid_0's rmse: 2.05478\n",
      "Early stopping, best iteration is:\n",
      "[106]\tvalid_0's rmse: 2.05478\n",
      "valid_score:  RMSE = 2.054777609133722\n",
      "Training until validation scores don't improve for 500 rounds\n",
      "[100]\tvalid_0's rmse: 2.0839\n",
      "[200]\tvalid_0's rmse: 2.0839\n",
      "[300]\tvalid_0's rmse: 2.0839\n",
      "[400]\tvalid_0's rmse: 2.0839\n"
     ]
    },
    {
     "name": "stderr",
     "output_type": "stream",
     "text": [
      "\u001b[32m[I 2022-02-23 14:50:11,583]\u001b[0m Trial 418 finished with value: 2.0255018062460253 and parameters: {'n_estimators': 5000, 'num_leaves': 9, 'boosting': 'gbdt', 'max_depth': 12, 'max_bin': 32, 'min_data_in_leaf': 1, 'min_data_in_bin': 1, 'min_gain_to_split': 1.9400000000000002, 'learning_rate': 0.20894121426027304, 'random_state': 0, 'feature_fraction': 0.5502961155678376, 'bagging_fraction': 0.9053130166626168, 'bagging_freq': 4, 'lambda_l1': 7.164063282004433e-07, 'lambda_l2': 0.022341036779534737}. Best is trial 354 with value: 1.967147777953415.\u001b[0m\n"
     ]
    },
    {
     "name": "stdout",
     "output_type": "stream",
     "text": [
      "[500]\tvalid_0's rmse: 2.0839\n",
      "Early stopping, best iteration is:\n",
      "[35]\tvalid_0's rmse: 2.0255\n",
      "valid_score:  RMSE = 2.0255018062460253\n",
      "Training until validation scores don't improve for 500 rounds\n",
      "[100]\tvalid_0's rmse: 2.04094\n",
      "[200]\tvalid_0's rmse: 2.04094\n",
      "[300]\tvalid_0's rmse: 2.04094\n",
      "[400]\tvalid_0's rmse: 2.04094\n",
      "[500]\tvalid_0's rmse: 2.04094\n"
     ]
    },
    {
     "name": "stderr",
     "output_type": "stream",
     "text": [
      "\u001b[32m[I 2022-02-23 14:50:11,770]\u001b[0m Trial 419 finished with value: 2.042374690056674 and parameters: {'n_estimators': 10000, 'num_leaves': 11, 'boosting': 'gbdt', 'max_depth': 7, 'max_bin': 32, 'min_data_in_leaf': 1, 'min_data_in_bin': 1, 'min_gain_to_split': 4.96, 'learning_rate': 0.16644103299874904, 'random_state': 0, 'feature_fraction': 0.9009159278468227, 'bagging_fraction': 0.7982118112219507, 'bagging_freq': 8, 'lambda_l1': 0.00014636076490839053, 'lambda_l2': 0.045190150031937354}. Best is trial 354 with value: 1.967147777953415.\u001b[0m\n"
     ]
    },
    {
     "name": "stdout",
     "output_type": "stream",
     "text": [
      "Early stopping, best iteration is:\n",
      "[42]\tvalid_0's rmse: 2.0408\n",
      "valid_score:  RMSE = 2.042374690056674\n",
      "Training until validation scores don't improve for 500 rounds\n",
      "[100]\tvalid_0's rmse: 2.08088\n",
      "[200]\tvalid_0's rmse: 2.1243\n",
      "[300]\tvalid_0's rmse: 2.12515\n"
     ]
    },
    {
     "name": "stderr",
     "output_type": "stream",
     "text": [
      "\u001b[32m[I 2022-02-23 14:50:12,034]\u001b[0m Trial 420 finished with value: 2.0382230507321015 and parameters: {'n_estimators': 10000, 'num_leaves': 11, 'boosting': 'gbdt', 'max_depth': 13, 'max_bin': 32, 'min_data_in_leaf': 1, 'min_data_in_bin': 1, 'min_gain_to_split': 0.29000000000000004, 'learning_rate': 0.22463782402803287, 'random_state': 0, 'feature_fraction': 0.8235853515763224, 'bagging_fraction': 0.903470017513267, 'bagging_freq': 1, 'lambda_l1': 9.112657508239337e-06, 'lambda_l2': 1.3076246613554618e-08}. Best is trial 354 with value: 1.967147777953415.\u001b[0m\n"
     ]
    },
    {
     "name": "stdout",
     "output_type": "stream",
     "text": [
      "[400]\tvalid_0's rmse: 2.12515\n",
      "[500]\tvalid_0's rmse: 2.12515\n",
      "Early stopping, best iteration is:\n",
      "[29]\tvalid_0's rmse: 2.03822\n",
      "valid_score:  RMSE = 2.0382230507321015\n",
      "Training until validation scores don't improve for 500 rounds\n",
      "[100]\tvalid_0's rmse: 2.06203\n",
      "[200]\tvalid_0's rmse: 2.05505\n",
      "[300]\tvalid_0's rmse: 2.0512\n",
      "[400]\tvalid_0's rmse: 2.05456\n",
      "[500]\tvalid_0's rmse: 2.04834\n",
      "[600]\tvalid_0's rmse: 2.06374\n"
     ]
    },
    {
     "name": "stderr",
     "output_type": "stream",
     "text": [
      "\u001b[32m[I 2022-02-23 14:50:12,219]\u001b[0m Trial 421 finished with value: 2.042316604347812 and parameters: {'n_estimators': 10000, 'num_leaves': 2, 'boosting': 'gbdt', 'max_depth': 9, 'max_bin': 32, 'min_data_in_leaf': 1, 'min_data_in_bin': 1, 'min_gain_to_split': 3.14, 'learning_rate': 0.23589290949976657, 'random_state': 0, 'feature_fraction': 0.4322292525028558, 'bagging_fraction': 0.7173221966106267, 'bagging_freq': 2, 'lambda_l1': 0.0389877845243951, 'lambda_l2': 2.7634572764593614e-05}. Best is trial 354 with value: 1.967147777953415.\u001b[0m\n"
     ]
    },
    {
     "name": "stdout",
     "output_type": "stream",
     "text": [
      "[700]\tvalid_0's rmse: 2.05803\n",
      "Early stopping, best iteration is:\n",
      "[257]\tvalid_0's rmse: 2.04232\n",
      "valid_score:  RMSE = 2.042316604347812\n",
      "Training until validation scores don't improve for 500 rounds\n",
      "[100]\tvalid_0's rmse: 2.03711\n",
      "[200]\tvalid_0's rmse: 1.99682\n"
     ]
    },
    {
     "name": "stderr",
     "output_type": "stream",
     "text": [
      "\u001b[32m[I 2022-02-23 14:50:12,642]\u001b[0m Trial 422 finished with value: 1.9917914060987232 and parameters: {'n_estimators': 5000, 'num_leaves': 14, 'boosting': 'gbdt', 'max_depth': 12, 'max_bin': 32, 'min_data_in_leaf': 1, 'min_data_in_bin': 1, 'min_gain_to_split': 2.24, 'learning_rate': 0.031124042011708392, 'random_state': 0, 'feature_fraction': 0.40976581312879923, 'bagging_fraction': 0.7113166418292955, 'bagging_freq': 6, 'lambda_l1': 0.22001617098596804, 'lambda_l2': 0.000189280722689969}. Best is trial 354 with value: 1.967147777953415.\u001b[0m\n"
     ]
    },
    {
     "name": "stdout",
     "output_type": "stream",
     "text": [
      "[300]\tvalid_0's rmse: 1.99356\n",
      "[400]\tvalid_0's rmse: 1.99686\n",
      "[500]\tvalid_0's rmse: 2.00283\n",
      "[600]\tvalid_0's rmse: 2.00826\n",
      "[700]\tvalid_0's rmse: 2.01102\n",
      "Early stopping, best iteration is:\n",
      "[237]\tvalid_0's rmse: 1.99179\n",
      "valid_score:  RMSE = 1.9917914060987232\n"
     ]
    },
    {
     "name": "stderr",
     "output_type": "stream",
     "text": [
      "\u001b[32m[I 2022-02-23 14:50:12,868]\u001b[0m Trial 423 finished with value: 2.0405012366468607 and parameters: {'n_estimators': 10000, 'num_leaves': 16, 'boosting': 'gbdt', 'max_depth': 11, 'max_bin': 32, 'min_data_in_leaf': 1, 'min_data_in_bin': 1, 'min_gain_to_split': 1.29, 'learning_rate': 0.1273759137962938, 'random_state': 0, 'feature_fraction': 0.6451456196185726, 'bagging_fraction': 0.709493397693556, 'bagging_freq': 5, 'lambda_l1': 3.2638432240644776e-08, 'lambda_l2': 0.002441668611064424}. Best is trial 354 with value: 1.967147777953415.\u001b[0m\n"
     ]
    },
    {
     "name": "stdout",
     "output_type": "stream",
     "text": [
      "Training until validation scores don't improve for 500 rounds\n",
      "[100]\tvalid_0's rmse: 2.12672\n",
      "[200]\tvalid_0's rmse: 2.11875\n",
      "[300]\tvalid_0's rmse: 2.11875\n",
      "[400]\tvalid_0's rmse: 2.11875\n",
      "[500]\tvalid_0's rmse: 2.11875\n",
      "Early stopping, best iteration is:\n",
      "[30]\tvalid_0's rmse: 2.0405\n",
      "valid_score:  RMSE = 2.0405012366468607\n",
      "Training until validation scores don't improve for 500 rounds\n",
      "[100]\tvalid_0's rmse: 2.08627\n",
      "[200]\tvalid_0's rmse: 2.03936\n",
      "[300]\tvalid_0's rmse: 2.02144\n",
      "[400]\tvalid_0's rmse: 2.0011\n",
      "[500]\tvalid_0's rmse: 1.99425\n",
      "[600]\tvalid_0's rmse: 1.99425\n"
     ]
    },
    {
     "name": "stderr",
     "output_type": "stream",
     "text": [
      "\u001b[32m[I 2022-02-23 14:50:13,212]\u001b[0m Trial 424 finished with value: 1.9937892547094147 and parameters: {'n_estimators': 10000, 'num_leaves': 6, 'boosting': 'gbdt', 'max_depth': 12, 'max_bin': 32, 'min_data_in_leaf': 1, 'min_data_in_bin': 1, 'min_gain_to_split': 4.27, 'learning_rate': 0.040401235274459, 'random_state': 0, 'feature_fraction': 0.8399808301063045, 'bagging_fraction': 0.7284440913483454, 'bagging_freq': 5, 'lambda_l1': 5.818360017880208e-07, 'lambda_l2': 0.003806176073597602}. Best is trial 354 with value: 1.967147777953415.\u001b[0m\n"
     ]
    },
    {
     "name": "stdout",
     "output_type": "stream",
     "text": [
      "[700]\tvalid_0's rmse: 1.99425\n",
      "[800]\tvalid_0's rmse: 1.99425\n",
      "[900]\tvalid_0's rmse: 1.99425\n",
      "Early stopping, best iteration is:\n",
      "[470]\tvalid_0's rmse: 1.99379\n",
      "valid_score:  RMSE = 1.9937892547094147\n",
      "Training until validation scores don't improve for 500 rounds\n",
      "[100]\tvalid_0's rmse: 2.06089\n",
      "[200]\tvalid_0's rmse: 2.04749\n",
      "[300]\tvalid_0's rmse: 2.0411\n",
      "[400]\tvalid_0's rmse: 2.04855\n"
     ]
    },
    {
     "name": "stderr",
     "output_type": "stream",
     "text": [
      "\u001b[32m[I 2022-02-23 14:50:13,435]\u001b[0m Trial 425 finished with value: 2.034305685357625 and parameters: {'n_estimators': 5000, 'num_leaves': 2, 'boosting': 'gbdt', 'max_depth': 11, 'max_bin': 32, 'min_data_in_leaf': 1, 'min_data_in_bin': 1, 'min_gain_to_split': 1.7000000000000002, 'learning_rate': 0.2158224962067191, 'random_state': 0, 'feature_fraction': 0.515032657967769, 'bagging_fraction': 0.8937519386079029, 'bagging_freq': 2, 'lambda_l1': 0.07036337000306639, 'lambda_l2': 0.0009513439693898548}. Best is trial 354 with value: 1.967147777953415.\u001b[0m\n"
     ]
    },
    {
     "name": "stdout",
     "output_type": "stream",
     "text": [
      "[500]\tvalid_0's rmse: 2.03846\n",
      "[600]\tvalid_0's rmse: 2.04069\n",
      "[700]\tvalid_0's rmse: 2.04495\n",
      "[800]\tvalid_0's rmse: 2.04521\n",
      "[900]\tvalid_0's rmse: 2.04621\n",
      "Early stopping, best iteration is:\n",
      "[476]\tvalid_0's rmse: 2.03431\n",
      "valid_score:  RMSE = 2.034305685357625\n",
      "Training until validation scores don't improve for 500 rounds\n",
      "[100]\tvalid_0's rmse: 2.03112\n",
      "[200]\tvalid_0's rmse: 2.05972\n",
      "[300]\tvalid_0's rmse: 2.07449\n",
      "[400]\tvalid_0's rmse: 2.09938\n",
      "[500]\tvalid_0's rmse: 2.10628\n"
     ]
    },
    {
     "name": "stderr",
     "output_type": "stream",
     "text": [
      "\u001b[32m[I 2022-02-23 14:50:13,605]\u001b[0m Trial 426 finished with value: 2.0265819374155596 and parameters: {'n_estimators': 5000, 'num_leaves': 13, 'boosting': 'gbdt', 'max_depth': 2, 'max_bin': 32, 'min_data_in_leaf': 1, 'min_data_in_bin': 1, 'min_gain_to_split': 0.83, 'learning_rate': 0.24983999986609737, 'random_state': 0, 'feature_fraction': 0.6597987678385908, 'bagging_fraction': 0.7650102037608366, 'bagging_freq': 3, 'lambda_l1': 2.169589156473847e-06, 'lambda_l2': 1.288068251496262e-07}. Best is trial 354 with value: 1.967147777953415.\u001b[0m\n"
     ]
    },
    {
     "name": "stdout",
     "output_type": "stream",
     "text": [
      "Early stopping, best iteration is:\n",
      "[93]\tvalid_0's rmse: 2.02658\n",
      "valid_score:  RMSE = 2.0265819374155596\n",
      "Training until validation scores don't improve for 500 rounds\n",
      "[100]\tvalid_0's rmse: 2.03414\n",
      "[200]\tvalid_0's rmse: 2.06224\n"
     ]
    },
    {
     "name": "stderr",
     "output_type": "stream",
     "text": [
      "\u001b[32m[I 2022-02-23 14:50:13,943]\u001b[0m Trial 427 finished with value: 1.9907346707577673 and parameters: {'n_estimators': 5000, 'num_leaves': 12, 'boosting': 'gbdt', 'max_depth': 9, 'max_bin': 32, 'min_data_in_leaf': 1, 'min_data_in_bin': 1, 'min_gain_to_split': 1.8800000000000001, 'learning_rate': 0.12317505875871804, 'random_state': 0, 'feature_fraction': 0.8248465340801558, 'bagging_fraction': 0.5808600287880907, 'bagging_freq': 1, 'lambda_l1': 1.1402114081801699e-05, 'lambda_l2': 0.051675341649562015}. Best is trial 354 with value: 1.967147777953415.\u001b[0m\n"
     ]
    },
    {
     "name": "stdout",
     "output_type": "stream",
     "text": [
      "[300]\tvalid_0's rmse: 2.08549\n",
      "[400]\tvalid_0's rmse: 2.08417\n",
      "[500]\tvalid_0's rmse: 2.08677\n",
      "Early stopping, best iteration is:\n",
      "[48]\tvalid_0's rmse: 1.99073\n",
      "valid_score:  RMSE = 1.9907346707577673\n",
      "Training until validation scores don't improve for 500 rounds\n",
      "[100]\tvalid_0's rmse: 2.5527\n",
      "[200]\tvalid_0's rmse: 2.33137\n",
      "[300]\tvalid_0's rmse: 2.20763\n",
      "[400]\tvalid_0's rmse: 2.14285\n",
      "[500]\tvalid_0's rmse: 2.09744\n",
      "[600]\tvalid_0's rmse: 2.07426\n",
      "[700]\tvalid_0's rmse: 2.05269\n",
      "[800]\tvalid_0's rmse: 2.03583\n",
      "[900]\tvalid_0's rmse: 2.03154\n",
      "[1000]\tvalid_0's rmse: 2.02467\n",
      "[1100]\tvalid_0's rmse: 2.01695\n",
      "[1200]\tvalid_0's rmse: 2.01446\n",
      "[1300]\tvalid_0's rmse: 2.01225\n",
      "[1400]\tvalid_0's rmse: 2.0127\n",
      "[1500]\tvalid_0's rmse: 2.01041\n",
      "[1600]\tvalid_0's rmse: 2.01174\n",
      "[1700]\tvalid_0's rmse: 2.01052\n",
      "[1800]\tvalid_0's rmse: 2.00918\n",
      "[1900]\tvalid_0's rmse: 2.00721\n",
      "[2000]\tvalid_0's rmse: 2.00822\n",
      "[2100]\tvalid_0's rmse: 2.00759\n",
      "[2200]\tvalid_0's rmse: 2.00561\n",
      "[2300]\tvalid_0's rmse: 2.00613\n",
      "[2400]\tvalid_0's rmse: 2.00469\n",
      "[2500]\tvalid_0's rmse: 2.00206\n"
     ]
    },
    {
     "name": "stderr",
     "output_type": "stream",
     "text": [
      "\u001b[32m[I 2022-02-23 14:50:14,884]\u001b[0m Trial 428 finished with value: 2.0018290880391896 and parameters: {'n_estimators': 5000, 'num_leaves': 6, 'boosting': 'gbdt', 'max_depth': 7, 'max_bin': 32, 'min_data_in_leaf': 1, 'min_data_in_bin': 1, 'min_gain_to_split': 2.43, 'learning_rate': 0.005284367620032221, 'random_state': 0, 'feature_fraction': 0.8818085488759658, 'bagging_fraction': 0.5349011694521961, 'bagging_freq': 5, 'lambda_l1': 4.4756495603290637e-08, 'lambda_l2': 0.001274302529546264}. Best is trial 354 with value: 1.967147777953415.\u001b[0m\n"
     ]
    },
    {
     "name": "stdout",
     "output_type": "stream",
     "text": [
      "[2600]\tvalid_0's rmse: 2.0022\n",
      "[2700]\tvalid_0's rmse: 2.00417\n",
      "[2800]\tvalid_0's rmse: 2.00424\n",
      "[2900]\tvalid_0's rmse: 2.00586\n",
      "[3000]\tvalid_0's rmse: 2.00426\n",
      "Early stopping, best iteration is:\n",
      "[2550]\tvalid_0's rmse: 2.00183\n",
      "valid_score:  RMSE = 2.0018290880391896\n"
     ]
    },
    {
     "name": "stderr",
     "output_type": "stream",
     "text": [
      "\u001b[32m[I 2022-02-23 14:50:15,083]\u001b[0m Trial 429 finished with value: 2.023062924924315 and parameters: {'n_estimators': 10000, 'num_leaves': 2, 'boosting': 'gbdt', 'max_depth': 15, 'max_bin': 32, 'min_data_in_leaf': 1, 'min_data_in_bin': 1, 'min_gain_to_split': 3.0500000000000003, 'learning_rate': 0.04791511603857398, 'random_state': 0, 'feature_fraction': 0.6468479343010122, 'bagging_fraction': 0.42479562504496504, 'bagging_freq': 7, 'lambda_l1': 4.440812198441943e-05, 'lambda_l2': 0.18639337158378252}. Best is trial 354 with value: 1.967147777953415.\u001b[0m\n"
     ]
    },
    {
     "name": "stdout",
     "output_type": "stream",
     "text": [
      "Training until validation scores don't improve for 500 rounds\n",
      "[100]\tvalid_0's rmse: 2.18007\n",
      "[200]\tvalid_0's rmse: 2.08313\n",
      "[300]\tvalid_0's rmse: 2.06638\n",
      "[400]\tvalid_0's rmse: 2.04729\n",
      "[500]\tvalid_0's rmse: 2.03599\n",
      "[600]\tvalid_0's rmse: 2.03382\n",
      "[700]\tvalid_0's rmse: 2.03617\n",
      "[800]\tvalid_0's rmse: 2.03257\n",
      "[900]\tvalid_0's rmse: 2.04427\n",
      "[1000]\tvalid_0's rmse: 2.05958\n",
      "[1100]\tvalid_0's rmse: 2.04454\n",
      "[1200]\tvalid_0's rmse: 2.04885\n",
      "Early stopping, best iteration is:\n",
      "[757]\tvalid_0's rmse: 2.02306\n",
      "valid_score:  RMSE = 2.023062924924315\n",
      "Training until validation scores don't improve for 500 rounds\n"
     ]
    },
    {
     "name": "stderr",
     "output_type": "stream",
     "text": [
      "\u001b[32m[I 2022-02-23 14:50:15,282]\u001b[0m Trial 430 finished with value: 2.047749888369534 and parameters: {'n_estimators': 5000, 'num_leaves': 7, 'boosting': 'gbdt', 'max_depth': 16, 'max_bin': 32, 'min_data_in_leaf': 1, 'min_data_in_bin': 1, 'min_gain_to_split': 3.6300000000000003, 'learning_rate': 0.17223488393728023, 'random_state': 0, 'feature_fraction': 0.7742787676880025, 'bagging_fraction': 0.40219705056804633, 'bagging_freq': 3, 'lambda_l1': 2.5347825071183153e-07, 'lambda_l2': 0.02475653754309}. Best is trial 354 with value: 1.967147777953415.\u001b[0m\n"
     ]
    },
    {
     "name": "stdout",
     "output_type": "stream",
     "text": [
      "[100]\tvalid_0's rmse: 2.10498\n",
      "[200]\tvalid_0's rmse: 2.12651\n",
      "[300]\tvalid_0's rmse: 2.1934\n",
      "[400]\tvalid_0's rmse: 2.18773\n",
      "[500]\tvalid_0's rmse: 2.18773\n",
      "Early stopping, best iteration is:\n",
      "[48]\tvalid_0's rmse: 2.04775\n",
      "valid_score:  RMSE = 2.047749888369534\n",
      "Training until validation scores don't improve for 500 rounds\n",
      "[100]\tvalid_0's rmse: 2.33788\n"
     ]
    },
    {
     "name": "stderr",
     "output_type": "stream",
     "text": [
      "\u001b[32m[I 2022-02-23 14:50:15,504]\u001b[0m Trial 431 finished with value: 2.1922880220616516 and parameters: {'n_estimators': 10000, 'num_leaves': 9, 'boosting': 'gbdt', 'max_depth': 15, 'max_bin': 32, 'min_data_in_leaf': 1, 'min_data_in_bin': 1, 'min_gain_to_split': 1.7500000000000002, 'learning_rate': 0.2773340716915305, 'random_state': 0, 'feature_fraction': 0.8558315331705333, 'bagging_fraction': 0.4275164419450247, 'bagging_freq': 6, 'lambda_l1': 8.526139894240557e-05, 'lambda_l2': 0.00012870115413199902}. Best is trial 354 with value: 1.967147777953415.\u001b[0m\n"
     ]
    },
    {
     "name": "stdout",
     "output_type": "stream",
     "text": [
      "[200]\tvalid_0's rmse: 2.44218\n",
      "[300]\tvalid_0's rmse: 2.44721\n",
      "[400]\tvalid_0's rmse: 2.44721\n",
      "[500]\tvalid_0's rmse: 2.44721\n",
      "Early stopping, best iteration is:\n",
      "[29]\tvalid_0's rmse: 2.19229\n",
      "valid_score:  RMSE = 2.1922880220616516\n",
      "Training until validation scores don't improve for 500 rounds\n",
      "[100]\tvalid_0's rmse: 2.03607\n",
      "[200]\tvalid_0's rmse: 2.02226\n"
     ]
    },
    {
     "name": "stderr",
     "output_type": "stream",
     "text": [
      "\u001b[32m[I 2022-02-23 14:50:15,749]\u001b[0m Trial 432 finished with value: 1.9938985381396692 and parameters: {'n_estimators': 5000, 'num_leaves': 3, 'boosting': 'gbdt', 'max_depth': 16, 'max_bin': 32, 'min_data_in_leaf': 1, 'min_data_in_bin': 1, 'min_gain_to_split': 3.1700000000000004, 'learning_rate': 0.1122591454356163, 'random_state': 0, 'feature_fraction': 0.8689447564295542, 'bagging_fraction': 0.6996317809455628, 'bagging_freq': 1, 'lambda_l1': 0.0008588972401202217, 'lambda_l2': 8.048034848952217e-06}. Best is trial 354 with value: 1.967147777953415.\u001b[0m\n"
     ]
    },
    {
     "name": "stdout",
     "output_type": "stream",
     "text": [
      "[300]\tvalid_0's rmse: 2.00651\n",
      "[400]\tvalid_0's rmse: 2.01074\n",
      "[500]\tvalid_0's rmse: 2.00833\n",
      "[600]\tvalid_0's rmse: 2.01977\n",
      "[700]\tvalid_0's rmse: 2.01867\n",
      "[800]\tvalid_0's rmse: 2.02651\n",
      "Early stopping, best iteration is:\n",
      "[346]\tvalid_0's rmse: 1.9939\n",
      "valid_score:  RMSE = 1.9938985381396692\n",
      "Training until validation scores don't improve for 500 rounds\n",
      "[100]\tvalid_0's rmse: 2.03434\n",
      "[200]\tvalid_0's rmse: 2.02179\n",
      "[300]\tvalid_0's rmse: 2.0201\n",
      "[400]\tvalid_0's rmse: 2.02002\n",
      "[500]\tvalid_0's rmse: 2.02051\n"
     ]
    },
    {
     "name": "stderr",
     "output_type": "stream",
     "text": [
      "\u001b[32m[I 2022-02-23 14:50:16,085]\u001b[0m Trial 433 finished with value: 2.0181173639818852 and parameters: {'n_estimators': 5000, 'num_leaves': 15, 'boosting': 'gbdt', 'max_depth': 9, 'max_bin': 32, 'min_data_in_leaf': 1, 'min_data_in_bin': 1, 'min_gain_to_split': 1.07, 'learning_rate': 0.037969707492841814, 'random_state': 0, 'feature_fraction': 0.4655094264150692, 'bagging_fraction': 0.9432078753689913, 'bagging_freq': 6, 'lambda_l1': 0.0005881917668337454, 'lambda_l2': 4.6965915491328536e-07}. Best is trial 354 with value: 1.967147777953415.\u001b[0m\n"
     ]
    },
    {
     "name": "stdout",
     "output_type": "stream",
     "text": [
      "[600]\tvalid_0's rmse: 2.02051\n",
      "Early stopping, best iteration is:\n",
      "[136]\tvalid_0's rmse: 2.01812\n",
      "valid_score:  RMSE = 2.0181173639818852\n",
      "Training until validation scores don't improve for 500 rounds\n",
      "[100]\tvalid_0's rmse: 2.06726\n",
      "[200]\tvalid_0's rmse: 2.01039\n"
     ]
    },
    {
     "name": "stderr",
     "output_type": "stream",
     "text": [
      "\u001b[32m[I 2022-02-23 14:50:16,509]\u001b[0m Trial 434 finished with value: 2.0068787360442966 and parameters: {'n_estimators': 5000, 'num_leaves': 14, 'boosting': 'gbdt', 'max_depth': 12, 'max_bin': 32, 'min_data_in_leaf': 1, 'min_data_in_bin': 1, 'min_gain_to_split': 1.11, 'learning_rate': 0.02865546644190961, 'random_state': 0, 'feature_fraction': 0.7052665064062675, 'bagging_fraction': 0.5328154159872363, 'bagging_freq': 5, 'lambda_l1': 0.0009656829865699295, 'lambda_l2': 1.600651783150762e-08}. Best is trial 354 with value: 1.967147777953415.\u001b[0m\n"
     ]
    },
    {
     "name": "stdout",
     "output_type": "stream",
     "text": [
      "[300]\tvalid_0's rmse: 2.0154\n",
      "[400]\tvalid_0's rmse: 2.01651\n",
      "[500]\tvalid_0's rmse: 2.02368\n",
      "[600]\tvalid_0's rmse: 2.02206\n",
      "[700]\tvalid_0's rmse: 2.01742\n",
      "Early stopping, best iteration is:\n",
      "[235]\tvalid_0's rmse: 2.00688\n",
      "valid_score:  RMSE = 2.0068787360442966\n"
     ]
    },
    {
     "name": "stderr",
     "output_type": "stream",
     "text": [
      "\u001b[32m[I 2022-02-23 14:50:16,695]\u001b[0m Trial 435 finished with value: 2.047155910187135 and parameters: {'n_estimators': 5000, 'num_leaves': 8, 'boosting': 'gbdt', 'max_depth': 5, 'max_bin': 32, 'min_data_in_leaf': 1, 'min_data_in_bin': 1, 'min_gain_to_split': 4.71, 'learning_rate': 0.1656874344964684, 'random_state': 0, 'feature_fraction': 0.7651926574889463, 'bagging_fraction': 0.4859702977797003, 'bagging_freq': 2, 'lambda_l1': 2.1123836005559903e-08, 'lambda_l2': 0.0004928196377735274}. Best is trial 354 with value: 1.967147777953415.\u001b[0m\n"
     ]
    },
    {
     "name": "stdout",
     "output_type": "stream",
     "text": [
      "Training until validation scores don't improve for 500 rounds\n",
      "[100]\tvalid_0's rmse: 2.08057\n",
      "[200]\tvalid_0's rmse: 2.08747\n",
      "[300]\tvalid_0's rmse: 2.08747\n",
      "[400]\tvalid_0's rmse: 2.08747\n",
      "[500]\tvalid_0's rmse: 2.08747\n",
      "Early stopping, best iteration is:\n",
      "[43]\tvalid_0's rmse: 2.04716\n",
      "valid_score:  RMSE = 2.047155910187135\n",
      "Training until validation scores don't improve for 500 rounds\n"
     ]
    },
    {
     "name": "stderr",
     "output_type": "stream",
     "text": [
      "\u001b[32m[I 2022-02-23 14:50:16,907]\u001b[0m Trial 436 finished with value: 1.9950332118792145 and parameters: {'n_estimators': 10000, 'num_leaves': 7, 'boosting': 'gbdt', 'max_depth': 13, 'max_bin': 32, 'min_data_in_leaf': 1, 'min_data_in_bin': 1, 'min_gain_to_split': 0.24000000000000002, 'learning_rate': 0.2135845008668648, 'random_state': 0, 'feature_fraction': 0.851177586804106, 'bagging_fraction': 0.7105438729725793, 'bagging_freq': 4, 'lambda_l1': 2.303717754632662e-08, 'lambda_l2': 0.008350425408316443}. Best is trial 354 with value: 1.967147777953415.\u001b[0m\n"
     ]
    },
    {
     "name": "stdout",
     "output_type": "stream",
     "text": [
      "[100]\tvalid_0's rmse: 2.03046\n",
      "[200]\tvalid_0's rmse: 2.08297\n",
      "[300]\tvalid_0's rmse: 2.08765\n",
      "[400]\tvalid_0's rmse: 2.11518\n",
      "[500]\tvalid_0's rmse: 2.12911\n",
      "Early stopping, best iteration is:\n",
      "[71]\tvalid_0's rmse: 1.99503\n",
      "valid_score:  RMSE = 1.9950332118792145\n",
      "Training until validation scores don't improve for 500 rounds\n",
      "[100]\tvalid_0's rmse: 2.17114\n"
     ]
    },
    {
     "name": "stderr",
     "output_type": "stream",
     "text": [
      "\u001b[32m[I 2022-02-23 14:50:17,109]\u001b[0m Trial 437 finished with value: 2.1064924717485294 and parameters: {'n_estimators': 5000, 'num_leaves': 7, 'boosting': 'gbdt', 'max_depth': 7, 'max_bin': 32, 'min_data_in_leaf': 1, 'min_data_in_bin': 1, 'min_gain_to_split': 1.52, 'learning_rate': 0.28437537192759754, 'random_state': 0, 'feature_fraction': 0.8577845793852945, 'bagging_fraction': 0.4325510534666329, 'bagging_freq': 5, 'lambda_l1': 0.26017312978880286, 'lambda_l2': 0.18499807534168236}. Best is trial 354 with value: 1.967147777953415.\u001b[0m\n"
     ]
    },
    {
     "name": "stdout",
     "output_type": "stream",
     "text": [
      "[200]\tvalid_0's rmse: 2.20587\n",
      "[300]\tvalid_0's rmse: 2.23813\n",
      "[400]\tvalid_0's rmse: 2.26924\n",
      "[500]\tvalid_0's rmse: 2.26924\n",
      "Early stopping, best iteration is:\n",
      "[31]\tvalid_0's rmse: 2.10649\n",
      "valid_score:  RMSE = 2.1064924717485294\n",
      "Training until validation scores don't improve for 500 rounds\n",
      "[100]\tvalid_0's rmse: 2.05266\n"
     ]
    },
    {
     "name": "stderr",
     "output_type": "stream",
     "text": [
      "\u001b[32m[I 2022-02-23 14:50:17,374]\u001b[0m Trial 438 finished with value: 2.0157564518456894 and parameters: {'n_estimators': 5000, 'num_leaves': 7, 'boosting': 'gbdt', 'max_depth': 12, 'max_bin': 32, 'min_data_in_leaf': 1, 'min_data_in_bin': 1, 'min_gain_to_split': 4.77, 'learning_rate': 0.060742700078222134, 'random_state': 0, 'feature_fraction': 0.6913373040560682, 'bagging_fraction': 0.767278387561541, 'bagging_freq': 5, 'lambda_l1': 0.006127445836069755, 'lambda_l2': 0.21369299687413534}. Best is trial 354 with value: 1.967147777953415.\u001b[0m\n"
     ]
    },
    {
     "name": "stdout",
     "output_type": "stream",
     "text": [
      "[200]\tvalid_0's rmse: 2.0212\n",
      "[300]\tvalid_0's rmse: 2.01576\n",
      "[400]\tvalid_0's rmse: 2.01576\n",
      "[500]\tvalid_0's rmse: 2.01576\n",
      "[600]\tvalid_0's rmse: 2.01576\n",
      "[700]\tvalid_0's rmse: 2.01576\n",
      "Early stopping, best iteration is:\n",
      "[217]\tvalid_0's rmse: 2.01576\n",
      "valid_score:  RMSE = 2.0157564518456894\n",
      "Training until validation scores don't improve for 500 rounds\n"
     ]
    },
    {
     "name": "stderr",
     "output_type": "stream",
     "text": [
      "\u001b[32m[I 2022-02-23 14:50:17,652]\u001b[0m Trial 439 finished with value: 2.0653205057595336 and parameters: {'n_estimators': 5000, 'num_leaves': 14, 'boosting': 'gbdt', 'max_depth': 12, 'max_bin': 32, 'min_data_in_leaf': 1, 'min_data_in_bin': 1, 'min_gain_to_split': 0.23, 'learning_rate': 0.22312812618408653, 'random_state': 0, 'feature_fraction': 0.8836286646447997, 'bagging_fraction': 0.8416188203084052, 'bagging_freq': 5, 'lambda_l1': 4.190282562070487e-07, 'lambda_l2': 8.670985837671898e-07}. Best is trial 354 with value: 1.967147777953415.\u001b[0m\n"
     ]
    },
    {
     "name": "stdout",
     "output_type": "stream",
     "text": [
      "[100]\tvalid_0's rmse: 2.12209\n",
      "[200]\tvalid_0's rmse: 2.16484\n",
      "[300]\tvalid_0's rmse: 2.16602\n",
      "[400]\tvalid_0's rmse: 2.16602\n",
      "[500]\tvalid_0's rmse: 2.16602\n",
      "Early stopping, best iteration is:\n",
      "[21]\tvalid_0's rmse: 2.06532\n",
      "valid_score:  RMSE = 2.0653205057595336\n",
      "Training until validation scores don't improve for 500 rounds\n",
      "[100]\tvalid_0's rmse: 2.07865\n",
      "[200]\tvalid_0's rmse: 2.04282\n",
      "[300]\tvalid_0's rmse: 2.04463\n",
      "[400]\tvalid_0's rmse: 2.03554\n",
      "[500]\tvalid_0's rmse: 2.03803\n",
      "[600]\tvalid_0's rmse: 2.03318\n",
      "[700]\tvalid_0's rmse: 2.00614\n",
      "[800]\tvalid_0's rmse: 2.00863\n",
      "[900]\tvalid_0's rmse: 2.02183\n",
      "[1000]\tvalid_0's rmse: 2.00979\n",
      "[1100]\tvalid_0's rmse: 2.01048\n",
      "[1200]\tvalid_0's rmse: 2.01942\n",
      "[1300]\tvalid_0's rmse: 2.02375\n",
      "[1400]\tvalid_0's rmse: 2.03365\n",
      "[1500]\tvalid_0's rmse: 2.02727\n"
     ]
    },
    {
     "name": "stderr",
     "output_type": "stream",
     "text": [
      "\u001b[32m[I 2022-02-23 14:50:17,989]\u001b[0m Trial 440 finished with value: 2.0010923580325457 and parameters: {'n_estimators': 5000, 'num_leaves': 3, 'boosting': 'gbdt', 'max_depth': 3, 'max_bin': 32, 'min_data_in_leaf': 1, 'min_data_in_bin': 1, 'min_gain_to_split': 1.3800000000000001, 'learning_rate': 0.06904911376770069, 'random_state': 0, 'feature_fraction': 0.6533840076342261, 'bagging_fraction': 0.48001469185412754, 'bagging_freq': 5, 'lambda_l1': 0.001271086827447946, 'lambda_l2': 0.07316584512379008}. Best is trial 354 with value: 1.967147777953415.\u001b[0m\n"
     ]
    },
    {
     "name": "stdout",
     "output_type": "stream",
     "text": [
      "Early stopping, best iteration is:\n",
      "[1059]\tvalid_0's rmse: 2.00109\n",
      "valid_score:  RMSE = 2.0010923580325457\n",
      "Training until validation scores don't improve for 500 rounds\n",
      "[100]\tvalid_0's rmse: 2.01988\n",
      "[200]\tvalid_0's rmse: 2.02191\n",
      "[300]\tvalid_0's rmse: 2.02191\n"
     ]
    },
    {
     "name": "stderr",
     "output_type": "stream",
     "text": [
      "\u001b[32m[I 2022-02-23 14:50:18,237]\u001b[0m Trial 441 finished with value: 2.010393271379232 and parameters: {'n_estimators': 10000, 'num_leaves': 14, 'boosting': 'gbdt', 'max_depth': 5, 'max_bin': 32, 'min_data_in_leaf': 1, 'min_data_in_bin': 1, 'min_gain_to_split': 3.18, 'learning_rate': 0.07393561042089276, 'random_state': 0, 'feature_fraction': 0.6363420717924524, 'bagging_fraction': 0.8515182699349132, 'bagging_freq': 7, 'lambda_l1': 1.1218487612215013e-05, 'lambda_l2': 1.1458384755675472e-08}. Best is trial 354 with value: 1.967147777953415.\u001b[0m\n"
     ]
    },
    {
     "name": "stdout",
     "output_type": "stream",
     "text": [
      "[400]\tvalid_0's rmse: 2.02191\n",
      "[500]\tvalid_0's rmse: 2.02191\n",
      "Early stopping, best iteration is:\n",
      "[65]\tvalid_0's rmse: 2.01039\n",
      "valid_score:  RMSE = 2.010393271379232\n",
      "Training until validation scores don't improve for 500 rounds\n",
      "[100]\tvalid_0's rmse: 2.07105\n",
      "[200]\tvalid_0's rmse: 2.0784\n",
      "[300]\tvalid_0's rmse: 2.0784\n"
     ]
    },
    {
     "name": "stderr",
     "output_type": "stream",
     "text": [
      "\u001b[32m[I 2022-02-23 14:50:18,486]\u001b[0m Trial 442 finished with value: 2.0506663887935948 and parameters: {'n_estimators': 5000, 'num_leaves': 10, 'boosting': 'gbdt', 'max_depth': 14, 'max_bin': 32, 'min_data_in_leaf': 1, 'min_data_in_bin': 1, 'min_gain_to_split': 4.04, 'learning_rate': 0.09151855807090686, 'random_state': 0, 'feature_fraction': 0.9964428143789228, 'bagging_fraction': 0.7496378967029171, 'bagging_freq': 7, 'lambda_l1': 0.0014600238432422772, 'lambda_l2': 5.270854134150945e-06}. Best is trial 354 with value: 1.967147777953415.\u001b[0m\n"
     ]
    },
    {
     "name": "stdout",
     "output_type": "stream",
     "text": [
      "[400]\tvalid_0's rmse: 2.0784\n",
      "[500]\tvalid_0's rmse: 2.0784\n",
      "Early stopping, best iteration is:\n",
      "[88]\tvalid_0's rmse: 2.05067\n",
      "valid_score:  RMSE = 2.0506663887935948\n",
      "Training until validation scores don't improve for 500 rounds\n",
      "[100]\tvalid_0's rmse: 2.23762\n"
     ]
    },
    {
     "name": "stderr",
     "output_type": "stream",
     "text": [
      "\u001b[32m[I 2022-02-23 14:50:18,734]\u001b[0m Trial 443 finished with value: 2.1058741548002615 and parameters: {'n_estimators': 5000, 'num_leaves': 14, 'boosting': 'gbdt', 'max_depth': 6, 'max_bin': 32, 'min_data_in_leaf': 1, 'min_data_in_bin': 1, 'min_gain_to_split': 1.4700000000000002, 'learning_rate': 0.28827115802275055, 'random_state': 0, 'feature_fraction': 0.5130829098492226, 'bagging_fraction': 0.4615097646431879, 'bagging_freq': 5, 'lambda_l1': 0.0021645877792317563, 'lambda_l2': 0.0024997273752451533}. Best is trial 354 with value: 1.967147777953415.\u001b[0m\n"
     ]
    },
    {
     "name": "stdout",
     "output_type": "stream",
     "text": [
      "[200]\tvalid_0's rmse: 2.31232\n",
      "[300]\tvalid_0's rmse: 2.33738\n",
      "[400]\tvalid_0's rmse: 2.33738\n",
      "[500]\tvalid_0's rmse: 2.33738\n",
      "Early stopping, best iteration is:\n",
      "[20]\tvalid_0's rmse: 2.10587\n",
      "valid_score:  RMSE = 2.1058741548002615\n",
      "Training until validation scores don't improve for 500 rounds\n",
      "[100]\tvalid_0's rmse: 2.02386\n",
      "[200]\tvalid_0's rmse: 2.02784\n"
     ]
    },
    {
     "name": "stderr",
     "output_type": "stream",
     "text": [
      "\u001b[32m[I 2022-02-23 14:50:18,927]\u001b[0m Trial 444 finished with value: 1.9944791397327786 and parameters: {'n_estimators': 10000, 'num_leaves': 5, 'boosting': 'gbdt', 'max_depth': 9, 'max_bin': 32, 'min_data_in_leaf': 1, 'min_data_in_bin': 1, 'min_gain_to_split': 3.5500000000000003, 'learning_rate': 0.27938732880333944, 'random_state': 0, 'feature_fraction': 0.5865655568545773, 'bagging_fraction': 0.840620807819614, 'bagging_freq': 4, 'lambda_l1': 0.11401464384152718, 'lambda_l2': 0.00018925588825394134}. Best is trial 354 with value: 1.967147777953415.\u001b[0m\n"
     ]
    },
    {
     "name": "stdout",
     "output_type": "stream",
     "text": [
      "[300]\tvalid_0's rmse: 2.02784\n",
      "[400]\tvalid_0's rmse: 2.02784\n",
      "[500]\tvalid_0's rmse: 2.02784\n",
      "Early stopping, best iteration is:\n",
      "[43]\tvalid_0's rmse: 1.99448\n",
      "valid_score:  RMSE = 1.9944791397327786\n",
      "Training until validation scores don't improve for 500 rounds\n",
      "[100]\tvalid_0's rmse: 2.04445\n",
      "[200]\tvalid_0's rmse: 2.15339\n",
      "[300]\tvalid_0's rmse: 2.18413\n",
      "[400]\tvalid_0's rmse: 2.20777\n"
     ]
    },
    {
     "name": "stderr",
     "output_type": "stream",
     "text": [
      "\u001b[32m[I 2022-02-23 14:50:19,113]\u001b[0m Trial 445 finished with value: 2.0307454990629705 and parameters: {'n_estimators': 5000, 'num_leaves': 7, 'boosting': 'gbdt', 'max_depth': 2, 'max_bin': 32, 'min_data_in_leaf': 1, 'min_data_in_bin': 1, 'min_gain_to_split': 2.27, 'learning_rate': 0.2371693838535771, 'random_state': 0, 'feature_fraction': 0.7900476528948586, 'bagging_fraction': 0.4346599236306545, 'bagging_freq': 1, 'lambda_l1': 0.00044908557801739783, 'lambda_l2': 3.207322299854044e-05}. Best is trial 354 with value: 1.967147777953415.\u001b[0m\n"
     ]
    },
    {
     "name": "stdout",
     "output_type": "stream",
     "text": [
      "[500]\tvalid_0's rmse: 2.20633\n",
      "Early stopping, best iteration is:\n",
      "[49]\tvalid_0's rmse: 2.03075\n",
      "valid_score:  RMSE = 2.0307454990629705\n",
      "Training until validation scores don't improve for 500 rounds\n",
      "[100]\tvalid_0's rmse: 2.03419\n",
      "[200]\tvalid_0's rmse: 1.99706\n",
      "[300]\tvalid_0's rmse: 1.99143\n",
      "[400]\tvalid_0's rmse: 1.99143\n",
      "[500]\tvalid_0's rmse: 1.99143\n",
      "[600]\tvalid_0's rmse: 1.99143\n"
     ]
    },
    {
     "name": "stderr",
     "output_type": "stream",
     "text": [
      "\u001b[32m[I 2022-02-23 14:50:19,330]\u001b[0m Trial 446 finished with value: 1.9905225653397547 and parameters: {'n_estimators': 5000, 'num_leaves': 3, 'boosting': 'gbdt', 'max_depth': 3, 'max_bin': 32, 'min_data_in_leaf': 1, 'min_data_in_bin': 1, 'min_gain_to_split': 2.77, 'learning_rate': 0.17992789750751928, 'random_state': 0, 'feature_fraction': 0.6274874349357562, 'bagging_fraction': 0.8418075854087955, 'bagging_freq': 6, 'lambda_l1': 4.2066353016095805e-06, 'lambda_l2': 2.418519015470599e-08}. Best is trial 354 with value: 1.967147777953415.\u001b[0m\n"
     ]
    },
    {
     "name": "stdout",
     "output_type": "stream",
     "text": [
      "[700]\tvalid_0's rmse: 1.99143\n",
      "Early stopping, best iteration is:\n",
      "[229]\tvalid_0's rmse: 1.99052\n",
      "valid_score:  RMSE = 1.9905225653397547\n",
      "Training until validation scores don't improve for 500 rounds\n",
      "[100]\tvalid_0's rmse: 1.99561\n",
      "[200]\tvalid_0's rmse: 1.99561\n",
      "[300]\tvalid_0's rmse: 1.99561\n",
      "[400]\tvalid_0's rmse: 1.99561\n",
      "[500]\tvalid_0's rmse: 1.99561\n",
      "Early stopping, best iteration is:\n",
      "[34]\tvalid_0's rmse: 1.99018\n"
     ]
    },
    {
     "name": "stderr",
     "output_type": "stream",
     "text": [
      "\u001b[32m[I 2022-02-23 14:50:19,515]\u001b[0m Trial 447 finished with value: 1.9901761431742186 and parameters: {'n_estimators': 5000, 'num_leaves': 8, 'boosting': 'gbdt', 'max_depth': 13, 'max_bin': 32, 'min_data_in_leaf': 1, 'min_data_in_bin': 1, 'min_gain_to_split': 4.84, 'learning_rate': 0.2467067697694214, 'random_state': 0, 'feature_fraction': 0.5678051603400379, 'bagging_fraction': 0.7659632120548767, 'bagging_freq': 8, 'lambda_l1': 1.1352972210329861e-05, 'lambda_l2': 3.341739127588814e-05}. Best is trial 354 with value: 1.967147777953415.\u001b[0m\n"
     ]
    },
    {
     "name": "stdout",
     "output_type": "stream",
     "text": [
      "valid_score:  RMSE = 1.9901761431742186\n",
      "Training until validation scores don't improve for 500 rounds\n",
      "[100]\tvalid_0's rmse: 2.05627\n",
      "[200]\tvalid_0's rmse: 2.03097\n",
      "[300]\tvalid_0's rmse: 2.01913\n",
      "[400]\tvalid_0's rmse: 2.02591\n",
      "[500]\tvalid_0's rmse: 2.02591\n",
      "[600]\tvalid_0's rmse: 2.02591\n"
     ]
    },
    {
     "name": "stderr",
     "output_type": "stream",
     "text": [
      "\u001b[32m[I 2022-02-23 14:50:19,762]\u001b[0m Trial 448 finished with value: 2.0191340291258166 and parameters: {'n_estimators': 10000, 'num_leaves': 4, 'boosting': 'gbdt', 'max_depth': 14, 'max_bin': 32, 'min_data_in_leaf': 1, 'min_data_in_bin': 1, 'min_gain_to_split': 4.88, 'learning_rate': 0.07686875672580872, 'random_state': 0, 'feature_fraction': 0.8474448193947239, 'bagging_fraction': 0.7724599773056581, 'bagging_freq': 2, 'lambda_l1': 0.00010649156613833876, 'lambda_l2': 4.142340747175939e-06}. Best is trial 354 with value: 1.967147777953415.\u001b[0m\n"
     ]
    },
    {
     "name": "stdout",
     "output_type": "stream",
     "text": [
      "[700]\tvalid_0's rmse: 2.02591\n",
      "[800]\tvalid_0's rmse: 2.02591\n",
      "Early stopping, best iteration is:\n",
      "[300]\tvalid_0's rmse: 2.01913\n",
      "valid_score:  RMSE = 2.0191340291258166\n",
      "Training until validation scores don't improve for 500 rounds\n",
      "[100]\tvalid_0's rmse: 2.04069\n",
      "[200]\tvalid_0's rmse: 2.04069\n",
      "[300]\tvalid_0's rmse: 2.04069\n",
      "[400]\tvalid_0's rmse: 2.04069\n"
     ]
    },
    {
     "name": "stderr",
     "output_type": "stream",
     "text": [
      "\u001b[32m[I 2022-02-23 14:50:19,971]\u001b[0m Trial 449 finished with value: 2.0313002550386625 and parameters: {'n_estimators': 10000, 'num_leaves': 16, 'boosting': 'gbdt', 'max_depth': 7, 'max_bin': 32, 'min_data_in_leaf': 1, 'min_data_in_bin': 1, 'min_gain_to_split': 3.12, 'learning_rate': 0.1269488253183968, 'random_state': 0, 'feature_fraction': 0.7373187334239835, 'bagging_fraction': 0.8785708033629402, 'bagging_freq': 5, 'lambda_l1': 1.9445994006649167e-07, 'lambda_l2': 0.0003006589236544242}. Best is trial 354 with value: 1.967147777953415.\u001b[0m\n"
     ]
    },
    {
     "name": "stdout",
     "output_type": "stream",
     "text": [
      "[500]\tvalid_0's rmse: 2.04069\n",
      "Early stopping, best iteration is:\n",
      "[49]\tvalid_0's rmse: 2.0313\n",
      "valid_score:  RMSE = 2.0313002550386625\n",
      "Training until validation scores don't improve for 500 rounds\n",
      "[100]\tvalid_0's rmse: 2.14994\n",
      "[200]\tvalid_0's rmse: 2.05698\n",
      "[300]\tvalid_0's rmse: 2.04234\n",
      "[400]\tvalid_0's rmse: 2.03189\n",
      "[500]\tvalid_0's rmse: 2.01932\n"
     ]
    },
    {
     "name": "stderr",
     "output_type": "stream",
     "text": [
      "\u001b[32m[I 2022-02-23 14:50:20,341]\u001b[0m Trial 450 finished with value: 2.011675359949658 and parameters: {'n_estimators': 5000, 'num_leaves': 7, 'boosting': 'gbdt', 'max_depth': 5, 'max_bin': 32, 'min_data_in_leaf': 1, 'min_data_in_bin': 1, 'min_gain_to_split': 3.8200000000000003, 'learning_rate': 0.020031174478553675, 'random_state': 0, 'feature_fraction': 0.8625045156140012, 'bagging_fraction': 0.8176112827686308, 'bagging_freq': 3, 'lambda_l1': 0.0011011849155408105, 'lambda_l2': 0.020243075350714484}. Best is trial 354 with value: 1.967147777953415.\u001b[0m\n"
     ]
    },
    {
     "name": "stdout",
     "output_type": "stream",
     "text": [
      "[600]\tvalid_0's rmse: 2.01356\n",
      "[700]\tvalid_0's rmse: 2.01247\n",
      "[800]\tvalid_0's rmse: 2.01247\n",
      "[900]\tvalid_0's rmse: 2.01247\n",
      "[1000]\tvalid_0's rmse: 2.01247\n",
      "[1100]\tvalid_0's rmse: 2.01247\n",
      "Early stopping, best iteration is:\n",
      "[625]\tvalid_0's rmse: 2.01168\n",
      "valid_score:  RMSE = 2.011675359949658\n",
      "Training until validation scores don't improve for 500 rounds\n",
      "[100]\tvalid_0's rmse: 2.30269\n",
      "[200]\tvalid_0's rmse: 2.09976\n",
      "[300]\tvalid_0's rmse: 2.04045\n",
      "[400]\tvalid_0's rmse: 2.01927\n",
      "[500]\tvalid_0's rmse: 2.01095\n",
      "[600]\tvalid_0's rmse: 2.00123\n",
      "[700]\tvalid_0's rmse: 2.00256\n",
      "[800]\tvalid_0's rmse: 1.99826\n",
      "[900]\tvalid_0's rmse: 1.99528\n",
      "[1000]\tvalid_0's rmse: 1.99962\n"
     ]
    },
    {
     "name": "stderr",
     "output_type": "stream",
     "text": [
      "\u001b[32m[I 2022-02-23 14:50:21,056]\u001b[0m Trial 451 finished with value: 1.995230717246218 and parameters: {'n_estimators': 5000, 'num_leaves': 14, 'boosting': 'gbdt', 'max_depth': 7, 'max_bin': 32, 'min_data_in_leaf': 1, 'min_data_in_bin': 1, 'min_gain_to_split': 4.8, 'learning_rate': 0.009530299409485025, 'random_state': 0, 'feature_fraction': 0.8781642837474679, 'bagging_fraction': 0.5833218599866942, 'bagging_freq': 6, 'lambda_l1': 0.001006650944756621, 'lambda_l2': 1.2640825798506092e-07}. Best is trial 354 with value: 1.967147777953415.\u001b[0m\n"
     ]
    },
    {
     "name": "stdout",
     "output_type": "stream",
     "text": [
      "[1100]\tvalid_0's rmse: 2.00127\n",
      "[1200]\tvalid_0's rmse: 2.00127\n",
      "[1300]\tvalid_0's rmse: 2.00127\n",
      "Early stopping, best iteration is:\n",
      "[864]\tvalid_0's rmse: 1.99523\n",
      "valid_score:  RMSE = 1.995230717246218\n",
      "Training until validation scores don't improve for 500 rounds\n",
      "[100]\tvalid_0's rmse: 2.15902\n",
      "[200]\tvalid_0's rmse: 2.07219\n",
      "[300]\tvalid_0's rmse: 2.04351\n",
      "[400]\tvalid_0's rmse: 2.03341\n",
      "[500]\tvalid_0's rmse: 2.01401\n",
      "[600]\tvalid_0's rmse: 2.01382\n",
      "[700]\tvalid_0's rmse: 2.0069\n",
      "[800]\tvalid_0's rmse: 2.00411\n",
      "[900]\tvalid_0's rmse: 2.00204\n",
      "[1000]\tvalid_0's rmse: 1.99576\n",
      "[1100]\tvalid_0's rmse: 1.99765\n",
      "[1200]\tvalid_0's rmse: 1.99411\n",
      "[1300]\tvalid_0's rmse: 1.99288\n",
      "[1400]\tvalid_0's rmse: 1.98652\n",
      "[1500]\tvalid_0's rmse: 1.99239\n"
     ]
    },
    {
     "name": "stderr",
     "output_type": "stream",
     "text": [
      "\u001b[32m[I 2022-02-23 14:50:21,482]\u001b[0m Trial 452 finished with value: 1.9870328469832301 and parameters: {'n_estimators': 10000, 'num_leaves': 3, 'boosting': 'gbdt', 'max_depth': 2, 'max_bin': 32, 'min_data_in_leaf': 1, 'min_data_in_bin': 1, 'min_gain_to_split': 4.03, 'learning_rate': 0.03415563509414522, 'random_state': 0, 'feature_fraction': 0.5208987615097962, 'bagging_fraction': 0.7263679476594109, 'bagging_freq': 4, 'lambda_l1': 0.19062932304295233, 'lambda_l2': 8.889243332318487e-08}. Best is trial 354 with value: 1.967147777953415.\u001b[0m\n"
     ]
    },
    {
     "name": "stdout",
     "output_type": "stream",
     "text": [
      "[1600]\tvalid_0's rmse: 1.99579\n",
      "[1700]\tvalid_0's rmse: 1.99268\n",
      "[1800]\tvalid_0's rmse: 1.99338\n",
      "[1900]\tvalid_0's rmse: 1.99338\n",
      "Early stopping, best iteration is:\n",
      "[1406]\tvalid_0's rmse: 1.98601\n",
      "valid_score:  RMSE = 1.9870328469832301\n",
      "Training until validation scores don't improve for 500 rounds\n",
      "[100]\tvalid_0's rmse: 2.05641\n",
      "[200]\tvalid_0's rmse: 2.03444\n"
     ]
    },
    {
     "name": "stderr",
     "output_type": "stream",
     "text": [
      "\u001b[32m[I 2022-02-23 14:50:21,712]\u001b[0m Trial 453 finished with value: 2.01213363593698 and parameters: {'n_estimators': 10000, 'num_leaves': 6, 'boosting': 'gbdt', 'max_depth': 2, 'max_bin': 32, 'min_data_in_leaf': 1, 'min_data_in_bin': 1, 'min_gain_to_split': 1.9400000000000002, 'learning_rate': 0.09974080019221059, 'random_state': 0, 'feature_fraction': 0.4487902016732887, 'bagging_fraction': 0.793662778483041, 'bagging_freq': 5, 'lambda_l1': 0.014000944811144708, 'lambda_l2': 0.00024022649355274887}. Best is trial 354 with value: 1.967147777953415.\u001b[0m\n"
     ]
    },
    {
     "name": "stdout",
     "output_type": "stream",
     "text": [
      "[300]\tvalid_0's rmse: 2.02211\n",
      "[400]\tvalid_0's rmse: 2.02686\n",
      "[500]\tvalid_0's rmse: 2.02919\n",
      "[600]\tvalid_0's rmse: 2.03443\n",
      "[700]\tvalid_0's rmse: 2.02634\n",
      "Early stopping, best iteration is:\n",
      "[272]\tvalid_0's rmse: 2.01213\n",
      "valid_score:  RMSE = 2.01213363593698\n",
      "Training until validation scores don't improve for 500 rounds\n",
      "[100]\tvalid_0's rmse: 2.00673\n",
      "[200]\tvalid_0's rmse: 1.99442\n"
     ]
    },
    {
     "name": "stderr",
     "output_type": "stream",
     "text": [
      "\u001b[32m[I 2022-02-23 14:50:21,880]\u001b[0m Trial 454 finished with value: 1.9796664999323712 and parameters: {'n_estimators': 5000, 'num_leaves': 4, 'boosting': 'gbdt', 'max_depth': 15, 'max_bin': 32, 'min_data_in_leaf': 1, 'min_data_in_bin': 1, 'min_gain_to_split': 0.36, 'learning_rate': 0.2160886989892666, 'random_state': 0, 'feature_fraction': 0.4234726812822371, 'bagging_fraction': 0.5947740631155856, 'bagging_freq': 4, 'lambda_l1': 4.5828956302802653e-07, 'lambda_l2': 0.01146593981172821}. Best is trial 354 with value: 1.967147777953415.\u001b[0m\n"
     ]
    },
    {
     "name": "stdout",
     "output_type": "stream",
     "text": [
      "[300]\tvalid_0's rmse: 2.05541\n",
      "[400]\tvalid_0's rmse: 2.08448\n",
      "[500]\tvalid_0's rmse: 2.10467\n",
      "Early stopping, best iteration is:\n",
      "[45]\tvalid_0's rmse: 1.97967\n",
      "valid_score:  RMSE = 1.9796664999323712\n",
      "Training until validation scores don't improve for 500 rounds\n",
      "[100]\tvalid_0's rmse: 2.0616\n",
      "[200]\tvalid_0's rmse: 2.04869\n",
      "[300]\tvalid_0's rmse: 2.057\n",
      "[400]\tvalid_0's rmse: 2.06391\n"
     ]
    },
    {
     "name": "stderr",
     "output_type": "stream",
     "text": [
      "\u001b[32m[I 2022-02-23 14:50:22,127]\u001b[0m Trial 455 finished with value: 2.038217554390528 and parameters: {'n_estimators': 10000, 'num_leaves': 9, 'boosting': 'gbdt', 'max_depth': 9, 'max_bin': 32, 'min_data_in_leaf': 1, 'min_data_in_bin': 1, 'min_gain_to_split': 4.47, 'learning_rate': 0.03961506966566816, 'random_state': 0, 'feature_fraction': 0.7339773766555648, 'bagging_fraction': 0.4296057628226002, 'bagging_freq': 7, 'lambda_l1': 0.001151529283914335, 'lambda_l2': 0.0004578335692026305}. Best is trial 354 with value: 1.967147777953415.\u001b[0m\n"
     ]
    },
    {
     "name": "stdout",
     "output_type": "stream",
     "text": [
      "[500]\tvalid_0's rmse: 2.07861\n",
      "[600]\tvalid_0's rmse: 2.07861\n",
      "Early stopping, best iteration is:\n",
      "[175]\tvalid_0's rmse: 2.03822\n",
      "valid_score:  RMSE = 2.038217554390528\n",
      "Training until validation scores don't improve for 500 rounds\n",
      "[100]\tvalid_0's rmse: 2.06105\n",
      "[200]\tvalid_0's rmse: 2.06105\n",
      "[300]\tvalid_0's rmse: 2.06105\n",
      "[400]\tvalid_0's rmse: 2.06105\n"
     ]
    },
    {
     "name": "stderr",
     "output_type": "stream",
     "text": [
      "\u001b[32m[I 2022-02-23 14:50:22,319]\u001b[0m Trial 456 finished with value: 2.025150073068535 and parameters: {'n_estimators': 5000, 'num_leaves': 9, 'boosting': 'gbdt', 'max_depth': 12, 'max_bin': 32, 'min_data_in_leaf': 1, 'min_data_in_bin': 1, 'min_gain_to_split': 2.75, 'learning_rate': 0.2648934786744615, 'random_state': 0, 'feature_fraction': 0.9649787621856203, 'bagging_fraction': 0.9529163682354553, 'bagging_freq': 3, 'lambda_l1': 2.7465662282811133e-06, 'lambda_l2': 1.4275534130903447e-06}. Best is trial 354 with value: 1.967147777953415.\u001b[0m\n"
     ]
    },
    {
     "name": "stdout",
     "output_type": "stream",
     "text": [
      "[500]\tvalid_0's rmse: 2.06105\n",
      "Early stopping, best iteration is:\n",
      "[22]\tvalid_0's rmse: 2.02515\n",
      "valid_score:  RMSE = 2.025150073068535\n",
      "Training until validation scores don't improve for 500 rounds\n",
      "[100]\tvalid_0's rmse: 2.04631\n",
      "[200]\tvalid_0's rmse: 2.02483\n",
      "[300]\tvalid_0's rmse: 2.01177\n"
     ]
    },
    {
     "name": "stderr",
     "output_type": "stream",
     "text": [
      "\u001b[32m[I 2022-02-23 14:50:22,680]\u001b[0m Trial 457 finished with value: 2.009208232885645 and parameters: {'n_estimators': 5000, 'num_leaves': 10, 'boosting': 'gbdt', 'max_depth': 10, 'max_bin': 32, 'min_data_in_leaf': 1, 'min_data_in_bin': 1, 'min_gain_to_split': 2.6500000000000004, 'learning_rate': 0.03610562080803181, 'random_state': 0, 'feature_fraction': 0.426803210495464, 'bagging_fraction': 0.9454559020938831, 'bagging_freq': 2, 'lambda_l1': 2.213078178474182e-06, 'lambda_l2': 0.3055051128571949}. Best is trial 354 with value: 1.967147777953415.\u001b[0m\n"
     ]
    },
    {
     "name": "stdout",
     "output_type": "stream",
     "text": [
      "[400]\tvalid_0's rmse: 2.01064\n",
      "[500]\tvalid_0's rmse: 2.01064\n",
      "[600]\tvalid_0's rmse: 2.01064\n",
      "[700]\tvalid_0's rmse: 2.01064\n",
      "[800]\tvalid_0's rmse: 2.01064\n",
      "Early stopping, best iteration is:\n",
      "[328]\tvalid_0's rmse: 2.00893\n",
      "valid_score:  RMSE = 2.009208232885645\n",
      "Training until validation scores don't improve for 500 rounds\n",
      "[100]\tvalid_0's rmse: 2.07735\n",
      "[200]\tvalid_0's rmse: 2.07519\n",
      "[300]\tvalid_0's rmse: 2.06828\n",
      "[400]\tvalid_0's rmse: 2.06829\n",
      "[500]\tvalid_0's rmse: 2.06288\n"
     ]
    },
    {
     "name": "stderr",
     "output_type": "stream",
     "text": [
      "\u001b[32m[I 2022-02-23 14:50:23,127]\u001b[0m Trial 458 finished with value: 2.0599302546938096 and parameters: {'n_estimators': 5000, 'num_leaves': 16, 'boosting': 'gbdt', 'max_depth': 6, 'max_bin': 32, 'min_data_in_leaf': 1, 'min_data_in_bin': 1, 'min_gain_to_split': 4.45, 'learning_rate': 0.037285789294133016, 'random_state': 0, 'feature_fraction': 0.8294301982513397, 'bagging_fraction': 0.4752129939270927, 'bagging_freq': 3, 'lambda_l1': 1.5963088230460377e-07, 'lambda_l2': 4.683364781866636e-08}. Best is trial 354 with value: 1.967147777953415.\u001b[0m\n"
     ]
    },
    {
     "name": "stdout",
     "output_type": "stream",
     "text": [
      "[600]\tvalid_0's rmse: 2.06605\n",
      "[700]\tvalid_0's rmse: 2.06605\n",
      "Early stopping, best iteration is:\n",
      "[270]\tvalid_0's rmse: 2.05993\n",
      "valid_score:  RMSE = 2.0599302546938096\n",
      "Training until validation scores don't improve for 500 rounds\n",
      "[100]\tvalid_0's rmse: 2.05469\n",
      "[200]\tvalid_0's rmse: 2.03465\n",
      "[300]\tvalid_0's rmse: 2.04287\n",
      "[400]\tvalid_0's rmse: 2.05634\n"
     ]
    },
    {
     "name": "stderr",
     "output_type": "stream",
     "text": [
      "\u001b[32m[I 2022-02-23 14:50:23,425]\u001b[0m Trial 459 finished with value: 2.0175244706402617 and parameters: {'n_estimators': 5000, 'num_leaves': 6, 'boosting': 'gbdt', 'max_depth': 15, 'max_bin': 32, 'min_data_in_leaf': 1, 'min_data_in_bin': 1, 'min_gain_to_split': 1.9900000000000002, 'learning_rate': 0.1213983367338125, 'random_state': 0, 'feature_fraction': 0.5037201460997178, 'bagging_fraction': 0.6131921767496668, 'bagging_freq': 2, 'lambda_l1': 1.3728077096015159e-08, 'lambda_l2': 1.7908536165518995e-06}. Best is trial 354 with value: 1.967147777953415.\u001b[0m\n"
     ]
    },
    {
     "name": "stdout",
     "output_type": "stream",
     "text": [
      "[500]\tvalid_0's rmse: 2.06163\n",
      "[600]\tvalid_0's rmse: 2.06494\n",
      "[700]\tvalid_0's rmse: 2.07505\n",
      "Early stopping, best iteration is:\n",
      "[245]\tvalid_0's rmse: 2.01752\n",
      "valid_score:  RMSE = 2.0175244706402617\n",
      "Training until validation scores don't improve for 500 rounds\n",
      "[100]\tvalid_0's rmse: 2.06601\n",
      "[200]\tvalid_0's rmse: 2.03953\n"
     ]
    },
    {
     "name": "stderr",
     "output_type": "stream",
     "text": [
      "\u001b[32m[I 2022-02-23 14:50:23,664]\u001b[0m Trial 460 finished with value: 2.0288824773827074 and parameters: {'n_estimators': 5000, 'num_leaves': 2, 'boosting': 'gbdt', 'max_depth': 16, 'max_bin': 32, 'min_data_in_leaf': 1, 'min_data_in_bin': 1, 'min_gain_to_split': 4.819999999999999, 'learning_rate': 0.22727639702144156, 'random_state': 0, 'feature_fraction': 0.590007070346676, 'bagging_fraction': 0.5275801521693014, 'bagging_freq': 1, 'lambda_l1': 1.1660833013877722e-07, 'lambda_l2': 0.2503763531578308}. Best is trial 354 with value: 1.967147777953415.\u001b[0m\n"
     ]
    },
    {
     "name": "stdout",
     "output_type": "stream",
     "text": [
      "[300]\tvalid_0's rmse: 2.03492\n",
      "[400]\tvalid_0's rmse: 2.04857\n",
      "[500]\tvalid_0's rmse: 2.04573\n",
      "[600]\tvalid_0's rmse: 2.05123\n",
      "[700]\tvalid_0's rmse: 2.04754\n",
      "[800]\tvalid_0's rmse: 2.05364\n",
      "Early stopping, best iteration is:\n",
      "[374]\tvalid_0's rmse: 2.02888\n",
      "valid_score:  RMSE = 2.0288824773827074\n",
      "Training until validation scores don't improve for 500 rounds\n",
      "[100]\tvalid_0's rmse: 2.11798\n"
     ]
    },
    {
     "name": "stderr",
     "output_type": "stream",
     "text": [
      "\u001b[32m[I 2022-02-23 14:50:23,871]\u001b[0m Trial 461 finished with value: 2.077206730563646 and parameters: {'n_estimators': 5000, 'num_leaves': 15, 'boosting': 'gbdt', 'max_depth': 4, 'max_bin': 32, 'min_data_in_leaf': 1, 'min_data_in_bin': 1, 'min_gain_to_split': 2.03, 'learning_rate': 0.269743482789034, 'random_state': 0, 'feature_fraction': 0.9494509126892041, 'bagging_fraction': 0.651703432769849, 'bagging_freq': 8, 'lambda_l1': 0.06503405927767432, 'lambda_l2': 0.8160027556738819}. Best is trial 354 with value: 1.967147777953415.\u001b[0m\n"
     ]
    },
    {
     "name": "stdout",
     "output_type": "stream",
     "text": [
      "[200]\tvalid_0's rmse: 2.11798\n",
      "[300]\tvalid_0's rmse: 2.11798\n",
      "[400]\tvalid_0's rmse: 2.11798\n",
      "[500]\tvalid_0's rmse: 2.11798\n",
      "Early stopping, best iteration is:\n",
      "[32]\tvalid_0's rmse: 2.07721\n",
      "valid_score:  RMSE = 2.077206730563646\n",
      "Training until validation scores don't improve for 500 rounds\n",
      "[100]\tvalid_0's rmse: 2.45275\n",
      "[200]\tvalid_0's rmse: 2.21596\n",
      "[300]\tvalid_0's rmse: 2.11445\n",
      "[400]\tvalid_0's rmse: 2.07097\n",
      "[500]\tvalid_0's rmse: 2.04939\n",
      "[600]\tvalid_0's rmse: 2.03638\n",
      "[700]\tvalid_0's rmse: 2.02849\n",
      "[800]\tvalid_0's rmse: 2.01906\n",
      "[900]\tvalid_0's rmse: 2.01516\n",
      "[1000]\tvalid_0's rmse: 2.0107\n",
      "[1100]\tvalid_0's rmse: 2.00734\n",
      "[1200]\tvalid_0's rmse: 2.00903\n",
      "[1300]\tvalid_0's rmse: 2.00801\n",
      "[1400]\tvalid_0's rmse: 2.0052\n",
      "[1500]\tvalid_0's rmse: 2.00308\n",
      "[1600]\tvalid_0's rmse: 2.0033\n",
      "[1700]\tvalid_0's rmse: 2.00219\n"
     ]
    },
    {
     "name": "stderr",
     "output_type": "stream",
     "text": [
      "\u001b[32m[I 2022-02-23 14:50:24,938]\u001b[0m Trial 462 finished with value: 2.0010418480923162 and parameters: {'n_estimators': 10000, 'num_leaves': 14, 'boosting': 'gbdt', 'max_depth': 6, 'max_bin': 32, 'min_data_in_leaf': 1, 'min_data_in_bin': 1, 'min_gain_to_split': 4.21, 'learning_rate': 0.006059562122219109, 'random_state': 0, 'feature_fraction': 0.9559087318002462, 'bagging_fraction': 0.4328739079328484, 'bagging_freq': 3, 'lambda_l1': 3.0575454611837224e-07, 'lambda_l2': 3.425817219947568e-08}. Best is trial 354 with value: 1.967147777953415.\u001b[0m\n"
     ]
    },
    {
     "name": "stdout",
     "output_type": "stream",
     "text": [
      "[1800]\tvalid_0's rmse: 2.00497\n",
      "[1900]\tvalid_0's rmse: 2.00456\n",
      "[2000]\tvalid_0's rmse: 2.00456\n",
      "Early stopping, best iteration is:\n",
      "[1512]\tvalid_0's rmse: 2.00104\n",
      "valid_score:  RMSE = 2.0010418480923162\n"
     ]
    },
    {
     "name": "stderr",
     "output_type": "stream",
     "text": [
      "\u001b[32m[I 2022-02-23 14:50:25,138]\u001b[0m Trial 463 finished with value: 2.059954496249262 and parameters: {'n_estimators': 10000, 'num_leaves': 6, 'boosting': 'gbdt', 'max_depth': 7, 'max_bin': 32, 'min_data_in_leaf': 1, 'min_data_in_bin': 1, 'min_gain_to_split': 1.59, 'learning_rate': 0.17768896810622664, 'random_state': 0, 'feature_fraction': 0.6737752049630328, 'bagging_fraction': 0.9184384508947476, 'bagging_freq': 7, 'lambda_l1': 0.11929734600311534, 'lambda_l2': 4.4840114198120596e-08}. Best is trial 354 with value: 1.967147777953415.\u001b[0m\n"
     ]
    },
    {
     "name": "stdout",
     "output_type": "stream",
     "text": [
      "Training until validation scores don't improve for 500 rounds\n",
      "[100]\tvalid_0's rmse: 2.09151\n",
      "[200]\tvalid_0's rmse: 2.07835\n",
      "[300]\tvalid_0's rmse: 2.07835\n",
      "[400]\tvalid_0's rmse: 2.07835\n",
      "[500]\tvalid_0's rmse: 2.07835\n",
      "Early stopping, best iteration is:\n",
      "[52]\tvalid_0's rmse: 2.05995\n",
      "valid_score:  RMSE = 2.059954496249262\n",
      "Training until validation scores don't improve for 500 rounds\n"
     ]
    },
    {
     "name": "stderr",
     "output_type": "stream",
     "text": [
      "\u001b[32m[I 2022-02-23 14:50:25,361]\u001b[0m Trial 464 finished with value: 2.053926381362082 and parameters: {'n_estimators': 10000, 'num_leaves': 16, 'boosting': 'gbdt', 'max_depth': 13, 'max_bin': 32, 'min_data_in_leaf': 1, 'min_data_in_bin': 1, 'min_gain_to_split': 2.3200000000000003, 'learning_rate': 0.22951038760355716, 'random_state': 0, 'feature_fraction': 0.47068262288157636, 'bagging_fraction': 0.9114652354573608, 'bagging_freq': 5, 'lambda_l1': 4.591106294456736e-07, 'lambda_l2': 0.05944067014930333}. Best is trial 354 with value: 1.967147777953415.\u001b[0m\n"
     ]
    },
    {
     "name": "stdout",
     "output_type": "stream",
     "text": [
      "[100]\tvalid_0's rmse: 2.07072\n",
      "[200]\tvalid_0's rmse: 2.07072\n",
      "[300]\tvalid_0's rmse: 2.07072\n",
      "[400]\tvalid_0's rmse: 2.07072\n",
      "[500]\tvalid_0's rmse: 2.07072\n",
      "Early stopping, best iteration is:\n",
      "[31]\tvalid_0's rmse: 2.05393\n",
      "valid_score:  RMSE = 2.053926381362082\n",
      "Training until validation scores don't improve for 500 rounds\n",
      "[100]\tvalid_0's rmse: 2.05297\n"
     ]
    },
    {
     "name": "stderr",
     "output_type": "stream",
     "text": [
      "\u001b[32m[I 2022-02-23 14:50:25,558]\u001b[0m Trial 465 finished with value: 2.0177722072031594 and parameters: {'n_estimators': 10000, 'num_leaves': 9, 'boosting': 'gbdt', 'max_depth': 3, 'max_bin': 32, 'min_data_in_leaf': 1, 'min_data_in_bin': 1, 'min_gain_to_split': 3.7, 'learning_rate': 0.2382679459092386, 'random_state': 0, 'feature_fraction': 0.7222762578042141, 'bagging_fraction': 0.6195249791340212, 'bagging_freq': 8, 'lambda_l1': 3.6321077119735585e-05, 'lambda_l2': 5.514660113095367e-06}. Best is trial 354 with value: 1.967147777953415.\u001b[0m\n"
     ]
    },
    {
     "name": "stdout",
     "output_type": "stream",
     "text": [
      "[200]\tvalid_0's rmse: 2.05297\n",
      "[300]\tvalid_0's rmse: 2.05297\n",
      "[400]\tvalid_0's rmse: 2.05297\n",
      "[500]\tvalid_0's rmse: 2.05297\n",
      "Early stopping, best iteration is:\n",
      "[40]\tvalid_0's rmse: 2.01777\n",
      "valid_score:  RMSE = 2.0177722072031594\n",
      "Training until validation scores don't improve for 500 rounds\n",
      "[100]\tvalid_0's rmse: 2.02612\n"
     ]
    },
    {
     "name": "stderr",
     "output_type": "stream",
     "text": [
      "\u001b[32m[I 2022-02-23 14:50:25,796]\u001b[0m Trial 466 finished with value: 2.024253479680583 and parameters: {'n_estimators': 5000, 'num_leaves': 8, 'boosting': 'gbdt', 'max_depth': 6, 'max_bin': 32, 'min_data_in_leaf': 1, 'min_data_in_bin': 1, 'min_gain_to_split': 2.14, 'learning_rate': 0.11420144323678492, 'random_state': 0, 'feature_fraction': 0.7455119426417611, 'bagging_fraction': 0.9182061255174782, 'bagging_freq': 8, 'lambda_l1': 6.478515495544046e-07, 'lambda_l2': 2.922291951476402e-07}. Best is trial 354 with value: 1.967147777953415.\u001b[0m\n"
     ]
    },
    {
     "name": "stdout",
     "output_type": "stream",
     "text": [
      "[200]\tvalid_0's rmse: 2.03421\n",
      "[300]\tvalid_0's rmse: 2.03421\n",
      "[400]\tvalid_0's rmse: 2.03421\n",
      "[500]\tvalid_0's rmse: 2.03421\n",
      "Early stopping, best iteration is:\n",
      "[97]\tvalid_0's rmse: 2.02425\n",
      "valid_score:  RMSE = 2.024253479680583\n",
      "Training until validation scores don't improve for 500 rounds\n",
      "[100]\tvalid_0's rmse: 2.10028\n",
      "[200]\tvalid_0's rmse: 2.07232\n",
      "[300]\tvalid_0's rmse: 2.09331\n",
      "[400]\tvalid_0's rmse: 2.11549\n",
      "[500]\tvalid_0's rmse: 2.1174\n",
      "[600]\tvalid_0's rmse: 2.13893\n",
      "Early stopping, best iteration is:\n",
      "[175]\tvalid_0's rmse: 2.06169\n"
     ]
    },
    {
     "name": "stderr",
     "output_type": "stream",
     "text": [
      "\u001b[32m[I 2022-02-23 14:50:26,105]\u001b[0m Trial 467 finished with value: 2.061689399955354 and parameters: {'n_estimators': 10000, 'num_leaves': 11, 'boosting': 'gbdt', 'max_depth': 10, 'max_bin': 32, 'min_data_in_leaf': 1, 'min_data_in_bin': 1, 'min_gain_to_split': 1.4800000000000002, 'learning_rate': 0.0963267582439573, 'random_state': 0, 'feature_fraction': 0.8670156751015115, 'bagging_fraction': 0.4687688656314977, 'bagging_freq': 5, 'lambda_l1': 0.002076390297149033, 'lambda_l2': 0.0050676134048667386}. Best is trial 354 with value: 1.967147777953415.\u001b[0m\n"
     ]
    },
    {
     "name": "stdout",
     "output_type": "stream",
     "text": [
      "valid_score:  RMSE = 2.061689399955354\n",
      "Training until validation scores don't improve for 500 rounds\n",
      "[100]\tvalid_0's rmse: 2.04356\n",
      "[200]\tvalid_0's rmse: 2.00947\n",
      "[300]\tvalid_0's rmse: 2.00733\n",
      "[400]\tvalid_0's rmse: 2.00733\n",
      "[500]\tvalid_0's rmse: 2.00733\n"
     ]
    },
    {
     "name": "stderr",
     "output_type": "stream",
     "text": [
      "\u001b[32m[I 2022-02-23 14:50:26,405]\u001b[0m Trial 468 finished with value: 2.006012931195745 and parameters: {'n_estimators': 5000, 'num_leaves': 9, 'boosting': 'gbdt', 'max_depth': 16, 'max_bin': 32, 'min_data_in_leaf': 1, 'min_data_in_bin': 1, 'min_gain_to_split': 4.819999999999999, 'learning_rate': 0.03541097634438656, 'random_state': 0, 'feature_fraction': 0.6346673268106434, 'bagging_fraction': 0.8545900204881449, 'bagging_freq': 8, 'lambda_l1': 0.00037870567922577617, 'lambda_l2': 0.16323607584161107}. Best is trial 354 with value: 1.967147777953415.\u001b[0m\n"
     ]
    },
    {
     "name": "stdout",
     "output_type": "stream",
     "text": [
      "[600]\tvalid_0's rmse: 2.00733\n",
      "[700]\tvalid_0's rmse: 2.00733\n",
      "Early stopping, best iteration is:\n",
      "[288]\tvalid_0's rmse: 2.00601\n",
      "valid_score:  RMSE = 2.006012931195745\n",
      "Training until validation scores don't improve for 500 rounds\n",
      "[100]\tvalid_0's rmse: 2.03271\n",
      "[200]\tvalid_0's rmse: 2.02728\n",
      "[300]\tvalid_0's rmse: 2.02728\n"
     ]
    },
    {
     "name": "stderr",
     "output_type": "stream",
     "text": [
      "\u001b[32m[I 2022-02-23 14:50:26,664]\u001b[0m Trial 469 finished with value: 2.022473129796682 and parameters: {'n_estimators': 10000, 'num_leaves': 4, 'boosting': 'gbdt', 'max_depth': 15, 'max_bin': 32, 'min_data_in_leaf': 1, 'min_data_in_bin': 1, 'min_gain_to_split': 4.819999999999999, 'learning_rate': 0.16819855361725347, 'random_state': 0, 'feature_fraction': 0.5071514091721668, 'bagging_fraction': 0.7964950079876663, 'bagging_freq': 1, 'lambda_l1': 0.00011089416198528144, 'lambda_l2': 0.00022360415920987285}. Best is trial 354 with value: 1.967147777953415.\u001b[0m\n"
     ]
    },
    {
     "name": "stdout",
     "output_type": "stream",
     "text": [
      "[400]\tvalid_0's rmse: 2.02728\n",
      "[500]\tvalid_0's rmse: 2.02728\n",
      "[600]\tvalid_0's rmse: 2.02728\n",
      "Early stopping, best iteration is:\n",
      "[131]\tvalid_0's rmse: 2.02247\n",
      "valid_score:  RMSE = 2.022473129796682\n",
      "Training until validation scores don't improve for 500 rounds\n",
      "[100]\tvalid_0's rmse: 2.05342\n",
      "[200]\tvalid_0's rmse: 2.00795\n",
      "[300]\tvalid_0's rmse: 2.01702\n",
      "[400]\tvalid_0's rmse: 2.01651\n"
     ]
    },
    {
     "name": "stderr",
     "output_type": "stream",
     "text": [
      "\u001b[32m[I 2022-02-23 14:50:26,887]\u001b[0m Trial 470 finished with value: 2.004076420289271 and parameters: {'n_estimators': 5000, 'num_leaves': 4, 'boosting': 'gbdt', 'max_depth': 8, 'max_bin': 32, 'min_data_in_leaf': 1, 'min_data_in_bin': 1, 'min_gain_to_split': 3.83, 'learning_rate': 0.06639191209065824, 'random_state': 0, 'feature_fraction': 0.43058233397432427, 'bagging_fraction': 0.7617437083204182, 'bagging_freq': 7, 'lambda_l1': 6.815814828308551e-07, 'lambda_l2': 1.8472144364052433e-08}. Best is trial 354 with value: 1.967147777953415.\u001b[0m\n"
     ]
    },
    {
     "name": "stdout",
     "output_type": "stream",
     "text": [
      "[500]\tvalid_0's rmse: 2.02248\n",
      "[600]\tvalid_0's rmse: 2.02248\n",
      "[700]\tvalid_0's rmse: 2.02248\n",
      "Early stopping, best iteration is:\n",
      "[214]\tvalid_0's rmse: 2.00408\n",
      "valid_score:  RMSE = 2.004076420289271\n",
      "Training until validation scores don't improve for 500 rounds\n",
      "[100]\tvalid_0's rmse: 2.01752\n",
      "[200]\tvalid_0's rmse: 2.013\n"
     ]
    },
    {
     "name": "stderr",
     "output_type": "stream",
     "text": [
      "\u001b[32m[I 2022-02-23 14:50:27,184]\u001b[0m Trial 471 finished with value: 2.0083563077109106 and parameters: {'n_estimators': 10000, 'num_leaves': 16, 'boosting': 'gbdt', 'max_depth': 6, 'max_bin': 32, 'min_data_in_leaf': 1, 'min_data_in_bin': 1, 'min_gain_to_split': 1.56, 'learning_rate': 0.05220225473224084, 'random_state': 0, 'feature_fraction': 0.5215767358175212, 'bagging_fraction': 0.9381061957193666, 'bagging_freq': 2, 'lambda_l1': 0.22933697756443838, 'lambda_l2': 7.124939934214522e-07}. Best is trial 354 with value: 1.967147777953415.\u001b[0m\n"
     ]
    },
    {
     "name": "stdout",
     "output_type": "stream",
     "text": [
      "[300]\tvalid_0's rmse: 2.01304\n",
      "[400]\tvalid_0's rmse: 2.01304\n",
      "[500]\tvalid_0's rmse: 2.01304\n",
      "[600]\tvalid_0's rmse: 2.01304\n",
      "Early stopping, best iteration is:\n",
      "[178]\tvalid_0's rmse: 2.00836\n",
      "valid_score:  RMSE = 2.0083563077109106\n",
      "Training until validation scores don't improve for 500 rounds\n",
      "[100]\tvalid_0's rmse: 2.00581\n"
     ]
    },
    {
     "name": "stderr",
     "output_type": "stream",
     "text": [
      "\u001b[32m[I 2022-02-23 14:50:27,444]\u001b[0m Trial 472 finished with value: 2.003907628396112 and parameters: {'n_estimators': 10000, 'num_leaves': 11, 'boosting': 'gbdt', 'max_depth': 12, 'max_bin': 32, 'min_data_in_leaf': 1, 'min_data_in_bin': 1, 'min_gain_to_split': 3.8400000000000003, 'learning_rate': 0.16948440619328295, 'random_state': 0, 'feature_fraction': 0.9562438477916031, 'bagging_fraction': 0.8758692971137874, 'bagging_freq': 1, 'lambda_l1': 1.0403560332504895e-06, 'lambda_l2': 0.5500715970919968}. Best is trial 354 with value: 1.967147777953415.\u001b[0m\n"
     ]
    },
    {
     "name": "stdout",
     "output_type": "stream",
     "text": [
      "[200]\tvalid_0's rmse: 2.00581\n",
      "[300]\tvalid_0's rmse: 2.00581\n",
      "[400]\tvalid_0's rmse: 2.00581\n",
      "[500]\tvalid_0's rmse: 2.00581\n",
      "Early stopping, best iteration is:\n",
      "[69]\tvalid_0's rmse: 2.00391\n",
      "valid_score:  RMSE = 2.003907628396112\n",
      "Training until validation scores don't improve for 500 rounds\n"
     ]
    },
    {
     "name": "stderr",
     "output_type": "stream",
     "text": [
      "\u001b[32m[I 2022-02-23 14:50:27,707]\u001b[0m Trial 473 finished with value: 2.0140255373458453 and parameters: {'n_estimators': 5000, 'num_leaves': 7, 'boosting': 'gbdt', 'max_depth': 11, 'max_bin': 32, 'min_data_in_leaf': 1, 'min_data_in_bin': 1, 'min_gain_to_split': 3.29, 'learning_rate': 0.1926054747022957, 'random_state': 0, 'feature_fraction': 0.9076545701879114, 'bagging_fraction': 0.7675736326668636, 'bagging_freq': 1, 'lambda_l1': 0.0003168616397274071, 'lambda_l2': 8.608159462865061e-08}. Best is trial 354 with value: 1.967147777953415.\u001b[0m\n"
     ]
    },
    {
     "name": "stdout",
     "output_type": "stream",
     "text": [
      "[100]\tvalid_0's rmse: 2.04345\n",
      "[200]\tvalid_0's rmse: 2.05399\n",
      "[300]\tvalid_0's rmse: 2.05399\n",
      "[400]\tvalid_0's rmse: 2.05399\n",
      "[500]\tvalid_0's rmse: 2.05399\n",
      "Early stopping, best iteration is:\n",
      "[31]\tvalid_0's rmse: 2.01403\n",
      "valid_score:  RMSE = 2.0140255373458453\n",
      "Training until validation scores don't improve for 500 rounds\n"
     ]
    },
    {
     "name": "stderr",
     "output_type": "stream",
     "text": [
      "\u001b[32m[I 2022-02-23 14:50:27,975]\u001b[0m Trial 474 finished with value: 2.0935231343360923 and parameters: {'n_estimators': 5000, 'num_leaves': 12, 'boosting': 'gbdt', 'max_depth': 11, 'max_bin': 32, 'min_data_in_leaf': 1, 'min_data_in_bin': 1, 'min_gain_to_split': 1.1600000000000001, 'learning_rate': 0.23794813647532959, 'random_state': 0, 'feature_fraction': 0.5107851505665975, 'bagging_fraction': 0.48532533812186285, 'bagging_freq': 3, 'lambda_l1': 0.053543062604293416, 'lambda_l2': 0.3624080825030251}. Best is trial 354 with value: 1.967147777953415.\u001b[0m\n"
     ]
    },
    {
     "name": "stdout",
     "output_type": "stream",
     "text": [
      "[100]\tvalid_0's rmse: 2.21427\n",
      "[200]\tvalid_0's rmse: 2.28929\n",
      "[300]\tvalid_0's rmse: 2.31857\n",
      "[400]\tvalid_0's rmse: 2.33961\n",
      "[500]\tvalid_0's rmse: 2.33961\n",
      "Early stopping, best iteration is:\n",
      "[18]\tvalid_0's rmse: 2.09352\n",
      "valid_score:  RMSE = 2.0935231343360923\n",
      "Training until validation scores don't improve for 500 rounds\n",
      "[100]\tvalid_0's rmse: 2.04054\n",
      "[200]\tvalid_0's rmse: 2.01516\n",
      "[300]\tvalid_0's rmse: 1.99316\n",
      "[400]\tvalid_0's rmse: 2.00758\n",
      "[500]\tvalid_0's rmse: 2.01105\n",
      "[600]\tvalid_0's rmse: 2.00945\n",
      "[700]\tvalid_0's rmse: 2.00708\n"
     ]
    },
    {
     "name": "stderr",
     "output_type": "stream",
     "text": [
      "\u001b[32m[I 2022-02-23 14:50:28,256]\u001b[0m Trial 475 finished with value: 1.9888418800833645 and parameters: {'n_estimators': 10000, 'num_leaves': 13, 'boosting': 'gbdt', 'max_depth': 2, 'max_bin': 32, 'min_data_in_leaf': 1, 'min_data_in_bin': 1, 'min_gain_to_split': 0.11, 'learning_rate': 0.09097849732043334, 'random_state': 0, 'feature_fraction': 0.855576063347483, 'bagging_fraction': 0.7598307259539472, 'bagging_freq': 3, 'lambda_l1': 1.0255204466470314e-07, 'lambda_l2': 0.5625910712444211}. Best is trial 354 with value: 1.967147777953415.\u001b[0m\n"
     ]
    },
    {
     "name": "stdout",
     "output_type": "stream",
     "text": [
      "Early stopping, best iteration is:\n",
      "[280]\tvalid_0's rmse: 1.98884\n",
      "valid_score:  RMSE = 1.9888418800833645\n",
      "Training until validation scores don't improve for 500 rounds\n",
      "[100]\tvalid_0's rmse: 2.13442\n",
      "[200]\tvalid_0's rmse: 2.05438\n",
      "[300]\tvalid_0's rmse: 2.03608\n",
      "[400]\tvalid_0's rmse: 2.02756\n",
      "[500]\tvalid_0's rmse: 2.02028\n",
      "[600]\tvalid_0's rmse: 2.01602\n",
      "[700]\tvalid_0's rmse: 2.01768\n",
      "[800]\tvalid_0's rmse: 2.01845\n",
      "[900]\tvalid_0's rmse: 2.01741\n",
      "[1000]\tvalid_0's rmse: 2.02161\n",
      "[1100]\tvalid_0's rmse: 2.01844\n",
      "[1200]\tvalid_0's rmse: 2.01942\n"
     ]
    },
    {
     "name": "stderr",
     "output_type": "stream",
     "text": [
      "\u001b[32m[I 2022-02-23 14:50:28,712]\u001b[0m Trial 476 finished with value: 2.0129728137873544 and parameters: {'n_estimators': 5000, 'num_leaves': 8, 'boosting': 'gbdt', 'max_depth': 12, 'max_bin': 32, 'min_data_in_leaf': 1, 'min_data_in_bin': 1, 'min_gain_to_split': 2.37, 'learning_rate': 0.021671470314335462, 'random_state': 0, 'feature_fraction': 0.5169832575241761, 'bagging_fraction': 0.6919455004456901, 'bagging_freq': 8, 'lambda_l1': 2.0257389517270337e-06, 'lambda_l2': 1.268948754579735e-06}. Best is trial 354 with value: 1.967147777953415.\u001b[0m\n"
     ]
    },
    {
     "name": "stdout",
     "output_type": "stream",
     "text": [
      "Early stopping, best iteration is:\n",
      "[741]\tvalid_0's rmse: 2.01297\n",
      "valid_score:  RMSE = 2.0129728137873544\n",
      "Training until validation scores don't improve for 500 rounds\n",
      "[100]\tvalid_0's rmse: 2.09662\n",
      "[200]\tvalid_0's rmse: 2.01807\n",
      "[300]\tvalid_0's rmse: 2.00163\n",
      "[400]\tvalid_0's rmse: 1.99289\n",
      "[500]\tvalid_0's rmse: 1.99528\n",
      "[600]\tvalid_0's rmse: 1.99424\n",
      "[700]\tvalid_0's rmse: 1.98425\n",
      "[800]\tvalid_0's rmse: 1.97928\n",
      "[900]\tvalid_0's rmse: 1.99053\n"
     ]
    },
    {
     "name": "stderr",
     "output_type": "stream",
     "text": [
      "\u001b[32m[I 2022-02-23 14:50:29,284]\u001b[0m Trial 477 finished with value: 1.9788284933337106 and parameters: {'n_estimators': 5000, 'num_leaves': 9, 'boosting': 'gbdt', 'max_depth': 3, 'max_bin': 32, 'min_data_in_leaf': 1, 'min_data_in_bin': 1, 'min_gain_to_split': 2.9000000000000004, 'learning_rate': 0.026680872001413846, 'random_state': 0, 'feature_fraction': 0.7220193604940106, 'bagging_fraction': 0.5891684571578925, 'bagging_freq': 5, 'lambda_l1': 1.0346570156691361e-05, 'lambda_l2': 0.013702248346174435}. Best is trial 354 with value: 1.967147777953415.\u001b[0m\n"
     ]
    },
    {
     "name": "stdout",
     "output_type": "stream",
     "text": [
      "[1000]\tvalid_0's rmse: 1.99295\n",
      "[1100]\tvalid_0's rmse: 1.98721\n",
      "[1200]\tvalid_0's rmse: 1.99554\n",
      "[1300]\tvalid_0's rmse: 1.99554\n",
      "Early stopping, best iteration is:\n",
      "[834]\tvalid_0's rmse: 1.97883\n",
      "valid_score:  RMSE = 1.9788284933337106\n",
      "Training until validation scores don't improve for 500 rounds\n",
      "[100]\tvalid_0's rmse: 2.06489\n",
      "[200]\tvalid_0's rmse: 2.05341\n",
      "[300]\tvalid_0's rmse: 2.04117\n",
      "[400]\tvalid_0's rmse: 2.04453\n",
      "[500]\tvalid_0's rmse: 2.04689\n"
     ]
    },
    {
     "name": "stderr",
     "output_type": "stream",
     "text": [
      "\u001b[32m[I 2022-02-23 14:50:29,599]\u001b[0m Trial 478 finished with value: 2.0381962507495466 and parameters: {'n_estimators': 5000, 'num_leaves': 10, 'boosting': 'gbdt', 'max_depth': 7, 'max_bin': 32, 'min_data_in_leaf': 1, 'min_data_in_bin': 1, 'min_gain_to_split': 3.3600000000000003, 'learning_rate': 0.05519992295215599, 'random_state': 0, 'feature_fraction': 0.5851333282825032, 'bagging_fraction': 0.5465755179510968, 'bagging_freq': 8, 'lambda_l1': 2.048250732246795e-05, 'lambda_l2': 1.886868789602686e-07}. Best is trial 354 with value: 1.967147777953415.\u001b[0m\n"
     ]
    },
    {
     "name": "stdout",
     "output_type": "stream",
     "text": [
      "Early stopping, best iteration is:\n",
      "[80]\tvalid_0's rmse: 2.0382\n",
      "valid_score:  RMSE = 2.0381962507495466\n",
      "Training until validation scores don't improve for 500 rounds\n",
      "[100]\tvalid_0's rmse: 2.09367\n",
      "[200]\tvalid_0's rmse: 2.08692\n",
      "[300]\tvalid_0's rmse: 2.08692\n"
     ]
    },
    {
     "name": "stderr",
     "output_type": "stream",
     "text": [
      "\u001b[32m[I 2022-02-23 14:50:29,875]\u001b[0m Trial 479 finished with value: 2.0796564655213956 and parameters: {'n_estimators': 10000, 'num_leaves': 16, 'boosting': 'gbdt', 'max_depth': 5, 'max_bin': 32, 'min_data_in_leaf': 1, 'min_data_in_bin': 1, 'min_gain_to_split': 4.8, 'learning_rate': 0.07002188158192968, 'random_state': 0, 'feature_fraction': 0.9784903512109082, 'bagging_fraction': 0.6196585629110252, 'bagging_freq': 2, 'lambda_l1': 3.009506694843897e-06, 'lambda_l2': 0.008138930112198656}. Best is trial 354 with value: 1.967147777953415.\u001b[0m\n"
     ]
    },
    {
     "name": "stdout",
     "output_type": "stream",
     "text": [
      "[400]\tvalid_0's rmse: 2.08692\n",
      "[500]\tvalid_0's rmse: 2.08692\n",
      "Early stopping, best iteration is:\n",
      "[67]\tvalid_0's rmse: 2.07966\n",
      "valid_score:  RMSE = 2.0796564655213956\n",
      "Training until validation scores don't improve for 500 rounds\n",
      "[100]\tvalid_0's rmse: 2.09556\n",
      "[200]\tvalid_0's rmse: 2.07145\n",
      "[300]\tvalid_0's rmse: 2.09918\n"
     ]
    },
    {
     "name": "stderr",
     "output_type": "stream",
     "text": [
      "\u001b[32m[I 2022-02-23 14:50:30,061]\u001b[0m Trial 480 finished with value: 2.034025302104832 and parameters: {'n_estimators': 5000, 'num_leaves': 7, 'boosting': 'gbdt', 'max_depth': 2, 'max_bin': 32, 'min_data_in_leaf': 1, 'min_data_in_bin': 1, 'min_gain_to_split': 0.54, 'learning_rate': 0.2765923565900057, 'random_state': 0, 'feature_fraction': 0.42094181779468587, 'bagging_fraction': 0.5521837137932634, 'bagging_freq': 4, 'lambda_l1': 7.481968447166116e-08, 'lambda_l2': 4.298337535201511e-07}. Best is trial 354 with value: 1.967147777953415.\u001b[0m\n"
     ]
    },
    {
     "name": "stdout",
     "output_type": "stream",
     "text": [
      "[400]\tvalid_0's rmse: 2.13492\n",
      "[500]\tvalid_0's rmse: 2.15186\n",
      "Early stopping, best iteration is:\n",
      "[26]\tvalid_0's rmse: 2.03403\n",
      "valid_score:  RMSE = 2.034025302104832\n",
      "Training until validation scores don't improve for 500 rounds\n",
      "[100]\tvalid_0's rmse: 2.05895\n",
      "[200]\tvalid_0's rmse: 2.09369\n",
      "[300]\tvalid_0's rmse: 2.09369\n",
      "[400]\tvalid_0's rmse: 2.09369\n",
      "[500]\tvalid_0's rmse: 2.09369\n"
     ]
    },
    {
     "name": "stderr",
     "output_type": "stream",
     "text": [
      "\u001b[32m[I 2022-02-23 14:50:30,235]\u001b[0m Trial 481 finished with value: 2.015881261338584 and parameters: {'n_estimators': 10000, 'num_leaves': 6, 'boosting': 'gbdt', 'max_depth': 4, 'max_bin': 32, 'min_data_in_leaf': 1, 'min_data_in_bin': 1, 'min_gain_to_split': 3.66, 'learning_rate': 0.25163679051923943, 'random_state': 0, 'feature_fraction': 0.9663295713596491, 'bagging_fraction': 0.5454374766957398, 'bagging_freq': 4, 'lambda_l1': 0.6531284084240051, 'lambda_l2': 0.00020380693011186752}. Best is trial 354 with value: 1.967147777953415.\u001b[0m\n"
     ]
    },
    {
     "name": "stdout",
     "output_type": "stream",
     "text": [
      "Early stopping, best iteration is:\n",
      "[28]\tvalid_0's rmse: 2.01588\n",
      "valid_score:  RMSE = 2.015881261338584\n",
      "Training until validation scores don't improve for 500 rounds\n",
      "[100]\tvalid_0's rmse: 2.04651\n",
      "[200]\tvalid_0's rmse: 2.02882\n",
      "[300]\tvalid_0's rmse: 2.02882\n",
      "[400]\tvalid_0's rmse: 2.02882\n"
     ]
    },
    {
     "name": "stderr",
     "output_type": "stream",
     "text": [
      "\u001b[32m[I 2022-02-23 14:50:30,497]\u001b[0m Trial 482 finished with value: 2.029903801938544 and parameters: {'n_estimators': 10000, 'num_leaves': 4, 'boosting': 'gbdt', 'max_depth': 15, 'max_bin': 32, 'min_data_in_leaf': 1, 'min_data_in_bin': 1, 'min_gain_to_split': 2.8600000000000003, 'learning_rate': 0.17516055651425774, 'random_state': 0, 'feature_fraction': 0.5283049903968436, 'bagging_fraction': 0.8707464396290305, 'bagging_freq': 7, 'lambda_l1': 1.0880192203055532e-05, 'lambda_l2': 0.9201711350368666}. Best is trial 354 with value: 1.967147777953415.\u001b[0m\n"
     ]
    },
    {
     "name": "stdout",
     "output_type": "stream",
     "text": [
      "[500]\tvalid_0's rmse: 2.02882\n",
      "[600]\tvalid_0's rmse: 2.02882\n",
      "Early stopping, best iteration is:\n",
      "[172]\tvalid_0's rmse: 2.02744\n",
      "valid_score:  RMSE = 2.029903801938544\n",
      "Training until validation scores don't improve for 500 rounds\n",
      "[100]\tvalid_0's rmse: 2.05094\n",
      "[200]\tvalid_0's rmse: 2.10829\n",
      "[300]\tvalid_0's rmse: 2.12768\n",
      "[400]\tvalid_0's rmse: 2.15542\n",
      "[500]\tvalid_0's rmse: 2.19196\n",
      "Early stopping, best iteration is:\n",
      "[90]\tvalid_0's rmse: 2.01675\n"
     ]
    },
    {
     "name": "stderr",
     "output_type": "stream",
     "text": [
      "\u001b[32m[I 2022-02-23 14:50:30,644]\u001b[0m Trial 483 finished with value: 2.016748216061007 and parameters: {'n_estimators': 5000, 'num_leaves': 4, 'boosting': 'gbdt', 'max_depth': 12, 'max_bin': 32, 'min_data_in_leaf': 1, 'min_data_in_bin': 1, 'min_gain_to_split': 0.71, 'learning_rate': 0.28771639769394103, 'random_state': 0, 'feature_fraction': 0.6167120468326707, 'bagging_fraction': 0.4856397265199448, 'bagging_freq': 6, 'lambda_l1': 0.3389292219617201, 'lambda_l2': 3.3094493609526095e-05}. Best is trial 354 with value: 1.967147777953415.\u001b[0m\n",
      "\u001b[32m[I 2022-02-23 14:50:30,821]\u001b[0m Trial 484 finished with value: 2.08940734710163 and parameters: {'n_estimators': 10000, 'num_leaves': 5, 'boosting': 'gbdt', 'max_depth': 13, 'max_bin': 32, 'min_data_in_leaf': 1, 'min_data_in_bin': 1, 'min_gain_to_split': 3.66, 'learning_rate': 0.2997888709544849, 'random_state': 0, 'feature_fraction': 0.6212142210917129, 'bagging_fraction': 0.4270481131337551, 'bagging_freq': 1, 'lambda_l1': 4.115298478118234e-08, 'lambda_l2': 3.954276513570862e-07}. Best is trial 354 with value: 1.967147777953415.\u001b[0m\n"
     ]
    },
    {
     "name": "stdout",
     "output_type": "stream",
     "text": [
      "valid_score:  RMSE = 2.016748216061007\n",
      "Training until validation scores don't improve for 500 rounds\n",
      "[100]\tvalid_0's rmse: 2.14896\n",
      "[200]\tvalid_0's rmse: 2.24893\n",
      "[300]\tvalid_0's rmse: 2.27595\n",
      "[400]\tvalid_0's rmse: 2.30332\n",
      "[500]\tvalid_0's rmse: 2.33979\n",
      "Early stopping, best iteration is:\n",
      "[34]\tvalid_0's rmse: 2.08941\n",
      "valid_score:  RMSE = 2.08940734710163\n",
      "Training until validation scores don't improve for 500 rounds\n",
      "[100]\tvalid_0's rmse: 2.06475\n",
      "[200]\tvalid_0's rmse: 2.01937\n",
      "[300]\tvalid_0's rmse: 2.01487\n"
     ]
    },
    {
     "name": "stderr",
     "output_type": "stream",
     "text": [
      "\u001b[32m[I 2022-02-23 14:50:31,296]\u001b[0m Trial 485 finished with value: 2.007386282661803 and parameters: {'n_estimators': 5000, 'num_leaves': 12, 'boosting': 'gbdt', 'max_depth': 12, 'max_bin': 32, 'min_data_in_leaf': 1, 'min_data_in_bin': 1, 'min_gain_to_split': 3.2, 'learning_rate': 0.02529589221926895, 'random_state': 0, 'feature_fraction': 0.7617411802407017, 'bagging_fraction': 0.8077912548174953, 'bagging_freq': 1, 'lambda_l1': 2.3561022818155175e-07, 'lambda_l2': 2.3331129376607833e-05}. Best is trial 354 with value: 1.967147777953415.\u001b[0m\n"
     ]
    },
    {
     "name": "stdout",
     "output_type": "stream",
     "text": [
      "[400]\tvalid_0's rmse: 2.00833\n",
      "[500]\tvalid_0's rmse: 2.00739\n",
      "[600]\tvalid_0's rmse: 2.00739\n",
      "[700]\tvalid_0's rmse: 2.00739\n",
      "[800]\tvalid_0's rmse: 2.00739\n",
      "[900]\tvalid_0's rmse: 2.00739\n",
      "Early stopping, best iteration is:\n",
      "[426]\tvalid_0's rmse: 2.00699\n",
      "valid_score:  RMSE = 2.007386282661803\n",
      "Training until validation scores don't improve for 500 rounds\n",
      "[100]\tvalid_0's rmse: 2.13693\n",
      "[200]\tvalid_0's rmse: 2.15119\n",
      "[300]\tvalid_0's rmse: 2.18544\n",
      "[400]\tvalid_0's rmse: 2.19127\n",
      "[500]\tvalid_0's rmse: 2.18314\n"
     ]
    },
    {
     "name": "stderr",
     "output_type": "stream",
     "text": [
      "\u001b[32m[I 2022-02-23 14:50:31,585]\u001b[0m Trial 486 finished with value: 2.075953296296357 and parameters: {'n_estimators': 5000, 'num_leaves': 16, 'boosting': 'gbdt', 'max_depth': 9, 'max_bin': 32, 'min_data_in_leaf': 1, 'min_data_in_bin': 1, 'min_gain_to_split': 0.13, 'learning_rate': 0.15204431499309534, 'random_state': 0, 'feature_fraction': 0.41298020576287464, 'bagging_fraction': 0.47573435916319207, 'bagging_freq': 4, 'lambda_l1': 0.006407082173949963, 'lambda_l2': 4.4450815988270547e-07}. Best is trial 354 with value: 1.967147777953415.\u001b[0m\n"
     ]
    },
    {
     "name": "stdout",
     "output_type": "stream",
     "text": [
      "Early stopping, best iteration is:\n",
      "[33]\tvalid_0's rmse: 2.07595\n",
      "valid_score:  RMSE = 2.075953296296357\n",
      "Training until validation scores don't improve for 500 rounds\n",
      "[100]\tvalid_0's rmse: 2.07357\n",
      "[200]\tvalid_0's rmse: 2.07357\n",
      "[300]\tvalid_0's rmse: 2.07357\n",
      "[400]\tvalid_0's rmse: 2.07357\n",
      "[500]\tvalid_0's rmse: 2.07357\n"
     ]
    },
    {
     "name": "stderr",
     "output_type": "stream",
     "text": [
      "\u001b[32m[I 2022-02-23 14:50:31,789]\u001b[0m Trial 487 finished with value: 2.0306461451222457 and parameters: {'n_estimators': 10000, 'num_leaves': 14, 'boosting': 'gbdt', 'max_depth': 8, 'max_bin': 32, 'min_data_in_leaf': 1, 'min_data_in_bin': 1, 'min_gain_to_split': 1.1900000000000002, 'learning_rate': 0.2387511409559959, 'random_state': 0, 'feature_fraction': 0.7931513759468158, 'bagging_fraction': 0.9203446305178025, 'bagging_freq': 2, 'lambda_l1': 3.130539541794422e-06, 'lambda_l2': 0.00607512466957814}. Best is trial 354 with value: 1.967147777953415.\u001b[0m\n"
     ]
    },
    {
     "name": "stdout",
     "output_type": "stream",
     "text": [
      "Early stopping, best iteration is:\n",
      "[20]\tvalid_0's rmse: 2.03065\n",
      "valid_score:  RMSE = 2.0306461451222457\n",
      "Training until validation scores don't improve for 500 rounds\n",
      "[100]\tvalid_0's rmse: 2.02678\n",
      "[200]\tvalid_0's rmse: 2.01892\n",
      "[300]\tvalid_0's rmse: 2.02577\n",
      "[400]\tvalid_0's rmse: 2.02577\n",
      "[500]\tvalid_0's rmse: 2.02577\n",
      "[600]\tvalid_0's rmse: 2.02577\n"
     ]
    },
    {
     "name": "stderr",
     "output_type": "stream",
     "text": [
      "\u001b[32m[I 2022-02-23 14:50:32,034]\u001b[0m Trial 488 finished with value: 2.015722093050074 and parameters: {'n_estimators': 5000, 'num_leaves': 8, 'boosting': 'gbdt', 'max_depth': 2, 'max_bin': 32, 'min_data_in_leaf': 1, 'min_data_in_bin': 1, 'min_gain_to_split': 1.27, 'learning_rate': 0.18067559344455575, 'random_state': 0, 'feature_fraction': 0.586896665046165, 'bagging_fraction': 0.9383083702299385, 'bagging_freq': 2, 'lambda_l1': 1.3028607557215409e-06, 'lambda_l2': 0.2890380345339191}. Best is trial 354 with value: 1.967147777953415.\u001b[0m\n"
     ]
    },
    {
     "name": "stdout",
     "output_type": "stream",
     "text": [
      "[700]\tvalid_0's rmse: 2.02577\n",
      "Early stopping, best iteration is:\n",
      "[220]\tvalid_0's rmse: 2.01572\n",
      "valid_score:  RMSE = 2.015722093050074\n",
      "Training until validation scores don't improve for 500 rounds\n",
      "[100]\tvalid_0's rmse: 2.49068\n",
      "[200]\tvalid_0's rmse: 2.26309\n",
      "[300]\tvalid_0's rmse: 2.15615\n",
      "[400]\tvalid_0's rmse: 2.09903\n",
      "[500]\tvalid_0's rmse: 2.07184\n",
      "[600]\tvalid_0's rmse: 2.05466\n",
      "[700]\tvalid_0's rmse: 2.03999\n",
      "[800]\tvalid_0's rmse: 2.03403\n",
      "[900]\tvalid_0's rmse: 2.03052\n",
      "[1000]\tvalid_0's rmse: 2.02672\n",
      "[1100]\tvalid_0's rmse: 2.02426\n",
      "[1200]\tvalid_0's rmse: 2.0235\n",
      "[1300]\tvalid_0's rmse: 2.02268\n",
      "[1400]\tvalid_0's rmse: 2.02241\n",
      "[1500]\tvalid_0's rmse: 2.02153\n",
      "[1600]\tvalid_0's rmse: 2.02138\n",
      "[1700]\tvalid_0's rmse: 2.02093\n",
      "[1800]\tvalid_0's rmse: 2.01984\n",
      "[1900]\tvalid_0's rmse: 2.01848\n",
      "[2000]\tvalid_0's rmse: 2.01904\n",
      "[2100]\tvalid_0's rmse: 2.01799\n",
      "[2200]\tvalid_0's rmse: 2.01689\n",
      "[2300]\tvalid_0's rmse: 2.01637\n",
      "[2400]\tvalid_0's rmse: 2.01579\n",
      "[2500]\tvalid_0's rmse: 2.01645\n",
      "[2600]\tvalid_0's rmse: 2.01795\n",
      "[2700]\tvalid_0's rmse: 2.01753\n",
      "[2800]\tvalid_0's rmse: 2.01679\n",
      "[2900]\tvalid_0's rmse: 2.01532\n",
      "[3000]\tvalid_0's rmse: 2.01616\n",
      "[3100]\tvalid_0's rmse: 2.01793\n",
      "[3200]\tvalid_0's rmse: 2.01783\n"
     ]
    },
    {
     "name": "stderr",
     "output_type": "stream",
     "text": [
      "\u001b[32m[I 2022-02-23 14:50:33,587]\u001b[0m Trial 489 finished with value: 2.015318960024291 and parameters: {'n_estimators': 10000, 'num_leaves': 10, 'boosting': 'gbdt', 'max_depth': 14, 'max_bin': 32, 'min_data_in_leaf': 1, 'min_data_in_bin': 1, 'min_gain_to_split': 0.95, 'learning_rate': 0.005679496311021633, 'random_state': 0, 'feature_fraction': 0.88867329069487, 'bagging_fraction': 0.9365122207311731, 'bagging_freq': 2, 'lambda_l1': 0.02295430060957856, 'lambda_l2': 2.0686026963508673e-06}. Best is trial 354 with value: 1.967147777953415.\u001b[0m\n"
     ]
    },
    {
     "name": "stdout",
     "output_type": "stream",
     "text": [
      "[3300]\tvalid_0's rmse: 2.01831\n",
      "[3400]\tvalid_0's rmse: 2.01899\n",
      "Early stopping, best iteration is:\n",
      "[2900]\tvalid_0's rmse: 2.01532\n",
      "valid_score:  RMSE = 2.015318960024291\n",
      "Training until validation scores don't improve for 500 rounds\n",
      "[100]\tvalid_0's rmse: 2.5219\n",
      "[200]\tvalid_0's rmse: 2.29409\n",
      "[300]\tvalid_0's rmse: 2.18866\n",
      "[400]\tvalid_0's rmse: 2.12772\n",
      "[500]\tvalid_0's rmse: 2.09598\n",
      "[600]\tvalid_0's rmse: 2.07981\n",
      "[700]\tvalid_0's rmse: 2.06139\n",
      "[800]\tvalid_0's rmse: 2.04958\n",
      "[900]\tvalid_0's rmse: 2.0414\n",
      "[1000]\tvalid_0's rmse: 2.03852\n",
      "[1100]\tvalid_0's rmse: 2.03527\n",
      "[1200]\tvalid_0's rmse: 2.03312\n",
      "[1300]\tvalid_0's rmse: 2.03285\n",
      "[1400]\tvalid_0's rmse: 2.0301\n",
      "[1500]\tvalid_0's rmse: 2.03019\n",
      "[1600]\tvalid_0's rmse: 2.02872\n",
      "[1700]\tvalid_0's rmse: 2.02848\n",
      "[1800]\tvalid_0's rmse: 2.02708\n",
      "[1900]\tvalid_0's rmse: 2.02331\n",
      "[2000]\tvalid_0's rmse: 2.02162\n",
      "[2100]\tvalid_0's rmse: 2.02072\n",
      "[2200]\tvalid_0's rmse: 2.02102\n",
      "[2300]\tvalid_0's rmse: 2.02077\n",
      "[2400]\tvalid_0's rmse: 2.0184\n",
      "[2500]\tvalid_0's rmse: 2.01703\n",
      "[2600]\tvalid_0's rmse: 2.01675\n",
      "[2700]\tvalid_0's rmse: 2.01363\n",
      "[2800]\tvalid_0's rmse: 2.01056\n",
      "[2900]\tvalid_0's rmse: 2.01061\n",
      "[3000]\tvalid_0's rmse: 2.00876\n",
      "[3100]\tvalid_0's rmse: 2.00698\n",
      "[3200]\tvalid_0's rmse: 2.00751\n",
      "[3300]\tvalid_0's rmse: 2.00638\n",
      "[3400]\tvalid_0's rmse: 2.00782\n",
      "[3500]\tvalid_0's rmse: 2.00719\n",
      "[3600]\tvalid_0's rmse: 2.00882\n",
      "[3700]\tvalid_0's rmse: 2.00699\n",
      "Early stopping, best iteration is:\n",
      "[3272]\tvalid_0's rmse: 2.00583\n"
     ]
    },
    {
     "name": "stderr",
     "output_type": "stream",
     "text": [
      "\u001b[32m[I 2022-02-23 14:50:34,625]\u001b[0m Trial 490 finished with value: 2.005892318578317 and parameters: {'n_estimators': 5000, 'num_leaves': 5, 'boosting': 'gbdt', 'max_depth': 8, 'max_bin': 32, 'min_data_in_leaf': 1, 'min_data_in_bin': 1, 'min_gain_to_split': 4.3, 'learning_rate': 0.006601173494959355, 'random_state': 0, 'feature_fraction': 0.6586093071743861, 'bagging_fraction': 0.636782077624673, 'bagging_freq': 6, 'lambda_l1': 0.0991822914917333, 'lambda_l2': 2.226372272918818e-06}. Best is trial 354 with value: 1.967147777953415.\u001b[0m\n"
     ]
    },
    {
     "name": "stdout",
     "output_type": "stream",
     "text": [
      "valid_score:  RMSE = 2.005892318578317\n",
      "Training until validation scores don't improve for 500 rounds\n",
      "[100]\tvalid_0's rmse: 2.03321\n",
      "[200]\tvalid_0's rmse: 2.05195\n",
      "[300]\tvalid_0's rmse: 2.05266\n",
      "[400]\tvalid_0's rmse: 2.05266\n",
      "[500]\tvalid_0's rmse: 2.05266\n"
     ]
    },
    {
     "name": "stderr",
     "output_type": "stream",
     "text": [
      "\u001b[32m[I 2022-02-23 14:50:34,854]\u001b[0m Trial 491 finished with value: 2.0148539369464795 and parameters: {'n_estimators': 10000, 'num_leaves': 11, 'boosting': 'gbdt', 'max_depth': 3, 'max_bin': 32, 'min_data_in_leaf': 1, 'min_data_in_bin': 1, 'min_gain_to_split': 3.8200000000000003, 'learning_rate': 0.10994196357883995, 'random_state': 0, 'feature_fraction': 0.6706891810074114, 'bagging_fraction': 0.6314291461354873, 'bagging_freq': 2, 'lambda_l1': 5.8759837031015695e-08, 'lambda_l2': 0.00019791555711458909}. Best is trial 354 with value: 1.967147777953415.\u001b[0m\n"
     ]
    },
    {
     "name": "stdout",
     "output_type": "stream",
     "text": [
      "Early stopping, best iteration is:\n",
      "[75]\tvalid_0's rmse: 2.01485\n",
      "valid_score:  RMSE = 2.0148539369464795\n",
      "Training until validation scores don't improve for 500 rounds\n",
      "[100]\tvalid_0's rmse: 2.03894\n",
      "[200]\tvalid_0's rmse: 2.02604\n",
      "[300]\tvalid_0's rmse: 2.02386\n",
      "[400]\tvalid_0's rmse: 2.02592\n",
      "[500]\tvalid_0's rmse: 2.02588\n",
      "[600]\tvalid_0's rmse: 2.03841\n"
     ]
    },
    {
     "name": "stderr",
     "output_type": "stream",
     "text": [
      "\u001b[32m[I 2022-02-23 14:50:35,410]\u001b[0m Trial 492 finished with value: 2.019882093480339 and parameters: {'n_estimators': 10000, 'num_leaves': 14, 'boosting': 'gbdt', 'max_depth': 12, 'max_bin': 32, 'min_data_in_leaf': 1, 'min_data_in_bin': 1, 'min_gain_to_split': 0.88, 'learning_rate': 0.04052289043494943, 'random_state': 0, 'feature_fraction': 0.4979898099749914, 'bagging_fraction': 0.7846626685121822, 'bagging_freq': 1, 'lambda_l1': 2.7989601650594598e-08, 'lambda_l2': 8.957965323346715e-08}. Best is trial 354 with value: 1.967147777953415.\u001b[0m\n"
     ]
    },
    {
     "name": "stdout",
     "output_type": "stream",
     "text": [
      "[700]\tvalid_0's rmse: 2.04458\n",
      "Early stopping, best iteration is:\n",
      "[271]\tvalid_0's rmse: 2.01988\n",
      "valid_score:  RMSE = 2.019882093480339\n",
      "Training until validation scores don't improve for 500 rounds\n",
      "[100]\tvalid_0's rmse: 2.04701\n",
      "[200]\tvalid_0's rmse: 2.00746\n",
      "[300]\tvalid_0's rmse: 2.00831\n",
      "[400]\tvalid_0's rmse: 2.00931\n",
      "[500]\tvalid_0's rmse: 2.00843\n",
      "[600]\tvalid_0's rmse: 2.00908\n"
     ]
    },
    {
     "name": "stderr",
     "output_type": "stream",
     "text": [
      "\u001b[32m[I 2022-02-23 14:50:35,819]\u001b[0m Trial 493 finished with value: 2.0003747203057105 and parameters: {'n_estimators': 5000, 'num_leaves': 13, 'boosting': 'gbdt', 'max_depth': 16, 'max_bin': 32, 'min_data_in_leaf': 1, 'min_data_in_bin': 1, 'min_gain_to_split': 1.31, 'learning_rate': 0.027034512191029682, 'random_state': 0, 'feature_fraction': 0.8557030495113915, 'bagging_fraction': 0.8202806141812421, 'bagging_freq': 7, 'lambda_l1': 0.15964185721574006, 'lambda_l2': 1.5175677124783094e-06}. Best is trial 354 with value: 1.967147777953415.\u001b[0m\n",
      "\u001b[32m[I 2022-02-23 14:50:35,991]\u001b[0m Trial 494 finished with value: 2.0589373726475797 and parameters: {'n_estimators': 10000, 'num_leaves': 7, 'boosting': 'gbdt', 'max_depth': 9, 'max_bin': 32, 'min_data_in_leaf': 1, 'min_data_in_bin': 1, 'min_gain_to_split': 1.2100000000000002, 'learning_rate': 0.1427648419002091, 'random_state': 0, 'feature_fraction': 0.7162283720826346, 'bagging_fraction': 0.4927908594354625, 'bagging_freq': 5, 'lambda_l1': 2.0401314919961715e-06, 'lambda_l2': 0.015653511726058725}. Best is trial 354 with value: 1.967147777953415.\u001b[0m\n"
     ]
    },
    {
     "name": "stdout",
     "output_type": "stream",
     "text": [
      "[700]\tvalid_0's rmse: 2.01382\n",
      "Early stopping, best iteration is:\n",
      "[228]\tvalid_0's rmse: 2.00037\n",
      "valid_score:  RMSE = 2.0003747203057105\n",
      "Training until validation scores don't improve for 500 rounds\n",
      "[100]\tvalid_0's rmse: 2.06359\n",
      "[200]\tvalid_0's rmse: 2.12516\n",
      "[300]\tvalid_0's rmse: 2.14864\n",
      "[400]\tvalid_0's rmse: 2.15031\n",
      "[500]\tvalid_0's rmse: 2.17139\n",
      "Early stopping, best iteration is:\n",
      "[47]\tvalid_0's rmse: 2.05894\n",
      "valid_score:  RMSE = 2.0589373726475797\n",
      "Training until validation scores don't improve for 500 rounds\n",
      "[100]\tvalid_0's rmse: 2.26645\n",
      "[200]\tvalid_0's rmse: 2.07309\n",
      "[300]\tvalid_0's rmse: 2.02723\n",
      "[400]\tvalid_0's rmse: 2.00636\n",
      "[500]\tvalid_0's rmse: 1.99511\n",
      "[600]\tvalid_0's rmse: 1.9941\n",
      "[700]\tvalid_0's rmse: 1.98957\n",
      "[800]\tvalid_0's rmse: 1.98418\n",
      "[900]\tvalid_0's rmse: 1.98184\n",
      "[1000]\tvalid_0's rmse: 1.98252\n",
      "[1100]\tvalid_0's rmse: 1.97978\n",
      "[1200]\tvalid_0's rmse: 1.97711\n",
      "[1300]\tvalid_0's rmse: 1.97956\n",
      "[1400]\tvalid_0's rmse: 1.98091\n"
     ]
    },
    {
     "name": "stderr",
     "output_type": "stream",
     "text": [
      "\u001b[32m[I 2022-02-23 14:50:36,890]\u001b[0m Trial 495 finished with value: 1.976509997351471 and parameters: {'n_estimators': 10000, 'num_leaves': 14, 'boosting': 'gbdt', 'max_depth': 14, 'max_bin': 32, 'min_data_in_leaf': 1, 'min_data_in_bin': 1, 'min_gain_to_split': 1.6400000000000001, 'learning_rate': 0.011880733709854444, 'random_state': 0, 'feature_fraction': 0.49109247925027627, 'bagging_fraction': 0.6328695713633119, 'bagging_freq': 6, 'lambda_l1': 2.953145842143279e-05, 'lambda_l2': 0.00021238245040332865}. Best is trial 354 with value: 1.967147777953415.\u001b[0m\n"
     ]
    },
    {
     "name": "stdout",
     "output_type": "stream",
     "text": [
      "[1500]\tvalid_0's rmse: 1.98204\n",
      "[1600]\tvalid_0's rmse: 1.98119\n",
      "[1700]\tvalid_0's rmse: 1.98318\n",
      "Early stopping, best iteration is:\n",
      "[1211]\tvalid_0's rmse: 1.97651\n",
      "valid_score:  RMSE = 1.976509997351471\n",
      "Training until validation scores don't improve for 500 rounds\n"
     ]
    },
    {
     "name": "stderr",
     "output_type": "stream",
     "text": [
      "\u001b[32m[I 2022-02-23 14:50:37,113]\u001b[0m Trial 496 finished with value: 2.0242721278263867 and parameters: {'n_estimators': 10000, 'num_leaves': 3, 'boosting': 'gbdt', 'max_depth': 14, 'max_bin': 32, 'min_data_in_leaf': 1, 'min_data_in_bin': 1, 'min_gain_to_split': 0.19, 'learning_rate': 0.05194085440060072, 'random_state': 0, 'feature_fraction': 0.700729461522976, 'bagging_fraction': 0.42330569021915554, 'bagging_freq': 7, 'lambda_l1': 0.17792577564538453, 'lambda_l2': 0.06137605738948024}. Best is trial 354 with value: 1.967147777953415.\u001b[0m\n"
     ]
    },
    {
     "name": "stdout",
     "output_type": "stream",
     "text": [
      "[100]\tvalid_0's rmse: 2.09378\n",
      "[200]\tvalid_0's rmse: 2.05842\n",
      "[300]\tvalid_0's rmse: 2.05757\n",
      "[400]\tvalid_0's rmse: 2.04951\n",
      "[500]\tvalid_0's rmse: 2.04095\n",
      "[600]\tvalid_0's rmse: 2.02924\n",
      "[700]\tvalid_0's rmse: 2.04041\n",
      "[800]\tvalid_0's rmse: 2.05078\n",
      "[900]\tvalid_0's rmse: 2.0503\n",
      "[1000]\tvalid_0's rmse: 2.06209\n",
      "[1100]\tvalid_0's rmse: 2.05575\n",
      "Early stopping, best iteration is:\n",
      "[608]\tvalid_0's rmse: 2.02427\n",
      "valid_score:  RMSE = 2.0242721278263867\n",
      "Training until validation scores don't improve for 500 rounds\n"
     ]
    },
    {
     "name": "stderr",
     "output_type": "stream",
     "text": [
      "\u001b[32m[I 2022-02-23 14:50:37,336]\u001b[0m Trial 497 finished with value: 2.0442683951143774 and parameters: {'n_estimators': 5000, 'num_leaves': 12, 'boosting': 'gbdt', 'max_depth': 11, 'max_bin': 32, 'min_data_in_leaf': 1, 'min_data_in_bin': 1, 'min_gain_to_split': 1.1700000000000002, 'learning_rate': 0.23968388157696868, 'random_state': 0, 'feature_fraction': 0.6469536516622307, 'bagging_fraction': 0.9652833958042922, 'bagging_freq': 7, 'lambda_l1': 5.842166274681977e-07, 'lambda_l2': 3.505170055690047e-05}. Best is trial 354 with value: 1.967147777953415.\u001b[0m\n"
     ]
    },
    {
     "name": "stdout",
     "output_type": "stream",
     "text": [
      "[100]\tvalid_0's rmse: 2.06017\n",
      "[200]\tvalid_0's rmse: 2.06017\n",
      "[300]\tvalid_0's rmse: 2.06017\n",
      "[400]\tvalid_0's rmse: 2.06017\n",
      "[500]\tvalid_0's rmse: 2.06017\n",
      "Early stopping, best iteration is:\n",
      "[16]\tvalid_0's rmse: 2.04427\n",
      "valid_score:  RMSE = 2.0442683951143774\n",
      "Training until validation scores don't improve for 500 rounds\n"
     ]
    },
    {
     "name": "stderr",
     "output_type": "stream",
     "text": [
      "\u001b[32m[I 2022-02-23 14:50:37,596]\u001b[0m Trial 498 finished with value: 2.0036204728533598 and parameters: {'n_estimators': 10000, 'num_leaves': 9, 'boosting': 'gbdt', 'max_depth': 13, 'max_bin': 32, 'min_data_in_leaf': 1, 'min_data_in_bin': 1, 'min_gain_to_split': 1.2000000000000002, 'learning_rate': 0.1615376452998975, 'random_state': 0, 'feature_fraction': 0.5112340556041084, 'bagging_fraction': 0.5730345986878583, 'bagging_freq': 4, 'lambda_l1': 6.107828800529105e-07, 'lambda_l2': 0.0002222471475937367}. Best is trial 354 with value: 1.967147777953415.\u001b[0m\n"
     ]
    },
    {
     "name": "stdout",
     "output_type": "stream",
     "text": [
      "[100]\tvalid_0's rmse: 2.07504\n",
      "[200]\tvalid_0's rmse: 2.10727\n",
      "[300]\tvalid_0's rmse: 2.11877\n",
      "[400]\tvalid_0's rmse: 2.16651\n",
      "[500]\tvalid_0's rmse: 2.16739\n",
      "Early stopping, best iteration is:\n",
      "[36]\tvalid_0's rmse: 2.00362\n",
      "valid_score:  RMSE = 2.0036204728533598\n",
      "Training until validation scores don't improve for 500 rounds\n"
     ]
    },
    {
     "name": "stderr",
     "output_type": "stream",
     "text": [
      "\u001b[32m[I 2022-02-23 14:50:37,823]\u001b[0m Trial 499 finished with value: 2.0203090374075807 and parameters: {'n_estimators': 10000, 'num_leaves': 15, 'boosting': 'gbdt', 'max_depth': 5, 'max_bin': 32, 'min_data_in_leaf': 1, 'min_data_in_bin': 1, 'min_gain_to_split': 2.62, 'learning_rate': 0.14964004916437734, 'random_state': 0, 'feature_fraction': 0.9457451256572053, 'bagging_fraction': 0.935665628830114, 'bagging_freq': 4, 'lambda_l1': 2.7149337323559034e-08, 'lambda_l2': 0.003640324086446013}. Best is trial 354 with value: 1.967147777953415.\u001b[0m\n"
     ]
    },
    {
     "name": "stdout",
     "output_type": "stream",
     "text": [
      "[100]\tvalid_0's rmse: 2.0214\n",
      "[200]\tvalid_0's rmse: 2.0214\n",
      "[300]\tvalid_0's rmse: 2.0214\n",
      "[400]\tvalid_0's rmse: 2.0214\n",
      "[500]\tvalid_0's rmse: 2.0214\n",
      "Early stopping, best iteration is:\n",
      "[51]\tvalid_0's rmse: 2.02031\n",
      "valid_score:  RMSE = 2.0203090374075807\n"
     ]
    }
   ],
   "source": [
    "# set up optuna\n",
    "# and use RandomSampler\n",
    "study = optuna.create_study(\n",
    "    direction='minimize',\n",
    "    sampler=optuna.samplers.RandomSampler())\n",
    "study.optimize(objective, n_trials=500)"
   ]
  },
  {
   "cell_type": "code",
   "execution_count": 32,
   "id": "768ce5de",
   "metadata": {},
   "outputs": [
    {
     "data": {
      "text/plain": [
       "{'n_estimators': 10000,\n",
       " 'num_leaves': 15,\n",
       " 'boosting': 'gbdt',\n",
       " 'max_depth': 5,\n",
       " 'max_bin': 32,\n",
       " 'min_data_in_leaf': 1,\n",
       " 'min_data_in_bin': 1,\n",
       " 'min_gain_to_split': 3.87,\n",
       " 'learning_rate': 0.13559623067878163,\n",
       " 'random_state': 0,\n",
       " 'feature_fraction': 0.4629352923314487,\n",
       " 'bagging_fraction': 0.8352156581622462,\n",
       " 'bagging_freq': 7,\n",
       " 'lambda_l1': 4.339454011245544e-08,\n",
       " 'lambda_l2': 0.0031662095674507883}"
      ]
     },
     "execution_count": 32,
     "metadata": {},
     "output_type": "execute_result"
    }
   ],
   "source": [
    "# print best parameters we found\n",
    "study.best_params"
   ]
  },
  {
   "cell_type": "code",
   "execution_count": 33,
   "id": "541397f7",
   "metadata": {},
   "outputs": [
    {
     "data": {
      "text/plain": [
       "1.967147777953415"
      ]
     },
     "execution_count": 33,
     "metadata": {},
     "output_type": "execute_result"
    }
   ],
   "source": [
    "# print best rmse value we found\n",
    "study.best_value"
   ]
  },
  {
   "cell_type": "markdown",
   "id": "1db69821",
   "metadata": {},
   "source": [
    "## lgb model"
   ]
  },
  {
   "cell_type": "code",
   "execution_count": 34,
   "id": "4c7604e5",
   "metadata": {},
   "outputs": [],
   "source": [
    "def engineering_data(df_train, df_test):\n",
    "    X_train, X_valid, y_train, y_valid = train_test_split(\n",
    "        df_train.drop(['id', 'revenue'], axis=1),\n",
    "        df_train['revenue'],\n",
    "        test_size=0.2,\n",
    "        random_state=42)\n",
    "    \n",
    "    X_test = df_test.drop(['id'], axis=1)\n",
    "    \n",
    "    # missing imputation\n",
    "    cat_imputer_missing = CategoricalImputer(\n",
    "        imputation_method='missing', variables=CATEGORICAL_VARS_WITH_NA_MISSING)\n",
    "    X_train = cat_imputer_missing.fit_transform(X_train)\n",
    "    X_valid = cat_imputer_missing.transform(X_valid)\n",
    "    X_test = cat_imputer_missing.transform(X_test)\n",
    "    \n",
    "    cat_imputer_frequent = CategoricalImputer(\n",
    "        imputation_method='frequent', variables=CATEGORICAL_VARS_WITH_NA_FREQUENT)\n",
    "    X_train = cat_imputer_frequent.fit_transform(X_train)\n",
    "    X_valid = cat_imputer_frequent.transform(X_valid)\n",
    "    X_test = cat_imputer_frequent.transform(X_test)\n",
    "    \n",
    "    \n",
    "    # add missing indicator\n",
    "    missing_indicator = AddMissingIndicator(\n",
    "        variables=NUMERICAL_VARS_WITH_NA)\n",
    "    X_train = missing_indicator.fit_transform(X_train)\n",
    "    X_valid = missing_indicator.transform(X_valid)\n",
    "    X_test = missing_indicator.transform(X_test)    \n",
    "\n",
    "    \n",
    "    # impute numerical\n",
    "    mean_imputation = MeanMedianImputer(\n",
    "            imputation_method='mean', variables=NUMERICAL_VARS_WITH_NA)\n",
    "    X_train = mean_imputation.fit_transform(X_train)\n",
    "    X_valid = mean_imputation.transform(X_valid)\n",
    "    X_test = mean_imputation.transform(X_test)    \n",
    "\n",
    "\n",
    "    median_test_imputation = MeanMedianImputer(\n",
    "            imputation_method='median', variables=NEW_VARS_WITH_NA)\n",
    "    X_train = median_test_imputation.fit_transform(X_train)\n",
    "    X_test = median_test_imputation.transform(X_test)\n",
    "\n",
    "    # LOG transformation\n",
    "    log = LogTransformer(variables=NUMERICAL_LOG_VARS)\n",
    "    X_train = log.fit_transform(X_train)\n",
    "    X_valid = log.transform(X_valid)\n",
    "    X_test = log.transform(X_test)    \n",
    "\n",
    "    # Mappers\n",
    "    X_train['num_genres'] = X_train['num_genres'].map(genre_mappings)\n",
    "    X_valid['num_genres'] = X_valid['num_genres'].map(genre_mappings)\n",
    "    X_test['num_genres'] = X_test['num_genres'].map(genre_mappings)\n",
    "\n",
    "    X_train['num_pro_comps'] = X_train['num_pro_comps'].map(comps_mappings)\n",
    "    X_valid['num_pro_comps'] = X_valid['num_pro_comps'].map(comps_mappings)\n",
    "    X_test['num_pro_comps'] = X_test['num_pro_comps'].map(comps_mappings)\n",
    "\n",
    "    X_train['num_pro_count'] = X_train['num_pro_count'].map(count_mappings)\n",
    "    X_valid['num_pro_count'] = X_valid['num_pro_count'].map(count_mappings)\n",
    "    X_test['num_pro_count'] = X_test['num_pro_count'].map(count_mappings)    \n",
    "\n",
    "    X_train['num_spoken_lang'] = X_train['num_spoken_lang'].map(lang_mappings)\n",
    "    X_valid['num_spoken_lang'] = X_valid['num_spoken_lang'].map(lang_mappings)\n",
    "    X_test['num_spoken_lang'] = X_test['num_spoken_lang'].map(lang_mappings)\n",
    "\n",
    "    X_train['num_keywords'] = X_train['num_keywords'].map(keywords_mappings)\n",
    "    X_valid['num_keywords'] = X_valid['num_keywords'].map(keywords_mappings)\n",
    "    X_test['num_keywords'] = X_test['num_keywords'].map(keywords_mappings)\n",
    "\n",
    "    X_train['num_crew'] = X_train['num_crew'].map(crew_mappings)\n",
    "    X_valid['num_crew'] = X_valid['num_crew'].map(crew_mappings)\n",
    "    X_test['num_crew'] = X_test['num_crew'].map(crew_mappings)  \n",
    "\n",
    "    # scaler\n",
    "    scaler = MinMaxScaler()\n",
    "    X_train = pd.DataFrame(scaler.fit_transform(X_train),\n",
    "                              columns=X_train.columns)\n",
    "    X_valid = pd.DataFrame(scaler.transform(X_valid),\n",
    "                              columns=X_train.columns)\n",
    "    X_test = pd.DataFrame(scaler.transform(X_test),\n",
    "                         columns=X_train.columns)    \n",
    "\n",
    "    return X_train, X_valid, y_train, y_valid, X_test"
   ]
  },
  {
   "cell_type": "code",
   "execution_count": 35,
   "id": "690f98a2",
   "metadata": {},
   "outputs": [],
   "source": [
    "X_train, X_valid, y_train, y_valid, X_test = engineering_data(df_train, df_test)"
   ]
  },
  {
   "cell_type": "code",
   "execution_count": 36,
   "id": "a998bb9e",
   "metadata": {
    "scrolled": true
   },
   "outputs": [
    {
     "data": {
      "text/plain": [
       "((2400, 20), (600, 20), (4398, 20))"
      ]
     },
     "execution_count": 36,
     "metadata": {},
     "output_type": "execute_result"
    }
   ],
   "source": [
    "X_train.shape, X_valid.shape, X_test.shape"
   ]
  },
  {
   "cell_type": "code",
   "execution_count": 37,
   "id": "ae0d67b0",
   "metadata": {},
   "outputs": [],
   "source": [
    "y_train = np.log(y_train)\n",
    "y_valid = np.log(y_valid)"
   ]
  },
  {
   "cell_type": "code",
   "execution_count": 38,
   "id": "bff76482",
   "metadata": {},
   "outputs": [
    {
     "data": {
      "text/plain": [
       "LGBMRegressor(bagging_fraction=0.8352156581622462, bagging_freq=7,\n",
       "              boosting='gbdt', feature_fraction=0.4629352923314487,\n",
       "              lambda_l1=4.339454011245544e-08, lambda_l2=0.0031662095674507883,\n",
       "              learning_rate=0.13559623067878163, max_bin=32, max_depth=5,\n",
       "              min_data_in_bin=1, min_data_in_leaf=1, min_gain_to_split=3.87,\n",
       "              n_estimators=10000, num_leaves=15, random_state=0)"
      ]
     },
     "execution_count": 38,
     "metadata": {},
     "output_type": "execute_result"
    }
   ],
   "source": [
    "lgb_model = lgb.LGBMRegressor(**(study.best_params))\n",
    "lgb_model.fit(X_train, y_train)"
   ]
  },
  {
   "cell_type": "code",
   "execution_count": 39,
   "id": "6c09c900",
   "metadata": {},
   "outputs": [
    {
     "data": {
      "text/plain": [
       "1.7075463132310413"
      ]
     },
     "execution_count": 39,
     "metadata": {},
     "output_type": "execute_result"
    }
   ],
   "source": [
    "train_preds = lgb_model.predict(X_train)\n",
    "sqrt(mean_squared_error(y_train, train_preds))"
   ]
  },
  {
   "cell_type": "code",
   "execution_count": 40,
   "id": "6d97b14c",
   "metadata": {},
   "outputs": [
    {
     "data": {
      "text/plain": [
       "1.981864758237628"
      ]
     },
     "execution_count": 40,
     "metadata": {},
     "output_type": "execute_result"
    }
   ],
   "source": [
    "valid_preds = lgb_model.predict(X_valid)\n",
    "sqrt(mean_squared_error(y_valid, valid_preds))"
   ]
  },
  {
   "cell_type": "code",
   "execution_count": 41,
   "id": "72ecbc89",
   "metadata": {},
   "outputs": [],
   "source": [
    "test_id = df_test['id']"
   ]
  },
  {
   "cell_type": "code",
   "execution_count": 42,
   "id": "f51baee5",
   "metadata": {},
   "outputs": [
    {
     "data": {
      "text/html": [
       "<div>\n",
       "<style scoped>\n",
       "    .dataframe tbody tr th:only-of-type {\n",
       "        vertical-align: middle;\n",
       "    }\n",
       "\n",
       "    .dataframe tbody tr th {\n",
       "        vertical-align: top;\n",
       "    }\n",
       "\n",
       "    .dataframe thead th {\n",
       "        text-align: right;\n",
       "    }\n",
       "</style>\n",
       "<table border=\"1\" class=\"dataframe\">\n",
       "  <thead>\n",
       "    <tr style=\"text-align: right;\">\n",
       "      <th></th>\n",
       "      <th>id</th>\n",
       "      <th>revenue</th>\n",
       "    </tr>\n",
       "  </thead>\n",
       "  <tbody>\n",
       "    <tr>\n",
       "      <th>0</th>\n",
       "      <td>3001</td>\n",
       "      <td>6.019024e+05</td>\n",
       "    </tr>\n",
       "    <tr>\n",
       "      <th>1</th>\n",
       "      <td>3002</td>\n",
       "      <td>5.953367e+05</td>\n",
       "    </tr>\n",
       "    <tr>\n",
       "      <th>2</th>\n",
       "      <td>3003</td>\n",
       "      <td>4.210477e+06</td>\n",
       "    </tr>\n",
       "    <tr>\n",
       "      <th>3</th>\n",
       "      <td>3004</td>\n",
       "      <td>1.271916e+07</td>\n",
       "    </tr>\n",
       "    <tr>\n",
       "      <th>4</th>\n",
       "      <td>3005</td>\n",
       "      <td>6.397943e+05</td>\n",
       "    </tr>\n",
       "  </tbody>\n",
       "</table>\n",
       "</div>"
      ],
      "text/plain": [
       "     id       revenue\n",
       "0  3001  6.019024e+05\n",
       "1  3002  5.953367e+05\n",
       "2  3003  4.210477e+06\n",
       "3  3004  1.271916e+07\n",
       "4  3005  6.397943e+05"
      ]
     },
     "execution_count": 42,
     "metadata": {},
     "output_type": "execute_result"
    }
   ],
   "source": [
    "new_preds = pd.Series(np.exp(lgb_model.predict(X_test)), name='revenue')\n",
    "new_preds = pd.concat([test_id, new_preds], axis=1)\n",
    "new_preds.head()"
   ]
  },
  {
   "cell_type": "code",
   "execution_count": 43,
   "id": "39c50549",
   "metadata": {},
   "outputs": [],
   "source": [
    "# save submission file for kaggle\n",
    "new_preds.to_csv(path/'sub_lgb4.csv', index=False)"
   ]
  },
  {
   "cell_type": "code",
   "execution_count": 44,
   "id": "2cd90135",
   "metadata": {},
   "outputs": [],
   "source": [
    "import joblib"
   ]
  },
  {
   "cell_type": "code",
   "execution_count": 45,
   "id": "c204ebc0",
   "metadata": {},
   "outputs": [
    {
     "data": {
      "text/plain": [
       "['best_params.joblib']"
      ]
     },
     "execution_count": 45,
     "metadata": {},
     "output_type": "execute_result"
    }
   ],
   "source": [
    "# save best parameters for deployment\n",
    "joblib.dump(study.best_params, 'best_params.joblib')"
   ]
  }
 ],
 "metadata": {
  "kernelspec": {
   "display_name": "Python 3",
   "language": "python",
   "name": "python3"
  },
  "language_info": {
   "codemirror_mode": {
    "name": "ipython",
    "version": 3
   },
   "file_extension": ".py",
   "mimetype": "text/x-python",
   "name": "python",
   "nbconvert_exporter": "python",
   "pygments_lexer": "ipython3",
   "version": "3.8.8"
  },
  "toc": {
   "base_numbering": 1,
   "nav_menu": {},
   "number_sections": true,
   "sideBar": true,
   "skip_h1_title": true,
   "title_cell": "Table of Contents",
   "title_sidebar": "Contents",
   "toc_cell": true,
   "toc_position": {},
   "toc_section_display": true,
   "toc_window_display": false
  },
  "varInspector": {
   "cols": {
    "lenName": 16,
    "lenType": 16,
    "lenVar": 40
   },
   "kernels_config": {
    "python": {
     "delete_cmd_postfix": "",
     "delete_cmd_prefix": "del ",
     "library": "var_list.py",
     "varRefreshCmd": "print(var_dic_list())"
    },
    "r": {
     "delete_cmd_postfix": ") ",
     "delete_cmd_prefix": "rm(",
     "library": "var_list.r",
     "varRefreshCmd": "cat(var_dic_list()) "
    }
   },
   "types_to_exclude": [
    "module",
    "function",
    "builtin_function_or_method",
    "instance",
    "_Feature"
   ],
   "window_display": false
  }
 },
 "nbformat": 4,
 "nbformat_minor": 5
}
